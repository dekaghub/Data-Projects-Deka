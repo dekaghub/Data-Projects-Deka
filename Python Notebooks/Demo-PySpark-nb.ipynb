{
	"cells": [
		{
			"cell_type": "markdown",
			"metadata": {
				"deletable": false,
				"editable": false,
				"trusted": true
			},
			"source": [
				"\n",
				"# Glue Studio Notebook\n",
				"You are now running a **Glue Studio** notebook; before you can start using your notebook you *must* start an interactive session.\n",
				"\n",
				"## Available Magics\n",
				"|          Magic              |   Type       |                                                                        Description                                                                        |\n",
				"|-----------------------------|--------------|-----------------------------------------------------------------------------------------------------------------------------------------------------------|\n",
				"| %%configure                 |  Dictionary  |  A json-formatted dictionary consisting of all configuration parameters for a session. Each parameter can be specified here or through individual magics. |\n",
				"| %profile                    |  String      |  Specify a profile in your aws configuration to use as the credentials provider.                                                                          |\n",
				"| %iam_role                   |  String      |  Specify an IAM role to execute your session with.                                                                                                        |\n",
				"| %region                     |  String      |  Specify the AWS region in which to initialize a session.                                                                                                 |\n",
				"| %session_id                 |  String      |  Returns the session ID for the running session.                                                                                                          |\n",
				"| %connections                |  List        |  Specify a comma separated list of connections to use in the session.                                                                                     |\n",
				"| %additional_python_modules  |  List        |  Comma separated list of pip packages, s3 paths or private pip arguments.                                                                                 |\n",
				"| %extra_py_files             |  List        |  Comma separated list of additional Python files from S3.                                                                                                 |\n",
				"| %extra_jars                 |  List        |  Comma separated list of additional Jars to include in the cluster.                                                                                       |\n",
				"| %number_of_workers          |  Integer     |  The number of workers of a defined worker_type that are allocated when a job runs. worker_type must be set too.                                          |\n",
				"| %glue_version               |  String      |  The version of Glue to be used by this session. Currently, the only valid options are 2.0 and 3.0 (eg: %glue_version 2.0).                               |\n",
				"| %security_config            |  String      |  Define a security configuration to be used with this session.                                                                                            |\n",
				"| %sql                        |  String      |  Run SQL code. All lines after the initial %%sql magic will be passed as part of the SQL code.                                                            |\n",
				"| %streaming                  |  String      |  Changes the session type to Glue Streaming.                                                                                                              |\n",
				"| %etl                        |  String      |  Changes the session type to Glue ETL.                                                                                                                    |\n",
				"| %status                     |              |  Returns the status of the current Glue session including its duration, configuration and executing user / role.                                          |\n",
				"| %stop_session               |              |  Stops the current session.                                                                                                                               |\n",
				"| %list_sessions              |              |  Lists all currently running sessions by name and ID.                                                                                                     |\n",
				"| %worker_type                |  String      |  Standard, G.1X, *or* G.2X. number_of_workers must be set too. Default is G.1X.                                                                           |\n",
				"| %spark_conf                 |  String      |  Specify custom spark configurations for your session. E.g. %spark_conf spark.serializer=org.apache.spark.serializer.KryoSerializer.                      |"
			]
		},
		{
			"cell_type": "code",
			"execution_count": 1,
			"metadata": {
				"editable": true,
				"trusted": true
			},
			"outputs": [
				{
					"name": "stdout",
					"output_type": "stream",
					"text": [
						"Trying to create a Glue session for the kernel.\n",
						"Worker Type: G.1X\n",
						"Number of Workers: 5\n",
						"Session ID: f6c87ded-26d4-49c7-a3d0-28e5b6c8a691\n",
						"Job Type: glueetl\n",
						"Applying the following default arguments:\n",
						"--glue_kernel_version 0.37.0\n",
						"--enable-glue-datacatalog true\n",
						"Waiting for session f6c87ded-26d4-49c7-a3d0-28e5b6c8a691 to get into ready status...\n",
						"Session f6c87ded-26d4-49c7-a3d0-28e5b6c8a691 has been created.\n",
						"\n"
					]
				}
			],
			"source": [
				"import sys\n",
				"from awsglue.transforms import *\n",
				"from awsglue.utils import getResolvedOptions\n",
				"from pyspark.context import SparkContext\n",
				"from awsglue.context import GlueContext\n",
				"from awsglue.job import Job\n",
				"  \n",
				"sc = SparkContext.getOrCreate()\n",
				"glueContext = GlueContext(sc)\n",
				"spark = glueContext.spark_session\n",
				"job = Job(glueContext)"
			]
		},
		{
			"cell_type": "code",
			"execution_count": 2,
			"metadata": {
				"trusted": true
			},
			"outputs": [],
			"source": [
				"# Note: the above code block i.e. spark session initiation fails if the IAM role does not have iamPassRole action\n",
				"# \n",
				"# custom policy\n",
				"# {\n",
				"#     \"Version\": \"2012-10-17\",\n",
				"#     \"Statement\": [\n",
				"#         {\n",
				"#             \"Effect\": \"Allow\",\n",
				"#             \"Action\": [\n",
				"#                 \"iam:GetRole\",\n",
				"#                 \"iam:PassRole\"\n",
				"#             ],\n",
				"#             \"Resource\": [\n",
				"#                 \"*\"\n",
				"#             ]\n",
				"#         }\n",
				"#     ]\n",
				"# }"
			]
		},
		{
			"cell_type": "code",
			"execution_count": 2,
			"metadata": {
				"trusted": true
			},
			"outputs": [
				{
					"name": "stdout",
					"output_type": "stream",
					"text": [
						"<class 'pyspark.sql.dataframe.DataFrame'>\n"
					]
				}
			],
			"source": [
				"df = spark.read.load(\"s3://mybucket**Redacted/website_visit_data.csv\", \n",
				"                          format=\"csv\", \n",
				"                          sep=\",\", \n",
				"                          inferSchema=\"true\",\n",
				"                          header=\"true\")\n",
				"\n",
				"type(df)"
			]
		},
		{
			"cell_type": "code",
			"execution_count": 3,
			"metadata": {
				"trusted": true
			},
			"outputs": [
				{
					"name": "stdout",
					"output_type": "stream",
					"text": [
						"root\n",
						" |-- ID: integer (nullable = true)\n",
						" |-- CustomerName: string (nullable = true)\n",
						" |-- CustomerType: integer (nullable = true)\n",
						" |-- DateStarted: timestamp (nullable = true)\n",
						" |-- Duration: double (nullable = true)\n",
						" |-- gender: string (nullable = true)\n",
						" |-- Age: integer (nullable = true)\n",
						" |-- Salary: integer (nullable = true)\n",
						" |-- ReviewDuration: integer (nullable = true)\n",
						" |-- RelatedDuration: integer (nullable = true)\n",
						" |-- Purchased: integer (nullable = true)\n"
					]
				}
			],
			"source": [
				"# Print the schema in a tree format\n",
				"\n",
				"df.printSchema()"
			]
		},
		{
			"cell_type": "code",
			"execution_count": 4,
			"metadata": {
				"trusted": true
			},
			"outputs": [
				{
					"name": "stdout",
					"output_type": "stream",
					"text": [
						"10000\n"
					]
				}
			],
			"source": [
				"## get total count\n",
				"\n",
				"df.count()"
			]
		},
		{
			"cell_type": "code",
			"execution_count": 7,
			"metadata": {
				"trusted": true
			},
			"outputs": [
				{
					"name": "stdout",
					"output_type": "stream",
					"text": [
						"+-----+------------------+------------+-------------------+--------+------+---+------+--------------+---------------+---------+\n",
						"|   ID|      CustomerName|CustomerType|        DateStarted|Duration|gender|Age|Salary|ReviewDuration|RelatedDuration|Purchased|\n",
						"+-----+------------------+------------+-------------------+--------+------+---+------+--------------+---------------+---------+\n",
						"|10000|    Halloran,Ford |           3|2018-03-09 11:33:00|  565.81|  Male| 26|   198|            60|           null|        1|\n",
						"|10001|      Heidie Durno|           1|2018-03-09 00:10:00|   573.0|Female| 30|    95|            93|           null|        0|\n",
						"|10002|       Chad Rodden|           4|2018-03-09 13:48:00|  134.39|Female| 67|    31|            68|             92|        0|\n",
						"|10003|     Mathon,Bjorn |           2|2018-03-09 13:27:00|  605.32|  Male| 22|    50|          null|           null|        0|\n",
						"|10004|   Rentoll,Truman |           2|2018-03-09 14:01:00|   533.4|  Male| 67|   105|          null|           null|        0|\n",
						"|10005|    Darelle Murkus|           3|2018-03-09 09:03:00|  871.81|Female| 29|   182|          null|             89|        1|\n",
						"|10006|   Eddy Jellicorse|           4|2018-03-09 02:56:00|  642.57|Female| 74|   115|          null|             71|        0|\n",
						"|10007|  Van Dijk,Waylin |           1|2018-03-09 21:03:00|   47.55|  Male| 21|   162|          null|             35|        0|\n",
						"|10008|      Luise Tenant|           2|2018-03-09 03:30:00|  341.38|Female| 64|    13|             8|           null|        1|\n",
						"|10009|    Regnard,Keven |           1|2018-03-09 15:55:00|   669.8|  Male| 77|   117|            23|           null|        0|\n",
						"|10010|    Dorri Cuardall|           2|2018-03-09 08:10:00|  692.62|Female| 72|   154|          null|           null|        0|\n",
						"|10011|    Haydon,Gerick |           1|2018-03-09 06:33:00|   68.15|  Male| 66|    45|            39|           null|        0|\n",
						"|10012|      Heddi Brauns|           3|2018-03-09 06:45:00|  498.22|Female| 34|    67|          null|             29|        1|\n",
						"|10013|     Bonnin,Bryon |           4|2018-03-09 16:02:00|  370.41|  Male| 74|   126|            82|             44|        0|\n",
						"|10014|Melisenda Colquitt|           4|2018-03-09 17:52:00|  339.99|Female| 69|    48|            26|             62|        0|\n",
						"|10015|    Helaina Ragate|           4|2018-03-09 16:19:00|  241.69|Female| 55|    16|            23|           null|        0|\n",
						"|10016|    Barukh,Sutton |           3|2018-03-09 22:09:00|  720.61|  Male| 20|   174|            83|             60|        0|\n",
						"|10017|   Babette Laslett|           3|2018-03-09 20:04:00|  523.42|Female| 67|   196|            89|             57|        1|\n",
						"|10018|     Coriss Skiggs|           1|2018-03-09 04:31:00|   499.0|Female| 24|   171|            62|           null|        0|\n",
						"|10019|   Gretta Milstead|           4|2018-03-09 07:42:00|  279.76|Female| 41|   109|            19|           null|        0|\n",
						"+-----+------------------+------------+-------------------+--------+------+---+------+--------------+---------------+---------+\n",
						"only showing top 20 rows\n"
					]
				}
			],
			"source": [
				"df.show()"
			]
		},
		{
			"cell_type": "code",
			"execution_count": 18,
			"metadata": {
				"trusted": true
			},
			"outputs": [
				{
					"name": "stdout",
					"output_type": "stream",
					"text": [
						"+------------+\n",
						"|CustomerType|\n",
						"+------------+\n",
						"|           1|\n",
						"|           3|\n",
						"|           2|\n",
						"|           4|\n",
						"+------------+\n"
					]
				}
			],
			"source": [
				"# get unique (i.e. distinct) values\n",
				"\n",
				"df.dropDuplicates([\"CustomerType\"]).select(\"CustomerType\").show()"
			]
		},
		{
			"cell_type": "code",
			"execution_count": 21,
			"metadata": {
				"trusted": true
			},
			"outputs": [
				{
					"name": "stdout",
					"output_type": "stream",
					"text": [
						"191\n"
					]
				}
			],
			"source": [
				"# get unique (i.e. distinct) values\n",
				"\n",
				"df.dropDuplicates([\"Salary\"]).count()"
			]
		},
		{
			"cell_type": "code",
			"execution_count": 16,
			"metadata": {
				"trusted": true
			},
			"outputs": [
				{
					"name": "stdout",
					"output_type": "stream",
					"text": [
						"+------------------+\n",
						"|      customername|\n",
						"+------------------+\n",
						"|    Halloran,Ford |\n",
						"|      Heidie Durno|\n",
						"|       Chad Rodden|\n",
						"|     Mathon,Bjorn |\n",
						"|   Rentoll,Truman |\n",
						"|    Darelle Murkus|\n",
						"|   Eddy Jellicorse|\n",
						"|  Van Dijk,Waylin |\n",
						"|      Luise Tenant|\n",
						"|    Regnard,Keven |\n",
						"|    Dorri Cuardall|\n",
						"|    Haydon,Gerick |\n",
						"|      Heddi Brauns|\n",
						"|     Bonnin,Bryon |\n",
						"|Melisenda Colquitt|\n",
						"|    Helaina Ragate|\n",
						"|    Barukh,Sutton |\n",
						"|   Babette Laslett|\n",
						"|     Coriss Skiggs|\n",
						"|   Gretta Milstead|\n",
						"+------------------+\n",
						"only showing top 20 rows\n"
					]
				}
			],
			"source": [
				"# using sql with spark\n",
				"df.createOrReplaceTempView(\"tempTabledf\")\n",
				"spark.sql(\"select customername from tempTabledf\").show()"
			]
		},
		{
			"cell_type": "code",
			"execution_count": 25,
			"metadata": {
				"trusted": true
			},
			"outputs": [
				{
					"name": "stdout",
					"output_type": "stream",
					"text": [
						"+-----+---------------------+------------+-------------------+--------+------+---+------+--------------+---------------+---------+\n",
						"|ID   |CustomerName         |CustomerType|DateStarted        |Duration|gender|Age|Salary|ReviewDuration|RelatedDuration|Purchased|\n",
						"+-----+---------------------+------------+-------------------+--------+------+---+------+--------------+---------------+---------+\n",
						"|10000|Halloran,Ford        |3           |2018-03-09 11:33:00|565.81  |Male  |26 |198   |60            |null           |1        |\n",
						"|10005|Darelle Murkus       |3           |2018-03-09 09:03:00|871.81  |Female|29 |182   |null          |89             |1        |\n",
						"|10006|Eddy Jellicorse      |4           |2018-03-09 02:56:00|642.57  |Female|74 |115   |null          |71             |0        |\n",
						"|10013|Bonnin,Bryon         |4           |2018-03-09 16:02:00|370.41  |Male  |74 |126   |82            |44             |0        |\n",
						"|10016|Barukh,Sutton        |3           |2018-03-09 22:09:00|720.61  |Male  |20 |174   |83            |60             |0        |\n",
						"|10017|Babette Laslett      |3           |2018-03-09 20:04:00|523.42  |Female|67 |196   |89            |57             |1        |\n",
						"|10019|Gretta Milstead      |4           |2018-03-09 07:42:00|279.76  |Female|41 |109   |19            |null           |0        |\n",
						"|10020|Lian Messom          |4           |2018-03-09 18:40:00|423.36  |Female|77 |120   |36            |65             |1        |\n",
						"|10021|Francoise MacIlory   |4           |2018-03-09 19:11:00|334.39  |Female|36 |111   |53            |67             |0        |\n",
						"|10022|Staner,Friedrick     |3           |2018-03-09 04:22:00|702.08  |Male  |23 |118   |90            |null           |1        |\n",
						"|10025|Force,Englebert      |4           |2018-03-09 23:27:00|574.98  |Male  |36 |144   |null          |null           |0        |\n",
						"|10026|Barbe Eytel          |4           |2018-03-09 15:49:00|803.44  |Female|24 |141   |84            |null           |0        |\n",
						"|10027|Poulett,Parker       |3           |2018-03-09 02:43:00|596.68  |Male  |18 |150   |null          |null           |0        |\n",
						"|10031|Stradling,Constantin |3           |2018-03-09 14:04:00|677.48  |Male  |29 |156   |null          |36             |1        |\n",
						"|10045|Krystle Upcraft      |3           |2018-03-09 11:38:00|773.52  |Female|45 |185   |43            |25             |0        |\n",
						"|10046|Kelcey Finlry        |3           |2018-03-09 01:00:00|749.11  |Female|45 |111   |23            |null           |0        |\n",
						"|10055|Coriss Magner        |4           |2018-03-09 21:24:00|882.87  |Female|24 |151   |null          |null           |0        |\n",
						"|10056|MacIlriach,Ced       |4           |2018-03-09 17:28:00|553.29  |Male  |31 |117   |28            |82             |0        |\n",
						"|10057|Hedda Rummings       |3           |2018-03-09 01:22:00|521.33  |Female|25 |106   |null          |null           |0        |\n",
						"|10065|Joella Pudden        |4           |2018-03-09 17:37:00|566.14  |Female|26 |192   |44            |13             |0        |\n",
						"+-----+---------------------+------------+-------------------+--------+------+---+------+--------------+---------------+---------+\n",
						"only showing top 20 rows\n"
					]
				}
			],
			"source": [
				"# filter by multiple column values \n",
				"# filter() and where() are synonymous\n",
				"\n",
				"df.filter((df[\"customertype\"] > 2) & (df[\"salary\"] > 100)).show(truncate=False)"
			]
		},
		{
			"cell_type": "code",
			"execution_count": 30,
			"metadata": {
				"trusted": true
			},
			"outputs": [
				{
					"name": "stdout",
					"output_type": "stream",
					"text": [
						"+-----+--------------------------+------------+-------------------+--------+------+---+------+--------------+---------------+---------+\n",
						"|ID   |CustomerName              |CustomerType|DateStarted        |Duration|gender|Age|Salary|ReviewDuration|RelatedDuration|Purchased|\n",
						"+-----+--------------------------+------------+-------------------+--------+------+---+------+--------------+---------------+---------+\n",
						"|10031|Stradling,Constantin      |3           |2018-03-09 14:04:00|677.48  |Male  |29 |156   |null          |36             |1        |\n",
						"|10388|Andromache Rutherford     |2           |2018-03-09 19:34:00|584.41  |Female|17 |176   |93            |69             |1        |\n",
						"|10508|Marylynne Bartkiewicz     |3           |2018-03-09 00:19:00|644.61  |Female|19 |167   |78            |18             |0        |\n",
						"|10662|Bellchamber,Llywellyn     |1           |2018-03-09 23:34:00|113.63  |Male  |58 |160   |null          |20             |0        |\n",
						"|11383|Leathwood,Shellysheldon   |3           |2018-03-09 15:00:00|554.07  |Male  |71 |175   |35            |23             |0        |\n",
						"|11691|Oldfield-Cherry,Ximenes   |4           |2018-03-09 00:39:00|499.1   |Male  |77 |154   |66            |73             |1        |\n",
						"|12119|Barbaraanne Priestnall    |4           |2018-03-09 09:23:00|685.09  |Female|75 |194   |null          |null           |0        |\n",
						"|12915|Gerrilee Blennerhassett   |1           |2018-03-09 06:58:00|30.35   |Female|47 |168   |78            |41             |0        |\n",
						"|13621|Dillingstone,Eustace      |3           |2018-03-09 17:40:00|285.3   |Male  |68 |181   |null          |null           |0        |\n",
						"|13886|Fitzsimons,Dominique      |2           |2018-03-09 05:39:00|809.86  |Male  |37 |183   |null          |null           |1        |\n",
						"|13960|Anneliese Biermatowicz    |1           |2018-03-09 08:59:00|14.29   |Female|41 |190   |null          |null           |1        |\n",
						"|14205|Tomaszczyk,Christiano     |4           |2018-03-09 20:48:00|428.95  |Male  |23 |169   |null          |null           |1        |\n",
						"|15156|Blandamere,Thorndike      |4           |2018-03-09 01:26:00|366.06  |Male  |42 |151   |97            |59             |0        |\n",
						"|15168|Melisenda Gaine of England|2           |2018-03-09 07:12:00|388.93  |Female|46 |161   |95            |null           |0        |\n",
						"|15243|Stonebridge,Olenolin      |1           |2018-03-09 15:03:00|690.0   |Male  |71 |166   |null          |84             |1        |\n",
						"|15268|Braikenridge,Robinet      |4           |2018-03-09 12:49:00|698.26  |Male  |53 |167   |77            |null           |0        |\n",
						"|15705|Joceline Van den Broek    |1           |2018-03-09 00:43:00|82.94   |Female|65 |192   |null          |26             |0        |\n",
						"|15730|Lowndsborough,Killian     |4           |2018-03-09 20:56:00|656.67  |Male  |18 |154   |null          |null           |1        |\n",
						"|15755|Benediktovich,Hailey      |4           |2018-03-09 08:47:00|762.29  |Male  |37 |194   |null          |null           |1        |\n",
						"|17430|Ulrikaumeko Robberecht    |4           |2018-03-09 11:14:00|798.66  |Female|20 |160   |91            |null           |1        |\n",
						"+-----+--------------------------+------------+-------------------+--------+------+---+------+--------------+---------------+---------+\n",
						"only showing top 20 rows\n"
					]
				}
			],
			"source": [
				"# need to import length() from pyspark\n",
				"from pyspark.sql.functions import length\n",
				"\n",
				"df.filter((length(df[\"CustomerName\"]) > 20) & (df[\"salary\"] > 150)).show(truncate=False)"
			]
		},
		{
			"cell_type": "code",
			"execution_count": 34,
			"metadata": {
				"trusted": true
			},
			"outputs": [
				{
					"name": "stdout",
					"output_type": "stream",
					"text": [
						"+------------+-----+\n",
						"|CustomerType|count|\n",
						"+------------+-----+\n",
						"|           1| 2437|\n",
						"|           3| 2550|\n",
						"|           2| 2501|\n",
						"|           4| 2512|\n",
						"+------------+-----+\n"
					]
				}
			],
			"source": [
				"# Aggregate functionss\n",
				"\n",
				"df.groupBy(\"CustomerType\").count().show()"
			]
		},
		{
			"cell_type": "code",
			"execution_count": 39,
			"metadata": {
				"trusted": true
			},
			"outputs": [
				{
					"name": "stdout",
					"output_type": "stream",
					"text": [
						"+------------+-----------+\n",
						"|CustomerType|salaryTotal|\n",
						"+------------+-----------+\n",
						"|           1|     255773|\n",
						"|           3|     267285|\n",
						"|           2|     262075|\n",
						"|           4|     268636|\n",
						"+------------+-----------+\n"
					]
				}
			],
			"source": [
				"# renaming aggregate column from sum(salary) to salaryTotal\n",
				"df.groupBy(\"CustomerType\").sum(\"salary\").withColumnRenamed(\"sum(salary)\",\"salaryTotal\").show()"
			]
		},
		{
			"cell_type": "code",
			"execution_count": 50,
			"metadata": {
				"trusted": true
			},
			"outputs": [
				{
					"name": "stdout",
					"output_type": "stream",
					"text": [
						"\n"
					]
				}
			],
			"source": [
				"# Now to test UDF vs spark functions\n",
				"\n",
				"from pyspark.sql.functions import udf, split\n",
				"from pyspark.sql.types import StringType\n",
				"import datetime\n",
				"\n",
				"def name_splitter(name):\n",
				"    split_name_temp = name.split()\n",
				"    \n",
				"    # Title case for name\n",
				"    split_name = [x.title() for x in split_name_temp]\n",
				"    return split_name\n",
				"    \n",
				"split_name_udf = udf(lambda x: name_splitter(x), StringType())"
			]
		},
		{
			"cell_type": "code",
			"execution_count": 68,
			"metadata": {
				"trusted": true
			},
			"outputs": [
				{
					"name": "stdout",
					"output_type": "stream",
					"text": [
						"+------------------+----------------------+\n",
						"|      CustomerName|<lambda>(CustomerName)|\n",
						"+------------------+----------------------+\n",
						"|    Halloran,Ford |       [Halloran,Ford]|\n",
						"|      Heidie Durno|       [Heidie, Durno]|\n",
						"|       Chad Rodden|        [Chad, Rodden]|\n",
						"|     Mathon,Bjorn |        [Mathon,Bjorn]|\n",
						"|   Rentoll,Truman |      [Rentoll,Truman]|\n",
						"|    Darelle Murkus|     [Darelle, Murkus]|\n",
						"|   Eddy Jellicorse|    [Eddy, Jellicorse]|\n",
						"|  Van Dijk,Waylin |    [Van, Dijk,Waylin]|\n",
						"|      Luise Tenant|       [Luise, Tenant]|\n",
						"|    Regnard,Keven |       [Regnard,Keven]|\n",
						"|    Dorri Cuardall|     [Dorri, Cuardall]|\n",
						"|    Haydon,Gerick |       [Haydon,Gerick]|\n",
						"|      Heddi Brauns|       [Heddi, Brauns]|\n",
						"|     Bonnin,Bryon |        [Bonnin,Bryon]|\n",
						"|Melisenda Colquitt|  [Melisenda, Colqu...|\n",
						"|    Helaina Ragate|     [Helaina, Ragate]|\n",
						"|    Barukh,Sutton |       [Barukh,Sutton]|\n",
						"|   Babette Laslett|    [Babette, Laslett]|\n",
						"|     Coriss Skiggs|      [Coriss, Skiggs]|\n",
						"|   Gretta Milstead|    [Gretta, Milstead]|\n",
						"+------------------+----------------------+\n",
						"only showing top 20 rows\n"
					]
				}
			],
			"source": [
				"# Test udf\n",
				"start = datetime.datetime.now()\n",
				"df.select(\"CustomerName\", split_name_udf(\"CustomerName\")).show()\n",
				"# end = start = datetime.datetime.now()\n",
				"\n",
				"udf_execution_time = datetime.datetime.now()-start"
			]
		},
		{
			"cell_type": "code",
			"execution_count": 69,
			"metadata": {
				"trusted": true
			},
			"outputs": [
				{
					"name": "stdout",
					"output_type": "stream",
					"text": [
						"+------------------+----------------------+\n",
						"|      CustomerName|split(CustomerName,  )|\n",
						"+------------------+----------------------+\n",
						"|    Halloran,Ford |     [Halloran,Ford, ]|\n",
						"|      Heidie Durno|       [Heidie, Durno]|\n",
						"|       Chad Rodden|        [Chad, Rodden]|\n",
						"|     Mathon,Bjorn |      [Mathon,Bjorn, ]|\n",
						"|   Rentoll,Truman |    [Rentoll,Truman, ]|\n",
						"|    Darelle Murkus|     [Darelle, Murkus]|\n",
						"|   Eddy Jellicorse|    [Eddy, Jellicorse]|\n",
						"|  Van Dijk,Waylin |  [Van, Dijk,Waylin, ]|\n",
						"|      Luise Tenant|       [Luise, Tenant]|\n",
						"|    Regnard,Keven |     [Regnard,Keven, ]|\n",
						"|    Dorri Cuardall|     [Dorri, Cuardall]|\n",
						"|    Haydon,Gerick |     [Haydon,Gerick, ]|\n",
						"|      Heddi Brauns|       [Heddi, Brauns]|\n",
						"|     Bonnin,Bryon |      [Bonnin,Bryon, ]|\n",
						"|Melisenda Colquitt|  [Melisenda, Colqu...|\n",
						"|    Helaina Ragate|     [Helaina, Ragate]|\n",
						"|    Barukh,Sutton |     [Barukh,Sutton, ]|\n",
						"|   Babette Laslett|    [Babette, Laslett]|\n",
						"|     Coriss Skiggs|      [Coriss, Skiggs]|\n",
						"|   Gretta Milstead|    [Gretta, Milstead]|\n",
						"+------------------+----------------------+\n",
						"only showing top 20 rows\n"
					]
				}
			],
			"source": [
				"# using spark split \n",
				"start = datetime.datetime.now()\n",
				"df.select(\"CustomerName\", split(df[\"CustomerName\"], ' ')).show()\n",
				"# end = start = datetime.datetime.now()\n",
				"\n",
				"sparkSplit_execution_time = datetime.datetime.now()-start"
			]
		},
		{
			"cell_type": "code",
			"execution_count": 70,
			"metadata": {
				"trusted": true
			},
			"outputs": [
				{
					"name": "stdout",
					"output_type": "stream",
					"text": [
						"0:00:00.282939\n",
						"0:00:00.153676\n",
						"Time difference :  0:00:00.129263\n"
					]
				}
			],
			"source": [
				"# comparing the two\n",
				"print(udf_execution_time)\n",
				"print(sparkSplit_execution_time)\n",
				"print('Time difference : ', udf_execution_time - sparkSplit_execution_time) "
			]
		}
	],
	"metadata": {
		"kernelspec": {
			"display_name": "Python 3",
			"language": "python",
			"name": "python3"
		},
		"language_info": {
			"codemirror_mode": {
				"name": "python",
				"version": 3
			},
			"file_extension": ".py",
			"mimetype": "text/x-python",
			"name": "python",
			"pygments_lexer": "python3",
			"version": "3.8.0 (tags/v3.8.0:fa919fd, Oct 14 2019, 19:37:50) [MSC v.1916 64 bit (AMD64)]"
		},
		"vscode": {
			"interpreter": {
				"hash": "b081a66ee97bd2b6a16f43955f1d810b7ea816d6eaeb65e157ef9e038445f0c6"
			}
		}
	},
	"nbformat": 4,
	"nbformat_minor": 4
}
