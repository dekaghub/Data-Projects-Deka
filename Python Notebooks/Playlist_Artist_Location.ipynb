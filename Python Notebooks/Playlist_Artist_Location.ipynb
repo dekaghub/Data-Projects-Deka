{
 "cells": [
  {
   "cell_type": "code",
   "execution_count": 2,
   "metadata": {},
   "outputs": [],
   "source": [
    "import pandas as pd\n",
    "import requests\n",
    "from bs4 import BeautifulSoup"
   ]
  },
  {
   "cell_type": "code",
   "execution_count": 3,
   "metadata": {},
   "outputs": [],
   "source": [
    "# read the playlist csv\n",
    "df=pd.read_csv('https://raw.githubusercontent.com/dekaghub/Data-Projects-Deka/main/Datasets/Production_Playlist.csv')"
   ]
  },
  {
   "cell_type": "code",
   "execution_count": 5,
   "metadata": {},
   "outputs": [],
   "source": [
    "# read the countries file\n",
    "countries = pd.read_csv('https://github.com/dekaghub/datasets-for-public/raw/main/all_countries_231.txt', delimiter=\"\\t\", header=None,names=['country'])"
   ]
  },
  {
   "cell_type": "code",
   "execution_count": 6,
   "metadata": {},
   "outputs": [
    {
     "data": {
      "text/html": [
       "<div>\n",
       "<style scoped>\n",
       "    .dataframe tbody tr th:only-of-type {\n",
       "        vertical-align: middle;\n",
       "    }\n",
       "\n",
       "    .dataframe tbody tr th {\n",
       "        vertical-align: top;\n",
       "    }\n",
       "\n",
       "    .dataframe thead th {\n",
       "        text-align: right;\n",
       "    }\n",
       "</style>\n",
       "<table border=\"1\" class=\"dataframe\">\n",
       "  <thead>\n",
       "    <tr style=\"text-align: right;\">\n",
       "      <th></th>\n",
       "      <th>country</th>\n",
       "    </tr>\n",
       "  </thead>\n",
       "  <tbody>\n",
       "    <tr>\n",
       "      <th>226</th>\n",
       "      <td>Wales</td>\n",
       "    </tr>\n",
       "    <tr>\n",
       "      <th>227</th>\n",
       "      <td>Wallis &amp; Futuna</td>\n",
       "    </tr>\n",
       "    <tr>\n",
       "      <th>228</th>\n",
       "      <td>Yemen</td>\n",
       "    </tr>\n",
       "    <tr>\n",
       "      <th>229</th>\n",
       "      <td>Zambia</td>\n",
       "    </tr>\n",
       "    <tr>\n",
       "      <th>230</th>\n",
       "      <td>Zimbabwe</td>\n",
       "    </tr>\n",
       "  </tbody>\n",
       "</table>\n",
       "</div>"
      ],
      "text/plain": [
       "             country\n",
       "226            Wales\n",
       "227  Wallis & Futuna\n",
       "228            Yemen\n",
       "229           Zambia\n",
       "230         Zimbabwe"
      ]
     },
     "execution_count": 6,
     "metadata": {},
     "output_type": "execute_result"
    }
   ],
   "source": [
    "countries.tail(5)"
   ]
  },
  {
   "cell_type": "code",
   "execution_count": 7,
   "metadata": {},
   "outputs": [],
   "source": [
    "# adding U.S., US, UK, U.K. because wikipedia\n",
    "countries = pd.concat([countries,pd.DataFrame({'country':['U.S.', 'US', 'UK', 'U.K.']})]).sort_values(by='country',ignore_index=True)"
   ]
  },
  {
   "cell_type": "code",
   "execution_count": 8,
   "metadata": {},
   "outputs": [
    {
     "data": {
      "text/html": [
       "<div>\n",
       "<style scoped>\n",
       "    .dataframe tbody tr th:only-of-type {\n",
       "        vertical-align: middle;\n",
       "    }\n",
       "\n",
       "    .dataframe tbody tr th {\n",
       "        vertical-align: top;\n",
       "    }\n",
       "\n",
       "    .dataframe thead th {\n",
       "        text-align: right;\n",
       "    }\n",
       "</style>\n",
       "<table border=\"1\" class=\"dataframe\">\n",
       "  <thead>\n",
       "    <tr style=\"text-align: right;\">\n",
       "      <th></th>\n",
       "      <th>country</th>\n",
       "    </tr>\n",
       "  </thead>\n",
       "  <tbody>\n",
       "    <tr>\n",
       "      <th>215</th>\n",
       "      <td>U.S.</td>\n",
       "    </tr>\n",
       "    <tr>\n",
       "      <th>216</th>\n",
       "      <td>UK</td>\n",
       "    </tr>\n",
       "    <tr>\n",
       "      <th>217</th>\n",
       "      <td>US</td>\n",
       "    </tr>\n",
       "    <tr>\n",
       "      <th>218</th>\n",
       "      <td>Uganda</td>\n",
       "    </tr>\n",
       "    <tr>\n",
       "      <th>219</th>\n",
       "      <td>Ukraine</td>\n",
       "    </tr>\n",
       "  </tbody>\n",
       "</table>\n",
       "</div>"
      ],
      "text/plain": [
       "     country\n",
       "215     U.S.\n",
       "216       UK\n",
       "217       US\n",
       "218   Uganda\n",
       "219  Ukraine"
      ]
     },
     "execution_count": 8,
     "metadata": {},
     "output_type": "execute_result"
    }
   ],
   "source": [
    "countries[-20:-15]"
   ]
  },
  {
   "cell_type": "code",
   "execution_count": 10,
   "metadata": {},
   "outputs": [],
   "source": [
    "artists = df['Artist']"
   ]
  },
  {
   "cell_type": "code",
   "execution_count": 11,
   "metadata": {},
   "outputs": [
    {
     "data": {
      "text/plain": [
       "0            SBTRKT,Roses Gabor\n",
       "1                         Ozuna\n",
       "2                     Dwson,Sio\n",
       "3                          Biyo\n",
       "4                       Pat Lok\n",
       "5    Young Franco,Blair De Milo\n",
       "6          Garden City Movement\n",
       "7               Young the Giant\n",
       "8                   The Strokes\n",
       "9                        Sigrid\n",
       "Name: Artist, dtype: object"
      ]
     },
     "execution_count": 11,
     "metadata": {},
     "output_type": "execute_result"
    }
   ],
   "source": [
    "artists[:10]"
   ]
  },
  {
   "cell_type": "code",
   "execution_count": 11,
   "metadata": {},
   "outputs": [],
   "source": [
    "artists = artists.apply(lambda i: i.split(\",\"))"
   ]
  },
  {
   "cell_type": "code",
   "execution_count": 12,
   "metadata": {},
   "outputs": [
    {
     "data": {
      "text/plain": [
       "0      [SBTRKT, Roses Gabor]\n",
       "1                    [Ozuna]\n",
       "2               [Dwson, Sio]\n",
       "3                     [Biyo]\n",
       "4                  [Pat Lok]\n",
       "               ...          \n",
       "671             [Amber Mark]\n",
       "672            [Smash Mouth]\n",
       "673             [Los Retros]\n",
       "674               [Anomalie]\n",
       "675               [Anomalie]\n",
       "Name: Artist, Length: 676, dtype: object"
      ]
     },
     "execution_count": 12,
     "metadata": {},
     "output_type": "execute_result"
    }
   ],
   "source": [
    "artists"
   ]
  },
  {
   "cell_type": "code",
   "execution_count": 13,
   "metadata": {},
   "outputs": [],
   "source": [
    "# funciton to scrape wikipedia\n",
    "\n",
    "def get_tr_lines(wiki_table):\n",
    "    temp = []\n",
    "\n",
    "    for item in wiki_table.findAll(\"tr\"):\n",
    "         if \"Born\" in item.get_text(\" \") or \"Origin\" in item.get_text(\" \"):\n",
    "            temp.append(item.get_text(\" \"))\n",
    "    return temp\n",
    "\n",
    "def wiki_country(artist):\n",
    "\n",
    "    url = \"https://en.wikipedia.org/wiki/\" + artist\n",
    "    class_bio = \"infobox biography vcard\"\n",
    "    class_plain = \"infobox vcard plainlist\"\n",
    "\n",
    "    response = requests.get(url)\n",
    "    result = ''\n",
    "\n",
    "    if response.status_code == 200:\n",
    "        soup = BeautifulSoup(response.text, 'html.parser')\n",
    "\n",
    "        text = []\n",
    "\n",
    "        wiki_table = soup.find(\"table\", {\"class\":class_bio})\n",
    "\n",
    "        if wiki_table != None:\n",
    "            text = get_tr_lines(wiki_table)\n",
    "        \n",
    "        if wiki_table is None:\n",
    "            wiki_table = soup.find(\"table\", {\"class\":class_plain})\n",
    "            if wiki_table != None:\n",
    "                text = get_tr_lines(wiki_table)\n",
    "    \n",
    "        for t in text:\n",
    "            for country in countries['country']:\n",
    "                if country in t:\n",
    "                    result = country\n",
    "\n",
    "    return result"
   ]
  },
  {
   "cell_type": "code",
   "execution_count": 14,
   "metadata": {},
   "outputs": [],
   "source": [
    "# funciton to scrape ra.co\n",
    "\n",
    "def ra_country(artist):\n",
    "\n",
    "    url = \"https://ra.co/dj/\" + artist\n",
    "    headers = {'User-Agent': 'Mozilla/5.0 (Windows NT 6.1; WOW64) AppleWebKit/537.36 (KHTML, like Gecko) Chrome/56.0.2924.76 Safari/537.36'}\n",
    "    div_class = \"Text-sc-1t0gn2o-0 ijXAtQ\"\n",
    "\n",
    "    response = requests.get(url, headers=headers)\n",
    "    result = ''\n",
    "\n",
    "    if response.status_code == 200:\n",
    "        soup = BeautifulSoup(response.text, 'html.parser')\n",
    "\n",
    "        ra_div = soup.find(\"span\", {\"class\":div_class})\n",
    "\n",
    "        if ra_div:\n",
    "            for country in countries['country']:\n",
    "                if country in ra_div:\n",
    "                    result = country\n",
    "    return result"
   ]
  },
  {
   "cell_type": "code",
   "execution_count": 15,
   "metadata": {},
   "outputs": [
    {
     "data": {
      "text/plain": [
       "'United Kingdom'"
      ]
     },
     "execution_count": 15,
     "metadata": {},
     "output_type": "execute_result"
    }
   ],
   "source": [
    "ra_country('michaelbibi')"
   ]
  },
  {
   "cell_type": "code",
   "execution_count": 16,
   "metadata": {},
   "outputs": [],
   "source": [
    "def artist_name_util(artist):\n",
    "    artist_name_variations = {'wiki':[],'ra':[]}\n",
    "\n",
    "    \n",
    "    if \" \" in artist:\n",
    "        # wiki\n",
    "        artist_name_variations['wiki'].append(artist.replace(\" \", \"_\"))\n",
    "        artist_name_variations['wiki'].append(artist.replace(\" \", \"_\")+'_(musician)')\n",
    "        artist_name_variations['wiki'].append(artist.replace(\" \", \"_\")+'_(band)')\n",
    "        artist_name_variations['wiki'].append(artist.replace(\" \", \"_\")+'_(rapper)')\n",
    "        artist_name_variations['wiki'].append(artist.replace(\" \", \"_\")+'_(artist)')\n",
    "        # ra\n",
    "        artist_name_variations['ra'].append(artist.replace(\" \", \"\"))\n",
    "    else:\n",
    "        artist_name_variations['wiki'].append(artist)\n",
    "        artist_name_variations['wiki'].append(artist+'_(musician)')\n",
    "        artist_name_variations['wiki'].append(artist+'_(band)')\n",
    "        artist_name_variations['wiki'].append(artist+'_(rapper)')\n",
    "        artist_name_variations['wiki'].append(artist+'_(artist)')\n",
    "        artist_name_variations['ra'].append(artist)\n",
    "    return artist_name_variations\n"
   ]
  },
  {
   "cell_type": "code",
   "execution_count": 17,
   "metadata": {},
   "outputs": [],
   "source": [
    "def get_country(row):\n",
    "    artist_country = {}\n",
    "    \n",
    "    for item in row:\n",
    "        temp = artist_name_util(item)\n",
    "        for name in temp['wiki']:\n",
    "            res = wiki_country(name)\n",
    "            if res:\n",
    "                artist_country[item] = res\n",
    "                break\n",
    "            else:\n",
    "                for name in temp['ra']:\n",
    "                    res = ra_country(name)\n",
    "                    if res:\n",
    "                        artist_country[item] = res\n",
    "        \n",
    "        if (artist_country == {}):\n",
    "            artist_country[item]='N/A'\n",
    "        elif len(artist_country) & (res == ''):\n",
    "            artist_country[item]='N/A'\n",
    "\n",
    "\n",
    "    return artist_country"
   ]
  },
  {
   "cell_type": "code",
   "execution_count": 37,
   "metadata": {},
   "outputs": [],
   "source": [
    "artists_country = artists.apply(lambda x: get_country(x))"
   ]
  },
  {
   "cell_type": "code",
   "execution_count": 38,
   "metadata": {},
   "outputs": [
    {
     "data": {
      "text/plain": [
       "0      {'SBTRKT': 'England', 'Roses Gabor': 'N/A'}\n",
       "1                         {'Ozuna': 'Puerto Rico'}\n",
       "2                   {'Dwson': 'N/A', 'Sio': 'N/A'}\n",
       "3                                  {'Biyo': 'N/A'}\n",
       "4                               {'Pat Lok': 'N/A'}\n",
       "                          ...                     \n",
       "671                         {'Amber Mark': 'U.S.'}\n",
       "672                        {'Smash Mouth': 'U.S.'}\n",
       "673                          {'Los Retros': 'N/A'}\n",
       "674                            {'Anomalie': 'N/A'}\n",
       "675                            {'Anomalie': 'N/A'}\n",
       "Name: Artist, Length: 676, dtype: object"
      ]
     },
     "execution_count": 38,
     "metadata": {},
     "output_type": "execute_result"
    }
   ],
   "source": [
    "artists_country"
   ]
  },
  {
   "cell_type": "code",
   "execution_count": 23,
   "metadata": {},
   "outputs": [],
   "source": [
    "artists_country.to_csv('../Datasets/Production_Playlist_Countries.csv')"
   ]
  },
  {
   "attachments": {},
   "cell_type": "markdown",
   "metadata": {},
   "source": [
    "### RA Status Code Check\n",
    "\n",
    "Use this to check if the status code is 403 or 200. If it's 403, you'll have to wait 12 hours and then it resets and you can try again."
   ]
  },
  {
   "cell_type": "code",
   "execution_count": null,
   "metadata": {},
   "outputs": [],
   "source": [
    "def ra_country_status(artist):\n",
    "\n",
    "    url = \"https://ra.co/dj/\" + artist\n",
    "    headers = {'User-Agent': 'Mozilla/5.0 (Windows NT 6.1; WOW64) AppleWebKit/537.36 (KHTML, like Gecko) Chrome/56.0.2924.76 Safari/537.36'}\n",
    "    div_class = \"Text-sc-1t0gn2o-0 ijXAtQ\"\n",
    "\n",
    "    response = requests.get(url, headers=headers)\n",
    "    \n",
    "    return response.status_code"
   ]
  },
  {
   "cell_type": "code",
   "execution_count": null,
   "metadata": {},
   "outputs": [],
   "source": [
    "ra_country_status('shafhuse')"
   ]
  }
 ],
 "metadata": {
  "kernelspec": {
   "display_name": "Python 3",
   "language": "python",
   "name": "python3"
  },
  "language_info": {
   "codemirror_mode": {
    "name": "ipython",
    "version": 3
   },
   "file_extension": ".py",
   "mimetype": "text/x-python",
   "name": "python",
   "nbconvert_exporter": "python",
   "pygments_lexer": "ipython3",
   "version": "3.8.0"
  },
  "orig_nbformat": 4,
  "vscode": {
   "interpreter": {
    "hash": "b081a66ee97bd2b6a16f43955f1d810b7ea816d6eaeb65e157ef9e038445f0c6"
   }
  }
 },
 "nbformat": 4,
 "nbformat_minor": 2
}
