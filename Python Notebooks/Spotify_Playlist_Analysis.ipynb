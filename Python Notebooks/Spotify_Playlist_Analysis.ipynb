{
 "cells": [
  {
   "attachments": {},
   "cell_type": "markdown",
   "metadata": {},
   "source": [
    "# Spotify Playlist In-Depth\n",
    "\n",
    "Hello everyone, in this project I'll analyze one of my spotify playlists. I'll discuss about the data, how to [replicate this analysis](#how-to-replicate-this-project) with your own playlist, where to find resources, some info about music and how I'm going to use this project in different ways for different audiences."
   ]
  },
  {
   "attachments": {},
   "cell_type": "markdown",
   "metadata": {},
   "source": [
    "### Loading the data\n",
    "\n",
    "There's two main ways to generate a dataset from a Spotify playlist. A) Using the official [Spotify API](https://developer.spotify.com/documentation/web-api/) or B) Using a third party app that uses the Spotify API\n",
    "\n",
    "I chose option B because that's the easier way. It's free and anyone can do it. I used this website called [Chosic Spotify Playlist Analyzer](https://www.chosic.com/spotify-playlist-analyzer/) to generate a csv file of my playlist. The website also generates some basic analytics which you can check out.\n",
    "\n",
    "I created another python notebook to web scrape Wikipedia & [Resident Advisor](https://ra.co) to get the country information about the artists. Wikipedia is a good source for gathering info about popular artists and Resident Advisor is a great knowledgebase for everything DJ.\n",
    "\n",
    "Notes : Resident Advisor prevents web scraping after a certain number of requests. It gives a 403 Forbidden (a service of CloudFlare to prevent bots). So I manually filled in some of the entries in the country csv."
   ]
  },
  {
   "attachments": {},
   "cell_type": "markdown",
   "metadata": {},
   "source": [
    "### Analysis Overview\n",
    "\n",
    "The playlist I'm analyzing is called Production. I use this playlist to store tracks for inspiration with my own music production. It has a great variety of tracks that I've added tracks since 2018.\n",
    "\n",
    "For the anlysis, I'll be looking into details about the tracks themselves, like genre, release year, record label, etc. Then I'll also look into my actions with the playlist, like how many tracks I added over the years, what type of tracks, etc.\n",
    "\n",
    "I'll be using plotly for the graphs because it generates interactive plots and it's also pretty easy to customize. "
   ]
  },
  {
   "cell_type": "code",
   "execution_count": 89,
   "metadata": {},
   "outputs": [
    {
     "name": "stdout",
     "output_type": "stream",
     "text": [
      "../datasets/all_countries_231.txt\n",
      "../datasets/Hotel Reservations.csv\n",
      "../datasets/Production_Playlist.csv\n",
      "../datasets/Production_Playlist_Countries.csv\n",
      "../datasets/Production_Playlist_Countries_first.csv\n",
      "../datasets/Production_Playlist_RA_Countries.csv\n"
     ]
    }
   ],
   "source": [
    "import numpy as np # linear algebra\n",
    "import pandas as pd # data processing, CSV file I/O (e.g. pd.read_csv)\n",
    "\n",
    "# Input data files are available in the read-only \"../input/\" directory\n",
    "# For example, running this (by clicking run or pressing Shift+Enter) will list all files under the input directory\n",
    "\n",
    "import os\n",
    "for dirname, _, filenames in os.walk('../datasets/'):\n",
    "    for filename in filenames:\n",
    "        print(os.path.join(dirname, filename))\n",
    "\n",
    "# You can write up to 20GB to the current directory (/kaggle/working/) that gets preserved as output when you create a version using \"Save & Run All\" \n",
    "# You can also write temporary files to /kaggle/temp/, but they won't be saved outside of the current session"
   ]
  },
  {
   "cell_type": "code",
   "execution_count": 50,
   "metadata": {},
   "outputs": [
    {
     "data": {
      "text/html": [
       "        <script type=\"text/javascript\">\n",
       "        window.PlotlyConfig = {MathJaxConfig: 'local'};\n",
       "        if (window.MathJax && window.MathJax.Hub && window.MathJax.Hub.Config) {window.MathJax.Hub.Config({SVG: {font: \"STIX-Web\"}});}\n",
       "        if (typeof require !== 'undefined') {\n",
       "        require.undef(\"plotly\");\n",
       "        requirejs.config({\n",
       "            paths: {\n",
       "                'plotly': ['https://cdn.plot.ly/plotly-2.16.1.min']\n",
       "            }\n",
       "        });\n",
       "        require(['plotly'], function(Plotly) {\n",
       "            window._Plotly = Plotly;\n",
       "        });\n",
       "        }\n",
       "        </script>\n",
       "        "
      ]
     },
     "metadata": {},
     "output_type": "display_data"
    },
    {
     "data": {
      "text/html": [
       "        <script type=\"text/javascript\">\n",
       "        window.PlotlyConfig = {MathJaxConfig: 'local'};\n",
       "        if (window.MathJax && window.MathJax.Hub && window.MathJax.Hub.Config) {window.MathJax.Hub.Config({SVG: {font: \"STIX-Web\"}});}\n",
       "        if (typeof require !== 'undefined') {\n",
       "        require.undef(\"plotly\");\n",
       "        requirejs.config({\n",
       "            paths: {\n",
       "                'plotly': ['https://cdn.plot.ly/plotly-2.16.1.min']\n",
       "            }\n",
       "        });\n",
       "        require(['plotly'], function(Plotly) {\n",
       "            window._Plotly = Plotly;\n",
       "        });\n",
       "        }\n",
       "        </script>\n",
       "        "
      ]
     },
     "metadata": {},
     "output_type": "display_data"
    }
   ],
   "source": [
    "import ast\n",
    "\n",
    "# from datetime import date\n",
    "import plotly.io as pio\n",
    "import plotly.express as px\n",
    "from plotly.subplots import make_subplots\n",
    "import plotly.graph_objects as go\n",
    "import cufflinks as cf\n",
    "%matplotlib inline\n",
    "\n",
    "from plotly.offline import download_plotlyjs, init_notebook_mode, plot, iplot\n",
    "init_notebook_mode(connected=True)\n",
    "\n",
    "cf.go_offline()"
   ]
  },
  {
   "cell_type": "code",
   "execution_count": 51,
   "metadata": {},
   "outputs": [],
   "source": [
    "df=pd.read_csv('https://raw.githubusercontent.com/dekaghub/Data-Projects-Deka/main/Datasets/Production_Playlist.csv', parse_dates=['Added At','Album Date'])\n",
    "df_country = pd.read_csv('https://github.com/dekaghub/Data-Projects-Deka/raw/main/Datasets/Production_Playlist_Countries.csv')"
   ]
  },
  {
   "cell_type": "code",
   "execution_count": 52,
   "metadata": {},
   "outputs": [],
   "source": [
    "def optimize_memory(df):\n",
    "    return (\n",
    "        df\n",
    "        .astype({\n",
    "            'Popularity':'int8',\n",
    "            'BPM':'int16',\n",
    "            'Dance':'int8',\n",
    "            'Energy':'int8',\n",
    "            'Acoustic':'int8',\n",
    "            'Instrumental':'int8',\n",
    "            'Happy':'int8', \n",
    "            'Speech':'int8', \n",
    "            'Live':'int8', \n",
    "            'Loud':'int8', \n",
    "            'Time Signature':'int8',\n",
    "            'Key':'category',\n",
    "            'Camelot':'category'\n",
    "        })\n",
    "        .rename(columns={'Parent Genres':'Parent_Genres',\n",
    "                         'Album Date':'Album_Date',\n",
    "                         'Time Signature':'Time_Signature',\n",
    "                         'Added At':'Added_At',\n",
    "                         'Album Label':'Record_Label'\n",
    "                         })\n",
    "        .drop(columns=['#','Spotify Track Id','Spotify Track Img','Song Preview'])\n",
    "    )"
   ]
  },
  {
   "cell_type": "code",
   "execution_count": 53,
   "metadata": {},
   "outputs": [
    {
     "data": {
      "text/plain": [
       "733021"
      ]
     },
     "execution_count": 53,
     "metadata": {},
     "output_type": "execute_result"
    }
   ],
   "source": [
    "df.memory_usage(deep=True).sum()"
   ]
  },
  {
   "cell_type": "code",
   "execution_count": 54,
   "metadata": {},
   "outputs": [
    {
     "data": {
      "text/plain": [
       "371517"
      ]
     },
     "execution_count": 54,
     "metadata": {},
     "output_type": "execute_result"
    }
   ],
   "source": [
    "optimize_memory(df).memory_usage(deep=True).sum()"
   ]
  },
  {
   "cell_type": "code",
   "execution_count": 55,
   "metadata": {},
   "outputs": [],
   "source": [
    "playlist = optimize_memory(df)\n",
    "playlist['Country'] = df_country['Artist']"
   ]
  },
  {
   "cell_type": "code",
   "execution_count": 56,
   "metadata": {},
   "outputs": [
    {
     "data": {
      "text/html": [
       "<div>\n",
       "<style scoped>\n",
       "    .dataframe tbody tr th:only-of-type {\n",
       "        vertical-align: middle;\n",
       "    }\n",
       "\n",
       "    .dataframe tbody tr th {\n",
       "        vertical-align: top;\n",
       "    }\n",
       "\n",
       "    .dataframe thead th {\n",
       "        text-align: right;\n",
       "    }\n",
       "</style>\n",
       "<table border=\"1\" class=\"dataframe\">\n",
       "  <thead>\n",
       "    <tr style=\"text-align: right;\">\n",
       "      <th></th>\n",
       "      <th>Column</th>\n",
       "      <th>Missing_value_count</th>\n",
       "      <th>Missing_Percentage (%)</th>\n",
       "    </tr>\n",
       "  </thead>\n",
       "  <tbody>\n",
       "    <tr>\n",
       "      <th>5</th>\n",
       "      <td>Parent_Genres</td>\n",
       "      <td>69</td>\n",
       "      <td>10.21</td>\n",
       "    </tr>\n",
       "    <tr>\n",
       "      <th>4</th>\n",
       "      <td>Genres</td>\n",
       "      <td>59</td>\n",
       "      <td>8.73</td>\n",
       "    </tr>\n",
       "    <tr>\n",
       "      <th>0</th>\n",
       "      <td>Song</td>\n",
       "      <td>0</td>\n",
       "      <td>0.00</td>\n",
       "    </tr>\n",
       "    <tr>\n",
       "      <th>13</th>\n",
       "      <td>Happy</td>\n",
       "      <td>0</td>\n",
       "      <td>0.00</td>\n",
       "    </tr>\n",
       "    <tr>\n",
       "      <th>21</th>\n",
       "      <td>Camelot</td>\n",
       "      <td>0</td>\n",
       "      <td>0.00</td>\n",
       "    </tr>\n",
       "    <tr>\n",
       "      <th>20</th>\n",
       "      <td>Record_Label</td>\n",
       "      <td>0</td>\n",
       "      <td>0.00</td>\n",
       "    </tr>\n",
       "    <tr>\n",
       "      <th>19</th>\n",
       "      <td>Added_At</td>\n",
       "      <td>0</td>\n",
       "      <td>0.00</td>\n",
       "    </tr>\n",
       "    <tr>\n",
       "      <th>18</th>\n",
       "      <td>Time_Signature</td>\n",
       "      <td>0</td>\n",
       "      <td>0.00</td>\n",
       "    </tr>\n",
       "    <tr>\n",
       "      <th>17</th>\n",
       "      <td>Key</td>\n",
       "      <td>0</td>\n",
       "      <td>0.00</td>\n",
       "    </tr>\n",
       "    <tr>\n",
       "      <th>16</th>\n",
       "      <td>Loud</td>\n",
       "      <td>0</td>\n",
       "      <td>0.00</td>\n",
       "    </tr>\n",
       "    <tr>\n",
       "      <th>15</th>\n",
       "      <td>Live</td>\n",
       "      <td>0</td>\n",
       "      <td>0.00</td>\n",
       "    </tr>\n",
       "    <tr>\n",
       "      <th>14</th>\n",
       "      <td>Speech</td>\n",
       "      <td>0</td>\n",
       "      <td>0.00</td>\n",
       "    </tr>\n",
       "    <tr>\n",
       "      <th>11</th>\n",
       "      <td>Acoustic</td>\n",
       "      <td>0</td>\n",
       "      <td>0.00</td>\n",
       "    </tr>\n",
       "    <tr>\n",
       "      <th>12</th>\n",
       "      <td>Instrumental</td>\n",
       "      <td>0</td>\n",
       "      <td>0.00</td>\n",
       "    </tr>\n",
       "    <tr>\n",
       "      <th>1</th>\n",
       "      <td>Artist</td>\n",
       "      <td>0</td>\n",
       "      <td>0.00</td>\n",
       "    </tr>\n",
       "    <tr>\n",
       "      <th>10</th>\n",
       "      <td>Energy</td>\n",
       "      <td>0</td>\n",
       "      <td>0.00</td>\n",
       "    </tr>\n",
       "    <tr>\n",
       "      <th>9</th>\n",
       "      <td>Dance</td>\n",
       "      <td>0</td>\n",
       "      <td>0.00</td>\n",
       "    </tr>\n",
       "    <tr>\n",
       "      <th>8</th>\n",
       "      <td>Time</td>\n",
       "      <td>0</td>\n",
       "      <td>0.00</td>\n",
       "    </tr>\n",
       "    <tr>\n",
       "      <th>7</th>\n",
       "      <td>Album_Date</td>\n",
       "      <td>0</td>\n",
       "      <td>0.00</td>\n",
       "    </tr>\n",
       "    <tr>\n",
       "      <th>6</th>\n",
       "      <td>Album</td>\n",
       "      <td>0</td>\n",
       "      <td>0.00</td>\n",
       "    </tr>\n",
       "    <tr>\n",
       "      <th>3</th>\n",
       "      <td>BPM</td>\n",
       "      <td>0</td>\n",
       "      <td>0.00</td>\n",
       "    </tr>\n",
       "    <tr>\n",
       "      <th>2</th>\n",
       "      <td>Popularity</td>\n",
       "      <td>0</td>\n",
       "      <td>0.00</td>\n",
       "    </tr>\n",
       "    <tr>\n",
       "      <th>22</th>\n",
       "      <td>Country</td>\n",
       "      <td>0</td>\n",
       "      <td>0.00</td>\n",
       "    </tr>\n",
       "  </tbody>\n",
       "</table>\n",
       "</div>"
      ],
      "text/plain": [
       "            Column  Missing_value_count  Missing_Percentage (%)\n",
       "5    Parent_Genres                   69                   10.21\n",
       "4           Genres                   59                    8.73\n",
       "0             Song                    0                    0.00\n",
       "13           Happy                    0                    0.00\n",
       "21         Camelot                    0                    0.00\n",
       "20    Record_Label                    0                    0.00\n",
       "19        Added_At                    0                    0.00\n",
       "18  Time_Signature                    0                    0.00\n",
       "17             Key                    0                    0.00\n",
       "16            Loud                    0                    0.00\n",
       "15            Live                    0                    0.00\n",
       "14          Speech                    0                    0.00\n",
       "11        Acoustic                    0                    0.00\n",
       "12    Instrumental                    0                    0.00\n",
       "1           Artist                    0                    0.00\n",
       "10          Energy                    0                    0.00\n",
       "9            Dance                    0                    0.00\n",
       "8             Time                    0                    0.00\n",
       "7       Album_Date                    0                    0.00\n",
       "6            Album                    0                    0.00\n",
       "3              BPM                    0                    0.00\n",
       "2       Popularity                    0                    0.00\n",
       "22         Country                    0                    0.00"
      ]
     },
     "execution_count": 56,
     "metadata": {},
     "output_type": "execute_result"
    }
   ],
   "source": [
    "# borrowed from https://www.kaggle.com/sukhdeepk\n",
    "def missing_pct(df):\n",
    "    # Calculate missing value and their percentage for each column\n",
    "    missing_count_percent = df.isnull().sum() * 100 / df.shape[0]\n",
    "    df_missing_count_percent = pd.DataFrame(missing_count_percent).round(2)\n",
    "    df_missing_count_percent = df_missing_count_percent.reset_index().rename(\n",
    "                    columns={\n",
    "                            'index':'Column',\n",
    "                            0:'Missing_Percentage (%)'\n",
    "                    }\n",
    "                )\n",
    "    df_missing_value = df.isnull().sum()\n",
    "    df_missing_value = df_missing_value.reset_index().rename(\n",
    "                    columns={\n",
    "                            'index':'Column',\n",
    "                            0:'Missing_value_count'\n",
    "                    }\n",
    "                )\n",
    "    # Sort the data frame\n",
    "    #df_missing = df_missing.sort_values('Missing_Percentage (%)', ascending=False)\n",
    "    Final = df_missing_value.merge(df_missing_count_percent, how = 'inner', left_on = 'Column', right_on = 'Column')\n",
    "    Final = Final.sort_values(by = 'Missing_Percentage (%)',ascending = False)\n",
    "    return Final\n",
    "\n",
    "missing_pct(playlist)"
   ]
  },
  {
   "attachments": {},
   "cell_type": "markdown",
   "metadata": {},
   "source": [
    "### Basic Overview\n",
    "\n",
    "Here I'll look for unique values as well as duplicates. In the context of a playlist, a duplicate would be the same song by the same artist. Then I'll try to understand the overall numbers i.e. a quick summary of the dataset."
   ]
  },
  {
   "cell_type": "code",
   "execution_count": 57,
   "metadata": {},
   "outputs": [
    {
     "data": {
      "text/plain": [
       "Song              2\n",
       "Artist            2\n",
       "Popularity        2\n",
       "BPM               2\n",
       "Genres            2\n",
       "Parent_Genres     2\n",
       "Album             2\n",
       "Album_Date        2\n",
       "Time              2\n",
       "Dance             2\n",
       "Energy            2\n",
       "Acoustic          2\n",
       "Instrumental      2\n",
       "Happy             2\n",
       "Speech            2\n",
       "Live              2\n",
       "Loud              2\n",
       "Key               2\n",
       "Time_Signature    2\n",
       "Added_At          2\n",
       "Record_Label      2\n",
       "Camelot           2\n",
       "Country           2\n",
       "dtype: int64"
      ]
     },
     "execution_count": 57,
     "metadata": {},
     "output_type": "execute_result"
    }
   ],
   "source": [
    "playlist[playlist[['Song','Artist']].duplicated(keep='first')].count()"
   ]
  },
  {
   "cell_type": "code",
   "execution_count": 58,
   "metadata": {},
   "outputs": [
    {
     "data": {
      "text/plain": [
       "Song              670\n",
       "Artist            526\n",
       "Popularity         86\n",
       "BPM               117\n",
       "Genres            457\n",
       "Parent_Genres     107\n",
       "Album             617\n",
       "Album_Date        491\n",
       "Time              246\n",
       "Dance              79\n",
       "Energy             80\n",
       "Acoustic           93\n",
       "Instrumental       86\n",
       "Happy              92\n",
       "Speech              8\n",
       "Live                9\n",
       "Loud               17\n",
       "Key                24\n",
       "Time_Signature      4\n",
       "Added_At          305\n",
       "Record_Label      439\n",
       "Camelot            24\n",
       "Country           527\n",
       "dtype: int64"
      ]
     },
     "execution_count": 58,
     "metadata": {},
     "output_type": "execute_result"
    }
   ],
   "source": [
    "playlist.nunique()"
   ]
  },
  {
   "attachments": {},
   "cell_type": "markdown",
   "metadata": {},
   "source": [
    "### Basic Summary\n",
    "\n",
    "* Artists - 526 : For 670 songs, that's a lot of unique artists. 107 Parent Genres and 457 Genres also means this playlist is pretty diverse in terms of sound; some may consider that as good while others may comment that a playlist should have a uniform sound. I'd say it depends. In this case, this is a playlist for musical inspiration and not a vibe/mood playlist so this is good.\n",
    "* Added_At - 305 : This means that I've added songs to this playlist on 305 separate days since 2018. \n",
    "* Duplicates - 2\n",
    "* Country - 528 : This number does not reflect the number of unique countries, the formatting of the country data is such that it includes Artist + Country. So for songs with multiple artists, there are multiple values of country in the same row.\n",
    "* Key - 12 : This playlist has songs of all the musical keys (also why Camelot is 24)"
   ]
  },
  {
   "attachments": {},
   "cell_type": "markdown",
   "metadata": {},
   "source": [
    "### Genre Analysis\n",
    "\n",
    "One of the most basic ways to differentiate a song is by its genre. It's a very broad yet precise way of labelling a song or music, also artists.\n",
    "\n",
    "There are two genre columns that comes with the dataset, Parent Genres & Genres. There are a few missing values but it's only 10% so I'll ignore it. Needless to say, the Parent Genre represents the broader genre whereas the actual genre label can be found in Genres. For instance, [Dam Swindle - 64 Ways](https://youtu.be/M9rsg2YOcvY?t=50) is a deep house track but it's also a dance/electronic track.\n",
    "\n",
    "To visualize genre changes by year i.e. my change in music taste, I'll take the first genre label out of Parent Genres & Genres."
   ]
  },
  {
   "cell_type": "code",
   "execution_count": 59,
   "metadata": {},
   "outputs": [
    {
     "data": {
      "text/html": [
       "<div>\n",
       "<style scoped>\n",
       "    .dataframe tbody tr th:only-of-type {\n",
       "        vertical-align: middle;\n",
       "    }\n",
       "\n",
       "    .dataframe tbody tr th {\n",
       "        vertical-align: top;\n",
       "    }\n",
       "\n",
       "    .dataframe thead th {\n",
       "        text-align: right;\n",
       "    }\n",
       "</style>\n",
       "<table border=\"1\" class=\"dataframe\">\n",
       "  <thead>\n",
       "    <tr style=\"text-align: right;\">\n",
       "      <th></th>\n",
       "      <th>Artist</th>\n",
       "      <th>Song</th>\n",
       "      <th>Parent_Genres</th>\n",
       "      <th>Parent_Genre</th>\n",
       "      <th>Genres</th>\n",
       "      <th>Genre</th>\n",
       "    </tr>\n",
       "  </thead>\n",
       "  <tbody>\n",
       "    <tr>\n",
       "      <th>227</th>\n",
       "      <td>Bakar</td>\n",
       "      <td>Big Dreams</td>\n",
       "      <td>Hip Hop</td>\n",
       "      <td>Hip Hop</td>\n",
       "      <td>uk alternative hip hop</td>\n",
       "      <td>uk alternative hip hop</td>\n",
       "    </tr>\n",
       "    <tr>\n",
       "      <th>250</th>\n",
       "      <td>Eris Drew</td>\n",
       "      <td>Trans Love Vibration (Eris Goes to Church)</td>\n",
       "      <td>New age, Dance/Electronic</td>\n",
       "      <td>New age</td>\n",
       "      <td>experimental house, float house</td>\n",
       "      <td>experimental house</td>\n",
       "    </tr>\n",
       "    <tr>\n",
       "      <th>576</th>\n",
       "      <td>The Backseat Lovers</td>\n",
       "      <td>Growing/Dying</td>\n",
       "      <td>Rock, New age</td>\n",
       "      <td>Rock</td>\n",
       "      <td>indie pop, modern rock, slc indie</td>\n",
       "      <td>indie pop</td>\n",
       "    </tr>\n",
       "  </tbody>\n",
       "</table>\n",
       "</div>"
      ],
      "text/plain": [
       "                  Artist                                        Song  \\\n",
       "227                Bakar                                  Big Dreams   \n",
       "250            Eris Drew  Trans Love Vibration (Eris Goes to Church)   \n",
       "576  The Backseat Lovers                               Growing/Dying   \n",
       "\n",
       "                 Parent_Genres Parent_Genre  \\\n",
       "227                    Hip Hop      Hip Hop   \n",
       "250  New age, Dance/Electronic      New age   \n",
       "576              Rock, New age         Rock   \n",
       "\n",
       "                                Genres                   Genre  \n",
       "227             uk alternative hip hop  uk alternative hip hop  \n",
       "250    experimental house, float house      experimental house  \n",
       "576  indie pop, modern rock, slc indie               indie pop  "
      ]
     },
     "execution_count": 59,
     "metadata": {},
     "output_type": "execute_result"
    }
   ],
   "source": [
    "playlist['Genre'] = playlist['Genres'].str.split(\",\").str[0]\n",
    "playlist['Parent_Genre'] = playlist['Parent_Genres'].str.split(\",\").str[0]\n",
    "\n",
    "playlist[['Artist','Song','Parent_Genres','Parent_Genre','Genres','Genre']].sample(3)"
   ]
  },
  {
   "cell_type": "code",
   "execution_count": 60,
   "metadata": {},
   "outputs": [
    {
     "data": {
      "application/vnd.plotly.v1+json": {
       "config": {
        "plotlyServerURL": "https://plot.ly"
       },
       "data": [
        {
         "alignmentgroup": "True",
         "hovertemplate": "color=Dance/Electronic<br>x=%{x}<br>y=%{y}<extra></extra>",
         "legendgroup": "Dance/Electronic",
         "marker": {
          "color": "#636efa",
          "pattern": {
           "shape": ""
          }
         },
         "name": "Dance/Electronic",
         "offsetgroup": "Dance/Electronic",
         "orientation": "v",
         "showlegend": true,
         "textposition": "auto",
         "type": "bar",
         "x": [
          2019,
          2020,
          2021,
          2022,
          2023
         ],
         "xaxis": "x",
         "y": [
          19,
          8,
          33,
          46,
          4
         ],
         "yaxis": "y"
        },
        {
         "alignmentgroup": "True",
         "hovertemplate": "color=Pop<br>x=%{x}<br>y=%{y}<extra></extra>",
         "legendgroup": "Pop",
         "marker": {
          "color": "#EF553B",
          "pattern": {
           "shape": ""
          }
         },
         "name": "Pop",
         "offsetgroup": "Pop",
         "orientation": "v",
         "showlegend": true,
         "textposition": "auto",
         "type": "bar",
         "x": [
          2019,
          2020,
          2021,
          2022,
          2023
         ],
         "xaxis": "x",
         "y": [
          14,
          10,
          37,
          52,
          15
         ],
         "yaxis": "y"
        },
        {
         "alignmentgroup": "True",
         "hovertemplate": "color=R&B<br>x=%{x}<br>y=%{y}<extra></extra>",
         "legendgroup": "R&B",
         "marker": {
          "color": "#00cc96",
          "pattern": {
           "shape": ""
          }
         },
         "name": "R&B",
         "offsetgroup": "R&B",
         "orientation": "v",
         "showlegend": true,
         "textposition": "auto",
         "type": "bar",
         "x": [
          2020,
          2021,
          2022,
          2023
         ],
         "xaxis": "x",
         "y": [
          4,
          18,
          33,
          4
         ],
         "yaxis": "y"
        },
        {
         "alignmentgroup": "True",
         "hovertemplate": "color=Rock<br>x=%{x}<br>y=%{y}<extra></extra>",
         "legendgroup": "Rock",
         "marker": {
          "color": "#ab63fa",
          "pattern": {
           "shape": ""
          }
         },
         "name": "Rock",
         "offsetgroup": "Rock",
         "orientation": "v",
         "showlegend": true,
         "textposition": "auto",
         "type": "bar",
         "x": [
          2020,
          2021,
          2022,
          2023
         ],
         "xaxis": "x",
         "y": [
          11,
          56,
          66,
          6
         ],
         "yaxis": "y"
        },
        {
         "alignmentgroup": "True",
         "hovertemplate": "color=Easy listening<br>x=%{x}<br>y=%{y}<extra></extra>",
         "legendgroup": "Easy listening",
         "marker": {
          "color": "#FFA15A",
          "pattern": {
           "shape": ""
          }
         },
         "name": "Easy listening",
         "offsetgroup": "Easy listening",
         "orientation": "v",
         "showlegend": true,
         "textposition": "auto",
         "type": "bar",
         "x": [
          2021
         ],
         "xaxis": "x",
         "y": [
          4
         ],
         "yaxis": "y"
        },
        {
         "alignmentgroup": "True",
         "hovertemplate": "color=Folk/Acoustic<br>x=%{x}<br>y=%{y}<extra></extra>",
         "legendgroup": "Folk/Acoustic",
         "marker": {
          "color": "#19d3f3",
          "pattern": {
           "shape": ""
          }
         },
         "name": "Folk/Acoustic",
         "offsetgroup": "Folk/Acoustic",
         "orientation": "v",
         "showlegend": true,
         "textposition": "auto",
         "type": "bar",
         "x": [
          2021,
          2022
         ],
         "xaxis": "x",
         "y": [
          4,
          8
         ],
         "yaxis": "y"
        },
        {
         "alignmentgroup": "True",
         "hovertemplate": "color=Hip Hop<br>x=%{x}<br>y=%{y}<extra></extra>",
         "legendgroup": "Hip Hop",
         "marker": {
          "color": "#FF6692",
          "pattern": {
           "shape": ""
          }
         },
         "name": "Hip Hop",
         "offsetgroup": "Hip Hop",
         "orientation": "v",
         "showlegend": true,
         "textposition": "auto",
         "type": "bar",
         "x": [
          2021,
          2022
         ],
         "xaxis": "x",
         "y": [
          26,
          27
         ],
         "yaxis": "y"
        },
        {
         "alignmentgroup": "True",
         "hovertemplate": "color=Jazz<br>x=%{x}<br>y=%{y}<extra></extra>",
         "legendgroup": "Jazz",
         "marker": {
          "color": "#B6E880",
          "pattern": {
           "shape": ""
          }
         },
         "name": "Jazz",
         "offsetgroup": "Jazz",
         "orientation": "v",
         "showlegend": true,
         "textposition": "auto",
         "type": "bar",
         "x": [
          2021
         ],
         "xaxis": "x",
         "y": [
          5
         ],
         "yaxis": "y"
        },
        {
         "alignmentgroup": "True",
         "hovertemplate": "color=Latin<br>x=%{x}<br>y=%{y}<extra></extra>",
         "legendgroup": "Latin",
         "marker": {
          "color": "#FF97FF",
          "pattern": {
           "shape": ""
          }
         },
         "name": "Latin",
         "offsetgroup": "Latin",
         "orientation": "v",
         "showlegend": true,
         "textposition": "auto",
         "type": "bar",
         "x": [
          2021,
          2022
         ],
         "xaxis": "x",
         "y": [
          11,
          12
         ],
         "yaxis": "y"
        },
        {
         "alignmentgroup": "True",
         "hovertemplate": "color=Metal<br>x=%{x}<br>y=%{y}<extra></extra>",
         "legendgroup": "Metal",
         "marker": {
          "color": "#FECB52",
          "pattern": {
           "shape": ""
          }
         },
         "name": "Metal",
         "offsetgroup": "Metal",
         "orientation": "v",
         "showlegend": true,
         "textposition": "auto",
         "type": "bar",
         "x": [
          2021,
          2022
         ],
         "xaxis": "x",
         "y": [
          12,
          21
         ],
         "yaxis": "y"
        }
       ],
       "layout": {
        "barmode": "relative",
        "height": 600,
        "legend": {
         "title": {
          "text": "color"
         },
         "tracegroupgap": 0
        },
        "margin": {
         "b": 20,
         "l": 100,
         "r": 150,
         "t": 100
        },
        "paper_bgcolor": "LightSteelBlue",
        "template": {
         "data": {
          "bar": [
           {
            "error_x": {
             "color": "#2a3f5f"
            },
            "error_y": {
             "color": "#2a3f5f"
            },
            "marker": {
             "line": {
              "color": "#E5ECF6",
              "width": 0.5
             },
             "pattern": {
              "fillmode": "overlay",
              "size": 10,
              "solidity": 0.2
             }
            },
            "type": "bar"
           }
          ],
          "barpolar": [
           {
            "marker": {
             "line": {
              "color": "#E5ECF6",
              "width": 0.5
             },
             "pattern": {
              "fillmode": "overlay",
              "size": 10,
              "solidity": 0.2
             }
            },
            "type": "barpolar"
           }
          ],
          "carpet": [
           {
            "aaxis": {
             "endlinecolor": "#2a3f5f",
             "gridcolor": "white",
             "linecolor": "white",
             "minorgridcolor": "white",
             "startlinecolor": "#2a3f5f"
            },
            "baxis": {
             "endlinecolor": "#2a3f5f",
             "gridcolor": "white",
             "linecolor": "white",
             "minorgridcolor": "white",
             "startlinecolor": "#2a3f5f"
            },
            "type": "carpet"
           }
          ],
          "choropleth": [
           {
            "colorbar": {
             "outlinewidth": 0,
             "ticks": ""
            },
            "type": "choropleth"
           }
          ],
          "contour": [
           {
            "colorbar": {
             "outlinewidth": 0,
             "ticks": ""
            },
            "colorscale": [
             [
              0,
              "#0d0887"
             ],
             [
              0.1111111111111111,
              "#46039f"
             ],
             [
              0.2222222222222222,
              "#7201a8"
             ],
             [
              0.3333333333333333,
              "#9c179e"
             ],
             [
              0.4444444444444444,
              "#bd3786"
             ],
             [
              0.5555555555555556,
              "#d8576b"
             ],
             [
              0.6666666666666666,
              "#ed7953"
             ],
             [
              0.7777777777777778,
              "#fb9f3a"
             ],
             [
              0.8888888888888888,
              "#fdca26"
             ],
             [
              1,
              "#f0f921"
             ]
            ],
            "type": "contour"
           }
          ],
          "contourcarpet": [
           {
            "colorbar": {
             "outlinewidth": 0,
             "ticks": ""
            },
            "type": "contourcarpet"
           }
          ],
          "heatmap": [
           {
            "colorbar": {
             "outlinewidth": 0,
             "ticks": ""
            },
            "colorscale": [
             [
              0,
              "#0d0887"
             ],
             [
              0.1111111111111111,
              "#46039f"
             ],
             [
              0.2222222222222222,
              "#7201a8"
             ],
             [
              0.3333333333333333,
              "#9c179e"
             ],
             [
              0.4444444444444444,
              "#bd3786"
             ],
             [
              0.5555555555555556,
              "#d8576b"
             ],
             [
              0.6666666666666666,
              "#ed7953"
             ],
             [
              0.7777777777777778,
              "#fb9f3a"
             ],
             [
              0.8888888888888888,
              "#fdca26"
             ],
             [
              1,
              "#f0f921"
             ]
            ],
            "type": "heatmap"
           }
          ],
          "heatmapgl": [
           {
            "colorbar": {
             "outlinewidth": 0,
             "ticks": ""
            },
            "colorscale": [
             [
              0,
              "#0d0887"
             ],
             [
              0.1111111111111111,
              "#46039f"
             ],
             [
              0.2222222222222222,
              "#7201a8"
             ],
             [
              0.3333333333333333,
              "#9c179e"
             ],
             [
              0.4444444444444444,
              "#bd3786"
             ],
             [
              0.5555555555555556,
              "#d8576b"
             ],
             [
              0.6666666666666666,
              "#ed7953"
             ],
             [
              0.7777777777777778,
              "#fb9f3a"
             ],
             [
              0.8888888888888888,
              "#fdca26"
             ],
             [
              1,
              "#f0f921"
             ]
            ],
            "type": "heatmapgl"
           }
          ],
          "histogram": [
           {
            "marker": {
             "pattern": {
              "fillmode": "overlay",
              "size": 10,
              "solidity": 0.2
             }
            },
            "type": "histogram"
           }
          ],
          "histogram2d": [
           {
            "colorbar": {
             "outlinewidth": 0,
             "ticks": ""
            },
            "colorscale": [
             [
              0,
              "#0d0887"
             ],
             [
              0.1111111111111111,
              "#46039f"
             ],
             [
              0.2222222222222222,
              "#7201a8"
             ],
             [
              0.3333333333333333,
              "#9c179e"
             ],
             [
              0.4444444444444444,
              "#bd3786"
             ],
             [
              0.5555555555555556,
              "#d8576b"
             ],
             [
              0.6666666666666666,
              "#ed7953"
             ],
             [
              0.7777777777777778,
              "#fb9f3a"
             ],
             [
              0.8888888888888888,
              "#fdca26"
             ],
             [
              1,
              "#f0f921"
             ]
            ],
            "type": "histogram2d"
           }
          ],
          "histogram2dcontour": [
           {
            "colorbar": {
             "outlinewidth": 0,
             "ticks": ""
            },
            "colorscale": [
             [
              0,
              "#0d0887"
             ],
             [
              0.1111111111111111,
              "#46039f"
             ],
             [
              0.2222222222222222,
              "#7201a8"
             ],
             [
              0.3333333333333333,
              "#9c179e"
             ],
             [
              0.4444444444444444,
              "#bd3786"
             ],
             [
              0.5555555555555556,
              "#d8576b"
             ],
             [
              0.6666666666666666,
              "#ed7953"
             ],
             [
              0.7777777777777778,
              "#fb9f3a"
             ],
             [
              0.8888888888888888,
              "#fdca26"
             ],
             [
              1,
              "#f0f921"
             ]
            ],
            "type": "histogram2dcontour"
           }
          ],
          "mesh3d": [
           {
            "colorbar": {
             "outlinewidth": 0,
             "ticks": ""
            },
            "type": "mesh3d"
           }
          ],
          "parcoords": [
           {
            "line": {
             "colorbar": {
              "outlinewidth": 0,
              "ticks": ""
             }
            },
            "type": "parcoords"
           }
          ],
          "pie": [
           {
            "automargin": true,
            "type": "pie"
           }
          ],
          "scatter": [
           {
            "fillpattern": {
             "fillmode": "overlay",
             "size": 10,
             "solidity": 0.2
            },
            "type": "scatter"
           }
          ],
          "scatter3d": [
           {
            "line": {
             "colorbar": {
              "outlinewidth": 0,
              "ticks": ""
             }
            },
            "marker": {
             "colorbar": {
              "outlinewidth": 0,
              "ticks": ""
             }
            },
            "type": "scatter3d"
           }
          ],
          "scattercarpet": [
           {
            "marker": {
             "colorbar": {
              "outlinewidth": 0,
              "ticks": ""
             }
            },
            "type": "scattercarpet"
           }
          ],
          "scattergeo": [
           {
            "marker": {
             "colorbar": {
              "outlinewidth": 0,
              "ticks": ""
             }
            },
            "type": "scattergeo"
           }
          ],
          "scattergl": [
           {
            "marker": {
             "colorbar": {
              "outlinewidth": 0,
              "ticks": ""
             }
            },
            "type": "scattergl"
           }
          ],
          "scattermapbox": [
           {
            "marker": {
             "colorbar": {
              "outlinewidth": 0,
              "ticks": ""
             }
            },
            "type": "scattermapbox"
           }
          ],
          "scatterpolar": [
           {
            "marker": {
             "colorbar": {
              "outlinewidth": 0,
              "ticks": ""
             }
            },
            "type": "scatterpolar"
           }
          ],
          "scatterpolargl": [
           {
            "marker": {
             "colorbar": {
              "outlinewidth": 0,
              "ticks": ""
             }
            },
            "type": "scatterpolargl"
           }
          ],
          "scatterternary": [
           {
            "marker": {
             "colorbar": {
              "outlinewidth": 0,
              "ticks": ""
             }
            },
            "type": "scatterternary"
           }
          ],
          "surface": [
           {
            "colorbar": {
             "outlinewidth": 0,
             "ticks": ""
            },
            "colorscale": [
             [
              0,
              "#0d0887"
             ],
             [
              0.1111111111111111,
              "#46039f"
             ],
             [
              0.2222222222222222,
              "#7201a8"
             ],
             [
              0.3333333333333333,
              "#9c179e"
             ],
             [
              0.4444444444444444,
              "#bd3786"
             ],
             [
              0.5555555555555556,
              "#d8576b"
             ],
             [
              0.6666666666666666,
              "#ed7953"
             ],
             [
              0.7777777777777778,
              "#fb9f3a"
             ],
             [
              0.8888888888888888,
              "#fdca26"
             ],
             [
              1,
              "#f0f921"
             ]
            ],
            "type": "surface"
           }
          ],
          "table": [
           {
            "cells": {
             "fill": {
              "color": "#EBF0F8"
             },
             "line": {
              "color": "white"
             }
            },
            "header": {
             "fill": {
              "color": "#C8D4E3"
             },
             "line": {
              "color": "white"
             }
            },
            "type": "table"
           }
          ]
         },
         "layout": {
          "annotationdefaults": {
           "arrowcolor": "#2a3f5f",
           "arrowhead": 0,
           "arrowwidth": 1
          },
          "autotypenumbers": "strict",
          "coloraxis": {
           "colorbar": {
            "outlinewidth": 0,
            "ticks": ""
           }
          },
          "colorscale": {
           "diverging": [
            [
             0,
             "#8e0152"
            ],
            [
             0.1,
             "#c51b7d"
            ],
            [
             0.2,
             "#de77ae"
            ],
            [
             0.3,
             "#f1b6da"
            ],
            [
             0.4,
             "#fde0ef"
            ],
            [
             0.5,
             "#f7f7f7"
            ],
            [
             0.6,
             "#e6f5d0"
            ],
            [
             0.7,
             "#b8e186"
            ],
            [
             0.8,
             "#7fbc41"
            ],
            [
             0.9,
             "#4d9221"
            ],
            [
             1,
             "#276419"
            ]
           ],
           "sequential": [
            [
             0,
             "#0d0887"
            ],
            [
             0.1111111111111111,
             "#46039f"
            ],
            [
             0.2222222222222222,
             "#7201a8"
            ],
            [
             0.3333333333333333,
             "#9c179e"
            ],
            [
             0.4444444444444444,
             "#bd3786"
            ],
            [
             0.5555555555555556,
             "#d8576b"
            ],
            [
             0.6666666666666666,
             "#ed7953"
            ],
            [
             0.7777777777777778,
             "#fb9f3a"
            ],
            [
             0.8888888888888888,
             "#fdca26"
            ],
            [
             1,
             "#f0f921"
            ]
           ],
           "sequentialminus": [
            [
             0,
             "#0d0887"
            ],
            [
             0.1111111111111111,
             "#46039f"
            ],
            [
             0.2222222222222222,
             "#7201a8"
            ],
            [
             0.3333333333333333,
             "#9c179e"
            ],
            [
             0.4444444444444444,
             "#bd3786"
            ],
            [
             0.5555555555555556,
             "#d8576b"
            ],
            [
             0.6666666666666666,
             "#ed7953"
            ],
            [
             0.7777777777777778,
             "#fb9f3a"
            ],
            [
             0.8888888888888888,
             "#fdca26"
            ],
            [
             1,
             "#f0f921"
            ]
           ]
          },
          "colorway": [
           "#636efa",
           "#EF553B",
           "#00cc96",
           "#ab63fa",
           "#FFA15A",
           "#19d3f3",
           "#FF6692",
           "#B6E880",
           "#FF97FF",
           "#FECB52"
          ],
          "font": {
           "color": "#2a3f5f"
          },
          "geo": {
           "bgcolor": "white",
           "lakecolor": "white",
           "landcolor": "#E5ECF6",
           "showlakes": true,
           "showland": true,
           "subunitcolor": "white"
          },
          "hoverlabel": {
           "align": "left"
          },
          "hovermode": "closest",
          "mapbox": {
           "style": "light"
          },
          "paper_bgcolor": "white",
          "plot_bgcolor": "#E5ECF6",
          "polar": {
           "angularaxis": {
            "gridcolor": "white",
            "linecolor": "white",
            "ticks": ""
           },
           "bgcolor": "#E5ECF6",
           "radialaxis": {
            "gridcolor": "white",
            "linecolor": "white",
            "ticks": ""
           }
          },
          "scene": {
           "xaxis": {
            "backgroundcolor": "#E5ECF6",
            "gridcolor": "white",
            "gridwidth": 2,
            "linecolor": "white",
            "showbackground": true,
            "ticks": "",
            "zerolinecolor": "white"
           },
           "yaxis": {
            "backgroundcolor": "#E5ECF6",
            "gridcolor": "white",
            "gridwidth": 2,
            "linecolor": "white",
            "showbackground": true,
            "ticks": "",
            "zerolinecolor": "white"
           },
           "zaxis": {
            "backgroundcolor": "#E5ECF6",
            "gridcolor": "white",
            "gridwidth": 2,
            "linecolor": "white",
            "showbackground": true,
            "ticks": "",
            "zerolinecolor": "white"
           }
          },
          "shapedefaults": {
           "line": {
            "color": "#2a3f5f"
           }
          },
          "ternary": {
           "aaxis": {
            "gridcolor": "white",
            "linecolor": "white",
            "ticks": ""
           },
           "baxis": {
            "gridcolor": "white",
            "linecolor": "white",
            "ticks": ""
           },
           "bgcolor": "#E5ECF6",
           "caxis": {
            "gridcolor": "white",
            "linecolor": "white",
            "ticks": ""
           }
          },
          "title": {
           "x": 0.05
          },
          "xaxis": {
           "automargin": true,
           "gridcolor": "white",
           "linecolor": "white",
           "ticks": "",
           "title": {
            "standoff": 15
           },
           "zerolinecolor": "white",
           "zerolinewidth": 2
          },
          "yaxis": {
           "automargin": true,
           "gridcolor": "white",
           "linecolor": "white",
           "ticks": "",
           "title": {
            "standoff": 15
           },
           "zerolinecolor": "white",
           "zerolinewidth": 2
          }
         }
        },
        "title": {
         "text": "Parent Genre Distribution by Year",
         "x": 0.5
        },
        "xaxis": {
         "anchor": "y",
         "domain": [
          0,
          1
         ],
         "title": {
          "text": "Track Added Year"
         }
        },
        "yaxis": {
         "anchor": "x",
         "domain": [
          0,
          1
         ],
         "title": {
          "text": "Genre types"
         }
        }
       }
      },
      "text/html": [
       "<div>                            <div id=\"df3b9de6-4f73-4d4f-ba17-1e7aff15eff0\" class=\"plotly-graph-div\" style=\"height:600px; width:100%;\"></div>            <script type=\"text/javascript\">                require([\"plotly\"], function(Plotly) {                    window.PLOTLYENV=window.PLOTLYENV || {};                                    if (document.getElementById(\"df3b9de6-4f73-4d4f-ba17-1e7aff15eff0\")) {                    Plotly.newPlot(                        \"df3b9de6-4f73-4d4f-ba17-1e7aff15eff0\",                        [{\"alignmentgroup\":\"True\",\"hovertemplate\":\"color=Dance/Electronic<br>x=%{x}<br>y=%{y}<extra></extra>\",\"legendgroup\":\"Dance/Electronic\",\"marker\":{\"color\":\"#636efa\",\"pattern\":{\"shape\":\"\"}},\"name\":\"Dance/Electronic\",\"offsetgroup\":\"Dance/Electronic\",\"orientation\":\"v\",\"showlegend\":true,\"textposition\":\"auto\",\"x\":[2019,2020,2021,2022,2023],\"xaxis\":\"x\",\"y\":[19,8,33,46,4],\"yaxis\":\"y\",\"type\":\"bar\"},{\"alignmentgroup\":\"True\",\"hovertemplate\":\"color=Pop<br>x=%{x}<br>y=%{y}<extra></extra>\",\"legendgroup\":\"Pop\",\"marker\":{\"color\":\"#EF553B\",\"pattern\":{\"shape\":\"\"}},\"name\":\"Pop\",\"offsetgroup\":\"Pop\",\"orientation\":\"v\",\"showlegend\":true,\"textposition\":\"auto\",\"x\":[2019,2020,2021,2022,2023],\"xaxis\":\"x\",\"y\":[14,10,37,52,15],\"yaxis\":\"y\",\"type\":\"bar\"},{\"alignmentgroup\":\"True\",\"hovertemplate\":\"color=R&B<br>x=%{x}<br>y=%{y}<extra></extra>\",\"legendgroup\":\"R&B\",\"marker\":{\"color\":\"#00cc96\",\"pattern\":{\"shape\":\"\"}},\"name\":\"R&B\",\"offsetgroup\":\"R&B\",\"orientation\":\"v\",\"showlegend\":true,\"textposition\":\"auto\",\"x\":[2020,2021,2022,2023],\"xaxis\":\"x\",\"y\":[4,18,33,4],\"yaxis\":\"y\",\"type\":\"bar\"},{\"alignmentgroup\":\"True\",\"hovertemplate\":\"color=Rock<br>x=%{x}<br>y=%{y}<extra></extra>\",\"legendgroup\":\"Rock\",\"marker\":{\"color\":\"#ab63fa\",\"pattern\":{\"shape\":\"\"}},\"name\":\"Rock\",\"offsetgroup\":\"Rock\",\"orientation\":\"v\",\"showlegend\":true,\"textposition\":\"auto\",\"x\":[2020,2021,2022,2023],\"xaxis\":\"x\",\"y\":[11,56,66,6],\"yaxis\":\"y\",\"type\":\"bar\"},{\"alignmentgroup\":\"True\",\"hovertemplate\":\"color=Easy listening<br>x=%{x}<br>y=%{y}<extra></extra>\",\"legendgroup\":\"Easy listening\",\"marker\":{\"color\":\"#FFA15A\",\"pattern\":{\"shape\":\"\"}},\"name\":\"Easy listening\",\"offsetgroup\":\"Easy listening\",\"orientation\":\"v\",\"showlegend\":true,\"textposition\":\"auto\",\"x\":[2021],\"xaxis\":\"x\",\"y\":[4],\"yaxis\":\"y\",\"type\":\"bar\"},{\"alignmentgroup\":\"True\",\"hovertemplate\":\"color=Folk/Acoustic<br>x=%{x}<br>y=%{y}<extra></extra>\",\"legendgroup\":\"Folk/Acoustic\",\"marker\":{\"color\":\"#19d3f3\",\"pattern\":{\"shape\":\"\"}},\"name\":\"Folk/Acoustic\",\"offsetgroup\":\"Folk/Acoustic\",\"orientation\":\"v\",\"showlegend\":true,\"textposition\":\"auto\",\"x\":[2021,2022],\"xaxis\":\"x\",\"y\":[4,8],\"yaxis\":\"y\",\"type\":\"bar\"},{\"alignmentgroup\":\"True\",\"hovertemplate\":\"color=Hip Hop<br>x=%{x}<br>y=%{y}<extra></extra>\",\"legendgroup\":\"Hip Hop\",\"marker\":{\"color\":\"#FF6692\",\"pattern\":{\"shape\":\"\"}},\"name\":\"Hip Hop\",\"offsetgroup\":\"Hip Hop\",\"orientation\":\"v\",\"showlegend\":true,\"textposition\":\"auto\",\"x\":[2021,2022],\"xaxis\":\"x\",\"y\":[26,27],\"yaxis\":\"y\",\"type\":\"bar\"},{\"alignmentgroup\":\"True\",\"hovertemplate\":\"color=Jazz<br>x=%{x}<br>y=%{y}<extra></extra>\",\"legendgroup\":\"Jazz\",\"marker\":{\"color\":\"#B6E880\",\"pattern\":{\"shape\":\"\"}},\"name\":\"Jazz\",\"offsetgroup\":\"Jazz\",\"orientation\":\"v\",\"showlegend\":true,\"textposition\":\"auto\",\"x\":[2021],\"xaxis\":\"x\",\"y\":[5],\"yaxis\":\"y\",\"type\":\"bar\"},{\"alignmentgroup\":\"True\",\"hovertemplate\":\"color=Latin<br>x=%{x}<br>y=%{y}<extra></extra>\",\"legendgroup\":\"Latin\",\"marker\":{\"color\":\"#FF97FF\",\"pattern\":{\"shape\":\"\"}},\"name\":\"Latin\",\"offsetgroup\":\"Latin\",\"orientation\":\"v\",\"showlegend\":true,\"textposition\":\"auto\",\"x\":[2021,2022],\"xaxis\":\"x\",\"y\":[11,12],\"yaxis\":\"y\",\"type\":\"bar\"},{\"alignmentgroup\":\"True\",\"hovertemplate\":\"color=Metal<br>x=%{x}<br>y=%{y}<extra></extra>\",\"legendgroup\":\"Metal\",\"marker\":{\"color\":\"#FECB52\",\"pattern\":{\"shape\":\"\"}},\"name\":\"Metal\",\"offsetgroup\":\"Metal\",\"orientation\":\"v\",\"showlegend\":true,\"textposition\":\"auto\",\"x\":[2021,2022],\"xaxis\":\"x\",\"y\":[12,21],\"yaxis\":\"y\",\"type\":\"bar\"}],                        {\"template\":{\"data\":{\"histogram2dcontour\":[{\"type\":\"histogram2dcontour\",\"colorbar\":{\"outlinewidth\":0,\"ticks\":\"\"},\"colorscale\":[[0.0,\"#0d0887\"],[0.1111111111111111,\"#46039f\"],[0.2222222222222222,\"#7201a8\"],[0.3333333333333333,\"#9c179e\"],[0.4444444444444444,\"#bd3786\"],[0.5555555555555556,\"#d8576b\"],[0.6666666666666666,\"#ed7953\"],[0.7777777777777778,\"#fb9f3a\"],[0.8888888888888888,\"#fdca26\"],[1.0,\"#f0f921\"]]}],\"choropleth\":[{\"type\":\"choropleth\",\"colorbar\":{\"outlinewidth\":0,\"ticks\":\"\"}}],\"histogram2d\":[{\"type\":\"histogram2d\",\"colorbar\":{\"outlinewidth\":0,\"ticks\":\"\"},\"colorscale\":[[0.0,\"#0d0887\"],[0.1111111111111111,\"#46039f\"],[0.2222222222222222,\"#7201a8\"],[0.3333333333333333,\"#9c179e\"],[0.4444444444444444,\"#bd3786\"],[0.5555555555555556,\"#d8576b\"],[0.6666666666666666,\"#ed7953\"],[0.7777777777777778,\"#fb9f3a\"],[0.8888888888888888,\"#fdca26\"],[1.0,\"#f0f921\"]]}],\"heatmap\":[{\"type\":\"heatmap\",\"colorbar\":{\"outlinewidth\":0,\"ticks\":\"\"},\"colorscale\":[[0.0,\"#0d0887\"],[0.1111111111111111,\"#46039f\"],[0.2222222222222222,\"#7201a8\"],[0.3333333333333333,\"#9c179e\"],[0.4444444444444444,\"#bd3786\"],[0.5555555555555556,\"#d8576b\"],[0.6666666666666666,\"#ed7953\"],[0.7777777777777778,\"#fb9f3a\"],[0.8888888888888888,\"#fdca26\"],[1.0,\"#f0f921\"]]}],\"heatmapgl\":[{\"type\":\"heatmapgl\",\"colorbar\":{\"outlinewidth\":0,\"ticks\":\"\"},\"colorscale\":[[0.0,\"#0d0887\"],[0.1111111111111111,\"#46039f\"],[0.2222222222222222,\"#7201a8\"],[0.3333333333333333,\"#9c179e\"],[0.4444444444444444,\"#bd3786\"],[0.5555555555555556,\"#d8576b\"],[0.6666666666666666,\"#ed7953\"],[0.7777777777777778,\"#fb9f3a\"],[0.8888888888888888,\"#fdca26\"],[1.0,\"#f0f921\"]]}],\"contourcarpet\":[{\"type\":\"contourcarpet\",\"colorbar\":{\"outlinewidth\":0,\"ticks\":\"\"}}],\"contour\":[{\"type\":\"contour\",\"colorbar\":{\"outlinewidth\":0,\"ticks\":\"\"},\"colorscale\":[[0.0,\"#0d0887\"],[0.1111111111111111,\"#46039f\"],[0.2222222222222222,\"#7201a8\"],[0.3333333333333333,\"#9c179e\"],[0.4444444444444444,\"#bd3786\"],[0.5555555555555556,\"#d8576b\"],[0.6666666666666666,\"#ed7953\"],[0.7777777777777778,\"#fb9f3a\"],[0.8888888888888888,\"#fdca26\"],[1.0,\"#f0f921\"]]}],\"surface\":[{\"type\":\"surface\",\"colorbar\":{\"outlinewidth\":0,\"ticks\":\"\"},\"colorscale\":[[0.0,\"#0d0887\"],[0.1111111111111111,\"#46039f\"],[0.2222222222222222,\"#7201a8\"],[0.3333333333333333,\"#9c179e\"],[0.4444444444444444,\"#bd3786\"],[0.5555555555555556,\"#d8576b\"],[0.6666666666666666,\"#ed7953\"],[0.7777777777777778,\"#fb9f3a\"],[0.8888888888888888,\"#fdca26\"],[1.0,\"#f0f921\"]]}],\"mesh3d\":[{\"type\":\"mesh3d\",\"colorbar\":{\"outlinewidth\":0,\"ticks\":\"\"}}],\"scatter\":[{\"fillpattern\":{\"fillmode\":\"overlay\",\"size\":10,\"solidity\":0.2},\"type\":\"scatter\"}],\"parcoords\":[{\"type\":\"parcoords\",\"line\":{\"colorbar\":{\"outlinewidth\":0,\"ticks\":\"\"}}}],\"scatterpolargl\":[{\"type\":\"scatterpolargl\",\"marker\":{\"colorbar\":{\"outlinewidth\":0,\"ticks\":\"\"}}}],\"bar\":[{\"error_x\":{\"color\":\"#2a3f5f\"},\"error_y\":{\"color\":\"#2a3f5f\"},\"marker\":{\"line\":{\"color\":\"#E5ECF6\",\"width\":0.5},\"pattern\":{\"fillmode\":\"overlay\",\"size\":10,\"solidity\":0.2}},\"type\":\"bar\"}],\"scattergeo\":[{\"type\":\"scattergeo\",\"marker\":{\"colorbar\":{\"outlinewidth\":0,\"ticks\":\"\"}}}],\"scatterpolar\":[{\"type\":\"scatterpolar\",\"marker\":{\"colorbar\":{\"outlinewidth\":0,\"ticks\":\"\"}}}],\"histogram\":[{\"marker\":{\"pattern\":{\"fillmode\":\"overlay\",\"size\":10,\"solidity\":0.2}},\"type\":\"histogram\"}],\"scattergl\":[{\"type\":\"scattergl\",\"marker\":{\"colorbar\":{\"outlinewidth\":0,\"ticks\":\"\"}}}],\"scatter3d\":[{\"type\":\"scatter3d\",\"line\":{\"colorbar\":{\"outlinewidth\":0,\"ticks\":\"\"}},\"marker\":{\"colorbar\":{\"outlinewidth\":0,\"ticks\":\"\"}}}],\"scattermapbox\":[{\"type\":\"scattermapbox\",\"marker\":{\"colorbar\":{\"outlinewidth\":0,\"ticks\":\"\"}}}],\"scatterternary\":[{\"type\":\"scatterternary\",\"marker\":{\"colorbar\":{\"outlinewidth\":0,\"ticks\":\"\"}}}],\"scattercarpet\":[{\"type\":\"scattercarpet\",\"marker\":{\"colorbar\":{\"outlinewidth\":0,\"ticks\":\"\"}}}],\"carpet\":[{\"aaxis\":{\"endlinecolor\":\"#2a3f5f\",\"gridcolor\":\"white\",\"linecolor\":\"white\",\"minorgridcolor\":\"white\",\"startlinecolor\":\"#2a3f5f\"},\"baxis\":{\"endlinecolor\":\"#2a3f5f\",\"gridcolor\":\"white\",\"linecolor\":\"white\",\"minorgridcolor\":\"white\",\"startlinecolor\":\"#2a3f5f\"},\"type\":\"carpet\"}],\"table\":[{\"cells\":{\"fill\":{\"color\":\"#EBF0F8\"},\"line\":{\"color\":\"white\"}},\"header\":{\"fill\":{\"color\":\"#C8D4E3\"},\"line\":{\"color\":\"white\"}},\"type\":\"table\"}],\"barpolar\":[{\"marker\":{\"line\":{\"color\":\"#E5ECF6\",\"width\":0.5},\"pattern\":{\"fillmode\":\"overlay\",\"size\":10,\"solidity\":0.2}},\"type\":\"barpolar\"}],\"pie\":[{\"automargin\":true,\"type\":\"pie\"}]},\"layout\":{\"autotypenumbers\":\"strict\",\"colorway\":[\"#636efa\",\"#EF553B\",\"#00cc96\",\"#ab63fa\",\"#FFA15A\",\"#19d3f3\",\"#FF6692\",\"#B6E880\",\"#FF97FF\",\"#FECB52\"],\"font\":{\"color\":\"#2a3f5f\"},\"hovermode\":\"closest\",\"hoverlabel\":{\"align\":\"left\"},\"paper_bgcolor\":\"white\",\"plot_bgcolor\":\"#E5ECF6\",\"polar\":{\"bgcolor\":\"#E5ECF6\",\"angularaxis\":{\"gridcolor\":\"white\",\"linecolor\":\"white\",\"ticks\":\"\"},\"radialaxis\":{\"gridcolor\":\"white\",\"linecolor\":\"white\",\"ticks\":\"\"}},\"ternary\":{\"bgcolor\":\"#E5ECF6\",\"aaxis\":{\"gridcolor\":\"white\",\"linecolor\":\"white\",\"ticks\":\"\"},\"baxis\":{\"gridcolor\":\"white\",\"linecolor\":\"white\",\"ticks\":\"\"},\"caxis\":{\"gridcolor\":\"white\",\"linecolor\":\"white\",\"ticks\":\"\"}},\"coloraxis\":{\"colorbar\":{\"outlinewidth\":0,\"ticks\":\"\"}},\"colorscale\":{\"sequential\":[[0.0,\"#0d0887\"],[0.1111111111111111,\"#46039f\"],[0.2222222222222222,\"#7201a8\"],[0.3333333333333333,\"#9c179e\"],[0.4444444444444444,\"#bd3786\"],[0.5555555555555556,\"#d8576b\"],[0.6666666666666666,\"#ed7953\"],[0.7777777777777778,\"#fb9f3a\"],[0.8888888888888888,\"#fdca26\"],[1.0,\"#f0f921\"]],\"sequentialminus\":[[0.0,\"#0d0887\"],[0.1111111111111111,\"#46039f\"],[0.2222222222222222,\"#7201a8\"],[0.3333333333333333,\"#9c179e\"],[0.4444444444444444,\"#bd3786\"],[0.5555555555555556,\"#d8576b\"],[0.6666666666666666,\"#ed7953\"],[0.7777777777777778,\"#fb9f3a\"],[0.8888888888888888,\"#fdca26\"],[1.0,\"#f0f921\"]],\"diverging\":[[0,\"#8e0152\"],[0.1,\"#c51b7d\"],[0.2,\"#de77ae\"],[0.3,\"#f1b6da\"],[0.4,\"#fde0ef\"],[0.5,\"#f7f7f7\"],[0.6,\"#e6f5d0\"],[0.7,\"#b8e186\"],[0.8,\"#7fbc41\"],[0.9,\"#4d9221\"],[1,\"#276419\"]]},\"xaxis\":{\"gridcolor\":\"white\",\"linecolor\":\"white\",\"ticks\":\"\",\"title\":{\"standoff\":15},\"zerolinecolor\":\"white\",\"automargin\":true,\"zerolinewidth\":2},\"yaxis\":{\"gridcolor\":\"white\",\"linecolor\":\"white\",\"ticks\":\"\",\"title\":{\"standoff\":15},\"zerolinecolor\":\"white\",\"automargin\":true,\"zerolinewidth\":2},\"scene\":{\"xaxis\":{\"backgroundcolor\":\"#E5ECF6\",\"gridcolor\":\"white\",\"linecolor\":\"white\",\"showbackground\":true,\"ticks\":\"\",\"zerolinecolor\":\"white\",\"gridwidth\":2},\"yaxis\":{\"backgroundcolor\":\"#E5ECF6\",\"gridcolor\":\"white\",\"linecolor\":\"white\",\"showbackground\":true,\"ticks\":\"\",\"zerolinecolor\":\"white\",\"gridwidth\":2},\"zaxis\":{\"backgroundcolor\":\"#E5ECF6\",\"gridcolor\":\"white\",\"linecolor\":\"white\",\"showbackground\":true,\"ticks\":\"\",\"zerolinecolor\":\"white\",\"gridwidth\":2}},\"shapedefaults\":{\"line\":{\"color\":\"#2a3f5f\"}},\"annotationdefaults\":{\"arrowcolor\":\"#2a3f5f\",\"arrowhead\":0,\"arrowwidth\":1},\"geo\":{\"bgcolor\":\"white\",\"landcolor\":\"#E5ECF6\",\"subunitcolor\":\"white\",\"showland\":true,\"showlakes\":true,\"lakecolor\":\"white\"},\"title\":{\"x\":0.05},\"mapbox\":{\"style\":\"light\"}}},\"xaxis\":{\"anchor\":\"y\",\"domain\":[0.0,1.0],\"title\":{\"text\":\"Track Added Year\"}},\"yaxis\":{\"anchor\":\"x\",\"domain\":[0.0,1.0],\"title\":{\"text\":\"Genre types\"}},\"legend\":{\"title\":{\"text\":\"color\"},\"tracegroupgap\":0},\"margin\":{\"t\":100,\"l\":100,\"r\":150,\"b\":20},\"barmode\":\"relative\",\"title\":{\"text\":\"Parent Genre Distribution by Year\",\"x\":0.5},\"paper_bgcolor\":\"LightSteelBlue\",\"height\":600},                        {\"responsive\": true}                    ).then(function(){\n",
       "                            \n",
       "var gd = document.getElementById('df3b9de6-4f73-4d4f-ba17-1e7aff15eff0');\n",
       "var x = new MutationObserver(function (mutations, observer) {{\n",
       "        var display = window.getComputedStyle(gd).display;\n",
       "        if (!display || display === 'none') {{\n",
       "            console.log([gd, 'removed!']);\n",
       "            Plotly.purge(gd);\n",
       "            observer.disconnect();\n",
       "        }}\n",
       "}});\n",
       "\n",
       "// Listen for the removal of the full notebook cells\n",
       "var notebookContainer = gd.closest('#notebook-container');\n",
       "if (notebookContainer) {{\n",
       "    x.observe(notebookContainer, {childList: true});\n",
       "}}\n",
       "\n",
       "// Listen for the clearing of the current output cell\n",
       "var outputEl = gd.closest('.output');\n",
       "if (outputEl) {{\n",
       "    x.observe(outputEl, {childList: true});\n",
       "}}\n",
       "\n",
       "                        })                };                });            </script>        </div>"
      ]
     },
     "metadata": {},
     "output_type": "display_data"
    }
   ],
   "source": [
    "t = playlist.groupby([playlist['Added_At'].dt.year, 'Parent_Genre'])['Song'].count().reset_index().query(\"Song > 3\")\n",
    "\n",
    "px.bar(x=t.Added_At, y=t.Song, color=t.Parent_Genre).update_layout(\n",
    "                  title_text=\"Parent Genre Distribution by Year\",\n",
    "                  title_x=0.5,\n",
    "                  yaxis_title='Genre types',\n",
    "                  xaxis_title='Track Added Year',\n",
    "                  paper_bgcolor=\"LightSteelBlue\",\n",
    "                  height=600,\n",
    "                  margin=dict(l=100, r=150, t=100, b=20)\n",
    ")"
   ]
  },
  {
   "attachments": {},
   "cell_type": "markdown",
   "metadata": {},
   "source": [
    "From the graph above, it looks like I added more Rock and Dance/Electronic songs over the years. I used to listen to a lot of pop punk and alternative rock songs when I was younger, so I added the ones that I still listen to today. More dance songs because as I grew older and did more music production, I grew a liking to the sound aesthetics of electronic music.\n",
    "\n",
    "The graph below is a breakdown of subgenre changes i.e. the more precise genre. During 2020-2022, I started listening to a lot of bedroom pop, artists like Still Woozy, Benee, JAWNY, etc. These artists are like the baby product of Rock & Dance music, just the right mix of electronic sounds paired with guitar & drums."
   ]
  },
  {
   "cell_type": "code",
   "execution_count": 61,
   "metadata": {},
   "outputs": [
    {
     "data": {
      "application/vnd.plotly.v1+json": {
       "config": {
        "plotlyServerURL": "https://plot.ly"
       },
       "data": [
        {
         "alignmentgroup": "True",
         "hovertemplate": "color=art pop<br>x=%{x}<br>y=%{y}<extra></extra>",
         "legendgroup": "art pop",
         "marker": {
          "color": "#636efa",
          "pattern": {
           "shape": ""
          }
         },
         "name": "art pop",
         "offsetgroup": "art pop",
         "orientation": "v",
         "showlegend": true,
         "textangle": 0,
         "textposition": "auto",
         "texttemplate": "%{y}",
         "type": "bar",
         "x": [
          2019,
          2022
         ],
         "xaxis": "x",
         "y": [
          4,
          6
         ],
         "yaxis": "y"
        },
        {
         "alignmentgroup": "True",
         "hovertemplate": "color=alternative dance<br>x=%{x}<br>y=%{y}<extra></extra>",
         "legendgroup": "alternative dance",
         "marker": {
          "color": "#EF553B",
          "pattern": {
           "shape": ""
          }
         },
         "name": "alternative dance",
         "offsetgroup": "alternative dance",
         "orientation": "v",
         "showlegend": true,
         "textangle": 0,
         "textposition": "auto",
         "texttemplate": "%{y}",
         "type": "bar",
         "x": [
          2021,
          2022
         ],
         "xaxis": "x",
         "y": [
          8,
          8
         ],
         "yaxis": "y"
        },
        {
         "alignmentgroup": "True",
         "hovertemplate": "color=alternative hip hop<br>x=%{x}<br>y=%{y}<extra></extra>",
         "legendgroup": "alternative hip hop",
         "marker": {
          "color": "#00cc96",
          "pattern": {
           "shape": ""
          }
         },
         "name": "alternative hip hop",
         "offsetgroup": "alternative hip hop",
         "orientation": "v",
         "showlegend": true,
         "textangle": 0,
         "textposition": "auto",
         "texttemplate": "%{y}",
         "type": "bar",
         "x": [
          2021
         ],
         "xaxis": "x",
         "y": [
          4
         ],
         "yaxis": "y"
        },
        {
         "alignmentgroup": "True",
         "hovertemplate": "color=alternative metal<br>x=%{x}<br>y=%{y}<extra></extra>",
         "legendgroup": "alternative metal",
         "marker": {
          "color": "#ab63fa",
          "pattern": {
           "shape": ""
          }
         },
         "name": "alternative metal",
         "offsetgroup": "alternative metal",
         "orientation": "v",
         "showlegend": true,
         "textangle": 0,
         "textposition": "auto",
         "texttemplate": "%{y}",
         "type": "bar",
         "x": [
          2021,
          2022
         ],
         "xaxis": "x",
         "y": [
          10,
          8
         ],
         "yaxis": "y"
        },
        {
         "alignmentgroup": "True",
         "hovertemplate": "color=alternative r&b<br>x=%{x}<br>y=%{y}<extra></extra>",
         "legendgroup": "alternative r&b",
         "marker": {
          "color": "#FFA15A",
          "pattern": {
           "shape": ""
          }
         },
         "name": "alternative r&b",
         "offsetgroup": "alternative r&b",
         "orientation": "v",
         "showlegend": true,
         "textangle": 0,
         "textposition": "auto",
         "texttemplate": "%{y}",
         "type": "bar",
         "x": [
          2021,
          2022
         ],
         "xaxis": "x",
         "y": [
          5,
          9
         ],
         "yaxis": "y"
        },
        {
         "alignmentgroup": "True",
         "hovertemplate": "color=alternative rock<br>x=%{x}<br>y=%{y}<extra></extra>",
         "legendgroup": "alternative rock",
         "marker": {
          "color": "#19d3f3",
          "pattern": {
           "shape": ""
          }
         },
         "name": "alternative rock",
         "offsetgroup": "alternative rock",
         "orientation": "v",
         "showlegend": true,
         "textangle": 0,
         "textposition": "auto",
         "texttemplate": "%{y}",
         "type": "bar",
         "x": [
          2021
         ],
         "xaxis": "x",
         "y": [
          7
         ],
         "yaxis": "y"
        },
        {
         "alignmentgroup": "True",
         "hovertemplate": "color=atl hip hop<br>x=%{x}<br>y=%{y}<extra></extra>",
         "legendgroup": "atl hip hop",
         "marker": {
          "color": "#FF6692",
          "pattern": {
           "shape": ""
          }
         },
         "name": "atl hip hop",
         "offsetgroup": "atl hip hop",
         "orientation": "v",
         "showlegend": true,
         "textangle": 0,
         "textposition": "auto",
         "texttemplate": "%{y}",
         "type": "bar",
         "x": [
          2021
         ],
         "xaxis": "x",
         "y": [
          6
         ],
         "yaxis": "y"
        },
        {
         "alignmentgroup": "True",
         "hovertemplate": "color=bedroom pop<br>x=%{x}<br>y=%{y}<extra></extra>",
         "legendgroup": "bedroom pop",
         "marker": {
          "color": "#B6E880",
          "pattern": {
           "shape": ""
          }
         },
         "name": "bedroom pop",
         "offsetgroup": "bedroom pop",
         "orientation": "v",
         "showlegend": true,
         "textangle": 0,
         "textposition": "auto",
         "texttemplate": "%{y}",
         "type": "bar",
         "x": [
          2021,
          2022
         ],
         "xaxis": "x",
         "y": [
          11,
          14
         ],
         "yaxis": "y"
        },
        {
         "alignmentgroup": "True",
         "hovertemplate": "color=chillwave<br>x=%{x}<br>y=%{y}<extra></extra>",
         "legendgroup": "chillwave",
         "marker": {
          "color": "#FF97FF",
          "pattern": {
           "shape": ""
          }
         },
         "name": "chillwave",
         "offsetgroup": "chillwave",
         "orientation": "v",
         "showlegend": true,
         "textangle": 0,
         "textposition": "auto",
         "texttemplate": "%{y}",
         "type": "bar",
         "x": [
          2021
         ],
         "xaxis": "x",
         "y": [
          5
         ],
         "yaxis": "y"
        },
        {
         "alignmentgroup": "True",
         "hovertemplate": "color=dance pop<br>x=%{x}<br>y=%{y}<extra></extra>",
         "legendgroup": "dance pop",
         "marker": {
          "color": "#FECB52",
          "pattern": {
           "shape": ""
          }
         },
         "name": "dance pop",
         "offsetgroup": "dance pop",
         "orientation": "v",
         "showlegend": true,
         "textangle": 0,
         "textposition": "auto",
         "texttemplate": "%{y}",
         "type": "bar",
         "x": [
          2021,
          2022,
          2023
         ],
         "xaxis": "x",
         "y": [
          4,
          10,
          8
         ],
         "yaxis": "y"
        },
        {
         "alignmentgroup": "True",
         "hovertemplate": "color=deep disco house<br>x=%{x}<br>y=%{y}<extra></extra>",
         "legendgroup": "deep disco house",
         "marker": {
          "color": "#636efa",
          "pattern": {
           "shape": ""
          }
         },
         "name": "deep disco house",
         "offsetgroup": "deep disco house",
         "orientation": "v",
         "showlegend": true,
         "textangle": 0,
         "textposition": "auto",
         "texttemplate": "%{y}",
         "type": "bar",
         "x": [
          2021,
          2022
         ],
         "xaxis": "x",
         "y": [
          4,
          5
         ],
         "yaxis": "y"
        },
        {
         "alignmentgroup": "True",
         "hovertemplate": "color=indie garage rock<br>x=%{x}<br>y=%{y}<extra></extra>",
         "legendgroup": "indie garage rock",
         "marker": {
          "color": "#EF553B",
          "pattern": {
           "shape": ""
          }
         },
         "name": "indie garage rock",
         "offsetgroup": "indie garage rock",
         "orientation": "v",
         "showlegend": true,
         "textangle": 0,
         "textposition": "auto",
         "texttemplate": "%{y}",
         "type": "bar",
         "x": [
          2021
         ],
         "xaxis": "x",
         "y": [
          4
         ],
         "yaxis": "y"
        },
        {
         "alignmentgroup": "True",
         "hovertemplate": "color=indie pop<br>x=%{x}<br>y=%{y}<extra></extra>",
         "legendgroup": "indie pop",
         "marker": {
          "color": "#00cc96",
          "pattern": {
           "shape": ""
          }
         },
         "name": "indie pop",
         "offsetgroup": "indie pop",
         "orientation": "v",
         "showlegend": true,
         "textangle": 0,
         "textposition": "auto",
         "texttemplate": "%{y}",
         "type": "bar",
         "x": [
          2021,
          2022
         ],
         "xaxis": "x",
         "y": [
          4,
          15
         ],
         "yaxis": "y"
        },
        {
         "alignmentgroup": "True",
         "hovertemplate": "color=indie soul<br>x=%{x}<br>y=%{y}<extra></extra>",
         "legendgroup": "indie soul",
         "marker": {
          "color": "#ab63fa",
          "pattern": {
           "shape": ""
          }
         },
         "name": "indie soul",
         "offsetgroup": "indie soul",
         "orientation": "v",
         "showlegend": true,
         "textangle": 0,
         "textposition": "auto",
         "texttemplate": "%{y}",
         "type": "bar",
         "x": [
          2021,
          2022
         ],
         "xaxis": "x",
         "y": [
          4,
          4
         ],
         "yaxis": "y"
        },
        {
         "alignmentgroup": "True",
         "hovertemplate": "color=lo-fi chill<br>x=%{x}<br>y=%{y}<extra></extra>",
         "legendgroup": "lo-fi chill",
         "marker": {
          "color": "#FFA15A",
          "pattern": {
           "shape": ""
          }
         },
         "name": "lo-fi chill",
         "offsetgroup": "lo-fi chill",
         "orientation": "v",
         "showlegend": true,
         "textangle": 0,
         "textposition": "auto",
         "texttemplate": "%{y}",
         "type": "bar",
         "x": [
          2021
         ],
         "xaxis": "x",
         "y": [
          4
         ],
         "yaxis": "y"
        },
        {
         "alignmentgroup": "True",
         "hovertemplate": "color=pop<br>x=%{x}<br>y=%{y}<extra></extra>",
         "legendgroup": "pop",
         "marker": {
          "color": "#19d3f3",
          "pattern": {
           "shape": ""
          }
         },
         "name": "pop",
         "offsetgroup": "pop",
         "orientation": "v",
         "showlegend": true,
         "textangle": 0,
         "textposition": "auto",
         "texttemplate": "%{y}",
         "type": "bar",
         "x": [
          2021
         ],
         "xaxis": "x",
         "y": [
          4
         ],
         "yaxis": "y"
        },
        {
         "alignmentgroup": "True",
         "hovertemplate": "color=afrofuturism<br>x=%{x}<br>y=%{y}<extra></extra>",
         "legendgroup": "afrofuturism",
         "marker": {
          "color": "#FF6692",
          "pattern": {
           "shape": ""
          }
         },
         "name": "afrofuturism",
         "offsetgroup": "afrofuturism",
         "orientation": "v",
         "showlegend": true,
         "textangle": 0,
         "textposition": "auto",
         "texttemplate": "%{y}",
         "type": "bar",
         "x": [
          2022
         ],
         "xaxis": "x",
         "y": [
          7
         ],
         "yaxis": "y"
        },
        {
         "alignmentgroup": "True",
         "hovertemplate": "color=bubblegrunge<br>x=%{x}<br>y=%{y}<extra></extra>",
         "legendgroup": "bubblegrunge",
         "marker": {
          "color": "#B6E880",
          "pattern": {
           "shape": ""
          }
         },
         "name": "bubblegrunge",
         "offsetgroup": "bubblegrunge",
         "orientation": "v",
         "showlegend": true,
         "textangle": 0,
         "textposition": "auto",
         "texttemplate": "%{y}",
         "type": "bar",
         "x": [
          2022
         ],
         "xaxis": "x",
         "y": [
          7
         ],
         "yaxis": "y"
        },
        {
         "alignmentgroup": "True",
         "hovertemplate": "color=deathcore<br>x=%{x}<br>y=%{y}<extra></extra>",
         "legendgroup": "deathcore",
         "marker": {
          "color": "#FF97FF",
          "pattern": {
           "shape": ""
          }
         },
         "name": "deathcore",
         "offsetgroup": "deathcore",
         "orientation": "v",
         "showlegend": true,
         "textangle": 0,
         "textposition": "auto",
         "texttemplate": "%{y}",
         "type": "bar",
         "x": [
          2022
         ],
         "xaxis": "x",
         "y": [
          5
         ],
         "yaxis": "y"
        },
        {
         "alignmentgroup": "True",
         "hovertemplate": "color=deep house<br>x=%{x}<br>y=%{y}<extra></extra>",
         "legendgroup": "deep house",
         "marker": {
          "color": "#FECB52",
          "pattern": {
           "shape": ""
          }
         },
         "name": "deep house",
         "offsetgroup": "deep house",
         "orientation": "v",
         "showlegend": true,
         "textangle": 0,
         "textposition": "auto",
         "texttemplate": "%{y}",
         "type": "bar",
         "x": [
          2022
         ],
         "xaxis": "x",
         "y": [
          10
         ],
         "yaxis": "y"
        },
        {
         "alignmentgroup": "True",
         "hovertemplate": "color=dream pop<br>x=%{x}<br>y=%{y}<extra></extra>",
         "legendgroup": "dream pop",
         "marker": {
          "color": "#636efa",
          "pattern": {
           "shape": ""
          }
         },
         "name": "dream pop",
         "offsetgroup": "dream pop",
         "orientation": "v",
         "showlegend": true,
         "textangle": 0,
         "textposition": "auto",
         "texttemplate": "%{y}",
         "type": "bar",
         "x": [
          2022
         ],
         "xaxis": "x",
         "y": [
          4
         ],
         "yaxis": "y"
        },
        {
         "alignmentgroup": "True",
         "hovertemplate": "color=english indie rock<br>x=%{x}<br>y=%{y}<extra></extra>",
         "legendgroup": "english indie rock",
         "marker": {
          "color": "#EF553B",
          "pattern": {
           "shape": ""
          }
         },
         "name": "english indie rock",
         "offsetgroup": "english indie rock",
         "orientation": "v",
         "showlegend": true,
         "textangle": 0,
         "textposition": "auto",
         "texttemplate": "%{y}",
         "type": "bar",
         "x": [
          2022
         ],
         "xaxis": "x",
         "y": [
          4
         ],
         "yaxis": "y"
        },
        {
         "alignmentgroup": "True",
         "hovertemplate": "color=filter house<br>x=%{x}<br>y=%{y}<extra></extra>",
         "legendgroup": "filter house",
         "marker": {
          "color": "#00cc96",
          "pattern": {
           "shape": ""
          }
         },
         "name": "filter house",
         "offsetgroup": "filter house",
         "orientation": "v",
         "showlegend": true,
         "textangle": 0,
         "textposition": "auto",
         "texttemplate": "%{y}",
         "type": "bar",
         "x": [
          2022
         ],
         "xaxis": "x",
         "y": [
          5
         ],
         "yaxis": "y"
        }
       ],
       "layout": {
        "barmode": "relative",
        "height": 800,
        "legend": {
         "title": {
          "text": "color"
         },
         "tracegroupgap": 0
        },
        "margin": {
         "b": 20,
         "l": 100,
         "r": 150,
         "t": 100
        },
        "paper_bgcolor": "LightSteelBlue",
        "template": {
         "data": {
          "bar": [
           {
            "error_x": {
             "color": "#2a3f5f"
            },
            "error_y": {
             "color": "#2a3f5f"
            },
            "marker": {
             "line": {
              "color": "#E5ECF6",
              "width": 0.5
             },
             "pattern": {
              "fillmode": "overlay",
              "size": 10,
              "solidity": 0.2
             }
            },
            "type": "bar"
           }
          ],
          "barpolar": [
           {
            "marker": {
             "line": {
              "color": "#E5ECF6",
              "width": 0.5
             },
             "pattern": {
              "fillmode": "overlay",
              "size": 10,
              "solidity": 0.2
             }
            },
            "type": "barpolar"
           }
          ],
          "carpet": [
           {
            "aaxis": {
             "endlinecolor": "#2a3f5f",
             "gridcolor": "white",
             "linecolor": "white",
             "minorgridcolor": "white",
             "startlinecolor": "#2a3f5f"
            },
            "baxis": {
             "endlinecolor": "#2a3f5f",
             "gridcolor": "white",
             "linecolor": "white",
             "minorgridcolor": "white",
             "startlinecolor": "#2a3f5f"
            },
            "type": "carpet"
           }
          ],
          "choropleth": [
           {
            "colorbar": {
             "outlinewidth": 0,
             "ticks": ""
            },
            "type": "choropleth"
           }
          ],
          "contour": [
           {
            "colorbar": {
             "outlinewidth": 0,
             "ticks": ""
            },
            "colorscale": [
             [
              0,
              "#0d0887"
             ],
             [
              0.1111111111111111,
              "#46039f"
             ],
             [
              0.2222222222222222,
              "#7201a8"
             ],
             [
              0.3333333333333333,
              "#9c179e"
             ],
             [
              0.4444444444444444,
              "#bd3786"
             ],
             [
              0.5555555555555556,
              "#d8576b"
             ],
             [
              0.6666666666666666,
              "#ed7953"
             ],
             [
              0.7777777777777778,
              "#fb9f3a"
             ],
             [
              0.8888888888888888,
              "#fdca26"
             ],
             [
              1,
              "#f0f921"
             ]
            ],
            "type": "contour"
           }
          ],
          "contourcarpet": [
           {
            "colorbar": {
             "outlinewidth": 0,
             "ticks": ""
            },
            "type": "contourcarpet"
           }
          ],
          "heatmap": [
           {
            "colorbar": {
             "outlinewidth": 0,
             "ticks": ""
            },
            "colorscale": [
             [
              0,
              "#0d0887"
             ],
             [
              0.1111111111111111,
              "#46039f"
             ],
             [
              0.2222222222222222,
              "#7201a8"
             ],
             [
              0.3333333333333333,
              "#9c179e"
             ],
             [
              0.4444444444444444,
              "#bd3786"
             ],
             [
              0.5555555555555556,
              "#d8576b"
             ],
             [
              0.6666666666666666,
              "#ed7953"
             ],
             [
              0.7777777777777778,
              "#fb9f3a"
             ],
             [
              0.8888888888888888,
              "#fdca26"
             ],
             [
              1,
              "#f0f921"
             ]
            ],
            "type": "heatmap"
           }
          ],
          "heatmapgl": [
           {
            "colorbar": {
             "outlinewidth": 0,
             "ticks": ""
            },
            "colorscale": [
             [
              0,
              "#0d0887"
             ],
             [
              0.1111111111111111,
              "#46039f"
             ],
             [
              0.2222222222222222,
              "#7201a8"
             ],
             [
              0.3333333333333333,
              "#9c179e"
             ],
             [
              0.4444444444444444,
              "#bd3786"
             ],
             [
              0.5555555555555556,
              "#d8576b"
             ],
             [
              0.6666666666666666,
              "#ed7953"
             ],
             [
              0.7777777777777778,
              "#fb9f3a"
             ],
             [
              0.8888888888888888,
              "#fdca26"
             ],
             [
              1,
              "#f0f921"
             ]
            ],
            "type": "heatmapgl"
           }
          ],
          "histogram": [
           {
            "marker": {
             "pattern": {
              "fillmode": "overlay",
              "size": 10,
              "solidity": 0.2
             }
            },
            "type": "histogram"
           }
          ],
          "histogram2d": [
           {
            "colorbar": {
             "outlinewidth": 0,
             "ticks": ""
            },
            "colorscale": [
             [
              0,
              "#0d0887"
             ],
             [
              0.1111111111111111,
              "#46039f"
             ],
             [
              0.2222222222222222,
              "#7201a8"
             ],
             [
              0.3333333333333333,
              "#9c179e"
             ],
             [
              0.4444444444444444,
              "#bd3786"
             ],
             [
              0.5555555555555556,
              "#d8576b"
             ],
             [
              0.6666666666666666,
              "#ed7953"
             ],
             [
              0.7777777777777778,
              "#fb9f3a"
             ],
             [
              0.8888888888888888,
              "#fdca26"
             ],
             [
              1,
              "#f0f921"
             ]
            ],
            "type": "histogram2d"
           }
          ],
          "histogram2dcontour": [
           {
            "colorbar": {
             "outlinewidth": 0,
             "ticks": ""
            },
            "colorscale": [
             [
              0,
              "#0d0887"
             ],
             [
              0.1111111111111111,
              "#46039f"
             ],
             [
              0.2222222222222222,
              "#7201a8"
             ],
             [
              0.3333333333333333,
              "#9c179e"
             ],
             [
              0.4444444444444444,
              "#bd3786"
             ],
             [
              0.5555555555555556,
              "#d8576b"
             ],
             [
              0.6666666666666666,
              "#ed7953"
             ],
             [
              0.7777777777777778,
              "#fb9f3a"
             ],
             [
              0.8888888888888888,
              "#fdca26"
             ],
             [
              1,
              "#f0f921"
             ]
            ],
            "type": "histogram2dcontour"
           }
          ],
          "mesh3d": [
           {
            "colorbar": {
             "outlinewidth": 0,
             "ticks": ""
            },
            "type": "mesh3d"
           }
          ],
          "parcoords": [
           {
            "line": {
             "colorbar": {
              "outlinewidth": 0,
              "ticks": ""
             }
            },
            "type": "parcoords"
           }
          ],
          "pie": [
           {
            "automargin": true,
            "type": "pie"
           }
          ],
          "scatter": [
           {
            "fillpattern": {
             "fillmode": "overlay",
             "size": 10,
             "solidity": 0.2
            },
            "type": "scatter"
           }
          ],
          "scatter3d": [
           {
            "line": {
             "colorbar": {
              "outlinewidth": 0,
              "ticks": ""
             }
            },
            "marker": {
             "colorbar": {
              "outlinewidth": 0,
              "ticks": ""
             }
            },
            "type": "scatter3d"
           }
          ],
          "scattercarpet": [
           {
            "marker": {
             "colorbar": {
              "outlinewidth": 0,
              "ticks": ""
             }
            },
            "type": "scattercarpet"
           }
          ],
          "scattergeo": [
           {
            "marker": {
             "colorbar": {
              "outlinewidth": 0,
              "ticks": ""
             }
            },
            "type": "scattergeo"
           }
          ],
          "scattergl": [
           {
            "marker": {
             "colorbar": {
              "outlinewidth": 0,
              "ticks": ""
             }
            },
            "type": "scattergl"
           }
          ],
          "scattermapbox": [
           {
            "marker": {
             "colorbar": {
              "outlinewidth": 0,
              "ticks": ""
             }
            },
            "type": "scattermapbox"
           }
          ],
          "scatterpolar": [
           {
            "marker": {
             "colorbar": {
              "outlinewidth": 0,
              "ticks": ""
             }
            },
            "type": "scatterpolar"
           }
          ],
          "scatterpolargl": [
           {
            "marker": {
             "colorbar": {
              "outlinewidth": 0,
              "ticks": ""
             }
            },
            "type": "scatterpolargl"
           }
          ],
          "scatterternary": [
           {
            "marker": {
             "colorbar": {
              "outlinewidth": 0,
              "ticks": ""
             }
            },
            "type": "scatterternary"
           }
          ],
          "surface": [
           {
            "colorbar": {
             "outlinewidth": 0,
             "ticks": ""
            },
            "colorscale": [
             [
              0,
              "#0d0887"
             ],
             [
              0.1111111111111111,
              "#46039f"
             ],
             [
              0.2222222222222222,
              "#7201a8"
             ],
             [
              0.3333333333333333,
              "#9c179e"
             ],
             [
              0.4444444444444444,
              "#bd3786"
             ],
             [
              0.5555555555555556,
              "#d8576b"
             ],
             [
              0.6666666666666666,
              "#ed7953"
             ],
             [
              0.7777777777777778,
              "#fb9f3a"
             ],
             [
              0.8888888888888888,
              "#fdca26"
             ],
             [
              1,
              "#f0f921"
             ]
            ],
            "type": "surface"
           }
          ],
          "table": [
           {
            "cells": {
             "fill": {
              "color": "#EBF0F8"
             },
             "line": {
              "color": "white"
             }
            },
            "header": {
             "fill": {
              "color": "#C8D4E3"
             },
             "line": {
              "color": "white"
             }
            },
            "type": "table"
           }
          ]
         },
         "layout": {
          "annotationdefaults": {
           "arrowcolor": "#2a3f5f",
           "arrowhead": 0,
           "arrowwidth": 1
          },
          "autotypenumbers": "strict",
          "coloraxis": {
           "colorbar": {
            "outlinewidth": 0,
            "ticks": ""
           }
          },
          "colorscale": {
           "diverging": [
            [
             0,
             "#8e0152"
            ],
            [
             0.1,
             "#c51b7d"
            ],
            [
             0.2,
             "#de77ae"
            ],
            [
             0.3,
             "#f1b6da"
            ],
            [
             0.4,
             "#fde0ef"
            ],
            [
             0.5,
             "#f7f7f7"
            ],
            [
             0.6,
             "#e6f5d0"
            ],
            [
             0.7,
             "#b8e186"
            ],
            [
             0.8,
             "#7fbc41"
            ],
            [
             0.9,
             "#4d9221"
            ],
            [
             1,
             "#276419"
            ]
           ],
           "sequential": [
            [
             0,
             "#0d0887"
            ],
            [
             0.1111111111111111,
             "#46039f"
            ],
            [
             0.2222222222222222,
             "#7201a8"
            ],
            [
             0.3333333333333333,
             "#9c179e"
            ],
            [
             0.4444444444444444,
             "#bd3786"
            ],
            [
             0.5555555555555556,
             "#d8576b"
            ],
            [
             0.6666666666666666,
             "#ed7953"
            ],
            [
             0.7777777777777778,
             "#fb9f3a"
            ],
            [
             0.8888888888888888,
             "#fdca26"
            ],
            [
             1,
             "#f0f921"
            ]
           ],
           "sequentialminus": [
            [
             0,
             "#0d0887"
            ],
            [
             0.1111111111111111,
             "#46039f"
            ],
            [
             0.2222222222222222,
             "#7201a8"
            ],
            [
             0.3333333333333333,
             "#9c179e"
            ],
            [
             0.4444444444444444,
             "#bd3786"
            ],
            [
             0.5555555555555556,
             "#d8576b"
            ],
            [
             0.6666666666666666,
             "#ed7953"
            ],
            [
             0.7777777777777778,
             "#fb9f3a"
            ],
            [
             0.8888888888888888,
             "#fdca26"
            ],
            [
             1,
             "#f0f921"
            ]
           ]
          },
          "colorway": [
           "#636efa",
           "#EF553B",
           "#00cc96",
           "#ab63fa",
           "#FFA15A",
           "#19d3f3",
           "#FF6692",
           "#B6E880",
           "#FF97FF",
           "#FECB52"
          ],
          "font": {
           "color": "#2a3f5f"
          },
          "geo": {
           "bgcolor": "white",
           "lakecolor": "white",
           "landcolor": "#E5ECF6",
           "showlakes": true,
           "showland": true,
           "subunitcolor": "white"
          },
          "hoverlabel": {
           "align": "left"
          },
          "hovermode": "closest",
          "mapbox": {
           "style": "light"
          },
          "paper_bgcolor": "white",
          "plot_bgcolor": "#E5ECF6",
          "polar": {
           "angularaxis": {
            "gridcolor": "white",
            "linecolor": "white",
            "ticks": ""
           },
           "bgcolor": "#E5ECF6",
           "radialaxis": {
            "gridcolor": "white",
            "linecolor": "white",
            "ticks": ""
           }
          },
          "scene": {
           "xaxis": {
            "backgroundcolor": "#E5ECF6",
            "gridcolor": "white",
            "gridwidth": 2,
            "linecolor": "white",
            "showbackground": true,
            "ticks": "",
            "zerolinecolor": "white"
           },
           "yaxis": {
            "backgroundcolor": "#E5ECF6",
            "gridcolor": "white",
            "gridwidth": 2,
            "linecolor": "white",
            "showbackground": true,
            "ticks": "",
            "zerolinecolor": "white"
           },
           "zaxis": {
            "backgroundcolor": "#E5ECF6",
            "gridcolor": "white",
            "gridwidth": 2,
            "linecolor": "white",
            "showbackground": true,
            "ticks": "",
            "zerolinecolor": "white"
           }
          },
          "shapedefaults": {
           "line": {
            "color": "#2a3f5f"
           }
          },
          "ternary": {
           "aaxis": {
            "gridcolor": "white",
            "linecolor": "white",
            "ticks": ""
           },
           "baxis": {
            "gridcolor": "white",
            "linecolor": "white",
            "ticks": ""
           },
           "bgcolor": "#E5ECF6",
           "caxis": {
            "gridcolor": "white",
            "linecolor": "white",
            "ticks": ""
           }
          },
          "title": {
           "x": 0.05
          },
          "xaxis": {
           "automargin": true,
           "gridcolor": "white",
           "linecolor": "white",
           "ticks": "",
           "title": {
            "standoff": 15
           },
           "zerolinecolor": "white",
           "zerolinewidth": 2
          },
          "yaxis": {
           "automargin": true,
           "gridcolor": "white",
           "linecolor": "white",
           "ticks": "",
           "title": {
            "standoff": 15
           },
           "zerolinecolor": "white",
           "zerolinewidth": 2
          }
         }
        },
        "title": {
         "text": "Sub-Genre Distribution by Year",
         "x": 0.5
        },
        "xaxis": {
         "anchor": "y",
         "categoryarray": [
          2019,
          2021,
          2022,
          2023
         ],
         "domain": [
          0,
          1
         ],
         "title": {
          "text": "Track Added Year"
         },
         "type": "category"
        },
        "yaxis": {
         "anchor": "x",
         "domain": [
          0,
          1
         ],
         "title": {
          "text": "Genre types"
         }
        }
       }
      },
      "text/html": [
       "<div>                            <div id=\"9e9d839d-ca9d-4441-b2fe-36675b9f10b2\" class=\"plotly-graph-div\" style=\"height:800px; width:100%;\"></div>            <script type=\"text/javascript\">                require([\"plotly\"], function(Plotly) {                    window.PLOTLYENV=window.PLOTLYENV || {};                                    if (document.getElementById(\"9e9d839d-ca9d-4441-b2fe-36675b9f10b2\")) {                    Plotly.newPlot(                        \"9e9d839d-ca9d-4441-b2fe-36675b9f10b2\",                        [{\"alignmentgroup\":\"True\",\"hovertemplate\":\"color=art pop<br>x=%{x}<br>y=%{y}<extra></extra>\",\"legendgroup\":\"art pop\",\"marker\":{\"color\":\"#636efa\",\"pattern\":{\"shape\":\"\"}},\"name\":\"art pop\",\"offsetgroup\":\"art pop\",\"orientation\":\"v\",\"showlegend\":true,\"textposition\":\"auto\",\"texttemplate\":\"%{y}\",\"x\":[2019,2022],\"xaxis\":\"x\",\"y\":[4,6],\"yaxis\":\"y\",\"type\":\"bar\",\"textangle\":0},{\"alignmentgroup\":\"True\",\"hovertemplate\":\"color=alternative dance<br>x=%{x}<br>y=%{y}<extra></extra>\",\"legendgroup\":\"alternative dance\",\"marker\":{\"color\":\"#EF553B\",\"pattern\":{\"shape\":\"\"}},\"name\":\"alternative dance\",\"offsetgroup\":\"alternative dance\",\"orientation\":\"v\",\"showlegend\":true,\"textposition\":\"auto\",\"texttemplate\":\"%{y}\",\"x\":[2021,2022],\"xaxis\":\"x\",\"y\":[8,8],\"yaxis\":\"y\",\"type\":\"bar\",\"textangle\":0},{\"alignmentgroup\":\"True\",\"hovertemplate\":\"color=alternative hip hop<br>x=%{x}<br>y=%{y}<extra></extra>\",\"legendgroup\":\"alternative hip hop\",\"marker\":{\"color\":\"#00cc96\",\"pattern\":{\"shape\":\"\"}},\"name\":\"alternative hip hop\",\"offsetgroup\":\"alternative hip hop\",\"orientation\":\"v\",\"showlegend\":true,\"textposition\":\"auto\",\"texttemplate\":\"%{y}\",\"x\":[2021],\"xaxis\":\"x\",\"y\":[4],\"yaxis\":\"y\",\"type\":\"bar\",\"textangle\":0},{\"alignmentgroup\":\"True\",\"hovertemplate\":\"color=alternative metal<br>x=%{x}<br>y=%{y}<extra></extra>\",\"legendgroup\":\"alternative metal\",\"marker\":{\"color\":\"#ab63fa\",\"pattern\":{\"shape\":\"\"}},\"name\":\"alternative metal\",\"offsetgroup\":\"alternative metal\",\"orientation\":\"v\",\"showlegend\":true,\"textposition\":\"auto\",\"texttemplate\":\"%{y}\",\"x\":[2021,2022],\"xaxis\":\"x\",\"y\":[10,8],\"yaxis\":\"y\",\"type\":\"bar\",\"textangle\":0},{\"alignmentgroup\":\"True\",\"hovertemplate\":\"color=alternative r&b<br>x=%{x}<br>y=%{y}<extra></extra>\",\"legendgroup\":\"alternative r&b\",\"marker\":{\"color\":\"#FFA15A\",\"pattern\":{\"shape\":\"\"}},\"name\":\"alternative r&b\",\"offsetgroup\":\"alternative r&b\",\"orientation\":\"v\",\"showlegend\":true,\"textposition\":\"auto\",\"texttemplate\":\"%{y}\",\"x\":[2021,2022],\"xaxis\":\"x\",\"y\":[5,9],\"yaxis\":\"y\",\"type\":\"bar\",\"textangle\":0},{\"alignmentgroup\":\"True\",\"hovertemplate\":\"color=alternative rock<br>x=%{x}<br>y=%{y}<extra></extra>\",\"legendgroup\":\"alternative rock\",\"marker\":{\"color\":\"#19d3f3\",\"pattern\":{\"shape\":\"\"}},\"name\":\"alternative rock\",\"offsetgroup\":\"alternative rock\",\"orientation\":\"v\",\"showlegend\":true,\"textposition\":\"auto\",\"texttemplate\":\"%{y}\",\"x\":[2021],\"xaxis\":\"x\",\"y\":[7],\"yaxis\":\"y\",\"type\":\"bar\",\"textangle\":0},{\"alignmentgroup\":\"True\",\"hovertemplate\":\"color=atl hip hop<br>x=%{x}<br>y=%{y}<extra></extra>\",\"legendgroup\":\"atl hip hop\",\"marker\":{\"color\":\"#FF6692\",\"pattern\":{\"shape\":\"\"}},\"name\":\"atl hip hop\",\"offsetgroup\":\"atl hip hop\",\"orientation\":\"v\",\"showlegend\":true,\"textposition\":\"auto\",\"texttemplate\":\"%{y}\",\"x\":[2021],\"xaxis\":\"x\",\"y\":[6],\"yaxis\":\"y\",\"type\":\"bar\",\"textangle\":0},{\"alignmentgroup\":\"True\",\"hovertemplate\":\"color=bedroom pop<br>x=%{x}<br>y=%{y}<extra></extra>\",\"legendgroup\":\"bedroom pop\",\"marker\":{\"color\":\"#B6E880\",\"pattern\":{\"shape\":\"\"}},\"name\":\"bedroom pop\",\"offsetgroup\":\"bedroom pop\",\"orientation\":\"v\",\"showlegend\":true,\"textposition\":\"auto\",\"texttemplate\":\"%{y}\",\"x\":[2021,2022],\"xaxis\":\"x\",\"y\":[11,14],\"yaxis\":\"y\",\"type\":\"bar\",\"textangle\":0},{\"alignmentgroup\":\"True\",\"hovertemplate\":\"color=chillwave<br>x=%{x}<br>y=%{y}<extra></extra>\",\"legendgroup\":\"chillwave\",\"marker\":{\"color\":\"#FF97FF\",\"pattern\":{\"shape\":\"\"}},\"name\":\"chillwave\",\"offsetgroup\":\"chillwave\",\"orientation\":\"v\",\"showlegend\":true,\"textposition\":\"auto\",\"texttemplate\":\"%{y}\",\"x\":[2021],\"xaxis\":\"x\",\"y\":[5],\"yaxis\":\"y\",\"type\":\"bar\",\"textangle\":0},{\"alignmentgroup\":\"True\",\"hovertemplate\":\"color=dance pop<br>x=%{x}<br>y=%{y}<extra></extra>\",\"legendgroup\":\"dance pop\",\"marker\":{\"color\":\"#FECB52\",\"pattern\":{\"shape\":\"\"}},\"name\":\"dance pop\",\"offsetgroup\":\"dance pop\",\"orientation\":\"v\",\"showlegend\":true,\"textposition\":\"auto\",\"texttemplate\":\"%{y}\",\"x\":[2021,2022,2023],\"xaxis\":\"x\",\"y\":[4,10,8],\"yaxis\":\"y\",\"type\":\"bar\",\"textangle\":0},{\"alignmentgroup\":\"True\",\"hovertemplate\":\"color=deep disco house<br>x=%{x}<br>y=%{y}<extra></extra>\",\"legendgroup\":\"deep disco house\",\"marker\":{\"color\":\"#636efa\",\"pattern\":{\"shape\":\"\"}},\"name\":\"deep disco house\",\"offsetgroup\":\"deep disco house\",\"orientation\":\"v\",\"showlegend\":true,\"textposition\":\"auto\",\"texttemplate\":\"%{y}\",\"x\":[2021,2022],\"xaxis\":\"x\",\"y\":[4,5],\"yaxis\":\"y\",\"type\":\"bar\",\"textangle\":0},{\"alignmentgroup\":\"True\",\"hovertemplate\":\"color=indie garage rock<br>x=%{x}<br>y=%{y}<extra></extra>\",\"legendgroup\":\"indie garage rock\",\"marker\":{\"color\":\"#EF553B\",\"pattern\":{\"shape\":\"\"}},\"name\":\"indie garage rock\",\"offsetgroup\":\"indie garage rock\",\"orientation\":\"v\",\"showlegend\":true,\"textposition\":\"auto\",\"texttemplate\":\"%{y}\",\"x\":[2021],\"xaxis\":\"x\",\"y\":[4],\"yaxis\":\"y\",\"type\":\"bar\",\"textangle\":0},{\"alignmentgroup\":\"True\",\"hovertemplate\":\"color=indie pop<br>x=%{x}<br>y=%{y}<extra></extra>\",\"legendgroup\":\"indie pop\",\"marker\":{\"color\":\"#00cc96\",\"pattern\":{\"shape\":\"\"}},\"name\":\"indie pop\",\"offsetgroup\":\"indie pop\",\"orientation\":\"v\",\"showlegend\":true,\"textposition\":\"auto\",\"texttemplate\":\"%{y}\",\"x\":[2021,2022],\"xaxis\":\"x\",\"y\":[4,15],\"yaxis\":\"y\",\"type\":\"bar\",\"textangle\":0},{\"alignmentgroup\":\"True\",\"hovertemplate\":\"color=indie soul<br>x=%{x}<br>y=%{y}<extra></extra>\",\"legendgroup\":\"indie soul\",\"marker\":{\"color\":\"#ab63fa\",\"pattern\":{\"shape\":\"\"}},\"name\":\"indie soul\",\"offsetgroup\":\"indie soul\",\"orientation\":\"v\",\"showlegend\":true,\"textposition\":\"auto\",\"texttemplate\":\"%{y}\",\"x\":[2021,2022],\"xaxis\":\"x\",\"y\":[4,4],\"yaxis\":\"y\",\"type\":\"bar\",\"textangle\":0},{\"alignmentgroup\":\"True\",\"hovertemplate\":\"color=lo-fi chill<br>x=%{x}<br>y=%{y}<extra></extra>\",\"legendgroup\":\"lo-fi chill\",\"marker\":{\"color\":\"#FFA15A\",\"pattern\":{\"shape\":\"\"}},\"name\":\"lo-fi chill\",\"offsetgroup\":\"lo-fi chill\",\"orientation\":\"v\",\"showlegend\":true,\"textposition\":\"auto\",\"texttemplate\":\"%{y}\",\"x\":[2021],\"xaxis\":\"x\",\"y\":[4],\"yaxis\":\"y\",\"type\":\"bar\",\"textangle\":0},{\"alignmentgroup\":\"True\",\"hovertemplate\":\"color=pop<br>x=%{x}<br>y=%{y}<extra></extra>\",\"legendgroup\":\"pop\",\"marker\":{\"color\":\"#19d3f3\",\"pattern\":{\"shape\":\"\"}},\"name\":\"pop\",\"offsetgroup\":\"pop\",\"orientation\":\"v\",\"showlegend\":true,\"textposition\":\"auto\",\"texttemplate\":\"%{y}\",\"x\":[2021],\"xaxis\":\"x\",\"y\":[4],\"yaxis\":\"y\",\"type\":\"bar\",\"textangle\":0},{\"alignmentgroup\":\"True\",\"hovertemplate\":\"color=afrofuturism<br>x=%{x}<br>y=%{y}<extra></extra>\",\"legendgroup\":\"afrofuturism\",\"marker\":{\"color\":\"#FF6692\",\"pattern\":{\"shape\":\"\"}},\"name\":\"afrofuturism\",\"offsetgroup\":\"afrofuturism\",\"orientation\":\"v\",\"showlegend\":true,\"textposition\":\"auto\",\"texttemplate\":\"%{y}\",\"x\":[2022],\"xaxis\":\"x\",\"y\":[7],\"yaxis\":\"y\",\"type\":\"bar\",\"textangle\":0},{\"alignmentgroup\":\"True\",\"hovertemplate\":\"color=bubblegrunge<br>x=%{x}<br>y=%{y}<extra></extra>\",\"legendgroup\":\"bubblegrunge\",\"marker\":{\"color\":\"#B6E880\",\"pattern\":{\"shape\":\"\"}},\"name\":\"bubblegrunge\",\"offsetgroup\":\"bubblegrunge\",\"orientation\":\"v\",\"showlegend\":true,\"textposition\":\"auto\",\"texttemplate\":\"%{y}\",\"x\":[2022],\"xaxis\":\"x\",\"y\":[7],\"yaxis\":\"y\",\"type\":\"bar\",\"textangle\":0},{\"alignmentgroup\":\"True\",\"hovertemplate\":\"color=deathcore<br>x=%{x}<br>y=%{y}<extra></extra>\",\"legendgroup\":\"deathcore\",\"marker\":{\"color\":\"#FF97FF\",\"pattern\":{\"shape\":\"\"}},\"name\":\"deathcore\",\"offsetgroup\":\"deathcore\",\"orientation\":\"v\",\"showlegend\":true,\"textposition\":\"auto\",\"texttemplate\":\"%{y}\",\"x\":[2022],\"xaxis\":\"x\",\"y\":[5],\"yaxis\":\"y\",\"type\":\"bar\",\"textangle\":0},{\"alignmentgroup\":\"True\",\"hovertemplate\":\"color=deep house<br>x=%{x}<br>y=%{y}<extra></extra>\",\"legendgroup\":\"deep house\",\"marker\":{\"color\":\"#FECB52\",\"pattern\":{\"shape\":\"\"}},\"name\":\"deep house\",\"offsetgroup\":\"deep house\",\"orientation\":\"v\",\"showlegend\":true,\"textposition\":\"auto\",\"texttemplate\":\"%{y}\",\"x\":[2022],\"xaxis\":\"x\",\"y\":[10],\"yaxis\":\"y\",\"type\":\"bar\",\"textangle\":0},{\"alignmentgroup\":\"True\",\"hovertemplate\":\"color=dream pop<br>x=%{x}<br>y=%{y}<extra></extra>\",\"legendgroup\":\"dream pop\",\"marker\":{\"color\":\"#636efa\",\"pattern\":{\"shape\":\"\"}},\"name\":\"dream pop\",\"offsetgroup\":\"dream pop\",\"orientation\":\"v\",\"showlegend\":true,\"textposition\":\"auto\",\"texttemplate\":\"%{y}\",\"x\":[2022],\"xaxis\":\"x\",\"y\":[4],\"yaxis\":\"y\",\"type\":\"bar\",\"textangle\":0},{\"alignmentgroup\":\"True\",\"hovertemplate\":\"color=english indie rock<br>x=%{x}<br>y=%{y}<extra></extra>\",\"legendgroup\":\"english indie rock\",\"marker\":{\"color\":\"#EF553B\",\"pattern\":{\"shape\":\"\"}},\"name\":\"english indie rock\",\"offsetgroup\":\"english indie rock\",\"orientation\":\"v\",\"showlegend\":true,\"textposition\":\"auto\",\"texttemplate\":\"%{y}\",\"x\":[2022],\"xaxis\":\"x\",\"y\":[4],\"yaxis\":\"y\",\"type\":\"bar\",\"textangle\":0},{\"alignmentgroup\":\"True\",\"hovertemplate\":\"color=filter house<br>x=%{x}<br>y=%{y}<extra></extra>\",\"legendgroup\":\"filter house\",\"marker\":{\"color\":\"#00cc96\",\"pattern\":{\"shape\":\"\"}},\"name\":\"filter house\",\"offsetgroup\":\"filter house\",\"orientation\":\"v\",\"showlegend\":true,\"textposition\":\"auto\",\"texttemplate\":\"%{y}\",\"x\":[2022],\"xaxis\":\"x\",\"y\":[5],\"yaxis\":\"y\",\"type\":\"bar\",\"textangle\":0}],                        {\"template\":{\"data\":{\"histogram2dcontour\":[{\"type\":\"histogram2dcontour\",\"colorbar\":{\"outlinewidth\":0,\"ticks\":\"\"},\"colorscale\":[[0.0,\"#0d0887\"],[0.1111111111111111,\"#46039f\"],[0.2222222222222222,\"#7201a8\"],[0.3333333333333333,\"#9c179e\"],[0.4444444444444444,\"#bd3786\"],[0.5555555555555556,\"#d8576b\"],[0.6666666666666666,\"#ed7953\"],[0.7777777777777778,\"#fb9f3a\"],[0.8888888888888888,\"#fdca26\"],[1.0,\"#f0f921\"]]}],\"choropleth\":[{\"type\":\"choropleth\",\"colorbar\":{\"outlinewidth\":0,\"ticks\":\"\"}}],\"histogram2d\":[{\"type\":\"histogram2d\",\"colorbar\":{\"outlinewidth\":0,\"ticks\":\"\"},\"colorscale\":[[0.0,\"#0d0887\"],[0.1111111111111111,\"#46039f\"],[0.2222222222222222,\"#7201a8\"],[0.3333333333333333,\"#9c179e\"],[0.4444444444444444,\"#bd3786\"],[0.5555555555555556,\"#d8576b\"],[0.6666666666666666,\"#ed7953\"],[0.7777777777777778,\"#fb9f3a\"],[0.8888888888888888,\"#fdca26\"],[1.0,\"#f0f921\"]]}],\"heatmap\":[{\"type\":\"heatmap\",\"colorbar\":{\"outlinewidth\":0,\"ticks\":\"\"},\"colorscale\":[[0.0,\"#0d0887\"],[0.1111111111111111,\"#46039f\"],[0.2222222222222222,\"#7201a8\"],[0.3333333333333333,\"#9c179e\"],[0.4444444444444444,\"#bd3786\"],[0.5555555555555556,\"#d8576b\"],[0.6666666666666666,\"#ed7953\"],[0.7777777777777778,\"#fb9f3a\"],[0.8888888888888888,\"#fdca26\"],[1.0,\"#f0f921\"]]}],\"heatmapgl\":[{\"type\":\"heatmapgl\",\"colorbar\":{\"outlinewidth\":0,\"ticks\":\"\"},\"colorscale\":[[0.0,\"#0d0887\"],[0.1111111111111111,\"#46039f\"],[0.2222222222222222,\"#7201a8\"],[0.3333333333333333,\"#9c179e\"],[0.4444444444444444,\"#bd3786\"],[0.5555555555555556,\"#d8576b\"],[0.6666666666666666,\"#ed7953\"],[0.7777777777777778,\"#fb9f3a\"],[0.8888888888888888,\"#fdca26\"],[1.0,\"#f0f921\"]]}],\"contourcarpet\":[{\"type\":\"contourcarpet\",\"colorbar\":{\"outlinewidth\":0,\"ticks\":\"\"}}],\"contour\":[{\"type\":\"contour\",\"colorbar\":{\"outlinewidth\":0,\"ticks\":\"\"},\"colorscale\":[[0.0,\"#0d0887\"],[0.1111111111111111,\"#46039f\"],[0.2222222222222222,\"#7201a8\"],[0.3333333333333333,\"#9c179e\"],[0.4444444444444444,\"#bd3786\"],[0.5555555555555556,\"#d8576b\"],[0.6666666666666666,\"#ed7953\"],[0.7777777777777778,\"#fb9f3a\"],[0.8888888888888888,\"#fdca26\"],[1.0,\"#f0f921\"]]}],\"surface\":[{\"type\":\"surface\",\"colorbar\":{\"outlinewidth\":0,\"ticks\":\"\"},\"colorscale\":[[0.0,\"#0d0887\"],[0.1111111111111111,\"#46039f\"],[0.2222222222222222,\"#7201a8\"],[0.3333333333333333,\"#9c179e\"],[0.4444444444444444,\"#bd3786\"],[0.5555555555555556,\"#d8576b\"],[0.6666666666666666,\"#ed7953\"],[0.7777777777777778,\"#fb9f3a\"],[0.8888888888888888,\"#fdca26\"],[1.0,\"#f0f921\"]]}],\"mesh3d\":[{\"type\":\"mesh3d\",\"colorbar\":{\"outlinewidth\":0,\"ticks\":\"\"}}],\"scatter\":[{\"fillpattern\":{\"fillmode\":\"overlay\",\"size\":10,\"solidity\":0.2},\"type\":\"scatter\"}],\"parcoords\":[{\"type\":\"parcoords\",\"line\":{\"colorbar\":{\"outlinewidth\":0,\"ticks\":\"\"}}}],\"scatterpolargl\":[{\"type\":\"scatterpolargl\",\"marker\":{\"colorbar\":{\"outlinewidth\":0,\"ticks\":\"\"}}}],\"bar\":[{\"error_x\":{\"color\":\"#2a3f5f\"},\"error_y\":{\"color\":\"#2a3f5f\"},\"marker\":{\"line\":{\"color\":\"#E5ECF6\",\"width\":0.5},\"pattern\":{\"fillmode\":\"overlay\",\"size\":10,\"solidity\":0.2}},\"type\":\"bar\"}],\"scattergeo\":[{\"type\":\"scattergeo\",\"marker\":{\"colorbar\":{\"outlinewidth\":0,\"ticks\":\"\"}}}],\"scatterpolar\":[{\"type\":\"scatterpolar\",\"marker\":{\"colorbar\":{\"outlinewidth\":0,\"ticks\":\"\"}}}],\"histogram\":[{\"marker\":{\"pattern\":{\"fillmode\":\"overlay\",\"size\":10,\"solidity\":0.2}},\"type\":\"histogram\"}],\"scattergl\":[{\"type\":\"scattergl\",\"marker\":{\"colorbar\":{\"outlinewidth\":0,\"ticks\":\"\"}}}],\"scatter3d\":[{\"type\":\"scatter3d\",\"line\":{\"colorbar\":{\"outlinewidth\":0,\"ticks\":\"\"}},\"marker\":{\"colorbar\":{\"outlinewidth\":0,\"ticks\":\"\"}}}],\"scattermapbox\":[{\"type\":\"scattermapbox\",\"marker\":{\"colorbar\":{\"outlinewidth\":0,\"ticks\":\"\"}}}],\"scatterternary\":[{\"type\":\"scatterternary\",\"marker\":{\"colorbar\":{\"outlinewidth\":0,\"ticks\":\"\"}}}],\"scattercarpet\":[{\"type\":\"scattercarpet\",\"marker\":{\"colorbar\":{\"outlinewidth\":0,\"ticks\":\"\"}}}],\"carpet\":[{\"aaxis\":{\"endlinecolor\":\"#2a3f5f\",\"gridcolor\":\"white\",\"linecolor\":\"white\",\"minorgridcolor\":\"white\",\"startlinecolor\":\"#2a3f5f\"},\"baxis\":{\"endlinecolor\":\"#2a3f5f\",\"gridcolor\":\"white\",\"linecolor\":\"white\",\"minorgridcolor\":\"white\",\"startlinecolor\":\"#2a3f5f\"},\"type\":\"carpet\"}],\"table\":[{\"cells\":{\"fill\":{\"color\":\"#EBF0F8\"},\"line\":{\"color\":\"white\"}},\"header\":{\"fill\":{\"color\":\"#C8D4E3\"},\"line\":{\"color\":\"white\"}},\"type\":\"table\"}],\"barpolar\":[{\"marker\":{\"line\":{\"color\":\"#E5ECF6\",\"width\":0.5},\"pattern\":{\"fillmode\":\"overlay\",\"size\":10,\"solidity\":0.2}},\"type\":\"barpolar\"}],\"pie\":[{\"automargin\":true,\"type\":\"pie\"}]},\"layout\":{\"autotypenumbers\":\"strict\",\"colorway\":[\"#636efa\",\"#EF553B\",\"#00cc96\",\"#ab63fa\",\"#FFA15A\",\"#19d3f3\",\"#FF6692\",\"#B6E880\",\"#FF97FF\",\"#FECB52\"],\"font\":{\"color\":\"#2a3f5f\"},\"hovermode\":\"closest\",\"hoverlabel\":{\"align\":\"left\"},\"paper_bgcolor\":\"white\",\"plot_bgcolor\":\"#E5ECF6\",\"polar\":{\"bgcolor\":\"#E5ECF6\",\"angularaxis\":{\"gridcolor\":\"white\",\"linecolor\":\"white\",\"ticks\":\"\"},\"radialaxis\":{\"gridcolor\":\"white\",\"linecolor\":\"white\",\"ticks\":\"\"}},\"ternary\":{\"bgcolor\":\"#E5ECF6\",\"aaxis\":{\"gridcolor\":\"white\",\"linecolor\":\"white\",\"ticks\":\"\"},\"baxis\":{\"gridcolor\":\"white\",\"linecolor\":\"white\",\"ticks\":\"\"},\"caxis\":{\"gridcolor\":\"white\",\"linecolor\":\"white\",\"ticks\":\"\"}},\"coloraxis\":{\"colorbar\":{\"outlinewidth\":0,\"ticks\":\"\"}},\"colorscale\":{\"sequential\":[[0.0,\"#0d0887\"],[0.1111111111111111,\"#46039f\"],[0.2222222222222222,\"#7201a8\"],[0.3333333333333333,\"#9c179e\"],[0.4444444444444444,\"#bd3786\"],[0.5555555555555556,\"#d8576b\"],[0.6666666666666666,\"#ed7953\"],[0.7777777777777778,\"#fb9f3a\"],[0.8888888888888888,\"#fdca26\"],[1.0,\"#f0f921\"]],\"sequentialminus\":[[0.0,\"#0d0887\"],[0.1111111111111111,\"#46039f\"],[0.2222222222222222,\"#7201a8\"],[0.3333333333333333,\"#9c179e\"],[0.4444444444444444,\"#bd3786\"],[0.5555555555555556,\"#d8576b\"],[0.6666666666666666,\"#ed7953\"],[0.7777777777777778,\"#fb9f3a\"],[0.8888888888888888,\"#fdca26\"],[1.0,\"#f0f921\"]],\"diverging\":[[0,\"#8e0152\"],[0.1,\"#c51b7d\"],[0.2,\"#de77ae\"],[0.3,\"#f1b6da\"],[0.4,\"#fde0ef\"],[0.5,\"#f7f7f7\"],[0.6,\"#e6f5d0\"],[0.7,\"#b8e186\"],[0.8,\"#7fbc41\"],[0.9,\"#4d9221\"],[1,\"#276419\"]]},\"xaxis\":{\"gridcolor\":\"white\",\"linecolor\":\"white\",\"ticks\":\"\",\"title\":{\"standoff\":15},\"zerolinecolor\":\"white\",\"automargin\":true,\"zerolinewidth\":2},\"yaxis\":{\"gridcolor\":\"white\",\"linecolor\":\"white\",\"ticks\":\"\",\"title\":{\"standoff\":15},\"zerolinecolor\":\"white\",\"automargin\":true,\"zerolinewidth\":2},\"scene\":{\"xaxis\":{\"backgroundcolor\":\"#E5ECF6\",\"gridcolor\":\"white\",\"linecolor\":\"white\",\"showbackground\":true,\"ticks\":\"\",\"zerolinecolor\":\"white\",\"gridwidth\":2},\"yaxis\":{\"backgroundcolor\":\"#E5ECF6\",\"gridcolor\":\"white\",\"linecolor\":\"white\",\"showbackground\":true,\"ticks\":\"\",\"zerolinecolor\":\"white\",\"gridwidth\":2},\"zaxis\":{\"backgroundcolor\":\"#E5ECF6\",\"gridcolor\":\"white\",\"linecolor\":\"white\",\"showbackground\":true,\"ticks\":\"\",\"zerolinecolor\":\"white\",\"gridwidth\":2}},\"shapedefaults\":{\"line\":{\"color\":\"#2a3f5f\"}},\"annotationdefaults\":{\"arrowcolor\":\"#2a3f5f\",\"arrowhead\":0,\"arrowwidth\":1},\"geo\":{\"bgcolor\":\"white\",\"landcolor\":\"#E5ECF6\",\"subunitcolor\":\"white\",\"showland\":true,\"showlakes\":true,\"lakecolor\":\"white\"},\"title\":{\"x\":0.05},\"mapbox\":{\"style\":\"light\"}}},\"xaxis\":{\"anchor\":\"y\",\"domain\":[0.0,1.0],\"title\":{\"text\":\"Track Added Year\"},\"type\":\"category\",\"categoryarray\":[2019,2021,2022,2023]},\"yaxis\":{\"anchor\":\"x\",\"domain\":[0.0,1.0],\"title\":{\"text\":\"Genre types\"}},\"legend\":{\"title\":{\"text\":\"color\"},\"tracegroupgap\":0},\"margin\":{\"t\":100,\"l\":100,\"r\":150,\"b\":20},\"barmode\":\"relative\",\"title\":{\"text\":\"Sub-Genre Distribution by Year\",\"x\":0.5},\"paper_bgcolor\":\"LightSteelBlue\",\"height\":800},                        {\"responsive\": true}                    ).then(function(){\n",
       "                            \n",
       "var gd = document.getElementById('9e9d839d-ca9d-4441-b2fe-36675b9f10b2');\n",
       "var x = new MutationObserver(function (mutations, observer) {{\n",
       "        var display = window.getComputedStyle(gd).display;\n",
       "        if (!display || display === 'none') {{\n",
       "            console.log([gd, 'removed!']);\n",
       "            Plotly.purge(gd);\n",
       "            observer.disconnect();\n",
       "        }}\n",
       "}});\n",
       "\n",
       "// Listen for the removal of the full notebook cells\n",
       "var notebookContainer = gd.closest('#notebook-container');\n",
       "if (notebookContainer) {{\n",
       "    x.observe(notebookContainer, {childList: true});\n",
       "}}\n",
       "\n",
       "// Listen for the clearing of the current output cell\n",
       "var outputEl = gd.closest('.output');\n",
       "if (outputEl) {{\n",
       "    x.observe(outputEl, {childList: true});\n",
       "}}\n",
       "\n",
       "                        })                };                });            </script>        </div>"
      ]
     },
     "metadata": {},
     "output_type": "display_data"
    }
   ],
   "source": [
    "t = playlist.groupby([playlist['Added_At'].dt.year, 'Genre'])['Song'].count().reset_index().query(\"Song > 3\")\n",
    "\n",
    "px.bar(x=t.Added_At, y=t.Song, color=t.Genre, text_auto=True).update_layout(\n",
    "                  title_text=\"Sub-Genre Distribution by Year\",\n",
    "                  title_x=0.5,\n",
    "                  yaxis_title='Genre types',\n",
    "                  xaxis_title='Track Added Year',\n",
    "                  paper_bgcolor=\"LightSteelBlue\",\n",
    "                  height=800,\n",
    "                  margin=dict(l=100, r=150, t=100, b=20)\n",
    ").update_traces(textangle=0).update_xaxes(type='category', categoryarray=[2019,2021,2022,2023])"
   ]
  },
  {
   "cell_type": "code",
   "execution_count": 62,
   "metadata": {},
   "outputs": [
    {
     "data": {
      "text/html": [
       "<div>\n",
       "<style scoped>\n",
       "    .dataframe tbody tr th:only-of-type {\n",
       "        vertical-align: middle;\n",
       "    }\n",
       "\n",
       "    .dataframe tbody tr th {\n",
       "        vertical-align: top;\n",
       "    }\n",
       "\n",
       "    .dataframe thead th {\n",
       "        text-align: right;\n",
       "    }\n",
       "</style>\n",
       "<table border=\"1\" class=\"dataframe\">\n",
       "  <thead>\n",
       "    <tr style=\"text-align: right;\">\n",
       "      <th></th>\n",
       "      <th>Song</th>\n",
       "      <th>Artist</th>\n",
       "      <th>Popularity</th>\n",
       "      <th>BPM</th>\n",
       "      <th>Genres</th>\n",
       "      <th>Parent_Genres</th>\n",
       "      <th>Album</th>\n",
       "      <th>Album_Date</th>\n",
       "      <th>Time</th>\n",
       "      <th>Dance</th>\n",
       "      <th>...</th>\n",
       "      <th>Live</th>\n",
       "      <th>Loud</th>\n",
       "      <th>Key</th>\n",
       "      <th>Time_Signature</th>\n",
       "      <th>Added_At</th>\n",
       "      <th>Record_Label</th>\n",
       "      <th>Camelot</th>\n",
       "      <th>Country</th>\n",
       "      <th>Genre</th>\n",
       "      <th>Parent_Genre</th>\n",
       "    </tr>\n",
       "  </thead>\n",
       "  <tbody>\n",
       "    <tr>\n",
       "      <th>531</th>\n",
       "      <td>Preoccupied</td>\n",
       "      <td>Slow Pulp</td>\n",
       "      <td>36</td>\n",
       "      <td>140</td>\n",
       "      <td>bubblegrunge, chicago indie, indie pop, indie ...</td>\n",
       "      <td>Rock</td>\n",
       "      <td>Ep2</td>\n",
       "      <td>2017-03-09</td>\n",
       "      <td>3:20</td>\n",
       "      <td>69</td>\n",
       "      <td>...</td>\n",
       "      <td>0</td>\n",
       "      <td>-3</td>\n",
       "      <td>F#/G♭ Minor</td>\n",
       "      <td>4</td>\n",
       "      <td>2022-08-12</td>\n",
       "      <td>Slow Pulp</td>\n",
       "      <td>11A</td>\n",
       "      <td>{'Slow Pulp': 'N/A'}</td>\n",
       "      <td>bubblegrunge</td>\n",
       "      <td>Rock</td>\n",
       "    </tr>\n",
       "    <tr>\n",
       "      <th>483</th>\n",
       "      <td>sex money feelings die</td>\n",
       "      <td>Lykke Li</td>\n",
       "      <td>69</td>\n",
       "      <td>134</td>\n",
       "      <td>art pop, dance pop, electropop, pop, swedish e...</td>\n",
       "      <td>Pop, Dance/Electronic</td>\n",
       "      <td>so sad so sexy</td>\n",
       "      <td>2018-06-08</td>\n",
       "      <td>2:19</td>\n",
       "      <td>79</td>\n",
       "      <td>...</td>\n",
       "      <td>0</td>\n",
       "      <td>-6</td>\n",
       "      <td>G#/A♭ Minor</td>\n",
       "      <td>4</td>\n",
       "      <td>2022-07-08</td>\n",
       "      <td>LL Recordings/RCA Records</td>\n",
       "      <td>1A</td>\n",
       "      <td>{'Lykke Li': 'Sweden'}</td>\n",
       "      <td>art pop</td>\n",
       "      <td>Pop</td>\n",
       "    </tr>\n",
       "    <tr>\n",
       "      <th>461</th>\n",
       "      <td>MESS U MADE</td>\n",
       "      <td>MICHELLE</td>\n",
       "      <td>49</td>\n",
       "      <td>127</td>\n",
       "      <td>bedroom pop, indie pop, indie r&amp;b</td>\n",
       "      <td>Pop, Rock, R&amp;B</td>\n",
       "      <td>MESS U MADE</td>\n",
       "      <td>2021-10-27</td>\n",
       "      <td>2:48</td>\n",
       "      <td>67</td>\n",
       "      <td>...</td>\n",
       "      <td>10</td>\n",
       "      <td>-7</td>\n",
       "      <td>E Major</td>\n",
       "      <td>3</td>\n",
       "      <td>2022-06-21</td>\n",
       "      <td>Canvasback/ATL</td>\n",
       "      <td>12B</td>\n",
       "      <td>{'MICHELLE': 'United States of America'}</td>\n",
       "      <td>bedroom pop</td>\n",
       "      <td>Pop</td>\n",
       "    </tr>\n",
       "  </tbody>\n",
       "</table>\n",
       "<p>3 rows × 25 columns</p>\n",
       "</div>"
      ],
      "text/plain": [
       "                       Song     Artist  Popularity  BPM  \\\n",
       "531             Preoccupied  Slow Pulp          36  140   \n",
       "483  sex money feelings die   Lykke Li          69  134   \n",
       "461             MESS U MADE   MICHELLE          49  127   \n",
       "\n",
       "                                                Genres          Parent_Genres  \\\n",
       "531  bubblegrunge, chicago indie, indie pop, indie ...                   Rock   \n",
       "483  art pop, dance pop, electropop, pop, swedish e...  Pop, Dance/Electronic   \n",
       "461                  bedroom pop, indie pop, indie r&b         Pop, Rock, R&B   \n",
       "\n",
       "              Album Album_Date  Time  Dance  ...  Live  Loud          Key  \\\n",
       "531             Ep2 2017-03-09  3:20     69  ...     0    -3  F#/G♭ Minor   \n",
       "483  so sad so sexy 2018-06-08  2:19     79  ...     0    -6  G#/A♭ Minor   \n",
       "461     MESS U MADE 2021-10-27  2:48     67  ...    10    -7      E Major   \n",
       "\n",
       "     Time_Signature   Added_At               Record_Label  Camelot  \\\n",
       "531               4 2022-08-12                  Slow Pulp      11A   \n",
       "483               4 2022-07-08  LL Recordings/RCA Records       1A   \n",
       "461               3 2022-06-21             Canvasback/ATL      12B   \n",
       "\n",
       "                                      Country         Genre Parent_Genre  \n",
       "531                      {'Slow Pulp': 'N/A'}  bubblegrunge         Rock  \n",
       "483                    {'Lykke Li': 'Sweden'}       art pop          Pop  \n",
       "461  {'MICHELLE': 'United States of America'}   bedroom pop          Pop  \n",
       "\n",
       "[3 rows x 25 columns]"
      ]
     },
     "execution_count": 62,
     "metadata": {},
     "output_type": "execute_result"
    }
   ],
   "source": [
    "playlist[(playlist.Genres.str.contains(\"indie pop\", na=False))].sample(3)"
   ]
  },
  {
   "attachments": {},
   "cell_type": "markdown",
   "metadata": {},
   "source": [
    "My brother is a DJ so I've always been a big fan of house music and the DJ culture. Over the years, I've scoured through [Beatport](https://www.beatport.com/), the capital of dance music, for underground tracks alongside other DJ oriented websites. For entertainment, I'd recommend the [People Of](https://youtu.be/09yeEisT-FQ) YouTube videos. Great music, funny moments.\n",
    "\n",
    "I personally prefer the genre labelling of Beatport over Spotify's for dance/electronic tracks because they're more accurate. But anyway, I'll visualize all the tracks that have \"house\" as one of the labels inside Genres to see the changes of house tracks over the years."
   ]
  },
  {
   "cell_type": "code",
   "execution_count": 63,
   "metadata": {},
   "outputs": [
    {
     "data": {
      "application/vnd.plotly.v1+json": {
       "config": {
        "plotlyServerURL": "https://plot.ly"
       },
       "data": [
        {
         "alignmentgroup": "True",
         "hovertemplate": "color=ambient house<br>x=%{x}<br>y=%{y}<extra></extra>",
         "legendgroup": "ambient house",
         "marker": {
          "color": "#636efa",
          "pattern": {
           "shape": ""
          }
         },
         "name": "ambient house",
         "offsetgroup": "ambient house",
         "orientation": "v",
         "showlegend": true,
         "textangle": 0,
         "textposition": "auto",
         "texttemplate": "%{y}",
         "type": "bar",
         "x": [
          2019
         ],
         "xaxis": "x",
         "y": [
          1
         ],
         "yaxis": "y"
        },
        {
         "alignmentgroup": "True",
         "hovertemplate": "color=bass house<br>x=%{x}<br>y=%{y}<extra></extra>",
         "legendgroup": "bass house",
         "marker": {
          "color": "#EF553B",
          "pattern": {
           "shape": ""
          }
         },
         "name": "bass house",
         "offsetgroup": "bass house",
         "orientation": "v",
         "showlegend": true,
         "textangle": 0,
         "textposition": "auto",
         "texttemplate": "%{y}",
         "type": "bar",
         "x": [
          2019,
          2021,
          2022
         ],
         "xaxis": "x",
         "y": [
          3,
          1,
          3
         ],
         "yaxis": "y"
        },
        {
         "alignmentgroup": "True",
         "hovertemplate": "color=brazilian edm<br>x=%{x}<br>y=%{y}<extra></extra>",
         "legendgroup": "brazilian edm",
         "marker": {
          "color": "#00cc96",
          "pattern": {
           "shape": ""
          }
         },
         "name": "brazilian edm",
         "offsetgroup": "brazilian edm",
         "orientation": "v",
         "showlegend": true,
         "textangle": 0,
         "textposition": "auto",
         "texttemplate": "%{y}",
         "type": "bar",
         "x": [
          2019
         ],
         "xaxis": "x",
         "y": [
          2
         ],
         "yaxis": "y"
        },
        {
         "alignmentgroup": "True",
         "hovertemplate": "color=dance pop<br>x=%{x}<br>y=%{y}<extra></extra>",
         "legendgroup": "dance pop",
         "marker": {
          "color": "#ab63fa",
          "pattern": {
           "shape": ""
          }
         },
         "name": "dance pop",
         "offsetgroup": "dance pop",
         "orientation": "v",
         "showlegend": true,
         "textangle": 0,
         "textposition": "auto",
         "texttemplate": "%{y}",
         "type": "bar",
         "x": [
          2019,
          2020,
          2021,
          2022
         ],
         "xaxis": "x",
         "y": [
          1,
          1,
          1,
          5
         ],
         "yaxis": "y"
        },
        {
         "alignmentgroup": "True",
         "hovertemplate": "color=deep disco house<br>x=%{x}<br>y=%{y}<extra></extra>",
         "legendgroup": "deep disco house",
         "marker": {
          "color": "#FFA15A",
          "pattern": {
           "shape": ""
          }
         },
         "name": "deep disco house",
         "offsetgroup": "deep disco house",
         "orientation": "v",
         "showlegend": true,
         "textangle": 0,
         "textposition": "auto",
         "texttemplate": "%{y}",
         "type": "bar",
         "x": [
          2019,
          2021,
          2022
         ],
         "xaxis": "x",
         "y": [
          1,
          4,
          5
         ],
         "yaxis": "y"
        },
        {
         "alignmentgroup": "True",
         "hovertemplate": "color=deep groove house<br>x=%{x}<br>y=%{y}<extra></extra>",
         "legendgroup": "deep groove house",
         "marker": {
          "color": "#19d3f3",
          "pattern": {
           "shape": ""
          }
         },
         "name": "deep groove house",
         "offsetgroup": "deep groove house",
         "orientation": "v",
         "showlegend": true,
         "textangle": 0,
         "textposition": "auto",
         "texttemplate": "%{y}",
         "type": "bar",
         "x": [
          2019
         ],
         "xaxis": "x",
         "y": [
          2
         ],
         "yaxis": "y"
        },
        {
         "alignmentgroup": "True",
         "hovertemplate": "color=deep house<br>x=%{x}<br>y=%{y}<extra></extra>",
         "legendgroup": "deep house",
         "marker": {
          "color": "#FF6692",
          "pattern": {
           "shape": ""
          }
         },
         "name": "deep house",
         "offsetgroup": "deep house",
         "orientation": "v",
         "showlegend": true,
         "textangle": 0,
         "textposition": "auto",
         "texttemplate": "%{y}",
         "type": "bar",
         "x": [
          2019,
          2020,
          2021,
          2022,
          2023
         ],
         "xaxis": "x",
         "y": [
          1,
          1,
          1,
          10,
          2
         ],
         "yaxis": "y"
        },
        {
         "alignmentgroup": "True",
         "hovertemplate": "color=deep minimal techno<br>x=%{x}<br>y=%{y}<extra></extra>",
         "legendgroup": "deep minimal techno",
         "marker": {
          "color": "#B6E880",
          "pattern": {
           "shape": ""
          }
         },
         "name": "deep minimal techno",
         "offsetgroup": "deep minimal techno",
         "orientation": "v",
         "showlegend": true,
         "textangle": 0,
         "textposition": "auto",
         "texttemplate": "%{y}",
         "type": "bar",
         "x": [
          2019
         ],
         "xaxis": "x",
         "y": [
          1
         ],
         "yaxis": "y"
        },
        {
         "alignmentgroup": "True",
         "hovertemplate": "color=dutch tech house<br>x=%{x}<br>y=%{y}<extra></extra>",
         "legendgroup": "dutch tech house",
         "marker": {
          "color": "#FF97FF",
          "pattern": {
           "shape": ""
          }
         },
         "name": "dutch tech house",
         "offsetgroup": "dutch tech house",
         "orientation": "v",
         "showlegend": true,
         "textangle": 0,
         "textposition": "auto",
         "texttemplate": "%{y}",
         "type": "bar",
         "x": [
          2019,
          2020,
          2022
         ],
         "xaxis": "x",
         "y": [
          1,
          1,
          1
         ],
         "yaxis": "y"
        },
        {
         "alignmentgroup": "True",
         "hovertemplate": "color=filter house<br>x=%{x}<br>y=%{y}<extra></extra>",
         "legendgroup": "filter house",
         "marker": {
          "color": "#FECB52",
          "pattern": {
           "shape": ""
          }
         },
         "name": "filter house",
         "offsetgroup": "filter house",
         "orientation": "v",
         "showlegend": true,
         "textangle": 0,
         "textposition": "auto",
         "texttemplate": "%{y}",
         "type": "bar",
         "x": [
          2019,
          2021,
          2022
         ],
         "xaxis": "x",
         "y": [
          1,
          2,
          5
         ],
         "yaxis": "y"
        },
        {
         "alignmentgroup": "True",
         "hovertemplate": "color=house<br>x=%{x}<br>y=%{y}<extra></extra>",
         "legendgroup": "house",
         "marker": {
          "color": "#636efa",
          "pattern": {
           "shape": ""
          }
         },
         "name": "house",
         "offsetgroup": "house",
         "orientation": "v",
         "showlegend": true,
         "textangle": 0,
         "textposition": "auto",
         "texttemplate": "%{y}",
         "type": "bar",
         "x": [
          2019,
          2022
         ],
         "xaxis": "x",
         "y": [
          1,
          1
         ],
         "yaxis": "y"
        },
        {
         "alignmentgroup": "True",
         "hovertemplate": "color=indie poptimism<br>x=%{x}<br>y=%{y}<extra></extra>",
         "legendgroup": "indie poptimism",
         "marker": {
          "color": "#EF553B",
          "pattern": {
           "shape": ""
          }
         },
         "name": "indie poptimism",
         "offsetgroup": "indie poptimism",
         "orientation": "v",
         "showlegend": true,
         "textangle": 0,
         "textposition": "auto",
         "texttemplate": "%{y}",
         "type": "bar",
         "x": [
          2019
         ],
         "xaxis": "x",
         "y": [
          1
         ],
         "yaxis": "y"
        },
        {
         "alignmentgroup": "True",
         "hovertemplate": "color=italian tech house<br>x=%{x}<br>y=%{y}<extra></extra>",
         "legendgroup": "italian tech house",
         "marker": {
          "color": "#00cc96",
          "pattern": {
           "shape": ""
          }
         },
         "name": "italian tech house",
         "offsetgroup": "italian tech house",
         "orientation": "v",
         "showlegend": true,
         "textangle": 0,
         "textposition": "auto",
         "texttemplate": "%{y}",
         "type": "bar",
         "x": [
          2019
         ],
         "xaxis": "x",
         "y": [
          1
         ],
         "yaxis": "y"
        },
        {
         "alignmentgroup": "True",
         "hovertemplate": "color=south african house<br>x=%{x}<br>y=%{y}<extra></extra>",
         "legendgroup": "south african house",
         "marker": {
          "color": "#ab63fa",
          "pattern": {
           "shape": ""
          }
         },
         "name": "south african house",
         "offsetgroup": "south african house",
         "orientation": "v",
         "showlegend": true,
         "textangle": 0,
         "textposition": "auto",
         "texttemplate": "%{y}",
         "type": "bar",
         "x": [
          2019
         ],
         "xaxis": "x",
         "y": [
          1
         ],
         "yaxis": "y"
        },
        {
         "alignmentgroup": "True",
         "hovertemplate": "color=tech house<br>x=%{x}<br>y=%{y}<extra></extra>",
         "legendgroup": "tech house",
         "marker": {
          "color": "#FFA15A",
          "pattern": {
           "shape": ""
          }
         },
         "name": "tech house",
         "offsetgroup": "tech house",
         "orientation": "v",
         "showlegend": true,
         "textangle": 0,
         "textposition": "auto",
         "texttemplate": "%{y}",
         "type": "bar",
         "x": [
          2019
         ],
         "xaxis": "x",
         "y": [
          1
         ],
         "yaxis": "y"
        },
        {
         "alignmentgroup": "True",
         "hovertemplate": "color=alternative dance<br>x=%{x}<br>y=%{y}<extra></extra>",
         "legendgroup": "alternative dance",
         "marker": {
          "color": "#19d3f3",
          "pattern": {
           "shape": ""
          }
         },
         "name": "alternative dance",
         "offsetgroup": "alternative dance",
         "orientation": "v",
         "showlegend": true,
         "textangle": 0,
         "textposition": "auto",
         "texttemplate": "%{y}",
         "type": "bar",
         "x": [
          2020,
          2021,
          2022
         ],
         "xaxis": "x",
         "y": [
          1,
          2,
          3
         ],
         "yaxis": "y"
        },
        {
         "alignmentgroup": "True",
         "hovertemplate": "color=australian house<br>x=%{x}<br>y=%{y}<extra></extra>",
         "legendgroup": "australian house",
         "marker": {
          "color": "#FF6692",
          "pattern": {
           "shape": ""
          }
         },
         "name": "australian house",
         "offsetgroup": "australian house",
         "orientation": "v",
         "showlegend": true,
         "textangle": 0,
         "textposition": "auto",
         "texttemplate": "%{y}",
         "type": "bar",
         "x": [
          2020
         ],
         "xaxis": "x",
         "y": [
          1
         ],
         "yaxis": "y"
        },
        {
         "alignmentgroup": "True",
         "hovertemplate": "color=canadian electronic<br>x=%{x}<br>y=%{y}<extra></extra>",
         "legendgroup": "canadian electronic",
         "marker": {
          "color": "#B6E880",
          "pattern": {
           "shape": ""
          }
         },
         "name": "canadian electronic",
         "offsetgroup": "canadian electronic",
         "orientation": "v",
         "showlegend": true,
         "textangle": 0,
         "textposition": "auto",
         "texttemplate": "%{y}",
         "type": "bar",
         "x": [
          2020
         ],
         "xaxis": "x",
         "y": [
          1
         ],
         "yaxis": "y"
        },
        {
         "alignmentgroup": "True",
         "hovertemplate": "color=classic dubstep<br>x=%{x}<br>y=%{y}<extra></extra>",
         "legendgroup": "classic dubstep",
         "marker": {
          "color": "#FF97FF",
          "pattern": {
           "shape": ""
          }
         },
         "name": "classic dubstep",
         "offsetgroup": "classic dubstep",
         "orientation": "v",
         "showlegend": true,
         "textangle": 0,
         "textposition": "auto",
         "texttemplate": "%{y}",
         "type": "bar",
         "x": [
          2020
         ],
         "xaxis": "x",
         "y": [
          1
         ],
         "yaxis": "y"
        },
        {
         "alignmentgroup": "True",
         "hovertemplate": "color=jazz house<br>x=%{x}<br>y=%{y}<extra></extra>",
         "legendgroup": "jazz house",
         "marker": {
          "color": "#FECB52",
          "pattern": {
           "shape": ""
          }
         },
         "name": "jazz house",
         "offsetgroup": "jazz house",
         "orientation": "v",
         "showlegend": true,
         "textangle": 0,
         "textposition": "auto",
         "texttemplate": "%{y}",
         "type": "bar",
         "x": [
          2020,
          2022
         ],
         "xaxis": "x",
         "y": [
          1,
          3
         ],
         "yaxis": "y"
        },
        {
         "alignmentgroup": "True",
         "hovertemplate": "color=lo-fi house<br>x=%{x}<br>y=%{y}<extra></extra>",
         "legendgroup": "lo-fi house",
         "marker": {
          "color": "#636efa",
          "pattern": {
           "shape": ""
          }
         },
         "name": "lo-fi house",
         "offsetgroup": "lo-fi house",
         "orientation": "v",
         "showlegend": true,
         "textangle": 0,
         "textposition": "auto",
         "texttemplate": "%{y}",
         "type": "bar",
         "x": [
          2020,
          2021,
          2022
         ],
         "xaxis": "x",
         "y": [
          1,
          1,
          2
         ],
         "yaxis": "y"
        },
        {
         "alignmentgroup": "True",
         "hovertemplate": "color=acid house<br>x=%{x}<br>y=%{y}<extra></extra>",
         "legendgroup": "acid house",
         "marker": {
          "color": "#EF553B",
          "pattern": {
           "shape": ""
          }
         },
         "name": "acid house",
         "offsetgroup": "acid house",
         "orientation": "v",
         "showlegend": true,
         "textangle": 0,
         "textposition": "auto",
         "texttemplate": "%{y}",
         "type": "bar",
         "x": [
          2021,
          2022
         ],
         "xaxis": "x",
         "y": [
          1,
          1
         ],
         "yaxis": "y"
        },
        {
         "alignmentgroup": "True",
         "hovertemplate": "color=canadian hip hop<br>x=%{x}<br>y=%{y}<extra></extra>",
         "legendgroup": "canadian hip hop",
         "marker": {
          "color": "#00cc96",
          "pattern": {
           "shape": ""
          }
         },
         "name": "canadian hip hop",
         "offsetgroup": "canadian hip hop",
         "orientation": "v",
         "showlegend": true,
         "textangle": 0,
         "textposition": "auto",
         "texttemplate": "%{y}",
         "type": "bar",
         "x": [
          2021
         ],
         "xaxis": "x",
         "y": [
          1
         ],
         "yaxis": "y"
        },
        {
         "alignmentgroup": "True",
         "hovertemplate": "color=complextro<br>x=%{x}<br>y=%{y}<extra></extra>",
         "legendgroup": "complextro",
         "marker": {
          "color": "#ab63fa",
          "pattern": {
           "shape": ""
          }
         },
         "name": "complextro",
         "offsetgroup": "complextro",
         "orientation": "v",
         "showlegend": true,
         "textangle": 0,
         "textposition": "auto",
         "texttemplate": "%{y}",
         "type": "bar",
         "x": [
          2021,
          2022,
          2023
         ],
         "xaxis": "x",
         "y": [
          1,
          1,
          1
         ],
         "yaxis": "y"
        },
        {
         "alignmentgroup": "True",
         "hovertemplate": "color=disco house<br>x=%{x}<br>y=%{y}<extra></extra>",
         "legendgroup": "disco house",
         "marker": {
          "color": "#FFA15A",
          "pattern": {
           "shape": ""
          }
         },
         "name": "disco house",
         "offsetgroup": "disco house",
         "orientation": "v",
         "showlegend": true,
         "textangle": 0,
         "textposition": "auto",
         "texttemplate": "%{y}",
         "type": "bar",
         "x": [
          2021,
          2022,
          2023
         ],
         "xaxis": "x",
         "y": [
          2,
          1,
          1
         ],
         "yaxis": "y"
        },
        {
         "alignmentgroup": "True",
         "hovertemplate": "color=edm<br>x=%{x}<br>y=%{y}<extra></extra>",
         "legendgroup": "edm",
         "marker": {
          "color": "#19d3f3",
          "pattern": {
           "shape": ""
          }
         },
         "name": "edm",
         "offsetgroup": "edm",
         "orientation": "v",
         "showlegend": true,
         "textangle": 0,
         "textposition": "auto",
         "texttemplate": "%{y}",
         "type": "bar",
         "x": [
          2021
         ],
         "xaxis": "x",
         "y": [
          3
         ],
         "yaxis": "y"
        },
        {
         "alignmentgroup": "True",
         "hovertemplate": "color=electronica<br>x=%{x}<br>y=%{y}<extra></extra>",
         "legendgroup": "electronica",
         "marker": {
          "color": "#FF6692",
          "pattern": {
           "shape": ""
          }
         },
         "name": "electronica",
         "offsetgroup": "electronica",
         "orientation": "v",
         "showlegend": true,
         "textangle": 0,
         "textposition": "auto",
         "texttemplate": "%{y}",
         "type": "bar",
         "x": [
          2021,
          2022,
          2023
         ],
         "xaxis": "x",
         "y": [
          1,
          1,
          1
         ],
         "yaxis": "y"
        },
        {
         "alignmentgroup": "True",
         "hovertemplate": "color=experimental house<br>x=%{x}<br>y=%{y}<extra></extra>",
         "legendgroup": "experimental house",
         "marker": {
          "color": "#B6E880",
          "pattern": {
           "shape": ""
          }
         },
         "name": "experimental house",
         "offsetgroup": "experimental house",
         "orientation": "v",
         "showlegend": true,
         "textangle": 0,
         "textposition": "auto",
         "texttemplate": "%{y}",
         "type": "bar",
         "x": [
          2021
         ],
         "xaxis": "x",
         "y": [
          1
         ],
         "yaxis": "y"
        },
        {
         "alignmentgroup": "True",
         "hovertemplate": "color=float house<br>x=%{x}<br>y=%{y}<extra></extra>",
         "legendgroup": "float house",
         "marker": {
          "color": "#FF97FF",
          "pattern": {
           "shape": ""
          }
         },
         "name": "float house",
         "offsetgroup": "float house",
         "orientation": "v",
         "showlegend": true,
         "textangle": 0,
         "textposition": "auto",
         "texttemplate": "%{y}",
         "type": "bar",
         "x": [
          2021
         ],
         "xaxis": "x",
         "y": [
          1
         ],
         "yaxis": "y"
        },
        {
         "alignmentgroup": "True",
         "hovertemplate": "color=indie soul<br>x=%{x}<br>y=%{y}<extra></extra>",
         "legendgroup": "indie soul",
         "marker": {
          "color": "#FECB52",
          "pattern": {
           "shape": ""
          }
         },
         "name": "indie soul",
         "offsetgroup": "indie soul",
         "orientation": "v",
         "showlegend": true,
         "textangle": 0,
         "textposition": "auto",
         "texttemplate": "%{y}",
         "type": "bar",
         "x": [
          2021,
          2022
         ],
         "xaxis": "x",
         "y": [
          1,
          1
         ],
         "yaxis": "y"
        },
        {
         "alignmentgroup": "True",
         "hovertemplate": "color=rap<br>x=%{x}<br>y=%{y}<extra></extra>",
         "legendgroup": "rap",
         "marker": {
          "color": "#636efa",
          "pattern": {
           "shape": ""
          }
         },
         "name": "rap",
         "offsetgroup": "rap",
         "orientation": "v",
         "showlegend": true,
         "textangle": 0,
         "textposition": "auto",
         "texttemplate": "%{y}",
         "type": "bar",
         "x": [
          2021
         ],
         "xaxis": "x",
         "y": [
          1
         ],
         "yaxis": "y"
        },
        {
         "alignmentgroup": "True",
         "hovertemplate": "color=afro house<br>x=%{x}<br>y=%{y}<extra></extra>",
         "legendgroup": "afro house",
         "marker": {
          "color": "#EF553B",
          "pattern": {
           "shape": ""
          }
         },
         "name": "afro house",
         "offsetgroup": "afro house",
         "orientation": "v",
         "showlegend": true,
         "textangle": 0,
         "textposition": "auto",
         "texttemplate": "%{y}",
         "type": "bar",
         "x": [
          2022
         ],
         "xaxis": "x",
         "y": [
          2
         ],
         "yaxis": "y"
        },
        {
         "alignmentgroup": "True",
         "hovertemplate": "color=classic house<br>x=%{x}<br>y=%{y}<extra></extra>",
         "legendgroup": "classic house",
         "marker": {
          "color": "#00cc96",
          "pattern": {
           "shape": ""
          }
         },
         "name": "classic house",
         "offsetgroup": "classic house",
         "orientation": "v",
         "showlegend": true,
         "textangle": 0,
         "textposition": "auto",
         "texttemplate": "%{y}",
         "type": "bar",
         "x": [
          2022
         ],
         "xaxis": "x",
         "y": [
          1
         ],
         "yaxis": "y"
        },
        {
         "alignmentgroup": "True",
         "hovertemplate": "color=deep soul house<br>x=%{x}<br>y=%{y}<extra></extra>",
         "legendgroup": "deep soul house",
         "marker": {
          "color": "#ab63fa",
          "pattern": {
           "shape": ""
          }
         },
         "name": "deep soul house",
         "offsetgroup": "deep soul house",
         "orientation": "v",
         "showlegend": true,
         "textangle": 0,
         "textposition": "auto",
         "texttemplate": "%{y}",
         "type": "bar",
         "x": [
          2022
         ],
         "xaxis": "x",
         "y": [
          1
         ],
         "yaxis": "y"
        },
        {
         "alignmentgroup": "True",
         "hovertemplate": "color=deep tech house<br>x=%{x}<br>y=%{y}<extra></extra>",
         "legendgroup": "deep tech house",
         "marker": {
          "color": "#FFA15A",
          "pattern": {
           "shape": ""
          }
         },
         "name": "deep tech house",
         "offsetgroup": "deep tech house",
         "orientation": "v",
         "showlegend": true,
         "textangle": 0,
         "textposition": "auto",
         "texttemplate": "%{y}",
         "type": "bar",
         "x": [
          2022
         ],
         "xaxis": "x",
         "y": [
          1
         ],
         "yaxis": "y"
        },
        {
         "alignmentgroup": "True",
         "hovertemplate": "color=dream pop<br>x=%{x}<br>y=%{y}<extra></extra>",
         "legendgroup": "dream pop",
         "marker": {
          "color": "#19d3f3",
          "pattern": {
           "shape": ""
          }
         },
         "name": "dream pop",
         "offsetgroup": "dream pop",
         "orientation": "v",
         "showlegend": true,
         "textangle": 0,
         "textposition": "auto",
         "texttemplate": "%{y}",
         "type": "bar",
         "x": [
          2022
         ],
         "xaxis": "x",
         "y": [
          1
         ],
         "yaxis": "y"
        },
        {
         "alignmentgroup": "True",
         "hovertemplate": "color=electropop<br>x=%{x}<br>y=%{y}<extra></extra>",
         "legendgroup": "electropop",
         "marker": {
          "color": "#FF6692",
          "pattern": {
           "shape": ""
          }
         },
         "name": "electropop",
         "offsetgroup": "electropop",
         "orientation": "v",
         "showlegend": true,
         "textangle": 0,
         "textposition": "auto",
         "texttemplate": "%{y}",
         "type": "bar",
         "x": [
          2022
         ],
         "xaxis": "x",
         "y": [
          1
         ],
         "yaxis": "y"
        },
        {
         "alignmentgroup": "True",
         "hovertemplate": "color=minimal tech house<br>x=%{x}<br>y=%{y}<extra></extra>",
         "legendgroup": "minimal tech house",
         "marker": {
          "color": "#B6E880",
          "pattern": {
           "shape": ""
          }
         },
         "name": "minimal tech house",
         "offsetgroup": "minimal tech house",
         "orientation": "v",
         "showlegend": true,
         "textangle": 0,
         "textposition": "auto",
         "texttemplate": "%{y}",
         "type": "bar",
         "x": [
          2022
         ],
         "xaxis": "x",
         "y": [
          1
         ],
         "yaxis": "y"
        },
        {
         "alignmentgroup": "True",
         "hovertemplate": "color=swiss house<br>x=%{x}<br>y=%{y}<extra></extra>",
         "legendgroup": "swiss house",
         "marker": {
          "color": "#FF97FF",
          "pattern": {
           "shape": ""
          }
         },
         "name": "swiss house",
         "offsetgroup": "swiss house",
         "orientation": "v",
         "showlegend": true,
         "textangle": 0,
         "textposition": "auto",
         "texttemplate": "%{y}",
         "type": "bar",
         "x": [
          2022
         ],
         "xaxis": "x",
         "y": [
          1
         ],
         "yaxis": "y"
        },
        {
         "alignmentgroup": "True",
         "hovertemplate": "color=uk house<br>x=%{x}<br>y=%{y}<extra></extra>",
         "legendgroup": "uk house",
         "marker": {
          "color": "#FECB52",
          "pattern": {
           "shape": ""
          }
         },
         "name": "uk house",
         "offsetgroup": "uk house",
         "orientation": "v",
         "showlegend": true,
         "textangle": 0,
         "textposition": "auto",
         "texttemplate": "%{y}",
         "type": "bar",
         "x": [
          2022
         ],
         "xaxis": "x",
         "y": [
          1
         ],
         "yaxis": "y"
        }
       ],
       "layout": {
        "barmode": "relative",
        "height": 600,
        "legend": {
         "title": {
          "text": "color"
         },
         "tracegroupgap": 0
        },
        "margin": {
         "b": 20,
         "l": 100,
         "r": 150,
         "t": 100
        },
        "paper_bgcolor": "LightSteelBlue",
        "template": {
         "data": {
          "bar": [
           {
            "error_x": {
             "color": "#2a3f5f"
            },
            "error_y": {
             "color": "#2a3f5f"
            },
            "marker": {
             "line": {
              "color": "#E5ECF6",
              "width": 0.5
             },
             "pattern": {
              "fillmode": "overlay",
              "size": 10,
              "solidity": 0.2
             }
            },
            "type": "bar"
           }
          ],
          "barpolar": [
           {
            "marker": {
             "line": {
              "color": "#E5ECF6",
              "width": 0.5
             },
             "pattern": {
              "fillmode": "overlay",
              "size": 10,
              "solidity": 0.2
             }
            },
            "type": "barpolar"
           }
          ],
          "carpet": [
           {
            "aaxis": {
             "endlinecolor": "#2a3f5f",
             "gridcolor": "white",
             "linecolor": "white",
             "minorgridcolor": "white",
             "startlinecolor": "#2a3f5f"
            },
            "baxis": {
             "endlinecolor": "#2a3f5f",
             "gridcolor": "white",
             "linecolor": "white",
             "minorgridcolor": "white",
             "startlinecolor": "#2a3f5f"
            },
            "type": "carpet"
           }
          ],
          "choropleth": [
           {
            "colorbar": {
             "outlinewidth": 0,
             "ticks": ""
            },
            "type": "choropleth"
           }
          ],
          "contour": [
           {
            "colorbar": {
             "outlinewidth": 0,
             "ticks": ""
            },
            "colorscale": [
             [
              0,
              "#0d0887"
             ],
             [
              0.1111111111111111,
              "#46039f"
             ],
             [
              0.2222222222222222,
              "#7201a8"
             ],
             [
              0.3333333333333333,
              "#9c179e"
             ],
             [
              0.4444444444444444,
              "#bd3786"
             ],
             [
              0.5555555555555556,
              "#d8576b"
             ],
             [
              0.6666666666666666,
              "#ed7953"
             ],
             [
              0.7777777777777778,
              "#fb9f3a"
             ],
             [
              0.8888888888888888,
              "#fdca26"
             ],
             [
              1,
              "#f0f921"
             ]
            ],
            "type": "contour"
           }
          ],
          "contourcarpet": [
           {
            "colorbar": {
             "outlinewidth": 0,
             "ticks": ""
            },
            "type": "contourcarpet"
           }
          ],
          "heatmap": [
           {
            "colorbar": {
             "outlinewidth": 0,
             "ticks": ""
            },
            "colorscale": [
             [
              0,
              "#0d0887"
             ],
             [
              0.1111111111111111,
              "#46039f"
             ],
             [
              0.2222222222222222,
              "#7201a8"
             ],
             [
              0.3333333333333333,
              "#9c179e"
             ],
             [
              0.4444444444444444,
              "#bd3786"
             ],
             [
              0.5555555555555556,
              "#d8576b"
             ],
             [
              0.6666666666666666,
              "#ed7953"
             ],
             [
              0.7777777777777778,
              "#fb9f3a"
             ],
             [
              0.8888888888888888,
              "#fdca26"
             ],
             [
              1,
              "#f0f921"
             ]
            ],
            "type": "heatmap"
           }
          ],
          "heatmapgl": [
           {
            "colorbar": {
             "outlinewidth": 0,
             "ticks": ""
            },
            "colorscale": [
             [
              0,
              "#0d0887"
             ],
             [
              0.1111111111111111,
              "#46039f"
             ],
             [
              0.2222222222222222,
              "#7201a8"
             ],
             [
              0.3333333333333333,
              "#9c179e"
             ],
             [
              0.4444444444444444,
              "#bd3786"
             ],
             [
              0.5555555555555556,
              "#d8576b"
             ],
             [
              0.6666666666666666,
              "#ed7953"
             ],
             [
              0.7777777777777778,
              "#fb9f3a"
             ],
             [
              0.8888888888888888,
              "#fdca26"
             ],
             [
              1,
              "#f0f921"
             ]
            ],
            "type": "heatmapgl"
           }
          ],
          "histogram": [
           {
            "marker": {
             "pattern": {
              "fillmode": "overlay",
              "size": 10,
              "solidity": 0.2
             }
            },
            "type": "histogram"
           }
          ],
          "histogram2d": [
           {
            "colorbar": {
             "outlinewidth": 0,
             "ticks": ""
            },
            "colorscale": [
             [
              0,
              "#0d0887"
             ],
             [
              0.1111111111111111,
              "#46039f"
             ],
             [
              0.2222222222222222,
              "#7201a8"
             ],
             [
              0.3333333333333333,
              "#9c179e"
             ],
             [
              0.4444444444444444,
              "#bd3786"
             ],
             [
              0.5555555555555556,
              "#d8576b"
             ],
             [
              0.6666666666666666,
              "#ed7953"
             ],
             [
              0.7777777777777778,
              "#fb9f3a"
             ],
             [
              0.8888888888888888,
              "#fdca26"
             ],
             [
              1,
              "#f0f921"
             ]
            ],
            "type": "histogram2d"
           }
          ],
          "histogram2dcontour": [
           {
            "colorbar": {
             "outlinewidth": 0,
             "ticks": ""
            },
            "colorscale": [
             [
              0,
              "#0d0887"
             ],
             [
              0.1111111111111111,
              "#46039f"
             ],
             [
              0.2222222222222222,
              "#7201a8"
             ],
             [
              0.3333333333333333,
              "#9c179e"
             ],
             [
              0.4444444444444444,
              "#bd3786"
             ],
             [
              0.5555555555555556,
              "#d8576b"
             ],
             [
              0.6666666666666666,
              "#ed7953"
             ],
             [
              0.7777777777777778,
              "#fb9f3a"
             ],
             [
              0.8888888888888888,
              "#fdca26"
             ],
             [
              1,
              "#f0f921"
             ]
            ],
            "type": "histogram2dcontour"
           }
          ],
          "mesh3d": [
           {
            "colorbar": {
             "outlinewidth": 0,
             "ticks": ""
            },
            "type": "mesh3d"
           }
          ],
          "parcoords": [
           {
            "line": {
             "colorbar": {
              "outlinewidth": 0,
              "ticks": ""
             }
            },
            "type": "parcoords"
           }
          ],
          "pie": [
           {
            "automargin": true,
            "type": "pie"
           }
          ],
          "scatter": [
           {
            "fillpattern": {
             "fillmode": "overlay",
             "size": 10,
             "solidity": 0.2
            },
            "type": "scatter"
           }
          ],
          "scatter3d": [
           {
            "line": {
             "colorbar": {
              "outlinewidth": 0,
              "ticks": ""
             }
            },
            "marker": {
             "colorbar": {
              "outlinewidth": 0,
              "ticks": ""
             }
            },
            "type": "scatter3d"
           }
          ],
          "scattercarpet": [
           {
            "marker": {
             "colorbar": {
              "outlinewidth": 0,
              "ticks": ""
             }
            },
            "type": "scattercarpet"
           }
          ],
          "scattergeo": [
           {
            "marker": {
             "colorbar": {
              "outlinewidth": 0,
              "ticks": ""
             }
            },
            "type": "scattergeo"
           }
          ],
          "scattergl": [
           {
            "marker": {
             "colorbar": {
              "outlinewidth": 0,
              "ticks": ""
             }
            },
            "type": "scattergl"
           }
          ],
          "scattermapbox": [
           {
            "marker": {
             "colorbar": {
              "outlinewidth": 0,
              "ticks": ""
             }
            },
            "type": "scattermapbox"
           }
          ],
          "scatterpolar": [
           {
            "marker": {
             "colorbar": {
              "outlinewidth": 0,
              "ticks": ""
             }
            },
            "type": "scatterpolar"
           }
          ],
          "scatterpolargl": [
           {
            "marker": {
             "colorbar": {
              "outlinewidth": 0,
              "ticks": ""
             }
            },
            "type": "scatterpolargl"
           }
          ],
          "scatterternary": [
           {
            "marker": {
             "colorbar": {
              "outlinewidth": 0,
              "ticks": ""
             }
            },
            "type": "scatterternary"
           }
          ],
          "surface": [
           {
            "colorbar": {
             "outlinewidth": 0,
             "ticks": ""
            },
            "colorscale": [
             [
              0,
              "#0d0887"
             ],
             [
              0.1111111111111111,
              "#46039f"
             ],
             [
              0.2222222222222222,
              "#7201a8"
             ],
             [
              0.3333333333333333,
              "#9c179e"
             ],
             [
              0.4444444444444444,
              "#bd3786"
             ],
             [
              0.5555555555555556,
              "#d8576b"
             ],
             [
              0.6666666666666666,
              "#ed7953"
             ],
             [
              0.7777777777777778,
              "#fb9f3a"
             ],
             [
              0.8888888888888888,
              "#fdca26"
             ],
             [
              1,
              "#f0f921"
             ]
            ],
            "type": "surface"
           }
          ],
          "table": [
           {
            "cells": {
             "fill": {
              "color": "#EBF0F8"
             },
             "line": {
              "color": "white"
             }
            },
            "header": {
             "fill": {
              "color": "#C8D4E3"
             },
             "line": {
              "color": "white"
             }
            },
            "type": "table"
           }
          ]
         },
         "layout": {
          "annotationdefaults": {
           "arrowcolor": "#2a3f5f",
           "arrowhead": 0,
           "arrowwidth": 1
          },
          "autotypenumbers": "strict",
          "coloraxis": {
           "colorbar": {
            "outlinewidth": 0,
            "ticks": ""
           }
          },
          "colorscale": {
           "diverging": [
            [
             0,
             "#8e0152"
            ],
            [
             0.1,
             "#c51b7d"
            ],
            [
             0.2,
             "#de77ae"
            ],
            [
             0.3,
             "#f1b6da"
            ],
            [
             0.4,
             "#fde0ef"
            ],
            [
             0.5,
             "#f7f7f7"
            ],
            [
             0.6,
             "#e6f5d0"
            ],
            [
             0.7,
             "#b8e186"
            ],
            [
             0.8,
             "#7fbc41"
            ],
            [
             0.9,
             "#4d9221"
            ],
            [
             1,
             "#276419"
            ]
           ],
           "sequential": [
            [
             0,
             "#0d0887"
            ],
            [
             0.1111111111111111,
             "#46039f"
            ],
            [
             0.2222222222222222,
             "#7201a8"
            ],
            [
             0.3333333333333333,
             "#9c179e"
            ],
            [
             0.4444444444444444,
             "#bd3786"
            ],
            [
             0.5555555555555556,
             "#d8576b"
            ],
            [
             0.6666666666666666,
             "#ed7953"
            ],
            [
             0.7777777777777778,
             "#fb9f3a"
            ],
            [
             0.8888888888888888,
             "#fdca26"
            ],
            [
             1,
             "#f0f921"
            ]
           ],
           "sequentialminus": [
            [
             0,
             "#0d0887"
            ],
            [
             0.1111111111111111,
             "#46039f"
            ],
            [
             0.2222222222222222,
             "#7201a8"
            ],
            [
             0.3333333333333333,
             "#9c179e"
            ],
            [
             0.4444444444444444,
             "#bd3786"
            ],
            [
             0.5555555555555556,
             "#d8576b"
            ],
            [
             0.6666666666666666,
             "#ed7953"
            ],
            [
             0.7777777777777778,
             "#fb9f3a"
            ],
            [
             0.8888888888888888,
             "#fdca26"
            ],
            [
             1,
             "#f0f921"
            ]
           ]
          },
          "colorway": [
           "#636efa",
           "#EF553B",
           "#00cc96",
           "#ab63fa",
           "#FFA15A",
           "#19d3f3",
           "#FF6692",
           "#B6E880",
           "#FF97FF",
           "#FECB52"
          ],
          "font": {
           "color": "#2a3f5f"
          },
          "geo": {
           "bgcolor": "white",
           "lakecolor": "white",
           "landcolor": "#E5ECF6",
           "showlakes": true,
           "showland": true,
           "subunitcolor": "white"
          },
          "hoverlabel": {
           "align": "left"
          },
          "hovermode": "closest",
          "mapbox": {
           "style": "light"
          },
          "paper_bgcolor": "white",
          "plot_bgcolor": "#E5ECF6",
          "polar": {
           "angularaxis": {
            "gridcolor": "white",
            "linecolor": "white",
            "ticks": ""
           },
           "bgcolor": "#E5ECF6",
           "radialaxis": {
            "gridcolor": "white",
            "linecolor": "white",
            "ticks": ""
           }
          },
          "scene": {
           "xaxis": {
            "backgroundcolor": "#E5ECF6",
            "gridcolor": "white",
            "gridwidth": 2,
            "linecolor": "white",
            "showbackground": true,
            "ticks": "",
            "zerolinecolor": "white"
           },
           "yaxis": {
            "backgroundcolor": "#E5ECF6",
            "gridcolor": "white",
            "gridwidth": 2,
            "linecolor": "white",
            "showbackground": true,
            "ticks": "",
            "zerolinecolor": "white"
           },
           "zaxis": {
            "backgroundcolor": "#E5ECF6",
            "gridcolor": "white",
            "gridwidth": 2,
            "linecolor": "white",
            "showbackground": true,
            "ticks": "",
            "zerolinecolor": "white"
           }
          },
          "shapedefaults": {
           "line": {
            "color": "#2a3f5f"
           }
          },
          "ternary": {
           "aaxis": {
            "gridcolor": "white",
            "linecolor": "white",
            "ticks": ""
           },
           "baxis": {
            "gridcolor": "white",
            "linecolor": "white",
            "ticks": ""
           },
           "bgcolor": "#E5ECF6",
           "caxis": {
            "gridcolor": "white",
            "linecolor": "white",
            "ticks": ""
           }
          },
          "title": {
           "x": 0.05
          },
          "xaxis": {
           "automargin": true,
           "gridcolor": "white",
           "linecolor": "white",
           "ticks": "",
           "title": {
            "standoff": 15
           },
           "zerolinecolor": "white",
           "zerolinewidth": 2
          },
          "yaxis": {
           "automargin": true,
           "gridcolor": "white",
           "linecolor": "white",
           "ticks": "",
           "title": {
            "standoff": 15
           },
           "zerolinecolor": "white",
           "zerolinewidth": 2
          }
         }
        },
        "title": {
         "text": "House tracks by year",
         "x": 0.5
        },
        "xaxis": {
         "anchor": "y",
         "categoryarray": [
          2019,
          2020,
          2021,
          2022,
          2023
         ],
         "domain": [
          0,
          1
         ],
         "title": {
          "text": "Track Added Year"
         },
         "type": "category"
        },
        "yaxis": {
         "anchor": "x",
         "domain": [
          0,
          1
         ],
         "title": {
          "text": "Genre types"
         }
        }
       }
      },
      "text/html": [
       "<div>                            <div id=\"c78adc26-6ef6-4d84-a120-a0e058039e39\" class=\"plotly-graph-div\" style=\"height:600px; width:100%;\"></div>            <script type=\"text/javascript\">                require([\"plotly\"], function(Plotly) {                    window.PLOTLYENV=window.PLOTLYENV || {};                                    if (document.getElementById(\"c78adc26-6ef6-4d84-a120-a0e058039e39\")) {                    Plotly.newPlot(                        \"c78adc26-6ef6-4d84-a120-a0e058039e39\",                        [{\"alignmentgroup\":\"True\",\"hovertemplate\":\"color=ambient house<br>x=%{x}<br>y=%{y}<extra></extra>\",\"legendgroup\":\"ambient house\",\"marker\":{\"color\":\"#636efa\",\"pattern\":{\"shape\":\"\"}},\"name\":\"ambient house\",\"offsetgroup\":\"ambient house\",\"orientation\":\"v\",\"showlegend\":true,\"textposition\":\"auto\",\"texttemplate\":\"%{y}\",\"x\":[2019],\"xaxis\":\"x\",\"y\":[1],\"yaxis\":\"y\",\"type\":\"bar\",\"textangle\":0},{\"alignmentgroup\":\"True\",\"hovertemplate\":\"color=bass house<br>x=%{x}<br>y=%{y}<extra></extra>\",\"legendgroup\":\"bass house\",\"marker\":{\"color\":\"#EF553B\",\"pattern\":{\"shape\":\"\"}},\"name\":\"bass house\",\"offsetgroup\":\"bass house\",\"orientation\":\"v\",\"showlegend\":true,\"textposition\":\"auto\",\"texttemplate\":\"%{y}\",\"x\":[2019,2021,2022],\"xaxis\":\"x\",\"y\":[3,1,3],\"yaxis\":\"y\",\"type\":\"bar\",\"textangle\":0},{\"alignmentgroup\":\"True\",\"hovertemplate\":\"color=brazilian edm<br>x=%{x}<br>y=%{y}<extra></extra>\",\"legendgroup\":\"brazilian edm\",\"marker\":{\"color\":\"#00cc96\",\"pattern\":{\"shape\":\"\"}},\"name\":\"brazilian edm\",\"offsetgroup\":\"brazilian edm\",\"orientation\":\"v\",\"showlegend\":true,\"textposition\":\"auto\",\"texttemplate\":\"%{y}\",\"x\":[2019],\"xaxis\":\"x\",\"y\":[2],\"yaxis\":\"y\",\"type\":\"bar\",\"textangle\":0},{\"alignmentgroup\":\"True\",\"hovertemplate\":\"color=dance pop<br>x=%{x}<br>y=%{y}<extra></extra>\",\"legendgroup\":\"dance pop\",\"marker\":{\"color\":\"#ab63fa\",\"pattern\":{\"shape\":\"\"}},\"name\":\"dance pop\",\"offsetgroup\":\"dance pop\",\"orientation\":\"v\",\"showlegend\":true,\"textposition\":\"auto\",\"texttemplate\":\"%{y}\",\"x\":[2019,2020,2021,2022],\"xaxis\":\"x\",\"y\":[1,1,1,5],\"yaxis\":\"y\",\"type\":\"bar\",\"textangle\":0},{\"alignmentgroup\":\"True\",\"hovertemplate\":\"color=deep disco house<br>x=%{x}<br>y=%{y}<extra></extra>\",\"legendgroup\":\"deep disco house\",\"marker\":{\"color\":\"#FFA15A\",\"pattern\":{\"shape\":\"\"}},\"name\":\"deep disco house\",\"offsetgroup\":\"deep disco house\",\"orientation\":\"v\",\"showlegend\":true,\"textposition\":\"auto\",\"texttemplate\":\"%{y}\",\"x\":[2019,2021,2022],\"xaxis\":\"x\",\"y\":[1,4,5],\"yaxis\":\"y\",\"type\":\"bar\",\"textangle\":0},{\"alignmentgroup\":\"True\",\"hovertemplate\":\"color=deep groove house<br>x=%{x}<br>y=%{y}<extra></extra>\",\"legendgroup\":\"deep groove house\",\"marker\":{\"color\":\"#19d3f3\",\"pattern\":{\"shape\":\"\"}},\"name\":\"deep groove house\",\"offsetgroup\":\"deep groove house\",\"orientation\":\"v\",\"showlegend\":true,\"textposition\":\"auto\",\"texttemplate\":\"%{y}\",\"x\":[2019],\"xaxis\":\"x\",\"y\":[2],\"yaxis\":\"y\",\"type\":\"bar\",\"textangle\":0},{\"alignmentgroup\":\"True\",\"hovertemplate\":\"color=deep house<br>x=%{x}<br>y=%{y}<extra></extra>\",\"legendgroup\":\"deep house\",\"marker\":{\"color\":\"#FF6692\",\"pattern\":{\"shape\":\"\"}},\"name\":\"deep house\",\"offsetgroup\":\"deep house\",\"orientation\":\"v\",\"showlegend\":true,\"textposition\":\"auto\",\"texttemplate\":\"%{y}\",\"x\":[2019,2020,2021,2022,2023],\"xaxis\":\"x\",\"y\":[1,1,1,10,2],\"yaxis\":\"y\",\"type\":\"bar\",\"textangle\":0},{\"alignmentgroup\":\"True\",\"hovertemplate\":\"color=deep minimal techno<br>x=%{x}<br>y=%{y}<extra></extra>\",\"legendgroup\":\"deep minimal techno\",\"marker\":{\"color\":\"#B6E880\",\"pattern\":{\"shape\":\"\"}},\"name\":\"deep minimal techno\",\"offsetgroup\":\"deep minimal techno\",\"orientation\":\"v\",\"showlegend\":true,\"textposition\":\"auto\",\"texttemplate\":\"%{y}\",\"x\":[2019],\"xaxis\":\"x\",\"y\":[1],\"yaxis\":\"y\",\"type\":\"bar\",\"textangle\":0},{\"alignmentgroup\":\"True\",\"hovertemplate\":\"color=dutch tech house<br>x=%{x}<br>y=%{y}<extra></extra>\",\"legendgroup\":\"dutch tech house\",\"marker\":{\"color\":\"#FF97FF\",\"pattern\":{\"shape\":\"\"}},\"name\":\"dutch tech house\",\"offsetgroup\":\"dutch tech house\",\"orientation\":\"v\",\"showlegend\":true,\"textposition\":\"auto\",\"texttemplate\":\"%{y}\",\"x\":[2019,2020,2022],\"xaxis\":\"x\",\"y\":[1,1,1],\"yaxis\":\"y\",\"type\":\"bar\",\"textangle\":0},{\"alignmentgroup\":\"True\",\"hovertemplate\":\"color=filter house<br>x=%{x}<br>y=%{y}<extra></extra>\",\"legendgroup\":\"filter house\",\"marker\":{\"color\":\"#FECB52\",\"pattern\":{\"shape\":\"\"}},\"name\":\"filter house\",\"offsetgroup\":\"filter house\",\"orientation\":\"v\",\"showlegend\":true,\"textposition\":\"auto\",\"texttemplate\":\"%{y}\",\"x\":[2019,2021,2022],\"xaxis\":\"x\",\"y\":[1,2,5],\"yaxis\":\"y\",\"type\":\"bar\",\"textangle\":0},{\"alignmentgroup\":\"True\",\"hovertemplate\":\"color=house<br>x=%{x}<br>y=%{y}<extra></extra>\",\"legendgroup\":\"house\",\"marker\":{\"color\":\"#636efa\",\"pattern\":{\"shape\":\"\"}},\"name\":\"house\",\"offsetgroup\":\"house\",\"orientation\":\"v\",\"showlegend\":true,\"textposition\":\"auto\",\"texttemplate\":\"%{y}\",\"x\":[2019,2022],\"xaxis\":\"x\",\"y\":[1,1],\"yaxis\":\"y\",\"type\":\"bar\",\"textangle\":0},{\"alignmentgroup\":\"True\",\"hovertemplate\":\"color=indie poptimism<br>x=%{x}<br>y=%{y}<extra></extra>\",\"legendgroup\":\"indie poptimism\",\"marker\":{\"color\":\"#EF553B\",\"pattern\":{\"shape\":\"\"}},\"name\":\"indie poptimism\",\"offsetgroup\":\"indie poptimism\",\"orientation\":\"v\",\"showlegend\":true,\"textposition\":\"auto\",\"texttemplate\":\"%{y}\",\"x\":[2019],\"xaxis\":\"x\",\"y\":[1],\"yaxis\":\"y\",\"type\":\"bar\",\"textangle\":0},{\"alignmentgroup\":\"True\",\"hovertemplate\":\"color=italian tech house<br>x=%{x}<br>y=%{y}<extra></extra>\",\"legendgroup\":\"italian tech house\",\"marker\":{\"color\":\"#00cc96\",\"pattern\":{\"shape\":\"\"}},\"name\":\"italian tech house\",\"offsetgroup\":\"italian tech house\",\"orientation\":\"v\",\"showlegend\":true,\"textposition\":\"auto\",\"texttemplate\":\"%{y}\",\"x\":[2019],\"xaxis\":\"x\",\"y\":[1],\"yaxis\":\"y\",\"type\":\"bar\",\"textangle\":0},{\"alignmentgroup\":\"True\",\"hovertemplate\":\"color=south african house<br>x=%{x}<br>y=%{y}<extra></extra>\",\"legendgroup\":\"south african house\",\"marker\":{\"color\":\"#ab63fa\",\"pattern\":{\"shape\":\"\"}},\"name\":\"south african house\",\"offsetgroup\":\"south african house\",\"orientation\":\"v\",\"showlegend\":true,\"textposition\":\"auto\",\"texttemplate\":\"%{y}\",\"x\":[2019],\"xaxis\":\"x\",\"y\":[1],\"yaxis\":\"y\",\"type\":\"bar\",\"textangle\":0},{\"alignmentgroup\":\"True\",\"hovertemplate\":\"color=tech house<br>x=%{x}<br>y=%{y}<extra></extra>\",\"legendgroup\":\"tech house\",\"marker\":{\"color\":\"#FFA15A\",\"pattern\":{\"shape\":\"\"}},\"name\":\"tech house\",\"offsetgroup\":\"tech house\",\"orientation\":\"v\",\"showlegend\":true,\"textposition\":\"auto\",\"texttemplate\":\"%{y}\",\"x\":[2019],\"xaxis\":\"x\",\"y\":[1],\"yaxis\":\"y\",\"type\":\"bar\",\"textangle\":0},{\"alignmentgroup\":\"True\",\"hovertemplate\":\"color=alternative dance<br>x=%{x}<br>y=%{y}<extra></extra>\",\"legendgroup\":\"alternative dance\",\"marker\":{\"color\":\"#19d3f3\",\"pattern\":{\"shape\":\"\"}},\"name\":\"alternative dance\",\"offsetgroup\":\"alternative dance\",\"orientation\":\"v\",\"showlegend\":true,\"textposition\":\"auto\",\"texttemplate\":\"%{y}\",\"x\":[2020,2021,2022],\"xaxis\":\"x\",\"y\":[1,2,3],\"yaxis\":\"y\",\"type\":\"bar\",\"textangle\":0},{\"alignmentgroup\":\"True\",\"hovertemplate\":\"color=australian house<br>x=%{x}<br>y=%{y}<extra></extra>\",\"legendgroup\":\"australian house\",\"marker\":{\"color\":\"#FF6692\",\"pattern\":{\"shape\":\"\"}},\"name\":\"australian house\",\"offsetgroup\":\"australian house\",\"orientation\":\"v\",\"showlegend\":true,\"textposition\":\"auto\",\"texttemplate\":\"%{y}\",\"x\":[2020],\"xaxis\":\"x\",\"y\":[1],\"yaxis\":\"y\",\"type\":\"bar\",\"textangle\":0},{\"alignmentgroup\":\"True\",\"hovertemplate\":\"color=canadian electronic<br>x=%{x}<br>y=%{y}<extra></extra>\",\"legendgroup\":\"canadian electronic\",\"marker\":{\"color\":\"#B6E880\",\"pattern\":{\"shape\":\"\"}},\"name\":\"canadian electronic\",\"offsetgroup\":\"canadian electronic\",\"orientation\":\"v\",\"showlegend\":true,\"textposition\":\"auto\",\"texttemplate\":\"%{y}\",\"x\":[2020],\"xaxis\":\"x\",\"y\":[1],\"yaxis\":\"y\",\"type\":\"bar\",\"textangle\":0},{\"alignmentgroup\":\"True\",\"hovertemplate\":\"color=classic dubstep<br>x=%{x}<br>y=%{y}<extra></extra>\",\"legendgroup\":\"classic dubstep\",\"marker\":{\"color\":\"#FF97FF\",\"pattern\":{\"shape\":\"\"}},\"name\":\"classic dubstep\",\"offsetgroup\":\"classic dubstep\",\"orientation\":\"v\",\"showlegend\":true,\"textposition\":\"auto\",\"texttemplate\":\"%{y}\",\"x\":[2020],\"xaxis\":\"x\",\"y\":[1],\"yaxis\":\"y\",\"type\":\"bar\",\"textangle\":0},{\"alignmentgroup\":\"True\",\"hovertemplate\":\"color=jazz house<br>x=%{x}<br>y=%{y}<extra></extra>\",\"legendgroup\":\"jazz house\",\"marker\":{\"color\":\"#FECB52\",\"pattern\":{\"shape\":\"\"}},\"name\":\"jazz house\",\"offsetgroup\":\"jazz house\",\"orientation\":\"v\",\"showlegend\":true,\"textposition\":\"auto\",\"texttemplate\":\"%{y}\",\"x\":[2020,2022],\"xaxis\":\"x\",\"y\":[1,3],\"yaxis\":\"y\",\"type\":\"bar\",\"textangle\":0},{\"alignmentgroup\":\"True\",\"hovertemplate\":\"color=lo-fi house<br>x=%{x}<br>y=%{y}<extra></extra>\",\"legendgroup\":\"lo-fi house\",\"marker\":{\"color\":\"#636efa\",\"pattern\":{\"shape\":\"\"}},\"name\":\"lo-fi house\",\"offsetgroup\":\"lo-fi house\",\"orientation\":\"v\",\"showlegend\":true,\"textposition\":\"auto\",\"texttemplate\":\"%{y}\",\"x\":[2020,2021,2022],\"xaxis\":\"x\",\"y\":[1,1,2],\"yaxis\":\"y\",\"type\":\"bar\",\"textangle\":0},{\"alignmentgroup\":\"True\",\"hovertemplate\":\"color=acid house<br>x=%{x}<br>y=%{y}<extra></extra>\",\"legendgroup\":\"acid house\",\"marker\":{\"color\":\"#EF553B\",\"pattern\":{\"shape\":\"\"}},\"name\":\"acid house\",\"offsetgroup\":\"acid house\",\"orientation\":\"v\",\"showlegend\":true,\"textposition\":\"auto\",\"texttemplate\":\"%{y}\",\"x\":[2021,2022],\"xaxis\":\"x\",\"y\":[1,1],\"yaxis\":\"y\",\"type\":\"bar\",\"textangle\":0},{\"alignmentgroup\":\"True\",\"hovertemplate\":\"color=canadian hip hop<br>x=%{x}<br>y=%{y}<extra></extra>\",\"legendgroup\":\"canadian hip hop\",\"marker\":{\"color\":\"#00cc96\",\"pattern\":{\"shape\":\"\"}},\"name\":\"canadian hip hop\",\"offsetgroup\":\"canadian hip hop\",\"orientation\":\"v\",\"showlegend\":true,\"textposition\":\"auto\",\"texttemplate\":\"%{y}\",\"x\":[2021],\"xaxis\":\"x\",\"y\":[1],\"yaxis\":\"y\",\"type\":\"bar\",\"textangle\":0},{\"alignmentgroup\":\"True\",\"hovertemplate\":\"color=complextro<br>x=%{x}<br>y=%{y}<extra></extra>\",\"legendgroup\":\"complextro\",\"marker\":{\"color\":\"#ab63fa\",\"pattern\":{\"shape\":\"\"}},\"name\":\"complextro\",\"offsetgroup\":\"complextro\",\"orientation\":\"v\",\"showlegend\":true,\"textposition\":\"auto\",\"texttemplate\":\"%{y}\",\"x\":[2021,2022,2023],\"xaxis\":\"x\",\"y\":[1,1,1],\"yaxis\":\"y\",\"type\":\"bar\",\"textangle\":0},{\"alignmentgroup\":\"True\",\"hovertemplate\":\"color=disco house<br>x=%{x}<br>y=%{y}<extra></extra>\",\"legendgroup\":\"disco house\",\"marker\":{\"color\":\"#FFA15A\",\"pattern\":{\"shape\":\"\"}},\"name\":\"disco house\",\"offsetgroup\":\"disco house\",\"orientation\":\"v\",\"showlegend\":true,\"textposition\":\"auto\",\"texttemplate\":\"%{y}\",\"x\":[2021,2022,2023],\"xaxis\":\"x\",\"y\":[2,1,1],\"yaxis\":\"y\",\"type\":\"bar\",\"textangle\":0},{\"alignmentgroup\":\"True\",\"hovertemplate\":\"color=edm<br>x=%{x}<br>y=%{y}<extra></extra>\",\"legendgroup\":\"edm\",\"marker\":{\"color\":\"#19d3f3\",\"pattern\":{\"shape\":\"\"}},\"name\":\"edm\",\"offsetgroup\":\"edm\",\"orientation\":\"v\",\"showlegend\":true,\"textposition\":\"auto\",\"texttemplate\":\"%{y}\",\"x\":[2021],\"xaxis\":\"x\",\"y\":[3],\"yaxis\":\"y\",\"type\":\"bar\",\"textangle\":0},{\"alignmentgroup\":\"True\",\"hovertemplate\":\"color=electronica<br>x=%{x}<br>y=%{y}<extra></extra>\",\"legendgroup\":\"electronica\",\"marker\":{\"color\":\"#FF6692\",\"pattern\":{\"shape\":\"\"}},\"name\":\"electronica\",\"offsetgroup\":\"electronica\",\"orientation\":\"v\",\"showlegend\":true,\"textposition\":\"auto\",\"texttemplate\":\"%{y}\",\"x\":[2021,2022,2023],\"xaxis\":\"x\",\"y\":[1,1,1],\"yaxis\":\"y\",\"type\":\"bar\",\"textangle\":0},{\"alignmentgroup\":\"True\",\"hovertemplate\":\"color=experimental house<br>x=%{x}<br>y=%{y}<extra></extra>\",\"legendgroup\":\"experimental house\",\"marker\":{\"color\":\"#B6E880\",\"pattern\":{\"shape\":\"\"}},\"name\":\"experimental house\",\"offsetgroup\":\"experimental house\",\"orientation\":\"v\",\"showlegend\":true,\"textposition\":\"auto\",\"texttemplate\":\"%{y}\",\"x\":[2021],\"xaxis\":\"x\",\"y\":[1],\"yaxis\":\"y\",\"type\":\"bar\",\"textangle\":0},{\"alignmentgroup\":\"True\",\"hovertemplate\":\"color=float house<br>x=%{x}<br>y=%{y}<extra></extra>\",\"legendgroup\":\"float house\",\"marker\":{\"color\":\"#FF97FF\",\"pattern\":{\"shape\":\"\"}},\"name\":\"float house\",\"offsetgroup\":\"float house\",\"orientation\":\"v\",\"showlegend\":true,\"textposition\":\"auto\",\"texttemplate\":\"%{y}\",\"x\":[2021],\"xaxis\":\"x\",\"y\":[1],\"yaxis\":\"y\",\"type\":\"bar\",\"textangle\":0},{\"alignmentgroup\":\"True\",\"hovertemplate\":\"color=indie soul<br>x=%{x}<br>y=%{y}<extra></extra>\",\"legendgroup\":\"indie soul\",\"marker\":{\"color\":\"#FECB52\",\"pattern\":{\"shape\":\"\"}},\"name\":\"indie soul\",\"offsetgroup\":\"indie soul\",\"orientation\":\"v\",\"showlegend\":true,\"textposition\":\"auto\",\"texttemplate\":\"%{y}\",\"x\":[2021,2022],\"xaxis\":\"x\",\"y\":[1,1],\"yaxis\":\"y\",\"type\":\"bar\",\"textangle\":0},{\"alignmentgroup\":\"True\",\"hovertemplate\":\"color=rap<br>x=%{x}<br>y=%{y}<extra></extra>\",\"legendgroup\":\"rap\",\"marker\":{\"color\":\"#636efa\",\"pattern\":{\"shape\":\"\"}},\"name\":\"rap\",\"offsetgroup\":\"rap\",\"orientation\":\"v\",\"showlegend\":true,\"textposition\":\"auto\",\"texttemplate\":\"%{y}\",\"x\":[2021],\"xaxis\":\"x\",\"y\":[1],\"yaxis\":\"y\",\"type\":\"bar\",\"textangle\":0},{\"alignmentgroup\":\"True\",\"hovertemplate\":\"color=afro house<br>x=%{x}<br>y=%{y}<extra></extra>\",\"legendgroup\":\"afro house\",\"marker\":{\"color\":\"#EF553B\",\"pattern\":{\"shape\":\"\"}},\"name\":\"afro house\",\"offsetgroup\":\"afro house\",\"orientation\":\"v\",\"showlegend\":true,\"textposition\":\"auto\",\"texttemplate\":\"%{y}\",\"x\":[2022],\"xaxis\":\"x\",\"y\":[2],\"yaxis\":\"y\",\"type\":\"bar\",\"textangle\":0},{\"alignmentgroup\":\"True\",\"hovertemplate\":\"color=classic house<br>x=%{x}<br>y=%{y}<extra></extra>\",\"legendgroup\":\"classic house\",\"marker\":{\"color\":\"#00cc96\",\"pattern\":{\"shape\":\"\"}},\"name\":\"classic house\",\"offsetgroup\":\"classic house\",\"orientation\":\"v\",\"showlegend\":true,\"textposition\":\"auto\",\"texttemplate\":\"%{y}\",\"x\":[2022],\"xaxis\":\"x\",\"y\":[1],\"yaxis\":\"y\",\"type\":\"bar\",\"textangle\":0},{\"alignmentgroup\":\"True\",\"hovertemplate\":\"color=deep soul house<br>x=%{x}<br>y=%{y}<extra></extra>\",\"legendgroup\":\"deep soul house\",\"marker\":{\"color\":\"#ab63fa\",\"pattern\":{\"shape\":\"\"}},\"name\":\"deep soul house\",\"offsetgroup\":\"deep soul house\",\"orientation\":\"v\",\"showlegend\":true,\"textposition\":\"auto\",\"texttemplate\":\"%{y}\",\"x\":[2022],\"xaxis\":\"x\",\"y\":[1],\"yaxis\":\"y\",\"type\":\"bar\",\"textangle\":0},{\"alignmentgroup\":\"True\",\"hovertemplate\":\"color=deep tech house<br>x=%{x}<br>y=%{y}<extra></extra>\",\"legendgroup\":\"deep tech house\",\"marker\":{\"color\":\"#FFA15A\",\"pattern\":{\"shape\":\"\"}},\"name\":\"deep tech house\",\"offsetgroup\":\"deep tech house\",\"orientation\":\"v\",\"showlegend\":true,\"textposition\":\"auto\",\"texttemplate\":\"%{y}\",\"x\":[2022],\"xaxis\":\"x\",\"y\":[1],\"yaxis\":\"y\",\"type\":\"bar\",\"textangle\":0},{\"alignmentgroup\":\"True\",\"hovertemplate\":\"color=dream pop<br>x=%{x}<br>y=%{y}<extra></extra>\",\"legendgroup\":\"dream pop\",\"marker\":{\"color\":\"#19d3f3\",\"pattern\":{\"shape\":\"\"}},\"name\":\"dream pop\",\"offsetgroup\":\"dream pop\",\"orientation\":\"v\",\"showlegend\":true,\"textposition\":\"auto\",\"texttemplate\":\"%{y}\",\"x\":[2022],\"xaxis\":\"x\",\"y\":[1],\"yaxis\":\"y\",\"type\":\"bar\",\"textangle\":0},{\"alignmentgroup\":\"True\",\"hovertemplate\":\"color=electropop<br>x=%{x}<br>y=%{y}<extra></extra>\",\"legendgroup\":\"electropop\",\"marker\":{\"color\":\"#FF6692\",\"pattern\":{\"shape\":\"\"}},\"name\":\"electropop\",\"offsetgroup\":\"electropop\",\"orientation\":\"v\",\"showlegend\":true,\"textposition\":\"auto\",\"texttemplate\":\"%{y}\",\"x\":[2022],\"xaxis\":\"x\",\"y\":[1],\"yaxis\":\"y\",\"type\":\"bar\",\"textangle\":0},{\"alignmentgroup\":\"True\",\"hovertemplate\":\"color=minimal tech house<br>x=%{x}<br>y=%{y}<extra></extra>\",\"legendgroup\":\"minimal tech house\",\"marker\":{\"color\":\"#B6E880\",\"pattern\":{\"shape\":\"\"}},\"name\":\"minimal tech house\",\"offsetgroup\":\"minimal tech house\",\"orientation\":\"v\",\"showlegend\":true,\"textposition\":\"auto\",\"texttemplate\":\"%{y}\",\"x\":[2022],\"xaxis\":\"x\",\"y\":[1],\"yaxis\":\"y\",\"type\":\"bar\",\"textangle\":0},{\"alignmentgroup\":\"True\",\"hovertemplate\":\"color=swiss house<br>x=%{x}<br>y=%{y}<extra></extra>\",\"legendgroup\":\"swiss house\",\"marker\":{\"color\":\"#FF97FF\",\"pattern\":{\"shape\":\"\"}},\"name\":\"swiss house\",\"offsetgroup\":\"swiss house\",\"orientation\":\"v\",\"showlegend\":true,\"textposition\":\"auto\",\"texttemplate\":\"%{y}\",\"x\":[2022],\"xaxis\":\"x\",\"y\":[1],\"yaxis\":\"y\",\"type\":\"bar\",\"textangle\":0},{\"alignmentgroup\":\"True\",\"hovertemplate\":\"color=uk house<br>x=%{x}<br>y=%{y}<extra></extra>\",\"legendgroup\":\"uk house\",\"marker\":{\"color\":\"#FECB52\",\"pattern\":{\"shape\":\"\"}},\"name\":\"uk house\",\"offsetgroup\":\"uk house\",\"orientation\":\"v\",\"showlegend\":true,\"textposition\":\"auto\",\"texttemplate\":\"%{y}\",\"x\":[2022],\"xaxis\":\"x\",\"y\":[1],\"yaxis\":\"y\",\"type\":\"bar\",\"textangle\":0}],                        {\"template\":{\"data\":{\"histogram2dcontour\":[{\"type\":\"histogram2dcontour\",\"colorbar\":{\"outlinewidth\":0,\"ticks\":\"\"},\"colorscale\":[[0.0,\"#0d0887\"],[0.1111111111111111,\"#46039f\"],[0.2222222222222222,\"#7201a8\"],[0.3333333333333333,\"#9c179e\"],[0.4444444444444444,\"#bd3786\"],[0.5555555555555556,\"#d8576b\"],[0.6666666666666666,\"#ed7953\"],[0.7777777777777778,\"#fb9f3a\"],[0.8888888888888888,\"#fdca26\"],[1.0,\"#f0f921\"]]}],\"choropleth\":[{\"type\":\"choropleth\",\"colorbar\":{\"outlinewidth\":0,\"ticks\":\"\"}}],\"histogram2d\":[{\"type\":\"histogram2d\",\"colorbar\":{\"outlinewidth\":0,\"ticks\":\"\"},\"colorscale\":[[0.0,\"#0d0887\"],[0.1111111111111111,\"#46039f\"],[0.2222222222222222,\"#7201a8\"],[0.3333333333333333,\"#9c179e\"],[0.4444444444444444,\"#bd3786\"],[0.5555555555555556,\"#d8576b\"],[0.6666666666666666,\"#ed7953\"],[0.7777777777777778,\"#fb9f3a\"],[0.8888888888888888,\"#fdca26\"],[1.0,\"#f0f921\"]]}],\"heatmap\":[{\"type\":\"heatmap\",\"colorbar\":{\"outlinewidth\":0,\"ticks\":\"\"},\"colorscale\":[[0.0,\"#0d0887\"],[0.1111111111111111,\"#46039f\"],[0.2222222222222222,\"#7201a8\"],[0.3333333333333333,\"#9c179e\"],[0.4444444444444444,\"#bd3786\"],[0.5555555555555556,\"#d8576b\"],[0.6666666666666666,\"#ed7953\"],[0.7777777777777778,\"#fb9f3a\"],[0.8888888888888888,\"#fdca26\"],[1.0,\"#f0f921\"]]}],\"heatmapgl\":[{\"type\":\"heatmapgl\",\"colorbar\":{\"outlinewidth\":0,\"ticks\":\"\"},\"colorscale\":[[0.0,\"#0d0887\"],[0.1111111111111111,\"#46039f\"],[0.2222222222222222,\"#7201a8\"],[0.3333333333333333,\"#9c179e\"],[0.4444444444444444,\"#bd3786\"],[0.5555555555555556,\"#d8576b\"],[0.6666666666666666,\"#ed7953\"],[0.7777777777777778,\"#fb9f3a\"],[0.8888888888888888,\"#fdca26\"],[1.0,\"#f0f921\"]]}],\"contourcarpet\":[{\"type\":\"contourcarpet\",\"colorbar\":{\"outlinewidth\":0,\"ticks\":\"\"}}],\"contour\":[{\"type\":\"contour\",\"colorbar\":{\"outlinewidth\":0,\"ticks\":\"\"},\"colorscale\":[[0.0,\"#0d0887\"],[0.1111111111111111,\"#46039f\"],[0.2222222222222222,\"#7201a8\"],[0.3333333333333333,\"#9c179e\"],[0.4444444444444444,\"#bd3786\"],[0.5555555555555556,\"#d8576b\"],[0.6666666666666666,\"#ed7953\"],[0.7777777777777778,\"#fb9f3a\"],[0.8888888888888888,\"#fdca26\"],[1.0,\"#f0f921\"]]}],\"surface\":[{\"type\":\"surface\",\"colorbar\":{\"outlinewidth\":0,\"ticks\":\"\"},\"colorscale\":[[0.0,\"#0d0887\"],[0.1111111111111111,\"#46039f\"],[0.2222222222222222,\"#7201a8\"],[0.3333333333333333,\"#9c179e\"],[0.4444444444444444,\"#bd3786\"],[0.5555555555555556,\"#d8576b\"],[0.6666666666666666,\"#ed7953\"],[0.7777777777777778,\"#fb9f3a\"],[0.8888888888888888,\"#fdca26\"],[1.0,\"#f0f921\"]]}],\"mesh3d\":[{\"type\":\"mesh3d\",\"colorbar\":{\"outlinewidth\":0,\"ticks\":\"\"}}],\"scatter\":[{\"fillpattern\":{\"fillmode\":\"overlay\",\"size\":10,\"solidity\":0.2},\"type\":\"scatter\"}],\"parcoords\":[{\"type\":\"parcoords\",\"line\":{\"colorbar\":{\"outlinewidth\":0,\"ticks\":\"\"}}}],\"scatterpolargl\":[{\"type\":\"scatterpolargl\",\"marker\":{\"colorbar\":{\"outlinewidth\":0,\"ticks\":\"\"}}}],\"bar\":[{\"error_x\":{\"color\":\"#2a3f5f\"},\"error_y\":{\"color\":\"#2a3f5f\"},\"marker\":{\"line\":{\"color\":\"#E5ECF6\",\"width\":0.5},\"pattern\":{\"fillmode\":\"overlay\",\"size\":10,\"solidity\":0.2}},\"type\":\"bar\"}],\"scattergeo\":[{\"type\":\"scattergeo\",\"marker\":{\"colorbar\":{\"outlinewidth\":0,\"ticks\":\"\"}}}],\"scatterpolar\":[{\"type\":\"scatterpolar\",\"marker\":{\"colorbar\":{\"outlinewidth\":0,\"ticks\":\"\"}}}],\"histogram\":[{\"marker\":{\"pattern\":{\"fillmode\":\"overlay\",\"size\":10,\"solidity\":0.2}},\"type\":\"histogram\"}],\"scattergl\":[{\"type\":\"scattergl\",\"marker\":{\"colorbar\":{\"outlinewidth\":0,\"ticks\":\"\"}}}],\"scatter3d\":[{\"type\":\"scatter3d\",\"line\":{\"colorbar\":{\"outlinewidth\":0,\"ticks\":\"\"}},\"marker\":{\"colorbar\":{\"outlinewidth\":0,\"ticks\":\"\"}}}],\"scattermapbox\":[{\"type\":\"scattermapbox\",\"marker\":{\"colorbar\":{\"outlinewidth\":0,\"ticks\":\"\"}}}],\"scatterternary\":[{\"type\":\"scatterternary\",\"marker\":{\"colorbar\":{\"outlinewidth\":0,\"ticks\":\"\"}}}],\"scattercarpet\":[{\"type\":\"scattercarpet\",\"marker\":{\"colorbar\":{\"outlinewidth\":0,\"ticks\":\"\"}}}],\"carpet\":[{\"aaxis\":{\"endlinecolor\":\"#2a3f5f\",\"gridcolor\":\"white\",\"linecolor\":\"white\",\"minorgridcolor\":\"white\",\"startlinecolor\":\"#2a3f5f\"},\"baxis\":{\"endlinecolor\":\"#2a3f5f\",\"gridcolor\":\"white\",\"linecolor\":\"white\",\"minorgridcolor\":\"white\",\"startlinecolor\":\"#2a3f5f\"},\"type\":\"carpet\"}],\"table\":[{\"cells\":{\"fill\":{\"color\":\"#EBF0F8\"},\"line\":{\"color\":\"white\"}},\"header\":{\"fill\":{\"color\":\"#C8D4E3\"},\"line\":{\"color\":\"white\"}},\"type\":\"table\"}],\"barpolar\":[{\"marker\":{\"line\":{\"color\":\"#E5ECF6\",\"width\":0.5},\"pattern\":{\"fillmode\":\"overlay\",\"size\":10,\"solidity\":0.2}},\"type\":\"barpolar\"}],\"pie\":[{\"automargin\":true,\"type\":\"pie\"}]},\"layout\":{\"autotypenumbers\":\"strict\",\"colorway\":[\"#636efa\",\"#EF553B\",\"#00cc96\",\"#ab63fa\",\"#FFA15A\",\"#19d3f3\",\"#FF6692\",\"#B6E880\",\"#FF97FF\",\"#FECB52\"],\"font\":{\"color\":\"#2a3f5f\"},\"hovermode\":\"closest\",\"hoverlabel\":{\"align\":\"left\"},\"paper_bgcolor\":\"white\",\"plot_bgcolor\":\"#E5ECF6\",\"polar\":{\"bgcolor\":\"#E5ECF6\",\"angularaxis\":{\"gridcolor\":\"white\",\"linecolor\":\"white\",\"ticks\":\"\"},\"radialaxis\":{\"gridcolor\":\"white\",\"linecolor\":\"white\",\"ticks\":\"\"}},\"ternary\":{\"bgcolor\":\"#E5ECF6\",\"aaxis\":{\"gridcolor\":\"white\",\"linecolor\":\"white\",\"ticks\":\"\"},\"baxis\":{\"gridcolor\":\"white\",\"linecolor\":\"white\",\"ticks\":\"\"},\"caxis\":{\"gridcolor\":\"white\",\"linecolor\":\"white\",\"ticks\":\"\"}},\"coloraxis\":{\"colorbar\":{\"outlinewidth\":0,\"ticks\":\"\"}},\"colorscale\":{\"sequential\":[[0.0,\"#0d0887\"],[0.1111111111111111,\"#46039f\"],[0.2222222222222222,\"#7201a8\"],[0.3333333333333333,\"#9c179e\"],[0.4444444444444444,\"#bd3786\"],[0.5555555555555556,\"#d8576b\"],[0.6666666666666666,\"#ed7953\"],[0.7777777777777778,\"#fb9f3a\"],[0.8888888888888888,\"#fdca26\"],[1.0,\"#f0f921\"]],\"sequentialminus\":[[0.0,\"#0d0887\"],[0.1111111111111111,\"#46039f\"],[0.2222222222222222,\"#7201a8\"],[0.3333333333333333,\"#9c179e\"],[0.4444444444444444,\"#bd3786\"],[0.5555555555555556,\"#d8576b\"],[0.6666666666666666,\"#ed7953\"],[0.7777777777777778,\"#fb9f3a\"],[0.8888888888888888,\"#fdca26\"],[1.0,\"#f0f921\"]],\"diverging\":[[0,\"#8e0152\"],[0.1,\"#c51b7d\"],[0.2,\"#de77ae\"],[0.3,\"#f1b6da\"],[0.4,\"#fde0ef\"],[0.5,\"#f7f7f7\"],[0.6,\"#e6f5d0\"],[0.7,\"#b8e186\"],[0.8,\"#7fbc41\"],[0.9,\"#4d9221\"],[1,\"#276419\"]]},\"xaxis\":{\"gridcolor\":\"white\",\"linecolor\":\"white\",\"ticks\":\"\",\"title\":{\"standoff\":15},\"zerolinecolor\":\"white\",\"automargin\":true,\"zerolinewidth\":2},\"yaxis\":{\"gridcolor\":\"white\",\"linecolor\":\"white\",\"ticks\":\"\",\"title\":{\"standoff\":15},\"zerolinecolor\":\"white\",\"automargin\":true,\"zerolinewidth\":2},\"scene\":{\"xaxis\":{\"backgroundcolor\":\"#E5ECF6\",\"gridcolor\":\"white\",\"linecolor\":\"white\",\"showbackground\":true,\"ticks\":\"\",\"zerolinecolor\":\"white\",\"gridwidth\":2},\"yaxis\":{\"backgroundcolor\":\"#E5ECF6\",\"gridcolor\":\"white\",\"linecolor\":\"white\",\"showbackground\":true,\"ticks\":\"\",\"zerolinecolor\":\"white\",\"gridwidth\":2},\"zaxis\":{\"backgroundcolor\":\"#E5ECF6\",\"gridcolor\":\"white\",\"linecolor\":\"white\",\"showbackground\":true,\"ticks\":\"\",\"zerolinecolor\":\"white\",\"gridwidth\":2}},\"shapedefaults\":{\"line\":{\"color\":\"#2a3f5f\"}},\"annotationdefaults\":{\"arrowcolor\":\"#2a3f5f\",\"arrowhead\":0,\"arrowwidth\":1},\"geo\":{\"bgcolor\":\"white\",\"landcolor\":\"#E5ECF6\",\"subunitcolor\":\"white\",\"showland\":true,\"showlakes\":true,\"lakecolor\":\"white\"},\"title\":{\"x\":0.05},\"mapbox\":{\"style\":\"light\"}}},\"xaxis\":{\"anchor\":\"y\",\"domain\":[0.0,1.0],\"title\":{\"text\":\"Track Added Year\"},\"type\":\"category\",\"categoryarray\":[2019,2020,2021,2022,2023]},\"yaxis\":{\"anchor\":\"x\",\"domain\":[0.0,1.0],\"title\":{\"text\":\"Genre types\"}},\"legend\":{\"title\":{\"text\":\"color\"},\"tracegroupgap\":0},\"margin\":{\"t\":100,\"l\":100,\"r\":150,\"b\":20},\"barmode\":\"relative\",\"title\":{\"text\":\"House tracks by year\",\"x\":0.5},\"paper_bgcolor\":\"LightSteelBlue\",\"height\":600},                        {\"responsive\": true}                    ).then(function(){\n",
       "                            \n",
       "var gd = document.getElementById('c78adc26-6ef6-4d84-a120-a0e058039e39');\n",
       "var x = new MutationObserver(function (mutations, observer) {{\n",
       "        var display = window.getComputedStyle(gd).display;\n",
       "        if (!display || display === 'none') {{\n",
       "            console.log([gd, 'removed!']);\n",
       "            Plotly.purge(gd);\n",
       "            observer.disconnect();\n",
       "        }}\n",
       "}});\n",
       "\n",
       "// Listen for the removal of the full notebook cells\n",
       "var notebookContainer = gd.closest('#notebook-container');\n",
       "if (notebookContainer) {{\n",
       "    x.observe(notebookContainer, {childList: true});\n",
       "}}\n",
       "\n",
       "// Listen for the clearing of the current output cell\n",
       "var outputEl = gd.closest('.output');\n",
       "if (outputEl) {{\n",
       "    x.observe(outputEl, {childList: true});\n",
       "}}\n",
       "\n",
       "                        })                };                });            </script>        </div>"
      ]
     },
     "metadata": {},
     "output_type": "display_data"
    }
   ],
   "source": [
    "t = playlist[(playlist.Genres.str.contains(\"house\", na=False))].groupby([playlist['Added_At'].dt.year, 'Genre'])['Song'].count().reset_index()\n",
    "\n",
    "px.bar(x=t.Added_At, y=t.Song, color=t.Genre, text_auto=True).update_xaxes(type='category', categoryarray=[2019,2020, 2021,2022,2023]).update_layout(\n",
    "                  title_text=\"House tracks by year\",\n",
    "                  title_x=0.5,\n",
    "                  yaxis_title='Genre types',\n",
    "                  xaxis_title='Track Added Year',\n",
    "                  paper_bgcolor=\"LightSteelBlue\",\n",
    "                  height=600,\n",
    "                  margin=dict(l=100, r=150, t=100, b=20)\n",
    ").update_traces(textangle=0)"
   ]
  },
  {
   "attachments": {},
   "cell_type": "markdown",
   "metadata": {},
   "source": [
    "I'm a little surprised to see the dip in 2020 but I also remember that was the year of lockdown. I was mostly inside the apartment with my roommates and that year I listened to a lot of rap & hip hop. Deep House is one of my fav genres and it's nice to see the 2022 deep house count as the highest count."
   ]
  },
  {
   "cell_type": "code",
   "execution_count": 64,
   "metadata": {},
   "outputs": [
    {
     "data": {
      "text/html": [
       "<div>\n",
       "<style scoped>\n",
       "    .dataframe tbody tr th:only-of-type {\n",
       "        vertical-align: middle;\n",
       "    }\n",
       "\n",
       "    .dataframe tbody tr th {\n",
       "        vertical-align: top;\n",
       "    }\n",
       "\n",
       "    .dataframe thead th {\n",
       "        text-align: right;\n",
       "    }\n",
       "</style>\n",
       "<table border=\"1\" class=\"dataframe\">\n",
       "  <thead>\n",
       "    <tr style=\"text-align: right;\">\n",
       "      <th></th>\n",
       "      <th>Song</th>\n",
       "      <th>Artist</th>\n",
       "      <th>Popularity</th>\n",
       "      <th>BPM</th>\n",
       "      <th>Genres</th>\n",
       "      <th>Parent_Genres</th>\n",
       "      <th>Album</th>\n",
       "      <th>Album_Date</th>\n",
       "      <th>Time</th>\n",
       "      <th>Dance</th>\n",
       "      <th>...</th>\n",
       "      <th>Live</th>\n",
       "      <th>Loud</th>\n",
       "      <th>Key</th>\n",
       "      <th>Time_Signature</th>\n",
       "      <th>Added_At</th>\n",
       "      <th>Record_Label</th>\n",
       "      <th>Camelot</th>\n",
       "      <th>Country</th>\n",
       "      <th>Genre</th>\n",
       "      <th>Parent_Genre</th>\n",
       "    </tr>\n",
       "  </thead>\n",
       "  <tbody>\n",
       "    <tr>\n",
       "      <th>76</th>\n",
       "      <td>Je t'aime encore</td>\n",
       "      <td>Yelle</td>\n",
       "      <td>32</td>\n",
       "      <td>100</td>\n",
       "      <td>alternative dance, dance pop, electro-pop fran...</td>\n",
       "      <td>Rock, Pop, R&amp;B, Dance/Electronic</td>\n",
       "      <td>Je t'aime encore</td>\n",
       "      <td>2020-04-28</td>\n",
       "      <td>3:37</td>\n",
       "      <td>52</td>\n",
       "      <td>...</td>\n",
       "      <td>10</td>\n",
       "      <td>-9</td>\n",
       "      <td>F Major</td>\n",
       "      <td>4</td>\n",
       "      <td>2020-06-14</td>\n",
       "      <td>Recreation Center</td>\n",
       "      <td>7B</td>\n",
       "      <td>{'Yelle': 'France'}</td>\n",
       "      <td>alternative dance</td>\n",
       "      <td>Rock</td>\n",
       "    </tr>\n",
       "    <tr>\n",
       "      <th>638</th>\n",
       "      <td>King Bromeliad</td>\n",
       "      <td>Floating Points</td>\n",
       "      <td>40</td>\n",
       "      <td>115</td>\n",
       "      <td>electronica, microhouse, uk bass, wonky</td>\n",
       "      <td>Rock, Dance/Electronic</td>\n",
       "      <td>King Bromeliad / Montparnasse</td>\n",
       "      <td>2014-06-23</td>\n",
       "      <td>8:52</td>\n",
       "      <td>90</td>\n",
       "      <td>...</td>\n",
       "      <td>0</td>\n",
       "      <td>-10</td>\n",
       "      <td>C♯/D♭ Major</td>\n",
       "      <td>4</td>\n",
       "      <td>2023-01-04</td>\n",
       "      <td>Pluto</td>\n",
       "      <td>3B</td>\n",
       "      <td>{'Floating Points': 'UK'}</td>\n",
       "      <td>electronica</td>\n",
       "      <td>Rock</td>\n",
       "    </tr>\n",
       "    <tr>\n",
       "      <th>440</th>\n",
       "      <td>Armonia</td>\n",
       "      <td>Michel Degen,Mikhu</td>\n",
       "      <td>19</td>\n",
       "      <td>124</td>\n",
       "      <td>swiss house,</td>\n",
       "      <td>Dance/Electronic</td>\n",
       "      <td>Armonia</td>\n",
       "      <td>2018-06-04</td>\n",
       "      <td>7:19</td>\n",
       "      <td>81</td>\n",
       "      <td>...</td>\n",
       "      <td>10</td>\n",
       "      <td>-11</td>\n",
       "      <td>B Minor</td>\n",
       "      <td>4</td>\n",
       "      <td>2022-06-09</td>\n",
       "      <td>Samani</td>\n",
       "      <td>10A</td>\n",
       "      <td>{'Michel Degen': 'N/A', 'Mikhu': 'N/A'}</td>\n",
       "      <td>swiss house</td>\n",
       "      <td>Dance/Electronic</td>\n",
       "    </tr>\n",
       "  </tbody>\n",
       "</table>\n",
       "<p>3 rows × 25 columns</p>\n",
       "</div>"
      ],
      "text/plain": [
       "                 Song              Artist  Popularity  BPM  \\\n",
       "76   Je t'aime encore               Yelle          32  100   \n",
       "638    King Bromeliad     Floating Points          40  115   \n",
       "440           Armonia  Michel Degen,Mikhu          19  124   \n",
       "\n",
       "                                                Genres  \\\n",
       "76   alternative dance, dance pop, electro-pop fran...   \n",
       "638            electronica, microhouse, uk bass, wonky   \n",
       "440                                      swiss house,    \n",
       "\n",
       "                        Parent_Genres                          Album  \\\n",
       "76   Rock, Pop, R&B, Dance/Electronic               Je t'aime encore   \n",
       "638            Rock, Dance/Electronic  King Bromeliad / Montparnasse   \n",
       "440                  Dance/Electronic                        Armonia   \n",
       "\n",
       "    Album_Date  Time  Dance  ...  Live  Loud          Key  Time_Signature  \\\n",
       "76  2020-04-28  3:37     52  ...    10    -9      F Major               4   \n",
       "638 2014-06-23  8:52     90  ...     0   -10  C♯/D♭ Major               4   \n",
       "440 2018-06-04  7:19     81  ...    10   -11      B Minor               4   \n",
       "\n",
       "      Added_At       Record_Label  Camelot  \\\n",
       "76  2020-06-14  Recreation Center       7B   \n",
       "638 2023-01-04              Pluto       3B   \n",
       "440 2022-06-09             Samani      10A   \n",
       "\n",
       "                                     Country              Genre  \\\n",
       "76                       {'Yelle': 'France'}  alternative dance   \n",
       "638                {'Floating Points': 'UK'}        electronica   \n",
       "440  {'Michel Degen': 'N/A', 'Mikhu': 'N/A'}        swiss house   \n",
       "\n",
       "         Parent_Genre  \n",
       "76               Rock  \n",
       "638              Rock  \n",
       "440  Dance/Electronic  \n",
       "\n",
       "[3 rows x 25 columns]"
      ]
     },
     "execution_count": 64,
     "metadata": {},
     "output_type": "execute_result"
    }
   ],
   "source": [
    "playlist[(playlist.Genres.str.contains(\"house\", na=False))].sample(3)"
   ]
  },
  {
   "attachments": {},
   "cell_type": "markdown",
   "metadata": {},
   "source": [
    "### Instrumental Analysis\n",
    "\n",
    "This feature determines the amount of vocal presence i.e. singing vs musical content in a song. A value of 0 means that almost entirety of the song contains vocals. The higher the Instrumental number, the more musical content than singing. \n",
    "\n",
    "Note: singing is different from vocal fx or vocal edits -- like Ooohs & Aaaahs which are not considered singing \n",
    "\n",
    "[Smash Mouth - All Star](https://youtu.be/L_jWHffIx5E?t=38) - This track has an Instrumental rating of 0 and there's singing pretty much the entire song \n",
    "\n",
    "[Bonobo - Linked](https://youtu.be/0W-a11Tdk7Y?t=102) - This track has an Instrumental rating of 89 and you can listen to some of the vocal stabs \n",
    "\n",
    "[Lorn - Soft Room](https://youtu.be/YNPPdkxE7S0?t=36) - This track has an Instrumental rating of 79 and you can listen to some of the vocal Ooohs fx\n",
    "\n",
    "For analysis, I want to compare songs that are full of singing vs those that are not. I also want to investigate if newer songs tend to be singing heavy compared to older releases."
   ]
  },
  {
   "cell_type": "code",
   "execution_count": 65,
   "metadata": {},
   "outputs": [
    {
     "data": {
      "application/vnd.plotly.v1+json": {
       "config": {
        "plotlyServerURL": "https://plot.ly"
       },
       "data": [
        {
         "name": "All",
         "offsetgroup": "0",
         "type": "bar",
         "x": [
          "2017",
          "2018",
          "2019",
          "2021",
          "2020",
          "2022",
          "2016",
          "2014",
          "2013",
          "2015",
          "2008",
          "2005",
          "2009",
          "2007",
          "2012",
          "2006",
          "2003",
          "2004",
          "1999",
          "2001",
          "2011",
          "2002",
          "2010",
          "1995",
          "1991",
          "1998",
          "1978",
          "1986",
          "1965",
          "1967",
          "1990",
          "1971",
          "1989",
          "1993",
          "1992",
          "1975",
          "1979",
          "1988"
         ],
         "y": [
          79,
          67,
          64,
          63,
          57,
          51,
          50,
          25,
          25,
          21,
          20,
          16,
          16,
          16,
          15,
          13,
          11,
          10,
          9,
          8,
          7,
          7,
          5,
          3,
          2,
          2,
          2,
          2,
          1,
          1,
          1,
          1,
          1,
          1,
          1,
          1,
          1,
          1
         ]
        },
        {
         "marker": {
          "color": "#204887"
         },
         "name": "Instrumental 0",
         "offsetgroup": "0",
         "text": [
          37,
          25,
          35,
          31,
          34,
          27,
          24,
          12,
          6,
          7,
          12,
          14,
          10,
          10,
          7,
          9,
          9,
          5,
          6,
          5,
          4,
          6,
          3,
          2,
          1,
          0,
          2,
          1,
          1,
          1,
          1,
          0,
          1,
          0,
          1,
          0,
          1,
          1
         ],
         "type": "bar",
         "x": [
          "2017",
          "2018",
          "2019",
          "2021",
          "2020",
          "2022",
          "2016",
          "2014",
          "2013",
          "2015",
          "2008",
          "2005",
          "2009",
          "2007",
          "2012",
          "2006",
          "2003",
          "2004",
          "1999",
          "2001",
          "2011",
          "2002",
          "2010",
          "1995",
          "1991",
          "1998",
          "1978",
          "1986",
          "1965",
          "1967",
          "1990",
          "1971",
          "1989",
          "1993",
          "1992",
          "1975",
          "1979",
          "1988"
         ],
         "y": [
          37,
          25,
          35,
          31,
          34,
          27,
          24,
          12,
          6,
          7,
          12,
          14,
          10,
          10,
          7,
          9,
          9,
          5,
          6,
          5,
          4,
          6,
          3,
          2,
          1,
          0,
          2,
          1,
          1,
          1,
          1,
          0,
          1,
          0,
          1,
          0,
          1,
          1
         ]
        }
       ],
       "layout": {
        "margin": {
         "b": 20,
         "l": 100,
         "r": 150,
         "t": 100
        },
        "paper_bgcolor": "LightSteelBlue",
        "template": {
         "data": {
          "bar": [
           {
            "error_x": {
             "color": "#2a3f5f"
            },
            "error_y": {
             "color": "#2a3f5f"
            },
            "marker": {
             "line": {
              "color": "#E5ECF6",
              "width": 0.5
             },
             "pattern": {
              "fillmode": "overlay",
              "size": 10,
              "solidity": 0.2
             }
            },
            "type": "bar"
           }
          ],
          "barpolar": [
           {
            "marker": {
             "line": {
              "color": "#E5ECF6",
              "width": 0.5
             },
             "pattern": {
              "fillmode": "overlay",
              "size": 10,
              "solidity": 0.2
             }
            },
            "type": "barpolar"
           }
          ],
          "carpet": [
           {
            "aaxis": {
             "endlinecolor": "#2a3f5f",
             "gridcolor": "white",
             "linecolor": "white",
             "minorgridcolor": "white",
             "startlinecolor": "#2a3f5f"
            },
            "baxis": {
             "endlinecolor": "#2a3f5f",
             "gridcolor": "white",
             "linecolor": "white",
             "minorgridcolor": "white",
             "startlinecolor": "#2a3f5f"
            },
            "type": "carpet"
           }
          ],
          "choropleth": [
           {
            "colorbar": {
             "outlinewidth": 0,
             "ticks": ""
            },
            "type": "choropleth"
           }
          ],
          "contour": [
           {
            "colorbar": {
             "outlinewidth": 0,
             "ticks": ""
            },
            "colorscale": [
             [
              0,
              "#0d0887"
             ],
             [
              0.1111111111111111,
              "#46039f"
             ],
             [
              0.2222222222222222,
              "#7201a8"
             ],
             [
              0.3333333333333333,
              "#9c179e"
             ],
             [
              0.4444444444444444,
              "#bd3786"
             ],
             [
              0.5555555555555556,
              "#d8576b"
             ],
             [
              0.6666666666666666,
              "#ed7953"
             ],
             [
              0.7777777777777778,
              "#fb9f3a"
             ],
             [
              0.8888888888888888,
              "#fdca26"
             ],
             [
              1,
              "#f0f921"
             ]
            ],
            "type": "contour"
           }
          ],
          "contourcarpet": [
           {
            "colorbar": {
             "outlinewidth": 0,
             "ticks": ""
            },
            "type": "contourcarpet"
           }
          ],
          "heatmap": [
           {
            "colorbar": {
             "outlinewidth": 0,
             "ticks": ""
            },
            "colorscale": [
             [
              0,
              "#0d0887"
             ],
             [
              0.1111111111111111,
              "#46039f"
             ],
             [
              0.2222222222222222,
              "#7201a8"
             ],
             [
              0.3333333333333333,
              "#9c179e"
             ],
             [
              0.4444444444444444,
              "#bd3786"
             ],
             [
              0.5555555555555556,
              "#d8576b"
             ],
             [
              0.6666666666666666,
              "#ed7953"
             ],
             [
              0.7777777777777778,
              "#fb9f3a"
             ],
             [
              0.8888888888888888,
              "#fdca26"
             ],
             [
              1,
              "#f0f921"
             ]
            ],
            "type": "heatmap"
           }
          ],
          "heatmapgl": [
           {
            "colorbar": {
             "outlinewidth": 0,
             "ticks": ""
            },
            "colorscale": [
             [
              0,
              "#0d0887"
             ],
             [
              0.1111111111111111,
              "#46039f"
             ],
             [
              0.2222222222222222,
              "#7201a8"
             ],
             [
              0.3333333333333333,
              "#9c179e"
             ],
             [
              0.4444444444444444,
              "#bd3786"
             ],
             [
              0.5555555555555556,
              "#d8576b"
             ],
             [
              0.6666666666666666,
              "#ed7953"
             ],
             [
              0.7777777777777778,
              "#fb9f3a"
             ],
             [
              0.8888888888888888,
              "#fdca26"
             ],
             [
              1,
              "#f0f921"
             ]
            ],
            "type": "heatmapgl"
           }
          ],
          "histogram": [
           {
            "marker": {
             "pattern": {
              "fillmode": "overlay",
              "size": 10,
              "solidity": 0.2
             }
            },
            "type": "histogram"
           }
          ],
          "histogram2d": [
           {
            "colorbar": {
             "outlinewidth": 0,
             "ticks": ""
            },
            "colorscale": [
             [
              0,
              "#0d0887"
             ],
             [
              0.1111111111111111,
              "#46039f"
             ],
             [
              0.2222222222222222,
              "#7201a8"
             ],
             [
              0.3333333333333333,
              "#9c179e"
             ],
             [
              0.4444444444444444,
              "#bd3786"
             ],
             [
              0.5555555555555556,
              "#d8576b"
             ],
             [
              0.6666666666666666,
              "#ed7953"
             ],
             [
              0.7777777777777778,
              "#fb9f3a"
             ],
             [
              0.8888888888888888,
              "#fdca26"
             ],
             [
              1,
              "#f0f921"
             ]
            ],
            "type": "histogram2d"
           }
          ],
          "histogram2dcontour": [
           {
            "colorbar": {
             "outlinewidth": 0,
             "ticks": ""
            },
            "colorscale": [
             [
              0,
              "#0d0887"
             ],
             [
              0.1111111111111111,
              "#46039f"
             ],
             [
              0.2222222222222222,
              "#7201a8"
             ],
             [
              0.3333333333333333,
              "#9c179e"
             ],
             [
              0.4444444444444444,
              "#bd3786"
             ],
             [
              0.5555555555555556,
              "#d8576b"
             ],
             [
              0.6666666666666666,
              "#ed7953"
             ],
             [
              0.7777777777777778,
              "#fb9f3a"
             ],
             [
              0.8888888888888888,
              "#fdca26"
             ],
             [
              1,
              "#f0f921"
             ]
            ],
            "type": "histogram2dcontour"
           }
          ],
          "mesh3d": [
           {
            "colorbar": {
             "outlinewidth": 0,
             "ticks": ""
            },
            "type": "mesh3d"
           }
          ],
          "parcoords": [
           {
            "line": {
             "colorbar": {
              "outlinewidth": 0,
              "ticks": ""
             }
            },
            "type": "parcoords"
           }
          ],
          "pie": [
           {
            "automargin": true,
            "type": "pie"
           }
          ],
          "scatter": [
           {
            "fillpattern": {
             "fillmode": "overlay",
             "size": 10,
             "solidity": 0.2
            },
            "type": "scatter"
           }
          ],
          "scatter3d": [
           {
            "line": {
             "colorbar": {
              "outlinewidth": 0,
              "ticks": ""
             }
            },
            "marker": {
             "colorbar": {
              "outlinewidth": 0,
              "ticks": ""
             }
            },
            "type": "scatter3d"
           }
          ],
          "scattercarpet": [
           {
            "marker": {
             "colorbar": {
              "outlinewidth": 0,
              "ticks": ""
             }
            },
            "type": "scattercarpet"
           }
          ],
          "scattergeo": [
           {
            "marker": {
             "colorbar": {
              "outlinewidth": 0,
              "ticks": ""
             }
            },
            "type": "scattergeo"
           }
          ],
          "scattergl": [
           {
            "marker": {
             "colorbar": {
              "outlinewidth": 0,
              "ticks": ""
             }
            },
            "type": "scattergl"
           }
          ],
          "scattermapbox": [
           {
            "marker": {
             "colorbar": {
              "outlinewidth": 0,
              "ticks": ""
             }
            },
            "type": "scattermapbox"
           }
          ],
          "scatterpolar": [
           {
            "marker": {
             "colorbar": {
              "outlinewidth": 0,
              "ticks": ""
             }
            },
            "type": "scatterpolar"
           }
          ],
          "scatterpolargl": [
           {
            "marker": {
             "colorbar": {
              "outlinewidth": 0,
              "ticks": ""
             }
            },
            "type": "scatterpolargl"
           }
          ],
          "scatterternary": [
           {
            "marker": {
             "colorbar": {
              "outlinewidth": 0,
              "ticks": ""
             }
            },
            "type": "scatterternary"
           }
          ],
          "surface": [
           {
            "colorbar": {
             "outlinewidth": 0,
             "ticks": ""
            },
            "colorscale": [
             [
              0,
              "#0d0887"
             ],
             [
              0.1111111111111111,
              "#46039f"
             ],
             [
              0.2222222222222222,
              "#7201a8"
             ],
             [
              0.3333333333333333,
              "#9c179e"
             ],
             [
              0.4444444444444444,
              "#bd3786"
             ],
             [
              0.5555555555555556,
              "#d8576b"
             ],
             [
              0.6666666666666666,
              "#ed7953"
             ],
             [
              0.7777777777777778,
              "#fb9f3a"
             ],
             [
              0.8888888888888888,
              "#fdca26"
             ],
             [
              1,
              "#f0f921"
             ]
            ],
            "type": "surface"
           }
          ],
          "table": [
           {
            "cells": {
             "fill": {
              "color": "#EBF0F8"
             },
             "line": {
              "color": "white"
             }
            },
            "header": {
             "fill": {
              "color": "#C8D4E3"
             },
             "line": {
              "color": "white"
             }
            },
            "type": "table"
           }
          ]
         },
         "layout": {
          "annotationdefaults": {
           "arrowcolor": "#2a3f5f",
           "arrowhead": 0,
           "arrowwidth": 1
          },
          "autotypenumbers": "strict",
          "coloraxis": {
           "colorbar": {
            "outlinewidth": 0,
            "ticks": ""
           }
          },
          "colorscale": {
           "diverging": [
            [
             0,
             "#8e0152"
            ],
            [
             0.1,
             "#c51b7d"
            ],
            [
             0.2,
             "#de77ae"
            ],
            [
             0.3,
             "#f1b6da"
            ],
            [
             0.4,
             "#fde0ef"
            ],
            [
             0.5,
             "#f7f7f7"
            ],
            [
             0.6,
             "#e6f5d0"
            ],
            [
             0.7,
             "#b8e186"
            ],
            [
             0.8,
             "#7fbc41"
            ],
            [
             0.9,
             "#4d9221"
            ],
            [
             1,
             "#276419"
            ]
           ],
           "sequential": [
            [
             0,
             "#0d0887"
            ],
            [
             0.1111111111111111,
             "#46039f"
            ],
            [
             0.2222222222222222,
             "#7201a8"
            ],
            [
             0.3333333333333333,
             "#9c179e"
            ],
            [
             0.4444444444444444,
             "#bd3786"
            ],
            [
             0.5555555555555556,
             "#d8576b"
            ],
            [
             0.6666666666666666,
             "#ed7953"
            ],
            [
             0.7777777777777778,
             "#fb9f3a"
            ],
            [
             0.8888888888888888,
             "#fdca26"
            ],
            [
             1,
             "#f0f921"
            ]
           ],
           "sequentialminus": [
            [
             0,
             "#0d0887"
            ],
            [
             0.1111111111111111,
             "#46039f"
            ],
            [
             0.2222222222222222,
             "#7201a8"
            ],
            [
             0.3333333333333333,
             "#9c179e"
            ],
            [
             0.4444444444444444,
             "#bd3786"
            ],
            [
             0.5555555555555556,
             "#d8576b"
            ],
            [
             0.6666666666666666,
             "#ed7953"
            ],
            [
             0.7777777777777778,
             "#fb9f3a"
            ],
            [
             0.8888888888888888,
             "#fdca26"
            ],
            [
             1,
             "#f0f921"
            ]
           ]
          },
          "colorway": [
           "#636efa",
           "#EF553B",
           "#00cc96",
           "#ab63fa",
           "#FFA15A",
           "#19d3f3",
           "#FF6692",
           "#B6E880",
           "#FF97FF",
           "#FECB52"
          ],
          "font": {
           "color": "#2a3f5f"
          },
          "geo": {
           "bgcolor": "white",
           "lakecolor": "white",
           "landcolor": "#E5ECF6",
           "showlakes": true,
           "showland": true,
           "subunitcolor": "white"
          },
          "hoverlabel": {
           "align": "left"
          },
          "hovermode": "closest",
          "mapbox": {
           "style": "light"
          },
          "paper_bgcolor": "white",
          "plot_bgcolor": "#E5ECF6",
          "polar": {
           "angularaxis": {
            "gridcolor": "white",
            "linecolor": "white",
            "ticks": ""
           },
           "bgcolor": "#E5ECF6",
           "radialaxis": {
            "gridcolor": "white",
            "linecolor": "white",
            "ticks": ""
           }
          },
          "scene": {
           "xaxis": {
            "backgroundcolor": "#E5ECF6",
            "gridcolor": "white",
            "gridwidth": 2,
            "linecolor": "white",
            "showbackground": true,
            "ticks": "",
            "zerolinecolor": "white"
           },
           "yaxis": {
            "backgroundcolor": "#E5ECF6",
            "gridcolor": "white",
            "gridwidth": 2,
            "linecolor": "white",
            "showbackground": true,
            "ticks": "",
            "zerolinecolor": "white"
           },
           "zaxis": {
            "backgroundcolor": "#E5ECF6",
            "gridcolor": "white",
            "gridwidth": 2,
            "linecolor": "white",
            "showbackground": true,
            "ticks": "",
            "zerolinecolor": "white"
           }
          },
          "shapedefaults": {
           "line": {
            "color": "#2a3f5f"
           }
          },
          "ternary": {
           "aaxis": {
            "gridcolor": "white",
            "linecolor": "white",
            "ticks": ""
           },
           "baxis": {
            "gridcolor": "white",
            "linecolor": "white",
            "ticks": ""
           },
           "bgcolor": "#E5ECF6",
           "caxis": {
            "gridcolor": "white",
            "linecolor": "white",
            "ticks": ""
           }
          },
          "title": {
           "x": 0.05
          },
          "xaxis": {
           "automargin": true,
           "gridcolor": "white",
           "linecolor": "white",
           "ticks": "",
           "title": {
            "standoff": 15
           },
           "zerolinecolor": "white",
           "zerolinewidth": 2
          },
          "yaxis": {
           "automargin": true,
           "gridcolor": "white",
           "linecolor": "white",
           "ticks": "",
           "title": {
            "standoff": 15
           },
           "zerolinecolor": "white",
           "zerolinewidth": 2
          }
         }
        },
        "title": {
         "text": "All Tracks vs Tracks that are 0 Instrumental"
        },
        "xaxis": {
         "title": {
          "text": "Album Release Year"
         }
        },
        "yaxis": {
         "title": {
          "text": "# of tracks"
         }
        }
       }
      },
      "text/html": [
       "<div>                            <div id=\"44793426-5659-4378-a256-09cfc4b8b58a\" class=\"plotly-graph-div\" style=\"height:525px; width:100%;\"></div>            <script type=\"text/javascript\">                require([\"plotly\"], function(Plotly) {                    window.PLOTLYENV=window.PLOTLYENV || {};                                    if (document.getElementById(\"44793426-5659-4378-a256-09cfc4b8b58a\")) {                    Plotly.newPlot(                        \"44793426-5659-4378-a256-09cfc4b8b58a\",                        [{\"name\":\"All\",\"offsetgroup\":\"0\",\"x\":[\"2017\",\"2018\",\"2019\",\"2021\",\"2020\",\"2022\",\"2016\",\"2014\",\"2013\",\"2015\",\"2008\",\"2005\",\"2009\",\"2007\",\"2012\",\"2006\",\"2003\",\"2004\",\"1999\",\"2001\",\"2011\",\"2002\",\"2010\",\"1995\",\"1991\",\"1998\",\"1978\",\"1986\",\"1965\",\"1967\",\"1990\",\"1971\",\"1989\",\"1993\",\"1992\",\"1975\",\"1979\",\"1988\"],\"y\":[79,67,64,63,57,51,50,25,25,21,20,16,16,16,15,13,11,10,9,8,7,7,5,3,2,2,2,2,1,1,1,1,1,1,1,1,1,1],\"type\":\"bar\"},{\"marker\":{\"color\":\"#204887\"},\"name\":\"Instrumental 0\",\"offsetgroup\":\"0\",\"text\":[37.0,25.0,35.0,31.0,34.0,27.0,24.0,12.0,6.0,7.0,12.0,14.0,10.0,10.0,7.0,9.0,9.0,5.0,6.0,5.0,4.0,6.0,3.0,2.0,1.0,0.0,2.0,1.0,1.0,1.0,1.0,0.0,1.0,0.0,1.0,0.0,1.0,1.0],\"x\":[\"2017\",\"2018\",\"2019\",\"2021\",\"2020\",\"2022\",\"2016\",\"2014\",\"2013\",\"2015\",\"2008\",\"2005\",\"2009\",\"2007\",\"2012\",\"2006\",\"2003\",\"2004\",\"1999\",\"2001\",\"2011\",\"2002\",\"2010\",\"1995\",\"1991\",\"1998\",\"1978\",\"1986\",\"1965\",\"1967\",\"1990\",\"1971\",\"1989\",\"1993\",\"1992\",\"1975\",\"1979\",\"1988\"],\"y\":[37,25,35,31,34,27,24,12,6,7,12,14,10,10,7,9,9,5,6,5,4,6,3,2,1,0,2,1,1,1,1,0,1,0,1,0,1,1],\"type\":\"bar\"}],                        {\"template\":{\"data\":{\"histogram2dcontour\":[{\"type\":\"histogram2dcontour\",\"colorbar\":{\"outlinewidth\":0,\"ticks\":\"\"},\"colorscale\":[[0.0,\"#0d0887\"],[0.1111111111111111,\"#46039f\"],[0.2222222222222222,\"#7201a8\"],[0.3333333333333333,\"#9c179e\"],[0.4444444444444444,\"#bd3786\"],[0.5555555555555556,\"#d8576b\"],[0.6666666666666666,\"#ed7953\"],[0.7777777777777778,\"#fb9f3a\"],[0.8888888888888888,\"#fdca26\"],[1.0,\"#f0f921\"]]}],\"choropleth\":[{\"type\":\"choropleth\",\"colorbar\":{\"outlinewidth\":0,\"ticks\":\"\"}}],\"histogram2d\":[{\"type\":\"histogram2d\",\"colorbar\":{\"outlinewidth\":0,\"ticks\":\"\"},\"colorscale\":[[0.0,\"#0d0887\"],[0.1111111111111111,\"#46039f\"],[0.2222222222222222,\"#7201a8\"],[0.3333333333333333,\"#9c179e\"],[0.4444444444444444,\"#bd3786\"],[0.5555555555555556,\"#d8576b\"],[0.6666666666666666,\"#ed7953\"],[0.7777777777777778,\"#fb9f3a\"],[0.8888888888888888,\"#fdca26\"],[1.0,\"#f0f921\"]]}],\"heatmap\":[{\"type\":\"heatmap\",\"colorbar\":{\"outlinewidth\":0,\"ticks\":\"\"},\"colorscale\":[[0.0,\"#0d0887\"],[0.1111111111111111,\"#46039f\"],[0.2222222222222222,\"#7201a8\"],[0.3333333333333333,\"#9c179e\"],[0.4444444444444444,\"#bd3786\"],[0.5555555555555556,\"#d8576b\"],[0.6666666666666666,\"#ed7953\"],[0.7777777777777778,\"#fb9f3a\"],[0.8888888888888888,\"#fdca26\"],[1.0,\"#f0f921\"]]}],\"heatmapgl\":[{\"type\":\"heatmapgl\",\"colorbar\":{\"outlinewidth\":0,\"ticks\":\"\"},\"colorscale\":[[0.0,\"#0d0887\"],[0.1111111111111111,\"#46039f\"],[0.2222222222222222,\"#7201a8\"],[0.3333333333333333,\"#9c179e\"],[0.4444444444444444,\"#bd3786\"],[0.5555555555555556,\"#d8576b\"],[0.6666666666666666,\"#ed7953\"],[0.7777777777777778,\"#fb9f3a\"],[0.8888888888888888,\"#fdca26\"],[1.0,\"#f0f921\"]]}],\"contourcarpet\":[{\"type\":\"contourcarpet\",\"colorbar\":{\"outlinewidth\":0,\"ticks\":\"\"}}],\"contour\":[{\"type\":\"contour\",\"colorbar\":{\"outlinewidth\":0,\"ticks\":\"\"},\"colorscale\":[[0.0,\"#0d0887\"],[0.1111111111111111,\"#46039f\"],[0.2222222222222222,\"#7201a8\"],[0.3333333333333333,\"#9c179e\"],[0.4444444444444444,\"#bd3786\"],[0.5555555555555556,\"#d8576b\"],[0.6666666666666666,\"#ed7953\"],[0.7777777777777778,\"#fb9f3a\"],[0.8888888888888888,\"#fdca26\"],[1.0,\"#f0f921\"]]}],\"surface\":[{\"type\":\"surface\",\"colorbar\":{\"outlinewidth\":0,\"ticks\":\"\"},\"colorscale\":[[0.0,\"#0d0887\"],[0.1111111111111111,\"#46039f\"],[0.2222222222222222,\"#7201a8\"],[0.3333333333333333,\"#9c179e\"],[0.4444444444444444,\"#bd3786\"],[0.5555555555555556,\"#d8576b\"],[0.6666666666666666,\"#ed7953\"],[0.7777777777777778,\"#fb9f3a\"],[0.8888888888888888,\"#fdca26\"],[1.0,\"#f0f921\"]]}],\"mesh3d\":[{\"type\":\"mesh3d\",\"colorbar\":{\"outlinewidth\":0,\"ticks\":\"\"}}],\"scatter\":[{\"fillpattern\":{\"fillmode\":\"overlay\",\"size\":10,\"solidity\":0.2},\"type\":\"scatter\"}],\"parcoords\":[{\"type\":\"parcoords\",\"line\":{\"colorbar\":{\"outlinewidth\":0,\"ticks\":\"\"}}}],\"scatterpolargl\":[{\"type\":\"scatterpolargl\",\"marker\":{\"colorbar\":{\"outlinewidth\":0,\"ticks\":\"\"}}}],\"bar\":[{\"error_x\":{\"color\":\"#2a3f5f\"},\"error_y\":{\"color\":\"#2a3f5f\"},\"marker\":{\"line\":{\"color\":\"#E5ECF6\",\"width\":0.5},\"pattern\":{\"fillmode\":\"overlay\",\"size\":10,\"solidity\":0.2}},\"type\":\"bar\"}],\"scattergeo\":[{\"type\":\"scattergeo\",\"marker\":{\"colorbar\":{\"outlinewidth\":0,\"ticks\":\"\"}}}],\"scatterpolar\":[{\"type\":\"scatterpolar\",\"marker\":{\"colorbar\":{\"outlinewidth\":0,\"ticks\":\"\"}}}],\"histogram\":[{\"marker\":{\"pattern\":{\"fillmode\":\"overlay\",\"size\":10,\"solidity\":0.2}},\"type\":\"histogram\"}],\"scattergl\":[{\"type\":\"scattergl\",\"marker\":{\"colorbar\":{\"outlinewidth\":0,\"ticks\":\"\"}}}],\"scatter3d\":[{\"type\":\"scatter3d\",\"line\":{\"colorbar\":{\"outlinewidth\":0,\"ticks\":\"\"}},\"marker\":{\"colorbar\":{\"outlinewidth\":0,\"ticks\":\"\"}}}],\"scattermapbox\":[{\"type\":\"scattermapbox\",\"marker\":{\"colorbar\":{\"outlinewidth\":0,\"ticks\":\"\"}}}],\"scatterternary\":[{\"type\":\"scatterternary\",\"marker\":{\"colorbar\":{\"outlinewidth\":0,\"ticks\":\"\"}}}],\"scattercarpet\":[{\"type\":\"scattercarpet\",\"marker\":{\"colorbar\":{\"outlinewidth\":0,\"ticks\":\"\"}}}],\"carpet\":[{\"aaxis\":{\"endlinecolor\":\"#2a3f5f\",\"gridcolor\":\"white\",\"linecolor\":\"white\",\"minorgridcolor\":\"white\",\"startlinecolor\":\"#2a3f5f\"},\"baxis\":{\"endlinecolor\":\"#2a3f5f\",\"gridcolor\":\"white\",\"linecolor\":\"white\",\"minorgridcolor\":\"white\",\"startlinecolor\":\"#2a3f5f\"},\"type\":\"carpet\"}],\"table\":[{\"cells\":{\"fill\":{\"color\":\"#EBF0F8\"},\"line\":{\"color\":\"white\"}},\"header\":{\"fill\":{\"color\":\"#C8D4E3\"},\"line\":{\"color\":\"white\"}},\"type\":\"table\"}],\"barpolar\":[{\"marker\":{\"line\":{\"color\":\"#E5ECF6\",\"width\":0.5},\"pattern\":{\"fillmode\":\"overlay\",\"size\":10,\"solidity\":0.2}},\"type\":\"barpolar\"}],\"pie\":[{\"automargin\":true,\"type\":\"pie\"}]},\"layout\":{\"autotypenumbers\":\"strict\",\"colorway\":[\"#636efa\",\"#EF553B\",\"#00cc96\",\"#ab63fa\",\"#FFA15A\",\"#19d3f3\",\"#FF6692\",\"#B6E880\",\"#FF97FF\",\"#FECB52\"],\"font\":{\"color\":\"#2a3f5f\"},\"hovermode\":\"closest\",\"hoverlabel\":{\"align\":\"left\"},\"paper_bgcolor\":\"white\",\"plot_bgcolor\":\"#E5ECF6\",\"polar\":{\"bgcolor\":\"#E5ECF6\",\"angularaxis\":{\"gridcolor\":\"white\",\"linecolor\":\"white\",\"ticks\":\"\"},\"radialaxis\":{\"gridcolor\":\"white\",\"linecolor\":\"white\",\"ticks\":\"\"}},\"ternary\":{\"bgcolor\":\"#E5ECF6\",\"aaxis\":{\"gridcolor\":\"white\",\"linecolor\":\"white\",\"ticks\":\"\"},\"baxis\":{\"gridcolor\":\"white\",\"linecolor\":\"white\",\"ticks\":\"\"},\"caxis\":{\"gridcolor\":\"white\",\"linecolor\":\"white\",\"ticks\":\"\"}},\"coloraxis\":{\"colorbar\":{\"outlinewidth\":0,\"ticks\":\"\"}},\"colorscale\":{\"sequential\":[[0.0,\"#0d0887\"],[0.1111111111111111,\"#46039f\"],[0.2222222222222222,\"#7201a8\"],[0.3333333333333333,\"#9c179e\"],[0.4444444444444444,\"#bd3786\"],[0.5555555555555556,\"#d8576b\"],[0.6666666666666666,\"#ed7953\"],[0.7777777777777778,\"#fb9f3a\"],[0.8888888888888888,\"#fdca26\"],[1.0,\"#f0f921\"]],\"sequentialminus\":[[0.0,\"#0d0887\"],[0.1111111111111111,\"#46039f\"],[0.2222222222222222,\"#7201a8\"],[0.3333333333333333,\"#9c179e\"],[0.4444444444444444,\"#bd3786\"],[0.5555555555555556,\"#d8576b\"],[0.6666666666666666,\"#ed7953\"],[0.7777777777777778,\"#fb9f3a\"],[0.8888888888888888,\"#fdca26\"],[1.0,\"#f0f921\"]],\"diverging\":[[0,\"#8e0152\"],[0.1,\"#c51b7d\"],[0.2,\"#de77ae\"],[0.3,\"#f1b6da\"],[0.4,\"#fde0ef\"],[0.5,\"#f7f7f7\"],[0.6,\"#e6f5d0\"],[0.7,\"#b8e186\"],[0.8,\"#7fbc41\"],[0.9,\"#4d9221\"],[1,\"#276419\"]]},\"xaxis\":{\"gridcolor\":\"white\",\"linecolor\":\"white\",\"ticks\":\"\",\"title\":{\"standoff\":15},\"zerolinecolor\":\"white\",\"automargin\":true,\"zerolinewidth\":2},\"yaxis\":{\"gridcolor\":\"white\",\"linecolor\":\"white\",\"ticks\":\"\",\"title\":{\"standoff\":15},\"zerolinecolor\":\"white\",\"automargin\":true,\"zerolinewidth\":2},\"scene\":{\"xaxis\":{\"backgroundcolor\":\"#E5ECF6\",\"gridcolor\":\"white\",\"linecolor\":\"white\",\"showbackground\":true,\"ticks\":\"\",\"zerolinecolor\":\"white\",\"gridwidth\":2},\"yaxis\":{\"backgroundcolor\":\"#E5ECF6\",\"gridcolor\":\"white\",\"linecolor\":\"white\",\"showbackground\":true,\"ticks\":\"\",\"zerolinecolor\":\"white\",\"gridwidth\":2},\"zaxis\":{\"backgroundcolor\":\"#E5ECF6\",\"gridcolor\":\"white\",\"linecolor\":\"white\",\"showbackground\":true,\"ticks\":\"\",\"zerolinecolor\":\"white\",\"gridwidth\":2}},\"shapedefaults\":{\"line\":{\"color\":\"#2a3f5f\"}},\"annotationdefaults\":{\"arrowcolor\":\"#2a3f5f\",\"arrowhead\":0,\"arrowwidth\":1},\"geo\":{\"bgcolor\":\"white\",\"landcolor\":\"#E5ECF6\",\"subunitcolor\":\"white\",\"showland\":true,\"showlakes\":true,\"lakecolor\":\"white\"},\"title\":{\"x\":0.05},\"mapbox\":{\"style\":\"light\"}}},\"title\":{\"text\":\"All Tracks vs Tracks that are 0 Instrumental\"},\"margin\":{\"l\":100,\"r\":150,\"t\":100,\"b\":20},\"yaxis\":{\"title\":{\"text\":\"# of tracks\"}},\"xaxis\":{\"title\":{\"text\":\"Album Release Year\"}},\"paper_bgcolor\":\"LightSteelBlue\"},                        {\"responsive\": true}                    ).then(function(){\n",
       "                            \n",
       "var gd = document.getElementById('44793426-5659-4378-a256-09cfc4b8b58a');\n",
       "var x = new MutationObserver(function (mutations, observer) {{\n",
       "        var display = window.getComputedStyle(gd).display;\n",
       "        if (!display || display === 'none') {{\n",
       "            console.log([gd, 'removed!']);\n",
       "            Plotly.purge(gd);\n",
       "            observer.disconnect();\n",
       "        }}\n",
       "}});\n",
       "\n",
       "// Listen for the removal of the full notebook cells\n",
       "var notebookContainer = gd.closest('#notebook-container');\n",
       "if (notebookContainer) {{\n",
       "    x.observe(notebookContainer, {childList: true});\n",
       "}}\n",
       "\n",
       "// Listen for the clearing of the current output cell\n",
       "var outputEl = gd.closest('.output');\n",
       "if (outputEl) {{\n",
       "    x.observe(outputEl, {childList: true});\n",
       "}}\n",
       "\n",
       "                        })                };                });            </script>        </div>"
      ]
     },
     "metadata": {},
     "output_type": "display_data"
    }
   ],
   "source": [
    "# Tracks with 0 Instrumental vs all Tracks by Release Year\n",
    "d1, d2 = playlist.Album_Date.dt.strftime(\"%Y\").value_counts(), playlist[playlist.Instrumental==0].Album_Date.dt.strftime(\"%Y\").value_counts()\n",
    "vals = []\n",
    "for k in d1.keys():\n",
    "    if k in d2.keys():\n",
    "        vals.append(d2[k])\n",
    "    else:\n",
    "        vals.append(0)\n",
    "d1keys = d1.keys()\n",
    "t = pd.DataFrame({'Year':d1keys,'All':d1.values,'instrumentalzero':vals})\n",
    "\n",
    "fig = go.Figure()\n",
    "\n",
    "fig.add_trace(go.Bar(name='All',x=t.Year, y=t.All, offsetgroup=0))\n",
    "fig.add_trace(go.Bar(name='Instrumental 0',x=t.Year, y=t.instrumentalzero, offsetgroup=0, text=t.instrumentalzero, marker_color = '#204887'))\n",
    "fig.update_layout(title_text=\"All Tracks vs Tracks that are 0 Instrumental\",\n",
    "                  yaxis_title='# of tracks',\n",
    "                  xaxis_title='Album Release Year',\n",
    "                  paper_bgcolor=\"LightSteelBlue\",\n",
    "                  margin=dict(l=100, r=150, t=100, b=20)\n",
    ")"
   ]
  },
  {
   "attachments": {},
   "cell_type": "markdown",
   "metadata": {},
   "source": [
    "The above chart shows the release year of tracks and the ratio of tracks that have singing majority i.e. instrumental = 0 vs all tracks. It's almost an even split between the two i.e. there's a good collection of tracks with musical content. Also from the chart, you can see that tracks that came out in 2017 have the highest count. I think 2017 was a great year of music and definitely gave us a lot of artists that continued to release good music over the years.\n",
    "\n",
    "The chart below compares the same but based on the year the track was added to the playlist. Once again, the split is pretty even i.e. half the tracks have vocal majority but the other half has some musical content. Interesting thing to note here is that I added more tracks on 2021 & 2022, but most of those tracks are from the 2017 - 2022 period."
   ]
  },
  {
   "cell_type": "code",
   "execution_count": 66,
   "metadata": {},
   "outputs": [
    {
     "data": {
      "application/vnd.plotly.v1+json": {
       "config": {
        "plotlyServerURL": "https://plot.ly"
       },
       "data": [
        {
         "name": "All",
         "offsetgroup": "0",
         "type": "bar",
         "x": [
          "2019",
          "2020",
          "2021",
          "2022",
          "2023"
         ],
         "y": [
          52,
          43,
          231,
          308,
          41
         ]
        },
        {
         "marker": {
          "color": "#204887"
         },
         "name": "Instrumental 0",
         "offsetgroup": "0",
         "text": [
          23,
          21,
          133,
          149,
          25
         ],
         "type": "bar",
         "x": [
          "2019",
          "2020",
          "2021",
          "2022",
          "2023"
         ],
         "y": [
          23,
          21,
          133,
          149,
          25
         ]
        }
       ],
       "layout": {
        "margin": {
         "b": 20,
         "l": 100,
         "r": 150,
         "t": 100
        },
        "paper_bgcolor": "LightSteelBlue",
        "template": {
         "data": {
          "bar": [
           {
            "error_x": {
             "color": "#2a3f5f"
            },
            "error_y": {
             "color": "#2a3f5f"
            },
            "marker": {
             "line": {
              "color": "#E5ECF6",
              "width": 0.5
             },
             "pattern": {
              "fillmode": "overlay",
              "size": 10,
              "solidity": 0.2
             }
            },
            "type": "bar"
           }
          ],
          "barpolar": [
           {
            "marker": {
             "line": {
              "color": "#E5ECF6",
              "width": 0.5
             },
             "pattern": {
              "fillmode": "overlay",
              "size": 10,
              "solidity": 0.2
             }
            },
            "type": "barpolar"
           }
          ],
          "carpet": [
           {
            "aaxis": {
             "endlinecolor": "#2a3f5f",
             "gridcolor": "white",
             "linecolor": "white",
             "minorgridcolor": "white",
             "startlinecolor": "#2a3f5f"
            },
            "baxis": {
             "endlinecolor": "#2a3f5f",
             "gridcolor": "white",
             "linecolor": "white",
             "minorgridcolor": "white",
             "startlinecolor": "#2a3f5f"
            },
            "type": "carpet"
           }
          ],
          "choropleth": [
           {
            "colorbar": {
             "outlinewidth": 0,
             "ticks": ""
            },
            "type": "choropleth"
           }
          ],
          "contour": [
           {
            "colorbar": {
             "outlinewidth": 0,
             "ticks": ""
            },
            "colorscale": [
             [
              0,
              "#0d0887"
             ],
             [
              0.1111111111111111,
              "#46039f"
             ],
             [
              0.2222222222222222,
              "#7201a8"
             ],
             [
              0.3333333333333333,
              "#9c179e"
             ],
             [
              0.4444444444444444,
              "#bd3786"
             ],
             [
              0.5555555555555556,
              "#d8576b"
             ],
             [
              0.6666666666666666,
              "#ed7953"
             ],
             [
              0.7777777777777778,
              "#fb9f3a"
             ],
             [
              0.8888888888888888,
              "#fdca26"
             ],
             [
              1,
              "#f0f921"
             ]
            ],
            "type": "contour"
           }
          ],
          "contourcarpet": [
           {
            "colorbar": {
             "outlinewidth": 0,
             "ticks": ""
            },
            "type": "contourcarpet"
           }
          ],
          "heatmap": [
           {
            "colorbar": {
             "outlinewidth": 0,
             "ticks": ""
            },
            "colorscale": [
             [
              0,
              "#0d0887"
             ],
             [
              0.1111111111111111,
              "#46039f"
             ],
             [
              0.2222222222222222,
              "#7201a8"
             ],
             [
              0.3333333333333333,
              "#9c179e"
             ],
             [
              0.4444444444444444,
              "#bd3786"
             ],
             [
              0.5555555555555556,
              "#d8576b"
             ],
             [
              0.6666666666666666,
              "#ed7953"
             ],
             [
              0.7777777777777778,
              "#fb9f3a"
             ],
             [
              0.8888888888888888,
              "#fdca26"
             ],
             [
              1,
              "#f0f921"
             ]
            ],
            "type": "heatmap"
           }
          ],
          "heatmapgl": [
           {
            "colorbar": {
             "outlinewidth": 0,
             "ticks": ""
            },
            "colorscale": [
             [
              0,
              "#0d0887"
             ],
             [
              0.1111111111111111,
              "#46039f"
             ],
             [
              0.2222222222222222,
              "#7201a8"
             ],
             [
              0.3333333333333333,
              "#9c179e"
             ],
             [
              0.4444444444444444,
              "#bd3786"
             ],
             [
              0.5555555555555556,
              "#d8576b"
             ],
             [
              0.6666666666666666,
              "#ed7953"
             ],
             [
              0.7777777777777778,
              "#fb9f3a"
             ],
             [
              0.8888888888888888,
              "#fdca26"
             ],
             [
              1,
              "#f0f921"
             ]
            ],
            "type": "heatmapgl"
           }
          ],
          "histogram": [
           {
            "marker": {
             "pattern": {
              "fillmode": "overlay",
              "size": 10,
              "solidity": 0.2
             }
            },
            "type": "histogram"
           }
          ],
          "histogram2d": [
           {
            "colorbar": {
             "outlinewidth": 0,
             "ticks": ""
            },
            "colorscale": [
             [
              0,
              "#0d0887"
             ],
             [
              0.1111111111111111,
              "#46039f"
             ],
             [
              0.2222222222222222,
              "#7201a8"
             ],
             [
              0.3333333333333333,
              "#9c179e"
             ],
             [
              0.4444444444444444,
              "#bd3786"
             ],
             [
              0.5555555555555556,
              "#d8576b"
             ],
             [
              0.6666666666666666,
              "#ed7953"
             ],
             [
              0.7777777777777778,
              "#fb9f3a"
             ],
             [
              0.8888888888888888,
              "#fdca26"
             ],
             [
              1,
              "#f0f921"
             ]
            ],
            "type": "histogram2d"
           }
          ],
          "histogram2dcontour": [
           {
            "colorbar": {
             "outlinewidth": 0,
             "ticks": ""
            },
            "colorscale": [
             [
              0,
              "#0d0887"
             ],
             [
              0.1111111111111111,
              "#46039f"
             ],
             [
              0.2222222222222222,
              "#7201a8"
             ],
             [
              0.3333333333333333,
              "#9c179e"
             ],
             [
              0.4444444444444444,
              "#bd3786"
             ],
             [
              0.5555555555555556,
              "#d8576b"
             ],
             [
              0.6666666666666666,
              "#ed7953"
             ],
             [
              0.7777777777777778,
              "#fb9f3a"
             ],
             [
              0.8888888888888888,
              "#fdca26"
             ],
             [
              1,
              "#f0f921"
             ]
            ],
            "type": "histogram2dcontour"
           }
          ],
          "mesh3d": [
           {
            "colorbar": {
             "outlinewidth": 0,
             "ticks": ""
            },
            "type": "mesh3d"
           }
          ],
          "parcoords": [
           {
            "line": {
             "colorbar": {
              "outlinewidth": 0,
              "ticks": ""
             }
            },
            "type": "parcoords"
           }
          ],
          "pie": [
           {
            "automargin": true,
            "type": "pie"
           }
          ],
          "scatter": [
           {
            "fillpattern": {
             "fillmode": "overlay",
             "size": 10,
             "solidity": 0.2
            },
            "type": "scatter"
           }
          ],
          "scatter3d": [
           {
            "line": {
             "colorbar": {
              "outlinewidth": 0,
              "ticks": ""
             }
            },
            "marker": {
             "colorbar": {
              "outlinewidth": 0,
              "ticks": ""
             }
            },
            "type": "scatter3d"
           }
          ],
          "scattercarpet": [
           {
            "marker": {
             "colorbar": {
              "outlinewidth": 0,
              "ticks": ""
             }
            },
            "type": "scattercarpet"
           }
          ],
          "scattergeo": [
           {
            "marker": {
             "colorbar": {
              "outlinewidth": 0,
              "ticks": ""
             }
            },
            "type": "scattergeo"
           }
          ],
          "scattergl": [
           {
            "marker": {
             "colorbar": {
              "outlinewidth": 0,
              "ticks": ""
             }
            },
            "type": "scattergl"
           }
          ],
          "scattermapbox": [
           {
            "marker": {
             "colorbar": {
              "outlinewidth": 0,
              "ticks": ""
             }
            },
            "type": "scattermapbox"
           }
          ],
          "scatterpolar": [
           {
            "marker": {
             "colorbar": {
              "outlinewidth": 0,
              "ticks": ""
             }
            },
            "type": "scatterpolar"
           }
          ],
          "scatterpolargl": [
           {
            "marker": {
             "colorbar": {
              "outlinewidth": 0,
              "ticks": ""
             }
            },
            "type": "scatterpolargl"
           }
          ],
          "scatterternary": [
           {
            "marker": {
             "colorbar": {
              "outlinewidth": 0,
              "ticks": ""
             }
            },
            "type": "scatterternary"
           }
          ],
          "surface": [
           {
            "colorbar": {
             "outlinewidth": 0,
             "ticks": ""
            },
            "colorscale": [
             [
              0,
              "#0d0887"
             ],
             [
              0.1111111111111111,
              "#46039f"
             ],
             [
              0.2222222222222222,
              "#7201a8"
             ],
             [
              0.3333333333333333,
              "#9c179e"
             ],
             [
              0.4444444444444444,
              "#bd3786"
             ],
             [
              0.5555555555555556,
              "#d8576b"
             ],
             [
              0.6666666666666666,
              "#ed7953"
             ],
             [
              0.7777777777777778,
              "#fb9f3a"
             ],
             [
              0.8888888888888888,
              "#fdca26"
             ],
             [
              1,
              "#f0f921"
             ]
            ],
            "type": "surface"
           }
          ],
          "table": [
           {
            "cells": {
             "fill": {
              "color": "#EBF0F8"
             },
             "line": {
              "color": "white"
             }
            },
            "header": {
             "fill": {
              "color": "#C8D4E3"
             },
             "line": {
              "color": "white"
             }
            },
            "type": "table"
           }
          ]
         },
         "layout": {
          "annotationdefaults": {
           "arrowcolor": "#2a3f5f",
           "arrowhead": 0,
           "arrowwidth": 1
          },
          "autotypenumbers": "strict",
          "coloraxis": {
           "colorbar": {
            "outlinewidth": 0,
            "ticks": ""
           }
          },
          "colorscale": {
           "diverging": [
            [
             0,
             "#8e0152"
            ],
            [
             0.1,
             "#c51b7d"
            ],
            [
             0.2,
             "#de77ae"
            ],
            [
             0.3,
             "#f1b6da"
            ],
            [
             0.4,
             "#fde0ef"
            ],
            [
             0.5,
             "#f7f7f7"
            ],
            [
             0.6,
             "#e6f5d0"
            ],
            [
             0.7,
             "#b8e186"
            ],
            [
             0.8,
             "#7fbc41"
            ],
            [
             0.9,
             "#4d9221"
            ],
            [
             1,
             "#276419"
            ]
           ],
           "sequential": [
            [
             0,
             "#0d0887"
            ],
            [
             0.1111111111111111,
             "#46039f"
            ],
            [
             0.2222222222222222,
             "#7201a8"
            ],
            [
             0.3333333333333333,
             "#9c179e"
            ],
            [
             0.4444444444444444,
             "#bd3786"
            ],
            [
             0.5555555555555556,
             "#d8576b"
            ],
            [
             0.6666666666666666,
             "#ed7953"
            ],
            [
             0.7777777777777778,
             "#fb9f3a"
            ],
            [
             0.8888888888888888,
             "#fdca26"
            ],
            [
             1,
             "#f0f921"
            ]
           ],
           "sequentialminus": [
            [
             0,
             "#0d0887"
            ],
            [
             0.1111111111111111,
             "#46039f"
            ],
            [
             0.2222222222222222,
             "#7201a8"
            ],
            [
             0.3333333333333333,
             "#9c179e"
            ],
            [
             0.4444444444444444,
             "#bd3786"
            ],
            [
             0.5555555555555556,
             "#d8576b"
            ],
            [
             0.6666666666666666,
             "#ed7953"
            ],
            [
             0.7777777777777778,
             "#fb9f3a"
            ],
            [
             0.8888888888888888,
             "#fdca26"
            ],
            [
             1,
             "#f0f921"
            ]
           ]
          },
          "colorway": [
           "#636efa",
           "#EF553B",
           "#00cc96",
           "#ab63fa",
           "#FFA15A",
           "#19d3f3",
           "#FF6692",
           "#B6E880",
           "#FF97FF",
           "#FECB52"
          ],
          "font": {
           "color": "#2a3f5f"
          },
          "geo": {
           "bgcolor": "white",
           "lakecolor": "white",
           "landcolor": "#E5ECF6",
           "showlakes": true,
           "showland": true,
           "subunitcolor": "white"
          },
          "hoverlabel": {
           "align": "left"
          },
          "hovermode": "closest",
          "mapbox": {
           "style": "light"
          },
          "paper_bgcolor": "white",
          "plot_bgcolor": "#E5ECF6",
          "polar": {
           "angularaxis": {
            "gridcolor": "white",
            "linecolor": "white",
            "ticks": ""
           },
           "bgcolor": "#E5ECF6",
           "radialaxis": {
            "gridcolor": "white",
            "linecolor": "white",
            "ticks": ""
           }
          },
          "scene": {
           "xaxis": {
            "backgroundcolor": "#E5ECF6",
            "gridcolor": "white",
            "gridwidth": 2,
            "linecolor": "white",
            "showbackground": true,
            "ticks": "",
            "zerolinecolor": "white"
           },
           "yaxis": {
            "backgroundcolor": "#E5ECF6",
            "gridcolor": "white",
            "gridwidth": 2,
            "linecolor": "white",
            "showbackground": true,
            "ticks": "",
            "zerolinecolor": "white"
           },
           "zaxis": {
            "backgroundcolor": "#E5ECF6",
            "gridcolor": "white",
            "gridwidth": 2,
            "linecolor": "white",
            "showbackground": true,
            "ticks": "",
            "zerolinecolor": "white"
           }
          },
          "shapedefaults": {
           "line": {
            "color": "#2a3f5f"
           }
          },
          "ternary": {
           "aaxis": {
            "gridcolor": "white",
            "linecolor": "white",
            "ticks": ""
           },
           "baxis": {
            "gridcolor": "white",
            "linecolor": "white",
            "ticks": ""
           },
           "bgcolor": "#E5ECF6",
           "caxis": {
            "gridcolor": "white",
            "linecolor": "white",
            "ticks": ""
           }
          },
          "title": {
           "x": 0.05
          },
          "xaxis": {
           "automargin": true,
           "gridcolor": "white",
           "linecolor": "white",
           "ticks": "",
           "title": {
            "standoff": 15
           },
           "zerolinecolor": "white",
           "zerolinewidth": 2
          },
          "yaxis": {
           "automargin": true,
           "gridcolor": "white",
           "linecolor": "white",
           "ticks": "",
           "title": {
            "standoff": 15
           },
           "zerolinecolor": "white",
           "zerolinewidth": 2
          }
         }
        },
        "title": {
         "text": "Total Tracks vs Tracks that are 0 Instrumental"
        },
        "xaxis": {
         "title": {
          "text": "Year track was added to playlist"
         }
        },
        "yaxis": {
         "title": {
          "text": "# of tracks"
         }
        }
       }
      },
      "text/html": [
       "<div>                            <div id=\"44c32a56-48e2-4028-ad25-773383520350\" class=\"plotly-graph-div\" style=\"height:525px; width:100%;\"></div>            <script type=\"text/javascript\">                require([\"plotly\"], function(Plotly) {                    window.PLOTLYENV=window.PLOTLYENV || {};                                    if (document.getElementById(\"44c32a56-48e2-4028-ad25-773383520350\")) {                    Plotly.newPlot(                        \"44c32a56-48e2-4028-ad25-773383520350\",                        [{\"name\":\"All\",\"offsetgroup\":\"0\",\"x\":[\"2019\",\"2020\",\"2021\",\"2022\",\"2023\"],\"y\":[52,43,231,308,41],\"type\":\"bar\"},{\"marker\":{\"color\":\"#204887\"},\"name\":\"Instrumental 0\",\"offsetgroup\":\"0\",\"text\":[23.0,21.0,133.0,149.0,25.0],\"x\":[\"2019\",\"2020\",\"2021\",\"2022\",\"2023\"],\"y\":[23,21,133,149,25],\"type\":\"bar\"}],                        {\"template\":{\"data\":{\"histogram2dcontour\":[{\"type\":\"histogram2dcontour\",\"colorbar\":{\"outlinewidth\":0,\"ticks\":\"\"},\"colorscale\":[[0.0,\"#0d0887\"],[0.1111111111111111,\"#46039f\"],[0.2222222222222222,\"#7201a8\"],[0.3333333333333333,\"#9c179e\"],[0.4444444444444444,\"#bd3786\"],[0.5555555555555556,\"#d8576b\"],[0.6666666666666666,\"#ed7953\"],[0.7777777777777778,\"#fb9f3a\"],[0.8888888888888888,\"#fdca26\"],[1.0,\"#f0f921\"]]}],\"choropleth\":[{\"type\":\"choropleth\",\"colorbar\":{\"outlinewidth\":0,\"ticks\":\"\"}}],\"histogram2d\":[{\"type\":\"histogram2d\",\"colorbar\":{\"outlinewidth\":0,\"ticks\":\"\"},\"colorscale\":[[0.0,\"#0d0887\"],[0.1111111111111111,\"#46039f\"],[0.2222222222222222,\"#7201a8\"],[0.3333333333333333,\"#9c179e\"],[0.4444444444444444,\"#bd3786\"],[0.5555555555555556,\"#d8576b\"],[0.6666666666666666,\"#ed7953\"],[0.7777777777777778,\"#fb9f3a\"],[0.8888888888888888,\"#fdca26\"],[1.0,\"#f0f921\"]]}],\"heatmap\":[{\"type\":\"heatmap\",\"colorbar\":{\"outlinewidth\":0,\"ticks\":\"\"},\"colorscale\":[[0.0,\"#0d0887\"],[0.1111111111111111,\"#46039f\"],[0.2222222222222222,\"#7201a8\"],[0.3333333333333333,\"#9c179e\"],[0.4444444444444444,\"#bd3786\"],[0.5555555555555556,\"#d8576b\"],[0.6666666666666666,\"#ed7953\"],[0.7777777777777778,\"#fb9f3a\"],[0.8888888888888888,\"#fdca26\"],[1.0,\"#f0f921\"]]}],\"heatmapgl\":[{\"type\":\"heatmapgl\",\"colorbar\":{\"outlinewidth\":0,\"ticks\":\"\"},\"colorscale\":[[0.0,\"#0d0887\"],[0.1111111111111111,\"#46039f\"],[0.2222222222222222,\"#7201a8\"],[0.3333333333333333,\"#9c179e\"],[0.4444444444444444,\"#bd3786\"],[0.5555555555555556,\"#d8576b\"],[0.6666666666666666,\"#ed7953\"],[0.7777777777777778,\"#fb9f3a\"],[0.8888888888888888,\"#fdca26\"],[1.0,\"#f0f921\"]]}],\"contourcarpet\":[{\"type\":\"contourcarpet\",\"colorbar\":{\"outlinewidth\":0,\"ticks\":\"\"}}],\"contour\":[{\"type\":\"contour\",\"colorbar\":{\"outlinewidth\":0,\"ticks\":\"\"},\"colorscale\":[[0.0,\"#0d0887\"],[0.1111111111111111,\"#46039f\"],[0.2222222222222222,\"#7201a8\"],[0.3333333333333333,\"#9c179e\"],[0.4444444444444444,\"#bd3786\"],[0.5555555555555556,\"#d8576b\"],[0.6666666666666666,\"#ed7953\"],[0.7777777777777778,\"#fb9f3a\"],[0.8888888888888888,\"#fdca26\"],[1.0,\"#f0f921\"]]}],\"surface\":[{\"type\":\"surface\",\"colorbar\":{\"outlinewidth\":0,\"ticks\":\"\"},\"colorscale\":[[0.0,\"#0d0887\"],[0.1111111111111111,\"#46039f\"],[0.2222222222222222,\"#7201a8\"],[0.3333333333333333,\"#9c179e\"],[0.4444444444444444,\"#bd3786\"],[0.5555555555555556,\"#d8576b\"],[0.6666666666666666,\"#ed7953\"],[0.7777777777777778,\"#fb9f3a\"],[0.8888888888888888,\"#fdca26\"],[1.0,\"#f0f921\"]]}],\"mesh3d\":[{\"type\":\"mesh3d\",\"colorbar\":{\"outlinewidth\":0,\"ticks\":\"\"}}],\"scatter\":[{\"fillpattern\":{\"fillmode\":\"overlay\",\"size\":10,\"solidity\":0.2},\"type\":\"scatter\"}],\"parcoords\":[{\"type\":\"parcoords\",\"line\":{\"colorbar\":{\"outlinewidth\":0,\"ticks\":\"\"}}}],\"scatterpolargl\":[{\"type\":\"scatterpolargl\",\"marker\":{\"colorbar\":{\"outlinewidth\":0,\"ticks\":\"\"}}}],\"bar\":[{\"error_x\":{\"color\":\"#2a3f5f\"},\"error_y\":{\"color\":\"#2a3f5f\"},\"marker\":{\"line\":{\"color\":\"#E5ECF6\",\"width\":0.5},\"pattern\":{\"fillmode\":\"overlay\",\"size\":10,\"solidity\":0.2}},\"type\":\"bar\"}],\"scattergeo\":[{\"type\":\"scattergeo\",\"marker\":{\"colorbar\":{\"outlinewidth\":0,\"ticks\":\"\"}}}],\"scatterpolar\":[{\"type\":\"scatterpolar\",\"marker\":{\"colorbar\":{\"outlinewidth\":0,\"ticks\":\"\"}}}],\"histogram\":[{\"marker\":{\"pattern\":{\"fillmode\":\"overlay\",\"size\":10,\"solidity\":0.2}},\"type\":\"histogram\"}],\"scattergl\":[{\"type\":\"scattergl\",\"marker\":{\"colorbar\":{\"outlinewidth\":0,\"ticks\":\"\"}}}],\"scatter3d\":[{\"type\":\"scatter3d\",\"line\":{\"colorbar\":{\"outlinewidth\":0,\"ticks\":\"\"}},\"marker\":{\"colorbar\":{\"outlinewidth\":0,\"ticks\":\"\"}}}],\"scattermapbox\":[{\"type\":\"scattermapbox\",\"marker\":{\"colorbar\":{\"outlinewidth\":0,\"ticks\":\"\"}}}],\"scatterternary\":[{\"type\":\"scatterternary\",\"marker\":{\"colorbar\":{\"outlinewidth\":0,\"ticks\":\"\"}}}],\"scattercarpet\":[{\"type\":\"scattercarpet\",\"marker\":{\"colorbar\":{\"outlinewidth\":0,\"ticks\":\"\"}}}],\"carpet\":[{\"aaxis\":{\"endlinecolor\":\"#2a3f5f\",\"gridcolor\":\"white\",\"linecolor\":\"white\",\"minorgridcolor\":\"white\",\"startlinecolor\":\"#2a3f5f\"},\"baxis\":{\"endlinecolor\":\"#2a3f5f\",\"gridcolor\":\"white\",\"linecolor\":\"white\",\"minorgridcolor\":\"white\",\"startlinecolor\":\"#2a3f5f\"},\"type\":\"carpet\"}],\"table\":[{\"cells\":{\"fill\":{\"color\":\"#EBF0F8\"},\"line\":{\"color\":\"white\"}},\"header\":{\"fill\":{\"color\":\"#C8D4E3\"},\"line\":{\"color\":\"white\"}},\"type\":\"table\"}],\"barpolar\":[{\"marker\":{\"line\":{\"color\":\"#E5ECF6\",\"width\":0.5},\"pattern\":{\"fillmode\":\"overlay\",\"size\":10,\"solidity\":0.2}},\"type\":\"barpolar\"}],\"pie\":[{\"automargin\":true,\"type\":\"pie\"}]},\"layout\":{\"autotypenumbers\":\"strict\",\"colorway\":[\"#636efa\",\"#EF553B\",\"#00cc96\",\"#ab63fa\",\"#FFA15A\",\"#19d3f3\",\"#FF6692\",\"#B6E880\",\"#FF97FF\",\"#FECB52\"],\"font\":{\"color\":\"#2a3f5f\"},\"hovermode\":\"closest\",\"hoverlabel\":{\"align\":\"left\"},\"paper_bgcolor\":\"white\",\"plot_bgcolor\":\"#E5ECF6\",\"polar\":{\"bgcolor\":\"#E5ECF6\",\"angularaxis\":{\"gridcolor\":\"white\",\"linecolor\":\"white\",\"ticks\":\"\"},\"radialaxis\":{\"gridcolor\":\"white\",\"linecolor\":\"white\",\"ticks\":\"\"}},\"ternary\":{\"bgcolor\":\"#E5ECF6\",\"aaxis\":{\"gridcolor\":\"white\",\"linecolor\":\"white\",\"ticks\":\"\"},\"baxis\":{\"gridcolor\":\"white\",\"linecolor\":\"white\",\"ticks\":\"\"},\"caxis\":{\"gridcolor\":\"white\",\"linecolor\":\"white\",\"ticks\":\"\"}},\"coloraxis\":{\"colorbar\":{\"outlinewidth\":0,\"ticks\":\"\"}},\"colorscale\":{\"sequential\":[[0.0,\"#0d0887\"],[0.1111111111111111,\"#46039f\"],[0.2222222222222222,\"#7201a8\"],[0.3333333333333333,\"#9c179e\"],[0.4444444444444444,\"#bd3786\"],[0.5555555555555556,\"#d8576b\"],[0.6666666666666666,\"#ed7953\"],[0.7777777777777778,\"#fb9f3a\"],[0.8888888888888888,\"#fdca26\"],[1.0,\"#f0f921\"]],\"sequentialminus\":[[0.0,\"#0d0887\"],[0.1111111111111111,\"#46039f\"],[0.2222222222222222,\"#7201a8\"],[0.3333333333333333,\"#9c179e\"],[0.4444444444444444,\"#bd3786\"],[0.5555555555555556,\"#d8576b\"],[0.6666666666666666,\"#ed7953\"],[0.7777777777777778,\"#fb9f3a\"],[0.8888888888888888,\"#fdca26\"],[1.0,\"#f0f921\"]],\"diverging\":[[0,\"#8e0152\"],[0.1,\"#c51b7d\"],[0.2,\"#de77ae\"],[0.3,\"#f1b6da\"],[0.4,\"#fde0ef\"],[0.5,\"#f7f7f7\"],[0.6,\"#e6f5d0\"],[0.7,\"#b8e186\"],[0.8,\"#7fbc41\"],[0.9,\"#4d9221\"],[1,\"#276419\"]]},\"xaxis\":{\"gridcolor\":\"white\",\"linecolor\":\"white\",\"ticks\":\"\",\"title\":{\"standoff\":15},\"zerolinecolor\":\"white\",\"automargin\":true,\"zerolinewidth\":2},\"yaxis\":{\"gridcolor\":\"white\",\"linecolor\":\"white\",\"ticks\":\"\",\"title\":{\"standoff\":15},\"zerolinecolor\":\"white\",\"automargin\":true,\"zerolinewidth\":2},\"scene\":{\"xaxis\":{\"backgroundcolor\":\"#E5ECF6\",\"gridcolor\":\"white\",\"linecolor\":\"white\",\"showbackground\":true,\"ticks\":\"\",\"zerolinecolor\":\"white\",\"gridwidth\":2},\"yaxis\":{\"backgroundcolor\":\"#E5ECF6\",\"gridcolor\":\"white\",\"linecolor\":\"white\",\"showbackground\":true,\"ticks\":\"\",\"zerolinecolor\":\"white\",\"gridwidth\":2},\"zaxis\":{\"backgroundcolor\":\"#E5ECF6\",\"gridcolor\":\"white\",\"linecolor\":\"white\",\"showbackground\":true,\"ticks\":\"\",\"zerolinecolor\":\"white\",\"gridwidth\":2}},\"shapedefaults\":{\"line\":{\"color\":\"#2a3f5f\"}},\"annotationdefaults\":{\"arrowcolor\":\"#2a3f5f\",\"arrowhead\":0,\"arrowwidth\":1},\"geo\":{\"bgcolor\":\"white\",\"landcolor\":\"#E5ECF6\",\"subunitcolor\":\"white\",\"showland\":true,\"showlakes\":true,\"lakecolor\":\"white\"},\"title\":{\"x\":0.05},\"mapbox\":{\"style\":\"light\"}}},\"title\":{\"text\":\"Total Tracks vs Tracks that are 0 Instrumental\"},\"margin\":{\"l\":100,\"r\":150,\"t\":100,\"b\":20},\"yaxis\":{\"title\":{\"text\":\"# of tracks\"}},\"xaxis\":{\"title\":{\"text\":\"Year track was added to playlist\"}},\"paper_bgcolor\":\"LightSteelBlue\"},                        {\"responsive\": true}                    ).then(function(){\n",
       "                            \n",
       "var gd = document.getElementById('44c32a56-48e2-4028-ad25-773383520350');\n",
       "var x = new MutationObserver(function (mutations, observer) {{\n",
       "        var display = window.getComputedStyle(gd).display;\n",
       "        if (!display || display === 'none') {{\n",
       "            console.log([gd, 'removed!']);\n",
       "            Plotly.purge(gd);\n",
       "            observer.disconnect();\n",
       "        }}\n",
       "}});\n",
       "\n",
       "// Listen for the removal of the full notebook cells\n",
       "var notebookContainer = gd.closest('#notebook-container');\n",
       "if (notebookContainer) {{\n",
       "    x.observe(notebookContainer, {childList: true});\n",
       "}}\n",
       "\n",
       "// Listen for the clearing of the current output cell\n",
       "var outputEl = gd.closest('.output');\n",
       "if (outputEl) {{\n",
       "    x.observe(outputEl, {childList: true});\n",
       "}}\n",
       "\n",
       "                        })                };                });            </script>        </div>"
      ]
     },
     "metadata": {},
     "output_type": "display_data"
    }
   ],
   "source": [
    "# Tracks with 0 Instrumental vs all Tracks as added\n",
    "d1, d2 = playlist.Added_At.dt.strftime(\"%Y\").value_counts(), playlist[playlist.Instrumental==0].Added_At.dt.strftime(\"%Y\").value_counts()\n",
    "vals = []\n",
    "for k in d1.keys():\n",
    "    if k in d2.keys():\n",
    "        vals.append(d2[k])\n",
    "    else:\n",
    "        vals.append(0)\n",
    "d1keys = d1.keys()\n",
    "t = pd.DataFrame({'Year':d1keys,'All':d1.values,'instrumentalzero':vals}).sort_values('Year').query(\"Year != '2018'\")\n",
    "fig = go.Figure()\n",
    "\n",
    "fig.add_trace(go.Bar(name='All',x=t.Year, y=t.All, offsetgroup=0))\n",
    "fig.add_trace(go.Bar(name='Instrumental 0',x=t.Year, y=t.instrumentalzero, offsetgroup=0, text=t.instrumentalzero, marker_color = '#204887'))\n",
    "fig.update_layout(title_text=\"Total Tracks vs Tracks that are 0 Instrumental\",\n",
    "                  yaxis_title='# of tracks',\n",
    "                  xaxis_title='Year track was added to playlist',\n",
    "                  paper_bgcolor=\"LightSteelBlue\",\n",
    "                  margin=dict(l=100, r=150, t=100, b=20)\n",
    ")"
   ]
  },
  {
   "cell_type": "code",
   "execution_count": 67,
   "metadata": {},
   "outputs": [
    {
     "data": {
      "application/vnd.plotly.v1+json": {
       "config": {
        "plotlyServerURL": "https://plot.ly"
       },
       "data": [
        {
         "name": "2017",
         "text": [
          15,
          4,
          32,
          26,
          2
         ],
         "type": "bar",
         "x": [
          2019,
          2020,
          2021,
          2022,
          2023
         ],
         "y": [
          15,
          4,
          32,
          26,
          2
         ]
        },
        {
         "name": "2018",
         "text": [
          14,
          2,
          21,
          26,
          4
         ],
         "type": "bar",
         "x": [
          2019,
          2020,
          2021,
          2022,
          2023
         ],
         "y": [
          14,
          2,
          21,
          26,
          4
         ]
        },
        {
         "name": "2019",
         "text": [
          10,
          9,
          22,
          20,
          3
         ],
         "type": "bar",
         "x": [
          2019,
          2020,
          2021,
          2022,
          2023
         ],
         "y": [
          10,
          9,
          22,
          20,
          3
         ]
        },
        {
         "name": "2020",
         "text": [
          8,
          25,
          23,
          1
         ],
         "type": "bar",
         "x": [
          2020,
          2021,
          2022,
          2023
         ],
         "y": [
          8,
          25,
          23,
          1
         ]
        },
        {
         "name": "2021",
         "text": [
          30,
          31,
          2
         ],
         "type": "bar",
         "x": [
          2021,
          2022,
          2023
         ],
         "y": [
          30,
          31,
          2
         ]
        },
        {
         "name": "2022",
         "text": [
          45,
          6
         ],
         "type": "bar",
         "x": [
          2022,
          2023
         ],
         "y": [
          45,
          6
         ]
        }
       ],
       "layout": {
        "margin": {
         "b": 20,
         "l": 100,
         "r": 150,
         "t": 100
        },
        "paper_bgcolor": "LightSteelBlue",
        "template": {
         "data": {
          "bar": [
           {
            "error_x": {
             "color": "#2a3f5f"
            },
            "error_y": {
             "color": "#2a3f5f"
            },
            "marker": {
             "line": {
              "color": "#E5ECF6",
              "width": 0.5
             },
             "pattern": {
              "fillmode": "overlay",
              "size": 10,
              "solidity": 0.2
             }
            },
            "type": "bar"
           }
          ],
          "barpolar": [
           {
            "marker": {
             "line": {
              "color": "#E5ECF6",
              "width": 0.5
             },
             "pattern": {
              "fillmode": "overlay",
              "size": 10,
              "solidity": 0.2
             }
            },
            "type": "barpolar"
           }
          ],
          "carpet": [
           {
            "aaxis": {
             "endlinecolor": "#2a3f5f",
             "gridcolor": "white",
             "linecolor": "white",
             "minorgridcolor": "white",
             "startlinecolor": "#2a3f5f"
            },
            "baxis": {
             "endlinecolor": "#2a3f5f",
             "gridcolor": "white",
             "linecolor": "white",
             "minorgridcolor": "white",
             "startlinecolor": "#2a3f5f"
            },
            "type": "carpet"
           }
          ],
          "choropleth": [
           {
            "colorbar": {
             "outlinewidth": 0,
             "ticks": ""
            },
            "type": "choropleth"
           }
          ],
          "contour": [
           {
            "colorbar": {
             "outlinewidth": 0,
             "ticks": ""
            },
            "colorscale": [
             [
              0,
              "#0d0887"
             ],
             [
              0.1111111111111111,
              "#46039f"
             ],
             [
              0.2222222222222222,
              "#7201a8"
             ],
             [
              0.3333333333333333,
              "#9c179e"
             ],
             [
              0.4444444444444444,
              "#bd3786"
             ],
             [
              0.5555555555555556,
              "#d8576b"
             ],
             [
              0.6666666666666666,
              "#ed7953"
             ],
             [
              0.7777777777777778,
              "#fb9f3a"
             ],
             [
              0.8888888888888888,
              "#fdca26"
             ],
             [
              1,
              "#f0f921"
             ]
            ],
            "type": "contour"
           }
          ],
          "contourcarpet": [
           {
            "colorbar": {
             "outlinewidth": 0,
             "ticks": ""
            },
            "type": "contourcarpet"
           }
          ],
          "heatmap": [
           {
            "colorbar": {
             "outlinewidth": 0,
             "ticks": ""
            },
            "colorscale": [
             [
              0,
              "#0d0887"
             ],
             [
              0.1111111111111111,
              "#46039f"
             ],
             [
              0.2222222222222222,
              "#7201a8"
             ],
             [
              0.3333333333333333,
              "#9c179e"
             ],
             [
              0.4444444444444444,
              "#bd3786"
             ],
             [
              0.5555555555555556,
              "#d8576b"
             ],
             [
              0.6666666666666666,
              "#ed7953"
             ],
             [
              0.7777777777777778,
              "#fb9f3a"
             ],
             [
              0.8888888888888888,
              "#fdca26"
             ],
             [
              1,
              "#f0f921"
             ]
            ],
            "type": "heatmap"
           }
          ],
          "heatmapgl": [
           {
            "colorbar": {
             "outlinewidth": 0,
             "ticks": ""
            },
            "colorscale": [
             [
              0,
              "#0d0887"
             ],
             [
              0.1111111111111111,
              "#46039f"
             ],
             [
              0.2222222222222222,
              "#7201a8"
             ],
             [
              0.3333333333333333,
              "#9c179e"
             ],
             [
              0.4444444444444444,
              "#bd3786"
             ],
             [
              0.5555555555555556,
              "#d8576b"
             ],
             [
              0.6666666666666666,
              "#ed7953"
             ],
             [
              0.7777777777777778,
              "#fb9f3a"
             ],
             [
              0.8888888888888888,
              "#fdca26"
             ],
             [
              1,
              "#f0f921"
             ]
            ],
            "type": "heatmapgl"
           }
          ],
          "histogram": [
           {
            "marker": {
             "pattern": {
              "fillmode": "overlay",
              "size": 10,
              "solidity": 0.2
             }
            },
            "type": "histogram"
           }
          ],
          "histogram2d": [
           {
            "colorbar": {
             "outlinewidth": 0,
             "ticks": ""
            },
            "colorscale": [
             [
              0,
              "#0d0887"
             ],
             [
              0.1111111111111111,
              "#46039f"
             ],
             [
              0.2222222222222222,
              "#7201a8"
             ],
             [
              0.3333333333333333,
              "#9c179e"
             ],
             [
              0.4444444444444444,
              "#bd3786"
             ],
             [
              0.5555555555555556,
              "#d8576b"
             ],
             [
              0.6666666666666666,
              "#ed7953"
             ],
             [
              0.7777777777777778,
              "#fb9f3a"
             ],
             [
              0.8888888888888888,
              "#fdca26"
             ],
             [
              1,
              "#f0f921"
             ]
            ],
            "type": "histogram2d"
           }
          ],
          "histogram2dcontour": [
           {
            "colorbar": {
             "outlinewidth": 0,
             "ticks": ""
            },
            "colorscale": [
             [
              0,
              "#0d0887"
             ],
             [
              0.1111111111111111,
              "#46039f"
             ],
             [
              0.2222222222222222,
              "#7201a8"
             ],
             [
              0.3333333333333333,
              "#9c179e"
             ],
             [
              0.4444444444444444,
              "#bd3786"
             ],
             [
              0.5555555555555556,
              "#d8576b"
             ],
             [
              0.6666666666666666,
              "#ed7953"
             ],
             [
              0.7777777777777778,
              "#fb9f3a"
             ],
             [
              0.8888888888888888,
              "#fdca26"
             ],
             [
              1,
              "#f0f921"
             ]
            ],
            "type": "histogram2dcontour"
           }
          ],
          "mesh3d": [
           {
            "colorbar": {
             "outlinewidth": 0,
             "ticks": ""
            },
            "type": "mesh3d"
           }
          ],
          "parcoords": [
           {
            "line": {
             "colorbar": {
              "outlinewidth": 0,
              "ticks": ""
             }
            },
            "type": "parcoords"
           }
          ],
          "pie": [
           {
            "automargin": true,
            "type": "pie"
           }
          ],
          "scatter": [
           {
            "fillpattern": {
             "fillmode": "overlay",
             "size": 10,
             "solidity": 0.2
            },
            "type": "scatter"
           }
          ],
          "scatter3d": [
           {
            "line": {
             "colorbar": {
              "outlinewidth": 0,
              "ticks": ""
             }
            },
            "marker": {
             "colorbar": {
              "outlinewidth": 0,
              "ticks": ""
             }
            },
            "type": "scatter3d"
           }
          ],
          "scattercarpet": [
           {
            "marker": {
             "colorbar": {
              "outlinewidth": 0,
              "ticks": ""
             }
            },
            "type": "scattercarpet"
           }
          ],
          "scattergeo": [
           {
            "marker": {
             "colorbar": {
              "outlinewidth": 0,
              "ticks": ""
             }
            },
            "type": "scattergeo"
           }
          ],
          "scattergl": [
           {
            "marker": {
             "colorbar": {
              "outlinewidth": 0,
              "ticks": ""
             }
            },
            "type": "scattergl"
           }
          ],
          "scattermapbox": [
           {
            "marker": {
             "colorbar": {
              "outlinewidth": 0,
              "ticks": ""
             }
            },
            "type": "scattermapbox"
           }
          ],
          "scatterpolar": [
           {
            "marker": {
             "colorbar": {
              "outlinewidth": 0,
              "ticks": ""
             }
            },
            "type": "scatterpolar"
           }
          ],
          "scatterpolargl": [
           {
            "marker": {
             "colorbar": {
              "outlinewidth": 0,
              "ticks": ""
             }
            },
            "type": "scatterpolargl"
           }
          ],
          "scatterternary": [
           {
            "marker": {
             "colorbar": {
              "outlinewidth": 0,
              "ticks": ""
             }
            },
            "type": "scatterternary"
           }
          ],
          "surface": [
           {
            "colorbar": {
             "outlinewidth": 0,
             "ticks": ""
            },
            "colorscale": [
             [
              0,
              "#0d0887"
             ],
             [
              0.1111111111111111,
              "#46039f"
             ],
             [
              0.2222222222222222,
              "#7201a8"
             ],
             [
              0.3333333333333333,
              "#9c179e"
             ],
             [
              0.4444444444444444,
              "#bd3786"
             ],
             [
              0.5555555555555556,
              "#d8576b"
             ],
             [
              0.6666666666666666,
              "#ed7953"
             ],
             [
              0.7777777777777778,
              "#fb9f3a"
             ],
             [
              0.8888888888888888,
              "#fdca26"
             ],
             [
              1,
              "#f0f921"
             ]
            ],
            "type": "surface"
           }
          ],
          "table": [
           {
            "cells": {
             "fill": {
              "color": "#EBF0F8"
             },
             "line": {
              "color": "white"
             }
            },
            "header": {
             "fill": {
              "color": "#C8D4E3"
             },
             "line": {
              "color": "white"
             }
            },
            "type": "table"
           }
          ]
         },
         "layout": {
          "annotationdefaults": {
           "arrowcolor": "#2a3f5f",
           "arrowhead": 0,
           "arrowwidth": 1
          },
          "autotypenumbers": "strict",
          "coloraxis": {
           "colorbar": {
            "outlinewidth": 0,
            "ticks": ""
           }
          },
          "colorscale": {
           "diverging": [
            [
             0,
             "#8e0152"
            ],
            [
             0.1,
             "#c51b7d"
            ],
            [
             0.2,
             "#de77ae"
            ],
            [
             0.3,
             "#f1b6da"
            ],
            [
             0.4,
             "#fde0ef"
            ],
            [
             0.5,
             "#f7f7f7"
            ],
            [
             0.6,
             "#e6f5d0"
            ],
            [
             0.7,
             "#b8e186"
            ],
            [
             0.8,
             "#7fbc41"
            ],
            [
             0.9,
             "#4d9221"
            ],
            [
             1,
             "#276419"
            ]
           ],
           "sequential": [
            [
             0,
             "#0d0887"
            ],
            [
             0.1111111111111111,
             "#46039f"
            ],
            [
             0.2222222222222222,
             "#7201a8"
            ],
            [
             0.3333333333333333,
             "#9c179e"
            ],
            [
             0.4444444444444444,
             "#bd3786"
            ],
            [
             0.5555555555555556,
             "#d8576b"
            ],
            [
             0.6666666666666666,
             "#ed7953"
            ],
            [
             0.7777777777777778,
             "#fb9f3a"
            ],
            [
             0.8888888888888888,
             "#fdca26"
            ],
            [
             1,
             "#f0f921"
            ]
           ],
           "sequentialminus": [
            [
             0,
             "#0d0887"
            ],
            [
             0.1111111111111111,
             "#46039f"
            ],
            [
             0.2222222222222222,
             "#7201a8"
            ],
            [
             0.3333333333333333,
             "#9c179e"
            ],
            [
             0.4444444444444444,
             "#bd3786"
            ],
            [
             0.5555555555555556,
             "#d8576b"
            ],
            [
             0.6666666666666666,
             "#ed7953"
            ],
            [
             0.7777777777777778,
             "#fb9f3a"
            ],
            [
             0.8888888888888888,
             "#fdca26"
            ],
            [
             1,
             "#f0f921"
            ]
           ]
          },
          "colorway": [
           "#636efa",
           "#EF553B",
           "#00cc96",
           "#ab63fa",
           "#FFA15A",
           "#19d3f3",
           "#FF6692",
           "#B6E880",
           "#FF97FF",
           "#FECB52"
          ],
          "font": {
           "color": "#2a3f5f"
          },
          "geo": {
           "bgcolor": "white",
           "lakecolor": "white",
           "landcolor": "#E5ECF6",
           "showlakes": true,
           "showland": true,
           "subunitcolor": "white"
          },
          "hoverlabel": {
           "align": "left"
          },
          "hovermode": "closest",
          "mapbox": {
           "style": "light"
          },
          "paper_bgcolor": "white",
          "plot_bgcolor": "#E5ECF6",
          "polar": {
           "angularaxis": {
            "gridcolor": "white",
            "linecolor": "white",
            "ticks": ""
           },
           "bgcolor": "#E5ECF6",
           "radialaxis": {
            "gridcolor": "white",
            "linecolor": "white",
            "ticks": ""
           }
          },
          "scene": {
           "xaxis": {
            "backgroundcolor": "#E5ECF6",
            "gridcolor": "white",
            "gridwidth": 2,
            "linecolor": "white",
            "showbackground": true,
            "ticks": "",
            "zerolinecolor": "white"
           },
           "yaxis": {
            "backgroundcolor": "#E5ECF6",
            "gridcolor": "white",
            "gridwidth": 2,
            "linecolor": "white",
            "showbackground": true,
            "ticks": "",
            "zerolinecolor": "white"
           },
           "zaxis": {
            "backgroundcolor": "#E5ECF6",
            "gridcolor": "white",
            "gridwidth": 2,
            "linecolor": "white",
            "showbackground": true,
            "ticks": "",
            "zerolinecolor": "white"
           }
          },
          "shapedefaults": {
           "line": {
            "color": "#2a3f5f"
           }
          },
          "ternary": {
           "aaxis": {
            "gridcolor": "white",
            "linecolor": "white",
            "ticks": ""
           },
           "baxis": {
            "gridcolor": "white",
            "linecolor": "white",
            "ticks": ""
           },
           "bgcolor": "#E5ECF6",
           "caxis": {
            "gridcolor": "white",
            "linecolor": "white",
            "ticks": ""
           }
          },
          "title": {
           "x": 0.05
          },
          "xaxis": {
           "automargin": true,
           "gridcolor": "white",
           "linecolor": "white",
           "ticks": "",
           "title": {
            "standoff": 15
           },
           "zerolinecolor": "white",
           "zerolinewidth": 2
          },
          "yaxis": {
           "automargin": true,
           "gridcolor": "white",
           "linecolor": "white",
           "ticks": "",
           "title": {
            "standoff": 15
           },
           "zerolinecolor": "white",
           "zerolinewidth": 2
          }
         }
        },
        "title": {
         "text": "Track Count by Release Year and Added Year",
         "x": 0.5
        },
        "xaxis": {
         "title": {
          "text": "Added Year"
         }
        },
        "yaxis": {
         "title": {
          "text": "Track Count"
         }
        }
       }
      },
      "text/html": [
       "<div>                            <div id=\"908c6f3f-2198-4026-a0b7-fe008bdd2f12\" class=\"plotly-graph-div\" style=\"height:525px; width:100%;\"></div>            <script type=\"text/javascript\">                require([\"plotly\"], function(Plotly) {                    window.PLOTLYENV=window.PLOTLYENV || {};                                    if (document.getElementById(\"908c6f3f-2198-4026-a0b7-fe008bdd2f12\")) {                    Plotly.newPlot(                        \"908c6f3f-2198-4026-a0b7-fe008bdd2f12\",                        [{\"name\":\"2017\",\"text\":[15.0,4.0,32.0,26.0,2.0],\"x\":[2019,2020,2021,2022,2023],\"y\":[15,4,32,26,2],\"type\":\"bar\"},{\"name\":\"2018\",\"text\":[14.0,2.0,21.0,26.0,4.0],\"x\":[2019,2020,2021,2022,2023],\"y\":[14,2,21,26,4],\"type\":\"bar\"},{\"name\":\"2019\",\"text\":[10.0,9.0,22.0,20.0,3.0],\"x\":[2019,2020,2021,2022,2023],\"y\":[10,9,22,20,3],\"type\":\"bar\"},{\"name\":\"2020\",\"text\":[8.0,25.0,23.0,1.0],\"x\":[2020,2021,2022,2023],\"y\":[8,25,23,1],\"type\":\"bar\"},{\"name\":\"2021\",\"text\":[30.0,31.0,2.0],\"x\":[2021,2022,2023],\"y\":[30,31,2],\"type\":\"bar\"},{\"name\":\"2022\",\"text\":[45.0,6.0],\"x\":[2022,2023],\"y\":[45,6],\"type\":\"bar\"}],                        {\"margin\":{\"b\":20,\"l\":100,\"r\":150,\"t\":100},\"paper_bgcolor\":\"LightSteelBlue\",\"title\":{\"text\":\"Track Count by Release Year and Added Year\",\"x\":0.5},\"xaxis\":{\"title\":{\"text\":\"Added Year\"}},\"yaxis\":{\"title\":{\"text\":\"Track Count\"}},\"template\":{\"data\":{\"histogram2dcontour\":[{\"type\":\"histogram2dcontour\",\"colorbar\":{\"outlinewidth\":0,\"ticks\":\"\"},\"colorscale\":[[0.0,\"#0d0887\"],[0.1111111111111111,\"#46039f\"],[0.2222222222222222,\"#7201a8\"],[0.3333333333333333,\"#9c179e\"],[0.4444444444444444,\"#bd3786\"],[0.5555555555555556,\"#d8576b\"],[0.6666666666666666,\"#ed7953\"],[0.7777777777777778,\"#fb9f3a\"],[0.8888888888888888,\"#fdca26\"],[1.0,\"#f0f921\"]]}],\"choropleth\":[{\"type\":\"choropleth\",\"colorbar\":{\"outlinewidth\":0,\"ticks\":\"\"}}],\"histogram2d\":[{\"type\":\"histogram2d\",\"colorbar\":{\"outlinewidth\":0,\"ticks\":\"\"},\"colorscale\":[[0.0,\"#0d0887\"],[0.1111111111111111,\"#46039f\"],[0.2222222222222222,\"#7201a8\"],[0.3333333333333333,\"#9c179e\"],[0.4444444444444444,\"#bd3786\"],[0.5555555555555556,\"#d8576b\"],[0.6666666666666666,\"#ed7953\"],[0.7777777777777778,\"#fb9f3a\"],[0.8888888888888888,\"#fdca26\"],[1.0,\"#f0f921\"]]}],\"heatmap\":[{\"type\":\"heatmap\",\"colorbar\":{\"outlinewidth\":0,\"ticks\":\"\"},\"colorscale\":[[0.0,\"#0d0887\"],[0.1111111111111111,\"#46039f\"],[0.2222222222222222,\"#7201a8\"],[0.3333333333333333,\"#9c179e\"],[0.4444444444444444,\"#bd3786\"],[0.5555555555555556,\"#d8576b\"],[0.6666666666666666,\"#ed7953\"],[0.7777777777777778,\"#fb9f3a\"],[0.8888888888888888,\"#fdca26\"],[1.0,\"#f0f921\"]]}],\"heatmapgl\":[{\"type\":\"heatmapgl\",\"colorbar\":{\"outlinewidth\":0,\"ticks\":\"\"},\"colorscale\":[[0.0,\"#0d0887\"],[0.1111111111111111,\"#46039f\"],[0.2222222222222222,\"#7201a8\"],[0.3333333333333333,\"#9c179e\"],[0.4444444444444444,\"#bd3786\"],[0.5555555555555556,\"#d8576b\"],[0.6666666666666666,\"#ed7953\"],[0.7777777777777778,\"#fb9f3a\"],[0.8888888888888888,\"#fdca26\"],[1.0,\"#f0f921\"]]}],\"contourcarpet\":[{\"type\":\"contourcarpet\",\"colorbar\":{\"outlinewidth\":0,\"ticks\":\"\"}}],\"contour\":[{\"type\":\"contour\",\"colorbar\":{\"outlinewidth\":0,\"ticks\":\"\"},\"colorscale\":[[0.0,\"#0d0887\"],[0.1111111111111111,\"#46039f\"],[0.2222222222222222,\"#7201a8\"],[0.3333333333333333,\"#9c179e\"],[0.4444444444444444,\"#bd3786\"],[0.5555555555555556,\"#d8576b\"],[0.6666666666666666,\"#ed7953\"],[0.7777777777777778,\"#fb9f3a\"],[0.8888888888888888,\"#fdca26\"],[1.0,\"#f0f921\"]]}],\"surface\":[{\"type\":\"surface\",\"colorbar\":{\"outlinewidth\":0,\"ticks\":\"\"},\"colorscale\":[[0.0,\"#0d0887\"],[0.1111111111111111,\"#46039f\"],[0.2222222222222222,\"#7201a8\"],[0.3333333333333333,\"#9c179e\"],[0.4444444444444444,\"#bd3786\"],[0.5555555555555556,\"#d8576b\"],[0.6666666666666666,\"#ed7953\"],[0.7777777777777778,\"#fb9f3a\"],[0.8888888888888888,\"#fdca26\"],[1.0,\"#f0f921\"]]}],\"mesh3d\":[{\"type\":\"mesh3d\",\"colorbar\":{\"outlinewidth\":0,\"ticks\":\"\"}}],\"scatter\":[{\"fillpattern\":{\"fillmode\":\"overlay\",\"size\":10,\"solidity\":0.2},\"type\":\"scatter\"}],\"parcoords\":[{\"type\":\"parcoords\",\"line\":{\"colorbar\":{\"outlinewidth\":0,\"ticks\":\"\"}}}],\"scatterpolargl\":[{\"type\":\"scatterpolargl\",\"marker\":{\"colorbar\":{\"outlinewidth\":0,\"ticks\":\"\"}}}],\"bar\":[{\"error_x\":{\"color\":\"#2a3f5f\"},\"error_y\":{\"color\":\"#2a3f5f\"},\"marker\":{\"line\":{\"color\":\"#E5ECF6\",\"width\":0.5},\"pattern\":{\"fillmode\":\"overlay\",\"size\":10,\"solidity\":0.2}},\"type\":\"bar\"}],\"scattergeo\":[{\"type\":\"scattergeo\",\"marker\":{\"colorbar\":{\"outlinewidth\":0,\"ticks\":\"\"}}}],\"scatterpolar\":[{\"type\":\"scatterpolar\",\"marker\":{\"colorbar\":{\"outlinewidth\":0,\"ticks\":\"\"}}}],\"histogram\":[{\"marker\":{\"pattern\":{\"fillmode\":\"overlay\",\"size\":10,\"solidity\":0.2}},\"type\":\"histogram\"}],\"scattergl\":[{\"type\":\"scattergl\",\"marker\":{\"colorbar\":{\"outlinewidth\":0,\"ticks\":\"\"}}}],\"scatter3d\":[{\"type\":\"scatter3d\",\"line\":{\"colorbar\":{\"outlinewidth\":0,\"ticks\":\"\"}},\"marker\":{\"colorbar\":{\"outlinewidth\":0,\"ticks\":\"\"}}}],\"scattermapbox\":[{\"type\":\"scattermapbox\",\"marker\":{\"colorbar\":{\"outlinewidth\":0,\"ticks\":\"\"}}}],\"scatterternary\":[{\"type\":\"scatterternary\",\"marker\":{\"colorbar\":{\"outlinewidth\":0,\"ticks\":\"\"}}}],\"scattercarpet\":[{\"type\":\"scattercarpet\",\"marker\":{\"colorbar\":{\"outlinewidth\":0,\"ticks\":\"\"}}}],\"carpet\":[{\"aaxis\":{\"endlinecolor\":\"#2a3f5f\",\"gridcolor\":\"white\",\"linecolor\":\"white\",\"minorgridcolor\":\"white\",\"startlinecolor\":\"#2a3f5f\"},\"baxis\":{\"endlinecolor\":\"#2a3f5f\",\"gridcolor\":\"white\",\"linecolor\":\"white\",\"minorgridcolor\":\"white\",\"startlinecolor\":\"#2a3f5f\"},\"type\":\"carpet\"}],\"table\":[{\"cells\":{\"fill\":{\"color\":\"#EBF0F8\"},\"line\":{\"color\":\"white\"}},\"header\":{\"fill\":{\"color\":\"#C8D4E3\"},\"line\":{\"color\":\"white\"}},\"type\":\"table\"}],\"barpolar\":[{\"marker\":{\"line\":{\"color\":\"#E5ECF6\",\"width\":0.5},\"pattern\":{\"fillmode\":\"overlay\",\"size\":10,\"solidity\":0.2}},\"type\":\"barpolar\"}],\"pie\":[{\"automargin\":true,\"type\":\"pie\"}]},\"layout\":{\"autotypenumbers\":\"strict\",\"colorway\":[\"#636efa\",\"#EF553B\",\"#00cc96\",\"#ab63fa\",\"#FFA15A\",\"#19d3f3\",\"#FF6692\",\"#B6E880\",\"#FF97FF\",\"#FECB52\"],\"font\":{\"color\":\"#2a3f5f\"},\"hovermode\":\"closest\",\"hoverlabel\":{\"align\":\"left\"},\"paper_bgcolor\":\"white\",\"plot_bgcolor\":\"#E5ECF6\",\"polar\":{\"bgcolor\":\"#E5ECF6\",\"angularaxis\":{\"gridcolor\":\"white\",\"linecolor\":\"white\",\"ticks\":\"\"},\"radialaxis\":{\"gridcolor\":\"white\",\"linecolor\":\"white\",\"ticks\":\"\"}},\"ternary\":{\"bgcolor\":\"#E5ECF6\",\"aaxis\":{\"gridcolor\":\"white\",\"linecolor\":\"white\",\"ticks\":\"\"},\"baxis\":{\"gridcolor\":\"white\",\"linecolor\":\"white\",\"ticks\":\"\"},\"caxis\":{\"gridcolor\":\"white\",\"linecolor\":\"white\",\"ticks\":\"\"}},\"coloraxis\":{\"colorbar\":{\"outlinewidth\":0,\"ticks\":\"\"}},\"colorscale\":{\"sequential\":[[0.0,\"#0d0887\"],[0.1111111111111111,\"#46039f\"],[0.2222222222222222,\"#7201a8\"],[0.3333333333333333,\"#9c179e\"],[0.4444444444444444,\"#bd3786\"],[0.5555555555555556,\"#d8576b\"],[0.6666666666666666,\"#ed7953\"],[0.7777777777777778,\"#fb9f3a\"],[0.8888888888888888,\"#fdca26\"],[1.0,\"#f0f921\"]],\"sequentialminus\":[[0.0,\"#0d0887\"],[0.1111111111111111,\"#46039f\"],[0.2222222222222222,\"#7201a8\"],[0.3333333333333333,\"#9c179e\"],[0.4444444444444444,\"#bd3786\"],[0.5555555555555556,\"#d8576b\"],[0.6666666666666666,\"#ed7953\"],[0.7777777777777778,\"#fb9f3a\"],[0.8888888888888888,\"#fdca26\"],[1.0,\"#f0f921\"]],\"diverging\":[[0,\"#8e0152\"],[0.1,\"#c51b7d\"],[0.2,\"#de77ae\"],[0.3,\"#f1b6da\"],[0.4,\"#fde0ef\"],[0.5,\"#f7f7f7\"],[0.6,\"#e6f5d0\"],[0.7,\"#b8e186\"],[0.8,\"#7fbc41\"],[0.9,\"#4d9221\"],[1,\"#276419\"]]},\"xaxis\":{\"gridcolor\":\"white\",\"linecolor\":\"white\",\"ticks\":\"\",\"title\":{\"standoff\":15},\"zerolinecolor\":\"white\",\"automargin\":true,\"zerolinewidth\":2},\"yaxis\":{\"gridcolor\":\"white\",\"linecolor\":\"white\",\"ticks\":\"\",\"title\":{\"standoff\":15},\"zerolinecolor\":\"white\",\"automargin\":true,\"zerolinewidth\":2},\"scene\":{\"xaxis\":{\"backgroundcolor\":\"#E5ECF6\",\"gridcolor\":\"white\",\"linecolor\":\"white\",\"showbackground\":true,\"ticks\":\"\",\"zerolinecolor\":\"white\",\"gridwidth\":2},\"yaxis\":{\"backgroundcolor\":\"#E5ECF6\",\"gridcolor\":\"white\",\"linecolor\":\"white\",\"showbackground\":true,\"ticks\":\"\",\"zerolinecolor\":\"white\",\"gridwidth\":2},\"zaxis\":{\"backgroundcolor\":\"#E5ECF6\",\"gridcolor\":\"white\",\"linecolor\":\"white\",\"showbackground\":true,\"ticks\":\"\",\"zerolinecolor\":\"white\",\"gridwidth\":2}},\"shapedefaults\":{\"line\":{\"color\":\"#2a3f5f\"}},\"annotationdefaults\":{\"arrowcolor\":\"#2a3f5f\",\"arrowhead\":0,\"arrowwidth\":1},\"geo\":{\"bgcolor\":\"white\",\"landcolor\":\"#E5ECF6\",\"subunitcolor\":\"white\",\"showland\":true,\"showlakes\":true,\"lakecolor\":\"white\"},\"title\":{\"x\":0.05},\"mapbox\":{\"style\":\"light\"}}}},                        {\"responsive\": true}                    ).then(function(){\n",
       "                            \n",
       "var gd = document.getElementById('908c6f3f-2198-4026-a0b7-fe008bdd2f12');\n",
       "var x = new MutationObserver(function (mutations, observer) {{\n",
       "        var display = window.getComputedStyle(gd).display;\n",
       "        if (!display || display === 'none') {{\n",
       "            console.log([gd, 'removed!']);\n",
       "            Plotly.purge(gd);\n",
       "            observer.disconnect();\n",
       "        }}\n",
       "}});\n",
       "\n",
       "// Listen for the removal of the full notebook cells\n",
       "var notebookContainer = gd.closest('#notebook-container');\n",
       "if (notebookContainer) {{\n",
       "    x.observe(notebookContainer, {childList: true});\n",
       "}}\n",
       "\n",
       "// Listen for the clearing of the current output cell\n",
       "var outputEl = gd.closest('.output');\n",
       "if (outputEl) {{\n",
       "    x.observe(outputEl, {childList: true});\n",
       "}}\n",
       "\n",
       "                        })                };                });            </script>        </div>"
      ]
     },
     "metadata": {},
     "output_type": "display_data"
    }
   ],
   "source": [
    "t = (playlist\n",
    "[playlist.Album_Date.dt.year.isin([2017,2018,2019,2020,2021,2022])]\n",
    " .assign(release_year=playlist.Album_Date.dt.year,\n",
    "         added_year=playlist.Added_At.dt.year)\n",
    " .groupby(['release_year','added_year'])\n",
    " .size()\n",
    " .rename('song_count')\n",
    " .reset_index()\n",
    ")\n",
    "\n",
    "data = []\n",
    "for year in t['release_year'].unique():\n",
    "    df_year = t[t['release_year'] == year]\n",
    "    data.append(go.Bar(x=df_year['added_year'], y=df_year['song_count'], name=str(year), text=df_year['song_count']))\n",
    "layout = go.Layout(title='Track Count by Release Year and Added Year', \n",
    "                   xaxis_title='Added Year', title_x=0.5,\n",
    "                   yaxis_title='Track Count',\n",
    "                   paper_bgcolor=\"LightSteelBlue\",\n",
    "                   margin=dict(l=100, r=150, t=100, b=20)\n",
    "            )\n",
    "fig = go.Figure(data=data, layout=layout)\n",
    "\n",
    "fig.show()"
   ]
  },
  {
   "attachments": {},
   "cell_type": "markdown",
   "metadata": {},
   "source": [
    "This chart visualizes when tracks, that were released during 2017 - 2022, were added to the playlist. Again, 2017 was a dope year and I've added tracks from that year every year."
   ]
  },
  {
   "attachments": {},
   "cell_type": "markdown",
   "metadata": {},
   "source": [
    "### Record Labels\n",
    "\n",
    "I follow record labels as much as the artists and their music because finding a good label is like finding a music gold mine. It works well for smaller labels since they are usually picky, or you could say picky artists find those labels. Bigger labels, like Universal, Sony/RCA, etc. are a good indicator of artists who've made it made it in terms of commercial success. In the industry, it's very common for a track to get signed with multiple labels, usually it goes from smaller to bigger labels.\n",
    "\n",
    "For instance, [Fury's Laughter by S.A.M.](https://youtu.be/YC81VY4VE1Q?t=125) was initially a PIV record but as it was gaining popularity, later it was signed to Spinnin' Records. PIV is like the high fashion niche record label and Spinnin is like Zara, it's cool & everywhere but stylistically not that rare i.e. commercial.\n",
    "\n",
    "For my playlist analysis, I want to see which Record Labels are the majority as well as the year over year changes."
   ]
  },
  {
   "cell_type": "code",
   "execution_count": 68,
   "metadata": {},
   "outputs": [
    {
     "data": {
      "text/plain": [
       "439"
      ]
     },
     "execution_count": 68,
     "metadata": {},
     "output_type": "execute_result"
    }
   ],
   "source": [
    "# Of the 676 songs, there are 439 Record Labels\n",
    "playlist['Record_Label'].nunique()"
   ]
  },
  {
   "cell_type": "code",
   "execution_count": 69,
   "metadata": {},
   "outputs": [
    {
     "data": {
      "application/vnd.plotly.v1+json": {
       "config": {
        "plotlyServerURL": "https://plot.ly"
       },
       "data": [
        {
         "alignmentgroup": "True",
         "hovertemplate": "color=RCA Records Label<br>x=%{x}<br>y=%{y}<extra></extra>",
         "legendgroup": "RCA Records Label",
         "marker": {
          "color": "#636efa",
          "pattern": {
           "shape": ""
          }
         },
         "name": "RCA Records Label",
         "offsetgroup": "RCA Records Label",
         "orientation": "v",
         "showlegend": true,
         "textposition": "auto",
         "type": "bar",
         "x": [
          "2019",
          "2020",
          "2021",
          "2022"
         ],
         "xaxis": "x",
         "y": [
          2,
          1,
          4,
          2
         ],
         "yaxis": "y"
        },
        {
         "alignmentgroup": "True",
         "hovertemplate": "color=Universal-Island Records Ltd.<br>x=%{x}<br>y=%{y}<extra></extra>",
         "legendgroup": "Universal-Island Records Ltd.",
         "marker": {
          "color": "#EF553B",
          "pattern": {
           "shape": ""
          }
         },
         "name": "Universal-Island Records Ltd.",
         "offsetgroup": "Universal-Island Records Ltd.",
         "orientation": "v",
         "showlegend": true,
         "textposition": "auto",
         "type": "bar",
         "x": [
          "2019",
          "2021",
          "2022"
         ],
         "xaxis": "x",
         "y": [
          1,
          1,
          5
         ],
         "yaxis": "y"
        },
        {
         "alignmentgroup": "True",
         "hovertemplate": "color=Atlantic Records<br>x=%{x}<br>y=%{y}<extra></extra>",
         "legendgroup": "Atlantic Records",
         "marker": {
          "color": "#00cc96",
          "pattern": {
           "shape": ""
          }
         },
         "name": "Atlantic Records",
         "offsetgroup": "Atlantic Records",
         "orientation": "v",
         "showlegend": true,
         "textposition": "auto",
         "type": "bar",
         "x": [
          "2020",
          "2021",
          "2022"
         ],
         "xaxis": "x",
         "y": [
          1,
          2,
          3
         ],
         "yaxis": "y"
        },
        {
         "alignmentgroup": "True",
         "hovertemplate": "color=Columbia<br>x=%{x}<br>y=%{y}<extra></extra>",
         "legendgroup": "Columbia",
         "marker": {
          "color": "#ab63fa",
          "pattern": {
           "shape": ""
          }
         },
         "name": "Columbia",
         "offsetgroup": "Columbia",
         "orientation": "v",
         "showlegend": true,
         "textposition": "auto",
         "type": "bar",
         "x": [
          "2020",
          "2021",
          "2022",
          "2023"
         ],
         "xaxis": "x",
         "y": [
          1,
          7,
          8,
          1
         ],
         "yaxis": "y"
        },
        {
         "alignmentgroup": "True",
         "hovertemplate": "color=Geffen<br>x=%{x}<br>y=%{y}<extra></extra>",
         "legendgroup": "Geffen",
         "marker": {
          "color": "#FFA15A",
          "pattern": {
           "shape": ""
          }
         },
         "name": "Geffen",
         "offsetgroup": "Geffen",
         "orientation": "v",
         "showlegend": true,
         "textposition": "auto",
         "type": "bar",
         "x": [
          "2021",
          "2022",
          "2023"
         ],
         "xaxis": "x",
         "y": [
          4,
          1,
          1
         ],
         "yaxis": "y"
        },
        {
         "alignmentgroup": "True",
         "hovertemplate": "color=Island Records<br>x=%{x}<br>y=%{y}<extra></extra>",
         "legendgroup": "Island Records",
         "marker": {
          "color": "#19d3f3",
          "pattern": {
           "shape": ""
          }
         },
         "name": "Island Records",
         "offsetgroup": "Island Records",
         "orientation": "v",
         "showlegend": true,
         "textposition": "auto",
         "type": "bar",
         "x": [
          "2021",
          "2022"
         ],
         "xaxis": "x",
         "y": [
          1,
          5
         ],
         "yaxis": "y"
        },
        {
         "alignmentgroup": "True",
         "hovertemplate": "color=Virgin Records<br>x=%{x}<br>y=%{y}<extra></extra>",
         "legendgroup": "Virgin Records",
         "marker": {
          "color": "#FF6692",
          "pattern": {
           "shape": ""
          }
         },
         "name": "Virgin Records",
         "offsetgroup": "Virgin Records",
         "orientation": "v",
         "showlegend": true,
         "textposition": "auto",
         "type": "bar",
         "x": [
          "2021",
          "2022"
         ],
         "xaxis": "x",
         "y": [
          2,
          4
         ],
         "yaxis": "y"
        },
        {
         "alignmentgroup": "True",
         "hovertemplate": "color=Warner Records<br>x=%{x}<br>y=%{y}<extra></extra>",
         "legendgroup": "Warner Records",
         "marker": {
          "color": "#B6E880",
          "pattern": {
           "shape": ""
          }
         },
         "name": "Warner Records",
         "offsetgroup": "Warner Records",
         "orientation": "v",
         "showlegend": true,
         "textposition": "auto",
         "type": "bar",
         "x": [
          "2021",
          "2022",
          "2023"
         ],
         "xaxis": "x",
         "y": [
          2,
          3,
          2
         ],
         "yaxis": "y"
        }
       ],
       "layout": {
        "barmode": "relative",
        "height": 600,
        "legend": {
         "title": {
          "text": "color"
         },
         "tracegroupgap": 0
        },
        "margin": {
         "b": 20,
         "l": 100,
         "r": 150,
         "t": 100
        },
        "paper_bgcolor": "LightSteelBlue",
        "template": {
         "data": {
          "bar": [
           {
            "error_x": {
             "color": "#2a3f5f"
            },
            "error_y": {
             "color": "#2a3f5f"
            },
            "marker": {
             "line": {
              "color": "#E5ECF6",
              "width": 0.5
             },
             "pattern": {
              "fillmode": "overlay",
              "size": 10,
              "solidity": 0.2
             }
            },
            "type": "bar"
           }
          ],
          "barpolar": [
           {
            "marker": {
             "line": {
              "color": "#E5ECF6",
              "width": 0.5
             },
             "pattern": {
              "fillmode": "overlay",
              "size": 10,
              "solidity": 0.2
             }
            },
            "type": "barpolar"
           }
          ],
          "carpet": [
           {
            "aaxis": {
             "endlinecolor": "#2a3f5f",
             "gridcolor": "white",
             "linecolor": "white",
             "minorgridcolor": "white",
             "startlinecolor": "#2a3f5f"
            },
            "baxis": {
             "endlinecolor": "#2a3f5f",
             "gridcolor": "white",
             "linecolor": "white",
             "minorgridcolor": "white",
             "startlinecolor": "#2a3f5f"
            },
            "type": "carpet"
           }
          ],
          "choropleth": [
           {
            "colorbar": {
             "outlinewidth": 0,
             "ticks": ""
            },
            "type": "choropleth"
           }
          ],
          "contour": [
           {
            "colorbar": {
             "outlinewidth": 0,
             "ticks": ""
            },
            "colorscale": [
             [
              0,
              "#0d0887"
             ],
             [
              0.1111111111111111,
              "#46039f"
             ],
             [
              0.2222222222222222,
              "#7201a8"
             ],
             [
              0.3333333333333333,
              "#9c179e"
             ],
             [
              0.4444444444444444,
              "#bd3786"
             ],
             [
              0.5555555555555556,
              "#d8576b"
             ],
             [
              0.6666666666666666,
              "#ed7953"
             ],
             [
              0.7777777777777778,
              "#fb9f3a"
             ],
             [
              0.8888888888888888,
              "#fdca26"
             ],
             [
              1,
              "#f0f921"
             ]
            ],
            "type": "contour"
           }
          ],
          "contourcarpet": [
           {
            "colorbar": {
             "outlinewidth": 0,
             "ticks": ""
            },
            "type": "contourcarpet"
           }
          ],
          "heatmap": [
           {
            "colorbar": {
             "outlinewidth": 0,
             "ticks": ""
            },
            "colorscale": [
             [
              0,
              "#0d0887"
             ],
             [
              0.1111111111111111,
              "#46039f"
             ],
             [
              0.2222222222222222,
              "#7201a8"
             ],
             [
              0.3333333333333333,
              "#9c179e"
             ],
             [
              0.4444444444444444,
              "#bd3786"
             ],
             [
              0.5555555555555556,
              "#d8576b"
             ],
             [
              0.6666666666666666,
              "#ed7953"
             ],
             [
              0.7777777777777778,
              "#fb9f3a"
             ],
             [
              0.8888888888888888,
              "#fdca26"
             ],
             [
              1,
              "#f0f921"
             ]
            ],
            "type": "heatmap"
           }
          ],
          "heatmapgl": [
           {
            "colorbar": {
             "outlinewidth": 0,
             "ticks": ""
            },
            "colorscale": [
             [
              0,
              "#0d0887"
             ],
             [
              0.1111111111111111,
              "#46039f"
             ],
             [
              0.2222222222222222,
              "#7201a8"
             ],
             [
              0.3333333333333333,
              "#9c179e"
             ],
             [
              0.4444444444444444,
              "#bd3786"
             ],
             [
              0.5555555555555556,
              "#d8576b"
             ],
             [
              0.6666666666666666,
              "#ed7953"
             ],
             [
              0.7777777777777778,
              "#fb9f3a"
             ],
             [
              0.8888888888888888,
              "#fdca26"
             ],
             [
              1,
              "#f0f921"
             ]
            ],
            "type": "heatmapgl"
           }
          ],
          "histogram": [
           {
            "marker": {
             "pattern": {
              "fillmode": "overlay",
              "size": 10,
              "solidity": 0.2
             }
            },
            "type": "histogram"
           }
          ],
          "histogram2d": [
           {
            "colorbar": {
             "outlinewidth": 0,
             "ticks": ""
            },
            "colorscale": [
             [
              0,
              "#0d0887"
             ],
             [
              0.1111111111111111,
              "#46039f"
             ],
             [
              0.2222222222222222,
              "#7201a8"
             ],
             [
              0.3333333333333333,
              "#9c179e"
             ],
             [
              0.4444444444444444,
              "#bd3786"
             ],
             [
              0.5555555555555556,
              "#d8576b"
             ],
             [
              0.6666666666666666,
              "#ed7953"
             ],
             [
              0.7777777777777778,
              "#fb9f3a"
             ],
             [
              0.8888888888888888,
              "#fdca26"
             ],
             [
              1,
              "#f0f921"
             ]
            ],
            "type": "histogram2d"
           }
          ],
          "histogram2dcontour": [
           {
            "colorbar": {
             "outlinewidth": 0,
             "ticks": ""
            },
            "colorscale": [
             [
              0,
              "#0d0887"
             ],
             [
              0.1111111111111111,
              "#46039f"
             ],
             [
              0.2222222222222222,
              "#7201a8"
             ],
             [
              0.3333333333333333,
              "#9c179e"
             ],
             [
              0.4444444444444444,
              "#bd3786"
             ],
             [
              0.5555555555555556,
              "#d8576b"
             ],
             [
              0.6666666666666666,
              "#ed7953"
             ],
             [
              0.7777777777777778,
              "#fb9f3a"
             ],
             [
              0.8888888888888888,
              "#fdca26"
             ],
             [
              1,
              "#f0f921"
             ]
            ],
            "type": "histogram2dcontour"
           }
          ],
          "mesh3d": [
           {
            "colorbar": {
             "outlinewidth": 0,
             "ticks": ""
            },
            "type": "mesh3d"
           }
          ],
          "parcoords": [
           {
            "line": {
             "colorbar": {
              "outlinewidth": 0,
              "ticks": ""
             }
            },
            "type": "parcoords"
           }
          ],
          "pie": [
           {
            "automargin": true,
            "type": "pie"
           }
          ],
          "scatter": [
           {
            "fillpattern": {
             "fillmode": "overlay",
             "size": 10,
             "solidity": 0.2
            },
            "type": "scatter"
           }
          ],
          "scatter3d": [
           {
            "line": {
             "colorbar": {
              "outlinewidth": 0,
              "ticks": ""
             }
            },
            "marker": {
             "colorbar": {
              "outlinewidth": 0,
              "ticks": ""
             }
            },
            "type": "scatter3d"
           }
          ],
          "scattercarpet": [
           {
            "marker": {
             "colorbar": {
              "outlinewidth": 0,
              "ticks": ""
             }
            },
            "type": "scattercarpet"
           }
          ],
          "scattergeo": [
           {
            "marker": {
             "colorbar": {
              "outlinewidth": 0,
              "ticks": ""
             }
            },
            "type": "scattergeo"
           }
          ],
          "scattergl": [
           {
            "marker": {
             "colorbar": {
              "outlinewidth": 0,
              "ticks": ""
             }
            },
            "type": "scattergl"
           }
          ],
          "scattermapbox": [
           {
            "marker": {
             "colorbar": {
              "outlinewidth": 0,
              "ticks": ""
             }
            },
            "type": "scattermapbox"
           }
          ],
          "scatterpolar": [
           {
            "marker": {
             "colorbar": {
              "outlinewidth": 0,
              "ticks": ""
             }
            },
            "type": "scatterpolar"
           }
          ],
          "scatterpolargl": [
           {
            "marker": {
             "colorbar": {
              "outlinewidth": 0,
              "ticks": ""
             }
            },
            "type": "scatterpolargl"
           }
          ],
          "scatterternary": [
           {
            "marker": {
             "colorbar": {
              "outlinewidth": 0,
              "ticks": ""
             }
            },
            "type": "scatterternary"
           }
          ],
          "surface": [
           {
            "colorbar": {
             "outlinewidth": 0,
             "ticks": ""
            },
            "colorscale": [
             [
              0,
              "#0d0887"
             ],
             [
              0.1111111111111111,
              "#46039f"
             ],
             [
              0.2222222222222222,
              "#7201a8"
             ],
             [
              0.3333333333333333,
              "#9c179e"
             ],
             [
              0.4444444444444444,
              "#bd3786"
             ],
             [
              0.5555555555555556,
              "#d8576b"
             ],
             [
              0.6666666666666666,
              "#ed7953"
             ],
             [
              0.7777777777777778,
              "#fb9f3a"
             ],
             [
              0.8888888888888888,
              "#fdca26"
             ],
             [
              1,
              "#f0f921"
             ]
            ],
            "type": "surface"
           }
          ],
          "table": [
           {
            "cells": {
             "fill": {
              "color": "#EBF0F8"
             },
             "line": {
              "color": "white"
             }
            },
            "header": {
             "fill": {
              "color": "#C8D4E3"
             },
             "line": {
              "color": "white"
             }
            },
            "type": "table"
           }
          ]
         },
         "layout": {
          "annotationdefaults": {
           "arrowcolor": "#2a3f5f",
           "arrowhead": 0,
           "arrowwidth": 1
          },
          "autotypenumbers": "strict",
          "coloraxis": {
           "colorbar": {
            "outlinewidth": 0,
            "ticks": ""
           }
          },
          "colorscale": {
           "diverging": [
            [
             0,
             "#8e0152"
            ],
            [
             0.1,
             "#c51b7d"
            ],
            [
             0.2,
             "#de77ae"
            ],
            [
             0.3,
             "#f1b6da"
            ],
            [
             0.4,
             "#fde0ef"
            ],
            [
             0.5,
             "#f7f7f7"
            ],
            [
             0.6,
             "#e6f5d0"
            ],
            [
             0.7,
             "#b8e186"
            ],
            [
             0.8,
             "#7fbc41"
            ],
            [
             0.9,
             "#4d9221"
            ],
            [
             1,
             "#276419"
            ]
           ],
           "sequential": [
            [
             0,
             "#0d0887"
            ],
            [
             0.1111111111111111,
             "#46039f"
            ],
            [
             0.2222222222222222,
             "#7201a8"
            ],
            [
             0.3333333333333333,
             "#9c179e"
            ],
            [
             0.4444444444444444,
             "#bd3786"
            ],
            [
             0.5555555555555556,
             "#d8576b"
            ],
            [
             0.6666666666666666,
             "#ed7953"
            ],
            [
             0.7777777777777778,
             "#fb9f3a"
            ],
            [
             0.8888888888888888,
             "#fdca26"
            ],
            [
             1,
             "#f0f921"
            ]
           ],
           "sequentialminus": [
            [
             0,
             "#0d0887"
            ],
            [
             0.1111111111111111,
             "#46039f"
            ],
            [
             0.2222222222222222,
             "#7201a8"
            ],
            [
             0.3333333333333333,
             "#9c179e"
            ],
            [
             0.4444444444444444,
             "#bd3786"
            ],
            [
             0.5555555555555556,
             "#d8576b"
            ],
            [
             0.6666666666666666,
             "#ed7953"
            ],
            [
             0.7777777777777778,
             "#fb9f3a"
            ],
            [
             0.8888888888888888,
             "#fdca26"
            ],
            [
             1,
             "#f0f921"
            ]
           ]
          },
          "colorway": [
           "#636efa",
           "#EF553B",
           "#00cc96",
           "#ab63fa",
           "#FFA15A",
           "#19d3f3",
           "#FF6692",
           "#B6E880",
           "#FF97FF",
           "#FECB52"
          ],
          "font": {
           "color": "#2a3f5f"
          },
          "geo": {
           "bgcolor": "white",
           "lakecolor": "white",
           "landcolor": "#E5ECF6",
           "showlakes": true,
           "showland": true,
           "subunitcolor": "white"
          },
          "hoverlabel": {
           "align": "left"
          },
          "hovermode": "closest",
          "mapbox": {
           "style": "light"
          },
          "paper_bgcolor": "white",
          "plot_bgcolor": "#E5ECF6",
          "polar": {
           "angularaxis": {
            "gridcolor": "white",
            "linecolor": "white",
            "ticks": ""
           },
           "bgcolor": "#E5ECF6",
           "radialaxis": {
            "gridcolor": "white",
            "linecolor": "white",
            "ticks": ""
           }
          },
          "scene": {
           "xaxis": {
            "backgroundcolor": "#E5ECF6",
            "gridcolor": "white",
            "gridwidth": 2,
            "linecolor": "white",
            "showbackground": true,
            "ticks": "",
            "zerolinecolor": "white"
           },
           "yaxis": {
            "backgroundcolor": "#E5ECF6",
            "gridcolor": "white",
            "gridwidth": 2,
            "linecolor": "white",
            "showbackground": true,
            "ticks": "",
            "zerolinecolor": "white"
           },
           "zaxis": {
            "backgroundcolor": "#E5ECF6",
            "gridcolor": "white",
            "gridwidth": 2,
            "linecolor": "white",
            "showbackground": true,
            "ticks": "",
            "zerolinecolor": "white"
           }
          },
          "shapedefaults": {
           "line": {
            "color": "#2a3f5f"
           }
          },
          "ternary": {
           "aaxis": {
            "gridcolor": "white",
            "linecolor": "white",
            "ticks": ""
           },
           "baxis": {
            "gridcolor": "white",
            "linecolor": "white",
            "ticks": ""
           },
           "bgcolor": "#E5ECF6",
           "caxis": {
            "gridcolor": "white",
            "linecolor": "white",
            "ticks": ""
           }
          },
          "title": {
           "x": 0.05
          },
          "xaxis": {
           "automargin": true,
           "gridcolor": "white",
           "linecolor": "white",
           "ticks": "",
           "title": {
            "standoff": 15
           },
           "zerolinecolor": "white",
           "zerolinewidth": 2
          },
          "yaxis": {
           "automargin": true,
           "gridcolor": "white",
           "linecolor": "white",
           "ticks": "",
           "title": {
            "standoff": 15
           },
           "zerolinecolor": "white",
           "zerolinewidth": 2
          }
         }
        },
        "title": {
         "text": "Record Label distribution by year",
         "x": 0.5
        },
        "xaxis": {
         "anchor": "y",
         "domain": [
          0,
          1
         ],
         "title": {
          "text": "Track Added Year"
         },
         "type": "category"
        },
        "yaxis": {
         "anchor": "x",
         "domain": [
          0,
          1
         ],
         "title": {
          "text": "Record Labels"
         }
        }
       }
      },
      "text/html": [
       "<div>                            <div id=\"598a6abd-8ca0-447b-8ccd-e43342402ef7\" class=\"plotly-graph-div\" style=\"height:600px; width:100%;\"></div>            <script type=\"text/javascript\">                require([\"plotly\"], function(Plotly) {                    window.PLOTLYENV=window.PLOTLYENV || {};                                    if (document.getElementById(\"598a6abd-8ca0-447b-8ccd-e43342402ef7\")) {                    Plotly.newPlot(                        \"598a6abd-8ca0-447b-8ccd-e43342402ef7\",                        [{\"alignmentgroup\":\"True\",\"hovertemplate\":\"color=RCA Records Label<br>x=%{x}<br>y=%{y}<extra></extra>\",\"legendgroup\":\"RCA Records Label\",\"marker\":{\"color\":\"#636efa\",\"pattern\":{\"shape\":\"\"}},\"name\":\"RCA Records Label\",\"offsetgroup\":\"RCA Records Label\",\"orientation\":\"v\",\"showlegend\":true,\"textposition\":\"auto\",\"x\":[\"2019\",\"2020\",\"2021\",\"2022\"],\"xaxis\":\"x\",\"y\":[2,1,4,2],\"yaxis\":\"y\",\"type\":\"bar\"},{\"alignmentgroup\":\"True\",\"hovertemplate\":\"color=Universal-Island Records Ltd.<br>x=%{x}<br>y=%{y}<extra></extra>\",\"legendgroup\":\"Universal-Island Records Ltd.\",\"marker\":{\"color\":\"#EF553B\",\"pattern\":{\"shape\":\"\"}},\"name\":\"Universal-Island Records Ltd.\",\"offsetgroup\":\"Universal-Island Records Ltd.\",\"orientation\":\"v\",\"showlegend\":true,\"textposition\":\"auto\",\"x\":[\"2019\",\"2021\",\"2022\"],\"xaxis\":\"x\",\"y\":[1,1,5],\"yaxis\":\"y\",\"type\":\"bar\"},{\"alignmentgroup\":\"True\",\"hovertemplate\":\"color=Atlantic Records<br>x=%{x}<br>y=%{y}<extra></extra>\",\"legendgroup\":\"Atlantic Records\",\"marker\":{\"color\":\"#00cc96\",\"pattern\":{\"shape\":\"\"}},\"name\":\"Atlantic Records\",\"offsetgroup\":\"Atlantic Records\",\"orientation\":\"v\",\"showlegend\":true,\"textposition\":\"auto\",\"x\":[\"2020\",\"2021\",\"2022\"],\"xaxis\":\"x\",\"y\":[1,2,3],\"yaxis\":\"y\",\"type\":\"bar\"},{\"alignmentgroup\":\"True\",\"hovertemplate\":\"color=Columbia<br>x=%{x}<br>y=%{y}<extra></extra>\",\"legendgroup\":\"Columbia\",\"marker\":{\"color\":\"#ab63fa\",\"pattern\":{\"shape\":\"\"}},\"name\":\"Columbia\",\"offsetgroup\":\"Columbia\",\"orientation\":\"v\",\"showlegend\":true,\"textposition\":\"auto\",\"x\":[\"2020\",\"2021\",\"2022\",\"2023\"],\"xaxis\":\"x\",\"y\":[1,7,8,1],\"yaxis\":\"y\",\"type\":\"bar\"},{\"alignmentgroup\":\"True\",\"hovertemplate\":\"color=Geffen<br>x=%{x}<br>y=%{y}<extra></extra>\",\"legendgroup\":\"Geffen\",\"marker\":{\"color\":\"#FFA15A\",\"pattern\":{\"shape\":\"\"}},\"name\":\"Geffen\",\"offsetgroup\":\"Geffen\",\"orientation\":\"v\",\"showlegend\":true,\"textposition\":\"auto\",\"x\":[\"2021\",\"2022\",\"2023\"],\"xaxis\":\"x\",\"y\":[4,1,1],\"yaxis\":\"y\",\"type\":\"bar\"},{\"alignmentgroup\":\"True\",\"hovertemplate\":\"color=Island Records<br>x=%{x}<br>y=%{y}<extra></extra>\",\"legendgroup\":\"Island Records\",\"marker\":{\"color\":\"#19d3f3\",\"pattern\":{\"shape\":\"\"}},\"name\":\"Island Records\",\"offsetgroup\":\"Island Records\",\"orientation\":\"v\",\"showlegend\":true,\"textposition\":\"auto\",\"x\":[\"2021\",\"2022\"],\"xaxis\":\"x\",\"y\":[1,5],\"yaxis\":\"y\",\"type\":\"bar\"},{\"alignmentgroup\":\"True\",\"hovertemplate\":\"color=Virgin Records<br>x=%{x}<br>y=%{y}<extra></extra>\",\"legendgroup\":\"Virgin Records\",\"marker\":{\"color\":\"#FF6692\",\"pattern\":{\"shape\":\"\"}},\"name\":\"Virgin Records\",\"offsetgroup\":\"Virgin Records\",\"orientation\":\"v\",\"showlegend\":true,\"textposition\":\"auto\",\"x\":[\"2021\",\"2022\"],\"xaxis\":\"x\",\"y\":[2,4],\"yaxis\":\"y\",\"type\":\"bar\"},{\"alignmentgroup\":\"True\",\"hovertemplate\":\"color=Warner Records<br>x=%{x}<br>y=%{y}<extra></extra>\",\"legendgroup\":\"Warner Records\",\"marker\":{\"color\":\"#B6E880\",\"pattern\":{\"shape\":\"\"}},\"name\":\"Warner Records\",\"offsetgroup\":\"Warner Records\",\"orientation\":\"v\",\"showlegend\":true,\"textposition\":\"auto\",\"x\":[\"2021\",\"2022\",\"2023\"],\"xaxis\":\"x\",\"y\":[2,3,2],\"yaxis\":\"y\",\"type\":\"bar\"}],                        {\"template\":{\"data\":{\"histogram2dcontour\":[{\"type\":\"histogram2dcontour\",\"colorbar\":{\"outlinewidth\":0,\"ticks\":\"\"},\"colorscale\":[[0.0,\"#0d0887\"],[0.1111111111111111,\"#46039f\"],[0.2222222222222222,\"#7201a8\"],[0.3333333333333333,\"#9c179e\"],[0.4444444444444444,\"#bd3786\"],[0.5555555555555556,\"#d8576b\"],[0.6666666666666666,\"#ed7953\"],[0.7777777777777778,\"#fb9f3a\"],[0.8888888888888888,\"#fdca26\"],[1.0,\"#f0f921\"]]}],\"choropleth\":[{\"type\":\"choropleth\",\"colorbar\":{\"outlinewidth\":0,\"ticks\":\"\"}}],\"histogram2d\":[{\"type\":\"histogram2d\",\"colorbar\":{\"outlinewidth\":0,\"ticks\":\"\"},\"colorscale\":[[0.0,\"#0d0887\"],[0.1111111111111111,\"#46039f\"],[0.2222222222222222,\"#7201a8\"],[0.3333333333333333,\"#9c179e\"],[0.4444444444444444,\"#bd3786\"],[0.5555555555555556,\"#d8576b\"],[0.6666666666666666,\"#ed7953\"],[0.7777777777777778,\"#fb9f3a\"],[0.8888888888888888,\"#fdca26\"],[1.0,\"#f0f921\"]]}],\"heatmap\":[{\"type\":\"heatmap\",\"colorbar\":{\"outlinewidth\":0,\"ticks\":\"\"},\"colorscale\":[[0.0,\"#0d0887\"],[0.1111111111111111,\"#46039f\"],[0.2222222222222222,\"#7201a8\"],[0.3333333333333333,\"#9c179e\"],[0.4444444444444444,\"#bd3786\"],[0.5555555555555556,\"#d8576b\"],[0.6666666666666666,\"#ed7953\"],[0.7777777777777778,\"#fb9f3a\"],[0.8888888888888888,\"#fdca26\"],[1.0,\"#f0f921\"]]}],\"heatmapgl\":[{\"type\":\"heatmapgl\",\"colorbar\":{\"outlinewidth\":0,\"ticks\":\"\"},\"colorscale\":[[0.0,\"#0d0887\"],[0.1111111111111111,\"#46039f\"],[0.2222222222222222,\"#7201a8\"],[0.3333333333333333,\"#9c179e\"],[0.4444444444444444,\"#bd3786\"],[0.5555555555555556,\"#d8576b\"],[0.6666666666666666,\"#ed7953\"],[0.7777777777777778,\"#fb9f3a\"],[0.8888888888888888,\"#fdca26\"],[1.0,\"#f0f921\"]]}],\"contourcarpet\":[{\"type\":\"contourcarpet\",\"colorbar\":{\"outlinewidth\":0,\"ticks\":\"\"}}],\"contour\":[{\"type\":\"contour\",\"colorbar\":{\"outlinewidth\":0,\"ticks\":\"\"},\"colorscale\":[[0.0,\"#0d0887\"],[0.1111111111111111,\"#46039f\"],[0.2222222222222222,\"#7201a8\"],[0.3333333333333333,\"#9c179e\"],[0.4444444444444444,\"#bd3786\"],[0.5555555555555556,\"#d8576b\"],[0.6666666666666666,\"#ed7953\"],[0.7777777777777778,\"#fb9f3a\"],[0.8888888888888888,\"#fdca26\"],[1.0,\"#f0f921\"]]}],\"surface\":[{\"type\":\"surface\",\"colorbar\":{\"outlinewidth\":0,\"ticks\":\"\"},\"colorscale\":[[0.0,\"#0d0887\"],[0.1111111111111111,\"#46039f\"],[0.2222222222222222,\"#7201a8\"],[0.3333333333333333,\"#9c179e\"],[0.4444444444444444,\"#bd3786\"],[0.5555555555555556,\"#d8576b\"],[0.6666666666666666,\"#ed7953\"],[0.7777777777777778,\"#fb9f3a\"],[0.8888888888888888,\"#fdca26\"],[1.0,\"#f0f921\"]]}],\"mesh3d\":[{\"type\":\"mesh3d\",\"colorbar\":{\"outlinewidth\":0,\"ticks\":\"\"}}],\"scatter\":[{\"fillpattern\":{\"fillmode\":\"overlay\",\"size\":10,\"solidity\":0.2},\"type\":\"scatter\"}],\"parcoords\":[{\"type\":\"parcoords\",\"line\":{\"colorbar\":{\"outlinewidth\":0,\"ticks\":\"\"}}}],\"scatterpolargl\":[{\"type\":\"scatterpolargl\",\"marker\":{\"colorbar\":{\"outlinewidth\":0,\"ticks\":\"\"}}}],\"bar\":[{\"error_x\":{\"color\":\"#2a3f5f\"},\"error_y\":{\"color\":\"#2a3f5f\"},\"marker\":{\"line\":{\"color\":\"#E5ECF6\",\"width\":0.5},\"pattern\":{\"fillmode\":\"overlay\",\"size\":10,\"solidity\":0.2}},\"type\":\"bar\"}],\"scattergeo\":[{\"type\":\"scattergeo\",\"marker\":{\"colorbar\":{\"outlinewidth\":0,\"ticks\":\"\"}}}],\"scatterpolar\":[{\"type\":\"scatterpolar\",\"marker\":{\"colorbar\":{\"outlinewidth\":0,\"ticks\":\"\"}}}],\"histogram\":[{\"marker\":{\"pattern\":{\"fillmode\":\"overlay\",\"size\":10,\"solidity\":0.2}},\"type\":\"histogram\"}],\"scattergl\":[{\"type\":\"scattergl\",\"marker\":{\"colorbar\":{\"outlinewidth\":0,\"ticks\":\"\"}}}],\"scatter3d\":[{\"type\":\"scatter3d\",\"line\":{\"colorbar\":{\"outlinewidth\":0,\"ticks\":\"\"}},\"marker\":{\"colorbar\":{\"outlinewidth\":0,\"ticks\":\"\"}}}],\"scattermapbox\":[{\"type\":\"scattermapbox\",\"marker\":{\"colorbar\":{\"outlinewidth\":0,\"ticks\":\"\"}}}],\"scatterternary\":[{\"type\":\"scatterternary\",\"marker\":{\"colorbar\":{\"outlinewidth\":0,\"ticks\":\"\"}}}],\"scattercarpet\":[{\"type\":\"scattercarpet\",\"marker\":{\"colorbar\":{\"outlinewidth\":0,\"ticks\":\"\"}}}],\"carpet\":[{\"aaxis\":{\"endlinecolor\":\"#2a3f5f\",\"gridcolor\":\"white\",\"linecolor\":\"white\",\"minorgridcolor\":\"white\",\"startlinecolor\":\"#2a3f5f\"},\"baxis\":{\"endlinecolor\":\"#2a3f5f\",\"gridcolor\":\"white\",\"linecolor\":\"white\",\"minorgridcolor\":\"white\",\"startlinecolor\":\"#2a3f5f\"},\"type\":\"carpet\"}],\"table\":[{\"cells\":{\"fill\":{\"color\":\"#EBF0F8\"},\"line\":{\"color\":\"white\"}},\"header\":{\"fill\":{\"color\":\"#C8D4E3\"},\"line\":{\"color\":\"white\"}},\"type\":\"table\"}],\"barpolar\":[{\"marker\":{\"line\":{\"color\":\"#E5ECF6\",\"width\":0.5},\"pattern\":{\"fillmode\":\"overlay\",\"size\":10,\"solidity\":0.2}},\"type\":\"barpolar\"}],\"pie\":[{\"automargin\":true,\"type\":\"pie\"}]},\"layout\":{\"autotypenumbers\":\"strict\",\"colorway\":[\"#636efa\",\"#EF553B\",\"#00cc96\",\"#ab63fa\",\"#FFA15A\",\"#19d3f3\",\"#FF6692\",\"#B6E880\",\"#FF97FF\",\"#FECB52\"],\"font\":{\"color\":\"#2a3f5f\"},\"hovermode\":\"closest\",\"hoverlabel\":{\"align\":\"left\"},\"paper_bgcolor\":\"white\",\"plot_bgcolor\":\"#E5ECF6\",\"polar\":{\"bgcolor\":\"#E5ECF6\",\"angularaxis\":{\"gridcolor\":\"white\",\"linecolor\":\"white\",\"ticks\":\"\"},\"radialaxis\":{\"gridcolor\":\"white\",\"linecolor\":\"white\",\"ticks\":\"\"}},\"ternary\":{\"bgcolor\":\"#E5ECF6\",\"aaxis\":{\"gridcolor\":\"white\",\"linecolor\":\"white\",\"ticks\":\"\"},\"baxis\":{\"gridcolor\":\"white\",\"linecolor\":\"white\",\"ticks\":\"\"},\"caxis\":{\"gridcolor\":\"white\",\"linecolor\":\"white\",\"ticks\":\"\"}},\"coloraxis\":{\"colorbar\":{\"outlinewidth\":0,\"ticks\":\"\"}},\"colorscale\":{\"sequential\":[[0.0,\"#0d0887\"],[0.1111111111111111,\"#46039f\"],[0.2222222222222222,\"#7201a8\"],[0.3333333333333333,\"#9c179e\"],[0.4444444444444444,\"#bd3786\"],[0.5555555555555556,\"#d8576b\"],[0.6666666666666666,\"#ed7953\"],[0.7777777777777778,\"#fb9f3a\"],[0.8888888888888888,\"#fdca26\"],[1.0,\"#f0f921\"]],\"sequentialminus\":[[0.0,\"#0d0887\"],[0.1111111111111111,\"#46039f\"],[0.2222222222222222,\"#7201a8\"],[0.3333333333333333,\"#9c179e\"],[0.4444444444444444,\"#bd3786\"],[0.5555555555555556,\"#d8576b\"],[0.6666666666666666,\"#ed7953\"],[0.7777777777777778,\"#fb9f3a\"],[0.8888888888888888,\"#fdca26\"],[1.0,\"#f0f921\"]],\"diverging\":[[0,\"#8e0152\"],[0.1,\"#c51b7d\"],[0.2,\"#de77ae\"],[0.3,\"#f1b6da\"],[0.4,\"#fde0ef\"],[0.5,\"#f7f7f7\"],[0.6,\"#e6f5d0\"],[0.7,\"#b8e186\"],[0.8,\"#7fbc41\"],[0.9,\"#4d9221\"],[1,\"#276419\"]]},\"xaxis\":{\"gridcolor\":\"white\",\"linecolor\":\"white\",\"ticks\":\"\",\"title\":{\"standoff\":15},\"zerolinecolor\":\"white\",\"automargin\":true,\"zerolinewidth\":2},\"yaxis\":{\"gridcolor\":\"white\",\"linecolor\":\"white\",\"ticks\":\"\",\"title\":{\"standoff\":15},\"zerolinecolor\":\"white\",\"automargin\":true,\"zerolinewidth\":2},\"scene\":{\"xaxis\":{\"backgroundcolor\":\"#E5ECF6\",\"gridcolor\":\"white\",\"linecolor\":\"white\",\"showbackground\":true,\"ticks\":\"\",\"zerolinecolor\":\"white\",\"gridwidth\":2},\"yaxis\":{\"backgroundcolor\":\"#E5ECF6\",\"gridcolor\":\"white\",\"linecolor\":\"white\",\"showbackground\":true,\"ticks\":\"\",\"zerolinecolor\":\"white\",\"gridwidth\":2},\"zaxis\":{\"backgroundcolor\":\"#E5ECF6\",\"gridcolor\":\"white\",\"linecolor\":\"white\",\"showbackground\":true,\"ticks\":\"\",\"zerolinecolor\":\"white\",\"gridwidth\":2}},\"shapedefaults\":{\"line\":{\"color\":\"#2a3f5f\"}},\"annotationdefaults\":{\"arrowcolor\":\"#2a3f5f\",\"arrowhead\":0,\"arrowwidth\":1},\"geo\":{\"bgcolor\":\"white\",\"landcolor\":\"#E5ECF6\",\"subunitcolor\":\"white\",\"showland\":true,\"showlakes\":true,\"lakecolor\":\"white\"},\"title\":{\"x\":0.05},\"mapbox\":{\"style\":\"light\"}}},\"xaxis\":{\"anchor\":\"y\",\"domain\":[0.0,1.0],\"title\":{\"text\":\"Track Added Year\"},\"type\":\"category\"},\"yaxis\":{\"anchor\":\"x\",\"domain\":[0.0,1.0],\"title\":{\"text\":\"Record Labels\"}},\"legend\":{\"title\":{\"text\":\"color\"},\"tracegroupgap\":0},\"margin\":{\"t\":100,\"l\":100,\"r\":150,\"b\":20},\"barmode\":\"relative\",\"title\":{\"text\":\"Record Label distribution by year\",\"x\":0.5},\"paper_bgcolor\":\"LightSteelBlue\",\"height\":600},                        {\"responsive\": true}                    ).then(function(){\n",
       "                            \n",
       "var gd = document.getElementById('598a6abd-8ca0-447b-8ccd-e43342402ef7');\n",
       "var x = new MutationObserver(function (mutations, observer) {{\n",
       "        var display = window.getComputedStyle(gd).display;\n",
       "        if (!display || display === 'none') {{\n",
       "            console.log([gd, 'removed!']);\n",
       "            Plotly.purge(gd);\n",
       "            observer.disconnect();\n",
       "        }}\n",
       "}});\n",
       "\n",
       "// Listen for the removal of the full notebook cells\n",
       "var notebookContainer = gd.closest('#notebook-container');\n",
       "if (notebookContainer) {{\n",
       "    x.observe(notebookContainer, {childList: true});\n",
       "}}\n",
       "\n",
       "// Listen for the clearing of the current output cell\n",
       "var outputEl = gd.closest('.output');\n",
       "if (outputEl) {{\n",
       "    x.observe(outputEl, {childList: true});\n",
       "}}\n",
       "\n",
       "                        })                };                });            </script>        </div>"
      ]
     },
     "metadata": {},
     "output_type": "display_data"
    }
   ],
   "source": [
    "# To narrow down the number, I'm only going to consider Record Labels that have more than 5 songs\n",
    "recLabels = playlist['Record_Label'].value_counts().reset_index().query('Record_Label > 5')['index'].tolist()\n",
    "t = (playlist[playlist['Record_Label'].isin(recLabels)]\n",
    " .assign(Added_Year=playlist.Added_At.dt.strftime(\"%Y\"))\n",
    " [['Record_Label','Added_Year','Song']]\n",
    " .groupby(['Added_Year','Record_Label'])['Song']\n",
    " .count().reset_index()\n",
    " )\n",
    "\n",
    "px.bar(x=t.Added_Year, y=t.Song, color=t.Record_Label).update_xaxes(type='category').update_layout(\n",
    "                  title_text=\"Record Label distribution by year\",\n",
    "                  title_x=0.5,\n",
    "                  yaxis_title='Record Labels',\n",
    "                  xaxis_title='Track Added Year',\n",
    "                  paper_bgcolor=\"LightSteelBlue\",\n",
    "                  height=600,\n",
    "                  margin=dict(l=100, r=150, t=100, b=20)\n",
    ")"
   ]
  },
  {
   "cell_type": "code",
   "execution_count": 70,
   "metadata": {},
   "outputs": [
    {
     "data": {
      "text/html": [
       "<div>\n",
       "<style scoped>\n",
       "    .dataframe tbody tr th:only-of-type {\n",
       "        vertical-align: middle;\n",
       "    }\n",
       "\n",
       "    .dataframe tbody tr th {\n",
       "        vertical-align: top;\n",
       "    }\n",
       "\n",
       "    .dataframe thead th {\n",
       "        text-align: right;\n",
       "    }\n",
       "</style>\n",
       "<table border=\"1\" class=\"dataframe\">\n",
       "  <thead>\n",
       "    <tr style=\"text-align: right;\">\n",
       "      <th></th>\n",
       "      <th>Song</th>\n",
       "      <th>Artist</th>\n",
       "      <th>Popularity</th>\n",
       "      <th>BPM</th>\n",
       "      <th>Genres</th>\n",
       "      <th>Parent_Genres</th>\n",
       "      <th>Album</th>\n",
       "      <th>Album_Date</th>\n",
       "      <th>Time</th>\n",
       "      <th>Dance</th>\n",
       "      <th>...</th>\n",
       "      <th>Live</th>\n",
       "      <th>Loud</th>\n",
       "      <th>Key</th>\n",
       "      <th>Time_Signature</th>\n",
       "      <th>Added_At</th>\n",
       "      <th>Record_Label</th>\n",
       "      <th>Camelot</th>\n",
       "      <th>Country</th>\n",
       "      <th>Genre</th>\n",
       "      <th>Parent_Genre</th>\n",
       "    </tr>\n",
       "  </thead>\n",
       "  <tbody>\n",
       "    <tr>\n",
       "      <th>571</th>\n",
       "      <td>Más Que Amigos</td>\n",
       "      <td>Matisse</td>\n",
       "      <td>28</td>\n",
       "      <td>92</td>\n",
       "      <td>latin arena pop, latin pop, mexican pop, urban...</td>\n",
       "      <td>Latin</td>\n",
       "      <td>Sube (Summer Edition)</td>\n",
       "      <td>2016-07-08</td>\n",
       "      <td>2:57</td>\n",
       "      <td>64</td>\n",
       "      <td>...</td>\n",
       "      <td>0</td>\n",
       "      <td>-6</td>\n",
       "      <td>D Major</td>\n",
       "      <td>4</td>\n",
       "      <td>2022-10-22</td>\n",
       "      <td>Columbia</td>\n",
       "      <td>10B</td>\n",
       "      <td>{'Matisse': 'France'}</td>\n",
       "      <td>latin arena pop</td>\n",
       "      <td>Latin</td>\n",
       "    </tr>\n",
       "    <tr>\n",
       "      <th>80</th>\n",
       "      <td>1 Thing</td>\n",
       "      <td>Amerie</td>\n",
       "      <td>60</td>\n",
       "      <td>130</td>\n",
       "      <td>contemporary r&amp;b, dance pop, hip hop, hip pop,...</td>\n",
       "      <td>Pop, Hip Hop, R&amp;B</td>\n",
       "      <td>Touch</td>\n",
       "      <td>2005-01-01</td>\n",
       "      <td>3:58</td>\n",
       "      <td>61</td>\n",
       "      <td>...</td>\n",
       "      <td>0</td>\n",
       "      <td>-3</td>\n",
       "      <td>A#/B♭ Minor</td>\n",
       "      <td>5</td>\n",
       "      <td>2020-06-27</td>\n",
       "      <td>Richcraft/Sony Urban Music/Columbia</td>\n",
       "      <td>3A</td>\n",
       "      <td>{'Amerie': 'U.S.'}</td>\n",
       "      <td>contemporary r&amp;b</td>\n",
       "      <td>Pop</td>\n",
       "    </tr>\n",
       "    <tr>\n",
       "      <th>519</th>\n",
       "      <td>PIENSO EN TU MIRÁ - Cap.3: Celos</td>\n",
       "      <td>ROSALÍA</td>\n",
       "      <td>47</td>\n",
       "      <td>165</td>\n",
       "      <td>r&amp;b en espanol</td>\n",
       "      <td>R&amp;B</td>\n",
       "      <td>PIENSO EN TU MIRÁ (Cap.3: Celos)</td>\n",
       "      <td>2018-07-24</td>\n",
       "      <td>3:13</td>\n",
       "      <td>66</td>\n",
       "      <td>...</td>\n",
       "      <td>0</td>\n",
       "      <td>-6</td>\n",
       "      <td>G#/A♭ Major</td>\n",
       "      <td>3</td>\n",
       "      <td>2022-08-02</td>\n",
       "      <td>Columbia</td>\n",
       "      <td>4B</td>\n",
       "      <td>{'ROSALÍA': 'N/A'}</td>\n",
       "      <td>r&amp;b en espanol</td>\n",
       "      <td>R&amp;B</td>\n",
       "    </tr>\n",
       "  </tbody>\n",
       "</table>\n",
       "<p>3 rows × 25 columns</p>\n",
       "</div>"
      ],
      "text/plain": [
       "                                 Song   Artist  Popularity  BPM  \\\n",
       "571                    Más Que Amigos  Matisse          28   92   \n",
       "80                            1 Thing   Amerie          60  130   \n",
       "519  PIENSO EN TU MIRÁ - Cap.3: Celos  ROSALÍA          47  165   \n",
       "\n",
       "                                                Genres      Parent_Genres  \\\n",
       "571  latin arena pop, latin pop, mexican pop, urban...              Latin   \n",
       "80   contemporary r&b, dance pop, hip hop, hip pop,...  Pop, Hip Hop, R&B   \n",
       "519                                     r&b en espanol                R&B   \n",
       "\n",
       "                                Album Album_Date  Time  Dance  ...  Live  \\\n",
       "571             Sube (Summer Edition) 2016-07-08  2:57     64  ...     0   \n",
       "80                              Touch 2005-01-01  3:58     61  ...     0   \n",
       "519  PIENSO EN TU MIRÁ (Cap.3: Celos) 2018-07-24  3:13     66  ...     0   \n",
       "\n",
       "     Loud          Key  Time_Signature   Added_At  \\\n",
       "571    -6      D Major               4 2022-10-22   \n",
       "80     -3  A#/B♭ Minor               5 2020-06-27   \n",
       "519    -6  G#/A♭ Major               3 2022-08-02   \n",
       "\n",
       "                            Record_Label  Camelot                Country  \\\n",
       "571                             Columbia      10B  {'Matisse': 'France'}   \n",
       "80   Richcraft/Sony Urban Music/Columbia       3A     {'Amerie': 'U.S.'}   \n",
       "519                             Columbia       4B     {'ROSALÍA': 'N/A'}   \n",
       "\n",
       "                Genre Parent_Genre  \n",
       "571   latin arena pop        Latin  \n",
       "80   contemporary r&b          Pop  \n",
       "519    r&b en espanol          R&B  \n",
       "\n",
       "[3 rows x 25 columns]"
      ]
     },
     "execution_count": 70,
     "metadata": {},
     "output_type": "execute_result"
    }
   ],
   "source": [
    "playlist[playlist.Record_Label.str.contains(\"Columbia\")].sample(3)"
   ]
  },
  {
   "attachments": {},
   "cell_type": "markdown",
   "metadata": {},
   "source": [
    "Since this playlist contains songs of all genres and from different time periods, I want to see what are some of the earliest & latest tracks from each Record Label. This should give a good idea about the Record Label's ongoing activity in the context of this playlist. "
   ]
  },
  {
   "cell_type": "code",
   "execution_count": 71,
   "metadata": {},
   "outputs": [
    {
     "data": {
      "text/html": [
       "<div>\n",
       "<style scoped>\n",
       "    .dataframe tbody tr th:only-of-type {\n",
       "        vertical-align: middle;\n",
       "    }\n",
       "\n",
       "    .dataframe tbody tr th {\n",
       "        vertical-align: top;\n",
       "    }\n",
       "\n",
       "    .dataframe thead tr th {\n",
       "        text-align: left;\n",
       "    }\n",
       "\n",
       "    .dataframe thead tr:last-of-type th {\n",
       "        text-align: right;\n",
       "    }\n",
       "</style>\n",
       "<table border=\"1\" class=\"dataframe\">\n",
       "  <thead>\n",
       "    <tr>\n",
       "      <th></th>\n",
       "      <th colspan=\"2\" halign=\"left\">Album_Date</th>\n",
       "    </tr>\n",
       "    <tr>\n",
       "      <th></th>\n",
       "      <th>min</th>\n",
       "      <th>max</th>\n",
       "    </tr>\n",
       "    <tr>\n",
       "      <th>Record_Label</th>\n",
       "      <th></th>\n",
       "      <th></th>\n",
       "    </tr>\n",
       "  </thead>\n",
       "  <tbody>\n",
       "    <tr>\n",
       "      <th>A&amp;M</th>\n",
       "      <td>2003-06-24</td>\n",
       "      <td>2003-06-24</td>\n",
       "    </tr>\n",
       "    <tr>\n",
       "      <th>Atlantic Records</th>\n",
       "      <td>2018-02-16</td>\n",
       "      <td>2020-08-14</td>\n",
       "    </tr>\n",
       "    <tr>\n",
       "      <th>Canvasback/ATL</th>\n",
       "      <td>2011-09-02</td>\n",
       "      <td>2021-10-27</td>\n",
       "    </tr>\n",
       "    <tr>\n",
       "      <th>Capitol Records</th>\n",
       "      <td>2004-01-01</td>\n",
       "      <td>2022-08-19</td>\n",
       "    </tr>\n",
       "    <tr>\n",
       "      <th>Columbia</th>\n",
       "      <td>1999-11-04</td>\n",
       "      <td>2022-07-01</td>\n",
       "    </tr>\n",
       "    <tr>\n",
       "      <th>Domino Recording Co</th>\n",
       "      <td>2006-02-21</td>\n",
       "      <td>2018-08-24</td>\n",
       "    </tr>\n",
       "    <tr>\n",
       "      <th>Fueled By Ramen</th>\n",
       "      <td>2012-02-21</td>\n",
       "      <td>2017-05-12</td>\n",
       "    </tr>\n",
       "    <tr>\n",
       "      <th>Geffen</th>\n",
       "      <td>1991-09-26</td>\n",
       "      <td>2008-01-01</td>\n",
       "    </tr>\n",
       "    <tr>\n",
       "      <th>Glassnote Entertainment Group LLC</th>\n",
       "      <td>2009-05-25</td>\n",
       "      <td>2022-09-07</td>\n",
       "    </tr>\n",
       "    <tr>\n",
       "      <th>Island Records</th>\n",
       "      <td>1995-01-01</td>\n",
       "      <td>2022-05-13</td>\n",
       "    </tr>\n",
       "    <tr>\n",
       "      <th>Jagjaguwar</th>\n",
       "      <td>2013-02-05</td>\n",
       "      <td>2021-08-04</td>\n",
       "    </tr>\n",
       "    <tr>\n",
       "      <th>Matador</th>\n",
       "      <td>2008-12-09</td>\n",
       "      <td>2022-06-29</td>\n",
       "    </tr>\n",
       "    <tr>\n",
       "      <th>Mom+Pop</th>\n",
       "      <td>2012-11-09</td>\n",
       "      <td>2019-11-12</td>\n",
       "    </tr>\n",
       "    <tr>\n",
       "      <th>Motown</th>\n",
       "      <td>2007-08-21</td>\n",
       "      <td>2009-01-01</td>\n",
       "    </tr>\n",
       "    <tr>\n",
       "      <th>Ninja Tune</th>\n",
       "      <td>2010-09-20</td>\n",
       "      <td>2020-05-26</td>\n",
       "    </tr>\n",
       "    <tr>\n",
       "      <th>Numero Group</th>\n",
       "      <td>1998-02-24</td>\n",
       "      <td>2006-01-01</td>\n",
       "    </tr>\n",
       "    <tr>\n",
       "      <th>PIV Records</th>\n",
       "      <td>2019-03-08</td>\n",
       "      <td>2021-07-30</td>\n",
       "    </tr>\n",
       "    <tr>\n",
       "      <th>RCA Records Label</th>\n",
       "      <td>1999-11-02</td>\n",
       "      <td>2018-08-17</td>\n",
       "    </tr>\n",
       "    <tr>\n",
       "      <th>Rancho Humilde</th>\n",
       "      <td>2019-10-31</td>\n",
       "      <td>2019-12-24</td>\n",
       "    </tr>\n",
       "    <tr>\n",
       "      <th>Sony Music Latin</th>\n",
       "      <td>2015-06-02</td>\n",
       "      <td>2021-02-03</td>\n",
       "    </tr>\n",
       "    <tr>\n",
       "      <th>Stones Throw Records</th>\n",
       "      <td>2019-02-12</td>\n",
       "      <td>2022-06-29</td>\n",
       "    </tr>\n",
       "    <tr>\n",
       "      <th>Sumerian Records</th>\n",
       "      <td>2007-10-07</td>\n",
       "      <td>2010-04-06</td>\n",
       "    </tr>\n",
       "    <tr>\n",
       "      <th>Universal-Island Records Ltd.</th>\n",
       "      <td>2002-01-01</td>\n",
       "      <td>2022-06-17</td>\n",
       "    </tr>\n",
       "    <tr>\n",
       "      <th>Verzache Music, Inc.</th>\n",
       "      <td>2020-11-13</td>\n",
       "      <td>2021-03-05</td>\n",
       "    </tr>\n",
       "    <tr>\n",
       "      <th>Virgin Records</th>\n",
       "      <td>1993-01-01</td>\n",
       "      <td>2006-01-01</td>\n",
       "    </tr>\n",
       "    <tr>\n",
       "      <th>WEA Latina</th>\n",
       "      <td>2020-09-02</td>\n",
       "      <td>2021-05-28</td>\n",
       "    </tr>\n",
       "    <tr>\n",
       "      <th>Warner Records</th>\n",
       "      <td>1986-03-31</td>\n",
       "      <td>2022-05-02</td>\n",
       "    </tr>\n",
       "  </tbody>\n",
       "</table>\n",
       "</div>"
      ],
      "text/plain": [
       "                                  Album_Date           \n",
       "                                         min        max\n",
       "Record_Label                                           \n",
       "A&M                               2003-06-24 2003-06-24\n",
       "Atlantic Records                  2018-02-16 2020-08-14\n",
       "Canvasback/ATL                    2011-09-02 2021-10-27\n",
       "Capitol Records                   2004-01-01 2022-08-19\n",
       "Columbia                          1999-11-04 2022-07-01\n",
       "Domino Recording Co               2006-02-21 2018-08-24\n",
       "Fueled By Ramen                   2012-02-21 2017-05-12\n",
       "Geffen                            1991-09-26 2008-01-01\n",
       "Glassnote Entertainment Group LLC 2009-05-25 2022-09-07\n",
       "Island Records                    1995-01-01 2022-05-13\n",
       "Jagjaguwar                        2013-02-05 2021-08-04\n",
       "Matador                           2008-12-09 2022-06-29\n",
       "Mom+Pop                           2012-11-09 2019-11-12\n",
       "Motown                            2007-08-21 2009-01-01\n",
       "Ninja Tune                        2010-09-20 2020-05-26\n",
       "Numero Group                      1998-02-24 2006-01-01\n",
       "PIV Records                       2019-03-08 2021-07-30\n",
       "RCA Records Label                 1999-11-02 2018-08-17\n",
       "Rancho Humilde                    2019-10-31 2019-12-24\n",
       "Sony Music Latin                  2015-06-02 2021-02-03\n",
       "Stones Throw Records              2019-02-12 2022-06-29\n",
       "Sumerian Records                  2007-10-07 2010-04-06\n",
       "Universal-Island Records Ltd.     2002-01-01 2022-06-17\n",
       "Verzache Music, Inc.              2020-11-13 2021-03-05\n",
       "Virgin Records                    1993-01-01 2006-01-01\n",
       "WEA Latina                        2020-09-02 2021-05-28\n",
       "Warner Records                    1986-03-31 2022-05-02"
      ]
     },
     "execution_count": 71,
     "metadata": {},
     "output_type": "execute_result"
    }
   ],
   "source": [
    "# list of record label with label count > 3\n",
    "recLabels = playlist['Record_Label'].value_counts().reset_index().query('Record_Label > 3')['index'].tolist()\n",
    "(playlist[playlist['Record_Label'].isin(recLabels)]\n",
    " .groupby('Record_Label').agg({'Album_Date':['min','max']}))"
   ]
  },
  {
   "attachments": {},
   "cell_type": "markdown",
   "metadata": {},
   "source": [
    "Looking at the table above, it's not surprising to see the big labels have the biggest time difference. See Columbia, Geffen, Island Records, Matador, Virgin Records, Warner Records. While I was aware of some of the big names here, I'm learning about Geffen, Island Records, Matador first time here.\n",
    "\n",
    "Upon researching, these old timey labels have always been big and have continued to flourish as the artists they signed continued to be successful. It's a win win situation. Also, the newer artists that they sign are already good commercially."
   ]
  },
  {
   "attachments": {},
   "cell_type": "markdown",
   "metadata": {},
   "source": [
    "## Country Analysis\n",
    "\n",
    "I'll preface this by talking about markets. In the music industry, there are the major markets: US, Europe & Japan. Then there's trigger markets which are basically the major cities in South East Asia & South America. If a song is doing well in the major markets, it's pretty much a global success. If a song is unknown in the major markets but is trending in one of the trigger markets, then it's missing either a global distributor or global platform. In other words, that song has a great potential to be a global success.\n",
    "\n",
    "I have two graphs to visualize the country of origin for the artists."
   ]
  },
  {
   "cell_type": "code",
   "execution_count": 72,
   "metadata": {},
   "outputs": [
    {
     "data": {
      "application/vnd.plotly.v1+json": {
       "config": {
        "plotlyServerURL": "https://plot.ly"
       },
       "data": [
        {
         "alignmentgroup": "True",
         "hovertemplate": "variable=Country<br>index=%{x}<br>value=%{y}<extra></extra>",
         "legendgroup": "Country",
         "marker": {
          "color": "#636efa",
          "pattern": {
           "shape": ""
          }
         },
         "name": "Country",
         "offsetgroup": "Country",
         "orientation": "v",
         "showlegend": true,
         "textangle": 0,
         "textposition": "auto",
         "texttemplate": "%{y:True}",
         "type": "bar",
         "x": [
          "N/A",
          "U.S.",
          "England",
          "United States",
          "Canada",
          "France",
          "Australia",
          "United Kingdom",
          "Sweden",
          "Germany",
          "US",
          "United States of America",
          "Netherlands",
          "Colombia",
          "Wales",
          "Japan",
          "UK",
          "Ireland",
          "New Zealand",
          "Spain",
          "Norway",
          "Brazil",
          "Belgium",
          "Argentina",
          "Mexico",
          "Nigeria",
          "Puerto Rico",
          "Italy",
          "Singapore",
          "Slovenia",
          "Israel",
          "Mali",
          "Afghanistan",
          "Austria",
          "Scotland",
          "Georgia",
          "Hong Kong",
          "Denmark",
          "India",
          "South Africa"
         ],
         "xaxis": "x",
         "y": [
          252,
          170,
          39,
          23,
          17,
          16,
          11,
          10,
          8,
          7,
          7,
          6,
          6,
          5,
          5,
          4,
          4,
          3,
          3,
          3,
          3,
          3,
          2,
          2,
          2,
          2,
          2,
          1,
          1,
          1,
          1,
          1,
          1,
          1,
          1,
          1,
          1,
          1,
          1,
          1
         ],
         "yaxis": "y"
        }
       ],
       "layout": {
        "barmode": "relative",
        "legend": {
         "title": {
          "text": "variable"
         },
         "tracegroupgap": 0
        },
        "margin": {
         "b": 20,
         "l": 100,
         "r": 150,
         "t": 100
        },
        "paper_bgcolor": "LightSteelBlue",
        "template": {
         "data": {
          "bar": [
           {
            "error_x": {
             "color": "#2a3f5f"
            },
            "error_y": {
             "color": "#2a3f5f"
            },
            "marker": {
             "line": {
              "color": "#E5ECF6",
              "width": 0.5
             },
             "pattern": {
              "fillmode": "overlay",
              "size": 10,
              "solidity": 0.2
             }
            },
            "type": "bar"
           }
          ],
          "barpolar": [
           {
            "marker": {
             "line": {
              "color": "#E5ECF6",
              "width": 0.5
             },
             "pattern": {
              "fillmode": "overlay",
              "size": 10,
              "solidity": 0.2
             }
            },
            "type": "barpolar"
           }
          ],
          "carpet": [
           {
            "aaxis": {
             "endlinecolor": "#2a3f5f",
             "gridcolor": "white",
             "linecolor": "white",
             "minorgridcolor": "white",
             "startlinecolor": "#2a3f5f"
            },
            "baxis": {
             "endlinecolor": "#2a3f5f",
             "gridcolor": "white",
             "linecolor": "white",
             "minorgridcolor": "white",
             "startlinecolor": "#2a3f5f"
            },
            "type": "carpet"
           }
          ],
          "choropleth": [
           {
            "colorbar": {
             "outlinewidth": 0,
             "ticks": ""
            },
            "type": "choropleth"
           }
          ],
          "contour": [
           {
            "colorbar": {
             "outlinewidth": 0,
             "ticks": ""
            },
            "colorscale": [
             [
              0,
              "#0d0887"
             ],
             [
              0.1111111111111111,
              "#46039f"
             ],
             [
              0.2222222222222222,
              "#7201a8"
             ],
             [
              0.3333333333333333,
              "#9c179e"
             ],
             [
              0.4444444444444444,
              "#bd3786"
             ],
             [
              0.5555555555555556,
              "#d8576b"
             ],
             [
              0.6666666666666666,
              "#ed7953"
             ],
             [
              0.7777777777777778,
              "#fb9f3a"
             ],
             [
              0.8888888888888888,
              "#fdca26"
             ],
             [
              1,
              "#f0f921"
             ]
            ],
            "type": "contour"
           }
          ],
          "contourcarpet": [
           {
            "colorbar": {
             "outlinewidth": 0,
             "ticks": ""
            },
            "type": "contourcarpet"
           }
          ],
          "heatmap": [
           {
            "colorbar": {
             "outlinewidth": 0,
             "ticks": ""
            },
            "colorscale": [
             [
              0,
              "#0d0887"
             ],
             [
              0.1111111111111111,
              "#46039f"
             ],
             [
              0.2222222222222222,
              "#7201a8"
             ],
             [
              0.3333333333333333,
              "#9c179e"
             ],
             [
              0.4444444444444444,
              "#bd3786"
             ],
             [
              0.5555555555555556,
              "#d8576b"
             ],
             [
              0.6666666666666666,
              "#ed7953"
             ],
             [
              0.7777777777777778,
              "#fb9f3a"
             ],
             [
              0.8888888888888888,
              "#fdca26"
             ],
             [
              1,
              "#f0f921"
             ]
            ],
            "type": "heatmap"
           }
          ],
          "heatmapgl": [
           {
            "colorbar": {
             "outlinewidth": 0,
             "ticks": ""
            },
            "colorscale": [
             [
              0,
              "#0d0887"
             ],
             [
              0.1111111111111111,
              "#46039f"
             ],
             [
              0.2222222222222222,
              "#7201a8"
             ],
             [
              0.3333333333333333,
              "#9c179e"
             ],
             [
              0.4444444444444444,
              "#bd3786"
             ],
             [
              0.5555555555555556,
              "#d8576b"
             ],
             [
              0.6666666666666666,
              "#ed7953"
             ],
             [
              0.7777777777777778,
              "#fb9f3a"
             ],
             [
              0.8888888888888888,
              "#fdca26"
             ],
             [
              1,
              "#f0f921"
             ]
            ],
            "type": "heatmapgl"
           }
          ],
          "histogram": [
           {
            "marker": {
             "pattern": {
              "fillmode": "overlay",
              "size": 10,
              "solidity": 0.2
             }
            },
            "type": "histogram"
           }
          ],
          "histogram2d": [
           {
            "colorbar": {
             "outlinewidth": 0,
             "ticks": ""
            },
            "colorscale": [
             [
              0,
              "#0d0887"
             ],
             [
              0.1111111111111111,
              "#46039f"
             ],
             [
              0.2222222222222222,
              "#7201a8"
             ],
             [
              0.3333333333333333,
              "#9c179e"
             ],
             [
              0.4444444444444444,
              "#bd3786"
             ],
             [
              0.5555555555555556,
              "#d8576b"
             ],
             [
              0.6666666666666666,
              "#ed7953"
             ],
             [
              0.7777777777777778,
              "#fb9f3a"
             ],
             [
              0.8888888888888888,
              "#fdca26"
             ],
             [
              1,
              "#f0f921"
             ]
            ],
            "type": "histogram2d"
           }
          ],
          "histogram2dcontour": [
           {
            "colorbar": {
             "outlinewidth": 0,
             "ticks": ""
            },
            "colorscale": [
             [
              0,
              "#0d0887"
             ],
             [
              0.1111111111111111,
              "#46039f"
             ],
             [
              0.2222222222222222,
              "#7201a8"
             ],
             [
              0.3333333333333333,
              "#9c179e"
             ],
             [
              0.4444444444444444,
              "#bd3786"
             ],
             [
              0.5555555555555556,
              "#d8576b"
             ],
             [
              0.6666666666666666,
              "#ed7953"
             ],
             [
              0.7777777777777778,
              "#fb9f3a"
             ],
             [
              0.8888888888888888,
              "#fdca26"
             ],
             [
              1,
              "#f0f921"
             ]
            ],
            "type": "histogram2dcontour"
           }
          ],
          "mesh3d": [
           {
            "colorbar": {
             "outlinewidth": 0,
             "ticks": ""
            },
            "type": "mesh3d"
           }
          ],
          "parcoords": [
           {
            "line": {
             "colorbar": {
              "outlinewidth": 0,
              "ticks": ""
             }
            },
            "type": "parcoords"
           }
          ],
          "pie": [
           {
            "automargin": true,
            "type": "pie"
           }
          ],
          "scatter": [
           {
            "fillpattern": {
             "fillmode": "overlay",
             "size": 10,
             "solidity": 0.2
            },
            "type": "scatter"
           }
          ],
          "scatter3d": [
           {
            "line": {
             "colorbar": {
              "outlinewidth": 0,
              "ticks": ""
             }
            },
            "marker": {
             "colorbar": {
              "outlinewidth": 0,
              "ticks": ""
             }
            },
            "type": "scatter3d"
           }
          ],
          "scattercarpet": [
           {
            "marker": {
             "colorbar": {
              "outlinewidth": 0,
              "ticks": ""
             }
            },
            "type": "scattercarpet"
           }
          ],
          "scattergeo": [
           {
            "marker": {
             "colorbar": {
              "outlinewidth": 0,
              "ticks": ""
             }
            },
            "type": "scattergeo"
           }
          ],
          "scattergl": [
           {
            "marker": {
             "colorbar": {
              "outlinewidth": 0,
              "ticks": ""
             }
            },
            "type": "scattergl"
           }
          ],
          "scattermapbox": [
           {
            "marker": {
             "colorbar": {
              "outlinewidth": 0,
              "ticks": ""
             }
            },
            "type": "scattermapbox"
           }
          ],
          "scatterpolar": [
           {
            "marker": {
             "colorbar": {
              "outlinewidth": 0,
              "ticks": ""
             }
            },
            "type": "scatterpolar"
           }
          ],
          "scatterpolargl": [
           {
            "marker": {
             "colorbar": {
              "outlinewidth": 0,
              "ticks": ""
             }
            },
            "type": "scatterpolargl"
           }
          ],
          "scatterternary": [
           {
            "marker": {
             "colorbar": {
              "outlinewidth": 0,
              "ticks": ""
             }
            },
            "type": "scatterternary"
           }
          ],
          "surface": [
           {
            "colorbar": {
             "outlinewidth": 0,
             "ticks": ""
            },
            "colorscale": [
             [
              0,
              "#0d0887"
             ],
             [
              0.1111111111111111,
              "#46039f"
             ],
             [
              0.2222222222222222,
              "#7201a8"
             ],
             [
              0.3333333333333333,
              "#9c179e"
             ],
             [
              0.4444444444444444,
              "#bd3786"
             ],
             [
              0.5555555555555556,
              "#d8576b"
             ],
             [
              0.6666666666666666,
              "#ed7953"
             ],
             [
              0.7777777777777778,
              "#fb9f3a"
             ],
             [
              0.8888888888888888,
              "#fdca26"
             ],
             [
              1,
              "#f0f921"
             ]
            ],
            "type": "surface"
           }
          ],
          "table": [
           {
            "cells": {
             "fill": {
              "color": "#EBF0F8"
             },
             "line": {
              "color": "white"
             }
            },
            "header": {
             "fill": {
              "color": "#C8D4E3"
             },
             "line": {
              "color": "white"
             }
            },
            "type": "table"
           }
          ]
         },
         "layout": {
          "annotationdefaults": {
           "arrowcolor": "#2a3f5f",
           "arrowhead": 0,
           "arrowwidth": 1
          },
          "autotypenumbers": "strict",
          "coloraxis": {
           "colorbar": {
            "outlinewidth": 0,
            "ticks": ""
           }
          },
          "colorscale": {
           "diverging": [
            [
             0,
             "#8e0152"
            ],
            [
             0.1,
             "#c51b7d"
            ],
            [
             0.2,
             "#de77ae"
            ],
            [
             0.3,
             "#f1b6da"
            ],
            [
             0.4,
             "#fde0ef"
            ],
            [
             0.5,
             "#f7f7f7"
            ],
            [
             0.6,
             "#e6f5d0"
            ],
            [
             0.7,
             "#b8e186"
            ],
            [
             0.8,
             "#7fbc41"
            ],
            [
             0.9,
             "#4d9221"
            ],
            [
             1,
             "#276419"
            ]
           ],
           "sequential": [
            [
             0,
             "#0d0887"
            ],
            [
             0.1111111111111111,
             "#46039f"
            ],
            [
             0.2222222222222222,
             "#7201a8"
            ],
            [
             0.3333333333333333,
             "#9c179e"
            ],
            [
             0.4444444444444444,
             "#bd3786"
            ],
            [
             0.5555555555555556,
             "#d8576b"
            ],
            [
             0.6666666666666666,
             "#ed7953"
            ],
            [
             0.7777777777777778,
             "#fb9f3a"
            ],
            [
             0.8888888888888888,
             "#fdca26"
            ],
            [
             1,
             "#f0f921"
            ]
           ],
           "sequentialminus": [
            [
             0,
             "#0d0887"
            ],
            [
             0.1111111111111111,
             "#46039f"
            ],
            [
             0.2222222222222222,
             "#7201a8"
            ],
            [
             0.3333333333333333,
             "#9c179e"
            ],
            [
             0.4444444444444444,
             "#bd3786"
            ],
            [
             0.5555555555555556,
             "#d8576b"
            ],
            [
             0.6666666666666666,
             "#ed7953"
            ],
            [
             0.7777777777777778,
             "#fb9f3a"
            ],
            [
             0.8888888888888888,
             "#fdca26"
            ],
            [
             1,
             "#f0f921"
            ]
           ]
          },
          "colorway": [
           "#636efa",
           "#EF553B",
           "#00cc96",
           "#ab63fa",
           "#FFA15A",
           "#19d3f3",
           "#FF6692",
           "#B6E880",
           "#FF97FF",
           "#FECB52"
          ],
          "font": {
           "color": "#2a3f5f"
          },
          "geo": {
           "bgcolor": "white",
           "lakecolor": "white",
           "landcolor": "#E5ECF6",
           "showlakes": true,
           "showland": true,
           "subunitcolor": "white"
          },
          "hoverlabel": {
           "align": "left"
          },
          "hovermode": "closest",
          "mapbox": {
           "style": "light"
          },
          "paper_bgcolor": "white",
          "plot_bgcolor": "#E5ECF6",
          "polar": {
           "angularaxis": {
            "gridcolor": "white",
            "linecolor": "white",
            "ticks": ""
           },
           "bgcolor": "#E5ECF6",
           "radialaxis": {
            "gridcolor": "white",
            "linecolor": "white",
            "ticks": ""
           }
          },
          "scene": {
           "xaxis": {
            "backgroundcolor": "#E5ECF6",
            "gridcolor": "white",
            "gridwidth": 2,
            "linecolor": "white",
            "showbackground": true,
            "ticks": "",
            "zerolinecolor": "white"
           },
           "yaxis": {
            "backgroundcolor": "#E5ECF6",
            "gridcolor": "white",
            "gridwidth": 2,
            "linecolor": "white",
            "showbackground": true,
            "ticks": "",
            "zerolinecolor": "white"
           },
           "zaxis": {
            "backgroundcolor": "#E5ECF6",
            "gridcolor": "white",
            "gridwidth": 2,
            "linecolor": "white",
            "showbackground": true,
            "ticks": "",
            "zerolinecolor": "white"
           }
          },
          "shapedefaults": {
           "line": {
            "color": "#2a3f5f"
           }
          },
          "ternary": {
           "aaxis": {
            "gridcolor": "white",
            "linecolor": "white",
            "ticks": ""
           },
           "baxis": {
            "gridcolor": "white",
            "linecolor": "white",
            "ticks": ""
           },
           "bgcolor": "#E5ECF6",
           "caxis": {
            "gridcolor": "white",
            "linecolor": "white",
            "ticks": ""
           }
          },
          "title": {
           "x": 0.05
          },
          "xaxis": {
           "automargin": true,
           "gridcolor": "white",
           "linecolor": "white",
           "ticks": "",
           "title": {
            "standoff": 15
           },
           "zerolinecolor": "white",
           "zerolinewidth": 2
          },
          "yaxis": {
           "automargin": true,
           "gridcolor": "white",
           "linecolor": "white",
           "ticks": "",
           "title": {
            "standoff": 15
           },
           "zerolinecolor": "white",
           "zerolinewidth": 2
          }
         }
        },
        "title": {
         "text": "Artist Country of Origin"
        },
        "xaxis": {
         "anchor": "y",
         "domain": [
          0,
          1
         ],
         "title": {
          "text": "Country"
         }
        },
        "yaxis": {
         "anchor": "x",
         "domain": [
          0,
          1
         ],
         "title": {
          "text": "# of Artists"
         }
        }
       }
      },
      "text/html": [
       "<div>                            <div id=\"92c74536-a020-410f-aec4-1a03fc2bac46\" class=\"plotly-graph-div\" style=\"height:525px; width:100%;\"></div>            <script type=\"text/javascript\">                require([\"plotly\"], function(Plotly) {                    window.PLOTLYENV=window.PLOTLYENV || {};                                    if (document.getElementById(\"92c74536-a020-410f-aec4-1a03fc2bac46\")) {                    Plotly.newPlot(                        \"92c74536-a020-410f-aec4-1a03fc2bac46\",                        [{\"alignmentgroup\":\"True\",\"hovertemplate\":\"variable=Country<br>index=%{x}<br>value=%{y}<extra></extra>\",\"legendgroup\":\"Country\",\"marker\":{\"color\":\"#636efa\",\"pattern\":{\"shape\":\"\"}},\"name\":\"Country\",\"offsetgroup\":\"Country\",\"orientation\":\"v\",\"showlegend\":true,\"textposition\":\"auto\",\"texttemplate\":\"%{y:True}\",\"x\":[\"N/A\",\"U.S.\",\"England\",\"United States\",\"Canada\",\"France\",\"Australia\",\"United Kingdom\",\"Sweden\",\"Germany\",\"US\",\"United States of America\",\"Netherlands\",\"Colombia\",\"Wales\",\"Japan\",\"UK\",\"Ireland\",\"New Zealand\",\"Spain\",\"Norway\",\"Brazil\",\"Belgium\",\"Argentina\",\"Mexico\",\"Nigeria\",\"Puerto Rico\",\"Italy\",\"Singapore\",\"Slovenia\",\"Israel\",\"Mali\",\"Afghanistan\",\"Austria\",\"Scotland\",\"Georgia\",\"Hong Kong\",\"Denmark\",\"India\",\"South Africa\"],\"xaxis\":\"x\",\"y\":[252,170,39,23,17,16,11,10,8,7,7,6,6,5,5,4,4,3,3,3,3,3,2,2,2,2,2,1,1,1,1,1,1,1,1,1,1,1,1,1],\"yaxis\":\"y\",\"type\":\"bar\",\"textangle\":0}],                        {\"template\":{\"data\":{\"histogram2dcontour\":[{\"type\":\"histogram2dcontour\",\"colorbar\":{\"outlinewidth\":0,\"ticks\":\"\"},\"colorscale\":[[0.0,\"#0d0887\"],[0.1111111111111111,\"#46039f\"],[0.2222222222222222,\"#7201a8\"],[0.3333333333333333,\"#9c179e\"],[0.4444444444444444,\"#bd3786\"],[0.5555555555555556,\"#d8576b\"],[0.6666666666666666,\"#ed7953\"],[0.7777777777777778,\"#fb9f3a\"],[0.8888888888888888,\"#fdca26\"],[1.0,\"#f0f921\"]]}],\"choropleth\":[{\"type\":\"choropleth\",\"colorbar\":{\"outlinewidth\":0,\"ticks\":\"\"}}],\"histogram2d\":[{\"type\":\"histogram2d\",\"colorbar\":{\"outlinewidth\":0,\"ticks\":\"\"},\"colorscale\":[[0.0,\"#0d0887\"],[0.1111111111111111,\"#46039f\"],[0.2222222222222222,\"#7201a8\"],[0.3333333333333333,\"#9c179e\"],[0.4444444444444444,\"#bd3786\"],[0.5555555555555556,\"#d8576b\"],[0.6666666666666666,\"#ed7953\"],[0.7777777777777778,\"#fb9f3a\"],[0.8888888888888888,\"#fdca26\"],[1.0,\"#f0f921\"]]}],\"heatmap\":[{\"type\":\"heatmap\",\"colorbar\":{\"outlinewidth\":0,\"ticks\":\"\"},\"colorscale\":[[0.0,\"#0d0887\"],[0.1111111111111111,\"#46039f\"],[0.2222222222222222,\"#7201a8\"],[0.3333333333333333,\"#9c179e\"],[0.4444444444444444,\"#bd3786\"],[0.5555555555555556,\"#d8576b\"],[0.6666666666666666,\"#ed7953\"],[0.7777777777777778,\"#fb9f3a\"],[0.8888888888888888,\"#fdca26\"],[1.0,\"#f0f921\"]]}],\"heatmapgl\":[{\"type\":\"heatmapgl\",\"colorbar\":{\"outlinewidth\":0,\"ticks\":\"\"},\"colorscale\":[[0.0,\"#0d0887\"],[0.1111111111111111,\"#46039f\"],[0.2222222222222222,\"#7201a8\"],[0.3333333333333333,\"#9c179e\"],[0.4444444444444444,\"#bd3786\"],[0.5555555555555556,\"#d8576b\"],[0.6666666666666666,\"#ed7953\"],[0.7777777777777778,\"#fb9f3a\"],[0.8888888888888888,\"#fdca26\"],[1.0,\"#f0f921\"]]}],\"contourcarpet\":[{\"type\":\"contourcarpet\",\"colorbar\":{\"outlinewidth\":0,\"ticks\":\"\"}}],\"contour\":[{\"type\":\"contour\",\"colorbar\":{\"outlinewidth\":0,\"ticks\":\"\"},\"colorscale\":[[0.0,\"#0d0887\"],[0.1111111111111111,\"#46039f\"],[0.2222222222222222,\"#7201a8\"],[0.3333333333333333,\"#9c179e\"],[0.4444444444444444,\"#bd3786\"],[0.5555555555555556,\"#d8576b\"],[0.6666666666666666,\"#ed7953\"],[0.7777777777777778,\"#fb9f3a\"],[0.8888888888888888,\"#fdca26\"],[1.0,\"#f0f921\"]]}],\"surface\":[{\"type\":\"surface\",\"colorbar\":{\"outlinewidth\":0,\"ticks\":\"\"},\"colorscale\":[[0.0,\"#0d0887\"],[0.1111111111111111,\"#46039f\"],[0.2222222222222222,\"#7201a8\"],[0.3333333333333333,\"#9c179e\"],[0.4444444444444444,\"#bd3786\"],[0.5555555555555556,\"#d8576b\"],[0.6666666666666666,\"#ed7953\"],[0.7777777777777778,\"#fb9f3a\"],[0.8888888888888888,\"#fdca26\"],[1.0,\"#f0f921\"]]}],\"mesh3d\":[{\"type\":\"mesh3d\",\"colorbar\":{\"outlinewidth\":0,\"ticks\":\"\"}}],\"scatter\":[{\"fillpattern\":{\"fillmode\":\"overlay\",\"size\":10,\"solidity\":0.2},\"type\":\"scatter\"}],\"parcoords\":[{\"type\":\"parcoords\",\"line\":{\"colorbar\":{\"outlinewidth\":0,\"ticks\":\"\"}}}],\"scatterpolargl\":[{\"type\":\"scatterpolargl\",\"marker\":{\"colorbar\":{\"outlinewidth\":0,\"ticks\":\"\"}}}],\"bar\":[{\"error_x\":{\"color\":\"#2a3f5f\"},\"error_y\":{\"color\":\"#2a3f5f\"},\"marker\":{\"line\":{\"color\":\"#E5ECF6\",\"width\":0.5},\"pattern\":{\"fillmode\":\"overlay\",\"size\":10,\"solidity\":0.2}},\"type\":\"bar\"}],\"scattergeo\":[{\"type\":\"scattergeo\",\"marker\":{\"colorbar\":{\"outlinewidth\":0,\"ticks\":\"\"}}}],\"scatterpolar\":[{\"type\":\"scatterpolar\",\"marker\":{\"colorbar\":{\"outlinewidth\":0,\"ticks\":\"\"}}}],\"histogram\":[{\"marker\":{\"pattern\":{\"fillmode\":\"overlay\",\"size\":10,\"solidity\":0.2}},\"type\":\"histogram\"}],\"scattergl\":[{\"type\":\"scattergl\",\"marker\":{\"colorbar\":{\"outlinewidth\":0,\"ticks\":\"\"}}}],\"scatter3d\":[{\"type\":\"scatter3d\",\"line\":{\"colorbar\":{\"outlinewidth\":0,\"ticks\":\"\"}},\"marker\":{\"colorbar\":{\"outlinewidth\":0,\"ticks\":\"\"}}}],\"scattermapbox\":[{\"type\":\"scattermapbox\",\"marker\":{\"colorbar\":{\"outlinewidth\":0,\"ticks\":\"\"}}}],\"scatterternary\":[{\"type\":\"scatterternary\",\"marker\":{\"colorbar\":{\"outlinewidth\":0,\"ticks\":\"\"}}}],\"scattercarpet\":[{\"type\":\"scattercarpet\",\"marker\":{\"colorbar\":{\"outlinewidth\":0,\"ticks\":\"\"}}}],\"carpet\":[{\"aaxis\":{\"endlinecolor\":\"#2a3f5f\",\"gridcolor\":\"white\",\"linecolor\":\"white\",\"minorgridcolor\":\"white\",\"startlinecolor\":\"#2a3f5f\"},\"baxis\":{\"endlinecolor\":\"#2a3f5f\",\"gridcolor\":\"white\",\"linecolor\":\"white\",\"minorgridcolor\":\"white\",\"startlinecolor\":\"#2a3f5f\"},\"type\":\"carpet\"}],\"table\":[{\"cells\":{\"fill\":{\"color\":\"#EBF0F8\"},\"line\":{\"color\":\"white\"}},\"header\":{\"fill\":{\"color\":\"#C8D4E3\"},\"line\":{\"color\":\"white\"}},\"type\":\"table\"}],\"barpolar\":[{\"marker\":{\"line\":{\"color\":\"#E5ECF6\",\"width\":0.5},\"pattern\":{\"fillmode\":\"overlay\",\"size\":10,\"solidity\":0.2}},\"type\":\"barpolar\"}],\"pie\":[{\"automargin\":true,\"type\":\"pie\"}]},\"layout\":{\"autotypenumbers\":\"strict\",\"colorway\":[\"#636efa\",\"#EF553B\",\"#00cc96\",\"#ab63fa\",\"#FFA15A\",\"#19d3f3\",\"#FF6692\",\"#B6E880\",\"#FF97FF\",\"#FECB52\"],\"font\":{\"color\":\"#2a3f5f\"},\"hovermode\":\"closest\",\"hoverlabel\":{\"align\":\"left\"},\"paper_bgcolor\":\"white\",\"plot_bgcolor\":\"#E5ECF6\",\"polar\":{\"bgcolor\":\"#E5ECF6\",\"angularaxis\":{\"gridcolor\":\"white\",\"linecolor\":\"white\",\"ticks\":\"\"},\"radialaxis\":{\"gridcolor\":\"white\",\"linecolor\":\"white\",\"ticks\":\"\"}},\"ternary\":{\"bgcolor\":\"#E5ECF6\",\"aaxis\":{\"gridcolor\":\"white\",\"linecolor\":\"white\",\"ticks\":\"\"},\"baxis\":{\"gridcolor\":\"white\",\"linecolor\":\"white\",\"ticks\":\"\"},\"caxis\":{\"gridcolor\":\"white\",\"linecolor\":\"white\",\"ticks\":\"\"}},\"coloraxis\":{\"colorbar\":{\"outlinewidth\":0,\"ticks\":\"\"}},\"colorscale\":{\"sequential\":[[0.0,\"#0d0887\"],[0.1111111111111111,\"#46039f\"],[0.2222222222222222,\"#7201a8\"],[0.3333333333333333,\"#9c179e\"],[0.4444444444444444,\"#bd3786\"],[0.5555555555555556,\"#d8576b\"],[0.6666666666666666,\"#ed7953\"],[0.7777777777777778,\"#fb9f3a\"],[0.8888888888888888,\"#fdca26\"],[1.0,\"#f0f921\"]],\"sequentialminus\":[[0.0,\"#0d0887\"],[0.1111111111111111,\"#46039f\"],[0.2222222222222222,\"#7201a8\"],[0.3333333333333333,\"#9c179e\"],[0.4444444444444444,\"#bd3786\"],[0.5555555555555556,\"#d8576b\"],[0.6666666666666666,\"#ed7953\"],[0.7777777777777778,\"#fb9f3a\"],[0.8888888888888888,\"#fdca26\"],[1.0,\"#f0f921\"]],\"diverging\":[[0,\"#8e0152\"],[0.1,\"#c51b7d\"],[0.2,\"#de77ae\"],[0.3,\"#f1b6da\"],[0.4,\"#fde0ef\"],[0.5,\"#f7f7f7\"],[0.6,\"#e6f5d0\"],[0.7,\"#b8e186\"],[0.8,\"#7fbc41\"],[0.9,\"#4d9221\"],[1,\"#276419\"]]},\"xaxis\":{\"gridcolor\":\"white\",\"linecolor\":\"white\",\"ticks\":\"\",\"title\":{\"standoff\":15},\"zerolinecolor\":\"white\",\"automargin\":true,\"zerolinewidth\":2},\"yaxis\":{\"gridcolor\":\"white\",\"linecolor\":\"white\",\"ticks\":\"\",\"title\":{\"standoff\":15},\"zerolinecolor\":\"white\",\"automargin\":true,\"zerolinewidth\":2},\"scene\":{\"xaxis\":{\"backgroundcolor\":\"#E5ECF6\",\"gridcolor\":\"white\",\"linecolor\":\"white\",\"showbackground\":true,\"ticks\":\"\",\"zerolinecolor\":\"white\",\"gridwidth\":2},\"yaxis\":{\"backgroundcolor\":\"#E5ECF6\",\"gridcolor\":\"white\",\"linecolor\":\"white\",\"showbackground\":true,\"ticks\":\"\",\"zerolinecolor\":\"white\",\"gridwidth\":2},\"zaxis\":{\"backgroundcolor\":\"#E5ECF6\",\"gridcolor\":\"white\",\"linecolor\":\"white\",\"showbackground\":true,\"ticks\":\"\",\"zerolinecolor\":\"white\",\"gridwidth\":2}},\"shapedefaults\":{\"line\":{\"color\":\"#2a3f5f\"}},\"annotationdefaults\":{\"arrowcolor\":\"#2a3f5f\",\"arrowhead\":0,\"arrowwidth\":1},\"geo\":{\"bgcolor\":\"white\",\"landcolor\":\"#E5ECF6\",\"subunitcolor\":\"white\",\"showland\":true,\"showlakes\":true,\"lakecolor\":\"white\"},\"title\":{\"x\":0.05},\"mapbox\":{\"style\":\"light\"}}},\"xaxis\":{\"anchor\":\"y\",\"domain\":[0.0,1.0],\"title\":{\"text\":\"Country\"}},\"yaxis\":{\"anchor\":\"x\",\"domain\":[0.0,1.0],\"title\":{\"text\":\"# of Artists\"}},\"legend\":{\"title\":{\"text\":\"variable\"},\"tracegroupgap\":0},\"margin\":{\"t\":100,\"l\":100,\"r\":150,\"b\":20},\"barmode\":\"relative\",\"title\":{\"text\":\"Artist Country of Origin\"},\"paper_bgcolor\":\"LightSteelBlue\"},                        {\"responsive\": true}                    ).then(function(){\n",
       "                            \n",
       "var gd = document.getElementById('92c74536-a020-410f-aec4-1a03fc2bac46');\n",
       "var x = new MutationObserver(function (mutations, observer) {{\n",
       "        var display = window.getComputedStyle(gd).display;\n",
       "        if (!display || display === 'none') {{\n",
       "            console.log([gd, 'removed!']);\n",
       "            Plotly.purge(gd);\n",
       "            observer.disconnect();\n",
       "        }}\n",
       "}});\n",
       "\n",
       "// Listen for the removal of the full notebook cells\n",
       "var notebookContainer = gd.closest('#notebook-container');\n",
       "if (notebookContainer) {{\n",
       "    x.observe(notebookContainer, {childList: true});\n",
       "}}\n",
       "\n",
       "// Listen for the clearing of the current output cell\n",
       "var outputEl = gd.closest('.output');\n",
       "if (outputEl) {{\n",
       "    x.observe(outputEl, {childList: true});\n",
       "}}\n",
       "\n",
       "                        })                };                });            </script>        </div>"
      ]
     },
     "metadata": {},
     "output_type": "display_data"
    }
   ],
   "source": [
    "artist_country_dict = {}\n",
    "for x in playlist.Country:\n",
    "    artist_country_dict.update(ast.literal_eval(x))\n",
    "\n",
    "artist_country_df = pd.DataFrame({'Artist':artist_country_dict.keys(),'Country':artist_country_dict.values()})\n",
    "\n",
    "px.bar(artist_country_df.Country.value_counts(), text_auto='True').update_layout(\n",
    "                  title_text=\"Artist Country of Origin\",\n",
    "                  yaxis_title='# of Artists',\n",
    "                  xaxis_title='Country',\n",
    "                  paper_bgcolor=\"LightSteelBlue\",\n",
    "                  margin=dict(l=100, r=150, t=100, b=20)\n",
    "                ).update_traces(textangle=0)"
   ]
  },
  {
   "attachments": {},
   "cell_type": "markdown",
   "metadata": {},
   "source": [
    "From the first graph it's clear that nearly half of my playlist has no country information. Since many of the artists in this playlist are relatively underground, they do not have much of a public profile i.e. a detailed wikipedia page. That's one reason why there's a lot of missing country values. Another issue with scraping internet information is inconsistencies. An artist might be labeled as being from US or U.S. or America.\n",
    "\n",
    "So in the second graph, I removed the N/A artists and consolidated all the US variations to one variable. It's no surprise that I listen to a lot of American artists since it's Hollywood baby."
   ]
  },
  {
   "cell_type": "code",
   "execution_count": 73,
   "metadata": {},
   "outputs": [
    {
     "data": {
      "application/vnd.plotly.v1+json": {
       "config": {
        "plotlyServerURL": "https://plot.ly"
       },
       "data": [
        {
         "alignmentgroup": "True",
         "hovertemplate": "variable=country_clean<br>index=%{x}<br>value=%{y}<extra></extra>",
         "legendgroup": "country_clean",
         "marker": {
          "color": "#636efa",
          "pattern": {
           "shape": ""
          }
         },
         "name": "country_clean",
         "offsetgroup": "country_clean",
         "orientation": "v",
         "showlegend": true,
         "textangle": 0,
         "textposition": "auto",
         "texttemplate": "%{y:True}",
         "type": "bar",
         "x": [
          "United States",
          "England",
          "Canada",
          "France",
          "Australia",
          "United Kingdom",
          "Sweden",
          "Germany",
          "Netherlands",
          "Wales",
          "Colombia",
          "Japan",
          "UK",
          "New Zealand",
          "Brazil",
          "Spain",
          "Norway",
          "Ireland",
          "Mexico",
          "Argentina",
          "Belgium",
          "Nigeria",
          "Puerto Rico",
          "South Africa",
          "Singapore",
          "Italy",
          "Scotland",
          "Afghanistan",
          "Mali",
          "Israel",
          "Austria",
          "Georgia",
          "Hong Kong",
          "Denmark",
          "India",
          "Slovenia"
         ],
         "xaxis": "x",
         "y": [
          206,
          39,
          17,
          16,
          11,
          10,
          8,
          7,
          6,
          5,
          5,
          4,
          4,
          3,
          3,
          3,
          3,
          3,
          2,
          2,
          2,
          2,
          2,
          1,
          1,
          1,
          1,
          1,
          1,
          1,
          1,
          1,
          1,
          1,
          1,
          1
         ],
         "yaxis": "y"
        }
       ],
       "layout": {
        "barmode": "relative",
        "legend": {
         "title": {
          "text": "variable"
         },
         "tracegroupgap": 0
        },
        "margin": {
         "b": 20,
         "l": 100,
         "r": 150,
         "t": 100
        },
        "paper_bgcolor": "LightSteelBlue",
        "template": {
         "data": {
          "bar": [
           {
            "error_x": {
             "color": "#2a3f5f"
            },
            "error_y": {
             "color": "#2a3f5f"
            },
            "marker": {
             "line": {
              "color": "#E5ECF6",
              "width": 0.5
             },
             "pattern": {
              "fillmode": "overlay",
              "size": 10,
              "solidity": 0.2
             }
            },
            "type": "bar"
           }
          ],
          "barpolar": [
           {
            "marker": {
             "line": {
              "color": "#E5ECF6",
              "width": 0.5
             },
             "pattern": {
              "fillmode": "overlay",
              "size": 10,
              "solidity": 0.2
             }
            },
            "type": "barpolar"
           }
          ],
          "carpet": [
           {
            "aaxis": {
             "endlinecolor": "#2a3f5f",
             "gridcolor": "white",
             "linecolor": "white",
             "minorgridcolor": "white",
             "startlinecolor": "#2a3f5f"
            },
            "baxis": {
             "endlinecolor": "#2a3f5f",
             "gridcolor": "white",
             "linecolor": "white",
             "minorgridcolor": "white",
             "startlinecolor": "#2a3f5f"
            },
            "type": "carpet"
           }
          ],
          "choropleth": [
           {
            "colorbar": {
             "outlinewidth": 0,
             "ticks": ""
            },
            "type": "choropleth"
           }
          ],
          "contour": [
           {
            "colorbar": {
             "outlinewidth": 0,
             "ticks": ""
            },
            "colorscale": [
             [
              0,
              "#0d0887"
             ],
             [
              0.1111111111111111,
              "#46039f"
             ],
             [
              0.2222222222222222,
              "#7201a8"
             ],
             [
              0.3333333333333333,
              "#9c179e"
             ],
             [
              0.4444444444444444,
              "#bd3786"
             ],
             [
              0.5555555555555556,
              "#d8576b"
             ],
             [
              0.6666666666666666,
              "#ed7953"
             ],
             [
              0.7777777777777778,
              "#fb9f3a"
             ],
             [
              0.8888888888888888,
              "#fdca26"
             ],
             [
              1,
              "#f0f921"
             ]
            ],
            "type": "contour"
           }
          ],
          "contourcarpet": [
           {
            "colorbar": {
             "outlinewidth": 0,
             "ticks": ""
            },
            "type": "contourcarpet"
           }
          ],
          "heatmap": [
           {
            "colorbar": {
             "outlinewidth": 0,
             "ticks": ""
            },
            "colorscale": [
             [
              0,
              "#0d0887"
             ],
             [
              0.1111111111111111,
              "#46039f"
             ],
             [
              0.2222222222222222,
              "#7201a8"
             ],
             [
              0.3333333333333333,
              "#9c179e"
             ],
             [
              0.4444444444444444,
              "#bd3786"
             ],
             [
              0.5555555555555556,
              "#d8576b"
             ],
             [
              0.6666666666666666,
              "#ed7953"
             ],
             [
              0.7777777777777778,
              "#fb9f3a"
             ],
             [
              0.8888888888888888,
              "#fdca26"
             ],
             [
              1,
              "#f0f921"
             ]
            ],
            "type": "heatmap"
           }
          ],
          "heatmapgl": [
           {
            "colorbar": {
             "outlinewidth": 0,
             "ticks": ""
            },
            "colorscale": [
             [
              0,
              "#0d0887"
             ],
             [
              0.1111111111111111,
              "#46039f"
             ],
             [
              0.2222222222222222,
              "#7201a8"
             ],
             [
              0.3333333333333333,
              "#9c179e"
             ],
             [
              0.4444444444444444,
              "#bd3786"
             ],
             [
              0.5555555555555556,
              "#d8576b"
             ],
             [
              0.6666666666666666,
              "#ed7953"
             ],
             [
              0.7777777777777778,
              "#fb9f3a"
             ],
             [
              0.8888888888888888,
              "#fdca26"
             ],
             [
              1,
              "#f0f921"
             ]
            ],
            "type": "heatmapgl"
           }
          ],
          "histogram": [
           {
            "marker": {
             "pattern": {
              "fillmode": "overlay",
              "size": 10,
              "solidity": 0.2
             }
            },
            "type": "histogram"
           }
          ],
          "histogram2d": [
           {
            "colorbar": {
             "outlinewidth": 0,
             "ticks": ""
            },
            "colorscale": [
             [
              0,
              "#0d0887"
             ],
             [
              0.1111111111111111,
              "#46039f"
             ],
             [
              0.2222222222222222,
              "#7201a8"
             ],
             [
              0.3333333333333333,
              "#9c179e"
             ],
             [
              0.4444444444444444,
              "#bd3786"
             ],
             [
              0.5555555555555556,
              "#d8576b"
             ],
             [
              0.6666666666666666,
              "#ed7953"
             ],
             [
              0.7777777777777778,
              "#fb9f3a"
             ],
             [
              0.8888888888888888,
              "#fdca26"
             ],
             [
              1,
              "#f0f921"
             ]
            ],
            "type": "histogram2d"
           }
          ],
          "histogram2dcontour": [
           {
            "colorbar": {
             "outlinewidth": 0,
             "ticks": ""
            },
            "colorscale": [
             [
              0,
              "#0d0887"
             ],
             [
              0.1111111111111111,
              "#46039f"
             ],
             [
              0.2222222222222222,
              "#7201a8"
             ],
             [
              0.3333333333333333,
              "#9c179e"
             ],
             [
              0.4444444444444444,
              "#bd3786"
             ],
             [
              0.5555555555555556,
              "#d8576b"
             ],
             [
              0.6666666666666666,
              "#ed7953"
             ],
             [
              0.7777777777777778,
              "#fb9f3a"
             ],
             [
              0.8888888888888888,
              "#fdca26"
             ],
             [
              1,
              "#f0f921"
             ]
            ],
            "type": "histogram2dcontour"
           }
          ],
          "mesh3d": [
           {
            "colorbar": {
             "outlinewidth": 0,
             "ticks": ""
            },
            "type": "mesh3d"
           }
          ],
          "parcoords": [
           {
            "line": {
             "colorbar": {
              "outlinewidth": 0,
              "ticks": ""
             }
            },
            "type": "parcoords"
           }
          ],
          "pie": [
           {
            "automargin": true,
            "type": "pie"
           }
          ],
          "scatter": [
           {
            "fillpattern": {
             "fillmode": "overlay",
             "size": 10,
             "solidity": 0.2
            },
            "type": "scatter"
           }
          ],
          "scatter3d": [
           {
            "line": {
             "colorbar": {
              "outlinewidth": 0,
              "ticks": ""
             }
            },
            "marker": {
             "colorbar": {
              "outlinewidth": 0,
              "ticks": ""
             }
            },
            "type": "scatter3d"
           }
          ],
          "scattercarpet": [
           {
            "marker": {
             "colorbar": {
              "outlinewidth": 0,
              "ticks": ""
             }
            },
            "type": "scattercarpet"
           }
          ],
          "scattergeo": [
           {
            "marker": {
             "colorbar": {
              "outlinewidth": 0,
              "ticks": ""
             }
            },
            "type": "scattergeo"
           }
          ],
          "scattergl": [
           {
            "marker": {
             "colorbar": {
              "outlinewidth": 0,
              "ticks": ""
             }
            },
            "type": "scattergl"
           }
          ],
          "scattermapbox": [
           {
            "marker": {
             "colorbar": {
              "outlinewidth": 0,
              "ticks": ""
             }
            },
            "type": "scattermapbox"
           }
          ],
          "scatterpolar": [
           {
            "marker": {
             "colorbar": {
              "outlinewidth": 0,
              "ticks": ""
             }
            },
            "type": "scatterpolar"
           }
          ],
          "scatterpolargl": [
           {
            "marker": {
             "colorbar": {
              "outlinewidth": 0,
              "ticks": ""
             }
            },
            "type": "scatterpolargl"
           }
          ],
          "scatterternary": [
           {
            "marker": {
             "colorbar": {
              "outlinewidth": 0,
              "ticks": ""
             }
            },
            "type": "scatterternary"
           }
          ],
          "surface": [
           {
            "colorbar": {
             "outlinewidth": 0,
             "ticks": ""
            },
            "colorscale": [
             [
              0,
              "#0d0887"
             ],
             [
              0.1111111111111111,
              "#46039f"
             ],
             [
              0.2222222222222222,
              "#7201a8"
             ],
             [
              0.3333333333333333,
              "#9c179e"
             ],
             [
              0.4444444444444444,
              "#bd3786"
             ],
             [
              0.5555555555555556,
              "#d8576b"
             ],
             [
              0.6666666666666666,
              "#ed7953"
             ],
             [
              0.7777777777777778,
              "#fb9f3a"
             ],
             [
              0.8888888888888888,
              "#fdca26"
             ],
             [
              1,
              "#f0f921"
             ]
            ],
            "type": "surface"
           }
          ],
          "table": [
           {
            "cells": {
             "fill": {
              "color": "#EBF0F8"
             },
             "line": {
              "color": "white"
             }
            },
            "header": {
             "fill": {
              "color": "#C8D4E3"
             },
             "line": {
              "color": "white"
             }
            },
            "type": "table"
           }
          ]
         },
         "layout": {
          "annotationdefaults": {
           "arrowcolor": "#2a3f5f",
           "arrowhead": 0,
           "arrowwidth": 1
          },
          "autotypenumbers": "strict",
          "coloraxis": {
           "colorbar": {
            "outlinewidth": 0,
            "ticks": ""
           }
          },
          "colorscale": {
           "diverging": [
            [
             0,
             "#8e0152"
            ],
            [
             0.1,
             "#c51b7d"
            ],
            [
             0.2,
             "#de77ae"
            ],
            [
             0.3,
             "#f1b6da"
            ],
            [
             0.4,
             "#fde0ef"
            ],
            [
             0.5,
             "#f7f7f7"
            ],
            [
             0.6,
             "#e6f5d0"
            ],
            [
             0.7,
             "#b8e186"
            ],
            [
             0.8,
             "#7fbc41"
            ],
            [
             0.9,
             "#4d9221"
            ],
            [
             1,
             "#276419"
            ]
           ],
           "sequential": [
            [
             0,
             "#0d0887"
            ],
            [
             0.1111111111111111,
             "#46039f"
            ],
            [
             0.2222222222222222,
             "#7201a8"
            ],
            [
             0.3333333333333333,
             "#9c179e"
            ],
            [
             0.4444444444444444,
             "#bd3786"
            ],
            [
             0.5555555555555556,
             "#d8576b"
            ],
            [
             0.6666666666666666,
             "#ed7953"
            ],
            [
             0.7777777777777778,
             "#fb9f3a"
            ],
            [
             0.8888888888888888,
             "#fdca26"
            ],
            [
             1,
             "#f0f921"
            ]
           ],
           "sequentialminus": [
            [
             0,
             "#0d0887"
            ],
            [
             0.1111111111111111,
             "#46039f"
            ],
            [
             0.2222222222222222,
             "#7201a8"
            ],
            [
             0.3333333333333333,
             "#9c179e"
            ],
            [
             0.4444444444444444,
             "#bd3786"
            ],
            [
             0.5555555555555556,
             "#d8576b"
            ],
            [
             0.6666666666666666,
             "#ed7953"
            ],
            [
             0.7777777777777778,
             "#fb9f3a"
            ],
            [
             0.8888888888888888,
             "#fdca26"
            ],
            [
             1,
             "#f0f921"
            ]
           ]
          },
          "colorway": [
           "#636efa",
           "#EF553B",
           "#00cc96",
           "#ab63fa",
           "#FFA15A",
           "#19d3f3",
           "#FF6692",
           "#B6E880",
           "#FF97FF",
           "#FECB52"
          ],
          "font": {
           "color": "#2a3f5f"
          },
          "geo": {
           "bgcolor": "white",
           "lakecolor": "white",
           "landcolor": "#E5ECF6",
           "showlakes": true,
           "showland": true,
           "subunitcolor": "white"
          },
          "hoverlabel": {
           "align": "left"
          },
          "hovermode": "closest",
          "mapbox": {
           "style": "light"
          },
          "paper_bgcolor": "white",
          "plot_bgcolor": "#E5ECF6",
          "polar": {
           "angularaxis": {
            "gridcolor": "white",
            "linecolor": "white",
            "ticks": ""
           },
           "bgcolor": "#E5ECF6",
           "radialaxis": {
            "gridcolor": "white",
            "linecolor": "white",
            "ticks": ""
           }
          },
          "scene": {
           "xaxis": {
            "backgroundcolor": "#E5ECF6",
            "gridcolor": "white",
            "gridwidth": 2,
            "linecolor": "white",
            "showbackground": true,
            "ticks": "",
            "zerolinecolor": "white"
           },
           "yaxis": {
            "backgroundcolor": "#E5ECF6",
            "gridcolor": "white",
            "gridwidth": 2,
            "linecolor": "white",
            "showbackground": true,
            "ticks": "",
            "zerolinecolor": "white"
           },
           "zaxis": {
            "backgroundcolor": "#E5ECF6",
            "gridcolor": "white",
            "gridwidth": 2,
            "linecolor": "white",
            "showbackground": true,
            "ticks": "",
            "zerolinecolor": "white"
           }
          },
          "shapedefaults": {
           "line": {
            "color": "#2a3f5f"
           }
          },
          "ternary": {
           "aaxis": {
            "gridcolor": "white",
            "linecolor": "white",
            "ticks": ""
           },
           "baxis": {
            "gridcolor": "white",
            "linecolor": "white",
            "ticks": ""
           },
           "bgcolor": "#E5ECF6",
           "caxis": {
            "gridcolor": "white",
            "linecolor": "white",
            "ticks": ""
           }
          },
          "title": {
           "x": 0.05
          },
          "xaxis": {
           "automargin": true,
           "gridcolor": "white",
           "linecolor": "white",
           "ticks": "",
           "title": {
            "standoff": 15
           },
           "zerolinecolor": "white",
           "zerolinewidth": 2
          },
          "yaxis": {
           "automargin": true,
           "gridcolor": "white",
           "linecolor": "white",
           "ticks": "",
           "title": {
            "standoff": 15
           },
           "zerolinecolor": "white",
           "zerolinewidth": 2
          }
         }
        },
        "title": {
         "text": "Artist Country of Origin"
        },
        "xaxis": {
         "anchor": "y",
         "domain": [
          0,
          1
         ],
         "title": {
          "text": "Country"
         }
        },
        "yaxis": {
         "anchor": "x",
         "domain": [
          0,
          1
         ],
         "title": {
          "text": "# of Artists"
         }
        }
       }
      },
      "text/html": [
       "<div>                            <div id=\"0340ec84-d584-4ab7-aa31-f4a8eff397c1\" class=\"plotly-graph-div\" style=\"height:525px; width:100%;\"></div>            <script type=\"text/javascript\">                require([\"plotly\"], function(Plotly) {                    window.PLOTLYENV=window.PLOTLYENV || {};                                    if (document.getElementById(\"0340ec84-d584-4ab7-aa31-f4a8eff397c1\")) {                    Plotly.newPlot(                        \"0340ec84-d584-4ab7-aa31-f4a8eff397c1\",                        [{\"alignmentgroup\":\"True\",\"hovertemplate\":\"variable=country_clean<br>index=%{x}<br>value=%{y}<extra></extra>\",\"legendgroup\":\"country_clean\",\"marker\":{\"color\":\"#636efa\",\"pattern\":{\"shape\":\"\"}},\"name\":\"country_clean\",\"offsetgroup\":\"country_clean\",\"orientation\":\"v\",\"showlegend\":true,\"textposition\":\"auto\",\"texttemplate\":\"%{y:True}\",\"x\":[\"United States\",\"England\",\"Canada\",\"France\",\"Australia\",\"United Kingdom\",\"Sweden\",\"Germany\",\"Netherlands\",\"Wales\",\"Colombia\",\"Japan\",\"UK\",\"New Zealand\",\"Brazil\",\"Spain\",\"Norway\",\"Ireland\",\"Mexico\",\"Argentina\",\"Belgium\",\"Nigeria\",\"Puerto Rico\",\"South Africa\",\"Singapore\",\"Italy\",\"Scotland\",\"Afghanistan\",\"Mali\",\"Israel\",\"Austria\",\"Georgia\",\"Hong Kong\",\"Denmark\",\"India\",\"Slovenia\"],\"xaxis\":\"x\",\"y\":[206,39,17,16,11,10,8,7,6,5,5,4,4,3,3,3,3,3,2,2,2,2,2,1,1,1,1,1,1,1,1,1,1,1,1,1],\"yaxis\":\"y\",\"type\":\"bar\",\"textangle\":0}],                        {\"template\":{\"data\":{\"histogram2dcontour\":[{\"type\":\"histogram2dcontour\",\"colorbar\":{\"outlinewidth\":0,\"ticks\":\"\"},\"colorscale\":[[0.0,\"#0d0887\"],[0.1111111111111111,\"#46039f\"],[0.2222222222222222,\"#7201a8\"],[0.3333333333333333,\"#9c179e\"],[0.4444444444444444,\"#bd3786\"],[0.5555555555555556,\"#d8576b\"],[0.6666666666666666,\"#ed7953\"],[0.7777777777777778,\"#fb9f3a\"],[0.8888888888888888,\"#fdca26\"],[1.0,\"#f0f921\"]]}],\"choropleth\":[{\"type\":\"choropleth\",\"colorbar\":{\"outlinewidth\":0,\"ticks\":\"\"}}],\"histogram2d\":[{\"type\":\"histogram2d\",\"colorbar\":{\"outlinewidth\":0,\"ticks\":\"\"},\"colorscale\":[[0.0,\"#0d0887\"],[0.1111111111111111,\"#46039f\"],[0.2222222222222222,\"#7201a8\"],[0.3333333333333333,\"#9c179e\"],[0.4444444444444444,\"#bd3786\"],[0.5555555555555556,\"#d8576b\"],[0.6666666666666666,\"#ed7953\"],[0.7777777777777778,\"#fb9f3a\"],[0.8888888888888888,\"#fdca26\"],[1.0,\"#f0f921\"]]}],\"heatmap\":[{\"type\":\"heatmap\",\"colorbar\":{\"outlinewidth\":0,\"ticks\":\"\"},\"colorscale\":[[0.0,\"#0d0887\"],[0.1111111111111111,\"#46039f\"],[0.2222222222222222,\"#7201a8\"],[0.3333333333333333,\"#9c179e\"],[0.4444444444444444,\"#bd3786\"],[0.5555555555555556,\"#d8576b\"],[0.6666666666666666,\"#ed7953\"],[0.7777777777777778,\"#fb9f3a\"],[0.8888888888888888,\"#fdca26\"],[1.0,\"#f0f921\"]]}],\"heatmapgl\":[{\"type\":\"heatmapgl\",\"colorbar\":{\"outlinewidth\":0,\"ticks\":\"\"},\"colorscale\":[[0.0,\"#0d0887\"],[0.1111111111111111,\"#46039f\"],[0.2222222222222222,\"#7201a8\"],[0.3333333333333333,\"#9c179e\"],[0.4444444444444444,\"#bd3786\"],[0.5555555555555556,\"#d8576b\"],[0.6666666666666666,\"#ed7953\"],[0.7777777777777778,\"#fb9f3a\"],[0.8888888888888888,\"#fdca26\"],[1.0,\"#f0f921\"]]}],\"contourcarpet\":[{\"type\":\"contourcarpet\",\"colorbar\":{\"outlinewidth\":0,\"ticks\":\"\"}}],\"contour\":[{\"type\":\"contour\",\"colorbar\":{\"outlinewidth\":0,\"ticks\":\"\"},\"colorscale\":[[0.0,\"#0d0887\"],[0.1111111111111111,\"#46039f\"],[0.2222222222222222,\"#7201a8\"],[0.3333333333333333,\"#9c179e\"],[0.4444444444444444,\"#bd3786\"],[0.5555555555555556,\"#d8576b\"],[0.6666666666666666,\"#ed7953\"],[0.7777777777777778,\"#fb9f3a\"],[0.8888888888888888,\"#fdca26\"],[1.0,\"#f0f921\"]]}],\"surface\":[{\"type\":\"surface\",\"colorbar\":{\"outlinewidth\":0,\"ticks\":\"\"},\"colorscale\":[[0.0,\"#0d0887\"],[0.1111111111111111,\"#46039f\"],[0.2222222222222222,\"#7201a8\"],[0.3333333333333333,\"#9c179e\"],[0.4444444444444444,\"#bd3786\"],[0.5555555555555556,\"#d8576b\"],[0.6666666666666666,\"#ed7953\"],[0.7777777777777778,\"#fb9f3a\"],[0.8888888888888888,\"#fdca26\"],[1.0,\"#f0f921\"]]}],\"mesh3d\":[{\"type\":\"mesh3d\",\"colorbar\":{\"outlinewidth\":0,\"ticks\":\"\"}}],\"scatter\":[{\"fillpattern\":{\"fillmode\":\"overlay\",\"size\":10,\"solidity\":0.2},\"type\":\"scatter\"}],\"parcoords\":[{\"type\":\"parcoords\",\"line\":{\"colorbar\":{\"outlinewidth\":0,\"ticks\":\"\"}}}],\"scatterpolargl\":[{\"type\":\"scatterpolargl\",\"marker\":{\"colorbar\":{\"outlinewidth\":0,\"ticks\":\"\"}}}],\"bar\":[{\"error_x\":{\"color\":\"#2a3f5f\"},\"error_y\":{\"color\":\"#2a3f5f\"},\"marker\":{\"line\":{\"color\":\"#E5ECF6\",\"width\":0.5},\"pattern\":{\"fillmode\":\"overlay\",\"size\":10,\"solidity\":0.2}},\"type\":\"bar\"}],\"scattergeo\":[{\"type\":\"scattergeo\",\"marker\":{\"colorbar\":{\"outlinewidth\":0,\"ticks\":\"\"}}}],\"scatterpolar\":[{\"type\":\"scatterpolar\",\"marker\":{\"colorbar\":{\"outlinewidth\":0,\"ticks\":\"\"}}}],\"histogram\":[{\"marker\":{\"pattern\":{\"fillmode\":\"overlay\",\"size\":10,\"solidity\":0.2}},\"type\":\"histogram\"}],\"scattergl\":[{\"type\":\"scattergl\",\"marker\":{\"colorbar\":{\"outlinewidth\":0,\"ticks\":\"\"}}}],\"scatter3d\":[{\"type\":\"scatter3d\",\"line\":{\"colorbar\":{\"outlinewidth\":0,\"ticks\":\"\"}},\"marker\":{\"colorbar\":{\"outlinewidth\":0,\"ticks\":\"\"}}}],\"scattermapbox\":[{\"type\":\"scattermapbox\",\"marker\":{\"colorbar\":{\"outlinewidth\":0,\"ticks\":\"\"}}}],\"scatterternary\":[{\"type\":\"scatterternary\",\"marker\":{\"colorbar\":{\"outlinewidth\":0,\"ticks\":\"\"}}}],\"scattercarpet\":[{\"type\":\"scattercarpet\",\"marker\":{\"colorbar\":{\"outlinewidth\":0,\"ticks\":\"\"}}}],\"carpet\":[{\"aaxis\":{\"endlinecolor\":\"#2a3f5f\",\"gridcolor\":\"white\",\"linecolor\":\"white\",\"minorgridcolor\":\"white\",\"startlinecolor\":\"#2a3f5f\"},\"baxis\":{\"endlinecolor\":\"#2a3f5f\",\"gridcolor\":\"white\",\"linecolor\":\"white\",\"minorgridcolor\":\"white\",\"startlinecolor\":\"#2a3f5f\"},\"type\":\"carpet\"}],\"table\":[{\"cells\":{\"fill\":{\"color\":\"#EBF0F8\"},\"line\":{\"color\":\"white\"}},\"header\":{\"fill\":{\"color\":\"#C8D4E3\"},\"line\":{\"color\":\"white\"}},\"type\":\"table\"}],\"barpolar\":[{\"marker\":{\"line\":{\"color\":\"#E5ECF6\",\"width\":0.5},\"pattern\":{\"fillmode\":\"overlay\",\"size\":10,\"solidity\":0.2}},\"type\":\"barpolar\"}],\"pie\":[{\"automargin\":true,\"type\":\"pie\"}]},\"layout\":{\"autotypenumbers\":\"strict\",\"colorway\":[\"#636efa\",\"#EF553B\",\"#00cc96\",\"#ab63fa\",\"#FFA15A\",\"#19d3f3\",\"#FF6692\",\"#B6E880\",\"#FF97FF\",\"#FECB52\"],\"font\":{\"color\":\"#2a3f5f\"},\"hovermode\":\"closest\",\"hoverlabel\":{\"align\":\"left\"},\"paper_bgcolor\":\"white\",\"plot_bgcolor\":\"#E5ECF6\",\"polar\":{\"bgcolor\":\"#E5ECF6\",\"angularaxis\":{\"gridcolor\":\"white\",\"linecolor\":\"white\",\"ticks\":\"\"},\"radialaxis\":{\"gridcolor\":\"white\",\"linecolor\":\"white\",\"ticks\":\"\"}},\"ternary\":{\"bgcolor\":\"#E5ECF6\",\"aaxis\":{\"gridcolor\":\"white\",\"linecolor\":\"white\",\"ticks\":\"\"},\"baxis\":{\"gridcolor\":\"white\",\"linecolor\":\"white\",\"ticks\":\"\"},\"caxis\":{\"gridcolor\":\"white\",\"linecolor\":\"white\",\"ticks\":\"\"}},\"coloraxis\":{\"colorbar\":{\"outlinewidth\":0,\"ticks\":\"\"}},\"colorscale\":{\"sequential\":[[0.0,\"#0d0887\"],[0.1111111111111111,\"#46039f\"],[0.2222222222222222,\"#7201a8\"],[0.3333333333333333,\"#9c179e\"],[0.4444444444444444,\"#bd3786\"],[0.5555555555555556,\"#d8576b\"],[0.6666666666666666,\"#ed7953\"],[0.7777777777777778,\"#fb9f3a\"],[0.8888888888888888,\"#fdca26\"],[1.0,\"#f0f921\"]],\"sequentialminus\":[[0.0,\"#0d0887\"],[0.1111111111111111,\"#46039f\"],[0.2222222222222222,\"#7201a8\"],[0.3333333333333333,\"#9c179e\"],[0.4444444444444444,\"#bd3786\"],[0.5555555555555556,\"#d8576b\"],[0.6666666666666666,\"#ed7953\"],[0.7777777777777778,\"#fb9f3a\"],[0.8888888888888888,\"#fdca26\"],[1.0,\"#f0f921\"]],\"diverging\":[[0,\"#8e0152\"],[0.1,\"#c51b7d\"],[0.2,\"#de77ae\"],[0.3,\"#f1b6da\"],[0.4,\"#fde0ef\"],[0.5,\"#f7f7f7\"],[0.6,\"#e6f5d0\"],[0.7,\"#b8e186\"],[0.8,\"#7fbc41\"],[0.9,\"#4d9221\"],[1,\"#276419\"]]},\"xaxis\":{\"gridcolor\":\"white\",\"linecolor\":\"white\",\"ticks\":\"\",\"title\":{\"standoff\":15},\"zerolinecolor\":\"white\",\"automargin\":true,\"zerolinewidth\":2},\"yaxis\":{\"gridcolor\":\"white\",\"linecolor\":\"white\",\"ticks\":\"\",\"title\":{\"standoff\":15},\"zerolinecolor\":\"white\",\"automargin\":true,\"zerolinewidth\":2},\"scene\":{\"xaxis\":{\"backgroundcolor\":\"#E5ECF6\",\"gridcolor\":\"white\",\"linecolor\":\"white\",\"showbackground\":true,\"ticks\":\"\",\"zerolinecolor\":\"white\",\"gridwidth\":2},\"yaxis\":{\"backgroundcolor\":\"#E5ECF6\",\"gridcolor\":\"white\",\"linecolor\":\"white\",\"showbackground\":true,\"ticks\":\"\",\"zerolinecolor\":\"white\",\"gridwidth\":2},\"zaxis\":{\"backgroundcolor\":\"#E5ECF6\",\"gridcolor\":\"white\",\"linecolor\":\"white\",\"showbackground\":true,\"ticks\":\"\",\"zerolinecolor\":\"white\",\"gridwidth\":2}},\"shapedefaults\":{\"line\":{\"color\":\"#2a3f5f\"}},\"annotationdefaults\":{\"arrowcolor\":\"#2a3f5f\",\"arrowhead\":0,\"arrowwidth\":1},\"geo\":{\"bgcolor\":\"white\",\"landcolor\":\"#E5ECF6\",\"subunitcolor\":\"white\",\"showland\":true,\"showlakes\":true,\"lakecolor\":\"white\"},\"title\":{\"x\":0.05},\"mapbox\":{\"style\":\"light\"}}},\"xaxis\":{\"anchor\":\"y\",\"domain\":[0.0,1.0],\"title\":{\"text\":\"Country\"}},\"yaxis\":{\"anchor\":\"x\",\"domain\":[0.0,1.0],\"title\":{\"text\":\"# of Artists\"}},\"legend\":{\"title\":{\"text\":\"variable\"},\"tracegroupgap\":0},\"margin\":{\"t\":100,\"l\":100,\"r\":150,\"b\":20},\"barmode\":\"relative\",\"title\":{\"text\":\"Artist Country of Origin\"},\"paper_bgcolor\":\"LightSteelBlue\"},                        {\"responsive\": true}                    ).then(function(){\n",
       "                            \n",
       "var gd = document.getElementById('0340ec84-d584-4ab7-aa31-f4a8eff397c1');\n",
       "var x = new MutationObserver(function (mutations, observer) {{\n",
       "        var display = window.getComputedStyle(gd).display;\n",
       "        if (!display || display === 'none') {{\n",
       "            console.log([gd, 'removed!']);\n",
       "            Plotly.purge(gd);\n",
       "            observer.disconnect();\n",
       "        }}\n",
       "}});\n",
       "\n",
       "// Listen for the removal of the full notebook cells\n",
       "var notebookContainer = gd.closest('#notebook-container');\n",
       "if (notebookContainer) {{\n",
       "    x.observe(notebookContainer, {childList: true});\n",
       "}}\n",
       "\n",
       "// Listen for the clearing of the current output cell\n",
       "var outputEl = gd.closest('.output');\n",
       "if (outputEl) {{\n",
       "    x.observe(outputEl, {childList: true});\n",
       "}}\n",
       "\n",
       "                        })                };                });            </script>        </div>"
      ]
     },
     "metadata": {},
     "output_type": "display_data"
    }
   ],
   "source": [
    "t = artist_country_df.assign(country_clean = np.where(artist_country_df.Country.isin(['U.S.', 'US', 'United States', 'United States of America']), 'United States', artist_country_df.Country))\n",
    "\n",
    "px.bar(t[~artist_country_df.Country.isin(['N/A'])].country_clean.value_counts(), text_auto='True').update_layout(\n",
    "                  title_text=\"Artist Country of Origin\",\n",
    "                  yaxis_title='# of Artists',\n",
    "                  xaxis_title='Country',\n",
    "                  paper_bgcolor=\"LightSteelBlue\",\n",
    "                  margin=dict(l=100, r=150, t=100, b=20)\n",
    "                ).update_traces(textangle=0)"
   ]
  },
  {
   "attachments": {},
   "cell_type": "markdown",
   "metadata": {},
   "source": [
    "I guess it makes sense that I listen to English speaking artists primarily so US artists are a majority. Also all the media platforms where I find my music are also American so there's that as well."
   ]
  },
  {
   "attachments": {},
   "cell_type": "markdown",
   "metadata": {},
   "source": [
    "## BPM & Key Analysis\n",
    "\n",
    "As someone who does music production, I personally love and work in the range of 80 - 110 BPM. Anything above 110 pretty much turns into a house track. With that said, I'm guessing most of the songs will have their BPM between that 80 - 110 range. Any 110+ BPM songs should be the Dance tracks. It's a little tricky because lower BPM songs like those that are 60 - 75 BPM could also be labelled as 120 - 150 BPM. Same for any tracks with 150+ BPM, they're just 2x values.\n",
    "\n",
    "As for the key, it will be interesting to see what patterns are there, if any."
   ]
  },
  {
   "cell_type": "code",
   "execution_count": 74,
   "metadata": {},
   "outputs": [
    {
     "data": {
      "text/plain": [
       "count    676.000000\n",
       "mean     120.544379\n",
       "std       27.534374\n",
       "min       63.000000\n",
       "25%      100.000000\n",
       "50%      119.000000\n",
       "75%      132.000000\n",
       "max      204.000000\n",
       "Name: BPM, dtype: float64"
      ]
     },
     "execution_count": 74,
     "metadata": {},
     "output_type": "execute_result"
    }
   ],
   "source": [
    "playlist['BPM'].describe()"
   ]
  },
  {
   "cell_type": "code",
   "execution_count": 75,
   "metadata": {},
   "outputs": [
    {
     "data": {
      "text/plain": [
       "119.0"
      ]
     },
     "execution_count": 75,
     "metadata": {},
     "output_type": "execute_result"
    }
   ],
   "source": [
    "playlist['BPM'].median()"
   ]
  },
  {
   "cell_type": "code",
   "execution_count": 76,
   "metadata": {},
   "outputs": [
    {
     "data": {
      "application/vnd.plotly.v1+json": {
       "config": {
        "plotlyServerURL": "https://plot.ly"
       },
       "data": [
        {
         "alignmentgroup": "True",
         "hovertemplate": "variable=BPM<br>index=%{x}<br>value=%{y}<extra></extra>",
         "legendgroup": "BPM",
         "marker": {
          "color": "#636efa",
          "pattern": {
           "shape": ""
          }
         },
         "name": "BPM",
         "offsetgroup": "BPM",
         "orientation": "v",
         "showlegend": true,
         "textposition": "auto",
         "type": "bar",
         "x": [
          120,
          124,
          100,
          123,
          90,
          125,
          122,
          130,
          115,
          110,
          108,
          140,
          118,
          128,
          126,
          80,
          94,
          104,
          119,
          92,
          97,
          170,
          150,
          112,
          117,
          172,
          160,
          105,
          102,
          103,
          98,
          91,
          101,
          96,
          114,
          95,
          127,
          180,
          83,
          169,
          116,
          75,
          145,
          113,
          132,
          87,
          93,
          174,
          142,
          106,
          109,
          76,
          99,
          111,
          138,
          157,
          89,
          148,
          162,
          88,
          159,
          85,
          107,
          161,
          82,
          166,
          154,
          81,
          165,
          185,
          86,
          146,
          164,
          78,
          139,
          121,
          151,
          155,
          72,
          187,
          178,
          84,
          156,
          173,
          144,
          79,
          129,
          152,
          133,
          183,
          184,
          176,
          136,
          163,
          175,
          63,
          73,
          70,
          149,
          134,
          66,
          204,
          181,
          77,
          192,
          158,
          143,
          153,
          194,
          196,
          167,
          199,
          147,
          168,
          198,
          131,
          74
         ],
         "xaxis": "x",
         "y": [
          34,
          25,
          22,
          18,
          16,
          16,
          16,
          15,
          14,
          14,
          14,
          13,
          13,
          12,
          12,
          12,
          12,
          12,
          11,
          11,
          11,
          10,
          10,
          10,
          9,
          9,
          9,
          9,
          9,
          8,
          8,
          8,
          8,
          8,
          7,
          7,
          7,
          7,
          6,
          6,
          6,
          6,
          6,
          6,
          6,
          5,
          5,
          5,
          5,
          4,
          4,
          4,
          4,
          4,
          4,
          4,
          4,
          4,
          3,
          3,
          3,
          3,
          3,
          3,
          3,
          3,
          3,
          3,
          3,
          3,
          3,
          3,
          3,
          3,
          3,
          3,
          2,
          2,
          2,
          2,
          2,
          2,
          2,
          2,
          2,
          2,
          2,
          2,
          2,
          2,
          2,
          2,
          2,
          1,
          1,
          1,
          1,
          1,
          1,
          1,
          1,
          1,
          1,
          1,
          1,
          1,
          1,
          1,
          1,
          1,
          1,
          1,
          1,
          1,
          1,
          1,
          1
         ],
         "yaxis": "y"
        }
       ],
       "layout": {
        "barmode": "relative",
        "legend": {
         "title": {
          "text": "variable"
         },
         "tracegroupgap": 0
        },
        "margin": {
         "b": 20,
         "l": 100,
         "r": 150,
         "t": 100
        },
        "paper_bgcolor": "LightSteelBlue",
        "template": {
         "data": {
          "bar": [
           {
            "error_x": {
             "color": "#2a3f5f"
            },
            "error_y": {
             "color": "#2a3f5f"
            },
            "marker": {
             "line": {
              "color": "#E5ECF6",
              "width": 0.5
             },
             "pattern": {
              "fillmode": "overlay",
              "size": 10,
              "solidity": 0.2
             }
            },
            "type": "bar"
           }
          ],
          "barpolar": [
           {
            "marker": {
             "line": {
              "color": "#E5ECF6",
              "width": 0.5
             },
             "pattern": {
              "fillmode": "overlay",
              "size": 10,
              "solidity": 0.2
             }
            },
            "type": "barpolar"
           }
          ],
          "carpet": [
           {
            "aaxis": {
             "endlinecolor": "#2a3f5f",
             "gridcolor": "white",
             "linecolor": "white",
             "minorgridcolor": "white",
             "startlinecolor": "#2a3f5f"
            },
            "baxis": {
             "endlinecolor": "#2a3f5f",
             "gridcolor": "white",
             "linecolor": "white",
             "minorgridcolor": "white",
             "startlinecolor": "#2a3f5f"
            },
            "type": "carpet"
           }
          ],
          "choropleth": [
           {
            "colorbar": {
             "outlinewidth": 0,
             "ticks": ""
            },
            "type": "choropleth"
           }
          ],
          "contour": [
           {
            "colorbar": {
             "outlinewidth": 0,
             "ticks": ""
            },
            "colorscale": [
             [
              0,
              "#0d0887"
             ],
             [
              0.1111111111111111,
              "#46039f"
             ],
             [
              0.2222222222222222,
              "#7201a8"
             ],
             [
              0.3333333333333333,
              "#9c179e"
             ],
             [
              0.4444444444444444,
              "#bd3786"
             ],
             [
              0.5555555555555556,
              "#d8576b"
             ],
             [
              0.6666666666666666,
              "#ed7953"
             ],
             [
              0.7777777777777778,
              "#fb9f3a"
             ],
             [
              0.8888888888888888,
              "#fdca26"
             ],
             [
              1,
              "#f0f921"
             ]
            ],
            "type": "contour"
           }
          ],
          "contourcarpet": [
           {
            "colorbar": {
             "outlinewidth": 0,
             "ticks": ""
            },
            "type": "contourcarpet"
           }
          ],
          "heatmap": [
           {
            "colorbar": {
             "outlinewidth": 0,
             "ticks": ""
            },
            "colorscale": [
             [
              0,
              "#0d0887"
             ],
             [
              0.1111111111111111,
              "#46039f"
             ],
             [
              0.2222222222222222,
              "#7201a8"
             ],
             [
              0.3333333333333333,
              "#9c179e"
             ],
             [
              0.4444444444444444,
              "#bd3786"
             ],
             [
              0.5555555555555556,
              "#d8576b"
             ],
             [
              0.6666666666666666,
              "#ed7953"
             ],
             [
              0.7777777777777778,
              "#fb9f3a"
             ],
             [
              0.8888888888888888,
              "#fdca26"
             ],
             [
              1,
              "#f0f921"
             ]
            ],
            "type": "heatmap"
           }
          ],
          "heatmapgl": [
           {
            "colorbar": {
             "outlinewidth": 0,
             "ticks": ""
            },
            "colorscale": [
             [
              0,
              "#0d0887"
             ],
             [
              0.1111111111111111,
              "#46039f"
             ],
             [
              0.2222222222222222,
              "#7201a8"
             ],
             [
              0.3333333333333333,
              "#9c179e"
             ],
             [
              0.4444444444444444,
              "#bd3786"
             ],
             [
              0.5555555555555556,
              "#d8576b"
             ],
             [
              0.6666666666666666,
              "#ed7953"
             ],
             [
              0.7777777777777778,
              "#fb9f3a"
             ],
             [
              0.8888888888888888,
              "#fdca26"
             ],
             [
              1,
              "#f0f921"
             ]
            ],
            "type": "heatmapgl"
           }
          ],
          "histogram": [
           {
            "marker": {
             "pattern": {
              "fillmode": "overlay",
              "size": 10,
              "solidity": 0.2
             }
            },
            "type": "histogram"
           }
          ],
          "histogram2d": [
           {
            "colorbar": {
             "outlinewidth": 0,
             "ticks": ""
            },
            "colorscale": [
             [
              0,
              "#0d0887"
             ],
             [
              0.1111111111111111,
              "#46039f"
             ],
             [
              0.2222222222222222,
              "#7201a8"
             ],
             [
              0.3333333333333333,
              "#9c179e"
             ],
             [
              0.4444444444444444,
              "#bd3786"
             ],
             [
              0.5555555555555556,
              "#d8576b"
             ],
             [
              0.6666666666666666,
              "#ed7953"
             ],
             [
              0.7777777777777778,
              "#fb9f3a"
             ],
             [
              0.8888888888888888,
              "#fdca26"
             ],
             [
              1,
              "#f0f921"
             ]
            ],
            "type": "histogram2d"
           }
          ],
          "histogram2dcontour": [
           {
            "colorbar": {
             "outlinewidth": 0,
             "ticks": ""
            },
            "colorscale": [
             [
              0,
              "#0d0887"
             ],
             [
              0.1111111111111111,
              "#46039f"
             ],
             [
              0.2222222222222222,
              "#7201a8"
             ],
             [
              0.3333333333333333,
              "#9c179e"
             ],
             [
              0.4444444444444444,
              "#bd3786"
             ],
             [
              0.5555555555555556,
              "#d8576b"
             ],
             [
              0.6666666666666666,
              "#ed7953"
             ],
             [
              0.7777777777777778,
              "#fb9f3a"
             ],
             [
              0.8888888888888888,
              "#fdca26"
             ],
             [
              1,
              "#f0f921"
             ]
            ],
            "type": "histogram2dcontour"
           }
          ],
          "mesh3d": [
           {
            "colorbar": {
             "outlinewidth": 0,
             "ticks": ""
            },
            "type": "mesh3d"
           }
          ],
          "parcoords": [
           {
            "line": {
             "colorbar": {
              "outlinewidth": 0,
              "ticks": ""
             }
            },
            "type": "parcoords"
           }
          ],
          "pie": [
           {
            "automargin": true,
            "type": "pie"
           }
          ],
          "scatter": [
           {
            "fillpattern": {
             "fillmode": "overlay",
             "size": 10,
             "solidity": 0.2
            },
            "type": "scatter"
           }
          ],
          "scatter3d": [
           {
            "line": {
             "colorbar": {
              "outlinewidth": 0,
              "ticks": ""
             }
            },
            "marker": {
             "colorbar": {
              "outlinewidth": 0,
              "ticks": ""
             }
            },
            "type": "scatter3d"
           }
          ],
          "scattercarpet": [
           {
            "marker": {
             "colorbar": {
              "outlinewidth": 0,
              "ticks": ""
             }
            },
            "type": "scattercarpet"
           }
          ],
          "scattergeo": [
           {
            "marker": {
             "colorbar": {
              "outlinewidth": 0,
              "ticks": ""
             }
            },
            "type": "scattergeo"
           }
          ],
          "scattergl": [
           {
            "marker": {
             "colorbar": {
              "outlinewidth": 0,
              "ticks": ""
             }
            },
            "type": "scattergl"
           }
          ],
          "scattermapbox": [
           {
            "marker": {
             "colorbar": {
              "outlinewidth": 0,
              "ticks": ""
             }
            },
            "type": "scattermapbox"
           }
          ],
          "scatterpolar": [
           {
            "marker": {
             "colorbar": {
              "outlinewidth": 0,
              "ticks": ""
             }
            },
            "type": "scatterpolar"
           }
          ],
          "scatterpolargl": [
           {
            "marker": {
             "colorbar": {
              "outlinewidth": 0,
              "ticks": ""
             }
            },
            "type": "scatterpolargl"
           }
          ],
          "scatterternary": [
           {
            "marker": {
             "colorbar": {
              "outlinewidth": 0,
              "ticks": ""
             }
            },
            "type": "scatterternary"
           }
          ],
          "surface": [
           {
            "colorbar": {
             "outlinewidth": 0,
             "ticks": ""
            },
            "colorscale": [
             [
              0,
              "#0d0887"
             ],
             [
              0.1111111111111111,
              "#46039f"
             ],
             [
              0.2222222222222222,
              "#7201a8"
             ],
             [
              0.3333333333333333,
              "#9c179e"
             ],
             [
              0.4444444444444444,
              "#bd3786"
             ],
             [
              0.5555555555555556,
              "#d8576b"
             ],
             [
              0.6666666666666666,
              "#ed7953"
             ],
             [
              0.7777777777777778,
              "#fb9f3a"
             ],
             [
              0.8888888888888888,
              "#fdca26"
             ],
             [
              1,
              "#f0f921"
             ]
            ],
            "type": "surface"
           }
          ],
          "table": [
           {
            "cells": {
             "fill": {
              "color": "#EBF0F8"
             },
             "line": {
              "color": "white"
             }
            },
            "header": {
             "fill": {
              "color": "#C8D4E3"
             },
             "line": {
              "color": "white"
             }
            },
            "type": "table"
           }
          ]
         },
         "layout": {
          "annotationdefaults": {
           "arrowcolor": "#2a3f5f",
           "arrowhead": 0,
           "arrowwidth": 1
          },
          "autotypenumbers": "strict",
          "coloraxis": {
           "colorbar": {
            "outlinewidth": 0,
            "ticks": ""
           }
          },
          "colorscale": {
           "diverging": [
            [
             0,
             "#8e0152"
            ],
            [
             0.1,
             "#c51b7d"
            ],
            [
             0.2,
             "#de77ae"
            ],
            [
             0.3,
             "#f1b6da"
            ],
            [
             0.4,
             "#fde0ef"
            ],
            [
             0.5,
             "#f7f7f7"
            ],
            [
             0.6,
             "#e6f5d0"
            ],
            [
             0.7,
             "#b8e186"
            ],
            [
             0.8,
             "#7fbc41"
            ],
            [
             0.9,
             "#4d9221"
            ],
            [
             1,
             "#276419"
            ]
           ],
           "sequential": [
            [
             0,
             "#0d0887"
            ],
            [
             0.1111111111111111,
             "#46039f"
            ],
            [
             0.2222222222222222,
             "#7201a8"
            ],
            [
             0.3333333333333333,
             "#9c179e"
            ],
            [
             0.4444444444444444,
             "#bd3786"
            ],
            [
             0.5555555555555556,
             "#d8576b"
            ],
            [
             0.6666666666666666,
             "#ed7953"
            ],
            [
             0.7777777777777778,
             "#fb9f3a"
            ],
            [
             0.8888888888888888,
             "#fdca26"
            ],
            [
             1,
             "#f0f921"
            ]
           ],
           "sequentialminus": [
            [
             0,
             "#0d0887"
            ],
            [
             0.1111111111111111,
             "#46039f"
            ],
            [
             0.2222222222222222,
             "#7201a8"
            ],
            [
             0.3333333333333333,
             "#9c179e"
            ],
            [
             0.4444444444444444,
             "#bd3786"
            ],
            [
             0.5555555555555556,
             "#d8576b"
            ],
            [
             0.6666666666666666,
             "#ed7953"
            ],
            [
             0.7777777777777778,
             "#fb9f3a"
            ],
            [
             0.8888888888888888,
             "#fdca26"
            ],
            [
             1,
             "#f0f921"
            ]
           ]
          },
          "colorway": [
           "#636efa",
           "#EF553B",
           "#00cc96",
           "#ab63fa",
           "#FFA15A",
           "#19d3f3",
           "#FF6692",
           "#B6E880",
           "#FF97FF",
           "#FECB52"
          ],
          "font": {
           "color": "#2a3f5f"
          },
          "geo": {
           "bgcolor": "white",
           "lakecolor": "white",
           "landcolor": "#E5ECF6",
           "showlakes": true,
           "showland": true,
           "subunitcolor": "white"
          },
          "hoverlabel": {
           "align": "left"
          },
          "hovermode": "closest",
          "mapbox": {
           "style": "light"
          },
          "paper_bgcolor": "white",
          "plot_bgcolor": "#E5ECF6",
          "polar": {
           "angularaxis": {
            "gridcolor": "white",
            "linecolor": "white",
            "ticks": ""
           },
           "bgcolor": "#E5ECF6",
           "radialaxis": {
            "gridcolor": "white",
            "linecolor": "white",
            "ticks": ""
           }
          },
          "scene": {
           "xaxis": {
            "backgroundcolor": "#E5ECF6",
            "gridcolor": "white",
            "gridwidth": 2,
            "linecolor": "white",
            "showbackground": true,
            "ticks": "",
            "zerolinecolor": "white"
           },
           "yaxis": {
            "backgroundcolor": "#E5ECF6",
            "gridcolor": "white",
            "gridwidth": 2,
            "linecolor": "white",
            "showbackground": true,
            "ticks": "",
            "zerolinecolor": "white"
           },
           "zaxis": {
            "backgroundcolor": "#E5ECF6",
            "gridcolor": "white",
            "gridwidth": 2,
            "linecolor": "white",
            "showbackground": true,
            "ticks": "",
            "zerolinecolor": "white"
           }
          },
          "shapedefaults": {
           "line": {
            "color": "#2a3f5f"
           }
          },
          "ternary": {
           "aaxis": {
            "gridcolor": "white",
            "linecolor": "white",
            "ticks": ""
           },
           "baxis": {
            "gridcolor": "white",
            "linecolor": "white",
            "ticks": ""
           },
           "bgcolor": "#E5ECF6",
           "caxis": {
            "gridcolor": "white",
            "linecolor": "white",
            "ticks": ""
           }
          },
          "title": {
           "x": 0.05
          },
          "xaxis": {
           "automargin": true,
           "gridcolor": "white",
           "linecolor": "white",
           "ticks": "",
           "title": {
            "standoff": 15
           },
           "zerolinecolor": "white",
           "zerolinewidth": 2
          },
          "yaxis": {
           "automargin": true,
           "gridcolor": "white",
           "linecolor": "white",
           "ticks": "",
           "title": {
            "standoff": 15
           },
           "zerolinecolor": "white",
           "zerolinewidth": 2
          }
         }
        },
        "title": {
         "text": "Tempo of songs",
         "x": 0.5
        },
        "xaxis": {
         "anchor": "y",
         "domain": [
          0,
          1
         ],
         "title": {
          "text": "BPM"
         }
        },
        "yaxis": {
         "anchor": "x",
         "domain": [
          0,
          1
         ],
         "title": {
          "text": "Track Count"
         }
        }
       }
      },
      "text/html": [
       "<div>                            <div id=\"48bd6bb5-2113-4656-8547-23aef9c90448\" class=\"plotly-graph-div\" style=\"height:525px; width:100%;\"></div>            <script type=\"text/javascript\">                require([\"plotly\"], function(Plotly) {                    window.PLOTLYENV=window.PLOTLYENV || {};                                    if (document.getElementById(\"48bd6bb5-2113-4656-8547-23aef9c90448\")) {                    Plotly.newPlot(                        \"48bd6bb5-2113-4656-8547-23aef9c90448\",                        [{\"alignmentgroup\":\"True\",\"hovertemplate\":\"variable=BPM<br>index=%{x}<br>value=%{y}<extra></extra>\",\"legendgroup\":\"BPM\",\"marker\":{\"color\":\"#636efa\",\"pattern\":{\"shape\":\"\"}},\"name\":\"BPM\",\"offsetgroup\":\"BPM\",\"orientation\":\"v\",\"showlegend\":true,\"textposition\":\"auto\",\"x\":[120,124,100,123,90,125,122,130,115,110,108,140,118,128,126,80,94,104,119,92,97,170,150,112,117,172,160,105,102,103,98,91,101,96,114,95,127,180,83,169,116,75,145,113,132,87,93,174,142,106,109,76,99,111,138,157,89,148,162,88,159,85,107,161,82,166,154,81,165,185,86,146,164,78,139,121,151,155,72,187,178,84,156,173,144,79,129,152,133,183,184,176,136,163,175,63,73,70,149,134,66,204,181,77,192,158,143,153,194,196,167,199,147,168,198,131,74],\"xaxis\":\"x\",\"y\":[34,25,22,18,16,16,16,15,14,14,14,13,13,12,12,12,12,12,11,11,11,10,10,10,9,9,9,9,9,8,8,8,8,8,7,7,7,7,6,6,6,6,6,6,6,5,5,5,5,4,4,4,4,4,4,4,4,4,3,3,3,3,3,3,3,3,3,3,3,3,3,3,3,3,3,3,2,2,2,2,2,2,2,2,2,2,2,2,2,2,2,2,2,1,1,1,1,1,1,1,1,1,1,1,1,1,1,1,1,1,1,1,1,1,1,1,1],\"yaxis\":\"y\",\"type\":\"bar\"}],                        {\"template\":{\"data\":{\"histogram2dcontour\":[{\"type\":\"histogram2dcontour\",\"colorbar\":{\"outlinewidth\":0,\"ticks\":\"\"},\"colorscale\":[[0.0,\"#0d0887\"],[0.1111111111111111,\"#46039f\"],[0.2222222222222222,\"#7201a8\"],[0.3333333333333333,\"#9c179e\"],[0.4444444444444444,\"#bd3786\"],[0.5555555555555556,\"#d8576b\"],[0.6666666666666666,\"#ed7953\"],[0.7777777777777778,\"#fb9f3a\"],[0.8888888888888888,\"#fdca26\"],[1.0,\"#f0f921\"]]}],\"choropleth\":[{\"type\":\"choropleth\",\"colorbar\":{\"outlinewidth\":0,\"ticks\":\"\"}}],\"histogram2d\":[{\"type\":\"histogram2d\",\"colorbar\":{\"outlinewidth\":0,\"ticks\":\"\"},\"colorscale\":[[0.0,\"#0d0887\"],[0.1111111111111111,\"#46039f\"],[0.2222222222222222,\"#7201a8\"],[0.3333333333333333,\"#9c179e\"],[0.4444444444444444,\"#bd3786\"],[0.5555555555555556,\"#d8576b\"],[0.6666666666666666,\"#ed7953\"],[0.7777777777777778,\"#fb9f3a\"],[0.8888888888888888,\"#fdca26\"],[1.0,\"#f0f921\"]]}],\"heatmap\":[{\"type\":\"heatmap\",\"colorbar\":{\"outlinewidth\":0,\"ticks\":\"\"},\"colorscale\":[[0.0,\"#0d0887\"],[0.1111111111111111,\"#46039f\"],[0.2222222222222222,\"#7201a8\"],[0.3333333333333333,\"#9c179e\"],[0.4444444444444444,\"#bd3786\"],[0.5555555555555556,\"#d8576b\"],[0.6666666666666666,\"#ed7953\"],[0.7777777777777778,\"#fb9f3a\"],[0.8888888888888888,\"#fdca26\"],[1.0,\"#f0f921\"]]}],\"heatmapgl\":[{\"type\":\"heatmapgl\",\"colorbar\":{\"outlinewidth\":0,\"ticks\":\"\"},\"colorscale\":[[0.0,\"#0d0887\"],[0.1111111111111111,\"#46039f\"],[0.2222222222222222,\"#7201a8\"],[0.3333333333333333,\"#9c179e\"],[0.4444444444444444,\"#bd3786\"],[0.5555555555555556,\"#d8576b\"],[0.6666666666666666,\"#ed7953\"],[0.7777777777777778,\"#fb9f3a\"],[0.8888888888888888,\"#fdca26\"],[1.0,\"#f0f921\"]]}],\"contourcarpet\":[{\"type\":\"contourcarpet\",\"colorbar\":{\"outlinewidth\":0,\"ticks\":\"\"}}],\"contour\":[{\"type\":\"contour\",\"colorbar\":{\"outlinewidth\":0,\"ticks\":\"\"},\"colorscale\":[[0.0,\"#0d0887\"],[0.1111111111111111,\"#46039f\"],[0.2222222222222222,\"#7201a8\"],[0.3333333333333333,\"#9c179e\"],[0.4444444444444444,\"#bd3786\"],[0.5555555555555556,\"#d8576b\"],[0.6666666666666666,\"#ed7953\"],[0.7777777777777778,\"#fb9f3a\"],[0.8888888888888888,\"#fdca26\"],[1.0,\"#f0f921\"]]}],\"surface\":[{\"type\":\"surface\",\"colorbar\":{\"outlinewidth\":0,\"ticks\":\"\"},\"colorscale\":[[0.0,\"#0d0887\"],[0.1111111111111111,\"#46039f\"],[0.2222222222222222,\"#7201a8\"],[0.3333333333333333,\"#9c179e\"],[0.4444444444444444,\"#bd3786\"],[0.5555555555555556,\"#d8576b\"],[0.6666666666666666,\"#ed7953\"],[0.7777777777777778,\"#fb9f3a\"],[0.8888888888888888,\"#fdca26\"],[1.0,\"#f0f921\"]]}],\"mesh3d\":[{\"type\":\"mesh3d\",\"colorbar\":{\"outlinewidth\":0,\"ticks\":\"\"}}],\"scatter\":[{\"fillpattern\":{\"fillmode\":\"overlay\",\"size\":10,\"solidity\":0.2},\"type\":\"scatter\"}],\"parcoords\":[{\"type\":\"parcoords\",\"line\":{\"colorbar\":{\"outlinewidth\":0,\"ticks\":\"\"}}}],\"scatterpolargl\":[{\"type\":\"scatterpolargl\",\"marker\":{\"colorbar\":{\"outlinewidth\":0,\"ticks\":\"\"}}}],\"bar\":[{\"error_x\":{\"color\":\"#2a3f5f\"},\"error_y\":{\"color\":\"#2a3f5f\"},\"marker\":{\"line\":{\"color\":\"#E5ECF6\",\"width\":0.5},\"pattern\":{\"fillmode\":\"overlay\",\"size\":10,\"solidity\":0.2}},\"type\":\"bar\"}],\"scattergeo\":[{\"type\":\"scattergeo\",\"marker\":{\"colorbar\":{\"outlinewidth\":0,\"ticks\":\"\"}}}],\"scatterpolar\":[{\"type\":\"scatterpolar\",\"marker\":{\"colorbar\":{\"outlinewidth\":0,\"ticks\":\"\"}}}],\"histogram\":[{\"marker\":{\"pattern\":{\"fillmode\":\"overlay\",\"size\":10,\"solidity\":0.2}},\"type\":\"histogram\"}],\"scattergl\":[{\"type\":\"scattergl\",\"marker\":{\"colorbar\":{\"outlinewidth\":0,\"ticks\":\"\"}}}],\"scatter3d\":[{\"type\":\"scatter3d\",\"line\":{\"colorbar\":{\"outlinewidth\":0,\"ticks\":\"\"}},\"marker\":{\"colorbar\":{\"outlinewidth\":0,\"ticks\":\"\"}}}],\"scattermapbox\":[{\"type\":\"scattermapbox\",\"marker\":{\"colorbar\":{\"outlinewidth\":0,\"ticks\":\"\"}}}],\"scatterternary\":[{\"type\":\"scatterternary\",\"marker\":{\"colorbar\":{\"outlinewidth\":0,\"ticks\":\"\"}}}],\"scattercarpet\":[{\"type\":\"scattercarpet\",\"marker\":{\"colorbar\":{\"outlinewidth\":0,\"ticks\":\"\"}}}],\"carpet\":[{\"aaxis\":{\"endlinecolor\":\"#2a3f5f\",\"gridcolor\":\"white\",\"linecolor\":\"white\",\"minorgridcolor\":\"white\",\"startlinecolor\":\"#2a3f5f\"},\"baxis\":{\"endlinecolor\":\"#2a3f5f\",\"gridcolor\":\"white\",\"linecolor\":\"white\",\"minorgridcolor\":\"white\",\"startlinecolor\":\"#2a3f5f\"},\"type\":\"carpet\"}],\"table\":[{\"cells\":{\"fill\":{\"color\":\"#EBF0F8\"},\"line\":{\"color\":\"white\"}},\"header\":{\"fill\":{\"color\":\"#C8D4E3\"},\"line\":{\"color\":\"white\"}},\"type\":\"table\"}],\"barpolar\":[{\"marker\":{\"line\":{\"color\":\"#E5ECF6\",\"width\":0.5},\"pattern\":{\"fillmode\":\"overlay\",\"size\":10,\"solidity\":0.2}},\"type\":\"barpolar\"}],\"pie\":[{\"automargin\":true,\"type\":\"pie\"}]},\"layout\":{\"autotypenumbers\":\"strict\",\"colorway\":[\"#636efa\",\"#EF553B\",\"#00cc96\",\"#ab63fa\",\"#FFA15A\",\"#19d3f3\",\"#FF6692\",\"#B6E880\",\"#FF97FF\",\"#FECB52\"],\"font\":{\"color\":\"#2a3f5f\"},\"hovermode\":\"closest\",\"hoverlabel\":{\"align\":\"left\"},\"paper_bgcolor\":\"white\",\"plot_bgcolor\":\"#E5ECF6\",\"polar\":{\"bgcolor\":\"#E5ECF6\",\"angularaxis\":{\"gridcolor\":\"white\",\"linecolor\":\"white\",\"ticks\":\"\"},\"radialaxis\":{\"gridcolor\":\"white\",\"linecolor\":\"white\",\"ticks\":\"\"}},\"ternary\":{\"bgcolor\":\"#E5ECF6\",\"aaxis\":{\"gridcolor\":\"white\",\"linecolor\":\"white\",\"ticks\":\"\"},\"baxis\":{\"gridcolor\":\"white\",\"linecolor\":\"white\",\"ticks\":\"\"},\"caxis\":{\"gridcolor\":\"white\",\"linecolor\":\"white\",\"ticks\":\"\"}},\"coloraxis\":{\"colorbar\":{\"outlinewidth\":0,\"ticks\":\"\"}},\"colorscale\":{\"sequential\":[[0.0,\"#0d0887\"],[0.1111111111111111,\"#46039f\"],[0.2222222222222222,\"#7201a8\"],[0.3333333333333333,\"#9c179e\"],[0.4444444444444444,\"#bd3786\"],[0.5555555555555556,\"#d8576b\"],[0.6666666666666666,\"#ed7953\"],[0.7777777777777778,\"#fb9f3a\"],[0.8888888888888888,\"#fdca26\"],[1.0,\"#f0f921\"]],\"sequentialminus\":[[0.0,\"#0d0887\"],[0.1111111111111111,\"#46039f\"],[0.2222222222222222,\"#7201a8\"],[0.3333333333333333,\"#9c179e\"],[0.4444444444444444,\"#bd3786\"],[0.5555555555555556,\"#d8576b\"],[0.6666666666666666,\"#ed7953\"],[0.7777777777777778,\"#fb9f3a\"],[0.8888888888888888,\"#fdca26\"],[1.0,\"#f0f921\"]],\"diverging\":[[0,\"#8e0152\"],[0.1,\"#c51b7d\"],[0.2,\"#de77ae\"],[0.3,\"#f1b6da\"],[0.4,\"#fde0ef\"],[0.5,\"#f7f7f7\"],[0.6,\"#e6f5d0\"],[0.7,\"#b8e186\"],[0.8,\"#7fbc41\"],[0.9,\"#4d9221\"],[1,\"#276419\"]]},\"xaxis\":{\"gridcolor\":\"white\",\"linecolor\":\"white\",\"ticks\":\"\",\"title\":{\"standoff\":15},\"zerolinecolor\":\"white\",\"automargin\":true,\"zerolinewidth\":2},\"yaxis\":{\"gridcolor\":\"white\",\"linecolor\":\"white\",\"ticks\":\"\",\"title\":{\"standoff\":15},\"zerolinecolor\":\"white\",\"automargin\":true,\"zerolinewidth\":2},\"scene\":{\"xaxis\":{\"backgroundcolor\":\"#E5ECF6\",\"gridcolor\":\"white\",\"linecolor\":\"white\",\"showbackground\":true,\"ticks\":\"\",\"zerolinecolor\":\"white\",\"gridwidth\":2},\"yaxis\":{\"backgroundcolor\":\"#E5ECF6\",\"gridcolor\":\"white\",\"linecolor\":\"white\",\"showbackground\":true,\"ticks\":\"\",\"zerolinecolor\":\"white\",\"gridwidth\":2},\"zaxis\":{\"backgroundcolor\":\"#E5ECF6\",\"gridcolor\":\"white\",\"linecolor\":\"white\",\"showbackground\":true,\"ticks\":\"\",\"zerolinecolor\":\"white\",\"gridwidth\":2}},\"shapedefaults\":{\"line\":{\"color\":\"#2a3f5f\"}},\"annotationdefaults\":{\"arrowcolor\":\"#2a3f5f\",\"arrowhead\":0,\"arrowwidth\":1},\"geo\":{\"bgcolor\":\"white\",\"landcolor\":\"#E5ECF6\",\"subunitcolor\":\"white\",\"showland\":true,\"showlakes\":true,\"lakecolor\":\"white\"},\"title\":{\"x\":0.05},\"mapbox\":{\"style\":\"light\"}}},\"xaxis\":{\"anchor\":\"y\",\"domain\":[0.0,1.0],\"title\":{\"text\":\"BPM\"}},\"yaxis\":{\"anchor\":\"x\",\"domain\":[0.0,1.0],\"title\":{\"text\":\"Track Count\"}},\"legend\":{\"title\":{\"text\":\"variable\"},\"tracegroupgap\":0},\"margin\":{\"t\":100,\"l\":100,\"r\":150,\"b\":20},\"barmode\":\"relative\",\"title\":{\"text\":\"Tempo of songs\",\"x\":0.5},\"paper_bgcolor\":\"LightSteelBlue\"},                        {\"responsive\": true}                    ).then(function(){\n",
       "                            \n",
       "var gd = document.getElementById('48bd6bb5-2113-4656-8547-23aef9c90448');\n",
       "var x = new MutationObserver(function (mutations, observer) {{\n",
       "        var display = window.getComputedStyle(gd).display;\n",
       "        if (!display || display === 'none') {{\n",
       "            console.log([gd, 'removed!']);\n",
       "            Plotly.purge(gd);\n",
       "            observer.disconnect();\n",
       "        }}\n",
       "}});\n",
       "\n",
       "// Listen for the removal of the full notebook cells\n",
       "var notebookContainer = gd.closest('#notebook-container');\n",
       "if (notebookContainer) {{\n",
       "    x.observe(notebookContainer, {childList: true});\n",
       "}}\n",
       "\n",
       "// Listen for the clearing of the current output cell\n",
       "var outputEl = gd.closest('.output');\n",
       "if (outputEl) {{\n",
       "    x.observe(outputEl, {childList: true});\n",
       "}}\n",
       "\n",
       "                        })                };                });            </script>        </div>"
      ]
     },
     "metadata": {},
     "output_type": "display_data"
    }
   ],
   "source": [
    "px.bar(playlist.BPM.value_counts()).update_layout(\n",
    "                  title_text=\"Tempo of songs\", title_x=0.5,\n",
    "                  yaxis_title='Track Count',\n",
    "                  xaxis_title='BPM',\n",
    "                  paper_bgcolor=\"LightSteelBlue\",\n",
    "                  margin=dict(l=100, r=150, t=100, b=20)\n",
    "                )"
   ]
  },
  {
   "cell_type": "code",
   "execution_count": 77,
   "metadata": {},
   "outputs": [
    {
     "data": {
      "text/html": [
       "<div>\n",
       "<style scoped>\n",
       "    .dataframe tbody tr th:only-of-type {\n",
       "        vertical-align: middle;\n",
       "    }\n",
       "\n",
       "    .dataframe tbody tr th {\n",
       "        vertical-align: top;\n",
       "    }\n",
       "\n",
       "    .dataframe thead th {\n",
       "        text-align: right;\n",
       "    }\n",
       "</style>\n",
       "<table border=\"1\" class=\"dataframe\">\n",
       "  <thead>\n",
       "    <tr style=\"text-align: right;\">\n",
       "      <th></th>\n",
       "      <th>Song</th>\n",
       "      <th>Artist</th>\n",
       "      <th>Popularity</th>\n",
       "      <th>BPM</th>\n",
       "      <th>Genres</th>\n",
       "      <th>Parent_Genres</th>\n",
       "      <th>Album</th>\n",
       "      <th>Album_Date</th>\n",
       "      <th>Time</th>\n",
       "      <th>Dance</th>\n",
       "      <th>...</th>\n",
       "      <th>Live</th>\n",
       "      <th>Loud</th>\n",
       "      <th>Key</th>\n",
       "      <th>Time_Signature</th>\n",
       "      <th>Added_At</th>\n",
       "      <th>Record_Label</th>\n",
       "      <th>Camelot</th>\n",
       "      <th>Country</th>\n",
       "      <th>Genre</th>\n",
       "      <th>Parent_Genre</th>\n",
       "    </tr>\n",
       "  </thead>\n",
       "  <tbody>\n",
       "    <tr>\n",
       "      <th>595</th>\n",
       "      <td>I Deserve to Bleed</td>\n",
       "      <td>Sushi Soucy</td>\n",
       "      <td>65</td>\n",
       "      <td>120</td>\n",
       "      <td>indie pop, pixel</td>\n",
       "      <td>Rock</td>\n",
       "      <td>I Deserve to Bleed</td>\n",
       "      <td>2020-12-27</td>\n",
       "      <td>1:44</td>\n",
       "      <td>76</td>\n",
       "      <td>...</td>\n",
       "      <td>10</td>\n",
       "      <td>-12</td>\n",
       "      <td>G Major</td>\n",
       "      <td>4</td>\n",
       "      <td>2022-10-29</td>\n",
       "      <td>Sushi Soucy</td>\n",
       "      <td>9B</td>\n",
       "      <td>{'Sushi Soucy': 'N/A'}</td>\n",
       "      <td>indie pop</td>\n",
       "      <td>Rock</td>\n",
       "    </tr>\n",
       "    <tr>\n",
       "      <th>555</th>\n",
       "      <td>The Coffin Was So Light I Thought It Might Flo...</td>\n",
       "      <td>Eiafuawn</td>\n",
       "      <td>43</td>\n",
       "      <td>120</td>\n",
       "      <td>dream pop, lo-fi, lo-fi indie</td>\n",
       "      <td>Rock</td>\n",
       "      <td>Birds In The Ground</td>\n",
       "      <td>2006-01-01</td>\n",
       "      <td>3:51</td>\n",
       "      <td>77</td>\n",
       "      <td>...</td>\n",
       "      <td>30</td>\n",
       "      <td>-15</td>\n",
       "      <td>F#/G♭ Minor</td>\n",
       "      <td>4</td>\n",
       "      <td>2022-09-17</td>\n",
       "      <td>Numero Group</td>\n",
       "      <td>11A</td>\n",
       "      <td>{'Eiafuawn': 'N/A'}</td>\n",
       "      <td>dream pop</td>\n",
       "      <td>Rock</td>\n",
       "    </tr>\n",
       "    <tr>\n",
       "      <th>54</th>\n",
       "      <td>Dazed (feat. Gabrielle &amp; Geoffroy)</td>\n",
       "      <td>Men I Trust,Geoffroy,Gabrielle</td>\n",
       "      <td>44</td>\n",
       "      <td>120</td>\n",
       "      <td>indie pop, indie quebecois,</td>\n",
       "      <td>Rock, Blues</td>\n",
       "      <td>Men I Trust</td>\n",
       "      <td>2014-05-28</td>\n",
       "      <td>3:52</td>\n",
       "      <td>84</td>\n",
       "      <td>...</td>\n",
       "      <td>10</td>\n",
       "      <td>-11</td>\n",
       "      <td>F#/G♭ Minor</td>\n",
       "      <td>4</td>\n",
       "      <td>2020-01-20</td>\n",
       "      <td>Indie</td>\n",
       "      <td>11A</td>\n",
       "      <td>{'Men I Trust': 'Canada', 'Geoffroy': 'N/A', '...</td>\n",
       "      <td>indie pop</td>\n",
       "      <td>Rock</td>\n",
       "    </tr>\n",
       "  </tbody>\n",
       "</table>\n",
       "<p>3 rows × 25 columns</p>\n",
       "</div>"
      ],
      "text/plain": [
       "                                                  Song  \\\n",
       "595                                 I Deserve to Bleed   \n",
       "555  The Coffin Was So Light I Thought It Might Flo...   \n",
       "54                  Dazed (feat. Gabrielle & Geoffroy)   \n",
       "\n",
       "                             Artist  Popularity  BPM  \\\n",
       "595                     Sushi Soucy          65  120   \n",
       "555                        Eiafuawn          43  120   \n",
       "54   Men I Trust,Geoffroy,Gabrielle          44  120   \n",
       "\n",
       "                            Genres Parent_Genres                Album  \\\n",
       "595               indie pop, pixel          Rock   I Deserve to Bleed   \n",
       "555  dream pop, lo-fi, lo-fi indie          Rock  Birds In The Ground   \n",
       "54    indie pop, indie quebecois,    Rock, Blues          Men I Trust   \n",
       "\n",
       "    Album_Date  Time  Dance  ...  Live  Loud          Key  Time_Signature  \\\n",
       "595 2020-12-27  1:44     76  ...    10   -12      G Major               4   \n",
       "555 2006-01-01  3:51     77  ...    30   -15  F#/G♭ Minor               4   \n",
       "54  2014-05-28  3:52     84  ...    10   -11  F#/G♭ Minor               4   \n",
       "\n",
       "      Added_At  Record_Label  Camelot  \\\n",
       "595 2022-10-29   Sushi Soucy       9B   \n",
       "555 2022-09-17  Numero Group      11A   \n",
       "54  2020-01-20         Indie      11A   \n",
       "\n",
       "                                               Country      Genre Parent_Genre  \n",
       "595                             {'Sushi Soucy': 'N/A'}  indie pop         Rock  \n",
       "555                                {'Eiafuawn': 'N/A'}  dream pop         Rock  \n",
       "54   {'Men I Trust': 'Canada', 'Geoffroy': 'N/A', '...  indie pop         Rock  \n",
       "\n",
       "[3 rows x 25 columns]"
      ]
     },
     "execution_count": 77,
     "metadata": {},
     "output_type": "execute_result"
    }
   ],
   "source": [
    "playlist[playlist.BPM==120].sample(3)"
   ]
  },
  {
   "cell_type": "code",
   "execution_count": 78,
   "metadata": {},
   "outputs": [
    {
     "data": {
      "text/html": [
       "<div>\n",
       "<style scoped>\n",
       "    .dataframe tbody tr th:only-of-type {\n",
       "        vertical-align: middle;\n",
       "    }\n",
       "\n",
       "    .dataframe tbody tr th {\n",
       "        vertical-align: top;\n",
       "    }\n",
       "\n",
       "    .dataframe thead th {\n",
       "        text-align: right;\n",
       "    }\n",
       "</style>\n",
       "<table border=\"1\" class=\"dataframe\">\n",
       "  <thead>\n",
       "    <tr style=\"text-align: right;\">\n",
       "      <th></th>\n",
       "      <th>Artist</th>\n",
       "      <th>Song</th>\n",
       "      <th>BPM</th>\n",
       "      <th>Parent_Genre</th>\n",
       "      <th>Genre</th>\n",
       "    </tr>\n",
       "  </thead>\n",
       "  <tbody>\n",
       "    <tr>\n",
       "      <th>559</th>\n",
       "      <td>Kosmo Kint,Atjazz</td>\n",
       "      <td>Too Big - Atjazz Remix</td>\n",
       "      <td>120</td>\n",
       "      <td>Dance/Electronic</td>\n",
       "      <td>afro house</td>\n",
       "    </tr>\n",
       "    <tr>\n",
       "      <th>633</th>\n",
       "      <td>Fabich,Pastel,Jafunk,Bambie</td>\n",
       "      <td>Ecstasy</td>\n",
       "      <td>120</td>\n",
       "      <td>R&amp;B</td>\n",
       "      <td>indie soul</td>\n",
       "    </tr>\n",
       "    <tr>\n",
       "      <th>467</th>\n",
       "      <td>347aidan</td>\n",
       "      <td>Dancing in My Room</td>\n",
       "      <td>120</td>\n",
       "      <td>Hip Hop</td>\n",
       "      <td>sad rap</td>\n",
       "    </tr>\n",
       "  </tbody>\n",
       "</table>\n",
       "</div>"
      ],
      "text/plain": [
       "                          Artist                    Song  BPM  \\\n",
       "559            Kosmo Kint,Atjazz  Too Big - Atjazz Remix  120   \n",
       "633  Fabich,Pastel,Jafunk,Bambie                 Ecstasy  120   \n",
       "467                     347aidan      Dancing in My Room  120   \n",
       "\n",
       "         Parent_Genre       Genre  \n",
       "559  Dance/Electronic  afro house  \n",
       "633               R&B  indie soul  \n",
       "467           Hip Hop     sad rap  "
      ]
     },
     "execution_count": 78,
     "metadata": {},
     "output_type": "execute_result"
    }
   ],
   "source": [
    "playlist[playlist.BPM==120][['Artist','Song','BPM','Parent_Genre','Genre']].sample(3)"
   ]
  },
  {
   "cell_type": "code",
   "execution_count": 79,
   "metadata": {},
   "outputs": [
    {
     "data": {
      "text/html": [
       "<div>\n",
       "<style scoped>\n",
       "    .dataframe tbody tr th:only-of-type {\n",
       "        vertical-align: middle;\n",
       "    }\n",
       "\n",
       "    .dataframe tbody tr th {\n",
       "        vertical-align: top;\n",
       "    }\n",
       "\n",
       "    .dataframe thead th {\n",
       "        text-align: right;\n",
       "    }\n",
       "</style>\n",
       "<table border=\"1\" class=\"dataframe\">\n",
       "  <thead>\n",
       "    <tr style=\"text-align: right;\">\n",
       "      <th></th>\n",
       "      <th>BPM</th>\n",
       "      <th>Key</th>\n",
       "      <th>Count</th>\n",
       "    </tr>\n",
       "  </thead>\n",
       "  <tbody>\n",
       "    <tr>\n",
       "      <th>749</th>\n",
       "      <td>100</td>\n",
       "      <td>B Minor</td>\n",
       "      <td>4</td>\n",
       "    </tr>\n",
       "    <tr>\n",
       "      <th>764</th>\n",
       "      <td>100</td>\n",
       "      <td>G Major</td>\n",
       "      <td>4</td>\n",
       "    </tr>\n",
       "    <tr>\n",
       "      <th>1230</th>\n",
       "      <td>120</td>\n",
       "      <td>C Major</td>\n",
       "      <td>4</td>\n",
       "    </tr>\n",
       "    <tr>\n",
       "      <th>1239</th>\n",
       "      <td>120</td>\n",
       "      <td>E Minor</td>\n",
       "      <td>4</td>\n",
       "    </tr>\n",
       "    <tr>\n",
       "      <th>1244</th>\n",
       "      <td>120</td>\n",
       "      <td>G Major</td>\n",
       "      <td>4</td>\n",
       "    </tr>\n",
       "    <tr>\n",
       "      <th>1290</th>\n",
       "      <td>122</td>\n",
       "      <td>F#/G♭ Major</td>\n",
       "      <td>4</td>\n",
       "    </tr>\n",
       "    <tr>\n",
       "      <th>1316</th>\n",
       "      <td>123</td>\n",
       "      <td>G Major</td>\n",
       "      <td>4</td>\n",
       "    </tr>\n",
       "  </tbody>\n",
       "</table>\n",
       "</div>"
      ],
      "text/plain": [
       "      BPM          Key  Count\n",
       "749   100      B Minor      4\n",
       "764   100      G Major      4\n",
       "1230  120      C Major      4\n",
       "1239  120      E Minor      4\n",
       "1244  120      G Major      4\n",
       "1290  122  F#/G♭ Major      4\n",
       "1316  123      G Major      4"
      ]
     },
     "execution_count": 79,
     "metadata": {},
     "output_type": "execute_result"
    }
   ],
   "source": [
    "playlist.groupby(['BPM','Key']).size().rename('Count').reset_index().query('Count > 3')"
   ]
  },
  {
   "cell_type": "code",
   "execution_count": 80,
   "metadata": {},
   "outputs": [
    {
     "data": {
      "application/vnd.plotly.v1+json": {
       "config": {
        "plotlyServerURL": "https://plot.ly"
       },
       "data": [
        {
         "alignmentgroup": "True",
         "hovertemplate": "variable=Key<br>index=%{x}<br>value=%{y}<extra></extra>",
         "legendgroup": "Key",
         "marker": {
          "color": "#636efa",
          "pattern": {
           "shape": ""
          }
         },
         "name": "Key",
         "offsetgroup": "Key",
         "orientation": "v",
         "showlegend": true,
         "textposition": "auto",
         "type": "bar",
         "x": [
          "G Major",
          "C♯/D♭ Major",
          "A Major",
          "D Major",
          "F#/G♭ Minor",
          "C Major",
          "B Minor",
          "F#/G♭ Major",
          "G#/A♭ Major",
          "A Minor",
          "G#/A♭ Minor",
          "B Major",
          "F Minor",
          "A#/B♭ Minor",
          "F Major",
          "C♯/D♭ Minor",
          "E Minor",
          "E Major",
          "A#/B♭ Major",
          "C Minor",
          "G Minor",
          "D#/E♭ Minor",
          "D#/E♭ Major",
          "D Minor"
         ],
         "xaxis": "x",
         "y": [
          53,
          47,
          46,
          43,
          43,
          43,
          42,
          39,
          36,
          29,
          25,
          25,
          24,
          24,
          23,
          21,
          21,
          19,
          18,
          14,
          14,
          11,
          10,
          6
         ],
         "yaxis": "y"
        }
       ],
       "layout": {
        "barmode": "relative",
        "legend": {
         "title": {
          "text": "variable"
         },
         "tracegroupgap": 0
        },
        "margin": {
         "b": 20,
         "l": 100,
         "r": 150,
         "t": 100
        },
        "paper_bgcolor": "LightSteelBlue",
        "template": {
         "data": {
          "bar": [
           {
            "error_x": {
             "color": "#2a3f5f"
            },
            "error_y": {
             "color": "#2a3f5f"
            },
            "marker": {
             "line": {
              "color": "#E5ECF6",
              "width": 0.5
             },
             "pattern": {
              "fillmode": "overlay",
              "size": 10,
              "solidity": 0.2
             }
            },
            "type": "bar"
           }
          ],
          "barpolar": [
           {
            "marker": {
             "line": {
              "color": "#E5ECF6",
              "width": 0.5
             },
             "pattern": {
              "fillmode": "overlay",
              "size": 10,
              "solidity": 0.2
             }
            },
            "type": "barpolar"
           }
          ],
          "carpet": [
           {
            "aaxis": {
             "endlinecolor": "#2a3f5f",
             "gridcolor": "white",
             "linecolor": "white",
             "minorgridcolor": "white",
             "startlinecolor": "#2a3f5f"
            },
            "baxis": {
             "endlinecolor": "#2a3f5f",
             "gridcolor": "white",
             "linecolor": "white",
             "minorgridcolor": "white",
             "startlinecolor": "#2a3f5f"
            },
            "type": "carpet"
           }
          ],
          "choropleth": [
           {
            "colorbar": {
             "outlinewidth": 0,
             "ticks": ""
            },
            "type": "choropleth"
           }
          ],
          "contour": [
           {
            "colorbar": {
             "outlinewidth": 0,
             "ticks": ""
            },
            "colorscale": [
             [
              0,
              "#0d0887"
             ],
             [
              0.1111111111111111,
              "#46039f"
             ],
             [
              0.2222222222222222,
              "#7201a8"
             ],
             [
              0.3333333333333333,
              "#9c179e"
             ],
             [
              0.4444444444444444,
              "#bd3786"
             ],
             [
              0.5555555555555556,
              "#d8576b"
             ],
             [
              0.6666666666666666,
              "#ed7953"
             ],
             [
              0.7777777777777778,
              "#fb9f3a"
             ],
             [
              0.8888888888888888,
              "#fdca26"
             ],
             [
              1,
              "#f0f921"
             ]
            ],
            "type": "contour"
           }
          ],
          "contourcarpet": [
           {
            "colorbar": {
             "outlinewidth": 0,
             "ticks": ""
            },
            "type": "contourcarpet"
           }
          ],
          "heatmap": [
           {
            "colorbar": {
             "outlinewidth": 0,
             "ticks": ""
            },
            "colorscale": [
             [
              0,
              "#0d0887"
             ],
             [
              0.1111111111111111,
              "#46039f"
             ],
             [
              0.2222222222222222,
              "#7201a8"
             ],
             [
              0.3333333333333333,
              "#9c179e"
             ],
             [
              0.4444444444444444,
              "#bd3786"
             ],
             [
              0.5555555555555556,
              "#d8576b"
             ],
             [
              0.6666666666666666,
              "#ed7953"
             ],
             [
              0.7777777777777778,
              "#fb9f3a"
             ],
             [
              0.8888888888888888,
              "#fdca26"
             ],
             [
              1,
              "#f0f921"
             ]
            ],
            "type": "heatmap"
           }
          ],
          "heatmapgl": [
           {
            "colorbar": {
             "outlinewidth": 0,
             "ticks": ""
            },
            "colorscale": [
             [
              0,
              "#0d0887"
             ],
             [
              0.1111111111111111,
              "#46039f"
             ],
             [
              0.2222222222222222,
              "#7201a8"
             ],
             [
              0.3333333333333333,
              "#9c179e"
             ],
             [
              0.4444444444444444,
              "#bd3786"
             ],
             [
              0.5555555555555556,
              "#d8576b"
             ],
             [
              0.6666666666666666,
              "#ed7953"
             ],
             [
              0.7777777777777778,
              "#fb9f3a"
             ],
             [
              0.8888888888888888,
              "#fdca26"
             ],
             [
              1,
              "#f0f921"
             ]
            ],
            "type": "heatmapgl"
           }
          ],
          "histogram": [
           {
            "marker": {
             "pattern": {
              "fillmode": "overlay",
              "size": 10,
              "solidity": 0.2
             }
            },
            "type": "histogram"
           }
          ],
          "histogram2d": [
           {
            "colorbar": {
             "outlinewidth": 0,
             "ticks": ""
            },
            "colorscale": [
             [
              0,
              "#0d0887"
             ],
             [
              0.1111111111111111,
              "#46039f"
             ],
             [
              0.2222222222222222,
              "#7201a8"
             ],
             [
              0.3333333333333333,
              "#9c179e"
             ],
             [
              0.4444444444444444,
              "#bd3786"
             ],
             [
              0.5555555555555556,
              "#d8576b"
             ],
             [
              0.6666666666666666,
              "#ed7953"
             ],
             [
              0.7777777777777778,
              "#fb9f3a"
             ],
             [
              0.8888888888888888,
              "#fdca26"
             ],
             [
              1,
              "#f0f921"
             ]
            ],
            "type": "histogram2d"
           }
          ],
          "histogram2dcontour": [
           {
            "colorbar": {
             "outlinewidth": 0,
             "ticks": ""
            },
            "colorscale": [
             [
              0,
              "#0d0887"
             ],
             [
              0.1111111111111111,
              "#46039f"
             ],
             [
              0.2222222222222222,
              "#7201a8"
             ],
             [
              0.3333333333333333,
              "#9c179e"
             ],
             [
              0.4444444444444444,
              "#bd3786"
             ],
             [
              0.5555555555555556,
              "#d8576b"
             ],
             [
              0.6666666666666666,
              "#ed7953"
             ],
             [
              0.7777777777777778,
              "#fb9f3a"
             ],
             [
              0.8888888888888888,
              "#fdca26"
             ],
             [
              1,
              "#f0f921"
             ]
            ],
            "type": "histogram2dcontour"
           }
          ],
          "mesh3d": [
           {
            "colorbar": {
             "outlinewidth": 0,
             "ticks": ""
            },
            "type": "mesh3d"
           }
          ],
          "parcoords": [
           {
            "line": {
             "colorbar": {
              "outlinewidth": 0,
              "ticks": ""
             }
            },
            "type": "parcoords"
           }
          ],
          "pie": [
           {
            "automargin": true,
            "type": "pie"
           }
          ],
          "scatter": [
           {
            "fillpattern": {
             "fillmode": "overlay",
             "size": 10,
             "solidity": 0.2
            },
            "type": "scatter"
           }
          ],
          "scatter3d": [
           {
            "line": {
             "colorbar": {
              "outlinewidth": 0,
              "ticks": ""
             }
            },
            "marker": {
             "colorbar": {
              "outlinewidth": 0,
              "ticks": ""
             }
            },
            "type": "scatter3d"
           }
          ],
          "scattercarpet": [
           {
            "marker": {
             "colorbar": {
              "outlinewidth": 0,
              "ticks": ""
             }
            },
            "type": "scattercarpet"
           }
          ],
          "scattergeo": [
           {
            "marker": {
             "colorbar": {
              "outlinewidth": 0,
              "ticks": ""
             }
            },
            "type": "scattergeo"
           }
          ],
          "scattergl": [
           {
            "marker": {
             "colorbar": {
              "outlinewidth": 0,
              "ticks": ""
             }
            },
            "type": "scattergl"
           }
          ],
          "scattermapbox": [
           {
            "marker": {
             "colorbar": {
              "outlinewidth": 0,
              "ticks": ""
             }
            },
            "type": "scattermapbox"
           }
          ],
          "scatterpolar": [
           {
            "marker": {
             "colorbar": {
              "outlinewidth": 0,
              "ticks": ""
             }
            },
            "type": "scatterpolar"
           }
          ],
          "scatterpolargl": [
           {
            "marker": {
             "colorbar": {
              "outlinewidth": 0,
              "ticks": ""
             }
            },
            "type": "scatterpolargl"
           }
          ],
          "scatterternary": [
           {
            "marker": {
             "colorbar": {
              "outlinewidth": 0,
              "ticks": ""
             }
            },
            "type": "scatterternary"
           }
          ],
          "surface": [
           {
            "colorbar": {
             "outlinewidth": 0,
             "ticks": ""
            },
            "colorscale": [
             [
              0,
              "#0d0887"
             ],
             [
              0.1111111111111111,
              "#46039f"
             ],
             [
              0.2222222222222222,
              "#7201a8"
             ],
             [
              0.3333333333333333,
              "#9c179e"
             ],
             [
              0.4444444444444444,
              "#bd3786"
             ],
             [
              0.5555555555555556,
              "#d8576b"
             ],
             [
              0.6666666666666666,
              "#ed7953"
             ],
             [
              0.7777777777777778,
              "#fb9f3a"
             ],
             [
              0.8888888888888888,
              "#fdca26"
             ],
             [
              1,
              "#f0f921"
             ]
            ],
            "type": "surface"
           }
          ],
          "table": [
           {
            "cells": {
             "fill": {
              "color": "#EBF0F8"
             },
             "line": {
              "color": "white"
             }
            },
            "header": {
             "fill": {
              "color": "#C8D4E3"
             },
             "line": {
              "color": "white"
             }
            },
            "type": "table"
           }
          ]
         },
         "layout": {
          "annotationdefaults": {
           "arrowcolor": "#2a3f5f",
           "arrowhead": 0,
           "arrowwidth": 1
          },
          "autotypenumbers": "strict",
          "coloraxis": {
           "colorbar": {
            "outlinewidth": 0,
            "ticks": ""
           }
          },
          "colorscale": {
           "diverging": [
            [
             0,
             "#8e0152"
            ],
            [
             0.1,
             "#c51b7d"
            ],
            [
             0.2,
             "#de77ae"
            ],
            [
             0.3,
             "#f1b6da"
            ],
            [
             0.4,
             "#fde0ef"
            ],
            [
             0.5,
             "#f7f7f7"
            ],
            [
             0.6,
             "#e6f5d0"
            ],
            [
             0.7,
             "#b8e186"
            ],
            [
             0.8,
             "#7fbc41"
            ],
            [
             0.9,
             "#4d9221"
            ],
            [
             1,
             "#276419"
            ]
           ],
           "sequential": [
            [
             0,
             "#0d0887"
            ],
            [
             0.1111111111111111,
             "#46039f"
            ],
            [
             0.2222222222222222,
             "#7201a8"
            ],
            [
             0.3333333333333333,
             "#9c179e"
            ],
            [
             0.4444444444444444,
             "#bd3786"
            ],
            [
             0.5555555555555556,
             "#d8576b"
            ],
            [
             0.6666666666666666,
             "#ed7953"
            ],
            [
             0.7777777777777778,
             "#fb9f3a"
            ],
            [
             0.8888888888888888,
             "#fdca26"
            ],
            [
             1,
             "#f0f921"
            ]
           ],
           "sequentialminus": [
            [
             0,
             "#0d0887"
            ],
            [
             0.1111111111111111,
             "#46039f"
            ],
            [
             0.2222222222222222,
             "#7201a8"
            ],
            [
             0.3333333333333333,
             "#9c179e"
            ],
            [
             0.4444444444444444,
             "#bd3786"
            ],
            [
             0.5555555555555556,
             "#d8576b"
            ],
            [
             0.6666666666666666,
             "#ed7953"
            ],
            [
             0.7777777777777778,
             "#fb9f3a"
            ],
            [
             0.8888888888888888,
             "#fdca26"
            ],
            [
             1,
             "#f0f921"
            ]
           ]
          },
          "colorway": [
           "#636efa",
           "#EF553B",
           "#00cc96",
           "#ab63fa",
           "#FFA15A",
           "#19d3f3",
           "#FF6692",
           "#B6E880",
           "#FF97FF",
           "#FECB52"
          ],
          "font": {
           "color": "#2a3f5f"
          },
          "geo": {
           "bgcolor": "white",
           "lakecolor": "white",
           "landcolor": "#E5ECF6",
           "showlakes": true,
           "showland": true,
           "subunitcolor": "white"
          },
          "hoverlabel": {
           "align": "left"
          },
          "hovermode": "closest",
          "mapbox": {
           "style": "light"
          },
          "paper_bgcolor": "white",
          "plot_bgcolor": "#E5ECF6",
          "polar": {
           "angularaxis": {
            "gridcolor": "white",
            "linecolor": "white",
            "ticks": ""
           },
           "bgcolor": "#E5ECF6",
           "radialaxis": {
            "gridcolor": "white",
            "linecolor": "white",
            "ticks": ""
           }
          },
          "scene": {
           "xaxis": {
            "backgroundcolor": "#E5ECF6",
            "gridcolor": "white",
            "gridwidth": 2,
            "linecolor": "white",
            "showbackground": true,
            "ticks": "",
            "zerolinecolor": "white"
           },
           "yaxis": {
            "backgroundcolor": "#E5ECF6",
            "gridcolor": "white",
            "gridwidth": 2,
            "linecolor": "white",
            "showbackground": true,
            "ticks": "",
            "zerolinecolor": "white"
           },
           "zaxis": {
            "backgroundcolor": "#E5ECF6",
            "gridcolor": "white",
            "gridwidth": 2,
            "linecolor": "white",
            "showbackground": true,
            "ticks": "",
            "zerolinecolor": "white"
           }
          },
          "shapedefaults": {
           "line": {
            "color": "#2a3f5f"
           }
          },
          "ternary": {
           "aaxis": {
            "gridcolor": "white",
            "linecolor": "white",
            "ticks": ""
           },
           "baxis": {
            "gridcolor": "white",
            "linecolor": "white",
            "ticks": ""
           },
           "bgcolor": "#E5ECF6",
           "caxis": {
            "gridcolor": "white",
            "linecolor": "white",
            "ticks": ""
           }
          },
          "title": {
           "x": 0.05
          },
          "xaxis": {
           "automargin": true,
           "gridcolor": "white",
           "linecolor": "white",
           "ticks": "",
           "title": {
            "standoff": 15
           },
           "zerolinecolor": "white",
           "zerolinewidth": 2
          },
          "yaxis": {
           "automargin": true,
           "gridcolor": "white",
           "linecolor": "white",
           "ticks": "",
           "title": {
            "standoff": 15
           },
           "zerolinecolor": "white",
           "zerolinewidth": 2
          }
         }
        },
        "title": {
         "text": "Song Key"
        },
        "xaxis": {
         "anchor": "y",
         "domain": [
          0,
          1
         ],
         "title": {
          "text": "Key"
         }
        },
        "yaxis": {
         "anchor": "x",
         "domain": [
          0,
          1
         ],
         "title": {
          "text": "Track Count"
         }
        }
       }
      },
      "text/html": [
       "<div>                            <div id=\"5326ea5d-fc6d-4e09-9a78-16e45e8440dc\" class=\"plotly-graph-div\" style=\"height:525px; width:100%;\"></div>            <script type=\"text/javascript\">                require([\"plotly\"], function(Plotly) {                    window.PLOTLYENV=window.PLOTLYENV || {};                                    if (document.getElementById(\"5326ea5d-fc6d-4e09-9a78-16e45e8440dc\")) {                    Plotly.newPlot(                        \"5326ea5d-fc6d-4e09-9a78-16e45e8440dc\",                        [{\"alignmentgroup\":\"True\",\"hovertemplate\":\"variable=Key<br>index=%{x}<br>value=%{y}<extra></extra>\",\"legendgroup\":\"Key\",\"marker\":{\"color\":\"#636efa\",\"pattern\":{\"shape\":\"\"}},\"name\":\"Key\",\"offsetgroup\":\"Key\",\"orientation\":\"v\",\"showlegend\":true,\"textposition\":\"auto\",\"x\":[\"G Major\",\"C\\u266f/D\\u266d Major\",\"A Major\",\"D Major\",\"F#/G\\u266d Minor\",\"C Major\",\"B Minor\",\"F#/G\\u266d Major\",\"G#/A\\u266d Major\",\"A Minor\",\"G#/A\\u266d Minor\",\"B Major\",\"F Minor\",\"A#/B\\u266d Minor\",\"F Major\",\"C\\u266f/D\\u266d Minor\",\"E Minor\",\"E Major\",\"A#/B\\u266d Major\",\"C Minor\",\"G Minor\",\"D#/E\\u266d Minor\",\"D#/E\\u266d Major\",\"D Minor\"],\"xaxis\":\"x\",\"y\":[53,47,46,43,43,43,42,39,36,29,25,25,24,24,23,21,21,19,18,14,14,11,10,6],\"yaxis\":\"y\",\"type\":\"bar\"}],                        {\"template\":{\"data\":{\"histogram2dcontour\":[{\"type\":\"histogram2dcontour\",\"colorbar\":{\"outlinewidth\":0,\"ticks\":\"\"},\"colorscale\":[[0.0,\"#0d0887\"],[0.1111111111111111,\"#46039f\"],[0.2222222222222222,\"#7201a8\"],[0.3333333333333333,\"#9c179e\"],[0.4444444444444444,\"#bd3786\"],[0.5555555555555556,\"#d8576b\"],[0.6666666666666666,\"#ed7953\"],[0.7777777777777778,\"#fb9f3a\"],[0.8888888888888888,\"#fdca26\"],[1.0,\"#f0f921\"]]}],\"choropleth\":[{\"type\":\"choropleth\",\"colorbar\":{\"outlinewidth\":0,\"ticks\":\"\"}}],\"histogram2d\":[{\"type\":\"histogram2d\",\"colorbar\":{\"outlinewidth\":0,\"ticks\":\"\"},\"colorscale\":[[0.0,\"#0d0887\"],[0.1111111111111111,\"#46039f\"],[0.2222222222222222,\"#7201a8\"],[0.3333333333333333,\"#9c179e\"],[0.4444444444444444,\"#bd3786\"],[0.5555555555555556,\"#d8576b\"],[0.6666666666666666,\"#ed7953\"],[0.7777777777777778,\"#fb9f3a\"],[0.8888888888888888,\"#fdca26\"],[1.0,\"#f0f921\"]]}],\"heatmap\":[{\"type\":\"heatmap\",\"colorbar\":{\"outlinewidth\":0,\"ticks\":\"\"},\"colorscale\":[[0.0,\"#0d0887\"],[0.1111111111111111,\"#46039f\"],[0.2222222222222222,\"#7201a8\"],[0.3333333333333333,\"#9c179e\"],[0.4444444444444444,\"#bd3786\"],[0.5555555555555556,\"#d8576b\"],[0.6666666666666666,\"#ed7953\"],[0.7777777777777778,\"#fb9f3a\"],[0.8888888888888888,\"#fdca26\"],[1.0,\"#f0f921\"]]}],\"heatmapgl\":[{\"type\":\"heatmapgl\",\"colorbar\":{\"outlinewidth\":0,\"ticks\":\"\"},\"colorscale\":[[0.0,\"#0d0887\"],[0.1111111111111111,\"#46039f\"],[0.2222222222222222,\"#7201a8\"],[0.3333333333333333,\"#9c179e\"],[0.4444444444444444,\"#bd3786\"],[0.5555555555555556,\"#d8576b\"],[0.6666666666666666,\"#ed7953\"],[0.7777777777777778,\"#fb9f3a\"],[0.8888888888888888,\"#fdca26\"],[1.0,\"#f0f921\"]]}],\"contourcarpet\":[{\"type\":\"contourcarpet\",\"colorbar\":{\"outlinewidth\":0,\"ticks\":\"\"}}],\"contour\":[{\"type\":\"contour\",\"colorbar\":{\"outlinewidth\":0,\"ticks\":\"\"},\"colorscale\":[[0.0,\"#0d0887\"],[0.1111111111111111,\"#46039f\"],[0.2222222222222222,\"#7201a8\"],[0.3333333333333333,\"#9c179e\"],[0.4444444444444444,\"#bd3786\"],[0.5555555555555556,\"#d8576b\"],[0.6666666666666666,\"#ed7953\"],[0.7777777777777778,\"#fb9f3a\"],[0.8888888888888888,\"#fdca26\"],[1.0,\"#f0f921\"]]}],\"surface\":[{\"type\":\"surface\",\"colorbar\":{\"outlinewidth\":0,\"ticks\":\"\"},\"colorscale\":[[0.0,\"#0d0887\"],[0.1111111111111111,\"#46039f\"],[0.2222222222222222,\"#7201a8\"],[0.3333333333333333,\"#9c179e\"],[0.4444444444444444,\"#bd3786\"],[0.5555555555555556,\"#d8576b\"],[0.6666666666666666,\"#ed7953\"],[0.7777777777777778,\"#fb9f3a\"],[0.8888888888888888,\"#fdca26\"],[1.0,\"#f0f921\"]]}],\"mesh3d\":[{\"type\":\"mesh3d\",\"colorbar\":{\"outlinewidth\":0,\"ticks\":\"\"}}],\"scatter\":[{\"fillpattern\":{\"fillmode\":\"overlay\",\"size\":10,\"solidity\":0.2},\"type\":\"scatter\"}],\"parcoords\":[{\"type\":\"parcoords\",\"line\":{\"colorbar\":{\"outlinewidth\":0,\"ticks\":\"\"}}}],\"scatterpolargl\":[{\"type\":\"scatterpolargl\",\"marker\":{\"colorbar\":{\"outlinewidth\":0,\"ticks\":\"\"}}}],\"bar\":[{\"error_x\":{\"color\":\"#2a3f5f\"},\"error_y\":{\"color\":\"#2a3f5f\"},\"marker\":{\"line\":{\"color\":\"#E5ECF6\",\"width\":0.5},\"pattern\":{\"fillmode\":\"overlay\",\"size\":10,\"solidity\":0.2}},\"type\":\"bar\"}],\"scattergeo\":[{\"type\":\"scattergeo\",\"marker\":{\"colorbar\":{\"outlinewidth\":0,\"ticks\":\"\"}}}],\"scatterpolar\":[{\"type\":\"scatterpolar\",\"marker\":{\"colorbar\":{\"outlinewidth\":0,\"ticks\":\"\"}}}],\"histogram\":[{\"marker\":{\"pattern\":{\"fillmode\":\"overlay\",\"size\":10,\"solidity\":0.2}},\"type\":\"histogram\"}],\"scattergl\":[{\"type\":\"scattergl\",\"marker\":{\"colorbar\":{\"outlinewidth\":0,\"ticks\":\"\"}}}],\"scatter3d\":[{\"type\":\"scatter3d\",\"line\":{\"colorbar\":{\"outlinewidth\":0,\"ticks\":\"\"}},\"marker\":{\"colorbar\":{\"outlinewidth\":0,\"ticks\":\"\"}}}],\"scattermapbox\":[{\"type\":\"scattermapbox\",\"marker\":{\"colorbar\":{\"outlinewidth\":0,\"ticks\":\"\"}}}],\"scatterternary\":[{\"type\":\"scatterternary\",\"marker\":{\"colorbar\":{\"outlinewidth\":0,\"ticks\":\"\"}}}],\"scattercarpet\":[{\"type\":\"scattercarpet\",\"marker\":{\"colorbar\":{\"outlinewidth\":0,\"ticks\":\"\"}}}],\"carpet\":[{\"aaxis\":{\"endlinecolor\":\"#2a3f5f\",\"gridcolor\":\"white\",\"linecolor\":\"white\",\"minorgridcolor\":\"white\",\"startlinecolor\":\"#2a3f5f\"},\"baxis\":{\"endlinecolor\":\"#2a3f5f\",\"gridcolor\":\"white\",\"linecolor\":\"white\",\"minorgridcolor\":\"white\",\"startlinecolor\":\"#2a3f5f\"},\"type\":\"carpet\"}],\"table\":[{\"cells\":{\"fill\":{\"color\":\"#EBF0F8\"},\"line\":{\"color\":\"white\"}},\"header\":{\"fill\":{\"color\":\"#C8D4E3\"},\"line\":{\"color\":\"white\"}},\"type\":\"table\"}],\"barpolar\":[{\"marker\":{\"line\":{\"color\":\"#E5ECF6\",\"width\":0.5},\"pattern\":{\"fillmode\":\"overlay\",\"size\":10,\"solidity\":0.2}},\"type\":\"barpolar\"}],\"pie\":[{\"automargin\":true,\"type\":\"pie\"}]},\"layout\":{\"autotypenumbers\":\"strict\",\"colorway\":[\"#636efa\",\"#EF553B\",\"#00cc96\",\"#ab63fa\",\"#FFA15A\",\"#19d3f3\",\"#FF6692\",\"#B6E880\",\"#FF97FF\",\"#FECB52\"],\"font\":{\"color\":\"#2a3f5f\"},\"hovermode\":\"closest\",\"hoverlabel\":{\"align\":\"left\"},\"paper_bgcolor\":\"white\",\"plot_bgcolor\":\"#E5ECF6\",\"polar\":{\"bgcolor\":\"#E5ECF6\",\"angularaxis\":{\"gridcolor\":\"white\",\"linecolor\":\"white\",\"ticks\":\"\"},\"radialaxis\":{\"gridcolor\":\"white\",\"linecolor\":\"white\",\"ticks\":\"\"}},\"ternary\":{\"bgcolor\":\"#E5ECF6\",\"aaxis\":{\"gridcolor\":\"white\",\"linecolor\":\"white\",\"ticks\":\"\"},\"baxis\":{\"gridcolor\":\"white\",\"linecolor\":\"white\",\"ticks\":\"\"},\"caxis\":{\"gridcolor\":\"white\",\"linecolor\":\"white\",\"ticks\":\"\"}},\"coloraxis\":{\"colorbar\":{\"outlinewidth\":0,\"ticks\":\"\"}},\"colorscale\":{\"sequential\":[[0.0,\"#0d0887\"],[0.1111111111111111,\"#46039f\"],[0.2222222222222222,\"#7201a8\"],[0.3333333333333333,\"#9c179e\"],[0.4444444444444444,\"#bd3786\"],[0.5555555555555556,\"#d8576b\"],[0.6666666666666666,\"#ed7953\"],[0.7777777777777778,\"#fb9f3a\"],[0.8888888888888888,\"#fdca26\"],[1.0,\"#f0f921\"]],\"sequentialminus\":[[0.0,\"#0d0887\"],[0.1111111111111111,\"#46039f\"],[0.2222222222222222,\"#7201a8\"],[0.3333333333333333,\"#9c179e\"],[0.4444444444444444,\"#bd3786\"],[0.5555555555555556,\"#d8576b\"],[0.6666666666666666,\"#ed7953\"],[0.7777777777777778,\"#fb9f3a\"],[0.8888888888888888,\"#fdca26\"],[1.0,\"#f0f921\"]],\"diverging\":[[0,\"#8e0152\"],[0.1,\"#c51b7d\"],[0.2,\"#de77ae\"],[0.3,\"#f1b6da\"],[0.4,\"#fde0ef\"],[0.5,\"#f7f7f7\"],[0.6,\"#e6f5d0\"],[0.7,\"#b8e186\"],[0.8,\"#7fbc41\"],[0.9,\"#4d9221\"],[1,\"#276419\"]]},\"xaxis\":{\"gridcolor\":\"white\",\"linecolor\":\"white\",\"ticks\":\"\",\"title\":{\"standoff\":15},\"zerolinecolor\":\"white\",\"automargin\":true,\"zerolinewidth\":2},\"yaxis\":{\"gridcolor\":\"white\",\"linecolor\":\"white\",\"ticks\":\"\",\"title\":{\"standoff\":15},\"zerolinecolor\":\"white\",\"automargin\":true,\"zerolinewidth\":2},\"scene\":{\"xaxis\":{\"backgroundcolor\":\"#E5ECF6\",\"gridcolor\":\"white\",\"linecolor\":\"white\",\"showbackground\":true,\"ticks\":\"\",\"zerolinecolor\":\"white\",\"gridwidth\":2},\"yaxis\":{\"backgroundcolor\":\"#E5ECF6\",\"gridcolor\":\"white\",\"linecolor\":\"white\",\"showbackground\":true,\"ticks\":\"\",\"zerolinecolor\":\"white\",\"gridwidth\":2},\"zaxis\":{\"backgroundcolor\":\"#E5ECF6\",\"gridcolor\":\"white\",\"linecolor\":\"white\",\"showbackground\":true,\"ticks\":\"\",\"zerolinecolor\":\"white\",\"gridwidth\":2}},\"shapedefaults\":{\"line\":{\"color\":\"#2a3f5f\"}},\"annotationdefaults\":{\"arrowcolor\":\"#2a3f5f\",\"arrowhead\":0,\"arrowwidth\":1},\"geo\":{\"bgcolor\":\"white\",\"landcolor\":\"#E5ECF6\",\"subunitcolor\":\"white\",\"showland\":true,\"showlakes\":true,\"lakecolor\":\"white\"},\"title\":{\"x\":0.05},\"mapbox\":{\"style\":\"light\"}}},\"xaxis\":{\"anchor\":\"y\",\"domain\":[0.0,1.0],\"title\":{\"text\":\"Key\"}},\"yaxis\":{\"anchor\":\"x\",\"domain\":[0.0,1.0],\"title\":{\"text\":\"Track Count\"}},\"legend\":{\"title\":{\"text\":\"variable\"},\"tracegroupgap\":0},\"margin\":{\"t\":100,\"l\":100,\"r\":150,\"b\":20},\"barmode\":\"relative\",\"title\":{\"text\":\"Song Key\"},\"paper_bgcolor\":\"LightSteelBlue\"},                        {\"responsive\": true}                    ).then(function(){\n",
       "                            \n",
       "var gd = document.getElementById('5326ea5d-fc6d-4e09-9a78-16e45e8440dc');\n",
       "var x = new MutationObserver(function (mutations, observer) {{\n",
       "        var display = window.getComputedStyle(gd).display;\n",
       "        if (!display || display === 'none') {{\n",
       "            console.log([gd, 'removed!']);\n",
       "            Plotly.purge(gd);\n",
       "            observer.disconnect();\n",
       "        }}\n",
       "}});\n",
       "\n",
       "// Listen for the removal of the full notebook cells\n",
       "var notebookContainer = gd.closest('#notebook-container');\n",
       "if (notebookContainer) {{\n",
       "    x.observe(notebookContainer, {childList: true});\n",
       "}}\n",
       "\n",
       "// Listen for the clearing of the current output cell\n",
       "var outputEl = gd.closest('.output');\n",
       "if (outputEl) {{\n",
       "    x.observe(outputEl, {childList: true});\n",
       "}}\n",
       "\n",
       "                        })                };                });            </script>        </div>"
      ]
     },
     "metadata": {},
     "output_type": "display_data"
    }
   ],
   "source": [
    "px.bar(playlist['Key'].value_counts()).update_layout(\n",
    "                  title_text=\"Song Key\",\n",
    "                  yaxis_title='Track Count',\n",
    "                  xaxis_title='Key',\n",
    "                  paper_bgcolor=\"LightSteelBlue\",\n",
    "                  margin=dict(l=100, r=150, t=100, b=20)\n",
    "                )"
   ]
  },
  {
   "attachments": {},
   "cell_type": "markdown",
   "metadata": {},
   "source": [
    "### BPM & Key Summary\n",
    "\n",
    "The BPM range is 70 - 130 BPM for almost all the tracks. As expected, the higher BPMs are just 2x numbers except for that one Drum & Bass song, [SpectraSoul - Push & Pull](https://youtu.be/LdYeEtVfGnk?t=47). There are also very few songs that share the same BPM and Key, max count being 4. \n",
    "\n",
    "As for the Key, I was surprised to see that D Minor has the lowest count. I love to play in D minor since it's the easiest minor key to play on the piano and it has a very dark tone to it. As for the highest count of G Major, I'm going guess it's because most guitar players use the standard tuning and G Major is relative to E Minor. In other words, the standard tuning, also called the standard E tuning, on that most people naturally play E Minor chords which are also G Major chords."
   ]
  },
  {
   "attachments": {},
   "cell_type": "markdown",
   "metadata": {},
   "source": [
    "### Spotify Features Analysis\n",
    "\n",
    "Spotify generates some audio features which are Dance, Energy, Acoustic, Instrumental, Happy, Speech, Live & Loud. I've already worked with Instrumental, here I'll work on Happy, Dance & Energy.\n",
    "\n",
    "Official Definitions:\n",
    "* Happy - It's a linear scale of 0 to 100. 100 being very happy and 0 being sad/negative.\n",
    "* Dance - It's a scale of 0 to 100 that determines how suitable a track is for dancing based on a combination of musical elements including tempo, rhythm stability, beat strength, and overall regularity.\n",
    "* Energy - Again a scale of 0 to 100 that represents a perceptual measure of intensity and activity.\n",
    "* Acoustic - Scale of 0 to 100 that determines if a track is composed of real instruments i.e. acoustic sounds.\n",
    "\n",
    "[Spotify Docs Reference](https://developer.spotify.com/documentation/web-api/reference/#/operations/get-audio-features)"
   ]
  },
  {
   "cell_type": "code",
   "execution_count": 88,
   "metadata": {},
   "outputs": [
    {
     "data": {
      "application/vnd.plotly.v1+json": {
       "config": {
        "plotlyServerURL": "https://plot.ly"
       },
       "data": [
        {
         "hovertext": [
          "Artist: SBTRKT,Roses Gabor<br>Song: Pharaohs<br>Dance: 80<br>Energy: 58<br>Happy: 64",
          "Artist: Ozuna<br>Song: Síguelo Bailando<br>Dance: 86<br>Energy: 66<br>Happy: 63",
          "Artist: Dwson,Sio<br>Song: Forbidden<br>Dance: 79<br>Energy: 70<br>Happy: 34",
          "Artist: Biyo<br>Song: Fantasies<br>Dance: 64<br>Energy: 52<br>Happy: 53",
          "Artist: Pat Lok<br>Song: Mar Vista<br>Dance: 75<br>Energy: 84<br>Happy: 47",
          "Artist: Young Franco,Blair De Milo<br>Song: Don't U Want Me (feat. Blair De Milo)<br>Dance: 90<br>Energy: 46<br>Happy: 59",
          "Artist: Garden City Movement<br>Song: She's so Untouchable - Original Mix<br>Dance: 75<br>Energy: 78<br>Happy: 69",
          "Artist: Young the Giant<br>Song: Repeat<br>Dance: 66<br>Energy: 81<br>Happy: 57",
          "Artist: The Strokes<br>Song: Why Are Sundays So Depressing<br>Dance: 58<br>Energy: 71<br>Happy: 30",
          "Artist: Sigrid<br>Song: High Five<br>Dance: 65<br>Energy: 63<br>Happy: 51",
          "Artist: Cupidon,UMI<br>Song: Be The One<br>Dance: 79<br>Energy: 47<br>Happy: 4",
          "Artist: St. Vincent<br>Song: Digital Witness<br>Dance: 78<br>Energy: 44<br>Happy: 88",
          "Artist: Billie Eilish,Vince Staples<br>Song: &burn (with Vince Staples)<br>Dance: 78<br>Energy: 38<br>Happy: 35",
          "Artist: Rostam<br>Song: Bike Dream<br>Dance: 51<br>Energy: 97<br>Happy: 80",
          "Artist: C. Tangana<br>Song: Bien Duro<br>Dance: 85<br>Energy: 67<br>Happy: 69",
          "Artist: TEMPOREX<br>Song: Nice Boys<br>Dance: 55<br>Energy: 67<br>Happy: 34",
          "Artist: Rice & Beans Orchestra<br>Song: You've Got Magic<br>Dance: 84<br>Energy: 67<br>Happy: 97",
          "Artist: Whethan,Oliver Tree<br>Song: When I'm Down<br>Dance: 83<br>Energy: 77<br>Happy: 49",
          "Artist: Saison<br>Song: Please Don't Go<br>Dance: 94<br>Energy: 67<br>Happy: 51",
          "Artist: Paramore<br>Song: Fake Happy<br>Dance: 73<br>Energy: 63<br>Happy: 44",
          "Artist: EARTHGANG<br>Song: So Many Feelings<br>Dance: 64<br>Energy: 70<br>Happy: 56",
          "Artist: Calvin Harris,Dua Lipa<br>Song: One Kiss (with Dua Lipa)<br>Dance: 79<br>Energy: 86<br>Happy: 59",
          "Artist: Two Door Cinema Club<br>Song: What You Know<br>Dance: 56<br>Energy: 74<br>Happy: 78",
          "Artist: Nao,Shareware<br>Song: Another Lifetime - Shareware Remix<br>Dance: 67<br>Energy: 62<br>Happy: 53",
          "Artist: Leon,Shaf Huse<br>Song: Once Again - Original Mix<br>Dance: 79<br>Energy: 96<br>Happy: 78",
          "Artist: Jarami<br>Song: Hear This<br>Dance: 75<br>Energy: 70<br>Happy: 39",
          "Artist: Codes<br>Song: 100% Skills<br>Dance: 81<br>Energy: 88<br>Happy: 46",
          "Artist: Kendrick Lamar,SZA<br>Song: All The Stars (with SZA)<br>Dance: 71<br>Energy: 63<br>Happy: 47",
          "Artist: BENEE<br>Song: Wishful Thinking<br>Dance: 64<br>Energy: 66<br>Happy: 55",
          "Artist: Miguel Bastida<br>Song: Full Moon<br>Dance: 82<br>Energy: 74<br>Happy: 63",
          "Artist: Cut Snake<br>Song: Desire<br>Dance: 80<br>Energy: 69<br>Happy: 23",
          "Artist: SHAED<br>Song: Trampoline<br>Dance: 69<br>Energy: 41<br>Happy: 54",
          "Artist: Latmun<br>Song: Counting Tool<br>Dance: 81<br>Energy: 98<br>Happy: 91",
          "Artist: Evergreen<br>Song: Comme Si<br>Dance: 89<br>Energy: 60<br>Happy: 60",
          "Artist: Dauwd<br>Song: Leitmotiv<br>Dance: 79<br>Energy: 62<br>Happy: 58",
          "Artist: Phoenix<br>Song: Armistice<br>Dance: 58<br>Energy: 77<br>Happy: 64",
          "Artist: Gibbz<br>Song: I Really Love You<br>Dance: 65<br>Energy: 65<br>Happy: 55",
          "Artist: Hippo Campus<br>Song: Western Kids<br>Dance: 64<br>Energy: 91<br>Happy: 52",
          "Artist: Solardo,Wade<br>Song: Everybody - Original Mix<br>Dance: 85<br>Energy: 77<br>Happy: 69",
          "Artist: Satin Jackets,Panama<br>Song: Electric Blue<br>Dance: 76<br>Energy: 71<br>Happy: 50",
          "Artist: SHAED<br>Song: ISOU<br>Dance: 64<br>Energy: 45<br>Happy: 35",
          "Artist: Chocolate Puma,Tommie Sunshine,DJ Funk<br>Song: Scrub The Ground (feat. DJ Funk)<br>Dance: 79<br>Energy: 89<br>Happy: 68",
          "Artist: Croatia Squad<br>Song: Rock with Me<br>Dance: 83<br>Energy: 93<br>Happy: 69",
          "Artist: Cleopold<br>Song: The Space Between<br>Dance: 84<br>Energy: 64<br>Happy: 83",
          "Artist: Rebūke<br>Song: Along Came Polly - Original Mix<br>Dance: 83<br>Energy: 60<br>Happy: 8",
          "Artist: Prunk,Aron Volta<br>Song: Sleepy Rhythm<br>Dance: 79<br>Energy: 92<br>Happy: 75",
          "Artist: S.A.M.<br>Song: Fury's Laughter<br>Dance: 75<br>Energy: 68<br>Happy: 47",
          "Artist: Jamie Jones,Darius Syrossian<br>Song: Rushing<br>Dance: 80<br>Energy: 86<br>Happy: 70",
          "Artist: Jamie Jones,The Martinez Brothers<br>Song: Bappi<br>Dance: 79<br>Energy: 84<br>Happy: 13",
          "Artist: Sidney Charles<br>Song: Time To Groove<br>Dance: 77<br>Energy: 91<br>Happy: 62",
          "Artist: Audioslave<br>Song: Show Me How to Live<br>Dance: 43<br>Energy: 85<br>Happy: 37",
          "Artist: Rubblebucket<br>Song: If U C My Enemies<br>Dance: 53<br>Energy: 94<br>Happy: 74",
          "Artist: Foo Fighters<br>Song: Breakout<br>Dance: 42<br>Energy: 94<br>Happy: 43",
          "Artist: Queens of the Stone Age<br>Song: Head Like A Haunted House<br>Dance: 29<br>Energy: 99<br>Happy: 34",
          "Artist: Men I Trust,Geoffroy,Gabrielle<br>Song: Dazed (feat. Gabrielle & Geoffroy)<br>Dance: 84<br>Energy: 33<br>Happy: 85",
          "Artist: SBTRKT<br>Song: Everybody Knows<br>Dance: 68<br>Energy: 79<br>Happy: 37",
          "Artist: Remi Wolf<br>Song: Thicc<br>Dance: 39<br>Energy: 59<br>Happy: 23",
          "Artist: Chris Stussy,Bas Roos<br>Song: Ladies Night<br>Dance: 91<br>Energy: 60<br>Happy: 75",
          "Artist: Skream,Michael Bibi<br>Song: Otto's Chant<br>Dance: 81<br>Energy: 84<br>Happy: 83",
          "Artist: Haywyre<br>Song: Moment<br>Dance: 66<br>Energy: 67<br>Happy: 67",
          "Artist: Dirty Projectors<br>Song: Break-Thru<br>Dance: 80<br>Energy: 51<br>Happy: 82",
          "Artist: Future,Drake<br>Song: Life Is Good (feat. Drake)<br>Dance: 68<br>Energy: 61<br>Happy: 51",
          "Artist: Arizona Zervas<br>Song: ROXANNE<br>Dance: 62<br>Energy: 60<br>Happy: 46",
          "Artist: JAWNY<br>Song: 4Tounce<br>Dance: 61<br>Energy: 69<br>Happy: 44",
          "Artist: blackbear<br>Song: hot girl bummer<br>Dance: 78<br>Energy: 56<br>Happy: 68",
          "Artist: The Script<br>Song: Breakeven<br>Dance: 63<br>Energy: 70<br>Happy: 54",
          "Artist: Jordan Rakei<br>Song: Say Something<br>Dance: 71<br>Energy: 69<br>Happy: 84",
          "Artist: Cosmo Sheldrake,Mr Jukes<br>Song: Wriggle - Mr Jukes Edit<br>Dance: 80<br>Energy: 69<br>Happy: 88",
          "Artist: Millie Turner<br>Song: January<br>Dance: 79<br>Energy: 50<br>Happy: 46",
          "Artist: Drake<br>Song: Passionfruit<br>Dance: 81<br>Energy: 46<br>Happy: 36",
          "Artist: Calvin Harris<br>Song: My Way<br>Dance: 82<br>Energy: 91<br>Happy: 54",
          "Artist: Ben Westbeech<br>Song: Something For The Weekend<br>Dance: 75<br>Energy: 67<br>Happy: 92",
          "Artist: Alex Preston<br>Song: Soul Food<br>Dance: 84<br>Energy: 90<br>Happy: 68",
          "Artist: Twenty One Pilots<br>Song: Stressed Out<br>Dance: 73<br>Energy: 64<br>Happy: 65",
          "Artist: Verzache<br>Song: Juvenescence<br>Dance: 84<br>Energy: 36<br>Happy: 46",
          "Artist: Charlie Lim,Halal Sol<br>Song: Zero-Sum [Halal Sol Remix]<br>Dance: 72<br>Energy: 90<br>Happy: 77",
          "Artist: Yelle<br>Song: Je t'aime encore<br>Dance: 52<br>Energy: 59<br>Happy: 22",
          "Artist: The Go! Team<br>Song: Get It Together<br>Dance: 56<br>Energy: 94<br>Happy: 68",
          "Artist: Seether<br>Song: Fake It<br>Dance: 61<br>Energy: 95<br>Happy: 61",
          "Artist: The Shins<br>Song: Sleeping Lessons<br>Dance: 51<br>Energy: 50<br>Happy: 17",
          "Artist: Amerie<br>Song: 1 Thing<br>Dance: 61<br>Energy: 96<br>Happy: 87",
          "Artist: Friendly Fires<br>Song: Skeleton Boy<br>Dance: 61<br>Energy: 91<br>Happy: 79",
          "Artist: Goldspot<br>Song: Rewind<br>Dance: 66<br>Energy: 74<br>Happy: 59",
          "Artist: The Strokes<br>Song: You Only Live Once<br>Dance: 63<br>Energy: 91<br>Happy: 97",
          "Artist: niko+,Clans<br>Song: Ride<br>Dance: 70<br>Energy: 70<br>Happy: 61",
          "Artist: Sure Sure<br>Song: Funky Galileo<br>Dance: 80<br>Energy: 33<br>Happy: 65",
          "Artist: Firehorse<br>Song: Bloodstream<br>Dance: 75<br>Energy: 62<br>Happy: 37",
          "Artist: Incubus<br>Song: Are You In?<br>Dance: 53<br>Energy: 59<br>Happy: 36",
          "Artist: Oliver Tree<br>Song: Joke's On You!<br>Dance: 57<br>Energy: 80<br>Happy: 38",
          "Artist: 53 Thieves<br>Song: dreamin'<br>Dance: 83<br>Energy: 42<br>Happy: 34",
          "Artist: Joss Moog<br>Song: From Nothing To Something<br>Dance: 87<br>Energy: 67<br>Happy: 10",
          "Artist: David Guetta,Kid Cudi<br>Song: Memories (feat. Kid Cudi)<br>Dance: 56<br>Energy: 87<br>Happy: 50",
          "Artist: Dreamer Boy<br>Song: Puppy Dog<br>Dance: 69<br>Energy: 55<br>Happy: 51",
          "Artist: Lorde<br>Song: Royals<br>Dance: 67<br>Energy: 43<br>Happy: 34",
          "Artist: Delroy Edwards<br>Song: I Love Sloane<br>Dance: 54<br>Energy: 51<br>Happy: 83",
          "Artist: Romare<br>Song: Down the Line - It Takes a Number<br>Dance: 79<br>Energy: 37<br>Happy: 33",
          "Artist: Max Graef,Glenn Astro<br>Song: Flat Peter<br>Dance: 93<br>Energy: 76<br>Happy: 73",
          "Artist: BAYNK,Golden Vessel,Akurei<br>Song: DOWN<br>Dance: 80<br>Energy: 59<br>Happy: 13",
          "Artist: Elujay<br>Song: Starchild<br>Dance: 50<br>Energy: 62<br>Happy: 49",
          "Artist: NEIL FRANCES<br>Song: Music Sounds Better With You<br>Dance: 93<br>Energy: 52<br>Happy: 79",
          "Artist: Calvin Harris,Frank Ocean,Migos,Funk Wav<br>Song: Slide (feat. Frank Ocean & Migos)<br>Dance: 74<br>Energy: 80<br>Happy: 51",
          "Artist: Max Chapman,Teeja<br>Song: Love Control<br>Dance: 81<br>Energy: 84<br>Happy: 35",
          "Artist: Wingtip,Sophie Strauss<br>Song: Rewind<br>Dance: 66<br>Energy: 63<br>Happy: 28",
          "Artist: Kan Sano<br>Song: Music Overflow - Original Mix<br>Dance: 75<br>Energy: 24<br>Happy: 83",
          "Artist: Kan Sano<br>Song: My Girl<br>Dance: 62<br>Energy: 54<br>Happy: 67",
          "Artist: Felipe Gordon<br>Song: Dedicacion<br>Dance: 80<br>Energy: 64<br>Happy: 53",
          "Artist: Magic In Threes<br>Song: Beatin' Tha Breaks - Fouk Remix<br>Dance: 84<br>Energy: 48<br>Happy: 44",
          "Artist: Avenged Sevenfold<br>Song: Betrayed<br>Dance: 47<br>Energy: 93<br>Happy: 52",
          "Artist: Drake,Quavo,Travis Scott<br>Song: Portland<br>Dance: 93<br>Energy: 44<br>Happy: 35",
          "Artist: Céu<br>Song: Malemolência<br>Dance: 84<br>Energy: 56<br>Happy: 63",
          "Artist: Digitalism<br>Song: Pogo<br>Dance: 40<br>Energy: 74<br>Happy: 39",
          "Artist: Céu<br>Song: Lenda<br>Dance: 80<br>Energy: 50<br>Happy: 67",
          "Artist: Charlie Brown Jr.<br>Song: Céu Azul (Ao Vivo)<br>Dance: 68<br>Energy: 58<br>Happy: 69",
          "Artist: Imagine Dragons<br>Song: On Top Of The World<br>Dance: 64<br>Energy: 93<br>Happy: 76",
          "Artist: Bloc Party<br>Song: Banquet<br>Dance: 58<br>Energy: 89<br>Happy: 89",
          "Artist: Beck<br>Song: Star - 2020<br>Dance: 68<br>Energy: 70<br>Happy: 34",
          "Artist: Bloc Party<br>Song: Truth<br>Dance: 46<br>Energy: 90<br>Happy: 69",
          "Artist: Bloc Party<br>Song: Octopus<br>Dance: 52<br>Energy: 87<br>Happy: 61",
          "Artist: Blxst<br>Song: Hurt<br>Dance: 66<br>Energy: 61<br>Happy: 41",
          "Artist: Charlie Brown Jr.<br>Song: Só Por Uma Noite<br>Dance: 57<br>Energy: 96<br>Happy: 64",
          "Artist: Beck<br>Song: Colors<br>Dance: 66<br>Energy: 87<br>Happy: 68",
          "Artist: Beck<br>Song: Up All Night<br>Dance: 64<br>Energy: 91<br>Happy: 64",
          "Artist: Emotional Oranges,Channel Tres<br>Song: All That (feat. Channel Tres)<br>Dance: 92<br>Energy: 72<br>Happy: 86",
          "Artist: Ocean Wisdom<br>Song: MR FIX IT<br>Dance: 82<br>Energy: 52<br>Happy: 43",
          "Artist: Ace DaGoatShaman<br>Song: Hands in the Sands<br>Dance: 59<br>Energy: 62<br>Happy: 8",
          "Artist: Verzache,Swell<br>Song: Waiting for You<br>Dance: 52<br>Energy: 27<br>Happy: 34",
          "Artist: Verzache<br>Song: Calling<br>Dance: 78<br>Energy: 55<br>Happy: 23",
          "Artist: King Green,Vanela<br>Song: Life Goes On<br>Dance: 88<br>Energy: 52<br>Happy: 63",
          "Artist: KIDS SEE GHOSTS,Louis Prima<br>Song: 4th Dimension<br>Dance: 77<br>Energy: 54<br>Happy: 73",
          "Artist: ROSALÍA<br>Song: Aute Cuture<br>Dance: 75<br>Energy: 64<br>Happy: 54",
          "Artist: Mosie,Les Lapins Lundis,Bambi<br>Song: Tangerine<br>Dance: 71<br>Energy: 59<br>Happy: 72",
          "Artist: Biyo<br>Song: Bliss<br>Dance: 60<br>Energy: 46<br>Happy: 56",
          "Artist: O2worldwide<br>Song: ONLY ONE<br>Dance: 60<br>Energy: 65<br>Happy: 37",
          "Artist: Brent Faiyaz,DJ Dahi,Tyler, The Creator<br>Song: Gravity (feat. Tyler, The Creator)<br>Dance: 54<br>Energy: 62<br>Happy: 49",
          "Artist: DJ Seinfeld<br>Song: I Hope I Sleep Tonight<br>Dance: 79<br>Energy: 69<br>Happy: 67",
          "Artist: Lil Baby,Gunna<br>Song: Drip Too Hard (Lil Baby & Gunna)<br>Dance: 90<br>Energy: 66<br>Happy: 39",
          "Artist: Travis Scott<br>Song: goosebumps<br>Dance: 84<br>Energy: 73<br>Happy: 43",
          "Artist: Future<br>Song: March Madness<br>Dance: 50<br>Energy: 69<br>Happy: 37",
          "Artist: Friday Pilots Club<br>Song: I Don't Care<br>Dance: 58<br>Energy: 57<br>Happy: 78",
          "Artist: Friday Pilots Club<br>Song: End of It<br>Dance: 70<br>Energy: 55<br>Happy: 78",
          "Artist: Friday Pilots Club<br>Song: PRBLM<br>Dance: 67<br>Energy: 77<br>Happy: 71",
          "Artist: Junior H,Natanael Cano<br>Song: Disfruto Lo Malo<br>Dance: 68<br>Energy: 63<br>Happy: 71",
          "Artist: Natanael Cano<br>Song: Amor Tumbado<br>Dance: 54<br>Energy: 71<br>Happy: 46",
          "Artist: Junior H<br>Song: Ella<br>Dance: 48<br>Energy: 73<br>Happy: 66",
          "Artist: Billy Lemos,Omar Apollo,Maxwell Young<br>Song: 12:34 AM<br>Dance: 71<br>Energy: 47<br>Happy: 32",
          "Artist: Mt. Joy<br>Song: Silver Lining<br>Dance: 54<br>Energy: 62<br>Happy: 20",
          "Artist: Mt. Joy<br>Song: Sheep<br>Dance: 50<br>Energy: 50<br>Happy: 29",
          "Artist: Juanes<br>Song: Pa Dentro<br>Dance: 56<br>Energy: 85<br>Happy: 70",
          "Artist: Grizzly Bear<br>Song: Two Weeks<br>Dance: 54<br>Energy: 71<br>Happy: 70",
          "Artist: STRFKR<br>Song: Rawnald Gregory Erickson the Second<br>Dance: 90<br>Energy: 54<br>Happy: 71",
          "Artist: KAYTRANADA,Kali Uchis<br>Song: 10%<br>Dance: 79<br>Energy: 76<br>Happy: 62",
          "Artist: Pinback<br>Song: Good To Sea<br>Dance: 77<br>Energy: 78<br>Happy: 93",
          "Artist: Eslabon Armado,T3R Elemento<br>Song: Mi Vicio<br>Dance: 51<br>Energy: 66<br>Happy: 86",
          "Artist: Roza<br>Song: Mindplay<br>Dance: 84<br>Energy: 43<br>Happy: 79",
          "Artist: Maluma<br>Song: Borro Cassette<br>Dance: 73<br>Energy: 70<br>Happy: 79",
          "Artist: Maluma<br>Song: El Perdedor<br>Dance: 70<br>Energy: 73<br>Happy: 88",
          "Artist: Christian Martin,Ardalan<br>Song: Flight of The Pterodactyl - Original Mix<br>Dance: 80<br>Energy: 61<br>Happy: 57",
          "Artist: Gigamesh<br>Song: Feral Youth<br>Dance: 86<br>Energy: 53<br>Happy: 45",
          "Artist: ANAVITÓRIA,Vitor Kley<br>Song: Pupila<br>Dance: 72<br>Energy: 43<br>Happy: 43",
          "Artist: Rochy RD,Myke Towers,Nicki Nicole<br>Song: Ella No Es Tuya - Remix<br>Dance: 59<br>Energy: 61<br>Happy: 96",
          "Artist: Diskopunk<br>Song: Fire<br>Dance: 74<br>Energy: 80<br>Happy: 50",
          "Artist: Oliver Tree<br>Song: Miracle Man<br>Dance: 67<br>Energy: 48<br>Happy: 66",
          "Artist: Yarah Bravo<br>Song: I Found Love<br>Dance: 89<br>Energy: 41<br>Happy: 50",
          "Artist: Soccer Mommy<br>Song: Cool<br>Dance: 64<br>Energy: 66<br>Happy: 75",
          "Artist: LP Septet<br>Song: Cumulus<br>Dance: 73<br>Energy: 74<br>Happy: 68",
          "Artist: Bullet For My Valentine<br>Song: Hand Of Blood<br>Dance: 38<br>Energy: 99<br>Happy: 49",
          "Artist: ROSALÍA<br>Song: MALAMENTE - Cap.1: Augurio<br>Dance: 89<br>Energy: 48<br>Happy: 53",
          "Artist: ROSALÍA,J Balvin,El Guincho<br>Song: Con Altura<br>Dance: 88<br>Energy: 69<br>Happy: 75",
          "Artist: Lil Yachty,Louie Ray<br>Song: G.I. Joe (feat. Louie Ray)<br>Dance: 85<br>Energy: 69<br>Happy: 70",
          "Artist: Lil Yachty<br>Song: Split/Whole Time<br>Dance: 67<br>Energy: 49<br>Happy: 39",
          "Artist: Jean Dawson,A$AP Rocky<br>Song: Triple Double<br>Dance: 56<br>Energy: 84<br>Happy: 48",
          "Artist: Sacha Distel<br>Song: La belle vie<br>Dance: 20<br>Energy: 40<br>Happy: 25",
          "Artist: Leon Bridges<br>Song: Shy<br>Dance: 80<br>Energy: 50<br>Happy: 83",
          "Artist: Cut Copy<br>Song: Hearts On Fire<br>Dance: 58<br>Energy: 96<br>Happy: 73",
          "Artist: tricot<br>Song: Artsick<br>Dance: 32<br>Energy: 79<br>Happy: 52",
          "Artist: Justin Jay<br>Song: Can't Hang<br>Dance: 88<br>Energy: 45<br>Happy: 13",
          "Artist: BROCKHAMPTON<br>Song: JOHNNY<br>Dance: 61<br>Energy: 86<br>Happy: 87",
          "Artist: DEAN,Syd<br>Song: love<br>Dance: 58<br>Energy: 67<br>Happy: 37",
          "Artist: Veil Of Maya<br>Song: It's Not Safe To Swim Today<br>Dance: 24<br>Energy: 93<br>Happy: 41",
          "Artist: The Strokes<br>Song: Chances<br>Dance: 56<br>Energy: 57<br>Happy: 53",
          "Artist: Red Hot Chili Peppers<br>Song: Californication<br>Dance: 59<br>Energy: 77<br>Happy: 33",
          "Artist: Walker Hayes<br>Song: Fancy Like<br>Dance: 65<br>Energy: 76<br>Happy: 84",
          "Artist: Pinback<br>Song: How We Breathe<br>Dance: 69<br>Energy: 47<br>Happy: 45",
          "Artist: PinkPantheress<br>Song: Pain<br>Dance: 83<br>Energy: 62<br>Happy: 81",
          "Artist: PinkPantheress<br>Song: Just for me<br>Dance: 80<br>Energy: 63<br>Happy: 64",
          "Artist: Freddie Dredd<br>Song: Opaul<br>Dance: 82<br>Energy: 87<br>Happy: 65",
          "Artist: Norah Jones<br>Song: Sunrise<br>Dance: 54<br>Energy: 31<br>Happy: 65",
          "Artist: Crayon,KLP,Darius<br>Song: Give You Up - Darius Remix<br>Dance: 85<br>Energy: 51<br>Happy: 66",
          "Artist: The Maccabees<br>Song: Toothpaste Kisses<br>Dance: 46<br>Energy: 43<br>Happy: 47",
          "Artist: Joy Again<br>Song: Looking Out for You<br>Dance: 68<br>Energy: 90<br>Happy: 94",
          "Artist: Sasha, Benny y Erik<br>Song: Japi<br>Dance: 51<br>Energy: 70<br>Happy: 83",
          "Artist: Arctic Monkeys<br>Song: When The Sun Goes Down<br>Dance: 35<br>Energy: 88<br>Happy: 41",
          "Artist: Kainalu<br>Song: Out of Touch<br>Dance: 80<br>Energy: 71<br>Happy: 70",
          "Artist: Disclosure,Eliza Doolittle,Flume<br>Song: You & Me - Flume Remix<br>Dance: 59<br>Energy: 39<br>Happy: 25",
          "Artist: BENEE,Gus Dapperton<br>Song: Supalonely (feat. Gus Dapperton)<br>Dance: 86<br>Energy: 63<br>Happy: 84",
          "Artist: Unwritten Law<br>Song: Celebration Song<br>Dance: 39<br>Energy: 96<br>Happy: 61",
          "Artist: Betcha<br>Song: July<br>Dance: 61<br>Energy: 66<br>Happy: 57",
          "Artist: Prelow<br>Song: Guitar Beat<br>Dance: 66<br>Energy: 79<br>Happy: 78",
          "Artist: Incubus<br>Song: Dig<br>Dance: 45<br>Energy: 90<br>Happy: 46",
          "Artist: Zach Criss<br>Song: No Sunshine<br>Dance: 53<br>Energy: 32<br>Happy: 86",
          "Artist: Marc Bianco,Taphari<br>Song: Love On Earth<br>Dance: 72<br>Energy: 93<br>Happy: 69",
          "Artist: Future<br>Song: Feed Me Dope<br>Dance: 85<br>Energy: 69<br>Happy: 56",
          "Artist: HUNNY<br>Song: Televised<br>Dance: 59<br>Energy: 75<br>Happy: 43",
          "Artist: Thirty Seconds To Mars<br>Song: The Kill<br>Dance: 18<br>Energy: 91<br>Happy: 29",
          "Artist: WALK THE MOON<br>Song: Lisa Baby<br>Dance: 51<br>Energy: 84<br>Happy: 64",
          "Artist: Foo Fighters<br>Song: Virginia Moon<br>Dance: 64<br>Energy: 36<br>Happy: 26",
          "Artist: Foo Fighters<br>Song: Rope<br>Dance: 51<br>Energy: 73<br>Happy: 54",
          "Artist: Nirvana<br>Song: Lithium<br>Dance: 68<br>Energy: 66<br>Happy: 49",
          "Artist: Rise Against<br>Song: Savior<br>Dance: 55<br>Energy: 93<br>Happy: 48",
          "Artist: Rise Against<br>Song: Swing Life Away<br>Dance: 48<br>Energy: 43<br>Happy: 79",
          "Artist: Rise Against<br>Song: Prayer Of The Refugee<br>Dance: 20<br>Energy: 98<br>Happy: 39",
          "Artist: Anthrax<br>Song: Safe Home<br>Dance: 36<br>Energy: 97<br>Happy: 40",
          "Artist: Kings of Convenience<br>Song: Misread<br>Dance: 64<br>Energy: 63<br>Happy: 90",
          "Artist: Kings of Convenience<br>Song: I'd Rather Dance With You<br>Dance: 84<br>Energy: 83<br>Happy: 97",
          "Artist: Gunna,Future<br>Song: too easy<br>Dance: 80<br>Energy: 57<br>Happy: 31",
          "Artist: Albert Hammond Jr<br>Song: GfC<br>Dance: 61<br>Energy: 82<br>Happy: 37",
          "Artist: Last Dinosaurs<br>Song: Zoom<br>Dance: 47<br>Energy: 75<br>Happy: 54",
          "Artist: Freddie Joachim,Natalie Oliveri<br>Song: Backyards<br>Dance: 75<br>Energy: 90<br>Happy: 95",
          "Artist: Nohidea<br>Song: falling down<br>Dance: 78<br>Energy: 32<br>Happy: 53",
          "Artist: Shindig<br>Song: New Friends<br>Dance: 68<br>Energy: 77<br>Happy: 73",
          "Artist: Uppermost<br>Song: Fireflies<br>Dance: 62<br>Energy: 60<br>Happy: 48",
          "Artist: Two Hidden Labs<br>Song: Camaro 69<br>Dance: 45<br>Energy: 72<br>Happy: 39",
          "Artist: Two Hidden Labs<br>Song: Love Streams<br>Dance: 62<br>Energy: 77<br>Happy: 54",
          "Artist: Two Hidden Labs<br>Song: Chapter One<br>Dance: 60<br>Energy: 90<br>Happy: 53",
          "Artist: Andrew Applepie<br>Song: Salted Caramel<br>Dance: 77<br>Energy: 51<br>Happy: 91",
          "Artist: Andrew Applepie<br>Song: One More Song For You<br>Dance: 64<br>Energy: 64<br>Happy: 51",
          "Artist: Andrew Applepie<br>Song: All About Money<br>Dance: 58<br>Energy: 93<br>Happy: 49",
          "Artist: Bakar<br>Song: Big Dreams<br>Dance: 64<br>Energy: 89<br>Happy: 53",
          "Artist: The Exies<br>Song: Ugly<br>Dance: 21<br>Energy: 94<br>Happy: 17",
          "Artist: The Technicolors<br>Song: Howl<br>Dance: 20<br>Energy: 67<br>Happy: 27",
          "Artist: The Technicolors<br>Song: Dress Up For You<br>Dance: 75<br>Energy: 50<br>Happy: 71",
          "Artist: DREAMERS<br>Song: Cry Out for Me<br>Dance: 63<br>Energy: 78<br>Happy: 65",
          "Artist: Airways<br>Song: Reckless Tongue<br>Dance: 53<br>Energy: 89<br>Happy: 81",
          "Artist: DREAMERS<br>Song: All Washed Out<br>Dance: 63<br>Energy: 70<br>Happy: 36",
          "Artist: Saint Motel<br>Song: Butch<br>Dance: 50<br>Energy: 73<br>Happy: 30",
          "Artist: Saint Motel<br>Song: To My Enemies<br>Dance: 53<br>Energy: 82<br>Happy: 74",
          "Artist: Saint Motel<br>Song: For Elise<br>Dance: 49<br>Energy: 50<br>Happy: 26",
          "Artist: Hippo Campus<br>Song: Way It Goes<br>Dance: 54<br>Energy: 91<br>Happy: 52",
          "Artist: Counterfit<br>Song: From Finish to Starting Line<br>Dance: 55<br>Energy: 50<br>Happy: 48",
          "Artist: Jason Mraz<br>Song: I'm Yours<br>Dance: 70<br>Energy: 44<br>Happy: 71",
          "Artist: Punch Brothers<br>Song: Julep<br>Dance: 68<br>Energy: 22<br>Happy: 31",
          "Artist: Jason Mraz,Colbie Caillat<br>Song: Lucky<br>Dance: 63<br>Energy: 41<br>Happy: 67",
          "Artist: Colbie Caillat<br>Song: Bubbly<br>Dance: 70<br>Energy: 47<br>Happy: 25",
          "Artist: Verzache<br>Song: Tongue Tied<br>Dance: 70<br>Energy: 52<br>Happy: 92",
          "Artist: Verzache<br>Song: Evil<br>Dance: 76<br>Energy: 51<br>Happy: 62",
          "Artist: Los Retros<br>Song: Someone To Spend Time With<br>Dance: 82<br>Energy: 46<br>Happy: 96",
          "Artist: Crumb<br>Song: Ghostride<br>Dance: 67<br>Energy: 35<br>Happy: 45",
          "Artist: Crumb<br>Song: Plants<br>Dance: 49<br>Energy: 41<br>Happy: 22",
          "Artist: Crumb<br>Song: Bones<br>Dance: 51<br>Energy: 60<br>Happy: 41",
          "Artist: Jayda G<br>Song: All I Need (DJ-Kicks) - Edit<br>Dance: 69<br>Energy: 89<br>Happy: 86",
          "Artist: Eris Drew<br>Song: Trans Love Vibration (Eris Goes to Church)<br>Dance: 80<br>Energy: 62<br>Happy: 22",
          "Artist: kryptogram<br>Song: How Long Have You Been Away?<br>Dance: 81<br>Energy: 75<br>Happy: 85",
          "Artist: kryptogram<br>Song: Pourin'<br>Dance: 77<br>Energy: 72<br>Happy: 73",
          "Artist: Lil Uzi Vert<br>Song: XO Tour Llif3<br>Dance: 73<br>Energy: 75<br>Happy: 40",
          "Artist: Flipp Dinero<br>Song: Leave Me Alone<br>Dance: 79<br>Energy: 74<br>Happy: 74",
          "Artist: Dam Swindle,Tom Misch<br>Song: Yes, No, Maybe<br>Dance: 82<br>Energy: 81<br>Happy: 53",
          "Artist: tricot<br>Song: potage<br>Dance: 30<br>Energy: 58<br>Happy: 50",
          "Artist: Breaking Benjamin<br>Song: Crawl<br>Dance: 26<br>Energy: 92<br>Happy: 41",
          "Artist: Phonat,Jolie,The Key<br>Song: Fire (feat. Jolie and the Key)<br>Dance: 60<br>Energy: 74<br>Happy: 60",
          "Artist: Phonat,Icarus<br>Song: Never - Icarus Remix<br>Dance: 62<br>Energy: 77<br>Happy: 34",
          "Artist: SpectraSoul<br>Song: Push & Pull<br>Dance: 69<br>Energy: 85<br>Happy: 39",
          "Artist: Fountains Of Wayne<br>Song: Stacy's Mom<br>Dance: 77<br>Energy: 75<br>Happy: 93",
          "Artist: JAWNY<br>Song: Anything You Want<br>Dance: 80<br>Energy: 78<br>Happy: 93",
          "Artist: YG<br>Song: SWAG<br>Dance: 86<br>Energy: 58<br>Happy: 80",
          "Artist: Cráneo,Made in M,BxRod<br>Song: Cristal (feat. BxRod)<br>Dance: 82<br>Energy: 26<br>Happy: 34",
          "Artist: Crazy Town<br>Song: Revolving Door<br>Dance: 68<br>Energy: 85<br>Happy: 77",
          "Artist: Flight Facilities,Giselle<br>Song: Crave You<br>Dance: 92<br>Energy: 48<br>Happy: 32",
          "Artist: Total Giovanni<br>Song: Your Light<br>Dance: 74<br>Energy: 65<br>Happy: 84",
          "Artist: Two Another<br>Song: Keeping Me Under<br>Dance: 79<br>Energy: 55<br>Happy: 58",
          "Artist: Ridney,Shannon B,Lovely Laura<br>Song: Running<br>Dance: 72<br>Energy: 78<br>Happy: 63",
          "Artist: JAWNY<br>Song: Best Thing<br>Dance: 65<br>Energy: 74<br>Happy: 87",
          "Artist: Zack Villere<br>Song: Bloo<br>Dance: 62<br>Energy: 54<br>Happy: 54",
          "Artist: Zack Villere<br>Song: Fear of Intimacy<br>Dance: 65<br>Energy: 45<br>Happy: 16",
          "Artist: Zack Villere<br>Song: You Don't Care<br>Dance: 61<br>Energy: 61<br>Happy: 44",
          "Artist: Rex Orange County<br>Song: Television / So Far So Good<br>Dance: 41<br>Energy: 51<br>Happy: 32",
          "Artist: Rex Orange County<br>Song: Best Friend<br>Dance: 57<br>Energy: 71<br>Happy: 32",
          "Artist: Rex Orange County<br>Song: Pluto Projector<br>Dance: 38<br>Energy: 22<br>Happy: 19",
          "Artist: Curtis Waters<br>Song: Doodoodoo<br>Dance: 75<br>Energy: 63<br>Happy: 47",
          "Artist: binki<br>Song: Sea Sick<br>Dance: 82<br>Energy: 58<br>Happy: 93",
          "Artist: Swizz Beatz<br>Song: It's Me Snitches<br>Dance: 79<br>Energy: 95<br>Happy: 14",
          "Artist: JAWNY<br>Song: Honeypie<br>Dance: 74<br>Energy: 69<br>Happy: 94",
          "Artist: Tame Impala<br>Song: The Less I Know The Better<br>Dance: 64<br>Energy: 74<br>Happy: 79",
          "Artist: Jayda G<br>Song: Both Of Us - Edit<br>Dance: 74<br>Energy: 71<br>Happy: 51",
          "Artist: Rob Araujo<br>Song: Hike<br>Dance: 57<br>Energy: 38<br>Happy: 56",
          "Artist: Bluejuice<br>Song: I'll Go Crazy<br>Dance: 42<br>Energy: 88<br>Happy: 66",
          "Artist: Mick Jenkins<br>Song: What Am I To Do<br>Dance: 70<br>Energy: 73<br>Happy: 86",
          "Artist: Bruno Major<br>Song: Easily<br>Dance: 77<br>Energy: 26<br>Happy: 36",
          "Artist: Kornél Kovács<br>Song: Szikra<br>Dance: 80<br>Energy: 93<br>Happy: 87",
          "Artist: Hellogoodbye<br>Song: When We First Met<br>Dance: 66<br>Energy: 78<br>Happy: 85",
          "Artist: Bonobo<br>Song: Linked<br>Dance: 71<br>Energy: 73<br>Happy: 24",
          "Artist: Luke Vibert<br>Song: Styles<br>Dance: 86<br>Energy: 78<br>Happy: 97",
          "Artist: Bruno Major<br>Song: Nothing<br>Dance: 56<br>Energy: 27<br>Happy: 27",
          "Artist: Bruno Major<br>Song: Cold Blood<br>Dance: 60<br>Energy: 41<br>Happy: 32",
          "Artist: Maggie Rogers<br>Song: Alaska<br>Dance: 85<br>Energy: 39<br>Happy: 18",
          "Artist: John Mayer<br>Song: Your Body Is a Wonderland<br>Dance: 65<br>Energy: 73<br>Happy: 69",
          "Artist: Korn<br>Song: Coming Undone<br>Dance: 69<br>Energy: 68<br>Happy: 55",
          "Artist: Axel Boman<br>Song: No! No! No! No!<br>Dance: 94<br>Energy: 29<br>Happy: 40",
          "Artist: The xx<br>Song: Islands<br>Dance: 87<br>Energy: 47<br>Happy: 71",
          "Artist: Rochelle Jordan<br>Song: All Along<br>Dance: 73<br>Energy: 76<br>Happy: 58",
          "Artist: Avicii<br>Song: You Make Me<br>Dance: 59<br>Energy: 73<br>Happy: 50",
          "Artist: Rhye<br>Song: Open<br>Dance: 55<br>Energy: 32<br>Happy: 23",
          "Artist: Gabriel Garzón-Montano<br>Song: Everything Is Everything<br>Dance: 84<br>Energy: 51<br>Happy: 95",
          "Artist: Gabriel Garzón-Montano<br>Song: Keep On Running<br>Dance: 90<br>Energy: 49<br>Happy: 47",
          "Artist: Olly Murs<br>Song: Dance with Me Tonight<br>Dance: 67<br>Energy: 75<br>Happy: 96",
          "Artist: Dora Jar<br>Song: Polly<br>Dance: 75<br>Energy: 91<br>Happy: 76",
          "Artist: Doss<br>Song: Strawberry<br>Dance: 40<br>Energy: 92<br>Happy: 7",
          "Artist: underscores<br>Song: Second hand embarrassment<br>Dance: 79<br>Energy: 45<br>Happy: 79",
          "Artist: Jai Wolf<br>Song: Lose My Mind (feat. Mr Gabriel)<br>Dance: 61<br>Energy: 78<br>Happy: 51",
          "Artist: Olivia Rodrigo<br>Song: deja vu<br>Dance: 44<br>Energy: 61<br>Happy: 18",
          "Artist: The Temper Trap<br>Song: Love Lost<br>Dance: 55<br>Energy: 57<br>Happy: 35",
          "Artist: Unknown Mortal Orchestra<br>Song: Hunnybee<br>Dance: 96<br>Energy: 37<br>Happy: 57",
          "Artist: Jelani Aryeh<br>Song: Stella Brown<br>Dance: 72<br>Energy: 48<br>Happy: 59",
          "Artist: Yellow Days<br>Song: Gap in the Clouds<br>Dance: 58<br>Energy: 54<br>Happy: 20",
          "Artist: Unknown Mortal Orchestra<br>Song: So Good At Being in Trouble<br>Dance: 83<br>Energy: 44<br>Happy: 59",
          "Artist: Unknown Mortal Orchestra<br>Song: Secret Xtians<br>Dance: 75<br>Energy: 43<br>Happy: 26",
          "Artist: Unknown Mortal Orchestra<br>Song: That Life<br>Dance: 88<br>Energy: 71<br>Happy: 87",
          "Artist: Bilderbuch<br>Song: Maschin<br>Dance: 60<br>Energy: 59<br>Happy: 67",
          "Artist: Bilderbuch<br>Song: Checkpoint (Nie Game Over)<br>Dance: 68<br>Energy: 74<br>Happy: 54",
          "Artist: Deftones<br>Song: Good Morning Beautiful<br>Dance: 33<br>Energy: 97<br>Happy: 33",
          "Artist: Armando Young<br>Song: Loved Ones (Saudades)<br>Dance: 75<br>Energy: 56<br>Happy: 53",
          "Artist: Raydio<br>Song: Jack and Jill<br>Dance: 69<br>Energy: 66<br>Happy: 54",
          "Artist: Raydio<br>Song: You Can't Change That<br>Dance: 69<br>Energy: 71<br>Happy: 89",
          "Artist: A Tribe Called Quest<br>Song: Award Tour<br>Dance: 81<br>Energy: 70<br>Happy: 51",
          "Artist: Barry Can't Swim<br>Song: Jazz Club After Hours<br>Dance: 72<br>Energy: 68<br>Happy: 44",
          "Artist: Paris Texas<br>Song: FORCE OF HABIT<br>Dance: 66<br>Energy: 44<br>Happy: 48",
          "Artist: Hiatus Kaiyote,Q-Tip<br>Song: Nakamarra (feat. Q-Tip)<br>Dance: 55<br>Energy: 53<br>Happy: 32",
          "Artist: Q-Tip,Norah Jones<br>Song: Life Is Better<br>Dance: 88<br>Energy: 44<br>Happy: 69",
          "Artist: Bruce Trail<br>Song: Bridgework<br>Dance: 80<br>Energy: 68<br>Happy: 30",
          "Artist: iamalex,Hip Dozer<br>Song: Changed<br>Dance: 81<br>Energy: 64<br>Happy: 74",
          "Artist: Vladimir Cauchemar,Asdek,Laylow,Rim'K<br>Song: Brrr<br>Dance: 87<br>Energy: 66<br>Happy: 71",
          "Artist: iamalex,Hip Dozer<br>Song: Summer Goes By<br>Dance: 77<br>Energy: 84<br>Happy: 72",
          "Artist: Gavinco<br>Song: Caravella - Edit<br>Dance: 86<br>Energy: 61<br>Happy: 45",
          "Artist: Rick Wade<br>Song: Shinjuku Strut<br>Dance: 56<br>Energy: 69<br>Happy: 64",
          "Artist: Soulwax<br>Song: Is It Always Binary<br>Dance: 82<br>Energy: 89<br>Happy: 93",
          "Artist: Soulwax<br>Song: Saturday<br>Dance: 69<br>Energy: 65<br>Happy: 78",
          "Artist: Soulwax<br>Song: Too Many DJs<br>Dance: 50<br>Energy: 83<br>Happy: 62",
          "Artist: Paris Texas<br>Song: BULLSEYE<br>Dance: 82<br>Energy: 80<br>Happy: 64",
          "Artist: Current Joys<br>Song: Kids<br>Dance: 83<br>Energy: 66<br>Happy: 90",
          "Artist: Eagles<br>Song: One of These Nights - 2013 Remaster<br>Dance: 66<br>Energy: 61<br>Happy: 77",
          "Artist: Christian Leave<br>Song: 10 Steps<br>Dance: 25<br>Energy: 84<br>Happy: 66",
          "Artist: Christian Leave<br>Song: Your Life Your Time<br>Dance: 53<br>Energy: 82<br>Happy: 87",
          "Artist: Bomba Estéreo<br>Song: Soy Yo<br>Dance: 89<br>Energy: 58<br>Happy: 79",
          "Artist: Real Friends<br>Song: Me First<br>Dance: 51<br>Energy: 95<br>Happy: 66",
          "Artist: Dismemberment Plan<br>Song: A Life of Possibilities<br>Dance: 71<br>Energy: 84<br>Happy: 50",
          "Artist: Mr. Bill<br>Song: The Enabler & the Enabled<br>Dance: 76<br>Energy: 47<br>Happy: 82",
          "Artist: Nipsey Hussle,Belly,Dom Kennedy<br>Song: Double Up (feat. Belly and Dom Kennedy)<br>Dance: 60<br>Energy: 44<br>Happy: 24",
          "Artist: The White Lamp<br>Song: It's You - Ron Basejam Remix<br>Dance: 87<br>Energy: 40<br>Happy: 69",
          "Artist: The White Lamp<br>Song: It's You<br>Dance: 92<br>Energy: 56<br>Happy: 84",
          "Artist: p-rallel,Greentea Peng<br>Song: soulboy<br>Dance: 65<br>Energy: 72<br>Happy: 74",
          "Artist: Natanael Cano<br>Song: Diamantes<br>Dance: 66<br>Energy: 76<br>Happy: 51",
          "Artist: Rich The Kid,YoungBoy Never Broke Again<br>Song: Automatic<br>Dance: 80<br>Energy: 57<br>Happy: 51",
          "Artist: Natanael Cano,Junior H,Ovi<br>Song: Verdes Verdes<br>Dance: 75<br>Energy: 63<br>Happy: 90",
          "Artist: Eli Way,cehryl<br>Song: If It Makes You Happy<br>Dance: 63<br>Energy: 60<br>Happy: 55",
          "Artist: CLAIRE<br>Song: Games<br>Dance: 71<br>Energy: 71<br>Happy: 59",
          "Artist: Benny Sings,Mac DeMarco<br>Song: Rolled Up<br>Dance: 79<br>Energy: 46<br>Happy: 41",
          "Artist: King Garbage<br>Song: Forbidden Lovers<br>Dance: 77<br>Energy: 63<br>Happy: 83",
          "Artist: VIC MENSA<br>Song: Liquor Locker<br>Dance: 50<br>Energy: 43<br>Happy: 45",
          "Artist: Steve Lacy<br>Song: Dark Red<br>Dance: 60<br>Energy: 78<br>Happy: 78",
          "Artist: Daedelus<br>Song: Special Re: Quest<br>Dance: 68<br>Energy: 84<br>Happy: 56",
          "Artist: BENEE<br>Song: Glitter<br>Dance: 80<br>Energy: 59<br>Happy: 58",
          "Artist: Sum 41<br>Song: The Hell Song<br>Dance: 36<br>Energy: 94<br>Happy: 66",
          "Artist: Sara Bareilles<br>Song: Love Song<br>Dance: 58<br>Energy: 79<br>Happy: 57",
          "Artist: dexter<br>Song: Blue Skies<br>Dance: 74<br>Energy: 70<br>Happy: 86",
          "Artist: KillBunk<br>Song: Chanel Bag<br>Dance: 77<br>Energy: 61<br>Happy: 70",
          "Artist: Quentin Miller,Sy Ari<br>Song: Still Standin'<br>Dance: 92<br>Energy: 34<br>Happy: 56",
          "Artist: morgxn<br>Song: home<br>Dance: 67<br>Energy: 71<br>Happy: 85",
          "Artist: Basshunter<br>Song: All I Ever Wanted - Radio Edit<br>Dance: 65<br>Energy: 98<br>Happy: 55",
          "Artist: Earth, Wind & Fire<br>Song: September<br>Dance: 70<br>Energy: 83<br>Happy: 98",
          "Artist: The Gap Band<br>Song: Outstanding - Original 12 Mix\"<br>Dance: 79<br>Energy: 48<br>Happy: 82",
          "Artist: Channel Tres<br>Song: Controller<br>Dance: 89<br>Energy: 68<br>Happy: 69",
          "Artist: Channel Tres<br>Song: Topdown<br>Dance: 83<br>Energy: 54<br>Happy: 49",
          "Artist: Polo & Pan<br>Song: Nanã<br>Dance: 69<br>Energy: 74<br>Happy: 39",
          "Artist: femdot.<br>Song: 94 Camry Music<br>Dance: 69<br>Energy: 64<br>Happy: 55",
          "Artist: Smino,Jean Deaux,Phoelix<br>Song: Kajun<br>Dance: 48<br>Energy: 47<br>Happy: 42",
          "Artist: Bambooman<br>Song: Feel<br>Dance: 79<br>Energy: 62<br>Happy: 49",
          "Artist: Danny Ocean<br>Song: Dembow<br>Dance: 80<br>Energy: 74<br>Happy: 45",
          "Artist: Danny Ocean<br>Song: Swing<br>Dance: 73<br>Energy: 62<br>Happy: 53",
          "Artist: The Marías,Still Woozy<br>Song: Hush - Still Woozy Remix<br>Dance: 71<br>Energy: 55<br>Happy: 56",
          "Artist: The Marías<br>Song: Cariño<br>Dance: 65<br>Energy: 39<br>Happy: 66",
          "Artist: TEMPOREX<br>Song: Nice Boys<br>Dance: 56<br>Energy: 67<br>Happy: 32",
          "Artist: Sure Sure<br>Song: Warm Animal<br>Dance: 79<br>Energy: 38<br>Happy: 77",
          "Artist: ROSALÍA<br>Song: SAOKO<br>Dance: 83<br>Energy: 77<br>Happy: 73",
          "Artist: TEMPOREX<br>Song: Delayed<br>Dance: 85<br>Energy: 50<br>Happy: 96",
          "Artist: FKJ,((( O )))<br>Song: Ylang Ylang<br>Dance: 56<br>Energy: 24<br>Happy: 16",
          "Artist: FKJ<br>Song: Skyline<br>Dance: 70<br>Energy: 43<br>Happy: 27",
          "Artist: FKJ<br>Song: Instant Need<br>Dance: 77<br>Energy: 49<br>Happy: 57",
          "Artist: FKJ<br>Song: So Much to Me<br>Dance: 78<br>Energy: 49<br>Happy: 35",
          "Artist: Fka Mash<br>Song: No Talking<br>Dance: 83<br>Energy: 42<br>Happy: 54",
          "Artist: Dam Swindle<br>Song: The Break Up - Original Mix<br>Dance: 71<br>Energy: 81<br>Happy: 24",
          "Artist: Finch<br>Song: Letters To You<br>Dance: 41<br>Energy: 85<br>Happy: 34",
          "Artist: Calvin Harris<br>Song: Flashback<br>Dance: 27<br>Energy: 95<br>Happy: 20",
          "Artist: Corinne Bailey Rae<br>Song: Put Your Records On<br>Dance: 74<br>Energy: 51<br>Happy: 54",
          "Artist: tricot<br>Song: 幽霊船<br>Dance: 47<br>Energy: 49<br>Happy: 53",
          "Artist: Myd,JAWNY<br>Song: The Sun (feat. JAWNY)<br>Dance: 74<br>Energy: 74<br>Happy: 84",
          "Artist: Still Woozy,ODIE<br>Song: Lucy<br>Dance: 65<br>Energy: 54<br>Happy: 85",
          "Artist: Mamalarky<br>Song: Meadow<br>Dance: 40<br>Energy: 52<br>Happy: 72",
          "Artist: Montell Jordan,Wino<br>Song: This Is How We Do It<br>Dance: 78<br>Energy: 61<br>Happy: 79",
          "Artist: Tevin Campbell<br>Song: Can We Talk<br>Dance: 66<br>Energy: 71<br>Happy: 61",
          "Artist: Mary J. Blige<br>Song: Real Love<br>Dance: 77<br>Energy: 78<br>Happy: 83",
          "Artist: Bizarrap,Nicki Nicole<br>Song: Nicki Nicole: Bzrp Music Sessions, Vol. 13<br>Dance: 81<br>Energy: 47<br>Happy: 39",
          "Artist: Mamalarky<br>Song: Hero<br>Dance: 52<br>Energy: 72<br>Happy: 50",
          "Artist: Lucky Daye<br>Song: Feels Like<br>Dance: 84<br>Energy: 63<br>Happy: 83",
          "Artist: The City of Prague Philharmonic Orchestra,James Fitzpatrick<br>Song: Suite (From Twisted Nerve\")\"<br>Dance: 23<br>Energy: 20<br>Happy: 4",
          "Artist: Duckwrth,Sabrina Claudio<br>Song: I'M DEAD<br>Dance: 59<br>Energy: 75<br>Happy: 48",
          "Artist: Desire<br>Song: Purge<br>Dance: 72<br>Energy: 62<br>Happy: 21",
          "Artist: Kaoma<br>Song: Lambada - Original Version 1989<br>Dance: 76<br>Energy: 80<br>Happy: 97",
          "Artist: Ashanti,Nelly,Akon<br>Song: Body On Me<br>Dance: 66<br>Energy: 62<br>Happy: 74",
          "Artist: Protest The Hero<br>Song: Blindfolds Aside<br>Dance: 25<br>Energy: 82<br>Happy: 19",
          "Artist: Dee Tree,Saine<br>Song: Fading Away - Saine Remix<br>Dance: 73<br>Energy: 72<br>Happy: 66",
          "Artist: Ruze<br>Song: Chapters<br>Dance: 78<br>Energy: 95<br>Happy: 56",
          "Artist: Babyxsosa<br>Song: Everywhereigo<br>Dance: 89<br>Energy: 38<br>Happy: 51",
          "Artist: Folamour<br>Song: Petit Prince Du Macadam<br>Dance: 66<br>Energy: 79<br>Happy: 67",
          "Artist: Pavement<br>Song: Harness Your Hopes - B-side<br>Dance: 60<br>Energy: 57<br>Happy: 58",
          "Artist: Delay<br>Song: Explanation<br>Dance: 30<br>Energy: 40<br>Happy: 22",
          "Artist: Mamalarky<br>Song: How to Say<br>Dance: 24<br>Energy: 80<br>Happy: 70",
          "Artist: NAV<br>Song: Up<br>Dance: 66<br>Energy: 49<br>Happy: 38",
          "Artist: Linkin Park<br>Song: Lying from You<br>Dance: 54<br>Energy: 95<br>Happy: 72",
          "Artist: Samantha Ronson<br>Song: Built This Way - (Slow Remix)<br>Dance: 42<br>Energy: 79<br>Happy: 67",
          "Artist: KSLV Noh<br>Song: Disaster<br>Dance: 82<br>Energy: 61<br>Happy: 51",
          "Artist: KSLV Noh<br>Song: Override<br>Dance: 69<br>Energy: 76<br>Happy: 54",
          "Artist: KSLV Noh<br>Song: Dynamic<br>Dance: 76<br>Energy: 68<br>Happy: 68",
          "Artist: Dam Swindle,Mayer Hawthorne<br>Song: 64 Ways<br>Dance: 76<br>Energy: 73<br>Happy: 53",
          "Artist: Kerri Chandler,Atjazz<br>Song: Rain - Atjazz Remix<br>Dance: 72<br>Energy: 85<br>Happy: 20",
          "Artist: Hunee<br>Song: Rare Happiness<br>Dance: 81<br>Energy: 69<br>Happy: 72",
          "Artist: Jesse Bru,Max Ulis<br>Song: Banh Mi<br>Dance: 82<br>Energy: 92<br>Happy: 14",
          "Artist: Coeo<br>Song: Like It Is<br>Dance: 90<br>Energy: 68<br>Happy: 66",
          "Artist: Carpet Patrol<br>Song: Indian Slap<br>Dance: 53<br>Energy: 63<br>Happy: 79",
          "Artist: HNNY<br>Song: Nothing - Original Mix<br>Dance: 79<br>Energy: 43<br>Happy: 96",
          "Artist: HNNY<br>Song: No Tears - Original Mix<br>Dance: 95<br>Energy: 31<br>Happy: 38",
          "Artist: Kesha<br>Song: TiK ToK<br>Dance: 76<br>Energy: 84<br>Happy: 71",
          "Artist: Borialis<br>Song: Don't Mean A Thing<br>Dance: 51<br>Energy: 97<br>Happy: 34",
          "Artist: Pinback<br>Song: Non Photo-Blue<br>Dance: 74<br>Energy: 84<br>Happy: 93",
          "Artist: Nirvana<br>Song: Something In The Way<br>Dance: 43<br>Energy: 20<br>Happy: 7",
          "Artist: Young Thug<br>Song: Cruise Ship<br>Dance: 79<br>Energy: 74<br>Happy: 21",
          "Artist: HNNY<br>Song: Tears - Original Mix<br>Dance: 88<br>Energy: 28<br>Happy: 48",
          "Artist: Knuckle Puck<br>Song: Tune You Out<br>Dance: 32<br>Energy: 95<br>Happy: 53",
          "Artist: Curtis Waters,Harm Franklin<br>Song: Stunnin' (feat. Harm Franklin)<br>Dance: 89<br>Energy: 69<br>Happy: 94",
          "Artist: LK<br>Song: (I Wanna) Make Luv 2 U<br>Dance: 77<br>Energy: 80<br>Happy: 73",
          "Artist: Edu Imbernon,Duologue,Tuff City Kids<br>Song: Underworld - Tuff City Kids Remix<br>Dance: 77<br>Energy: 73<br>Happy: 27",
          "Artist: Sakro<br>Song: Everybody Dies Young - Original Mix<br>Dance: 82<br>Energy: 56<br>Happy: 36",
          "Artist: Michel Degen,Mikhu<br>Song: Armonia<br>Dance: 81<br>Energy: 79<br>Happy: 17",
          "Artist: B77<br>Song: Fleur<br>Dance: 77<br>Energy: 60<br>Happy: 24",
          "Artist: Niles Cooper<br>Song: Oldtown Dub<br>Dance: 79<br>Energy: 91<br>Happy: 30",
          "Artist: Coastal<br>Song: Careless<br>Dance: 62<br>Energy: 24<br>Happy: 32",
          "Artist: The Voyagers,Haris,Oliver Heldens<br>Song: A Lot Like Love (feat. Haris) - Oliver Heldens Edit<br>Dance: 82<br>Energy: 82<br>Happy: 45",
          "Artist: The Frightnrs<br>Song: Always<br>Dance: 59<br>Energy: 61<br>Happy: 64",
          "Artist: Friendly Fires<br>Song: Skeleton Boy<br>Dance: 62<br>Energy: 92<br>Happy: 79",
          "Artist: Skyharbor<br>Song: Evolution<br>Dance: 20<br>Energy: 87<br>Happy: 16",
          "Artist: Destiny Potato<br>Song: Indifferent<br>Dance: 54<br>Energy: 91<br>Happy: 38",
          "Artist: Moomin<br>Song: Maybe Tomorrow<br>Dance: 81<br>Energy: 84<br>Happy: 79",
          "Artist: Men I Trust<br>Song: Show Me How<br>Dance: 79<br>Energy: 27<br>Happy: 54",
          "Artist: Men I Trust<br>Song: Tailwhip<br>Dance: 80<br>Energy: 66<br>Happy: 60",
          "Artist: Men I Trust<br>Song: Seven<br>Dance: 69<br>Energy: 42<br>Happy: 83",
          "Artist: Max Graef<br>Song: No 5<br>Dance: 82<br>Energy: 68<br>Happy: 61",
          "Artist: Verzache<br>Song: All I Need<br>Dance: 66<br>Energy: 79<br>Happy: 32",
          "Artist: Hovvdy<br>Song: True Love<br>Dance: 51<br>Energy: 76<br>Happy: 49",
          "Artist: Hovvdy<br>Song: Cathedral<br>Dance: 39<br>Energy: 57<br>Happy: 43",
          "Artist: Kate Bollinger<br>Song: Who Am I But Someone<br>Dance: 56<br>Energy: 50<br>Happy: 79",
          "Artist: Kate Bollinger<br>Song: Yards / Gardens<br>Dance: 80<br>Energy: 55<br>Happy: 74",
          "Artist: Sports Team<br>Song: Cool It Kid<br>Dance: 47<br>Energy: 84<br>Happy: 50",
          "Artist: Surf Curse<br>Song: Freaks<br>Dance: 35<br>Energy: 94<br>Happy: 41",
          "Artist: MICHELLE<br>Song: MESS U MADE<br>Dance: 67<br>Energy: 37<br>Happy: 35",
          "Artist: MICHELLE<br>Song: SUNRISE<br>Dance: 82<br>Energy: 44<br>Happy: 68",
          "Artist: MICHELLE<br>Song: THE BOTTOM<br>Dance: 75<br>Energy: 61<br>Happy: 84",
          "Artist: MICHELLE<br>Song: STUCK ON U<br>Dance: 64<br>Energy: 58<br>Happy: 73",
          "Artist: River Tiber<br>Song: Acid Test<br>Dance: 17<br>Energy: 76<br>Happy: 10",
          "Artist: Dominic Fike<br>Song: Westcoast Collective<br>Dance: 68<br>Energy: 57<br>Happy: 54",
          "Artist: 347aidan<br>Song: Dancing in My Room<br>Dance: 98<br>Energy: 41<br>Happy: 76",
          "Artist: Sudan Archives<br>Song: NBPQ (Topless)<br>Dance: 52<br>Energy: 83<br>Happy: 45",
          "Artist: Oscar Lang,Wallice<br>Song: I've Never Been To LA (Edit)<br>Dance: 51<br>Energy: 77<br>Happy: 60",
          "Artist: Rêve<br>Song: Tongue<br>Dance: 82<br>Energy: 82<br>Happy: 65",
          "Artist: Snail Mail<br>Song: Feeling Like I Do - Spotify Singles<br>Dance: 48<br>Energy: 83<br>Happy: 72",
          "Artist: Snail Mail<br>Song: Pristine<br>Dance: 48<br>Energy: 69<br>Happy: 29",
          "Artist: Zachary Knowles<br>Song: CIGARETTES<br>Dance: 72<br>Energy: 48<br>Happy: 69",
          "Artist: Pete Yorn<br>Song: Strange Condition<br>Dance: 52<br>Energy: 83<br>Happy: 88",
          "Artist: Aaron May,JAY Millz<br>Song: How I Am (feat. Jay Millz)<br>Dance: 71<br>Energy: 38<br>Happy: 55",
          "Artist: Yoshi T.<br>Song: MCQUEEN<br>Dance: 76<br>Energy: 62<br>Happy: 49",
          "Artist: Tom The Mail Man<br>Song: Traveling Alone<br>Dance: 69<br>Energy: 60<br>Happy: 42",
          "Artist: Starjunk 95<br>Song: Groove District<br>Dance: 78<br>Energy: 85<br>Happy: 20",
          "Artist: Obskür<br>Song: Bayside - Radio Edit<br>Dance: 69<br>Energy: 90<br>Happy: 71",
          "Artist: 32 Leaves<br>Song: Never Even There<br>Dance: 43<br>Energy: 79<br>Happy: 44",
          "Artist: 32 Leaves<br>Song: Sudden Change<br>Dance: 18<br>Energy: 88<br>Happy: 36",
          "Artist: 32 Leaves<br>Song: Blood On My Hands<br>Dance: 33<br>Energy: 89<br>Happy: 49",
          "Artist: Lykke Li<br>Song: sex money feelings die<br>Dance: 79<br>Energy: 53<br>Happy: 63",
          "Artist: Blood Orange<br>Song: Charcoal Baby<br>Dance: 62<br>Energy: 46<br>Happy: 51",
          "Artist: Blood Orange<br>Song: You're Not Good Enough<br>Dance: 74<br>Energy: 80<br>Happy: 57",
          "Artist: Taro Asama<br>Song: Hiratsuka’s Summer<br>Dance: 80<br>Energy: 72<br>Happy: 34",
          "Artist: Oden & Fatzo<br>Song: Equinox<br>Dance: 77<br>Energy: 84<br>Happy: 39",
          "Artist: The Smashing Pumpkins<br>Song: 1979 - Remastered 2012<br>Dance: 77<br>Energy: 79<br>Happy: 96",
          "Artist: The Smashing Pumpkins<br>Song: Mayonaise - 2011 Remaster<br>Dance: 48<br>Energy: 53<br>Happy: 9",
          "Artist: Bring Me The Horizon<br>Song: Chelsea Smile<br>Dance: 41<br>Energy: 89<br>Happy: 22",
          "Artist: Underoath<br>Song: Writing On The Walls<br>Dance: 36<br>Energy: 96<br>Happy: 17",
          "Artist: Forever The Sickest Kids<br>Song: She's A Lady<br>Dance: 44<br>Energy: 91<br>Happy: 59",
          "Artist: Forever The Sickest Kids<br>Song: Believe Me, I'm Lying<br>Dance: 40<br>Energy: 90<br>Happy: 60",
          "Artist: August Burns Red<br>Song: Composure<br>Dance: 23<br>Energy: 98<br>Happy: 18",
          "Artist: Forever The Sickest Kids<br>Song: Believe Me, I'm Lying - Original Demo<br>Dance: 50<br>Energy: 88<br>Happy: 72",
          "Artist: Frou Frou<br>Song: Let Go<br>Dance: 52<br>Energy: 56<br>Happy: 20",
          "Artist: Frou Frou,Imogen Heap,Guy Sigsworth<br>Song: A New Kind Of Love - Demo<br>Dance: 67<br>Energy: 49<br>Happy: 33",
          "Artist: Steve Lacy,Fousheé<br>Song: Sunshine (feat. Fousheé)<br>Dance: 70<br>Energy: 69<br>Happy: 74",
          "Artist: From First To Last<br>Song: Note to Self<br>Dance: 21<br>Energy: 94<br>Happy: 31",
          "Artist: tricot<br>Song: なか<br>Dance: 57<br>Energy: 53<br>Happy: 74",
          "Artist: The Fall of Troy<br>Song: Dirty Pillow Talk<br>Dance: 43<br>Energy: 82<br>Happy: 56",
          "Artist: Tian Karl<br>Song: Adjustable Beliefs<br>Dance: 80<br>Energy: 69<br>Happy: 54",
          "Artist: Mr. Fingers<br>Song: Can You Feel It<br>Dance: 68<br>Energy: 50<br>Happy: 67",
          "Artist: Roy Blair<br>Song: FANTAZIA<br>Dance: 87<br>Energy: 53<br>Happy: 65",
          "Artist: Roy Blair<br>Song: Thunder<br>Dance: 67<br>Energy: 32<br>Happy: 16",
          "Artist: Duster<br>Song: Inside Out<br>Dance: 55<br>Energy: 47<br>Happy: 65",
          "Artist: Duster<br>Song: Constellations<br>Dance: 87<br>Energy: 33<br>Happy: 14",
          "Artist: Day Wave<br>Song: Loner<br>Dance: 57<br>Energy: 79<br>Happy: 49",
          "Artist: SALES<br>Song: Renee<br>Dance: 92<br>Energy: 39<br>Happy: 42",
          "Artist: Outlandish<br>Song: Aicha<br>Dance: 74<br>Energy: 64<br>Happy: 63",
          "Artist: Veil Of Maya<br>Song: We Bow In Its Aura<br>Dance: 35<br>Energy: 96<br>Happy: 26",
          "Artist: Veil Of Maya<br>Song: Namaste<br>Dance: 36<br>Energy: 91<br>Happy: 32",
          "Artist: Veil Of Maya<br>Song: Crawl Back<br>Dance: 43<br>Energy: 83<br>Happy: 29",
          "Artist: Born Of Osiris<br>Song: Abstract Art<br>Dance: 35<br>Energy: 98<br>Happy: 41",
          "Artist: Job For A Cowboy<br>Song: Entombment of a Machine<br>Dance: 20<br>Energy: 97<br>Happy: 22",
          "Artist: Tyler Burkhart<br>Song: Just how I love you<br>Dance: 65<br>Energy: 16<br>Happy: 5",
          "Artist: Champion,Etta Bond,Double S<br>Song: On A Beach - Champion Remix<br>Dance: 83<br>Energy: 71<br>Happy: 54",
          "Artist: Allure<br>Song: Glow<br>Dance: 77<br>Energy: 82<br>Happy: 63",
          "Artist: ROSALÍA<br>Song: PIENSO EN TU MIRÁ - Cap.3: Celos<br>Dance: 66<br>Energy: 69<br>Happy: 41",
          "Artist: Jesse Maas,Limitu<br>Song: Untitled 1<br>Dance: 80<br>Energy: 79<br>Happy: 81",
          "Artist: Totally Enormous Extinct Dinosaurs<br>Song: A Dream I Have<br>Dance: 78<br>Energy: 82<br>Happy: 33",
          "Artist: Kat Leigh<br>Song: Somebody Else<br>Dance: 21<br>Energy: 70<br>Happy: 29",
          "Artist: KLARDUST<br>Song: The Key - Radio Edit<br>Dance: 79<br>Energy: 75<br>Happy: 51",
          "Artist: Obscura<br>Song: The Anticosmic Overload<br>Dance: 53<br>Energy: 98<br>Happy: 22",
          "Artist: Mellow Fellow,Clairo<br>Song: How Was Your Day?<br>Dance: 45<br>Energy: 44<br>Happy: 78",
          "Artist: Garbage<br>Song: Even Though Our Love Is Doomed<br>Dance: 53<br>Energy: 41<br>Happy: 5",
          "Artist: fun.,Janelle Monáe<br>Song: We Are Young (feat. Janelle Monáe)<br>Dance: 38<br>Energy: 64<br>Happy: 74",
          "Artist: fun.<br>Song: Some Nights<br>Dance: 67<br>Energy: 74<br>Happy: 39",
          "Artist: Wild Party<br>Song: OutRight<br>Dance: 55<br>Energy: 82<br>Happy: 57",
          "Artist: Lil Halima<br>Song: Would U<br>Dance: 75<br>Energy: 34<br>Happy: 37",
          "Artist: Slow Pulp<br>Song: Preoccupied<br>Dance: 69<br>Energy: 72<br>Happy: 76",
          "Artist: Happy Dagger<br>Song: Lament<br>Dance: 81<br>Energy: 66<br>Happy: 67",
          "Artist: Limp Bizkit<br>Song: Behind Blue Eyes<br>Dance: 60<br>Energy: 49<br>Happy: 9",
          "Artist: Belmont<br>Song: Overstepping<br>Dance: 53<br>Energy: 99<br>Happy: 47",
          "Artist: Steve Lacy<br>Song: Bad Habit<br>Dance: 69<br>Energy: 49<br>Happy: 70",
          "Artist: Girls of the Internet<br>Song: When U Go<br>Dance: 87<br>Energy: 33<br>Happy: 61",
          "Artist: Lee Foss,Infinity Ink<br>Song: Till The Light<br>Dance: 88<br>Energy: 61<br>Happy: 83",
          "Artist: Sacha Distel<br>Song: N 1 For Sacha<br>Dance: 67<br>Energy: 24<br>Happy: 83",
          "Artist: Tchami,Kaleem Taylor<br>Song: Promesses - Radio Edit<br>Dance: 72<br>Energy: 78<br>Happy: 51",
          "Artist: AlunaGeorge,Tchami<br>Song: You Know You Like It - Tchami Remix<br>Dance: 82<br>Energy: 84<br>Happy: 59",
          "Artist: Polyphia,Mateus Asato<br>Song: Drown (feat. Mateus Asato)<br>Dance: 61<br>Energy: 83<br>Happy: 18",
          "Artist: The Kooks<br>Song: She Moves In Her Own Way<br>Dance: 43<br>Energy: 81<br>Happy: 80",
          "Artist: The Kooks<br>Song: Naive<br>Dance: 55<br>Energy: 82<br>Happy: 72",
          "Artist: Junior H<br>Song: Se Amerita<br>Dance: 75<br>Energy: 72<br>Happy: 54",
          "Artist: Junior H<br>Song: Clave Ali<br>Dance: 65<br>Energy: 70<br>Happy: 61",
          "Artist: Junior H<br>Song: No Me Pesa<br>Dance: 51<br>Energy: 74<br>Happy: 51",
          "Artist: Natanael Cano<br>Song: El Drip<br>Dance: 73<br>Energy: 70<br>Happy: 87",
          "Artist: Unusual Demont<br>Song: AMBER<br>Dance: 88<br>Energy: 76<br>Happy: 70",
          "Artist: Momma<br>Song: Speeding 72<br>Dance: 58<br>Energy: 80<br>Happy: 80",
          "Artist: Eiafuawn<br>Song: No More Like That<br>Dance: 83<br>Energy: 43<br>Happy: 87",
          "Artist: Blue Smiley<br>Song: control<br>Dance: 38<br>Energy: 64<br>Happy: 41",
          "Artist: Bien et Toi,sophie meiers,carpetgarden<br>Song: Topo (feat. sophie meiers & carpetgarden)<br>Dance: 86<br>Energy: 60<br>Happy: 43",
          "Artist: Spilly Cave<br>Song: minutia<br>Dance: 75<br>Energy: 47<br>Happy: 43",
          "Artist: Washed Out<br>Song: Feel It All Around<br>Dance: 34<br>Energy: 74<br>Happy: 50",
          "Artist: Eiafuawn<br>Song: The Coffin Was So Light I Thought It Might Float Away<br>Dance: 77<br>Energy: 38<br>Happy: 37",
          "Artist: Hovvdy<br>Song: Ruby<br>Dance: 59<br>Energy: 92<br>Happy: 80",
          "Artist: Momma<br>Song: Medicine<br>Dance: 67<br>Energy: 73<br>Happy: 82",
          "Artist: Focus<br>Song: Hocus Pocus - Original Single Version<br>Dance: 27<br>Energy: 82<br>Happy: 43",
          "Artist: Kosmo Kint,Atjazz<br>Song: Too Big - Atjazz Remix<br>Dance: 80<br>Energy: 73<br>Happy: 17",
          "Artist: Coral O'Connor<br>Song: High Fashion<br>Dance: 79<br>Energy: 87<br>Happy: 21",
          "Artist: St. Vincent<br>Song: Masseduction<br>Dance: 70<br>Energy: 60<br>Happy: 44",
          "Artist: St. Vincent<br>Song: New York<br>Dance: 37<br>Energy: 45<br>Happy: 33",
          "Artist: V.I.C.A.R.I.<br>Song: Pascià (Dub)<br>Dance: 79<br>Energy: 58<br>Happy: 95",
          "Artist: Carlo,Retromigration<br>Song: Earth Two<br>Dance: 80<br>Energy: 78<br>Happy: 76",
          "Artist: Black Loops,Nikoss,Seven Davis Jr<br>Song: Remind Me<br>Dance: 82<br>Energy: 48<br>Happy: 83",
          "Artist: V.I.C.A.R.I.<br>Song: Pascià<br>Dance: 81<br>Energy: 59<br>Happy: 71",
          "Artist: Russ<br>Song: Psycho, Pt. 2<br>Dance: 77<br>Energy: 55<br>Happy: 42",
          "Artist: Marsicans<br>Song: Friends<br>Dance: 44<br>Energy: 47<br>Happy: 52",
          "Artist: Elli Ingram<br>Song: Sweet & Sour<br>Dance: 64<br>Energy: 60<br>Happy: 56",
          "Artist: Matisse<br>Song: Cuando Te Encontré<br>Dance: 67<br>Energy: 82<br>Happy: 65",
          "Artist: Matisse<br>Song: Más Que Amigos<br>Dance: 64<br>Energy: 71<br>Happy: 74",
          "Artist: CamelPhat,Elderbrook<br>Song: Cola<br>Dance: 71<br>Energy: 74<br>Happy: 44",
          "Artist: monte booker,Naji<br>Song: Mona Lisa<br>Dance: 49<br>Energy: 43<br>Happy: 33",
          "Artist: Eve,Gwen Stefani<br>Song: Let Me Blow Ya Mind<br>Dance: 91<br>Energy: 56<br>Happy: 90",
          "Artist: Flume,Jezzabell Doran<br>Song: Sleepless<br>Dance: 53<br>Energy: 69<br>Happy: 39",
          "Artist: The Backseat Lovers<br>Song: Growing/Dying<br>Dance: 47<br>Energy: 40<br>Happy: 24",
          "Artist: Steve Lacy<br>Song: C U Girl<br>Dance: 41<br>Energy: 47<br>Happy: 41",
          "Artist: Steve Lacy<br>Song: Some<br>Dance: 78<br>Energy: 55<br>Happy: 63",
          "Artist: Dreamer Isioma<br>Song: Sensitive<br>Dance: 60<br>Energy: 65<br>Happy: 35",
          "Artist: NEIKED,Mae Muller,Polo G<br>Song: Better Days (NEIKED x Mae Muller x Polo G)<br>Dance: 72<br>Energy: 67<br>Happy: 70",
          "Artist: The Drums<br>Song: Money<br>Dance: 60<br>Energy: 92<br>Happy: 45",
          "Artist: No Vacation<br>Song: Dræm Girl<br>Dance: 19<br>Energy: 95<br>Happy: 26",
          "Artist: Vacations<br>Song: Young<br>Dance: 50<br>Energy: 81<br>Happy: 59",
          "Artist: Current Joys<br>Song: New Flesh<br>Dance: 62<br>Energy: 59<br>Happy: 70",
          "Artist: The Backseat Lovers<br>Song: Just a Boy<br>Dance: 59<br>Energy: 53<br>Happy: 30",
          "Artist: WILLOW<br>Song: curious/furious<br>Dance: 55<br>Energy: 75<br>Happy: 69",
          "Artist: Phoenix,Ezra Koenig<br>Song: Tonight (feat. Ezra Koenig)<br>Dance: 67<br>Energy: 74<br>Happy: 89",
          "Artist: Wunderhorse<br>Song: Leader of the Pack<br>Dance: 51<br>Energy: 97<br>Happy: 59",
          "Artist: Dreamer Isioma<br>Song: Meadows in Japan<br>Dance: 62<br>Energy: 34<br>Happy: 37",
          "Artist: Wunderhorse<br>Song: Atlantis<br>Dance: 46<br>Energy: 47<br>Happy: 23",
          "Artist: beabadoobee<br>Song: Tired<br>Dance: 63<br>Energy: 42<br>Happy: 35",
          "Artist: beabadoobee<br>Song: Coffee<br>Dance: 53<br>Energy: 14<br>Happy: 30",
          "Artist: Stacey Ryan<br>Song: Fall In Love Alone<br>Dance: 68<br>Energy: 63<br>Happy: 52",
          "Artist: Beach Bunny<br>Song: Prom Queen<br>Dance: 53<br>Energy: 80<br>Happy: 75",
          "Artist: Sushi Soucy<br>Song: I Deserve to Bleed<br>Dance: 76<br>Energy: 28<br>Happy: 60",
          "Artist: Sushi Soucy<br>Song: Do I Deserve It<br>Dance: 73<br>Energy: 17<br>Happy: 41",
          "Artist: Doll Spirit Vessel<br>Song: Sun Death<br>Dance: 73<br>Energy: 53<br>Happy: 39",
          "Artist: Ian Pooley<br>Song: Venasque<br>Dance: 76<br>Energy: 76<br>Happy: 96",
          "Artist: Bulldog Eyes<br>Song: Blister<br>Dance: 47<br>Energy: 54<br>Happy: 48",
          "Artist: Linkin Park,DJ Babu,Pharoahe Monch,Evidence<br>Song: H! Vltg3 (Evidence Reanimation) [feat. Pharoahe Monch and DJ Babu]<br>Dance: 66<br>Energy: 94<br>Happy: 60",
          "Artist: Valencia<br>Song: The Space Between<br>Dance: 38<br>Energy: 85<br>Happy: 41",
          "Artist: Press Club<br>Song: Eugene - Single Edit<br>Dance: 23<br>Energy: 94<br>Happy: 35",
          "Artist: Dezma<br>Song: Life Is But A Mere Supply<br>Dance: 66<br>Energy: 91<br>Happy: 82",
          "Artist: Sol<br>Song: Paint<br>Dance: 89<br>Energy: 82<br>Happy: 67",
          "Artist: Mr.Kitty<br>Song: After Dark<br>Dance: 59<br>Energy: 60<br>Happy: 4",
          "Artist: Frou Frou<br>Song: Breathe In<br>Dance: 75<br>Energy: 72<br>Happy: 76",
          "Artist: Trade Wind<br>Song: Weather Eyes<br>Dance: 46<br>Energy: 49<br>Happy: 12",
          "Artist: Remi Wolf<br>Song: Quiet On Set<br>Dance: 84<br>Energy: 57<br>Happy: 65",
          "Artist: yunè pinku<br>Song: DC Rot<br>Dance: 69<br>Energy: 87<br>Happy: 59",
          "Artist: Logic1000,yunè pinku<br>Song: What You Like<br>Dance: 79<br>Energy: 54<br>Happy: 60",
          "Artist: Doss<br>Song: Look<br>Dance: 79<br>Energy: 83<br>Happy: 68",
          "Artist: blackwave.,Abhi The Nomad<br>Song: a-okay<br>Dance: 83<br>Energy: 57<br>Happy: 59",
          "Artist: blackwave.,Lute<br>Song: cracked screen<br>Dance: 85<br>Energy: 50<br>Happy: 57",
          "Artist: SOFY<br>Song: Big Talk<br>Dance: 69<br>Energy: 56<br>Happy: 66",
          "Artist: Willow Kayne<br>Song: White City<br>Dance: 62<br>Energy: 80<br>Happy: 30",
          "Artist: The Rare Occasions<br>Song: Notion<br>Dance: 31<br>Energy: 88<br>Happy: 31",
          "Artist: the bird and the bee<br>Song: Again & Again<br>Dance: 57<br>Energy: 77<br>Happy: 41",
          "Artist: Ruby Empress<br>Song: Deluca<br>Dance: 51<br>Energy: 50<br>Happy: 34",
          "Artist: Anne-Marie,Nelson Oliver<br>Song: Alarm - Oliver Nelson Remix<br>Dance: 54<br>Energy: 81<br>Happy: 81",
          "Artist: Light Jazz Academy<br>Song: Walk In Blue<br>Dance: 48<br>Energy: 21<br>Happy: 35",
          "Artist: The M Machine,Blake Hazard<br>Song: The Palace (feat. Blake Hazard)<br>Dance: 42<br>Energy: 64<br>Happy: 8",
          "Artist: Blue Foundation,Zeds Dead<br>Song: Eyes on Fire - Zeds Dead Remix<br>Dance: 61<br>Energy: 73<br>Happy: 32",
          "Artist: LF SYSTEM<br>Song: Afraid To Feel<br>Dance: 58<br>Energy: 91<br>Happy: 68",
          "Artist: Tony Romera,Karina Ramage,Badjokes<br>Song: My Mind - Badjokes Remix<br>Dance: 80<br>Energy: 72<br>Happy: 39",
          "Artist: James Hype,Miggy Dela Rosa<br>Song: Ferrari<br>Dance: 85<br>Energy: 69<br>Happy: 69",
          "Artist: Destroy Lonely<br>Song: NOSTYLIST<br>Dance: 57<br>Energy: 77<br>Happy: 50",
          "Artist: The Moth & The Flame<br>Song: Young & Unafraid<br>Dance: 51<br>Energy: 82<br>Happy: 28",
          "Artist: Skee-Lo<br>Song: I Wish<br>Dance: 67<br>Energy: 81<br>Happy: 57",
          "Artist: Estelle,Kanye West<br>Song: American Boy<br>Dance: 69<br>Energy: 73<br>Happy: 52",
          "Artist: Jack Thammarat,MAY PATCHARAPONG,Mong Kridsana<br>Song: On the Way<br>Dance: 36<br>Energy: 94<br>Happy: 55",
          "Artist: Russ<br>Song: Missin You Crazy<br>Dance: 72<br>Energy: 73<br>Happy: 28",
          "Artist: Firehorse<br>Song: Good<br>Dance: 58<br>Energy: 65<br>Happy: 60",
          "Artist: Fabich,Pastel,Jafunk,Bambie<br>Song: Ecstasy<br>Dance: 69<br>Energy: 79<br>Happy: 56",
          "Artist: Bell Biv DeVoe<br>Song: Poison<br>Dance: 84<br>Energy: 56<br>Happy: 78",
          "Artist: Setenta<br>Song: Boys and Girls<br>Dance: 66<br>Energy: 68<br>Happy: 38",
          "Artist: CAZZETTE,The High<br>Song: Sleepless - Radio Edit<br>Dance: 72<br>Energy: 60<br>Happy: 56",
          "Artist: Lorn<br>Song: Soft Room<br>Dance: 42<br>Energy: 87<br>Happy: 20",
          "Artist: Floating Points<br>Song: King Bromeliad<br>Dance: 90<br>Energy: 47<br>Happy: 29",
          "Artist: Dan Kye<br>Song: Change<br>Dance: 92<br>Energy: 94<br>Happy: 92",
          "Artist: Dan Kye<br>Song: Tolle<br>Dance: 69<br>Energy: 59<br>Happy: 71",
          "Artist: The Beatles<br>Song: Penny Lane<br>Dance: 63<br>Energy: 39<br>Happy: 65",
          "Artist: The Beatles<br>Song: Help! - Remastered 2009<br>Dance: 53<br>Energy: 73<br>Happy: 76",
          "Artist: Crazy Town<br>Song: Butterfly<br>Dance: 74<br>Energy: 81<br>Happy: 61",
          "Artist: Avenged Sevenfold<br>Song: Dear God<br>Dance: 47<br>Energy: 77<br>Happy: 60",
          "Artist: PLAYAMANE,Nateki<br>Song: MIDNIGHT<br>Dance: 63<br>Energy: 43<br>Happy: 37",
          "Artist: Taylor Dayne<br>Song: Tell It to My Heart<br>Dance: 64<br>Energy: 99<br>Happy: 72",
          "Artist: d4vd<br>Song: Here With Me<br>Dance: 57<br>Energy: 47<br>Happy: 29",
          "Artist: d4vd<br>Song: Romantic Homicide<br>Dance: 57<br>Energy: 54<br>Happy: 22",
          "Artist: Joji<br>Song: SLOW DANCING IN THE DARK<br>Dance: 52<br>Energy: 48<br>Happy: 28",
          "Artist: Joji<br>Song: YEAH RIGHT<br>Dance: 67<br>Energy: 59<br>Happy: 20",
          "Artist: KAWALA<br>Song: Moonlight<br>Dance: 63<br>Energy: 64<br>Happy: 64",
          "Artist: Thundercat<br>Song: Dragonball Durag<br>Dance: 65<br>Energy: 59<br>Happy: 40",
          "Artist: Grouplove<br>Song: Tongue Tied<br>Dance: 56<br>Energy: 94<br>Happy: 37",
          "Artist: KAWALA<br>Song: Ticket To Ride<br>Dance: 59<br>Energy: 80<br>Happy: 75",
          "Artist: Black Eyed Peas<br>Song: Meet Me Halfway<br>Dance: 80<br>Energy: 63<br>Happy: 40",
          "Artist: Black Eyed Peas<br>Song: I Gotta Feeling<br>Dance: 74<br>Energy: 77<br>Happy: 61",
          "Artist: Black Eyed Peas<br>Song: Hey Mama<br>Dance: 87<br>Energy: 88<br>Happy: 94",
          "Artist: Black Eyed Peas<br>Song: Where Is The Love?<br>Dance: 83<br>Energy: 70<br>Happy: 81",
          "Artist: Black Eyed Peas<br>Song: Let's Get It Started - Spike Mix<br>Dance: 78<br>Energy: 79<br>Happy: 81",
          "Artist: Modjo<br>Song: Lady - Hear Me Tonight<br>Dance: 72<br>Energy: 81<br>Happy: 87",
          "Artist: Gym Class Heroes<br>Song: Cupid's Chokehold / Breakfast in America - Radio Mix<br>Dance: 58<br>Energy: 68<br>Happy: 82",
          "Artist: Nelly Furtado,Timbaland<br>Song: Promiscuous<br>Dance: 81<br>Energy: 97<br>Happy: 87",
          "Artist: Black Eyed Peas<br>Song: Shut Up<br>Dance: 81<br>Energy: 72<br>Happy: 58",
          "Artist: Rema<br>Song: Dumebi<br>Dance: 92<br>Energy: 66<br>Happy: 73",
          "Artist: Claire Laffut<br>Song: Vérité<br>Dance: 74<br>Energy: 53<br>Happy: 54",
          "Artist: Ayra Starr<br>Song: Bloody Samaritan<br>Dance: 80<br>Energy: 72<br>Happy: 24",
          "Artist: Prince<br>Song: Kiss<br>Dance: 90<br>Energy: 27<br>Happy: 74",
          "Artist: Vacationer<br>Song: Paradise Waiting<br>Dance: 77<br>Energy: 55<br>Happy: 85",
          "Artist: Vacationer<br>Song: Magnetism<br>Dance: 76<br>Energy: 80<br>Happy: 88",
          "Artist: Rob Araujo<br>Song: no, regrets<br>Dance: 80<br>Energy: 34<br>Happy: 60",
          "Artist: Amber Mark<br>Song: Lose My Cool<br>Dance: 72<br>Energy: 48<br>Happy: 32",
          "Artist: Smash Mouth<br>Song: All Star<br>Dance: 74<br>Energy: 88<br>Happy: 80",
          "Artist: Los Retros<br>Song: Friends<br>Dance: 83<br>Energy: 69<br>Happy: 96",
          "Artist: Anomalie<br>Song: Bond<br>Dance: 68<br>Energy: 54<br>Happy: 36",
          "Artist: Anomalie<br>Song: Velours<br>Dance: 54<br>Energy: 47<br>Happy: 45"
         ],
         "marker": {
          "color": [
           64,
           63,
           34,
           53,
           47,
           59,
           69,
           57,
           30,
           51,
           4,
           88,
           35,
           80,
           69,
           34,
           97,
           49,
           51,
           44,
           56,
           59,
           78,
           53,
           78,
           39,
           46,
           47,
           55,
           63,
           23,
           54,
           91,
           60,
           58,
           64,
           55,
           52,
           69,
           50,
           35,
           68,
           69,
           83,
           8,
           75,
           47,
           70,
           13,
           62,
           37,
           74,
           43,
           34,
           85,
           37,
           23,
           75,
           83,
           67,
           82,
           51,
           46,
           44,
           68,
           54,
           84,
           88,
           46,
           36,
           54,
           92,
           68,
           65,
           46,
           77,
           22,
           68,
           61,
           17,
           87,
           79,
           59,
           97,
           61,
           65,
           37,
           36,
           38,
           34,
           10,
           50,
           51,
           34,
           83,
           33,
           73,
           13,
           49,
           79,
           51,
           35,
           28,
           83,
           67,
           53,
           44,
           52,
           35,
           63,
           39,
           67,
           69,
           76,
           89,
           34,
           69,
           61,
           41,
           64,
           68,
           64,
           86,
           43,
           8,
           34,
           23,
           63,
           73,
           54,
           72,
           56,
           37,
           49,
           67,
           39,
           43,
           37,
           78,
           78,
           71,
           71,
           46,
           66,
           32,
           20,
           29,
           70,
           70,
           71,
           62,
           93,
           86,
           79,
           79,
           88,
           57,
           45,
           43,
           96,
           50,
           66,
           50,
           75,
           68,
           49,
           53,
           75,
           70,
           39,
           48,
           25,
           83,
           73,
           52,
           13,
           87,
           37,
           41,
           53,
           33,
           84,
           45,
           81,
           64,
           65,
           65,
           66,
           47,
           94,
           83,
           41,
           70,
           25,
           84,
           61,
           57,
           78,
           46,
           86,
           69,
           56,
           43,
           29,
           64,
           26,
           54,
           49,
           48,
           79,
           39,
           40,
           90,
           97,
           31,
           37,
           54,
           95,
           53,
           73,
           48,
           39,
           54,
           53,
           91,
           51,
           49,
           53,
           17,
           27,
           71,
           65,
           81,
           36,
           30,
           74,
           26,
           52,
           48,
           71,
           31,
           67,
           25,
           92,
           62,
           96,
           45,
           22,
           41,
           86,
           22,
           85,
           73,
           40,
           74,
           53,
           50,
           41,
           60,
           34,
           39,
           93,
           93,
           80,
           34,
           77,
           32,
           84,
           58,
           63,
           87,
           54,
           16,
           44,
           32,
           32,
           19,
           47,
           93,
           14,
           94,
           79,
           51,
           56,
           66,
           86,
           36,
           87,
           85,
           24,
           97,
           27,
           32,
           18,
           69,
           55,
           40,
           71,
           58,
           50,
           23,
           95,
           47,
           96,
           76,
           7,
           79,
           51,
           18,
           35,
           57,
           59,
           20,
           59,
           26,
           87,
           67,
           54,
           33,
           53,
           54,
           89,
           51,
           44,
           48,
           32,
           69,
           30,
           74,
           71,
           72,
           45,
           64,
           93,
           78,
           62,
           64,
           90,
           77,
           66,
           87,
           79,
           66,
           50,
           82,
           24,
           69,
           84,
           74,
           51,
           51,
           90,
           55,
           59,
           41,
           83,
           45,
           78,
           56,
           58,
           66,
           57,
           86,
           70,
           56,
           85,
           55,
           98,
           82,
           69,
           49,
           39,
           55,
           42,
           49,
           45,
           53,
           56,
           66,
           32,
           77,
           73,
           96,
           16,
           27,
           57,
           35,
           54,
           24,
           34,
           20,
           54,
           53,
           84,
           85,
           72,
           79,
           61,
           83,
           39,
           50,
           83,
           4,
           48,
           21,
           97,
           74,
           19,
           66,
           56,
           51,
           67,
           58,
           22,
           70,
           38,
           72,
           67,
           51,
           54,
           68,
           53,
           20,
           72,
           14,
           66,
           79,
           96,
           38,
           71,
           34,
           93,
           7,
           21,
           48,
           53,
           94,
           73,
           27,
           36,
           17,
           24,
           30,
           32,
           45,
           64,
           79,
           16,
           38,
           79,
           54,
           60,
           83,
           61,
           32,
           49,
           43,
           79,
           74,
           50,
           41,
           35,
           68,
           84,
           73,
           10,
           54,
           76,
           45,
           60,
           65,
           72,
           29,
           69,
           88,
           55,
           49,
           42,
           20,
           71,
           44,
           36,
           49,
           63,
           51,
           57,
           34,
           39,
           96,
           9,
           22,
           17,
           59,
           60,
           18,
           72,
           20,
           33,
           74,
           31,
           74,
           56,
           54,
           67,
           65,
           16,
           65,
           14,
           49,
           42,
           63,
           26,
           32,
           29,
           41,
           22,
           5,
           54,
           63,
           41,
           81,
           33,
           29,
           51,
           22,
           78,
           5,
           74,
           39,
           57,
           37,
           76,
           67,
           9,
           47,
           70,
           61,
           83,
           83,
           51,
           59,
           18,
           80,
           72,
           54,
           61,
           51,
           87,
           70,
           80,
           87,
           41,
           43,
           43,
           50,
           37,
           80,
           82,
           43,
           17,
           21,
           44,
           33,
           95,
           76,
           83,
           71,
           42,
           52,
           56,
           65,
           74,
           44,
           33,
           90,
           39,
           24,
           41,
           63,
           35,
           70,
           45,
           26,
           59,
           70,
           30,
           69,
           89,
           59,
           37,
           23,
           35,
           30,
           52,
           75,
           60,
           41,
           39,
           96,
           48,
           60,
           41,
           35,
           82,
           67,
           4,
           76,
           12,
           65,
           59,
           60,
           68,
           59,
           57,
           66,
           30,
           31,
           41,
           34,
           81,
           35,
           8,
           32,
           68,
           39,
           69,
           50,
           28,
           57,
           52,
           55,
           28,
           60,
           56,
           78,
           38,
           56,
           20,
           29,
           92,
           71,
           65,
           76,
           61,
           60,
           37,
           72,
           29,
           22,
           28,
           20,
           64,
           40,
           37,
           75,
           40,
           61,
           94,
           81,
           81,
           87,
           82,
           87,
           58,
           73,
           54,
           24,
           74,
           85,
           88,
           60,
           32,
           80,
           96,
           36,
           45
          ],
          "colorbar": {
           "title": {
            "text": "Happy"
           }
          },
          "colorscale": [
           [
            0,
            "rgb(209, 238, 234)"
           ],
           [
            0.16666666666666666,
            "rgb(168, 219, 217)"
           ],
           [
            0.3333333333333333,
            "rgb(133, 196, 201)"
           ],
           [
            0.5,
            "rgb(104, 171, 184)"
           ],
           [
            0.6666666666666666,
            "rgb(79, 144, 166)"
           ],
           [
            0.8333333333333334,
            "rgb(59, 115, 143)"
           ],
           [
            1,
            "rgb(42, 86, 116)"
           ]
          ],
          "line": {
           "width": 1
          },
          "showscale": true,
          "size": 10
         },
         "mode": "markers",
         "type": "scatter",
         "x": [
          80,
          86,
          79,
          64,
          75,
          90,
          75,
          66,
          58,
          65,
          79,
          78,
          78,
          51,
          85,
          55,
          84,
          83,
          94,
          73,
          64,
          79,
          56,
          67,
          79,
          75,
          81,
          71,
          64,
          82,
          80,
          69,
          81,
          89,
          79,
          58,
          65,
          64,
          85,
          76,
          64,
          79,
          83,
          84,
          83,
          79,
          75,
          80,
          79,
          77,
          43,
          53,
          42,
          29,
          84,
          68,
          39,
          91,
          81,
          66,
          80,
          68,
          62,
          61,
          78,
          63,
          71,
          80,
          79,
          81,
          82,
          75,
          84,
          73,
          84,
          72,
          52,
          56,
          61,
          51,
          61,
          61,
          66,
          63,
          70,
          80,
          75,
          53,
          57,
          83,
          87,
          56,
          69,
          67,
          54,
          79,
          93,
          80,
          50,
          93,
          74,
          81,
          66,
          75,
          62,
          80,
          84,
          47,
          93,
          84,
          40,
          80,
          68,
          64,
          58,
          68,
          46,
          52,
          66,
          57,
          66,
          64,
          92,
          82,
          59,
          52,
          78,
          88,
          77,
          75,
          71,
          60,
          60,
          54,
          79,
          90,
          84,
          50,
          58,
          70,
          67,
          68,
          54,
          48,
          71,
          54,
          50,
          56,
          54,
          90,
          79,
          77,
          51,
          84,
          73,
          70,
          80,
          86,
          72,
          59,
          74,
          67,
          89,
          64,
          73,
          38,
          89,
          88,
          85,
          67,
          56,
          20,
          80,
          58,
          32,
          88,
          61,
          58,
          24,
          56,
          59,
          65,
          69,
          83,
          80,
          82,
          54,
          85,
          46,
          68,
          51,
          35,
          80,
          59,
          86,
          39,
          61,
          66,
          45,
          53,
          72,
          85,
          59,
          18,
          51,
          64,
          51,
          68,
          55,
          48,
          20,
          36,
          64,
          84,
          80,
          61,
          47,
          75,
          78,
          68,
          62,
          45,
          62,
          60,
          77,
          64,
          58,
          64,
          21,
          20,
          75,
          63,
          53,
          63,
          50,
          53,
          49,
          54,
          55,
          70,
          68,
          63,
          70,
          70,
          76,
          82,
          67,
          49,
          51,
          69,
          80,
          81,
          77,
          73,
          79,
          82,
          30,
          26,
          60,
          62,
          69,
          77,
          80,
          86,
          82,
          68,
          92,
          74,
          79,
          72,
          65,
          62,
          65,
          61,
          41,
          57,
          38,
          75,
          82,
          79,
          74,
          64,
          74,
          57,
          42,
          70,
          77,
          80,
          66,
          71,
          86,
          56,
          60,
          85,
          65,
          69,
          94,
          87,
          73,
          59,
          55,
          84,
          90,
          67,
          75,
          40,
          79,
          61,
          44,
          55,
          96,
          72,
          58,
          83,
          75,
          88,
          60,
          68,
          33,
          75,
          69,
          69,
          81,
          72,
          66,
          55,
          88,
          80,
          81,
          87,
          77,
          86,
          56,
          82,
          69,
          50,
          82,
          83,
          66,
          25,
          53,
          89,
          51,
          71,
          76,
          60,
          87,
          92,
          65,
          66,
          80,
          75,
          63,
          71,
          79,
          77,
          50,
          60,
          68,
          80,
          36,
          58,
          74,
          77,
          92,
          67,
          65,
          70,
          79,
          89,
          83,
          69,
          69,
          48,
          79,
          80,
          73,
          71,
          65,
          56,
          79,
          83,
          85,
          56,
          70,
          77,
          78,
          83,
          71,
          41,
          27,
          74,
          47,
          74,
          65,
          40,
          78,
          66,
          77,
          81,
          52,
          84,
          23,
          59,
          72,
          76,
          66,
          25,
          73,
          78,
          89,
          66,
          60,
          30,
          24,
          66,
          54,
          42,
          82,
          69,
          76,
          76,
          72,
          81,
          82,
          90,
          53,
          79,
          95,
          76,
          51,
          74,
          43,
          79,
          88,
          32,
          89,
          77,
          77,
          82,
          81,
          77,
          79,
          62,
          82,
          59,
          62,
          20,
          54,
          81,
          79,
          80,
          69,
          82,
          66,
          51,
          39,
          56,
          80,
          47,
          35,
          67,
          82,
          75,
          64,
          17,
          68,
          98,
          52,
          51,
          82,
          48,
          48,
          72,
          52,
          71,
          76,
          69,
          78,
          69,
          43,
          18,
          33,
          79,
          62,
          74,
          80,
          77,
          77,
          48,
          41,
          36,
          44,
          40,
          23,
          50,
          52,
          67,
          70,
          21,
          57,
          43,
          80,
          68,
          87,
          67,
          55,
          87,
          57,
          92,
          74,
          35,
          36,
          43,
          35,
          20,
          65,
          83,
          77,
          66,
          80,
          78,
          21,
          79,
          53,
          45,
          53,
          38,
          67,
          55,
          75,
          69,
          81,
          60,
          53,
          69,
          87,
          88,
          67,
          72,
          82,
          61,
          43,
          55,
          75,
          65,
          51,
          73,
          88,
          58,
          83,
          38,
          86,
          75,
          34,
          77,
          59,
          67,
          27,
          80,
          79,
          70,
          37,
          79,
          80,
          82,
          81,
          77,
          44,
          64,
          67,
          64,
          71,
          49,
          91,
          53,
          47,
          41,
          78,
          60,
          72,
          60,
          19,
          50,
          62,
          59,
          55,
          67,
          51,
          62,
          46,
          63,
          53,
          68,
          53,
          76,
          73,
          73,
          76,
          47,
          66,
          38,
          23,
          66,
          89,
          59,
          75,
          46,
          84,
          69,
          79,
          79,
          83,
          85,
          69,
          62,
          31,
          57,
          51,
          54,
          48,
          42,
          61,
          58,
          80,
          85,
          57,
          51,
          67,
          69,
          36,
          72,
          58,
          69,
          84,
          66,
          72,
          42,
          90,
          92,
          69,
          63,
          53,
          74,
          47,
          63,
          64,
          57,
          57,
          52,
          67,
          63,
          65,
          56,
          59,
          80,
          74,
          87,
          83,
          78,
          72,
          58,
          81,
          81,
          92,
          74,
          80,
          90,
          77,
          76,
          80,
          72,
          74,
          83,
          68,
          54
         ],
         "y": [
          58,
          66,
          70,
          52,
          84,
          46,
          78,
          81,
          71,
          63,
          47,
          44,
          38,
          97,
          67,
          67,
          67,
          77,
          67,
          63,
          70,
          86,
          74,
          62,
          96,
          70,
          88,
          63,
          66,
          74,
          69,
          41,
          98,
          60,
          62,
          77,
          65,
          91,
          77,
          71,
          45,
          89,
          93,
          64,
          60,
          92,
          68,
          86,
          84,
          91,
          85,
          94,
          94,
          99,
          33,
          79,
          59,
          60,
          84,
          67,
          51,
          61,
          60,
          69,
          56,
          70,
          69,
          69,
          50,
          46,
          91,
          67,
          90,
          64,
          36,
          90,
          59,
          94,
          95,
          50,
          96,
          91,
          74,
          91,
          70,
          33,
          62,
          59,
          80,
          42,
          67,
          87,
          55,
          43,
          51,
          37,
          76,
          59,
          62,
          52,
          80,
          84,
          63,
          24,
          54,
          64,
          48,
          93,
          44,
          56,
          74,
          50,
          58,
          93,
          89,
          70,
          90,
          87,
          61,
          96,
          87,
          91,
          72,
          52,
          62,
          27,
          55,
          52,
          54,
          64,
          59,
          46,
          65,
          62,
          69,
          66,
          73,
          69,
          57,
          55,
          77,
          63,
          71,
          73,
          47,
          62,
          50,
          85,
          71,
          54,
          76,
          78,
          66,
          43,
          70,
          73,
          61,
          53,
          43,
          61,
          80,
          48,
          41,
          66,
          74,
          99,
          48,
          69,
          69,
          49,
          84,
          40,
          50,
          96,
          79,
          45,
          86,
          67,
          93,
          57,
          77,
          76,
          47,
          62,
          63,
          87,
          31,
          51,
          43,
          90,
          70,
          88,
          71,
          39,
          63,
          96,
          66,
          79,
          90,
          32,
          93,
          69,
          75,
          91,
          84,
          36,
          73,
          66,
          93,
          43,
          98,
          97,
          63,
          83,
          57,
          82,
          75,
          90,
          32,
          77,
          60,
          72,
          77,
          90,
          51,
          64,
          93,
          89,
          94,
          67,
          50,
          78,
          89,
          70,
          73,
          82,
          50,
          91,
          50,
          44,
          22,
          41,
          47,
          52,
          51,
          46,
          35,
          41,
          60,
          89,
          62,
          75,
          72,
          75,
          74,
          81,
          58,
          92,
          74,
          77,
          85,
          75,
          78,
          58,
          26,
          85,
          48,
          65,
          55,
          78,
          74,
          54,
          45,
          61,
          51,
          71,
          22,
          63,
          58,
          95,
          69,
          74,
          71,
          38,
          88,
          73,
          26,
          93,
          78,
          73,
          78,
          27,
          41,
          39,
          73,
          68,
          29,
          47,
          76,
          73,
          32,
          51,
          49,
          75,
          91,
          92,
          45,
          78,
          61,
          57,
          37,
          48,
          54,
          44,
          43,
          71,
          59,
          74,
          97,
          56,
          66,
          71,
          70,
          68,
          44,
          53,
          44,
          68,
          64,
          66,
          84,
          61,
          69,
          89,
          65,
          83,
          80,
          66,
          61,
          84,
          82,
          58,
          95,
          84,
          47,
          44,
          40,
          56,
          72,
          76,
          57,
          63,
          60,
          71,
          46,
          63,
          43,
          78,
          84,
          59,
          94,
          79,
          70,
          61,
          34,
          71,
          98,
          83,
          48,
          68,
          54,
          74,
          64,
          47,
          62,
          74,
          62,
          55,
          39,
          67,
          38,
          77,
          50,
          24,
          43,
          49,
          49,
          42,
          81,
          85,
          95,
          51,
          49,
          74,
          54,
          52,
          61,
          71,
          78,
          47,
          72,
          63,
          20,
          75,
          62,
          80,
          62,
          82,
          72,
          95,
          38,
          79,
          57,
          40,
          80,
          49,
          95,
          79,
          61,
          76,
          68,
          73,
          85,
          69,
          92,
          68,
          63,
          43,
          31,
          84,
          97,
          84,
          20,
          74,
          28,
          95,
          69,
          80,
          73,
          56,
          79,
          60,
          91,
          24,
          82,
          61,
          92,
          87,
          91,
          84,
          27,
          66,
          42,
          68,
          79,
          76,
          57,
          50,
          55,
          84,
          94,
          37,
          44,
          61,
          58,
          76,
          57,
          41,
          83,
          77,
          82,
          83,
          69,
          48,
          83,
          38,
          62,
          60,
          85,
          90,
          79,
          88,
          89,
          53,
          46,
          80,
          72,
          84,
          79,
          53,
          89,
          96,
          91,
          90,
          98,
          88,
          56,
          49,
          69,
          94,
          53,
          82,
          69,
          50,
          53,
          32,
          47,
          33,
          79,
          39,
          64,
          96,
          91,
          83,
          98,
          97,
          16,
          71,
          82,
          69,
          79,
          82,
          70,
          75,
          98,
          44,
          41,
          64,
          74,
          82,
          34,
          72,
          66,
          49,
          99,
          49,
          33,
          61,
          24,
          78,
          84,
          83,
          81,
          82,
          72,
          70,
          74,
          70,
          76,
          80,
          43,
          64,
          60,
          47,
          74,
          38,
          92,
          73,
          82,
          73,
          87,
          60,
          45,
          58,
          78,
          48,
          59,
          55,
          47,
          60,
          82,
          71,
          74,
          43,
          56,
          69,
          40,
          47,
          55,
          65,
          67,
          92,
          95,
          81,
          59,
          53,
          75,
          74,
          97,
          34,
          47,
          42,
          14,
          63,
          80,
          28,
          17,
          53,
          76,
          54,
          94,
          85,
          94,
          91,
          82,
          60,
          72,
          49,
          57,
          87,
          54,
          83,
          57,
          50,
          56,
          80,
          88,
          77,
          50,
          81,
          21,
          64,
          73,
          91,
          72,
          69,
          77,
          82,
          81,
          73,
          94,
          73,
          65,
          79,
          56,
          68,
          60,
          87,
          47,
          94,
          59,
          39,
          73,
          81,
          77,
          43,
          99,
          47,
          54,
          48,
          59,
          64,
          59,
          94,
          80,
          63,
          77,
          88,
          70,
          79,
          81,
          68,
          97,
          72,
          66,
          53,
          72,
          27,
          55,
          80,
          34,
          48,
          88,
          69,
          54,
          47
         ]
        }
       ],
       "layout": {
        "annotations": [
         {
          "font": {
           "color": "black",
           "family": "Balto",
           "size": 30
          },
          "showarrow": false,
          "text": "Happy Quadrant",
          "x": 93.1,
          "y": 99
         }
        ],
        "height": 600,
        "margin": {
         "b": 20,
         "l": 100,
         "r": 150,
         "t": 80
        },
        "paper_bgcolor": "LightSteelBlue",
        "plot_bgcolor": "#edf5fa",
        "shapes": [
         {
          "fillcolor": "rgba(250, 220, 60, 0.1)",
          "line": {
           "color": "#0b5685",
           "width": 2
          },
          "opacity": 0.5,
          "type": "rect",
          "x0": 49,
          "x1": 101,
          "xref": "x",
          "y0": 49.5,
          "y1": 104,
          "yref": "y"
         }
        ],
        "template": {
         "data": {
          "bar": [
           {
            "error_x": {
             "color": "#2a3f5f"
            },
            "error_y": {
             "color": "#2a3f5f"
            },
            "marker": {
             "line": {
              "color": "#E5ECF6",
              "width": 0.5
             },
             "pattern": {
              "fillmode": "overlay",
              "size": 10,
              "solidity": 0.2
             }
            },
            "type": "bar"
           }
          ],
          "barpolar": [
           {
            "marker": {
             "line": {
              "color": "#E5ECF6",
              "width": 0.5
             },
             "pattern": {
              "fillmode": "overlay",
              "size": 10,
              "solidity": 0.2
             }
            },
            "type": "barpolar"
           }
          ],
          "carpet": [
           {
            "aaxis": {
             "endlinecolor": "#2a3f5f",
             "gridcolor": "white",
             "linecolor": "white",
             "minorgridcolor": "white",
             "startlinecolor": "#2a3f5f"
            },
            "baxis": {
             "endlinecolor": "#2a3f5f",
             "gridcolor": "white",
             "linecolor": "white",
             "minorgridcolor": "white",
             "startlinecolor": "#2a3f5f"
            },
            "type": "carpet"
           }
          ],
          "choropleth": [
           {
            "colorbar": {
             "outlinewidth": 0,
             "ticks": ""
            },
            "type": "choropleth"
           }
          ],
          "contour": [
           {
            "colorbar": {
             "outlinewidth": 0,
             "ticks": ""
            },
            "colorscale": [
             [
              0,
              "#0d0887"
             ],
             [
              0.1111111111111111,
              "#46039f"
             ],
             [
              0.2222222222222222,
              "#7201a8"
             ],
             [
              0.3333333333333333,
              "#9c179e"
             ],
             [
              0.4444444444444444,
              "#bd3786"
             ],
             [
              0.5555555555555556,
              "#d8576b"
             ],
             [
              0.6666666666666666,
              "#ed7953"
             ],
             [
              0.7777777777777778,
              "#fb9f3a"
             ],
             [
              0.8888888888888888,
              "#fdca26"
             ],
             [
              1,
              "#f0f921"
             ]
            ],
            "type": "contour"
           }
          ],
          "contourcarpet": [
           {
            "colorbar": {
             "outlinewidth": 0,
             "ticks": ""
            },
            "type": "contourcarpet"
           }
          ],
          "heatmap": [
           {
            "colorbar": {
             "outlinewidth": 0,
             "ticks": ""
            },
            "colorscale": [
             [
              0,
              "#0d0887"
             ],
             [
              0.1111111111111111,
              "#46039f"
             ],
             [
              0.2222222222222222,
              "#7201a8"
             ],
             [
              0.3333333333333333,
              "#9c179e"
             ],
             [
              0.4444444444444444,
              "#bd3786"
             ],
             [
              0.5555555555555556,
              "#d8576b"
             ],
             [
              0.6666666666666666,
              "#ed7953"
             ],
             [
              0.7777777777777778,
              "#fb9f3a"
             ],
             [
              0.8888888888888888,
              "#fdca26"
             ],
             [
              1,
              "#f0f921"
             ]
            ],
            "type": "heatmap"
           }
          ],
          "heatmapgl": [
           {
            "colorbar": {
             "outlinewidth": 0,
             "ticks": ""
            },
            "colorscale": [
             [
              0,
              "#0d0887"
             ],
             [
              0.1111111111111111,
              "#46039f"
             ],
             [
              0.2222222222222222,
              "#7201a8"
             ],
             [
              0.3333333333333333,
              "#9c179e"
             ],
             [
              0.4444444444444444,
              "#bd3786"
             ],
             [
              0.5555555555555556,
              "#d8576b"
             ],
             [
              0.6666666666666666,
              "#ed7953"
             ],
             [
              0.7777777777777778,
              "#fb9f3a"
             ],
             [
              0.8888888888888888,
              "#fdca26"
             ],
             [
              1,
              "#f0f921"
             ]
            ],
            "type": "heatmapgl"
           }
          ],
          "histogram": [
           {
            "marker": {
             "pattern": {
              "fillmode": "overlay",
              "size": 10,
              "solidity": 0.2
             }
            },
            "type": "histogram"
           }
          ],
          "histogram2d": [
           {
            "colorbar": {
             "outlinewidth": 0,
             "ticks": ""
            },
            "colorscale": [
             [
              0,
              "#0d0887"
             ],
             [
              0.1111111111111111,
              "#46039f"
             ],
             [
              0.2222222222222222,
              "#7201a8"
             ],
             [
              0.3333333333333333,
              "#9c179e"
             ],
             [
              0.4444444444444444,
              "#bd3786"
             ],
             [
              0.5555555555555556,
              "#d8576b"
             ],
             [
              0.6666666666666666,
              "#ed7953"
             ],
             [
              0.7777777777777778,
              "#fb9f3a"
             ],
             [
              0.8888888888888888,
              "#fdca26"
             ],
             [
              1,
              "#f0f921"
             ]
            ],
            "type": "histogram2d"
           }
          ],
          "histogram2dcontour": [
           {
            "colorbar": {
             "outlinewidth": 0,
             "ticks": ""
            },
            "colorscale": [
             [
              0,
              "#0d0887"
             ],
             [
              0.1111111111111111,
              "#46039f"
             ],
             [
              0.2222222222222222,
              "#7201a8"
             ],
             [
              0.3333333333333333,
              "#9c179e"
             ],
             [
              0.4444444444444444,
              "#bd3786"
             ],
             [
              0.5555555555555556,
              "#d8576b"
             ],
             [
              0.6666666666666666,
              "#ed7953"
             ],
             [
              0.7777777777777778,
              "#fb9f3a"
             ],
             [
              0.8888888888888888,
              "#fdca26"
             ],
             [
              1,
              "#f0f921"
             ]
            ],
            "type": "histogram2dcontour"
           }
          ],
          "mesh3d": [
           {
            "colorbar": {
             "outlinewidth": 0,
             "ticks": ""
            },
            "type": "mesh3d"
           }
          ],
          "parcoords": [
           {
            "line": {
             "colorbar": {
              "outlinewidth": 0,
              "ticks": ""
             }
            },
            "type": "parcoords"
           }
          ],
          "pie": [
           {
            "automargin": true,
            "type": "pie"
           }
          ],
          "scatter": [
           {
            "fillpattern": {
             "fillmode": "overlay",
             "size": 10,
             "solidity": 0.2
            },
            "type": "scatter"
           }
          ],
          "scatter3d": [
           {
            "line": {
             "colorbar": {
              "outlinewidth": 0,
              "ticks": ""
             }
            },
            "marker": {
             "colorbar": {
              "outlinewidth": 0,
              "ticks": ""
             }
            },
            "type": "scatter3d"
           }
          ],
          "scattercarpet": [
           {
            "marker": {
             "colorbar": {
              "outlinewidth": 0,
              "ticks": ""
             }
            },
            "type": "scattercarpet"
           }
          ],
          "scattergeo": [
           {
            "marker": {
             "colorbar": {
              "outlinewidth": 0,
              "ticks": ""
             }
            },
            "type": "scattergeo"
           }
          ],
          "scattergl": [
           {
            "marker": {
             "colorbar": {
              "outlinewidth": 0,
              "ticks": ""
             }
            },
            "type": "scattergl"
           }
          ],
          "scattermapbox": [
           {
            "marker": {
             "colorbar": {
              "outlinewidth": 0,
              "ticks": ""
             }
            },
            "type": "scattermapbox"
           }
          ],
          "scatterpolar": [
           {
            "marker": {
             "colorbar": {
              "outlinewidth": 0,
              "ticks": ""
             }
            },
            "type": "scatterpolar"
           }
          ],
          "scatterpolargl": [
           {
            "marker": {
             "colorbar": {
              "outlinewidth": 0,
              "ticks": ""
             }
            },
            "type": "scatterpolargl"
           }
          ],
          "scatterternary": [
           {
            "marker": {
             "colorbar": {
              "outlinewidth": 0,
              "ticks": ""
             }
            },
            "type": "scatterternary"
           }
          ],
          "surface": [
           {
            "colorbar": {
             "outlinewidth": 0,
             "ticks": ""
            },
            "colorscale": [
             [
              0,
              "#0d0887"
             ],
             [
              0.1111111111111111,
              "#46039f"
             ],
             [
              0.2222222222222222,
              "#7201a8"
             ],
             [
              0.3333333333333333,
              "#9c179e"
             ],
             [
              0.4444444444444444,
              "#bd3786"
             ],
             [
              0.5555555555555556,
              "#d8576b"
             ],
             [
              0.6666666666666666,
              "#ed7953"
             ],
             [
              0.7777777777777778,
              "#fb9f3a"
             ],
             [
              0.8888888888888888,
              "#fdca26"
             ],
             [
              1,
              "#f0f921"
             ]
            ],
            "type": "surface"
           }
          ],
          "table": [
           {
            "cells": {
             "fill": {
              "color": "#EBF0F8"
             },
             "line": {
              "color": "white"
             }
            },
            "header": {
             "fill": {
              "color": "#C8D4E3"
             },
             "line": {
              "color": "white"
             }
            },
            "type": "table"
           }
          ]
         },
         "layout": {
          "annotationdefaults": {
           "arrowcolor": "#2a3f5f",
           "arrowhead": 0,
           "arrowwidth": 1
          },
          "autotypenumbers": "strict",
          "coloraxis": {
           "colorbar": {
            "outlinewidth": 0,
            "ticks": ""
           }
          },
          "colorscale": {
           "diverging": [
            [
             0,
             "#8e0152"
            ],
            [
             0.1,
             "#c51b7d"
            ],
            [
             0.2,
             "#de77ae"
            ],
            [
             0.3,
             "#f1b6da"
            ],
            [
             0.4,
             "#fde0ef"
            ],
            [
             0.5,
             "#f7f7f7"
            ],
            [
             0.6,
             "#e6f5d0"
            ],
            [
             0.7,
             "#b8e186"
            ],
            [
             0.8,
             "#7fbc41"
            ],
            [
             0.9,
             "#4d9221"
            ],
            [
             1,
             "#276419"
            ]
           ],
           "sequential": [
            [
             0,
             "#0d0887"
            ],
            [
             0.1111111111111111,
             "#46039f"
            ],
            [
             0.2222222222222222,
             "#7201a8"
            ],
            [
             0.3333333333333333,
             "#9c179e"
            ],
            [
             0.4444444444444444,
             "#bd3786"
            ],
            [
             0.5555555555555556,
             "#d8576b"
            ],
            [
             0.6666666666666666,
             "#ed7953"
            ],
            [
             0.7777777777777778,
             "#fb9f3a"
            ],
            [
             0.8888888888888888,
             "#fdca26"
            ],
            [
             1,
             "#f0f921"
            ]
           ],
           "sequentialminus": [
            [
             0,
             "#0d0887"
            ],
            [
             0.1111111111111111,
             "#46039f"
            ],
            [
             0.2222222222222222,
             "#7201a8"
            ],
            [
             0.3333333333333333,
             "#9c179e"
            ],
            [
             0.4444444444444444,
             "#bd3786"
            ],
            [
             0.5555555555555556,
             "#d8576b"
            ],
            [
             0.6666666666666666,
             "#ed7953"
            ],
            [
             0.7777777777777778,
             "#fb9f3a"
            ],
            [
             0.8888888888888888,
             "#fdca26"
            ],
            [
             1,
             "#f0f921"
            ]
           ]
          },
          "colorway": [
           "#636efa",
           "#EF553B",
           "#00cc96",
           "#ab63fa",
           "#FFA15A",
           "#19d3f3",
           "#FF6692",
           "#B6E880",
           "#FF97FF",
           "#FECB52"
          ],
          "font": {
           "color": "#2a3f5f"
          },
          "geo": {
           "bgcolor": "white",
           "lakecolor": "white",
           "landcolor": "#E5ECF6",
           "showlakes": true,
           "showland": true,
           "subunitcolor": "white"
          },
          "hoverlabel": {
           "align": "left"
          },
          "hovermode": "closest",
          "mapbox": {
           "style": "light"
          },
          "paper_bgcolor": "white",
          "plot_bgcolor": "#E5ECF6",
          "polar": {
           "angularaxis": {
            "gridcolor": "white",
            "linecolor": "white",
            "ticks": ""
           },
           "bgcolor": "#E5ECF6",
           "radialaxis": {
            "gridcolor": "white",
            "linecolor": "white",
            "ticks": ""
           }
          },
          "scene": {
           "xaxis": {
            "backgroundcolor": "#E5ECF6",
            "gridcolor": "white",
            "gridwidth": 2,
            "linecolor": "white",
            "showbackground": true,
            "ticks": "",
            "zerolinecolor": "white"
           },
           "yaxis": {
            "backgroundcolor": "#E5ECF6",
            "gridcolor": "white",
            "gridwidth": 2,
            "linecolor": "white",
            "showbackground": true,
            "ticks": "",
            "zerolinecolor": "white"
           },
           "zaxis": {
            "backgroundcolor": "#E5ECF6",
            "gridcolor": "white",
            "gridwidth": 2,
            "linecolor": "white",
            "showbackground": true,
            "ticks": "",
            "zerolinecolor": "white"
           }
          },
          "shapedefaults": {
           "line": {
            "color": "#2a3f5f"
           }
          },
          "ternary": {
           "aaxis": {
            "gridcolor": "white",
            "linecolor": "white",
            "ticks": ""
           },
           "baxis": {
            "gridcolor": "white",
            "linecolor": "white",
            "ticks": ""
           },
           "bgcolor": "#E5ECF6",
           "caxis": {
            "gridcolor": "white",
            "linecolor": "white",
            "ticks": ""
           }
          },
          "title": {
           "x": 0.05
          },
          "xaxis": {
           "automargin": true,
           "gridcolor": "white",
           "linecolor": "white",
           "ticks": "",
           "title": {
            "standoff": 15
           },
           "zerolinecolor": "white",
           "zerolinewidth": 2
          },
          "yaxis": {
           "automargin": true,
           "gridcolor": "white",
           "linecolor": "white",
           "ticks": "",
           "title": {
            "standoff": 15
           },
           "zerolinecolor": "white",
           "zerolinewidth": 2
          }
         }
        },
        "title": {
         "text": "Energy vs Dance vs Happiness Distribution",
         "x": 0.5
        },
        "xaxis": {
         "title": {
          "text": "Dance"
         }
        },
        "yaxis": {
         "title": {
          "text": "Energy"
         }
        }
       }
      },
      "text/html": [
       "<div>                            <div id=\"a52b8583-415f-41eb-92f3-2cd19a836571\" class=\"plotly-graph-div\" style=\"height:600px; width:100%;\"></div>            <script type=\"text/javascript\">                require([\"plotly\"], function(Plotly) {                    window.PLOTLYENV=window.PLOTLYENV || {};                                    if (document.getElementById(\"a52b8583-415f-41eb-92f3-2cd19a836571\")) {                    Plotly.newPlot(                        \"a52b8583-415f-41eb-92f3-2cd19a836571\",                        [{\"hovertext\":[\"Artist: SBTRKT,Roses Gabor<br>Song: Pharaohs<br>Dance: 80<br>Energy: 58<br>Happy: 64\",\"Artist: Ozuna<br>Song: S\\u00edguelo Bailando<br>Dance: 86<br>Energy: 66<br>Happy: 63\",\"Artist: Dwson,Sio<br>Song: Forbidden<br>Dance: 79<br>Energy: 70<br>Happy: 34\",\"Artist: Biyo<br>Song: Fantasies<br>Dance: 64<br>Energy: 52<br>Happy: 53\",\"Artist: Pat Lok<br>Song: Mar Vista<br>Dance: 75<br>Energy: 84<br>Happy: 47\",\"Artist: Young Franco,Blair De Milo<br>Song: Don't U Want Me (feat. Blair De Milo)<br>Dance: 90<br>Energy: 46<br>Happy: 59\",\"Artist: Garden City Movement<br>Song: She's so Untouchable - Original Mix<br>Dance: 75<br>Energy: 78<br>Happy: 69\",\"Artist: Young the Giant<br>Song: Repeat<br>Dance: 66<br>Energy: 81<br>Happy: 57\",\"Artist: The Strokes<br>Song: Why Are Sundays So Depressing<br>Dance: 58<br>Energy: 71<br>Happy: 30\",\"Artist: Sigrid<br>Song: High Five<br>Dance: 65<br>Energy: 63<br>Happy: 51\",\"Artist: Cupidon,UMI<br>Song: Be The One<br>Dance: 79<br>Energy: 47<br>Happy: 4\",\"Artist: St. Vincent<br>Song: Digital Witness<br>Dance: 78<br>Energy: 44<br>Happy: 88\",\"Artist: Billie Eilish,Vince Staples<br>Song: &burn (with Vince Staples)<br>Dance: 78<br>Energy: 38<br>Happy: 35\",\"Artist: Rostam<br>Song: Bike Dream<br>Dance: 51<br>Energy: 97<br>Happy: 80\",\"Artist: C. Tangana<br>Song: Bien Duro<br>Dance: 85<br>Energy: 67<br>Happy: 69\",\"Artist: TEMPOREX<br>Song: Nice Boys<br>Dance: 55<br>Energy: 67<br>Happy: 34\",\"Artist: Rice & Beans Orchestra<br>Song: You've Got Magic<br>Dance: 84<br>Energy: 67<br>Happy: 97\",\"Artist: Whethan,Oliver Tree<br>Song: When I'm Down<br>Dance: 83<br>Energy: 77<br>Happy: 49\",\"Artist: Saison<br>Song: Please Don't Go<br>Dance: 94<br>Energy: 67<br>Happy: 51\",\"Artist: Paramore<br>Song: Fake Happy<br>Dance: 73<br>Energy: 63<br>Happy: 44\",\"Artist: EARTHGANG<br>Song: So Many Feelings<br>Dance: 64<br>Energy: 70<br>Happy: 56\",\"Artist: Calvin Harris,Dua Lipa<br>Song: One Kiss (with Dua Lipa)<br>Dance: 79<br>Energy: 86<br>Happy: 59\",\"Artist: Two Door Cinema Club<br>Song: What You Know<br>Dance: 56<br>Energy: 74<br>Happy: 78\",\"Artist: Nao,Shareware<br>Song: Another Lifetime - Shareware Remix<br>Dance: 67<br>Energy: 62<br>Happy: 53\",\"Artist: Leon,Shaf Huse<br>Song: Once Again - Original Mix<br>Dance: 79<br>Energy: 96<br>Happy: 78\",\"Artist: Jarami<br>Song: Hear This<br>Dance: 75<br>Energy: 70<br>Happy: 39\",\"Artist: Codes<br>Song: 100% Skills<br>Dance: 81<br>Energy: 88<br>Happy: 46\",\"Artist: Kendrick Lamar,SZA<br>Song: All The Stars (with SZA)<br>Dance: 71<br>Energy: 63<br>Happy: 47\",\"Artist: BENEE<br>Song: Wishful Thinking<br>Dance: 64<br>Energy: 66<br>Happy: 55\",\"Artist: Miguel Bastida<br>Song: Full Moon<br>Dance: 82<br>Energy: 74<br>Happy: 63\",\"Artist: Cut Snake<br>Song: Desire<br>Dance: 80<br>Energy: 69<br>Happy: 23\",\"Artist: SHAED<br>Song: Trampoline<br>Dance: 69<br>Energy: 41<br>Happy: 54\",\"Artist: Latmun<br>Song: Counting Tool<br>Dance: 81<br>Energy: 98<br>Happy: 91\",\"Artist: Evergreen<br>Song: Comme Si<br>Dance: 89<br>Energy: 60<br>Happy: 60\",\"Artist: Dauwd<br>Song: Leitmotiv<br>Dance: 79<br>Energy: 62<br>Happy: 58\",\"Artist: Phoenix<br>Song: Armistice<br>Dance: 58<br>Energy: 77<br>Happy: 64\",\"Artist: Gibbz<br>Song: I Really Love You<br>Dance: 65<br>Energy: 65<br>Happy: 55\",\"Artist: Hippo Campus<br>Song: Western Kids<br>Dance: 64<br>Energy: 91<br>Happy: 52\",\"Artist: Solardo,Wade<br>Song: Everybody - Original Mix<br>Dance: 85<br>Energy: 77<br>Happy: 69\",\"Artist: Satin Jackets,Panama<br>Song: Electric Blue<br>Dance: 76<br>Energy: 71<br>Happy: 50\",\"Artist: SHAED<br>Song: ISOU<br>Dance: 64<br>Energy: 45<br>Happy: 35\",\"Artist: Chocolate Puma,Tommie Sunshine,DJ Funk<br>Song: Scrub The Ground (feat. DJ Funk)<br>Dance: 79<br>Energy: 89<br>Happy: 68\",\"Artist: Croatia Squad<br>Song: Rock with Me<br>Dance: 83<br>Energy: 93<br>Happy: 69\",\"Artist: Cleopold<br>Song: The Space Between<br>Dance: 84<br>Energy: 64<br>Happy: 83\",\"Artist: Reb\\u016bke<br>Song: Along Came Polly - Original Mix<br>Dance: 83<br>Energy: 60<br>Happy: 8\",\"Artist: Prunk,Aron Volta<br>Song: Sleepy Rhythm<br>Dance: 79<br>Energy: 92<br>Happy: 75\",\"Artist: S.A.M.<br>Song: Fury's Laughter<br>Dance: 75<br>Energy: 68<br>Happy: 47\",\"Artist: Jamie Jones,Darius Syrossian<br>Song: Rushing<br>Dance: 80<br>Energy: 86<br>Happy: 70\",\"Artist: Jamie Jones,The Martinez Brothers<br>Song: Bappi<br>Dance: 79<br>Energy: 84<br>Happy: 13\",\"Artist: Sidney Charles<br>Song: Time To Groove<br>Dance: 77<br>Energy: 91<br>Happy: 62\",\"Artist: Audioslave<br>Song: Show Me How to Live<br>Dance: 43<br>Energy: 85<br>Happy: 37\",\"Artist: Rubblebucket<br>Song: If U C My Enemies<br>Dance: 53<br>Energy: 94<br>Happy: 74\",\"Artist: Foo Fighters<br>Song: Breakout<br>Dance: 42<br>Energy: 94<br>Happy: 43\",\"Artist: Queens of the Stone Age<br>Song: Head Like A Haunted House<br>Dance: 29<br>Energy: 99<br>Happy: 34\",\"Artist: Men I Trust,Geoffroy,Gabrielle<br>Song: Dazed (feat. Gabrielle & Geoffroy)<br>Dance: 84<br>Energy: 33<br>Happy: 85\",\"Artist: SBTRKT<br>Song: Everybody Knows<br>Dance: 68<br>Energy: 79<br>Happy: 37\",\"Artist: Remi Wolf<br>Song: Thicc<br>Dance: 39<br>Energy: 59<br>Happy: 23\",\"Artist: Chris Stussy,Bas Roos<br>Song: Ladies Night<br>Dance: 91<br>Energy: 60<br>Happy: 75\",\"Artist: Skream,Michael Bibi<br>Song: Otto's Chant<br>Dance: 81<br>Energy: 84<br>Happy: 83\",\"Artist: Haywyre<br>Song: Moment<br>Dance: 66<br>Energy: 67<br>Happy: 67\",\"Artist: Dirty Projectors<br>Song: Break-Thru<br>Dance: 80<br>Energy: 51<br>Happy: 82\",\"Artist: Future,Drake<br>Song: Life Is Good (feat. Drake)<br>Dance: 68<br>Energy: 61<br>Happy: 51\",\"Artist: Arizona Zervas<br>Song: ROXANNE<br>Dance: 62<br>Energy: 60<br>Happy: 46\",\"Artist: JAWNY<br>Song: 4Tounce<br>Dance: 61<br>Energy: 69<br>Happy: 44\",\"Artist: blackbear<br>Song: hot girl bummer<br>Dance: 78<br>Energy: 56<br>Happy: 68\",\"Artist: The Script<br>Song: Breakeven<br>Dance: 63<br>Energy: 70<br>Happy: 54\",\"Artist: Jordan Rakei<br>Song: Say Something<br>Dance: 71<br>Energy: 69<br>Happy: 84\",\"Artist: Cosmo Sheldrake,Mr Jukes<br>Song: Wriggle - Mr Jukes Edit<br>Dance: 80<br>Energy: 69<br>Happy: 88\",\"Artist: Millie Turner<br>Song: January<br>Dance: 79<br>Energy: 50<br>Happy: 46\",\"Artist: Drake<br>Song: Passionfruit<br>Dance: 81<br>Energy: 46<br>Happy: 36\",\"Artist: Calvin Harris<br>Song: My Way<br>Dance: 82<br>Energy: 91<br>Happy: 54\",\"Artist: Ben Westbeech<br>Song: Something For The Weekend<br>Dance: 75<br>Energy: 67<br>Happy: 92\",\"Artist: Alex Preston<br>Song: Soul Food<br>Dance: 84<br>Energy: 90<br>Happy: 68\",\"Artist: Twenty One Pilots<br>Song: Stressed Out<br>Dance: 73<br>Energy: 64<br>Happy: 65\",\"Artist: Verzache<br>Song: Juvenescence<br>Dance: 84<br>Energy: 36<br>Happy: 46\",\"Artist: Charlie Lim,Halal Sol<br>Song: Zero-Sum [Halal Sol Remix]<br>Dance: 72<br>Energy: 90<br>Happy: 77\",\"Artist: Yelle<br>Song: Je t'aime encore<br>Dance: 52<br>Energy: 59<br>Happy: 22\",\"Artist: The Go! Team<br>Song: Get It Together<br>Dance: 56<br>Energy: 94<br>Happy: 68\",\"Artist: Seether<br>Song: Fake It<br>Dance: 61<br>Energy: 95<br>Happy: 61\",\"Artist: The Shins<br>Song: Sleeping Lessons<br>Dance: 51<br>Energy: 50<br>Happy: 17\",\"Artist: Amerie<br>Song: 1 Thing<br>Dance: 61<br>Energy: 96<br>Happy: 87\",\"Artist: Friendly Fires<br>Song: Skeleton Boy<br>Dance: 61<br>Energy: 91<br>Happy: 79\",\"Artist: Goldspot<br>Song: Rewind<br>Dance: 66<br>Energy: 74<br>Happy: 59\",\"Artist: The Strokes<br>Song: You Only Live Once<br>Dance: 63<br>Energy: 91<br>Happy: 97\",\"Artist: niko+,Clans<br>Song: Ride<br>Dance: 70<br>Energy: 70<br>Happy: 61\",\"Artist: Sure Sure<br>Song: Funky Galileo<br>Dance: 80<br>Energy: 33<br>Happy: 65\",\"Artist: Firehorse<br>Song: Bloodstream<br>Dance: 75<br>Energy: 62<br>Happy: 37\",\"Artist: Incubus<br>Song: Are You In?<br>Dance: 53<br>Energy: 59<br>Happy: 36\",\"Artist: Oliver Tree<br>Song: Joke's On You!<br>Dance: 57<br>Energy: 80<br>Happy: 38\",\"Artist: 53 Thieves<br>Song: dreamin'<br>Dance: 83<br>Energy: 42<br>Happy: 34\",\"Artist: Joss Moog<br>Song: From Nothing To Something<br>Dance: 87<br>Energy: 67<br>Happy: 10\",\"Artist: David Guetta,Kid Cudi<br>Song: Memories (feat. Kid Cudi)<br>Dance: 56<br>Energy: 87<br>Happy: 50\",\"Artist: Dreamer Boy<br>Song: Puppy Dog<br>Dance: 69<br>Energy: 55<br>Happy: 51\",\"Artist: Lorde<br>Song: Royals<br>Dance: 67<br>Energy: 43<br>Happy: 34\",\"Artist: Delroy Edwards<br>Song: I Love Sloane<br>Dance: 54<br>Energy: 51<br>Happy: 83\",\"Artist: Romare<br>Song: Down the Line - It Takes a Number<br>Dance: 79<br>Energy: 37<br>Happy: 33\",\"Artist: Max Graef,Glenn Astro<br>Song: Flat Peter<br>Dance: 93<br>Energy: 76<br>Happy: 73\",\"Artist: BAYNK,Golden Vessel,Akurei<br>Song: DOWN<br>Dance: 80<br>Energy: 59<br>Happy: 13\",\"Artist: Elujay<br>Song: Starchild<br>Dance: 50<br>Energy: 62<br>Happy: 49\",\"Artist: NEIL FRANCES<br>Song: Music Sounds Better With You<br>Dance: 93<br>Energy: 52<br>Happy: 79\",\"Artist: Calvin Harris,Frank Ocean,Migos,Funk Wav<br>Song: Slide (feat. Frank Ocean & Migos)<br>Dance: 74<br>Energy: 80<br>Happy: 51\",\"Artist: Max Chapman,Teeja<br>Song: Love Control<br>Dance: 81<br>Energy: 84<br>Happy: 35\",\"Artist: Wingtip,Sophie Strauss<br>Song: Rewind<br>Dance: 66<br>Energy: 63<br>Happy: 28\",\"Artist: Kan Sano<br>Song: Music Overflow - Original Mix<br>Dance: 75<br>Energy: 24<br>Happy: 83\",\"Artist: Kan Sano<br>Song: My Girl<br>Dance: 62<br>Energy: 54<br>Happy: 67\",\"Artist: Felipe Gordon<br>Song: Dedicacion<br>Dance: 80<br>Energy: 64<br>Happy: 53\",\"Artist: Magic In Threes<br>Song: Beatin' Tha Breaks - Fouk Remix<br>Dance: 84<br>Energy: 48<br>Happy: 44\",\"Artist: Avenged Sevenfold<br>Song: Betrayed<br>Dance: 47<br>Energy: 93<br>Happy: 52\",\"Artist: Drake,Quavo,Travis Scott<br>Song: Portland<br>Dance: 93<br>Energy: 44<br>Happy: 35\",\"Artist: C\\u00e9u<br>Song: Malemol\\u00eancia<br>Dance: 84<br>Energy: 56<br>Happy: 63\",\"Artist: Digitalism<br>Song: Pogo<br>Dance: 40<br>Energy: 74<br>Happy: 39\",\"Artist: C\\u00e9u<br>Song: Lenda<br>Dance: 80<br>Energy: 50<br>Happy: 67\",\"Artist: Charlie Brown Jr.<br>Song: C\\u00e9u Azul (Ao Vivo)<br>Dance: 68<br>Energy: 58<br>Happy: 69\",\"Artist: Imagine Dragons<br>Song: On Top Of The World<br>Dance: 64<br>Energy: 93<br>Happy: 76\",\"Artist: Bloc Party<br>Song: Banquet<br>Dance: 58<br>Energy: 89<br>Happy: 89\",\"Artist: Beck<br>Song: Star - 2020<br>Dance: 68<br>Energy: 70<br>Happy: 34\",\"Artist: Bloc Party<br>Song: Truth<br>Dance: 46<br>Energy: 90<br>Happy: 69\",\"Artist: Bloc Party<br>Song: Octopus<br>Dance: 52<br>Energy: 87<br>Happy: 61\",\"Artist: Blxst<br>Song: Hurt<br>Dance: 66<br>Energy: 61<br>Happy: 41\",\"Artist: Charlie Brown Jr.<br>Song: S\\u00f3 Por Uma Noite<br>Dance: 57<br>Energy: 96<br>Happy: 64\",\"Artist: Beck<br>Song: Colors<br>Dance: 66<br>Energy: 87<br>Happy: 68\",\"Artist: Beck<br>Song: Up All Night<br>Dance: 64<br>Energy: 91<br>Happy: 64\",\"Artist: Emotional Oranges,Channel Tres<br>Song: All That (feat. Channel Tres)<br>Dance: 92<br>Energy: 72<br>Happy: 86\",\"Artist: Ocean Wisdom<br>Song: MR FIX IT<br>Dance: 82<br>Energy: 52<br>Happy: 43\",\"Artist: Ace DaGoatShaman<br>Song: Hands in the Sands<br>Dance: 59<br>Energy: 62<br>Happy: 8\",\"Artist: Verzache,Swell<br>Song: Waiting for You<br>Dance: 52<br>Energy: 27<br>Happy: 34\",\"Artist: Verzache<br>Song: Calling<br>Dance: 78<br>Energy: 55<br>Happy: 23\",\"Artist: King Green,Vanela<br>Song: Life Goes On<br>Dance: 88<br>Energy: 52<br>Happy: 63\",\"Artist: KIDS SEE GHOSTS,Louis Prima<br>Song: 4th Dimension<br>Dance: 77<br>Energy: 54<br>Happy: 73\",\"Artist: ROSAL\\u00cdA<br>Song: Aute Cuture<br>Dance: 75<br>Energy: 64<br>Happy: 54\",\"Artist: Mosie,Les Lapins Lundis,Bambi<br>Song: Tangerine<br>Dance: 71<br>Energy: 59<br>Happy: 72\",\"Artist: Biyo<br>Song: Bliss<br>Dance: 60<br>Energy: 46<br>Happy: 56\",\"Artist: O2worldwide<br>Song: ONLY ONE<br>Dance: 60<br>Energy: 65<br>Happy: 37\",\"Artist: Brent Faiyaz,DJ Dahi,Tyler, The Creator<br>Song: Gravity (feat. Tyler, The Creator)<br>Dance: 54<br>Energy: 62<br>Happy: 49\",\"Artist: DJ Seinfeld<br>Song: I Hope I Sleep Tonight<br>Dance: 79<br>Energy: 69<br>Happy: 67\",\"Artist: Lil Baby,Gunna<br>Song: Drip Too Hard (Lil Baby & Gunna)<br>Dance: 90<br>Energy: 66<br>Happy: 39\",\"Artist: Travis Scott<br>Song: goosebumps<br>Dance: 84<br>Energy: 73<br>Happy: 43\",\"Artist: Future<br>Song: March Madness<br>Dance: 50<br>Energy: 69<br>Happy: 37\",\"Artist: Friday Pilots Club<br>Song: I Don't Care<br>Dance: 58<br>Energy: 57<br>Happy: 78\",\"Artist: Friday Pilots Club<br>Song: End of It<br>Dance: 70<br>Energy: 55<br>Happy: 78\",\"Artist: Friday Pilots Club<br>Song: PRBLM<br>Dance: 67<br>Energy: 77<br>Happy: 71\",\"Artist: Junior H,Natanael Cano<br>Song: Disfruto Lo Malo<br>Dance: 68<br>Energy: 63<br>Happy: 71\",\"Artist: Natanael Cano<br>Song: Amor Tumbado<br>Dance: 54<br>Energy: 71<br>Happy: 46\",\"Artist: Junior H<br>Song: Ella<br>Dance: 48<br>Energy: 73<br>Happy: 66\",\"Artist: Billy Lemos,Omar Apollo,Maxwell Young<br>Song: 12:34 AM<br>Dance: 71<br>Energy: 47<br>Happy: 32\",\"Artist: Mt. Joy<br>Song: Silver Lining<br>Dance: 54<br>Energy: 62<br>Happy: 20\",\"Artist: Mt. Joy<br>Song: Sheep<br>Dance: 50<br>Energy: 50<br>Happy: 29\",\"Artist: Juanes<br>Song: Pa Dentro<br>Dance: 56<br>Energy: 85<br>Happy: 70\",\"Artist: Grizzly Bear<br>Song: Two Weeks<br>Dance: 54<br>Energy: 71<br>Happy: 70\",\"Artist: STRFKR<br>Song: Rawnald Gregory Erickson the Second<br>Dance: 90<br>Energy: 54<br>Happy: 71\",\"Artist: KAYTRANADA,Kali Uchis<br>Song: 10%<br>Dance: 79<br>Energy: 76<br>Happy: 62\",\"Artist: Pinback<br>Song: Good To Sea<br>Dance: 77<br>Energy: 78<br>Happy: 93\",\"Artist: Eslabon Armado,T3R Elemento<br>Song: Mi Vicio<br>Dance: 51<br>Energy: 66<br>Happy: 86\",\"Artist: Roza<br>Song: Mindplay<br>Dance: 84<br>Energy: 43<br>Happy: 79\",\"Artist: Maluma<br>Song: Borro Cassette<br>Dance: 73<br>Energy: 70<br>Happy: 79\",\"Artist: Maluma<br>Song: El Perdedor<br>Dance: 70<br>Energy: 73<br>Happy: 88\",\"Artist: Christian Martin,Ardalan<br>Song: Flight of The Pterodactyl - Original Mix<br>Dance: 80<br>Energy: 61<br>Happy: 57\",\"Artist: Gigamesh<br>Song: Feral Youth<br>Dance: 86<br>Energy: 53<br>Happy: 45\",\"Artist: ANAVIT\\u00d3RIA,Vitor Kley<br>Song: Pupila<br>Dance: 72<br>Energy: 43<br>Happy: 43\",\"Artist: Rochy RD,Myke Towers,Nicki Nicole<br>Song: Ella No Es Tuya - Remix<br>Dance: 59<br>Energy: 61<br>Happy: 96\",\"Artist: Diskopunk<br>Song: Fire<br>Dance: 74<br>Energy: 80<br>Happy: 50\",\"Artist: Oliver Tree<br>Song: Miracle Man<br>Dance: 67<br>Energy: 48<br>Happy: 66\",\"Artist: Yarah Bravo<br>Song: I Found Love<br>Dance: 89<br>Energy: 41<br>Happy: 50\",\"Artist: Soccer Mommy<br>Song: Cool<br>Dance: 64<br>Energy: 66<br>Happy: 75\",\"Artist: LP Septet<br>Song: Cumulus<br>Dance: 73<br>Energy: 74<br>Happy: 68\",\"Artist: Bullet For My Valentine<br>Song: Hand Of Blood<br>Dance: 38<br>Energy: 99<br>Happy: 49\",\"Artist: ROSAL\\u00cdA<br>Song: MALAMENTE - Cap.1: Augurio<br>Dance: 89<br>Energy: 48<br>Happy: 53\",\"Artist: ROSAL\\u00cdA,J Balvin,El Guincho<br>Song: Con Altura<br>Dance: 88<br>Energy: 69<br>Happy: 75\",\"Artist: Lil Yachty,Louie Ray<br>Song: G.I. Joe (feat. Louie Ray)<br>Dance: 85<br>Energy: 69<br>Happy: 70\",\"Artist: Lil Yachty<br>Song: Split/Whole Time<br>Dance: 67<br>Energy: 49<br>Happy: 39\",\"Artist: Jean Dawson,A$AP Rocky<br>Song: Triple Double<br>Dance: 56<br>Energy: 84<br>Happy: 48\",\"Artist: Sacha Distel<br>Song: La belle vie<br>Dance: 20<br>Energy: 40<br>Happy: 25\",\"Artist: Leon Bridges<br>Song: Shy<br>Dance: 80<br>Energy: 50<br>Happy: 83\",\"Artist: Cut Copy<br>Song: Hearts On Fire<br>Dance: 58<br>Energy: 96<br>Happy: 73\",\"Artist: tricot<br>Song: Artsick<br>Dance: 32<br>Energy: 79<br>Happy: 52\",\"Artist: Justin Jay<br>Song: Can't Hang<br>Dance: 88<br>Energy: 45<br>Happy: 13\",\"Artist: BROCKHAMPTON<br>Song: JOHNNY<br>Dance: 61<br>Energy: 86<br>Happy: 87\",\"Artist: DEAN,Syd<br>Song: love<br>Dance: 58<br>Energy: 67<br>Happy: 37\",\"Artist: Veil Of Maya<br>Song: It's Not Safe To Swim Today<br>Dance: 24<br>Energy: 93<br>Happy: 41\",\"Artist: The Strokes<br>Song: Chances<br>Dance: 56<br>Energy: 57<br>Happy: 53\",\"Artist: Red Hot Chili Peppers<br>Song: Californication<br>Dance: 59<br>Energy: 77<br>Happy: 33\",\"Artist: Walker Hayes<br>Song: Fancy Like<br>Dance: 65<br>Energy: 76<br>Happy: 84\",\"Artist: Pinback<br>Song: How We Breathe<br>Dance: 69<br>Energy: 47<br>Happy: 45\",\"Artist: PinkPantheress<br>Song: Pain<br>Dance: 83<br>Energy: 62<br>Happy: 81\",\"Artist: PinkPantheress<br>Song: Just for me<br>Dance: 80<br>Energy: 63<br>Happy: 64\",\"Artist: Freddie Dredd<br>Song: Opaul<br>Dance: 82<br>Energy: 87<br>Happy: 65\",\"Artist: Norah Jones<br>Song: Sunrise<br>Dance: 54<br>Energy: 31<br>Happy: 65\",\"Artist: Crayon,KLP,Darius<br>Song: Give You Up - Darius Remix<br>Dance: 85<br>Energy: 51<br>Happy: 66\",\"Artist: The Maccabees<br>Song: Toothpaste Kisses<br>Dance: 46<br>Energy: 43<br>Happy: 47\",\"Artist: Joy Again<br>Song: Looking Out for You<br>Dance: 68<br>Energy: 90<br>Happy: 94\",\"Artist: Sasha, Benny y Erik<br>Song: Japi<br>Dance: 51<br>Energy: 70<br>Happy: 83\",\"Artist: Arctic Monkeys<br>Song: When The Sun Goes Down<br>Dance: 35<br>Energy: 88<br>Happy: 41\",\"Artist: Kainalu<br>Song: Out of Touch<br>Dance: 80<br>Energy: 71<br>Happy: 70\",\"Artist: Disclosure,Eliza Doolittle,Flume<br>Song: You & Me - Flume Remix<br>Dance: 59<br>Energy: 39<br>Happy: 25\",\"Artist: BENEE,Gus Dapperton<br>Song: Supalonely (feat. Gus Dapperton)<br>Dance: 86<br>Energy: 63<br>Happy: 84\",\"Artist: Unwritten Law<br>Song: Celebration Song<br>Dance: 39<br>Energy: 96<br>Happy: 61\",\"Artist: Betcha<br>Song: July<br>Dance: 61<br>Energy: 66<br>Happy: 57\",\"Artist: Prelow<br>Song: Guitar Beat<br>Dance: 66<br>Energy: 79<br>Happy: 78\",\"Artist: Incubus<br>Song: Dig<br>Dance: 45<br>Energy: 90<br>Happy: 46\",\"Artist: Zach Criss<br>Song: No Sunshine<br>Dance: 53<br>Energy: 32<br>Happy: 86\",\"Artist: Marc Bianco,Taphari<br>Song: Love On Earth<br>Dance: 72<br>Energy: 93<br>Happy: 69\",\"Artist: Future<br>Song: Feed Me Dope<br>Dance: 85<br>Energy: 69<br>Happy: 56\",\"Artist: HUNNY<br>Song: Televised<br>Dance: 59<br>Energy: 75<br>Happy: 43\",\"Artist: Thirty Seconds To Mars<br>Song: The Kill<br>Dance: 18<br>Energy: 91<br>Happy: 29\",\"Artist: WALK THE MOON<br>Song: Lisa Baby<br>Dance: 51<br>Energy: 84<br>Happy: 64\",\"Artist: Foo Fighters<br>Song: Virginia Moon<br>Dance: 64<br>Energy: 36<br>Happy: 26\",\"Artist: Foo Fighters<br>Song: Rope<br>Dance: 51<br>Energy: 73<br>Happy: 54\",\"Artist: Nirvana<br>Song: Lithium<br>Dance: 68<br>Energy: 66<br>Happy: 49\",\"Artist: Rise Against<br>Song: Savior<br>Dance: 55<br>Energy: 93<br>Happy: 48\",\"Artist: Rise Against<br>Song: Swing Life Away<br>Dance: 48<br>Energy: 43<br>Happy: 79\",\"Artist: Rise Against<br>Song: Prayer Of The Refugee<br>Dance: 20<br>Energy: 98<br>Happy: 39\",\"Artist: Anthrax<br>Song: Safe Home<br>Dance: 36<br>Energy: 97<br>Happy: 40\",\"Artist: Kings of Convenience<br>Song: Misread<br>Dance: 64<br>Energy: 63<br>Happy: 90\",\"Artist: Kings of Convenience<br>Song: I'd Rather Dance With You<br>Dance: 84<br>Energy: 83<br>Happy: 97\",\"Artist: Gunna,Future<br>Song: too easy<br>Dance: 80<br>Energy: 57<br>Happy: 31\",\"Artist: Albert Hammond Jr<br>Song: GfC<br>Dance: 61<br>Energy: 82<br>Happy: 37\",\"Artist: Last Dinosaurs<br>Song: Zoom<br>Dance: 47<br>Energy: 75<br>Happy: 54\",\"Artist: Freddie Joachim,Natalie Oliveri<br>Song: Backyards<br>Dance: 75<br>Energy: 90<br>Happy: 95\",\"Artist: Nohidea<br>Song: falling down<br>Dance: 78<br>Energy: 32<br>Happy: 53\",\"Artist: Shindig<br>Song: New Friends<br>Dance: 68<br>Energy: 77<br>Happy: 73\",\"Artist: Uppermost<br>Song: Fireflies<br>Dance: 62<br>Energy: 60<br>Happy: 48\",\"Artist: Two Hidden Labs<br>Song: Camaro 69<br>Dance: 45<br>Energy: 72<br>Happy: 39\",\"Artist: Two Hidden Labs<br>Song: Love Streams<br>Dance: 62<br>Energy: 77<br>Happy: 54\",\"Artist: Two Hidden Labs<br>Song: Chapter One<br>Dance: 60<br>Energy: 90<br>Happy: 53\",\"Artist: Andrew Applepie<br>Song: Salted Caramel<br>Dance: 77<br>Energy: 51<br>Happy: 91\",\"Artist: Andrew Applepie<br>Song: One More Song For You<br>Dance: 64<br>Energy: 64<br>Happy: 51\",\"Artist: Andrew Applepie<br>Song: All About Money<br>Dance: 58<br>Energy: 93<br>Happy: 49\",\"Artist: Bakar<br>Song: Big Dreams<br>Dance: 64<br>Energy: 89<br>Happy: 53\",\"Artist: The Exies<br>Song: Ugly<br>Dance: 21<br>Energy: 94<br>Happy: 17\",\"Artist: The Technicolors<br>Song: Howl<br>Dance: 20<br>Energy: 67<br>Happy: 27\",\"Artist: The Technicolors<br>Song: Dress Up For You<br>Dance: 75<br>Energy: 50<br>Happy: 71\",\"Artist: DREAMERS<br>Song: Cry Out for Me<br>Dance: 63<br>Energy: 78<br>Happy: 65\",\"Artist: Airways<br>Song: Reckless Tongue<br>Dance: 53<br>Energy: 89<br>Happy: 81\",\"Artist: DREAMERS<br>Song: All Washed Out<br>Dance: 63<br>Energy: 70<br>Happy: 36\",\"Artist: Saint Motel<br>Song: Butch<br>Dance: 50<br>Energy: 73<br>Happy: 30\",\"Artist: Saint Motel<br>Song: To My Enemies<br>Dance: 53<br>Energy: 82<br>Happy: 74\",\"Artist: Saint Motel<br>Song: For Elise<br>Dance: 49<br>Energy: 50<br>Happy: 26\",\"Artist: Hippo Campus<br>Song: Way It Goes<br>Dance: 54<br>Energy: 91<br>Happy: 52\",\"Artist: Counterfit<br>Song: From Finish to Starting Line<br>Dance: 55<br>Energy: 50<br>Happy: 48\",\"Artist: Jason Mraz<br>Song: I'm Yours<br>Dance: 70<br>Energy: 44<br>Happy: 71\",\"Artist: Punch Brothers<br>Song: Julep<br>Dance: 68<br>Energy: 22<br>Happy: 31\",\"Artist: Jason Mraz,Colbie Caillat<br>Song: Lucky<br>Dance: 63<br>Energy: 41<br>Happy: 67\",\"Artist: Colbie Caillat<br>Song: Bubbly<br>Dance: 70<br>Energy: 47<br>Happy: 25\",\"Artist: Verzache<br>Song: Tongue Tied<br>Dance: 70<br>Energy: 52<br>Happy: 92\",\"Artist: Verzache<br>Song: Evil<br>Dance: 76<br>Energy: 51<br>Happy: 62\",\"Artist: Los Retros<br>Song: Someone To Spend Time With<br>Dance: 82<br>Energy: 46<br>Happy: 96\",\"Artist: Crumb<br>Song: Ghostride<br>Dance: 67<br>Energy: 35<br>Happy: 45\",\"Artist: Crumb<br>Song: Plants<br>Dance: 49<br>Energy: 41<br>Happy: 22\",\"Artist: Crumb<br>Song: Bones<br>Dance: 51<br>Energy: 60<br>Happy: 41\",\"Artist: Jayda G<br>Song: All I Need (DJ-Kicks) - Edit<br>Dance: 69<br>Energy: 89<br>Happy: 86\",\"Artist: Eris Drew<br>Song: Trans Love Vibration (Eris Goes to Church)<br>Dance: 80<br>Energy: 62<br>Happy: 22\",\"Artist: kryptogram<br>Song: How Long Have You Been Away?<br>Dance: 81<br>Energy: 75<br>Happy: 85\",\"Artist: kryptogram<br>Song: Pourin'<br>Dance: 77<br>Energy: 72<br>Happy: 73\",\"Artist: Lil Uzi Vert<br>Song: XO Tour Llif3<br>Dance: 73<br>Energy: 75<br>Happy: 40\",\"Artist: Flipp Dinero<br>Song: Leave Me Alone<br>Dance: 79<br>Energy: 74<br>Happy: 74\",\"Artist: Dam Swindle,Tom Misch<br>Song: Yes, No, Maybe<br>Dance: 82<br>Energy: 81<br>Happy: 53\",\"Artist: tricot<br>Song: potage<br>Dance: 30<br>Energy: 58<br>Happy: 50\",\"Artist: Breaking Benjamin<br>Song: Crawl<br>Dance: 26<br>Energy: 92<br>Happy: 41\",\"Artist: Phonat,Jolie,The Key<br>Song: Fire (feat. Jolie and the Key)<br>Dance: 60<br>Energy: 74<br>Happy: 60\",\"Artist: Phonat,Icarus<br>Song: Never - Icarus Remix<br>Dance: 62<br>Energy: 77<br>Happy: 34\",\"Artist: SpectraSoul<br>Song: Push & Pull<br>Dance: 69<br>Energy: 85<br>Happy: 39\",\"Artist: Fountains Of Wayne<br>Song: Stacy's Mom<br>Dance: 77<br>Energy: 75<br>Happy: 93\",\"Artist: JAWNY<br>Song: Anything You Want<br>Dance: 80<br>Energy: 78<br>Happy: 93\",\"Artist: YG<br>Song: SWAG<br>Dance: 86<br>Energy: 58<br>Happy: 80\",\"Artist: Cr\\u00e1neo,Made in M,BxRod<br>Song: Cristal (feat. BxRod)<br>Dance: 82<br>Energy: 26<br>Happy: 34\",\"Artist: Crazy Town<br>Song: Revolving Door<br>Dance: 68<br>Energy: 85<br>Happy: 77\",\"Artist: Flight Facilities,Giselle<br>Song: Crave You<br>Dance: 92<br>Energy: 48<br>Happy: 32\",\"Artist: Total Giovanni<br>Song: Your Light<br>Dance: 74<br>Energy: 65<br>Happy: 84\",\"Artist: Two Another<br>Song: Keeping Me Under<br>Dance: 79<br>Energy: 55<br>Happy: 58\",\"Artist: Ridney,Shannon B,Lovely Laura<br>Song: Running<br>Dance: 72<br>Energy: 78<br>Happy: 63\",\"Artist: JAWNY<br>Song: Best Thing<br>Dance: 65<br>Energy: 74<br>Happy: 87\",\"Artist: Zack Villere<br>Song: Bloo<br>Dance: 62<br>Energy: 54<br>Happy: 54\",\"Artist: Zack Villere<br>Song: Fear of Intimacy<br>Dance: 65<br>Energy: 45<br>Happy: 16\",\"Artist: Zack Villere<br>Song: You Don't Care<br>Dance: 61<br>Energy: 61<br>Happy: 44\",\"Artist: Rex Orange County<br>Song: Television / So Far So Good<br>Dance: 41<br>Energy: 51<br>Happy: 32\",\"Artist: Rex Orange County<br>Song: Best Friend<br>Dance: 57<br>Energy: 71<br>Happy: 32\",\"Artist: Rex Orange County<br>Song: Pluto Projector<br>Dance: 38<br>Energy: 22<br>Happy: 19\",\"Artist: Curtis Waters<br>Song: Doodoodoo<br>Dance: 75<br>Energy: 63<br>Happy: 47\",\"Artist: binki<br>Song: Sea Sick<br>Dance: 82<br>Energy: 58<br>Happy: 93\",\"Artist: Swizz Beatz<br>Song: It's Me Snitches<br>Dance: 79<br>Energy: 95<br>Happy: 14\",\"Artist: JAWNY<br>Song: Honeypie<br>Dance: 74<br>Energy: 69<br>Happy: 94\",\"Artist: Tame Impala<br>Song: The Less I Know The Better<br>Dance: 64<br>Energy: 74<br>Happy: 79\",\"Artist: Jayda G<br>Song: Both Of Us - Edit<br>Dance: 74<br>Energy: 71<br>Happy: 51\",\"Artist: Rob Araujo<br>Song: Hike<br>Dance: 57<br>Energy: 38<br>Happy: 56\",\"Artist: Bluejuice<br>Song: I'll Go Crazy<br>Dance: 42<br>Energy: 88<br>Happy: 66\",\"Artist: Mick Jenkins<br>Song: What Am I To Do<br>Dance: 70<br>Energy: 73<br>Happy: 86\",\"Artist: Bruno Major<br>Song: Easily<br>Dance: 77<br>Energy: 26<br>Happy: 36\",\"Artist: Korn\\u00e9l Kov\\u00e1cs<br>Song: Szikra<br>Dance: 80<br>Energy: 93<br>Happy: 87\",\"Artist: Hellogoodbye<br>Song: When We First Met<br>Dance: 66<br>Energy: 78<br>Happy: 85\",\"Artist: Bonobo<br>Song: Linked<br>Dance: 71<br>Energy: 73<br>Happy: 24\",\"Artist: Luke Vibert<br>Song: Styles<br>Dance: 86<br>Energy: 78<br>Happy: 97\",\"Artist: Bruno Major<br>Song: Nothing<br>Dance: 56<br>Energy: 27<br>Happy: 27\",\"Artist: Bruno Major<br>Song: Cold Blood<br>Dance: 60<br>Energy: 41<br>Happy: 32\",\"Artist: Maggie Rogers<br>Song: Alaska<br>Dance: 85<br>Energy: 39<br>Happy: 18\",\"Artist: John Mayer<br>Song: Your Body Is a Wonderland<br>Dance: 65<br>Energy: 73<br>Happy: 69\",\"Artist: Korn<br>Song: Coming Undone<br>Dance: 69<br>Energy: 68<br>Happy: 55\",\"Artist: Axel Boman<br>Song: No! No! No! No!<br>Dance: 94<br>Energy: 29<br>Happy: 40\",\"Artist: The xx<br>Song: Islands<br>Dance: 87<br>Energy: 47<br>Happy: 71\",\"Artist: Rochelle Jordan<br>Song: All Along<br>Dance: 73<br>Energy: 76<br>Happy: 58\",\"Artist: Avicii<br>Song: You Make Me<br>Dance: 59<br>Energy: 73<br>Happy: 50\",\"Artist: Rhye<br>Song: Open<br>Dance: 55<br>Energy: 32<br>Happy: 23\",\"Artist: Gabriel Garz\\u00f3n-Montano<br>Song: Everything Is Everything<br>Dance: 84<br>Energy: 51<br>Happy: 95\",\"Artist: Gabriel Garz\\u00f3n-Montano<br>Song: Keep On Running<br>Dance: 90<br>Energy: 49<br>Happy: 47\",\"Artist: Olly Murs<br>Song: Dance with Me Tonight<br>Dance: 67<br>Energy: 75<br>Happy: 96\",\"Artist: Dora Jar<br>Song: Polly<br>Dance: 75<br>Energy: 91<br>Happy: 76\",\"Artist: Doss<br>Song: Strawberry<br>Dance: 40<br>Energy: 92<br>Happy: 7\",\"Artist: underscores<br>Song: Second hand embarrassment<br>Dance: 79<br>Energy: 45<br>Happy: 79\",\"Artist: Jai Wolf<br>Song: Lose My Mind (feat. Mr Gabriel)<br>Dance: 61<br>Energy: 78<br>Happy: 51\",\"Artist: Olivia Rodrigo<br>Song: deja vu<br>Dance: 44<br>Energy: 61<br>Happy: 18\",\"Artist: The Temper Trap<br>Song: Love Lost<br>Dance: 55<br>Energy: 57<br>Happy: 35\",\"Artist: Unknown Mortal Orchestra<br>Song: Hunnybee<br>Dance: 96<br>Energy: 37<br>Happy: 57\",\"Artist: Jelani Aryeh<br>Song: Stella Brown<br>Dance: 72<br>Energy: 48<br>Happy: 59\",\"Artist: Yellow Days<br>Song: Gap in the Clouds<br>Dance: 58<br>Energy: 54<br>Happy: 20\",\"Artist: Unknown Mortal Orchestra<br>Song: So Good At Being in Trouble<br>Dance: 83<br>Energy: 44<br>Happy: 59\",\"Artist: Unknown Mortal Orchestra<br>Song: Secret Xtians<br>Dance: 75<br>Energy: 43<br>Happy: 26\",\"Artist: Unknown Mortal Orchestra<br>Song: That Life<br>Dance: 88<br>Energy: 71<br>Happy: 87\",\"Artist: Bilderbuch<br>Song: Maschin<br>Dance: 60<br>Energy: 59<br>Happy: 67\",\"Artist: Bilderbuch<br>Song: Checkpoint (Nie Game Over)<br>Dance: 68<br>Energy: 74<br>Happy: 54\",\"Artist: Deftones<br>Song: Good Morning Beautiful<br>Dance: 33<br>Energy: 97<br>Happy: 33\",\"Artist: Armando Young<br>Song: Loved Ones (Saudades)<br>Dance: 75<br>Energy: 56<br>Happy: 53\",\"Artist: Raydio<br>Song: Jack and Jill<br>Dance: 69<br>Energy: 66<br>Happy: 54\",\"Artist: Raydio<br>Song: You Can't Change That<br>Dance: 69<br>Energy: 71<br>Happy: 89\",\"Artist: A Tribe Called Quest<br>Song: Award Tour<br>Dance: 81<br>Energy: 70<br>Happy: 51\",\"Artist: Barry Can't Swim<br>Song: Jazz Club After Hours<br>Dance: 72<br>Energy: 68<br>Happy: 44\",\"Artist: Paris Texas<br>Song: FORCE OF HABIT<br>Dance: 66<br>Energy: 44<br>Happy: 48\",\"Artist: Hiatus Kaiyote,Q-Tip<br>Song: Nakamarra (feat. Q-Tip)<br>Dance: 55<br>Energy: 53<br>Happy: 32\",\"Artist: Q-Tip,Norah Jones<br>Song: Life Is Better<br>Dance: 88<br>Energy: 44<br>Happy: 69\",\"Artist: Bruce Trail<br>Song: Bridgework<br>Dance: 80<br>Energy: 68<br>Happy: 30\",\"Artist: iamalex,Hip Dozer<br>Song: Changed<br>Dance: 81<br>Energy: 64<br>Happy: 74\",\"Artist: Vladimir Cauchemar,Asdek,Laylow,Rim'K<br>Song: Brrr<br>Dance: 87<br>Energy: 66<br>Happy: 71\",\"Artist: iamalex,Hip Dozer<br>Song: Summer Goes By<br>Dance: 77<br>Energy: 84<br>Happy: 72\",\"Artist: Gavinco<br>Song: Caravella - Edit<br>Dance: 86<br>Energy: 61<br>Happy: 45\",\"Artist: Rick Wade<br>Song: Shinjuku Strut<br>Dance: 56<br>Energy: 69<br>Happy: 64\",\"Artist: Soulwax<br>Song: Is It Always Binary<br>Dance: 82<br>Energy: 89<br>Happy: 93\",\"Artist: Soulwax<br>Song: Saturday<br>Dance: 69<br>Energy: 65<br>Happy: 78\",\"Artist: Soulwax<br>Song: Too Many DJs<br>Dance: 50<br>Energy: 83<br>Happy: 62\",\"Artist: Paris Texas<br>Song: BULLSEYE<br>Dance: 82<br>Energy: 80<br>Happy: 64\",\"Artist: Current Joys<br>Song: Kids<br>Dance: 83<br>Energy: 66<br>Happy: 90\",\"Artist: Eagles<br>Song: One of These Nights - 2013 Remaster<br>Dance: 66<br>Energy: 61<br>Happy: 77\",\"Artist: Christian Leave<br>Song: 10 Steps<br>Dance: 25<br>Energy: 84<br>Happy: 66\",\"Artist: Christian Leave<br>Song: Your Life Your Time<br>Dance: 53<br>Energy: 82<br>Happy: 87\",\"Artist: Bomba Est\\u00e9reo<br>Song: Soy Yo<br>Dance: 89<br>Energy: 58<br>Happy: 79\",\"Artist: Real Friends<br>Song: Me First<br>Dance: 51<br>Energy: 95<br>Happy: 66\",\"Artist: Dismemberment Plan<br>Song: A Life of Possibilities<br>Dance: 71<br>Energy: 84<br>Happy: 50\",\"Artist: Mr. Bill<br>Song: The Enabler & the Enabled<br>Dance: 76<br>Energy: 47<br>Happy: 82\",\"Artist: Nipsey Hussle,Belly,Dom Kennedy<br>Song: Double Up (feat. Belly and Dom Kennedy)<br>Dance: 60<br>Energy: 44<br>Happy: 24\",\"Artist: The White Lamp<br>Song: It's You - Ron Basejam Remix<br>Dance: 87<br>Energy: 40<br>Happy: 69\",\"Artist: The White Lamp<br>Song: It's You<br>Dance: 92<br>Energy: 56<br>Happy: 84\",\"Artist: p-rallel,Greentea Peng<br>Song: soulboy<br>Dance: 65<br>Energy: 72<br>Happy: 74\",\"Artist: Natanael Cano<br>Song: Diamantes<br>Dance: 66<br>Energy: 76<br>Happy: 51\",\"Artist: Rich The Kid,YoungBoy Never Broke Again<br>Song: Automatic<br>Dance: 80<br>Energy: 57<br>Happy: 51\",\"Artist: Natanael Cano,Junior H,Ovi<br>Song: Verdes Verdes<br>Dance: 75<br>Energy: 63<br>Happy: 90\",\"Artist: Eli Way,cehryl<br>Song: If It Makes You Happy<br>Dance: 63<br>Energy: 60<br>Happy: 55\",\"Artist: CLAIRE<br>Song: Games<br>Dance: 71<br>Energy: 71<br>Happy: 59\",\"Artist: Benny Sings,Mac DeMarco<br>Song: Rolled Up<br>Dance: 79<br>Energy: 46<br>Happy: 41\",\"Artist: King Garbage<br>Song: Forbidden Lovers<br>Dance: 77<br>Energy: 63<br>Happy: 83\",\"Artist: VIC MENSA<br>Song: Liquor Locker<br>Dance: 50<br>Energy: 43<br>Happy: 45\",\"Artist: Steve Lacy<br>Song: Dark Red<br>Dance: 60<br>Energy: 78<br>Happy: 78\",\"Artist: Daedelus<br>Song: Special Re: Quest<br>Dance: 68<br>Energy: 84<br>Happy: 56\",\"Artist: BENEE<br>Song: Glitter<br>Dance: 80<br>Energy: 59<br>Happy: 58\",\"Artist: Sum 41<br>Song: The Hell Song<br>Dance: 36<br>Energy: 94<br>Happy: 66\",\"Artist: Sara Bareilles<br>Song: Love Song<br>Dance: 58<br>Energy: 79<br>Happy: 57\",\"Artist: dexter<br>Song: Blue Skies<br>Dance: 74<br>Energy: 70<br>Happy: 86\",\"Artist: KillBunk<br>Song: Chanel Bag<br>Dance: 77<br>Energy: 61<br>Happy: 70\",\"Artist: Quentin Miller,Sy Ari<br>Song: Still Standin'<br>Dance: 92<br>Energy: 34<br>Happy: 56\",\"Artist: morgxn<br>Song: home<br>Dance: 67<br>Energy: 71<br>Happy: 85\",\"Artist: Basshunter<br>Song: All I Ever Wanted - Radio Edit<br>Dance: 65<br>Energy: 98<br>Happy: 55\",\"Artist: Earth, Wind & Fire<br>Song: September<br>Dance: 70<br>Energy: 83<br>Happy: 98\",\"Artist: The Gap Band<br>Song: Outstanding - Original 12 Mix\\\"<br>Dance: 79<br>Energy: 48<br>Happy: 82\",\"Artist: Channel Tres<br>Song: Controller<br>Dance: 89<br>Energy: 68<br>Happy: 69\",\"Artist: Channel Tres<br>Song: Topdown<br>Dance: 83<br>Energy: 54<br>Happy: 49\",\"Artist: Polo & Pan<br>Song: Nan\\u00e3<br>Dance: 69<br>Energy: 74<br>Happy: 39\",\"Artist: femdot.<br>Song: 94 Camry Music<br>Dance: 69<br>Energy: 64<br>Happy: 55\",\"Artist: Smino,Jean Deaux,Phoelix<br>Song: Kajun<br>Dance: 48<br>Energy: 47<br>Happy: 42\",\"Artist: Bambooman<br>Song: Feel<br>Dance: 79<br>Energy: 62<br>Happy: 49\",\"Artist: Danny Ocean<br>Song: Dembow<br>Dance: 80<br>Energy: 74<br>Happy: 45\",\"Artist: Danny Ocean<br>Song: Swing<br>Dance: 73<br>Energy: 62<br>Happy: 53\",\"Artist: The Mar\\u00edas,Still Woozy<br>Song: Hush - Still Woozy Remix<br>Dance: 71<br>Energy: 55<br>Happy: 56\",\"Artist: The Mar\\u00edas<br>Song: Cari\\u00f1o<br>Dance: 65<br>Energy: 39<br>Happy: 66\",\"Artist: TEMPOREX<br>Song: Nice Boys<br>Dance: 56<br>Energy: 67<br>Happy: 32\",\"Artist: Sure Sure<br>Song: Warm Animal<br>Dance: 79<br>Energy: 38<br>Happy: 77\",\"Artist: ROSAL\\u00cdA<br>Song: SAOKO<br>Dance: 83<br>Energy: 77<br>Happy: 73\",\"Artist: TEMPOREX<br>Song: Delayed<br>Dance: 85<br>Energy: 50<br>Happy: 96\",\"Artist: FKJ,((( O )))<br>Song: Ylang Ylang<br>Dance: 56<br>Energy: 24<br>Happy: 16\",\"Artist: FKJ<br>Song: Skyline<br>Dance: 70<br>Energy: 43<br>Happy: 27\",\"Artist: FKJ<br>Song: Instant Need<br>Dance: 77<br>Energy: 49<br>Happy: 57\",\"Artist: FKJ<br>Song: So Much to Me<br>Dance: 78<br>Energy: 49<br>Happy: 35\",\"Artist: Fka Mash<br>Song: No Talking<br>Dance: 83<br>Energy: 42<br>Happy: 54\",\"Artist: Dam Swindle<br>Song: The Break Up - Original Mix<br>Dance: 71<br>Energy: 81<br>Happy: 24\",\"Artist: Finch<br>Song: Letters To You<br>Dance: 41<br>Energy: 85<br>Happy: 34\",\"Artist: Calvin Harris<br>Song: Flashback<br>Dance: 27<br>Energy: 95<br>Happy: 20\",\"Artist: Corinne Bailey Rae<br>Song: Put Your Records On<br>Dance: 74<br>Energy: 51<br>Happy: 54\",\"Artist: tricot<br>Song: \\u5e7d\\u970a\\u8239<br>Dance: 47<br>Energy: 49<br>Happy: 53\",\"Artist: Myd,JAWNY<br>Song: The Sun (feat. JAWNY)<br>Dance: 74<br>Energy: 74<br>Happy: 84\",\"Artist: Still Woozy,ODIE<br>Song: Lucy<br>Dance: 65<br>Energy: 54<br>Happy: 85\",\"Artist: Mamalarky<br>Song: Meadow<br>Dance: 40<br>Energy: 52<br>Happy: 72\",\"Artist: Montell Jordan,Wino<br>Song: This Is How We Do It<br>Dance: 78<br>Energy: 61<br>Happy: 79\",\"Artist: Tevin Campbell<br>Song: Can We Talk<br>Dance: 66<br>Energy: 71<br>Happy: 61\",\"Artist: Mary J. Blige<br>Song: Real Love<br>Dance: 77<br>Energy: 78<br>Happy: 83\",\"Artist: Bizarrap,Nicki Nicole<br>Song: Nicki Nicole: Bzrp Music Sessions, Vol. 13<br>Dance: 81<br>Energy: 47<br>Happy: 39\",\"Artist: Mamalarky<br>Song: Hero<br>Dance: 52<br>Energy: 72<br>Happy: 50\",\"Artist: Lucky Daye<br>Song: Feels Like<br>Dance: 84<br>Energy: 63<br>Happy: 83\",\"Artist: The City of Prague Philharmonic Orchestra,James Fitzpatrick<br>Song: Suite (From Twisted Nerve\\\")\\\"<br>Dance: 23<br>Energy: 20<br>Happy: 4\",\"Artist: Duckwrth,Sabrina Claudio<br>Song: I'M DEAD<br>Dance: 59<br>Energy: 75<br>Happy: 48\",\"Artist: Desire<br>Song: Purge<br>Dance: 72<br>Energy: 62<br>Happy: 21\",\"Artist: Kaoma<br>Song: Lambada - Original Version 1989<br>Dance: 76<br>Energy: 80<br>Happy: 97\",\"Artist: Ashanti,Nelly,Akon<br>Song: Body On Me<br>Dance: 66<br>Energy: 62<br>Happy: 74\",\"Artist: Protest The Hero<br>Song: Blindfolds Aside<br>Dance: 25<br>Energy: 82<br>Happy: 19\",\"Artist: Dee Tree,Saine<br>Song: Fading Away - Saine Remix<br>Dance: 73<br>Energy: 72<br>Happy: 66\",\"Artist: Ruze<br>Song: Chapters<br>Dance: 78<br>Energy: 95<br>Happy: 56\",\"Artist: Babyxsosa<br>Song: Everywhereigo<br>Dance: 89<br>Energy: 38<br>Happy: 51\",\"Artist: Folamour<br>Song: Petit Prince Du Macadam<br>Dance: 66<br>Energy: 79<br>Happy: 67\",\"Artist: Pavement<br>Song: Harness Your Hopes - B-side<br>Dance: 60<br>Energy: 57<br>Happy: 58\",\"Artist: Delay<br>Song: Explanation<br>Dance: 30<br>Energy: 40<br>Happy: 22\",\"Artist: Mamalarky<br>Song: How to Say<br>Dance: 24<br>Energy: 80<br>Happy: 70\",\"Artist: NAV<br>Song: Up<br>Dance: 66<br>Energy: 49<br>Happy: 38\",\"Artist: Linkin Park<br>Song: Lying from You<br>Dance: 54<br>Energy: 95<br>Happy: 72\",\"Artist: Samantha Ronson<br>Song: Built This Way - (Slow Remix)<br>Dance: 42<br>Energy: 79<br>Happy: 67\",\"Artist: KSLV Noh<br>Song: Disaster<br>Dance: 82<br>Energy: 61<br>Happy: 51\",\"Artist: KSLV Noh<br>Song: Override<br>Dance: 69<br>Energy: 76<br>Happy: 54\",\"Artist: KSLV Noh<br>Song: Dynamic<br>Dance: 76<br>Energy: 68<br>Happy: 68\",\"Artist: Dam Swindle,Mayer Hawthorne<br>Song: 64 Ways<br>Dance: 76<br>Energy: 73<br>Happy: 53\",\"Artist: Kerri Chandler,Atjazz<br>Song: Rain - Atjazz Remix<br>Dance: 72<br>Energy: 85<br>Happy: 20\",\"Artist: Hunee<br>Song: Rare Happiness<br>Dance: 81<br>Energy: 69<br>Happy: 72\",\"Artist: Jesse Bru,Max Ulis<br>Song: Banh Mi<br>Dance: 82<br>Energy: 92<br>Happy: 14\",\"Artist: Coeo<br>Song: Like It Is<br>Dance: 90<br>Energy: 68<br>Happy: 66\",\"Artist: Carpet Patrol<br>Song: Indian Slap<br>Dance: 53<br>Energy: 63<br>Happy: 79\",\"Artist: HNNY<br>Song: Nothing - Original Mix<br>Dance: 79<br>Energy: 43<br>Happy: 96\",\"Artist: HNNY<br>Song: No Tears - Original Mix<br>Dance: 95<br>Energy: 31<br>Happy: 38\",\"Artist: Kesha<br>Song: TiK ToK<br>Dance: 76<br>Energy: 84<br>Happy: 71\",\"Artist: Borialis<br>Song: Don't Mean A Thing<br>Dance: 51<br>Energy: 97<br>Happy: 34\",\"Artist: Pinback<br>Song: Non Photo-Blue<br>Dance: 74<br>Energy: 84<br>Happy: 93\",\"Artist: Nirvana<br>Song: Something In The Way<br>Dance: 43<br>Energy: 20<br>Happy: 7\",\"Artist: Young Thug<br>Song: Cruise Ship<br>Dance: 79<br>Energy: 74<br>Happy: 21\",\"Artist: HNNY<br>Song: Tears - Original Mix<br>Dance: 88<br>Energy: 28<br>Happy: 48\",\"Artist: Knuckle Puck<br>Song: Tune You Out<br>Dance: 32<br>Energy: 95<br>Happy: 53\",\"Artist: Curtis Waters,Harm Franklin<br>Song: Stunnin' (feat. Harm Franklin)<br>Dance: 89<br>Energy: 69<br>Happy: 94\",\"Artist: LK<br>Song: (I Wanna) Make Luv 2 U<br>Dance: 77<br>Energy: 80<br>Happy: 73\",\"Artist: Edu Imbernon,Duologue,Tuff City Kids<br>Song: Underworld - Tuff City Kids Remix<br>Dance: 77<br>Energy: 73<br>Happy: 27\",\"Artist: Sakro<br>Song: Everybody Dies Young - Original Mix<br>Dance: 82<br>Energy: 56<br>Happy: 36\",\"Artist: Michel Degen,Mikhu<br>Song: Armonia<br>Dance: 81<br>Energy: 79<br>Happy: 17\",\"Artist: B77<br>Song: Fleur<br>Dance: 77<br>Energy: 60<br>Happy: 24\",\"Artist: Niles Cooper<br>Song: Oldtown Dub<br>Dance: 79<br>Energy: 91<br>Happy: 30\",\"Artist: Coastal<br>Song: Careless<br>Dance: 62<br>Energy: 24<br>Happy: 32\",\"Artist: The Voyagers,Haris,Oliver Heldens<br>Song: A Lot Like Love (feat. Haris) - Oliver Heldens Edit<br>Dance: 82<br>Energy: 82<br>Happy: 45\",\"Artist: The Frightnrs<br>Song: Always<br>Dance: 59<br>Energy: 61<br>Happy: 64\",\"Artist: Friendly Fires<br>Song: Skeleton Boy<br>Dance: 62<br>Energy: 92<br>Happy: 79\",\"Artist: Skyharbor<br>Song: Evolution<br>Dance: 20<br>Energy: 87<br>Happy: 16\",\"Artist: Destiny Potato<br>Song: Indifferent<br>Dance: 54<br>Energy: 91<br>Happy: 38\",\"Artist: Moomin<br>Song: Maybe Tomorrow<br>Dance: 81<br>Energy: 84<br>Happy: 79\",\"Artist: Men I Trust<br>Song: Show Me How<br>Dance: 79<br>Energy: 27<br>Happy: 54\",\"Artist: Men I Trust<br>Song: Tailwhip<br>Dance: 80<br>Energy: 66<br>Happy: 60\",\"Artist: Men I Trust<br>Song: Seven<br>Dance: 69<br>Energy: 42<br>Happy: 83\",\"Artist: Max Graef<br>Song: No 5<br>Dance: 82<br>Energy: 68<br>Happy: 61\",\"Artist: Verzache<br>Song: All I Need<br>Dance: 66<br>Energy: 79<br>Happy: 32\",\"Artist: Hovvdy<br>Song: True Love<br>Dance: 51<br>Energy: 76<br>Happy: 49\",\"Artist: Hovvdy<br>Song: Cathedral<br>Dance: 39<br>Energy: 57<br>Happy: 43\",\"Artist: Kate Bollinger<br>Song: Who Am I But Someone<br>Dance: 56<br>Energy: 50<br>Happy: 79\",\"Artist: Kate Bollinger<br>Song: Yards / Gardens<br>Dance: 80<br>Energy: 55<br>Happy: 74\",\"Artist: Sports Team<br>Song: Cool It Kid<br>Dance: 47<br>Energy: 84<br>Happy: 50\",\"Artist: Surf Curse<br>Song: Freaks<br>Dance: 35<br>Energy: 94<br>Happy: 41\",\"Artist: MICHELLE<br>Song: MESS U MADE<br>Dance: 67<br>Energy: 37<br>Happy: 35\",\"Artist: MICHELLE<br>Song: SUNRISE<br>Dance: 82<br>Energy: 44<br>Happy: 68\",\"Artist: MICHELLE<br>Song: THE BOTTOM<br>Dance: 75<br>Energy: 61<br>Happy: 84\",\"Artist: MICHELLE<br>Song: STUCK ON U<br>Dance: 64<br>Energy: 58<br>Happy: 73\",\"Artist: River Tiber<br>Song: Acid Test<br>Dance: 17<br>Energy: 76<br>Happy: 10\",\"Artist: Dominic Fike<br>Song: Westcoast Collective<br>Dance: 68<br>Energy: 57<br>Happy: 54\",\"Artist: 347aidan<br>Song: Dancing in My Room<br>Dance: 98<br>Energy: 41<br>Happy: 76\",\"Artist: Sudan Archives<br>Song: NBPQ (Topless)<br>Dance: 52<br>Energy: 83<br>Happy: 45\",\"Artist: Oscar Lang,Wallice<br>Song: I've Never Been To LA (Edit)<br>Dance: 51<br>Energy: 77<br>Happy: 60\",\"Artist: R\\u00eave<br>Song: Tongue<br>Dance: 82<br>Energy: 82<br>Happy: 65\",\"Artist: Snail Mail<br>Song: Feeling Like I Do - Spotify Singles<br>Dance: 48<br>Energy: 83<br>Happy: 72\",\"Artist: Snail Mail<br>Song: Pristine<br>Dance: 48<br>Energy: 69<br>Happy: 29\",\"Artist: Zachary Knowles<br>Song: CIGARETTES<br>Dance: 72<br>Energy: 48<br>Happy: 69\",\"Artist: Pete Yorn<br>Song: Strange Condition<br>Dance: 52<br>Energy: 83<br>Happy: 88\",\"Artist: Aaron May,JAY Millz<br>Song: How I Am (feat. Jay Millz)<br>Dance: 71<br>Energy: 38<br>Happy: 55\",\"Artist: Yoshi T.<br>Song: MCQUEEN<br>Dance: 76<br>Energy: 62<br>Happy: 49\",\"Artist: Tom The Mail Man<br>Song: Traveling Alone<br>Dance: 69<br>Energy: 60<br>Happy: 42\",\"Artist: Starjunk 95<br>Song: Groove District<br>Dance: 78<br>Energy: 85<br>Happy: 20\",\"Artist: Obsk\\u00fcr<br>Song: Bayside - Radio Edit<br>Dance: 69<br>Energy: 90<br>Happy: 71\",\"Artist: 32 Leaves<br>Song: Never Even There<br>Dance: 43<br>Energy: 79<br>Happy: 44\",\"Artist: 32 Leaves<br>Song: Sudden Change<br>Dance: 18<br>Energy: 88<br>Happy: 36\",\"Artist: 32 Leaves<br>Song: Blood On My Hands<br>Dance: 33<br>Energy: 89<br>Happy: 49\",\"Artist: Lykke Li<br>Song: sex money feelings die<br>Dance: 79<br>Energy: 53<br>Happy: 63\",\"Artist: Blood Orange<br>Song: Charcoal Baby<br>Dance: 62<br>Energy: 46<br>Happy: 51\",\"Artist: Blood Orange<br>Song: You're Not Good Enough<br>Dance: 74<br>Energy: 80<br>Happy: 57\",\"Artist: Taro Asama<br>Song: Hiratsuka\\u2019s Summer<br>Dance: 80<br>Energy: 72<br>Happy: 34\",\"Artist: Oden & Fatzo<br>Song: Equinox<br>Dance: 77<br>Energy: 84<br>Happy: 39\",\"Artist: The Smashing Pumpkins<br>Song: 1979 - Remastered 2012<br>Dance: 77<br>Energy: 79<br>Happy: 96\",\"Artist: The Smashing Pumpkins<br>Song: Mayonaise - 2011 Remaster<br>Dance: 48<br>Energy: 53<br>Happy: 9\",\"Artist: Bring Me The Horizon<br>Song: Chelsea Smile<br>Dance: 41<br>Energy: 89<br>Happy: 22\",\"Artist: Underoath<br>Song: Writing On The Walls<br>Dance: 36<br>Energy: 96<br>Happy: 17\",\"Artist: Forever The Sickest Kids<br>Song: She's A Lady<br>Dance: 44<br>Energy: 91<br>Happy: 59\",\"Artist: Forever The Sickest Kids<br>Song: Believe Me, I'm Lying<br>Dance: 40<br>Energy: 90<br>Happy: 60\",\"Artist: August Burns Red<br>Song: Composure<br>Dance: 23<br>Energy: 98<br>Happy: 18\",\"Artist: Forever The Sickest Kids<br>Song: Believe Me, I'm Lying - Original Demo<br>Dance: 50<br>Energy: 88<br>Happy: 72\",\"Artist: Frou Frou<br>Song: Let Go<br>Dance: 52<br>Energy: 56<br>Happy: 20\",\"Artist: Frou Frou,Imogen Heap,Guy Sigsworth<br>Song: A New Kind Of Love - Demo<br>Dance: 67<br>Energy: 49<br>Happy: 33\",\"Artist: Steve Lacy,Foushe\\u00e9<br>Song: Sunshine (feat. Foushe\\u00e9)<br>Dance: 70<br>Energy: 69<br>Happy: 74\",\"Artist: From First To Last<br>Song: Note to Self<br>Dance: 21<br>Energy: 94<br>Happy: 31\",\"Artist: tricot<br>Song: \\u306a\\u304b<br>Dance: 57<br>Energy: 53<br>Happy: 74\",\"Artist: The Fall of Troy<br>Song: Dirty Pillow Talk<br>Dance: 43<br>Energy: 82<br>Happy: 56\",\"Artist: Tian Karl<br>Song: Adjustable Beliefs<br>Dance: 80<br>Energy: 69<br>Happy: 54\",\"Artist: Mr. Fingers<br>Song: Can You Feel It<br>Dance: 68<br>Energy: 50<br>Happy: 67\",\"Artist: Roy Blair<br>Song: FANTAZIA<br>Dance: 87<br>Energy: 53<br>Happy: 65\",\"Artist: Roy Blair<br>Song: Thunder<br>Dance: 67<br>Energy: 32<br>Happy: 16\",\"Artist: Duster<br>Song: Inside Out<br>Dance: 55<br>Energy: 47<br>Happy: 65\",\"Artist: Duster<br>Song: Constellations<br>Dance: 87<br>Energy: 33<br>Happy: 14\",\"Artist: Day Wave<br>Song: Loner<br>Dance: 57<br>Energy: 79<br>Happy: 49\",\"Artist: SALES<br>Song: Renee<br>Dance: 92<br>Energy: 39<br>Happy: 42\",\"Artist: Outlandish<br>Song: Aicha<br>Dance: 74<br>Energy: 64<br>Happy: 63\",\"Artist: Veil Of Maya<br>Song: We Bow In Its Aura<br>Dance: 35<br>Energy: 96<br>Happy: 26\",\"Artist: Veil Of Maya<br>Song: Namaste<br>Dance: 36<br>Energy: 91<br>Happy: 32\",\"Artist: Veil Of Maya<br>Song: Crawl Back<br>Dance: 43<br>Energy: 83<br>Happy: 29\",\"Artist: Born Of Osiris<br>Song: Abstract Art<br>Dance: 35<br>Energy: 98<br>Happy: 41\",\"Artist: Job For A Cowboy<br>Song: Entombment of a Machine<br>Dance: 20<br>Energy: 97<br>Happy: 22\",\"Artist: Tyler Burkhart<br>Song: Just how I love you<br>Dance: 65<br>Energy: 16<br>Happy: 5\",\"Artist: Champion,Etta Bond,Double S<br>Song: On A Beach - Champion Remix<br>Dance: 83<br>Energy: 71<br>Happy: 54\",\"Artist: Allure<br>Song: Glow<br>Dance: 77<br>Energy: 82<br>Happy: 63\",\"Artist: ROSAL\\u00cdA<br>Song: PIENSO EN TU MIR\\u00c1 - Cap.3: Celos<br>Dance: 66<br>Energy: 69<br>Happy: 41\",\"Artist: Jesse Maas,Limitu<br>Song: Untitled 1<br>Dance: 80<br>Energy: 79<br>Happy: 81\",\"Artist: Totally Enormous Extinct Dinosaurs<br>Song: A Dream I Have<br>Dance: 78<br>Energy: 82<br>Happy: 33\",\"Artist: Kat Leigh<br>Song: Somebody Else<br>Dance: 21<br>Energy: 70<br>Happy: 29\",\"Artist: KLARDUST<br>Song: The Key - Radio Edit<br>Dance: 79<br>Energy: 75<br>Happy: 51\",\"Artist: Obscura<br>Song: The Anticosmic Overload<br>Dance: 53<br>Energy: 98<br>Happy: 22\",\"Artist: Mellow Fellow,Clairo<br>Song: How Was Your Day?<br>Dance: 45<br>Energy: 44<br>Happy: 78\",\"Artist: Garbage<br>Song: Even Though Our Love Is Doomed<br>Dance: 53<br>Energy: 41<br>Happy: 5\",\"Artist: fun.,Janelle Mon\\u00e1e<br>Song: We Are Young (feat. Janelle Mon\\u00e1e)<br>Dance: 38<br>Energy: 64<br>Happy: 74\",\"Artist: fun.<br>Song: Some Nights<br>Dance: 67<br>Energy: 74<br>Happy: 39\",\"Artist: Wild Party<br>Song: OutRight<br>Dance: 55<br>Energy: 82<br>Happy: 57\",\"Artist: Lil Halima<br>Song: Would U<br>Dance: 75<br>Energy: 34<br>Happy: 37\",\"Artist: Slow Pulp<br>Song: Preoccupied<br>Dance: 69<br>Energy: 72<br>Happy: 76\",\"Artist: Happy Dagger<br>Song: Lament<br>Dance: 81<br>Energy: 66<br>Happy: 67\",\"Artist: Limp Bizkit<br>Song: Behind Blue Eyes<br>Dance: 60<br>Energy: 49<br>Happy: 9\",\"Artist: Belmont<br>Song: Overstepping<br>Dance: 53<br>Energy: 99<br>Happy: 47\",\"Artist: Steve Lacy<br>Song: Bad Habit<br>Dance: 69<br>Energy: 49<br>Happy: 70\",\"Artist: Girls of the Internet<br>Song: When U Go<br>Dance: 87<br>Energy: 33<br>Happy: 61\",\"Artist: Lee Foss,Infinity Ink<br>Song: Till The Light<br>Dance: 88<br>Energy: 61<br>Happy: 83\",\"Artist: Sacha Distel<br>Song: N 1 For Sacha<br>Dance: 67<br>Energy: 24<br>Happy: 83\",\"Artist: Tchami,Kaleem Taylor<br>Song: Promesses - Radio Edit<br>Dance: 72<br>Energy: 78<br>Happy: 51\",\"Artist: AlunaGeorge,Tchami<br>Song: You Know You Like It - Tchami Remix<br>Dance: 82<br>Energy: 84<br>Happy: 59\",\"Artist: Polyphia,Mateus Asato<br>Song: Drown (feat. Mateus Asato)<br>Dance: 61<br>Energy: 83<br>Happy: 18\",\"Artist: The Kooks<br>Song: She Moves In Her Own Way<br>Dance: 43<br>Energy: 81<br>Happy: 80\",\"Artist: The Kooks<br>Song: Naive<br>Dance: 55<br>Energy: 82<br>Happy: 72\",\"Artist: Junior H<br>Song: Se Amerita<br>Dance: 75<br>Energy: 72<br>Happy: 54\",\"Artist: Junior H<br>Song: Clave Ali<br>Dance: 65<br>Energy: 70<br>Happy: 61\",\"Artist: Junior H<br>Song: No Me Pesa<br>Dance: 51<br>Energy: 74<br>Happy: 51\",\"Artist: Natanael Cano<br>Song: El Drip<br>Dance: 73<br>Energy: 70<br>Happy: 87\",\"Artist: Unusual Demont<br>Song: AMBER<br>Dance: 88<br>Energy: 76<br>Happy: 70\",\"Artist: Momma<br>Song: Speeding 72<br>Dance: 58<br>Energy: 80<br>Happy: 80\",\"Artist: Eiafuawn<br>Song: No More Like That<br>Dance: 83<br>Energy: 43<br>Happy: 87\",\"Artist: Blue Smiley<br>Song: control<br>Dance: 38<br>Energy: 64<br>Happy: 41\",\"Artist: Bien et Toi,sophie meiers,carpetgarden<br>Song: Topo (feat. sophie meiers & carpetgarden)<br>Dance: 86<br>Energy: 60<br>Happy: 43\",\"Artist: Spilly Cave<br>Song: minutia<br>Dance: 75<br>Energy: 47<br>Happy: 43\",\"Artist: Washed Out<br>Song: Feel It All Around<br>Dance: 34<br>Energy: 74<br>Happy: 50\",\"Artist: Eiafuawn<br>Song: The Coffin Was So Light I Thought It Might Float Away<br>Dance: 77<br>Energy: 38<br>Happy: 37\",\"Artist: Hovvdy<br>Song: Ruby<br>Dance: 59<br>Energy: 92<br>Happy: 80\",\"Artist: Momma<br>Song: Medicine<br>Dance: 67<br>Energy: 73<br>Happy: 82\",\"Artist: Focus<br>Song: Hocus Pocus - Original Single Version<br>Dance: 27<br>Energy: 82<br>Happy: 43\",\"Artist: Kosmo Kint,Atjazz<br>Song: Too Big - Atjazz Remix<br>Dance: 80<br>Energy: 73<br>Happy: 17\",\"Artist: Coral O'Connor<br>Song: High Fashion<br>Dance: 79<br>Energy: 87<br>Happy: 21\",\"Artist: St. Vincent<br>Song: Masseduction<br>Dance: 70<br>Energy: 60<br>Happy: 44\",\"Artist: St. Vincent<br>Song: New York<br>Dance: 37<br>Energy: 45<br>Happy: 33\",\"Artist: V.I.C.A.R.I.<br>Song: Pasci\\u00e0 (Dub)<br>Dance: 79<br>Energy: 58<br>Happy: 95\",\"Artist: Carlo,Retromigration<br>Song: Earth Two<br>Dance: 80<br>Energy: 78<br>Happy: 76\",\"Artist: Black Loops,Nikoss,Seven Davis Jr<br>Song: Remind Me<br>Dance: 82<br>Energy: 48<br>Happy: 83\",\"Artist: V.I.C.A.R.I.<br>Song: Pasci\\u00e0<br>Dance: 81<br>Energy: 59<br>Happy: 71\",\"Artist: Russ<br>Song: Psycho, Pt. 2<br>Dance: 77<br>Energy: 55<br>Happy: 42\",\"Artist: Marsicans<br>Song: Friends<br>Dance: 44<br>Energy: 47<br>Happy: 52\",\"Artist: Elli Ingram<br>Song: Sweet & Sour<br>Dance: 64<br>Energy: 60<br>Happy: 56\",\"Artist: Matisse<br>Song: Cuando Te Encontr\\u00e9<br>Dance: 67<br>Energy: 82<br>Happy: 65\",\"Artist: Matisse<br>Song: M\\u00e1s Que Amigos<br>Dance: 64<br>Energy: 71<br>Happy: 74\",\"Artist: CamelPhat,Elderbrook<br>Song: Cola<br>Dance: 71<br>Energy: 74<br>Happy: 44\",\"Artist: monte booker,Naji<br>Song: Mona Lisa<br>Dance: 49<br>Energy: 43<br>Happy: 33\",\"Artist: Eve,Gwen Stefani<br>Song: Let Me Blow Ya Mind<br>Dance: 91<br>Energy: 56<br>Happy: 90\",\"Artist: Flume,Jezzabell Doran<br>Song: Sleepless<br>Dance: 53<br>Energy: 69<br>Happy: 39\",\"Artist: The Backseat Lovers<br>Song: Growing/Dying<br>Dance: 47<br>Energy: 40<br>Happy: 24\",\"Artist: Steve Lacy<br>Song: C U Girl<br>Dance: 41<br>Energy: 47<br>Happy: 41\",\"Artist: Steve Lacy<br>Song: Some<br>Dance: 78<br>Energy: 55<br>Happy: 63\",\"Artist: Dreamer Isioma<br>Song: Sensitive<br>Dance: 60<br>Energy: 65<br>Happy: 35\",\"Artist: NEIKED,Mae Muller,Polo G<br>Song: Better Days (NEIKED x Mae Muller x Polo G)<br>Dance: 72<br>Energy: 67<br>Happy: 70\",\"Artist: The Drums<br>Song: Money<br>Dance: 60<br>Energy: 92<br>Happy: 45\",\"Artist: No Vacation<br>Song: Dr\\u00e6m Girl<br>Dance: 19<br>Energy: 95<br>Happy: 26\",\"Artist: Vacations<br>Song: Young<br>Dance: 50<br>Energy: 81<br>Happy: 59\",\"Artist: Current Joys<br>Song: New Flesh<br>Dance: 62<br>Energy: 59<br>Happy: 70\",\"Artist: The Backseat Lovers<br>Song: Just a Boy<br>Dance: 59<br>Energy: 53<br>Happy: 30\",\"Artist: WILLOW<br>Song: curious/furious<br>Dance: 55<br>Energy: 75<br>Happy: 69\",\"Artist: Phoenix,Ezra Koenig<br>Song: Tonight (feat. Ezra Koenig)<br>Dance: 67<br>Energy: 74<br>Happy: 89\",\"Artist: Wunderhorse<br>Song: Leader of the Pack<br>Dance: 51<br>Energy: 97<br>Happy: 59\",\"Artist: Dreamer Isioma<br>Song: Meadows in Japan<br>Dance: 62<br>Energy: 34<br>Happy: 37\",\"Artist: Wunderhorse<br>Song: Atlantis<br>Dance: 46<br>Energy: 47<br>Happy: 23\",\"Artist: beabadoobee<br>Song: Tired<br>Dance: 63<br>Energy: 42<br>Happy: 35\",\"Artist: beabadoobee<br>Song: Coffee<br>Dance: 53<br>Energy: 14<br>Happy: 30\",\"Artist: Stacey Ryan<br>Song: Fall In Love Alone<br>Dance: 68<br>Energy: 63<br>Happy: 52\",\"Artist: Beach Bunny<br>Song: Prom Queen<br>Dance: 53<br>Energy: 80<br>Happy: 75\",\"Artist: Sushi Soucy<br>Song: I Deserve to Bleed<br>Dance: 76<br>Energy: 28<br>Happy: 60\",\"Artist: Sushi Soucy<br>Song: Do I Deserve It<br>Dance: 73<br>Energy: 17<br>Happy: 41\",\"Artist: Doll Spirit Vessel<br>Song: Sun Death<br>Dance: 73<br>Energy: 53<br>Happy: 39\",\"Artist: Ian Pooley<br>Song: Venasque<br>Dance: 76<br>Energy: 76<br>Happy: 96\",\"Artist: Bulldog Eyes<br>Song: Blister<br>Dance: 47<br>Energy: 54<br>Happy: 48\",\"Artist: Linkin Park,DJ Babu,Pharoahe Monch,Evidence<br>Song: H! Vltg3 (Evidence Reanimation) [feat. Pharoahe Monch and DJ Babu]<br>Dance: 66<br>Energy: 94<br>Happy: 60\",\"Artist: Valencia<br>Song: The Space Between<br>Dance: 38<br>Energy: 85<br>Happy: 41\",\"Artist: Press Club<br>Song: Eugene - Single Edit<br>Dance: 23<br>Energy: 94<br>Happy: 35\",\"Artist: Dezma<br>Song: Life Is But A Mere Supply<br>Dance: 66<br>Energy: 91<br>Happy: 82\",\"Artist: Sol<br>Song: Paint<br>Dance: 89<br>Energy: 82<br>Happy: 67\",\"Artist: Mr.Kitty<br>Song: After Dark<br>Dance: 59<br>Energy: 60<br>Happy: 4\",\"Artist: Frou Frou<br>Song: Breathe In<br>Dance: 75<br>Energy: 72<br>Happy: 76\",\"Artist: Trade Wind<br>Song: Weather Eyes<br>Dance: 46<br>Energy: 49<br>Happy: 12\",\"Artist: Remi Wolf<br>Song: Quiet On Set<br>Dance: 84<br>Energy: 57<br>Happy: 65\",\"Artist: yun\\u00e8 pinku<br>Song: DC Rot<br>Dance: 69<br>Energy: 87<br>Happy: 59\",\"Artist: Logic1000,yun\\u00e8 pinku<br>Song: What You Like<br>Dance: 79<br>Energy: 54<br>Happy: 60\",\"Artist: Doss<br>Song: Look<br>Dance: 79<br>Energy: 83<br>Happy: 68\",\"Artist: blackwave.,Abhi The Nomad<br>Song: a-okay<br>Dance: 83<br>Energy: 57<br>Happy: 59\",\"Artist: blackwave.,Lute<br>Song: cracked screen<br>Dance: 85<br>Energy: 50<br>Happy: 57\",\"Artist: SOFY<br>Song: Big Talk<br>Dance: 69<br>Energy: 56<br>Happy: 66\",\"Artist: Willow Kayne<br>Song: White City<br>Dance: 62<br>Energy: 80<br>Happy: 30\",\"Artist: The Rare Occasions<br>Song: Notion<br>Dance: 31<br>Energy: 88<br>Happy: 31\",\"Artist: the bird and the bee<br>Song: Again & Again<br>Dance: 57<br>Energy: 77<br>Happy: 41\",\"Artist: Ruby Empress<br>Song: Deluca<br>Dance: 51<br>Energy: 50<br>Happy: 34\",\"Artist: Anne-Marie,Nelson Oliver<br>Song: Alarm - Oliver Nelson Remix<br>Dance: 54<br>Energy: 81<br>Happy: 81\",\"Artist: Light Jazz Academy<br>Song: Walk In Blue<br>Dance: 48<br>Energy: 21<br>Happy: 35\",\"Artist: The M Machine,Blake Hazard<br>Song: The Palace (feat. Blake Hazard)<br>Dance: 42<br>Energy: 64<br>Happy: 8\",\"Artist: Blue Foundation,Zeds Dead<br>Song: Eyes on Fire - Zeds Dead Remix<br>Dance: 61<br>Energy: 73<br>Happy: 32\",\"Artist: LF SYSTEM<br>Song: Afraid To Feel<br>Dance: 58<br>Energy: 91<br>Happy: 68\",\"Artist: Tony Romera,Karina Ramage,Badjokes<br>Song: My Mind - Badjokes Remix<br>Dance: 80<br>Energy: 72<br>Happy: 39\",\"Artist: James Hype,Miggy Dela Rosa<br>Song: Ferrari<br>Dance: 85<br>Energy: 69<br>Happy: 69\",\"Artist: Destroy Lonely<br>Song: NOSTYLIST<br>Dance: 57<br>Energy: 77<br>Happy: 50\",\"Artist: The Moth & The Flame<br>Song: Young & Unafraid<br>Dance: 51<br>Energy: 82<br>Happy: 28\",\"Artist: Skee-Lo<br>Song: I Wish<br>Dance: 67<br>Energy: 81<br>Happy: 57\",\"Artist: Estelle,Kanye West<br>Song: American Boy<br>Dance: 69<br>Energy: 73<br>Happy: 52\",\"Artist: Jack Thammarat,MAY PATCHARAPONG,Mong Kridsana<br>Song: On the Way<br>Dance: 36<br>Energy: 94<br>Happy: 55\",\"Artist: Russ<br>Song: Missin You Crazy<br>Dance: 72<br>Energy: 73<br>Happy: 28\",\"Artist: Firehorse<br>Song: Good<br>Dance: 58<br>Energy: 65<br>Happy: 60\",\"Artist: Fabich,Pastel,Jafunk,Bambie<br>Song: Ecstasy<br>Dance: 69<br>Energy: 79<br>Happy: 56\",\"Artist: Bell Biv DeVoe<br>Song: Poison<br>Dance: 84<br>Energy: 56<br>Happy: 78\",\"Artist: Setenta<br>Song: Boys and Girls<br>Dance: 66<br>Energy: 68<br>Happy: 38\",\"Artist: CAZZETTE,The High<br>Song: Sleepless - Radio Edit<br>Dance: 72<br>Energy: 60<br>Happy: 56\",\"Artist: Lorn<br>Song: Soft Room<br>Dance: 42<br>Energy: 87<br>Happy: 20\",\"Artist: Floating Points<br>Song: King Bromeliad<br>Dance: 90<br>Energy: 47<br>Happy: 29\",\"Artist: Dan Kye<br>Song: Change<br>Dance: 92<br>Energy: 94<br>Happy: 92\",\"Artist: Dan Kye<br>Song: Tolle<br>Dance: 69<br>Energy: 59<br>Happy: 71\",\"Artist: The Beatles<br>Song: Penny Lane<br>Dance: 63<br>Energy: 39<br>Happy: 65\",\"Artist: The Beatles<br>Song: Help! - Remastered 2009<br>Dance: 53<br>Energy: 73<br>Happy: 76\",\"Artist: Crazy Town<br>Song: Butterfly<br>Dance: 74<br>Energy: 81<br>Happy: 61\",\"Artist: Avenged Sevenfold<br>Song: Dear God<br>Dance: 47<br>Energy: 77<br>Happy: 60\",\"Artist: PLAYAMANE,Nateki<br>Song: MIDNIGHT<br>Dance: 63<br>Energy: 43<br>Happy: 37\",\"Artist: Taylor Dayne<br>Song: Tell It to My Heart<br>Dance: 64<br>Energy: 99<br>Happy: 72\",\"Artist: d4vd<br>Song: Here With Me<br>Dance: 57<br>Energy: 47<br>Happy: 29\",\"Artist: d4vd<br>Song: Romantic Homicide<br>Dance: 57<br>Energy: 54<br>Happy: 22\",\"Artist: Joji<br>Song: SLOW DANCING IN THE DARK<br>Dance: 52<br>Energy: 48<br>Happy: 28\",\"Artist: Joji<br>Song: YEAH RIGHT<br>Dance: 67<br>Energy: 59<br>Happy: 20\",\"Artist: KAWALA<br>Song: Moonlight<br>Dance: 63<br>Energy: 64<br>Happy: 64\",\"Artist: Thundercat<br>Song: Dragonball Durag<br>Dance: 65<br>Energy: 59<br>Happy: 40\",\"Artist: Grouplove<br>Song: Tongue Tied<br>Dance: 56<br>Energy: 94<br>Happy: 37\",\"Artist: KAWALA<br>Song: Ticket To Ride<br>Dance: 59<br>Energy: 80<br>Happy: 75\",\"Artist: Black Eyed Peas<br>Song: Meet Me Halfway<br>Dance: 80<br>Energy: 63<br>Happy: 40\",\"Artist: Black Eyed Peas<br>Song: I Gotta Feeling<br>Dance: 74<br>Energy: 77<br>Happy: 61\",\"Artist: Black Eyed Peas<br>Song: Hey Mama<br>Dance: 87<br>Energy: 88<br>Happy: 94\",\"Artist: Black Eyed Peas<br>Song: Where Is The Love?<br>Dance: 83<br>Energy: 70<br>Happy: 81\",\"Artist: Black Eyed Peas<br>Song: Let's Get It Started - Spike Mix<br>Dance: 78<br>Energy: 79<br>Happy: 81\",\"Artist: Modjo<br>Song: Lady - Hear Me Tonight<br>Dance: 72<br>Energy: 81<br>Happy: 87\",\"Artist: Gym Class Heroes<br>Song: Cupid's Chokehold / Breakfast in America - Radio Mix<br>Dance: 58<br>Energy: 68<br>Happy: 82\",\"Artist: Nelly Furtado,Timbaland<br>Song: Promiscuous<br>Dance: 81<br>Energy: 97<br>Happy: 87\",\"Artist: Black Eyed Peas<br>Song: Shut Up<br>Dance: 81<br>Energy: 72<br>Happy: 58\",\"Artist: Rema<br>Song: Dumebi<br>Dance: 92<br>Energy: 66<br>Happy: 73\",\"Artist: Claire Laffut<br>Song: V\\u00e9rit\\u00e9<br>Dance: 74<br>Energy: 53<br>Happy: 54\",\"Artist: Ayra Starr<br>Song: Bloody Samaritan<br>Dance: 80<br>Energy: 72<br>Happy: 24\",\"Artist: Prince<br>Song: Kiss<br>Dance: 90<br>Energy: 27<br>Happy: 74\",\"Artist: Vacationer<br>Song: Paradise Waiting<br>Dance: 77<br>Energy: 55<br>Happy: 85\",\"Artist: Vacationer<br>Song: Magnetism<br>Dance: 76<br>Energy: 80<br>Happy: 88\",\"Artist: Rob Araujo<br>Song: no, regrets<br>Dance: 80<br>Energy: 34<br>Happy: 60\",\"Artist: Amber Mark<br>Song: Lose My Cool<br>Dance: 72<br>Energy: 48<br>Happy: 32\",\"Artist: Smash Mouth<br>Song: All Star<br>Dance: 74<br>Energy: 88<br>Happy: 80\",\"Artist: Los Retros<br>Song: Friends<br>Dance: 83<br>Energy: 69<br>Happy: 96\",\"Artist: Anomalie<br>Song: Bond<br>Dance: 68<br>Energy: 54<br>Happy: 36\",\"Artist: Anomalie<br>Song: Velours<br>Dance: 54<br>Energy: 47<br>Happy: 45\"],\"marker\":{\"color\":[64,63,34,53,47,59,69,57,30,51,4,88,35,80,69,34,97,49,51,44,56,59,78,53,78,39,46,47,55,63,23,54,91,60,58,64,55,52,69,50,35,68,69,83,8,75,47,70,13,62,37,74,43,34,85,37,23,75,83,67,82,51,46,44,68,54,84,88,46,36,54,92,68,65,46,77,22,68,61,17,87,79,59,97,61,65,37,36,38,34,10,50,51,34,83,33,73,13,49,79,51,35,28,83,67,53,44,52,35,63,39,67,69,76,89,34,69,61,41,64,68,64,86,43,8,34,23,63,73,54,72,56,37,49,67,39,43,37,78,78,71,71,46,66,32,20,29,70,70,71,62,93,86,79,79,88,57,45,43,96,50,66,50,75,68,49,53,75,70,39,48,25,83,73,52,13,87,37,41,53,33,84,45,81,64,65,65,66,47,94,83,41,70,25,84,61,57,78,46,86,69,56,43,29,64,26,54,49,48,79,39,40,90,97,31,37,54,95,53,73,48,39,54,53,91,51,49,53,17,27,71,65,81,36,30,74,26,52,48,71,31,67,25,92,62,96,45,22,41,86,22,85,73,40,74,53,50,41,60,34,39,93,93,80,34,77,32,84,58,63,87,54,16,44,32,32,19,47,93,14,94,79,51,56,66,86,36,87,85,24,97,27,32,18,69,55,40,71,58,50,23,95,47,96,76,7,79,51,18,35,57,59,20,59,26,87,67,54,33,53,54,89,51,44,48,32,69,30,74,71,72,45,64,93,78,62,64,90,77,66,87,79,66,50,82,24,69,84,74,51,51,90,55,59,41,83,45,78,56,58,66,57,86,70,56,85,55,98,82,69,49,39,55,42,49,45,53,56,66,32,77,73,96,16,27,57,35,54,24,34,20,54,53,84,85,72,79,61,83,39,50,83,4,48,21,97,74,19,66,56,51,67,58,22,70,38,72,67,51,54,68,53,20,72,14,66,79,96,38,71,34,93,7,21,48,53,94,73,27,36,17,24,30,32,45,64,79,16,38,79,54,60,83,61,32,49,43,79,74,50,41,35,68,84,73,10,54,76,45,60,65,72,29,69,88,55,49,42,20,71,44,36,49,63,51,57,34,39,96,9,22,17,59,60,18,72,20,33,74,31,74,56,54,67,65,16,65,14,49,42,63,26,32,29,41,22,5,54,63,41,81,33,29,51,22,78,5,74,39,57,37,76,67,9,47,70,61,83,83,51,59,18,80,72,54,61,51,87,70,80,87,41,43,43,50,37,80,82,43,17,21,44,33,95,76,83,71,42,52,56,65,74,44,33,90,39,24,41,63,35,70,45,26,59,70,30,69,89,59,37,23,35,30,52,75,60,41,39,96,48,60,41,35,82,67,4,76,12,65,59,60,68,59,57,66,30,31,41,34,81,35,8,32,68,39,69,50,28,57,52,55,28,60,56,78,38,56,20,29,92,71,65,76,61,60,37,72,29,22,28,20,64,40,37,75,40,61,94,81,81,87,82,87,58,73,54,24,74,85,88,60,32,80,96,36,45],\"colorbar\":{\"title\":{\"text\":\"Happy\"}},\"colorscale\":[[0.0,\"rgb(209, 238, 234)\"],[0.16666666666666666,\"rgb(168, 219, 217)\"],[0.3333333333333333,\"rgb(133, 196, 201)\"],[0.5,\"rgb(104, 171, 184)\"],[0.6666666666666666,\"rgb(79, 144, 166)\"],[0.8333333333333334,\"rgb(59, 115, 143)\"],[1.0,\"rgb(42, 86, 116)\"]],\"line\":{\"width\":1},\"showscale\":true,\"size\":10},\"mode\":\"markers\",\"x\":[80,86,79,64,75,90,75,66,58,65,79,78,78,51,85,55,84,83,94,73,64,79,56,67,79,75,81,71,64,82,80,69,81,89,79,58,65,64,85,76,64,79,83,84,83,79,75,80,79,77,43,53,42,29,84,68,39,91,81,66,80,68,62,61,78,63,71,80,79,81,82,75,84,73,84,72,52,56,61,51,61,61,66,63,70,80,75,53,57,83,87,56,69,67,54,79,93,80,50,93,74,81,66,75,62,80,84,47,93,84,40,80,68,64,58,68,46,52,66,57,66,64,92,82,59,52,78,88,77,75,71,60,60,54,79,90,84,50,58,70,67,68,54,48,71,54,50,56,54,90,79,77,51,84,73,70,80,86,72,59,74,67,89,64,73,38,89,88,85,67,56,20,80,58,32,88,61,58,24,56,59,65,69,83,80,82,54,85,46,68,51,35,80,59,86,39,61,66,45,53,72,85,59,18,51,64,51,68,55,48,20,36,64,84,80,61,47,75,78,68,62,45,62,60,77,64,58,64,21,20,75,63,53,63,50,53,49,54,55,70,68,63,70,70,76,82,67,49,51,69,80,81,77,73,79,82,30,26,60,62,69,77,80,86,82,68,92,74,79,72,65,62,65,61,41,57,38,75,82,79,74,64,74,57,42,70,77,80,66,71,86,56,60,85,65,69,94,87,73,59,55,84,90,67,75,40,79,61,44,55,96,72,58,83,75,88,60,68,33,75,69,69,81,72,66,55,88,80,81,87,77,86,56,82,69,50,82,83,66,25,53,89,51,71,76,60,87,92,65,66,80,75,63,71,79,77,50,60,68,80,36,58,74,77,92,67,65,70,79,89,83,69,69,48,79,80,73,71,65,56,79,83,85,56,70,77,78,83,71,41,27,74,47,74,65,40,78,66,77,81,52,84,23,59,72,76,66,25,73,78,89,66,60,30,24,66,54,42,82,69,76,76,72,81,82,90,53,79,95,76,51,74,43,79,88,32,89,77,77,82,81,77,79,62,82,59,62,20,54,81,79,80,69,82,66,51,39,56,80,47,35,67,82,75,64,17,68,98,52,51,82,48,48,72,52,71,76,69,78,69,43,18,33,79,62,74,80,77,77,48,41,36,44,40,23,50,52,67,70,21,57,43,80,68,87,67,55,87,57,92,74,35,36,43,35,20,65,83,77,66,80,78,21,79,53,45,53,38,67,55,75,69,81,60,53,69,87,88,67,72,82,61,43,55,75,65,51,73,88,58,83,38,86,75,34,77,59,67,27,80,79,70,37,79,80,82,81,77,44,64,67,64,71,49,91,53,47,41,78,60,72,60,19,50,62,59,55,67,51,62,46,63,53,68,53,76,73,73,76,47,66,38,23,66,89,59,75,46,84,69,79,79,83,85,69,62,31,57,51,54,48,42,61,58,80,85,57,51,67,69,36,72,58,69,84,66,72,42,90,92,69,63,53,74,47,63,64,57,57,52,67,63,65,56,59,80,74,87,83,78,72,58,81,81,92,74,80,90,77,76,80,72,74,83,68,54],\"y\":[58,66,70,52,84,46,78,81,71,63,47,44,38,97,67,67,67,77,67,63,70,86,74,62,96,70,88,63,66,74,69,41,98,60,62,77,65,91,77,71,45,89,93,64,60,92,68,86,84,91,85,94,94,99,33,79,59,60,84,67,51,61,60,69,56,70,69,69,50,46,91,67,90,64,36,90,59,94,95,50,96,91,74,91,70,33,62,59,80,42,67,87,55,43,51,37,76,59,62,52,80,84,63,24,54,64,48,93,44,56,74,50,58,93,89,70,90,87,61,96,87,91,72,52,62,27,55,52,54,64,59,46,65,62,69,66,73,69,57,55,77,63,71,73,47,62,50,85,71,54,76,78,66,43,70,73,61,53,43,61,80,48,41,66,74,99,48,69,69,49,84,40,50,96,79,45,86,67,93,57,77,76,47,62,63,87,31,51,43,90,70,88,71,39,63,96,66,79,90,32,93,69,75,91,84,36,73,66,93,43,98,97,63,83,57,82,75,90,32,77,60,72,77,90,51,64,93,89,94,67,50,78,89,70,73,82,50,91,50,44,22,41,47,52,51,46,35,41,60,89,62,75,72,75,74,81,58,92,74,77,85,75,78,58,26,85,48,65,55,78,74,54,45,61,51,71,22,63,58,95,69,74,71,38,88,73,26,93,78,73,78,27,41,39,73,68,29,47,76,73,32,51,49,75,91,92,45,78,61,57,37,48,54,44,43,71,59,74,97,56,66,71,70,68,44,53,44,68,64,66,84,61,69,89,65,83,80,66,61,84,82,58,95,84,47,44,40,56,72,76,57,63,60,71,46,63,43,78,84,59,94,79,70,61,34,71,98,83,48,68,54,74,64,47,62,74,62,55,39,67,38,77,50,24,43,49,49,42,81,85,95,51,49,74,54,52,61,71,78,47,72,63,20,75,62,80,62,82,72,95,38,79,57,40,80,49,95,79,61,76,68,73,85,69,92,68,63,43,31,84,97,84,20,74,28,95,69,80,73,56,79,60,91,24,82,61,92,87,91,84,27,66,42,68,79,76,57,50,55,84,94,37,44,61,58,76,57,41,83,77,82,83,69,48,83,38,62,60,85,90,79,88,89,53,46,80,72,84,79,53,89,96,91,90,98,88,56,49,69,94,53,82,69,50,53,32,47,33,79,39,64,96,91,83,98,97,16,71,82,69,79,82,70,75,98,44,41,64,74,82,34,72,66,49,99,49,33,61,24,78,84,83,81,82,72,70,74,70,76,80,43,64,60,47,74,38,92,73,82,73,87,60,45,58,78,48,59,55,47,60,82,71,74,43,56,69,40,47,55,65,67,92,95,81,59,53,75,74,97,34,47,42,14,63,80,28,17,53,76,54,94,85,94,91,82,60,72,49,57,87,54,83,57,50,56,80,88,77,50,81,21,64,73,91,72,69,77,82,81,73,94,73,65,79,56,68,60,87,47,94,59,39,73,81,77,43,99,47,54,48,59,64,59,94,80,63,77,88,70,79,81,68,97,72,66,53,72,27,55,80,34,48,88,69,54,47],\"type\":\"scatter\"}],                        {\"annotations\":[{\"font\":{\"color\":\"black\",\"family\":\"Balto\",\"size\":30},\"showarrow\":false,\"text\":\"Happy Quadrant\",\"x\":93.1,\"y\":99}],\"shapes\":[{\"fillcolor\":\"rgba(250, 220, 60, 0.1)\",\"line\":{\"color\":\"#0b5685\",\"width\":2},\"opacity\":0.5,\"type\":\"rect\",\"x0\":49.0,\"x1\":101,\"xref\":\"x\",\"y0\":49.5,\"y1\":104,\"yref\":\"y\"}],\"template\":{\"data\":{\"histogram2dcontour\":[{\"type\":\"histogram2dcontour\",\"colorbar\":{\"outlinewidth\":0,\"ticks\":\"\"},\"colorscale\":[[0.0,\"#0d0887\"],[0.1111111111111111,\"#46039f\"],[0.2222222222222222,\"#7201a8\"],[0.3333333333333333,\"#9c179e\"],[0.4444444444444444,\"#bd3786\"],[0.5555555555555556,\"#d8576b\"],[0.6666666666666666,\"#ed7953\"],[0.7777777777777778,\"#fb9f3a\"],[0.8888888888888888,\"#fdca26\"],[1.0,\"#f0f921\"]]}],\"choropleth\":[{\"type\":\"choropleth\",\"colorbar\":{\"outlinewidth\":0,\"ticks\":\"\"}}],\"histogram2d\":[{\"type\":\"histogram2d\",\"colorbar\":{\"outlinewidth\":0,\"ticks\":\"\"},\"colorscale\":[[0.0,\"#0d0887\"],[0.1111111111111111,\"#46039f\"],[0.2222222222222222,\"#7201a8\"],[0.3333333333333333,\"#9c179e\"],[0.4444444444444444,\"#bd3786\"],[0.5555555555555556,\"#d8576b\"],[0.6666666666666666,\"#ed7953\"],[0.7777777777777778,\"#fb9f3a\"],[0.8888888888888888,\"#fdca26\"],[1.0,\"#f0f921\"]]}],\"heatmap\":[{\"type\":\"heatmap\",\"colorbar\":{\"outlinewidth\":0,\"ticks\":\"\"},\"colorscale\":[[0.0,\"#0d0887\"],[0.1111111111111111,\"#46039f\"],[0.2222222222222222,\"#7201a8\"],[0.3333333333333333,\"#9c179e\"],[0.4444444444444444,\"#bd3786\"],[0.5555555555555556,\"#d8576b\"],[0.6666666666666666,\"#ed7953\"],[0.7777777777777778,\"#fb9f3a\"],[0.8888888888888888,\"#fdca26\"],[1.0,\"#f0f921\"]]}],\"heatmapgl\":[{\"type\":\"heatmapgl\",\"colorbar\":{\"outlinewidth\":0,\"ticks\":\"\"},\"colorscale\":[[0.0,\"#0d0887\"],[0.1111111111111111,\"#46039f\"],[0.2222222222222222,\"#7201a8\"],[0.3333333333333333,\"#9c179e\"],[0.4444444444444444,\"#bd3786\"],[0.5555555555555556,\"#d8576b\"],[0.6666666666666666,\"#ed7953\"],[0.7777777777777778,\"#fb9f3a\"],[0.8888888888888888,\"#fdca26\"],[1.0,\"#f0f921\"]]}],\"contourcarpet\":[{\"type\":\"contourcarpet\",\"colorbar\":{\"outlinewidth\":0,\"ticks\":\"\"}}],\"contour\":[{\"type\":\"contour\",\"colorbar\":{\"outlinewidth\":0,\"ticks\":\"\"},\"colorscale\":[[0.0,\"#0d0887\"],[0.1111111111111111,\"#46039f\"],[0.2222222222222222,\"#7201a8\"],[0.3333333333333333,\"#9c179e\"],[0.4444444444444444,\"#bd3786\"],[0.5555555555555556,\"#d8576b\"],[0.6666666666666666,\"#ed7953\"],[0.7777777777777778,\"#fb9f3a\"],[0.8888888888888888,\"#fdca26\"],[1.0,\"#f0f921\"]]}],\"surface\":[{\"type\":\"surface\",\"colorbar\":{\"outlinewidth\":0,\"ticks\":\"\"},\"colorscale\":[[0.0,\"#0d0887\"],[0.1111111111111111,\"#46039f\"],[0.2222222222222222,\"#7201a8\"],[0.3333333333333333,\"#9c179e\"],[0.4444444444444444,\"#bd3786\"],[0.5555555555555556,\"#d8576b\"],[0.6666666666666666,\"#ed7953\"],[0.7777777777777778,\"#fb9f3a\"],[0.8888888888888888,\"#fdca26\"],[1.0,\"#f0f921\"]]}],\"mesh3d\":[{\"type\":\"mesh3d\",\"colorbar\":{\"outlinewidth\":0,\"ticks\":\"\"}}],\"scatter\":[{\"fillpattern\":{\"fillmode\":\"overlay\",\"size\":10,\"solidity\":0.2},\"type\":\"scatter\"}],\"parcoords\":[{\"type\":\"parcoords\",\"line\":{\"colorbar\":{\"outlinewidth\":0,\"ticks\":\"\"}}}],\"scatterpolargl\":[{\"type\":\"scatterpolargl\",\"marker\":{\"colorbar\":{\"outlinewidth\":0,\"ticks\":\"\"}}}],\"bar\":[{\"error_x\":{\"color\":\"#2a3f5f\"},\"error_y\":{\"color\":\"#2a3f5f\"},\"marker\":{\"line\":{\"color\":\"#E5ECF6\",\"width\":0.5},\"pattern\":{\"fillmode\":\"overlay\",\"size\":10,\"solidity\":0.2}},\"type\":\"bar\"}],\"scattergeo\":[{\"type\":\"scattergeo\",\"marker\":{\"colorbar\":{\"outlinewidth\":0,\"ticks\":\"\"}}}],\"scatterpolar\":[{\"type\":\"scatterpolar\",\"marker\":{\"colorbar\":{\"outlinewidth\":0,\"ticks\":\"\"}}}],\"histogram\":[{\"marker\":{\"pattern\":{\"fillmode\":\"overlay\",\"size\":10,\"solidity\":0.2}},\"type\":\"histogram\"}],\"scattergl\":[{\"type\":\"scattergl\",\"marker\":{\"colorbar\":{\"outlinewidth\":0,\"ticks\":\"\"}}}],\"scatter3d\":[{\"type\":\"scatter3d\",\"line\":{\"colorbar\":{\"outlinewidth\":0,\"ticks\":\"\"}},\"marker\":{\"colorbar\":{\"outlinewidth\":0,\"ticks\":\"\"}}}],\"scattermapbox\":[{\"type\":\"scattermapbox\",\"marker\":{\"colorbar\":{\"outlinewidth\":0,\"ticks\":\"\"}}}],\"scatterternary\":[{\"type\":\"scatterternary\",\"marker\":{\"colorbar\":{\"outlinewidth\":0,\"ticks\":\"\"}}}],\"scattercarpet\":[{\"type\":\"scattercarpet\",\"marker\":{\"colorbar\":{\"outlinewidth\":0,\"ticks\":\"\"}}}],\"carpet\":[{\"aaxis\":{\"endlinecolor\":\"#2a3f5f\",\"gridcolor\":\"white\",\"linecolor\":\"white\",\"minorgridcolor\":\"white\",\"startlinecolor\":\"#2a3f5f\"},\"baxis\":{\"endlinecolor\":\"#2a3f5f\",\"gridcolor\":\"white\",\"linecolor\":\"white\",\"minorgridcolor\":\"white\",\"startlinecolor\":\"#2a3f5f\"},\"type\":\"carpet\"}],\"table\":[{\"cells\":{\"fill\":{\"color\":\"#EBF0F8\"},\"line\":{\"color\":\"white\"}},\"header\":{\"fill\":{\"color\":\"#C8D4E3\"},\"line\":{\"color\":\"white\"}},\"type\":\"table\"}],\"barpolar\":[{\"marker\":{\"line\":{\"color\":\"#E5ECF6\",\"width\":0.5},\"pattern\":{\"fillmode\":\"overlay\",\"size\":10,\"solidity\":0.2}},\"type\":\"barpolar\"}],\"pie\":[{\"automargin\":true,\"type\":\"pie\"}]},\"layout\":{\"autotypenumbers\":\"strict\",\"colorway\":[\"#636efa\",\"#EF553B\",\"#00cc96\",\"#ab63fa\",\"#FFA15A\",\"#19d3f3\",\"#FF6692\",\"#B6E880\",\"#FF97FF\",\"#FECB52\"],\"font\":{\"color\":\"#2a3f5f\"},\"hovermode\":\"closest\",\"hoverlabel\":{\"align\":\"left\"},\"paper_bgcolor\":\"white\",\"plot_bgcolor\":\"#E5ECF6\",\"polar\":{\"bgcolor\":\"#E5ECF6\",\"angularaxis\":{\"gridcolor\":\"white\",\"linecolor\":\"white\",\"ticks\":\"\"},\"radialaxis\":{\"gridcolor\":\"white\",\"linecolor\":\"white\",\"ticks\":\"\"}},\"ternary\":{\"bgcolor\":\"#E5ECF6\",\"aaxis\":{\"gridcolor\":\"white\",\"linecolor\":\"white\",\"ticks\":\"\"},\"baxis\":{\"gridcolor\":\"white\",\"linecolor\":\"white\",\"ticks\":\"\"},\"caxis\":{\"gridcolor\":\"white\",\"linecolor\":\"white\",\"ticks\":\"\"}},\"coloraxis\":{\"colorbar\":{\"outlinewidth\":0,\"ticks\":\"\"}},\"colorscale\":{\"sequential\":[[0.0,\"#0d0887\"],[0.1111111111111111,\"#46039f\"],[0.2222222222222222,\"#7201a8\"],[0.3333333333333333,\"#9c179e\"],[0.4444444444444444,\"#bd3786\"],[0.5555555555555556,\"#d8576b\"],[0.6666666666666666,\"#ed7953\"],[0.7777777777777778,\"#fb9f3a\"],[0.8888888888888888,\"#fdca26\"],[1.0,\"#f0f921\"]],\"sequentialminus\":[[0.0,\"#0d0887\"],[0.1111111111111111,\"#46039f\"],[0.2222222222222222,\"#7201a8\"],[0.3333333333333333,\"#9c179e\"],[0.4444444444444444,\"#bd3786\"],[0.5555555555555556,\"#d8576b\"],[0.6666666666666666,\"#ed7953\"],[0.7777777777777778,\"#fb9f3a\"],[0.8888888888888888,\"#fdca26\"],[1.0,\"#f0f921\"]],\"diverging\":[[0,\"#8e0152\"],[0.1,\"#c51b7d\"],[0.2,\"#de77ae\"],[0.3,\"#f1b6da\"],[0.4,\"#fde0ef\"],[0.5,\"#f7f7f7\"],[0.6,\"#e6f5d0\"],[0.7,\"#b8e186\"],[0.8,\"#7fbc41\"],[0.9,\"#4d9221\"],[1,\"#276419\"]]},\"xaxis\":{\"gridcolor\":\"white\",\"linecolor\":\"white\",\"ticks\":\"\",\"title\":{\"standoff\":15},\"zerolinecolor\":\"white\",\"automargin\":true,\"zerolinewidth\":2},\"yaxis\":{\"gridcolor\":\"white\",\"linecolor\":\"white\",\"ticks\":\"\",\"title\":{\"standoff\":15},\"zerolinecolor\":\"white\",\"automargin\":true,\"zerolinewidth\":2},\"scene\":{\"xaxis\":{\"backgroundcolor\":\"#E5ECF6\",\"gridcolor\":\"white\",\"linecolor\":\"white\",\"showbackground\":true,\"ticks\":\"\",\"zerolinecolor\":\"white\",\"gridwidth\":2},\"yaxis\":{\"backgroundcolor\":\"#E5ECF6\",\"gridcolor\":\"white\",\"linecolor\":\"white\",\"showbackground\":true,\"ticks\":\"\",\"zerolinecolor\":\"white\",\"gridwidth\":2},\"zaxis\":{\"backgroundcolor\":\"#E5ECF6\",\"gridcolor\":\"white\",\"linecolor\":\"white\",\"showbackground\":true,\"ticks\":\"\",\"zerolinecolor\":\"white\",\"gridwidth\":2}},\"shapedefaults\":{\"line\":{\"color\":\"#2a3f5f\"}},\"annotationdefaults\":{\"arrowcolor\":\"#2a3f5f\",\"arrowhead\":0,\"arrowwidth\":1},\"geo\":{\"bgcolor\":\"white\",\"landcolor\":\"#E5ECF6\",\"subunitcolor\":\"white\",\"showland\":true,\"showlakes\":true,\"lakecolor\":\"white\"},\"title\":{\"x\":0.05},\"mapbox\":{\"style\":\"light\"}}},\"title\":{\"text\":\"Energy vs Dance vs Happiness Distribution\",\"x\":0.5},\"margin\":{\"l\":100,\"r\":150,\"t\":80,\"b\":20},\"yaxis\":{\"title\":{\"text\":\"Energy\"}},\"xaxis\":{\"title\":{\"text\":\"Dance\"}},\"plot_bgcolor\":\"#edf5fa\",\"paper_bgcolor\":\"LightSteelBlue\",\"height\":600},                        {\"responsive\": true}                    ).then(function(){\n",
       "                            \n",
       "var gd = document.getElementById('a52b8583-415f-41eb-92f3-2cd19a836571');\n",
       "var x = new MutationObserver(function (mutations, observer) {{\n",
       "        var display = window.getComputedStyle(gd).display;\n",
       "        if (!display || display === 'none') {{\n",
       "            console.log([gd, 'removed!']);\n",
       "            Plotly.purge(gd);\n",
       "            observer.disconnect();\n",
       "        }}\n",
       "}});\n",
       "\n",
       "// Listen for the removal of the full notebook cells\n",
       "var notebookContainer = gd.closest('#notebook-container');\n",
       "if (notebookContainer) {{\n",
       "    x.observe(notebookContainer, {childList: true});\n",
       "}}\n",
       "\n",
       "// Listen for the clearing of the current output cell\n",
       "var outputEl = gd.closest('.output');\n",
       "if (outputEl) {{\n",
       "    x.observe(outputEl, {childList: true});\n",
       "}}\n",
       "\n",
       "                        })                };                });            </script>        </div>"
      ]
     },
     "metadata": {},
     "output_type": "display_data"
    }
   ],
   "source": [
    "scatter = go.Scatter(\n",
    "    x=playlist.Dance,\n",
    "    y=playlist.Energy,\n",
    "    mode='markers',\n",
    "    marker_color=playlist.Happy,\n",
    "    marker=dict(\n",
    "        colorscale='teal',\n",
    "        showscale=True,\n",
    "        line_width=1,\n",
    "        size=10,\n",
    "        colorbar={'title': 'Happy'}\n",
    "    ),\n",
    "    hovertext=['Artist: {}<br>Song: {}<br>Dance: {}<br>Energy: {}<br>Happy: {}'\\\n",
    "               .format(a, s, d, e, h)\\\n",
    "                for a ,s, d, e, h in zip(playlist.Artist, playlist.Song, playlist.Dance, playlist.Energy, playlist.Happy)],\n",
    ")\n",
    "\n",
    "rect = {\n",
    "    'type': 'rect',\n",
    "    'xref': 'x',\n",
    "    'yref': 'y',\n",
    "    'x0': playlist.Dance.max()/2,\n",
    "    'y0': playlist.Energy.max()/2,\n",
    "    'x1': playlist.Dance.max()+3,\n",
    "    'y1': playlist.Energy.max()+5,\n",
    "    'line': {'color': '#0b5685', 'width': 2},\n",
    "    'opacity': 0.5,\n",
    "    'fillcolor': 'rgba(250, 220, 60, 0.1)',\n",
    "}\n",
    "\n",
    "text = {\n",
    "    'x': playlist.Dance.max() * 0.95,\n",
    "    'y': playlist.Energy.max(),\n",
    "    'text':  'Happy Quadrant',\n",
    "    'showarrow': False,\n",
    "    'font': {\n",
    "        'size': 30,\n",
    "        'color': 'black',\n",
    "        'family': 'Balto',\n",
    "    }\n",
    "}\n",
    "\n",
    "layout = go.Layout(shapes=[rect], annotations=[text])\n",
    "\n",
    "fig = go.Figure(data=[scatter], layout=layout)\n",
    "\n",
    "fig.update_layout(\n",
    "                  title_text=\"Energy vs Dance vs Happiness Distribution\",title_x=0.5,\n",
    "                  yaxis_title='Energy',\n",
    "                  xaxis_title='Dance',\n",
    "                  plot_bgcolor=\"#edf5fa\",\n",
    "                  paper_bgcolor=\"LightSteelBlue\",\n",
    "                  height=600,\n",
    "                  margin=dict(l=100, r=150, t=80, b=20)\n",
    "                )\n",
    "fig.show()\n"
   ]
  },
  {
   "cell_type": "code",
   "execution_count": 82,
   "metadata": {},
   "outputs": [
    {
     "data": {
      "text/html": [
       "<div>\n",
       "<style scoped>\n",
       "    .dataframe tbody tr th:only-of-type {\n",
       "        vertical-align: middle;\n",
       "    }\n",
       "\n",
       "    .dataframe tbody tr th {\n",
       "        vertical-align: top;\n",
       "    }\n",
       "\n",
       "    .dataframe thead th {\n",
       "        text-align: right;\n",
       "    }\n",
       "</style>\n",
       "<table border=\"1\" class=\"dataframe\">\n",
       "  <thead>\n",
       "    <tr style=\"text-align: right;\">\n",
       "      <th></th>\n",
       "      <th>Song</th>\n",
       "      <th>Artist</th>\n",
       "      <th>Energy</th>\n",
       "      <th>Dance</th>\n",
       "      <th>Happy</th>\n",
       "    </tr>\n",
       "  </thead>\n",
       "  <tbody>\n",
       "    <tr>\n",
       "      <th>264</th>\n",
       "      <td>Cristal (feat. BxRod)</td>\n",
       "      <td>Cráneo,Made in M,BxRod</td>\n",
       "      <td>26</td>\n",
       "      <td>82</td>\n",
       "      <td>34</td>\n",
       "    </tr>\n",
       "    <tr>\n",
       "      <th>296</th>\n",
       "      <td>No! No! No! No!</td>\n",
       "      <td>Axel Boman</td>\n",
       "      <td>29</td>\n",
       "      <td>94</td>\n",
       "      <td>40</td>\n",
       "    </tr>\n",
       "    <tr>\n",
       "      <th>434</th>\n",
       "      <td>Tears - Original Mix</td>\n",
       "      <td>HNNY</td>\n",
       "      <td>28</td>\n",
       "      <td>88</td>\n",
       "      <td>48</td>\n",
       "    </tr>\n",
       "    <tr>\n",
       "      <th>667</th>\n",
       "      <td>Kiss</td>\n",
       "      <td>Prince</td>\n",
       "      <td>27</td>\n",
       "      <td>90</td>\n",
       "      <td>74</td>\n",
       "    </tr>\n",
       "  </tbody>\n",
       "</table>\n",
       "</div>"
      ],
      "text/plain": [
       "                      Song                  Artist  Energy  Dance  Happy\n",
       "264  Cristal (feat. BxRod)  Cráneo,Made in M,BxRod      26     82     34\n",
       "296        No! No! No! No!              Axel Boman      29     94     40\n",
       "434   Tears - Original Mix                    HNNY      28     88     48\n",
       "667                   Kiss                  Prince      27     90     74"
      ]
     },
     "execution_count": 82,
     "metadata": {},
     "output_type": "execute_result"
    }
   ],
   "source": [
    "playlist\\\n",
    "    [(playlist.Energy < 30) & (playlist.Dance > 80)]\\\n",
    "    [['Song','Artist','Energy','Dance','Happy']]"
   ]
  },
  {
   "attachments": {},
   "cell_type": "markdown",
   "metadata": {},
   "source": [
    "### Energy Dance Happy Summary\n",
    "\n",
    "Looking at the plot, you can see that most happy tracks have higher value of dance & energy. It only makes sense that they are all directly related since it'll be hard to dance being sad and without energy. \n",
    "\n",
    "However, there are a few tracks that have low energy & low happy score but high danceability. And I love these tracks. They are musically very pleasing. These are dance music tracks that uses gloomy instruments & chords that has that very underground vibe. They're also signed to record labels that are pretty underground and pretty unique.\n",
    "\n",
    "Examples:\n",
    "\n",
    "[Axel Boman - No! No! No! No!](https://youtu.be/SaMGBT_Y_fw?t=82) - Swedish artist Axel Boman, he's an underground legend.\n",
    "\n",
    "[HNNY - Tears](https://youtu.be/PYQngi1wU4U?t=66) - HNNY, another Swedish artist, another legend."
   ]
  },
  {
   "attachments": {},
   "cell_type": "markdown",
   "metadata": {},
   "source": [
    "## Summary\n",
    "\n",
    "That concludes my analysis of my Spotify playlist. I hope you enjoyed the visualizations as well as the music from my playlist. Feel free to use the code in here for your own projects as well. Thanks."
   ]
  },
  {
   "attachments": {},
   "cell_type": "markdown",
   "metadata": {},
   "source": [
    "### How to replicate this project\n",
    "\n",
    "* Generate & download the csv of your playlist using the [Chosic Spotify Playlist Analyzer](https://www.chosic.com/spotify-playlist-analyzer/)\n",
    "* Download the [playlist artist location](https://github.com/dekaghub/Data-Projects-Deka/raw/main/Python%20Notebooks/Playlist_Artist_Location.ipynb) notebook\n",
    "* Load your playlist csv to both the Playlist Analysis & Artist Location notebooks\n",
    "* Run all cells and have fun tinkering with the analysis"
   ]
  }
 ],
 "metadata": {
  "kernelspec": {
   "display_name": "Python 3",
   "language": "python",
   "name": "python3"
  },
  "language_info": {
   "codemirror_mode": {
    "name": "ipython",
    "version": 3
   },
   "file_extension": ".py",
   "mimetype": "text/x-python",
   "name": "python",
   "nbconvert_exporter": "python",
   "pygments_lexer": "ipython3",
   "version": "3.8.0"
  },
  "orig_nbformat": 4,
  "vscode": {
   "interpreter": {
    "hash": "b081a66ee97bd2b6a16f43955f1d810b7ea816d6eaeb65e157ef9e038445f0c6"
   }
  }
 },
 "nbformat": 4,
 "nbformat_minor": 2
}
